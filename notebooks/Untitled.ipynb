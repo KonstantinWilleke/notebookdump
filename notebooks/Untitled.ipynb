{
 "cells": [
  {
   "cell_type": "code",
   "execution_count": 1,
   "id": "d72cf958-5a57-4710-a9bc-b922a7a48b59",
   "metadata": {},
   "outputs": [],
   "source": [
    "import torch"
   ]
  },
  {
   "cell_type": "code",
   "execution_count": 28,
   "id": "92a50912-54f3-48c5-9614-8b7952c8eb3d",
   "metadata": {},
   "outputs": [
    {
     "data": {
      "text/plain": [
       "8192"
      ]
     },
     "execution_count": 28,
     "metadata": {},
     "output_type": "execute_result"
    }
   ],
   "source": [
    "256*32"
   ]
  },
  {
   "cell_type": "code",
   "execution_count": 31,
   "id": "c7b9a7fb-f844-4f77-a3a4-aff971b58a5b",
   "metadata": {},
   "outputs": [
    {
     "data": {
      "text/plain": [
       "0.8388608"
      ]
     },
     "execution_count": 31,
     "metadata": {},
     "output_type": "execute_result"
    }
   ],
   "source": [
    "8*8192*100*256 / 1e9"
   ]
  },
  {
   "cell_type": "code",
   "execution_count": 47,
   "id": "3fe1b07a-653d-4e62-a16d-f89e2ed83dea",
   "metadata": {},
   "outputs": [],
   "source": [
    "r1 = torch.randn(8, 8192,100,256, dtype=torch.bfloat16).cuda()\n",
    "r2 = torch.randn(1,1,1, 256, dtype=torch.bfloat16).cuda()"
   ]
  },
  {
   "cell_type": "code",
   "execution_count": 50,
   "id": "af6fbf52-99dc-4388-b89e-2405afdd2d53",
   "metadata": {},
   "outputs": [
    {
     "data": {
      "text/plain": [
       "819200"
      ]
     },
     "execution_count": 50,
     "metadata": {},
     "output_type": "execute_result"
    }
   ],
   "source": [
    "8192*100"
   ]
  },
  {
   "cell_type": "code",
   "execution_count": null,
   "id": "9a33a9ca-5c79-4b54-9427-5ed11d750ccb",
   "metadata": {},
   "outputs": [],
   "source": []
  },
  {
   "cell_type": "code",
   "execution_count": 49,
   "id": "9a5f24c4-bfb7-489d-ad52-cfd7bb30b1e1",
   "metadata": {},
   "outputs": [
    {
     "name": "stdout",
     "output_type": "stream",
     "text": [
      "20.2 ms ± 43.8 μs per loop (mean ± std. dev. of 7 runs, 100 loops each)\n"
     ]
    }
   ],
   "source": [
    "%%timeit -n 100\n",
    "yo1 = r1[:, :, torch.randperm(100)];\n",
    "torch.mul(yo1,r2)"
   ]
  },
  {
   "cell_type": "code",
   "execution_count": 36,
   "id": "b15cfca7-38fb-4d9a-8513-e4bf7befd2bd",
   "metadata": {},
   "outputs": [],
   "source": [
    "@torch.compile\n",
    "def compiled_mul(x1, x2):\n",
    "    return torch.mul(x1,x2)"
   ]
  },
  {
   "cell_type": "code",
   "execution_count": null,
   "id": "5800c1f0-94dc-435b-a931-9a2f49ce53ea",
   "metadata": {},
   "outputs": [],
   "source": []
  },
  {
   "cell_type": "code",
   "execution_count": 41,
   "id": "43fbf22d-dae9-44f1-8b17-378bd77b77e9",
   "metadata": {},
   "outputs": [
    {
     "name": "stdout",
     "output_type": "stream",
     "text": [
      "9.87 ms ± 127 μs per loop (mean ± std. dev. of 7 runs, 25 loops each)\n"
     ]
    }
   ],
   "source": [
    "%%timeit -n 25\n",
    "yo1 = r1[:, :, torch.randperm(100)];\n",
    "compiled_mul(yo1,r2);"
   ]
  },
  {
   "cell_type": "code",
   "execution_count": null,
   "id": "d6a5cb6b-1264-435d-b052-cc6502851e81",
   "metadata": {},
   "outputs": [],
   "source": []
  }
 ],
 "metadata": {
  "kernelspec": {
   "display_name": "Python 3 (ipykernel)",
   "language": "python",
   "name": "python3"
  },
  "language_info": {
   "codemirror_mode": {
    "name": "ipython",
    "version": 3
   },
   "file_extension": ".py",
   "mimetype": "text/x-python",
   "name": "python",
   "nbconvert_exporter": "python",
   "pygments_lexer": "ipython3",
   "version": "3.10.12"
  }
 },
 "nbformat": 4,
 "nbformat_minor": 5
}
