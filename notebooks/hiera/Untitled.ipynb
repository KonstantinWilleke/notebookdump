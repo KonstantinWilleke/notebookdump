{
 "cells": [
  {
   "cell_type": "markdown",
   "id": "3d3f6a2b-b3a6-41f3-a99c-a09729d26c83",
   "metadata": {},
   "source": [
    "# parameters to try next"
   ]
  },
  {
   "cell_type": "code",
   "execution_count": null,
   "id": "6929d667-a993-43ec-ae79-25b9976dd8c9",
   "metadata": {},
   "outputs": [],
   "source": [
    "- softplus\n",
    "- layernorm\n",
    "- readout types\n",
    "- backbone\n",
    "- samling rate for videos?\n",
    "\n",
    "- adam >> adamw"
   ]
  }
 ],
 "metadata": {
  "kernelspec": {
   "display_name": "Python 3 (ipykernel)",
   "language": "python",
   "name": "python3"
  },
  "language_info": {
   "codemirror_mode": {
    "name": "ipython",
    "version": 3
   },
   "file_extension": ".py",
   "mimetype": "text/x-python",
   "name": "python",
   "nbconvert_exporter": "python",
   "pygments_lexer": "ipython3",
   "version": "3.10.12"
  }
 },
 "nbformat": 4,
 "nbformat_minor": 5
}
