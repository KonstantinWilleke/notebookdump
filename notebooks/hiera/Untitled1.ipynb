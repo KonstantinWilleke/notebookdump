{
 "cells": [
  {
   "cell_type": "code",
   "execution_count": 1,
   "id": "c664ca9a-0718-4c31-a32c-ebff8fbe4e6b",
   "metadata": {},
   "outputs": [
    {
     "data": {
      "text/plain": [
       "6666.666666666667"
      ]
     },
     "execution_count": 1,
     "metadata": {},
     "output_type": "execute_result"
    }
   ],
   "source": [
    "100_000 / 15"
   ]
  },
  {
   "cell_type": "code",
   "execution_count": null,
   "id": "cf26d359-62b2-4f78-8ccb-c27905bbc0de",
   "metadata": {},
   "outputs": [],
   "source": []
  }
 ],
 "metadata": {
  "kernelspec": {
   "display_name": "Python 3 (ipykernel)",
   "language": "python",
   "name": "python3"
  },
  "language_info": {
   "codemirror_mode": {
    "name": "ipython",
    "version": 3
   },
   "file_extension": ".py",
   "mimetype": "text/x-python",
   "name": "python",
   "nbconvert_exporter": "python",
   "pygments_lexer": "ipython3",
   "version": "3.10.12"
  }
 },
 "nbformat": 4,
 "nbformat_minor": 5
}
