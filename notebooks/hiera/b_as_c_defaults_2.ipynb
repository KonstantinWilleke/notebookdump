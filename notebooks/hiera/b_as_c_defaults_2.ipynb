{
 "cells": [
  {
   "cell_type": "code",
   "execution_count": 1,
   "id": "637b327b-4b4d-4ed9-9918-818e5825c2c9",
   "metadata": {},
   "outputs": [],
   "source": [
    "import os\n",
    "os.environ['CUDA_VISIBLE_DEVICES'] = '2'\n",
    "%matplotlib inline\n",
    "%load_ext autoreload\n",
    "%autoreload 2\n",
    "\n",
    "import numpy as np\n",
    "import matplotlib.pyplot as plt\n",
    "from os import path\n",
    "\n",
    "from torch import nn\n",
    "from torch.nn import functional as F\n",
    "from torch.nn.functional import scaled_dot_product_attention\n",
    "from torch.nn.attention import SDPBackend, sdpa_kernel\n",
    "from tqdm import tqdm\n",
    "from einops import rearrange\n",
    "from torch.optim import AdamW, Adam\n",
    "\n",
    "import torch\n",
    "from torch.utils.data import DataLoader\n",
    "from tqdm import tqdm\n",
    "from omegaconf import OmegaConf, open_dict\n",
    "from experanto.datasets import ChunkDataset, SimpleChunkedDataset\n",
    "from experanto.utils import LongCycler, MultiEpochsDataLoader"
   ]
  },
  {
   "cell_type": "code",
   "execution_count": 2,
   "id": "00ecf779-64e2-4c53-930c-4bc96109fa37",
   "metadata": {},
   "outputs": [],
   "source": [
    "# additional packages\n",
    "# pip install hiera-transformer\n",
    "# pip install -U pytorch_warmup"
   ]
  },
  {
   "cell_type": "markdown",
   "id": "6d4f5a3f-8720-4222-a63c-b3605b61c5e7",
   "metadata": {},
   "source": [
    "# Hyperparameters"
   ]
  },
  {
   "cell_type": "code",
   "execution_count": 3,
   "id": "4d8aa514-908e-4e00-af7a-06830084b132",
   "metadata": {},
   "outputs": [],
   "source": [
    "video_size = [36, 64]\n",
    "\n",
    "screen_chunk_size = 16\n",
    "screen_fs = 16\n",
    "chunk_size = 8\n",
    "\n",
    "behavior_as_channels = True\n",
    "replace_nans_with_means = True\n",
    "\n",
    "dim_head = 128\n",
    "num_heads = 1\n",
    "drop_path_rate = 0\n",
    "mlp_ratio=4"
   ]
  },
  {
   "cell_type": "markdown",
   "id": "72a43689-cdb6-4443-a57d-0a227fb65d45",
   "metadata": {},
   "source": [
    "### get dataloaders"
   ]
  },
  {
   "cell_type": "code",
   "execution_count": 4,
   "id": "72edb2a0-b392-40be-9e1a-054aacb4593d",
   "metadata": {},
   "outputs": [],
   "source": [
    "from experanto.dataloaders import get_multisession_dataloader\n",
    "\n",
    "from experanto.configs import DEFAULT_CONFIG as cfg\n",
    "paths = ['dynamic29513-3-5-Video-full',\n",
    "         'dynamic29514-2-9-Video-full',\n",
    "         'dynamic29755-2-8-Video-full',\n",
    "         'dynamic29647-19-8-Video-full',\n",
    "         'dynamic29156-11-10-Video-full',\n",
    "         'dynamic29623-4-9-Video-full',\n",
    "         'dynamic29515-10-12-Video-full',\n",
    "         'dynamic29234-6-9-Video-full',\n",
    "         'dynamic29712-5-9-Video-full',\n",
    "         'dynamic29228-2-10-Video-full'\n",
    "        ]\n",
    "full_paths = [path.join(\"/data/mouse_polly/\", f) for f in paths]"
   ]
  },
  {
   "cell_type": "code",
   "execution_count": 5,
   "id": "40f1c64c-31a4-4391-85ef-6f35d7085c3f",
   "metadata": {},
   "outputs": [
    {
     "name": "stderr",
     "output_type": "stream",
     "text": [
      "/usr/local/lib/python3.10/dist-packages/torchvision/transforms/v2/_deprecated.py:42: UserWarning: The transform `ToTensor()` is deprecated and will be removed in a future release. Instead, please use `v2.Compose([v2.ToImage(), v2.ToDtype(torch.float32, scale=True)])`.Output is equivalent up to float precision.\n",
      "  warnings.warn(\n"
     ]
    }
   ],
   "source": [
    "with open_dict(cfg):\n",
    "    cfg.dataset.add_behavior_as_channels = behavior_as_channels\n",
    "    cfg.dataset.replace_nans_with_means = replace_nans_with_means\n",
    "cfg.dataset.global_chunk_size = None\n",
    "cfg.dataset.global_sampling_rate = None\n",
    "\n",
    "cfg.dataset.modality_config.screen.chunk_size = screen_chunk_size\n",
    "cfg.dataset.modality_config.screen.sampling_rate = screen_fs\n",
    "cfg.dataset.modality_config.responses.chunk_size = chunk_size\n",
    "cfg.dataset.modality_config.responses.sampling_rate = 8\n",
    "cfg.dataset.modality_config.eye_tracker.chunk_size = screen_chunk_size\n",
    "cfg.dataset.modality_config.eye_tracker.sampling_rate = screen_fs\n",
    "cfg.dataset.modality_config.treadmill.chunk_size = screen_chunk_size\n",
    "cfg.dataset.modality_config.treadmill.sampling_rate = screen_fs\n",
    "\n",
    "cfg.dataset.modality_config.screen.sample_stride = 1\n",
    "cfg.dataset.modality_config.screen.include_blanks=True\n",
    "cfg.dataset.modality_config.screen.valid_condition = {\"tier\": \"train\"}\n",
    "cfg.dataset.modality_config.screen.transforms.Resize.size = video_size\n",
    "\n",
    "cfg.dataloader.num_workers=1\n",
    "cfg.dataloader.prefetch_factor=1\n",
    "cfg.dataloader.batch_size=16\n",
    "cfg.dataloader.pin_memory=True\n",
    "cfg.dataloader.shuffle=True\n",
    "\n",
    "train_dl = get_multisession_dataloader(full_paths, cfg)"
   ]
  },
  {
   "cell_type": "markdown",
   "id": "9d14b18d-346d-48c4-b12e-e7b8e0f28820",
   "metadata": {},
   "source": [
    "### get Hiera backbone"
   ]
  },
  {
   "cell_type": "code",
   "execution_count": 6,
   "id": "ecc0b8f9-b374-479f-b166-801bf9d22851",
   "metadata": {},
   "outputs": [
    {
     "name": "stderr",
     "output_type": "stream",
     "text": [
      "/usr/local/lib/python3.10/dist-packages/tqdm/auto.py:21: TqdmWarning: IProgress not found. Please update jupyter and ipywidgets. See https://ipywidgets.readthedocs.io/en/stable/user_install.html\n",
      "  from .autonotebook import tqdm as notebook_tqdm\n"
     ]
    },
    {
     "data": {
      "text/plain": [
       "torch.Size([8, 16, 9, 16, 192])"
      ]
     },
     "execution_count": 6,
     "metadata": {},
     "output_type": "execute_result"
    }
   ],
   "source": [
    "# pip install hiera-transformer\n",
    "from hiera import Hiera\n",
    "tiny_hiera = Hiera(input_size=(screen_chunk_size, video_size[0], video_size[1]),\n",
    "                     num_heads=1,\n",
    "                     embed_dim=96,\n",
    "                     stages=(1, 1,), # 4 transformer layers \n",
    "                     q_pool=1, \n",
    "                     in_chans=6,\n",
    "                     q_stride=(1, 1, 1,),\n",
    "                     mask_unit_size=(1, 8, 8),\n",
    "                     patch_kernel=(3, 9, 9),\n",
    "                     patch_stride=(1, 4, 4),\n",
    "                     patch_padding=(1, 3, 3),\n",
    "                     sep_pos_embed=True,\n",
    "                     drop_path_rate=drop_path_rate,\n",
    "                     mlp_ratio=4,)\n",
    "\n",
    "tiny_hiera = tiny_hiera.cuda().to(torch.float32);\n",
    "example_input = torch.ones(8,6,screen_chunk_size, 36,64).to(\"cuda\", torch.float32)\n",
    "out = tiny_hiera(example_input, return_intermediates=True);\n",
    "hiera_output = out[-1][-1]\n",
    "hiera_output.shape # (b, t, h, w, c): (8, 4, 9, 16, 192)\n"
   ]
  },
  {
   "cell_type": "markdown",
   "id": "700e892e-0e01-4fda-bec9-13179f415692",
   "metadata": {},
   "source": [
    "# Model definition"
   ]
  },
  {
   "cell_type": "code",
   "execution_count": 7,
   "id": "fbce1ed2-9c69-43e0-91c9-a35fc2e4b6c2",
   "metadata": {},
   "outputs": [],
   "source": [
    "class MouseHieraBase(nn.Module):\n",
    "    def __init__(self,\n",
    "                 backbone,\n",
    "                 dls,\n",
    "                 chunk_size,\n",
    "                 dim=192,\n",
    "                 dim_head=32,\n",
    "                 num_heads=4,\n",
    "                 mlp_ratio=4,):\n",
    "        super().__init__()\n",
    "        self.backbone=backbone\n",
    "        self.num_heads=num_heads\n",
    "        self.dim_head=dim_head\n",
    "        self.dim=dim\n",
    "        self.dim_q = dim_head*num_heads\n",
    "        self.wq = nn.Linear(self.dim_q, self.dim_q, bias=False)\n",
    "        self.wk = nn.Linear(dim, self.dim_q, bias=False)\n",
    "        self.wv = nn.Linear(dim, self.dim_q, bias=False)\n",
    "        self.wo = nn.Linear(self.dim_q, self.dim_q, bias=False)\n",
    "        \n",
    "        self.neuron_proj = nn.Linear(self.dim_q, chunk_size, bias=False)\n",
    "        \n",
    "        \n",
    "        self.kv_norm=torch.nn.RMSNorm(dim)\n",
    "        self.q_norm=torch.nn.RMSNorm(self.dim_q)\n",
    "        self.qkv_norm=torch.nn.RMSNorm(self.dim_q)\n",
    "        self.mlp = MLP(dim=self.dim_q, hidden_dim=int(self.dim_q * mlp_ratio))\n",
    "        self.readout = nn.ModuleDict()\n",
    "        self.activation = nn.Softplus(beta=0.1) # probably a much better activation than ELU+1\n",
    "        for k, v in dls.loaders.items():\n",
    "            n_neurons = next(iter(v))[\"responses\"].shape[-1]\n",
    "            self.readout[k] = IndexedLinearReadout(n_neurons, \n",
    "                                                   in_features=dim_head*num_heads,\n",
    "                                                   dim_head=dim_head, \n",
    "                                                   num_heads=num_heads, \n",
    "                                                  )\n",
    "        self.init_weights()\n",
    "\n",
    "    def forward(self, x, key):\n",
    "        x = self.backbone(x, return_intermediates=True)[-1][-1]\n",
    "        b, t, h, w, d = x.shape\n",
    "        x = self.kv_norm(x)\n",
    "        x = x.view(b, -1, d) # (B, t*h*w, D)\n",
    "        k, v = self.wk(x), self.wv(x)\n",
    "        q = self.q_norm(self.readout[key].query)\n",
    "        n = q.shape[1] # number of neurons\n",
    "        q = q.repeat(b, 1, 1) # repeat query for number of batches\n",
    "        q_attn = self.wq(q)\n",
    "        q_attn = q_attn.view(b, -1, self.num_heads, self.dim_head).transpose(1, 2)\n",
    "        k = k.view(b, -1, self.num_heads, self.dim_head).transpose(1, 2) # (B, H, S, D)\n",
    "        v = v.view(b, -1, self.num_heads, self.dim_head).transpose(1, 2) # (B, H, S, D)\n",
    "        with sdpa_kernel(SDPBackend.FLASH_ATTENTION):\n",
    "            o = F.scaled_dot_product_attention(q_attn, k, v)\n",
    "        # (B, H, S, D) -> (B, N, D), with N = num_neurons\n",
    "        o = o.transpose(1,2).contiguous().view(b, -1, self.dim_q)\n",
    "        o = self.wo(o) + q\n",
    "        o = self.qkv_norm(o)  \n",
    "        o = self.mlp(o) + o\n",
    "        o = self.neuron_proj(o) # (B, N, D) -> (B, N, t)\n",
    "        o = o + self.readout[key].bias\n",
    "        o = self.activation(o)\n",
    "        return o\n",
    "     \n",
    "    def init_weights(self, std=.5, cutoff_factor: int = 3):\n",
    "        \"\"\"See `TorchTitan <https://github.com/pytorch/torchtitan/blob/40a10263c5b3468ffa53b3ac98d80c9267d68155/torchtitan/models/llama/model.py#L403>`__.\"\"\"\n",
    "        std = self.dim_q**-0.5\n",
    "        for lin in (self.wq, self.wk, self.wv, self.wo):\n",
    "            nn.init.trunc_normal_(\n",
    "                lin.weight,\n",
    "                mean=0.0,\n",
    "                std=std,\n",
    "                a=-cutoff_factor * std,\n",
    "                b=cutoff_factor * std,\n",
    "            )"
   ]
  },
  {
   "cell_type": "code",
   "execution_count": 8,
   "id": "adacf91a-d54e-4e4d-92d2-72ec5c2b89d4",
   "metadata": {},
   "outputs": [],
   "source": [
    "class MLP(nn.Module):\n",
    "    def __init__(self, dim, hidden_dim):\n",
    "        super().__init__()\n",
    "        self.net = nn.Sequential(\n",
    "            nn.Linear(dim, hidden_dim),\n",
    "            nn.GELU(),\n",
    "            nn.Linear(hidden_dim, dim),\n",
    "        )\n",
    "        self.init_weights()\n",
    "\n",
    "    def forward(self, x):\n",
    "        return self.net(x)\n",
    "        \n",
    "    def init_weights(self, std=.5, cutoff_factor: int = 3):\n",
    "        \"\"\"See `TorchTitan <https://github.com/pytorch/torchtitan/blob/40a10263c5b3468ffa53b3ac98d80c9267d68155/torchtitan/models/llama/model.py#L403>`__.\"\"\"\n",
    "        nn.init.trunc_normal_(\n",
    "            self.net[0].weight,\n",
    "            mean=0.0,\n",
    "            std=std,\n",
    "            a=-cutoff_factor * std,\n",
    "            b=cutoff_factor * std,\n",
    "        )\n",
    "        nn.init.trunc_normal_(\n",
    "            self.net[2].weight,\n",
    "            mean=0.0,\n",
    "            std=std,\n",
    "            a=-cutoff_factor * std,\n",
    "            b=cutoff_factor * std,\n",
    "        )\n",
    "        self.net[0].bias.data.zero_()\n",
    "        self.net[2].bias.data.zero_()\n",
    "        "
   ]
  },
  {
   "cell_type": "code",
   "execution_count": 9,
   "id": "f07a6270-174c-42d7-8f19-2591ca4ddb1b",
   "metadata": {},
   "outputs": [],
   "source": [
    "class IndexedLinearReadout(nn.Module):\n",
    "    \"\"\"\n",
    "    Readout module for MTM models with selectable weights based on \n",
    "    input IDs. Based on :class:`torch.nn.Linear`.\n",
    "    \"\"\"\n",
    "    def __init__(\n",
    "        self,\n",
    "        unique_ids: int,\n",
    "        in_features: int = 384,\n",
    "        dim_head=32,\n",
    "        num_heads=4,\n",
    "        bias: bool = True,\n",
    "        device=\"cuda\",\n",
    "        dtype=torch.float32,\n",
    "        init_std: float = 0.02,\n",
    "    ):\n",
    "        super().__init__()\n",
    "        factory_kwargs = {\"device\": device, \"dtype\": dtype}\n",
    "        self.unique_ids = unique_ids\n",
    "        self.in_features = in_features\n",
    "        self.init_std = init_std\n",
    "        self.query = nn.Parameter(\n",
    "            torch.empty(1, unique_ids, dim_head*num_heads, **factory_kwargs)\n",
    "        )\n",
    "        if bias:\n",
    "            self.bias = nn.Parameter(\n",
    "                torch.empty(1, unique_ids, 1, **factory_kwargs)\n",
    "            )\n",
    "        else:\n",
    "            self.register_parameter('bias', None)\n",
    "        self.init_weights()\n",
    "\n",
    "    def init_weights(self, cutoff_factor: int = 3):\n",
    "        \"\"\"See `TorchTitan <https://github.com/pytorch/torchtitan/blob/40a10263c5b3468ffa53b3ac98d80c9267d68155/torchtitan/models/llama/model.py#L403>`__.\"\"\"\n",
    "        readout_std = self.in_features**-0.5\n",
    "        nn.init.trunc_normal_(\n",
    "            self.query,\n",
    "            mean=0.0,\n",
    "            std=readout_std,\n",
    "            a=-cutoff_factor * readout_std,\n",
    "            b=cutoff_factor * readout_std,\n",
    "        )\n",
    "        if self.bias is not None:\n",
    "            self.bias.data.zero_()"
   ]
  },
  {
   "cell_type": "markdown",
   "id": "0dddde36-dfd5-44b3-8961-b67d970422a5",
   "metadata": {},
   "source": [
    "### Build Model"
   ]
  },
  {
   "cell_type": "code",
   "execution_count": 10,
   "id": "512db87e-b274-4208-9579-0c36d322d213",
   "metadata": {},
   "outputs": [],
   "source": [
    "backbone_dim = hiera_output[-1][-1].shape[-1]\n",
    "model = MouseHieraBase(backbone=tiny_hiera, \n",
    "                        dls=train_dl, \n",
    "                        chunk_size=chunk_size,\n",
    "                        dim=backbone_dim, \n",
    "                        dim_head=dim_head,\n",
    "                        num_heads=num_heads,\n",
    "                       mlp_ratio=mlp_ratio)"
   ]
  },
  {
   "cell_type": "markdown",
   "id": "2a9c370d-db23-4fa6-8cb6-a34f3d72ae6a",
   "metadata": {},
   "source": [
    "### performance boosts"
   ]
  },
  {
   "cell_type": "code",
   "execution_count": 11,
   "id": "f7bb7bef-0c85-4b4a-b072-dba2e947617c",
   "metadata": {},
   "outputs": [],
   "source": [
    "torch.backends.cuda.matmul.allow_tf32 = True\n",
    "torch.set_float32_matmul_precision('high')\n",
    "\n",
    "torch._dynamo.config.cache_size_limit = 32\n",
    "model = model.cuda().to(torch.float32)"
   ]
  },
  {
   "cell_type": "markdown",
   "id": "53db1feb-d92b-426b-925e-5ae114465d83",
   "metadata": {},
   "source": [
    "# Trainer"
   ]
  },
  {
   "cell_type": "code",
   "execution_count": 18,
   "id": "96ac66e6-225d-4219-851d-a7fcde86f27e",
   "metadata": {},
   "outputs": [
    {
     "name": "stdout",
     "output_type": "stream",
     "text": [
      "[[1.         0.36442426]\n",
      " [0.36442426 1.        ]]\n"
     ]
    },
    {
     "data": {
      "image/png": "[encoded data removed]",
      "text/plain": [
       "<Figure size 640x480 with 1 Axes>"
      ]
     },
     "metadata": {},
     "output_type": "display_data"
    }
   ],
   "source": [
    "b = responses.cpu().numpy().flatten()\n",
    "a = out.transpose(1,2).detach().cpu().numpy().flatten()\n",
    "plt.scatter(a,b, s=3, c=\"k\", alpha=.1)\n",
    "print(np.corrcoef(a,b))"
   ]
  },
  {
   "cell_type": "code",
   "execution_count": 12,
   "id": "ce03e89e-23d5-4cbe-b96e-8ecb2cee2d1d",
   "metadata": {},
   "outputs": [],
   "source": [
    "# pip install -U pytorch_warmup\n",
    "import pytorch_warmup as warmup\n",
    "\n",
    "lr = 3e-4\n",
    "T_max = 2e6\n",
    "eta_min = 5e-6\n",
    "\n",
    "criteria = nn.PoissonNLLLoss(log_input=False, reduction='mean')\n",
    "opt = Adam(model.parameters(), lr=lr, )\n",
    "lr_scheduler = torch.optim.lr_scheduler.CosineAnnealingLR(opt,\n",
    "                                                          T_max=T_max, \n",
    "                                                          eta_min=eta_min)\n",
    "\n",
    "warmup_scheduler = warmup.UntunedLinearWarmup(opt)\n",
    "\n",
    "from torch import autocast, GradScaler"
   ]
  },
  {
   "cell_type": "markdown",
   "id": "628553b7-f11f-43e6-a5f9-715c13505ee7",
   "metadata": {},
   "source": [
    "# Logging"
   ]
  },
  {
   "cell_type": "code",
   "execution_count": 13,
   "id": "fc5515d2-3d42-4e90-b100-26b296934033",
   "metadata": {},
   "outputs": [],
   "source": [
    "import os\n",
    "import sys\n",
    "from omegaconf import DictConfig, ListConfig\n",
    "\n",
    "import hydra\n",
    "from hydra import utils\n",
    "import mlflow\n",
    "import torch\n",
    "import torch.nn as nn\n",
    "import torch.optim as optim\n",
    "from torchvision import transforms\n",
    "from torchvision.datasets import MNIST\n",
    "from torch.utils.data import DataLoader, random_split\n",
    "import mlflow\n",
    "mlflow.set_tracking_uri(\"http://at-compute015:5000/\")\n"
   ]
  },
  {
   "cell_type": "code",
   "execution_count": 14,
   "id": "d8fe4b1d-536b-4ba4-aa25-2046211585e4",
   "metadata": {},
   "outputs": [],
   "source": [
    "experiment_name = \"mousehiera-base-0\"\n",
    "current_experiment=dict(mlflow.get_experiment_by_name(experiment_name))\n",
    "experiment_id=current_experiment['experiment_id']"
   ]
  },
  {
   "cell_type": "markdown",
   "id": "25ae39a6-7b18-4450-a528-f060d0bbc87d",
   "metadata": {},
   "source": [
    "# train messy"
   ]
  },
  {
   "cell_type": "code",
   "execution_count": 15,
   "id": "80f31bcf-dab8-45d1-82d3-fc16c723da83",
   "metadata": {},
   "outputs": [
    {
     "name": "stderr",
     "output_type": "stream",
     "text": [
      "/usr/local/lib/python3.10/dist-packages/torchvision/transforms/v2/_deprecated.py:42: UserWarning: The transform `ToTensor()` is deprecated and will be removed in a future release. Instead, please use `v2.Compose([v2.ToImage(), v2.ToDtype(torch.float32, scale=True)])`.Output is equivalent up to float precision.\n",
      "  warnings.warn(\n"
     ]
    }
   ],
   "source": [
    "from experanto.configs import DEFAULT_CONFIG as cfg\n",
    "\n",
    "with open_dict(cfg):\n",
    "    cfg.dataset.add_behavior_as_channels = behavior_as_channels\n",
    "    cfg.dataset.replace_nans_with_means = replace_nans_with_means\n",
    "cfg.dataset.global_chunk_size = None\n",
    "cfg.dataset.global_sampling_rate = None\n",
    "\n",
    "cfg.dataset.modality_config.screen.chunk_size = screen_chunk_size\n",
    "cfg.dataset.modality_config.screen.sampling_rate = screen_fs\n",
    "cfg.dataset.modality_config.responses.chunk_size = chunk_size\n",
    "cfg.dataset.modality_config.responses.sampling_rate = 8\n",
    "cfg.dataset.modality_config.eye_tracker.chunk_size = screen_chunk_size\n",
    "cfg.dataset.modality_config.eye_tracker.sampling_rate = screen_fs\n",
    "cfg.dataset.modality_config.treadmill.chunk_size = screen_chunk_size\n",
    "cfg.dataset.modality_config.treadmill.sampling_rate = screen_fs\n",
    "\n",
    "cfg.dataset.modality_config.screen.sample_stride=screen_chunk_size\n",
    "cfg.dataset.modality_config.screen.valid_condition = {\"tier\": \"oracle\"}\n",
    "cfg.dataset.modality_config.screen.transforms.Resize.size = video_size\n",
    "\n",
    "\n",
    "cfg.dataloader.num_workers=1\n",
    "cfg.dataloader.prefetch_factor=1\n",
    "cfg.dataloader.batch_size=128\n",
    "cfg.dataloader.pin_memory=True\n",
    "# the multiple dataloader is an iterator that returns a tuple of (key, batch)\n",
    "val_dl = get_multisession_dataloader(full_paths[3:6], cfg)"
   ]
  },
  {
   "cell_type": "code",
   "execution_count": 16,
   "id": "7410a49b-aa7f-4251-8e7f-1d68b88e1183",
   "metadata": {},
   "outputs": [],
   "source": [
    "def val_step_():\n",
    "    targets, predictions = [],[]\n",
    "    with torch.no_grad():\n",
    "        for i, (k, b) in tqdm(enumerate(val_dl)):\n",
    "            videos = b[\"screen\"].to(\"cuda\", torch.float32, non_blocking=True).permute(0,2,1,3,4)\n",
    "            responses = b[\"responses\"].to(\"cuda\", torch.float32, non_blocking=True)\n",
    "            with autocast(device_type='cuda', dtype=torch.bfloat16):\n",
    "                out = model(videos, k);\n",
    "            predictions.append(out.transpose(1,2).flatten())\n",
    "            targets.append(responses.flatten())\n",
    "        c = np.corrcoef(torch.hstack(predictions).cpu().numpy(), torch.hstack(targets).cpu().numpy(), )\n",
    "    return c[0,1]"
   ]
  },
  {
   "cell_type": "code",
   "execution_count": null,
   "id": "ef82f1ad-b724-49d6-99c8-7c01d884bf0e",
   "metadata": {},
   "outputs": [
    {
     "name": "stderr",
     "output_type": "stream",
     "text": [
      "12it [00:09,  1.29it/s]\n"
     ]
    },
    {
     "name": "stdout",
     "output_type": "stream",
     "text": [
      "[np.float64(-0.00011151969158988261)]\n"
     ]
    },
    {
     "name": "stderr",
     "output_type": "stream",
     "text": [
      "17916it [13:47, 20.31it/s]"
     ]
    }
   ],
   "source": [
    "patience = 0\n",
    "max_objective = 0\n",
    "losses, corrs, lrs, val_corrs = [], [], [], []\n",
    "with mlflow.start_run(\n",
    "    run_name=\"behavior_long_2\",\n",
    "    experiment_id=experiment_id,\n",
    "    tags={\"version\": \"v1\", \"priority\": \"P1\"},\n",
    "    description=\"parent\",):\n",
    "    \n",
    "    for train_loop in range(1000):\n",
    "        model.eval();\n",
    "        current_objective = val_step_()\n",
    "        mlflow.log_metric(\"val/single_trial_corr\", current_objective)\n",
    "        if train_loop > 20:\n",
    "            max_objective = np.max(np.array(val_corrs[:-1])[~np.isnan(val_corrs[:-1])])\n",
    "        if current_objective < max_objective:\n",
    "            patience += 1\n",
    "        else:\n",
    "            patience = 0\n",
    "        if patience >3:\n",
    "            break\n",
    "        val_corrs.append(current_objective)\n",
    "        print(val_corrs)\n",
    "        for i, (k, b) in tqdm(enumerate(train_dl)):\n",
    "            model.train();\n",
    "            videos = b[\"screen\"].to(\"cuda\", torch.float32, non_blocking=True).permute(0,2,1,3,4)\n",
    "            responses = b[\"responses\"].to(\"cuda\", torch.float32, non_blocking=True)\n",
    "            with autocast(device_type='cuda', dtype=torch.bfloat16):\n",
    "                out = model(videos, k);\n",
    "            loss = criteria(out.transpose(1,2), responses)\n",
    "            loss.backward()\n",
    "            torch.nn.utils.clip_grad_norm_(model.parameters(), max_norm=1.0, norm_type=2)\n",
    "            opt.step()\n",
    "            opt.zero_grad()\n",
    "            \n",
    "            with warmup_scheduler.dampening():\n",
    "                lr_scheduler.step()\n",
    "        for k, v in train_dl.loaders.items():\n",
    "            v.dataset.shuffle_valid_screen_times()"
   ]
  },
  {
   "cell_type": "code",
   "execution_count": null,
   "id": "a70dba1d-ac5f-4c22-ba45-17af3f7fa5a5",
   "metadata": {},
   "outputs": [],
   "source": []
  },
  {
   "cell_type": "code",
   "execution_count": null,
   "id": "6e0a0cf1-7524-4ea1-943a-f7f1ead46701",
   "metadata": {},
   "outputs": [],
   "source": []
  }
 ],
 "metadata": {
  "kernelspec": {
   "display_name": "Python 3 (ipykernel)",
   "language": "python",
   "name": "python3"
  },
  "language_info": {
   "codemirror_mode": {
    "name": "ipython",
    "version": 3
   },
   "file_extension": ".py",
   "mimetype": "text/x-python",
   "name": "python",
   "nbconvert_exporter": "python",
   "pygments_lexer": "ipython3",
   "version": "3.10.12"
  }
 },
 "nbformat": 4,
 "nbformat_minor": 5
}
