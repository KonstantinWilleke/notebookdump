{
 "cells": [
  {
   "cell_type": "markdown",
   "id": "94f8e0c7-b663-4837-9679-f791389b88fc",
   "metadata": {},
   "source": [
    "# AMP"
   ]
  },
  {
   "cell_type": "code",
   "execution_count": 1,
   "id": "637b327b-4b4d-4ed9-9918-818e5825c2c9",
   "metadata": {},
   "outputs": [],
   "source": [
    "import os\n",
    "os.environ['CUDA_VISIBLE_DEVICES'] = '6'\n",
    "%matplotlib inline\n",
    "%load_ext autoreload\n",
    "%autoreload 2\n",
    "\n",
    "import numpy as np\n",
    "import matplotlib.pyplot as plt\n",
    "from os import path\n",
    "\n",
    "from torch import nn\n",
    "from torch.nn import functional as F\n",
    "from torch.nn.functional import scaled_dot_product_attention\n",
    "from torch.nn.attention import SDPBackend, sdpa_kernel\n",
    "from tqdm import tqdm\n",
    "from einops import rearrange\n",
    "from torch.optim import AdamW, Adam\n",
    "\n",
    "import torch\n",
    "from torch.utils.data import DataLoader\n",
    "from tqdm import tqdm\n",
    "from omegaconf import OmegaConf, open_dict\n",
    "from experanto.datasets import ChunkDataset, SimpleChunkedDataset\n",
    "from experanto.utils import LongCycler, MultiEpochsDataLoader"
   ]
  },
  {
   "cell_type": "code",
   "execution_count": 2,
   "id": "00ecf779-64e2-4c53-930c-4bc96109fa37",
   "metadata": {},
   "outputs": [],
   "source": [
    "# additional packages\n",
    "# pip install hiera-transformer\n",
    "# pip install -U pytorch_warmup"
   ]
  },
  {
   "cell_type": "markdown",
   "id": "6d4f5a3f-8720-4222-a63c-b3605b61c5e7",
   "metadata": {},
   "source": [
    "# Hyperparameters"
   ]
  },
  {
   "cell_type": "code",
   "execution_count": 3,
   "id": "4d8aa514-908e-4e00-af7a-06830084b132",
   "metadata": {},
   "outputs": [],
   "source": [
    "video_size = [72, 128]\n",
    "chunk_size = 8\n",
    "dim_head = 64\n",
    "num_heads = 2"
   ]
  },
  {
   "cell_type": "markdown",
   "id": "72a43689-cdb6-4443-a57d-0a227fb65d45",
   "metadata": {},
   "source": [
    "### get dataloaders"
   ]
  },
  {
   "cell_type": "code",
   "execution_count": 4,
   "id": "72edb2a0-b392-40be-9e1a-054aacb4593d",
   "metadata": {},
   "outputs": [],
   "source": [
    "from experanto.dataloaders import get_multisession_dataloader\n",
    "\n",
    "from experanto.configs import DEFAULT_CONFIG as cfg\n",
    "paths = ['dynamic29513-3-5-Video-full',\n",
    "         'dynamic29514-2-9-Video-full',\n",
    "         'dynamic29755-2-8-Video-full',\n",
    "         'dynamic29647-19-8-Video-full',\n",
    "         'dynamic29156-11-10-Video-full',\n",
    "         'dynamic29623-4-9-Video-full',\n",
    "         'dynamic29515-10-12-Video-full',\n",
    "         'dynamic29234-6-9-Video-full',\n",
    "         'dynamic29712-5-9-Video-full',\n",
    "         'dynamic29228-2-10-Video-full'\n",
    "        ]\n",
    "full_paths = [path.join(\"/data/mouse_polly/\", f) for f in paths]"
   ]
  },
  {
   "cell_type": "code",
   "execution_count": 5,
   "id": "40f1c64c-31a4-4391-85ef-6f35d7085c3f",
   "metadata": {},
   "outputs": [
    {
     "name": "stderr",
     "output_type": "stream",
     "text": [
      "/usr/local/lib/python3.10/dist-packages/torchvision/transforms/v2/_deprecated.py:42: UserWarning: The transform `ToTensor()` is deprecated and will be removed in a future release. Instead, please use `v2.Compose([v2.ToImage(), v2.ToDtype(torch.float32, scale=True)])`.Output is equivalent up to float precision.\n",
      "  warnings.warn(\n"
     ]
    }
   ],
   "source": [
    "cfg.dataset.global_chunk_size = 8\n",
    "cfg.dataset.global_sampling_rate = 8\n",
    "cfg.dataset.modality_config.screen.sample_stride = 8\n",
    "cfg.dataset.modality_config.screen.include_blanks=True\n",
    "cfg.dataset.modality_config.screen.valid_condition = {\"tier\": \"train\"}\n",
    "cfg.dataset.modality_config.screen.transforms.Resize.size = video_size\n",
    "\n",
    "cfg.dataloader.num_workers=1\n",
    "cfg.dataloader.prefetch_factor=1\n",
    "cfg.dataloader.batch_size=128\n",
    "cfg.dataloader.pin_memory=True\n",
    "cfg.dataloader.shuffle=True\n",
    "\n",
    "train_dl = get_multisession_dataloader(full_paths, cfg)"
   ]
  },
  {
   "cell_type": "markdown",
   "id": "9d14b18d-346d-48c4-b12e-e7b8e0f28820",
   "metadata": {},
   "source": [
    "### get Hiera backbone"
   ]
  },
  {
   "cell_type": "code",
   "execution_count": 6,
   "id": "ecc0b8f9-b374-479f-b166-801bf9d22851",
   "metadata": {},
   "outputs": [
    {
     "name": "stderr",
     "output_type": "stream",
     "text": [
      "/usr/local/lib/python3.10/dist-packages/tqdm/auto.py:21: TqdmWarning: IProgress not found. Please update jupyter and ipywidgets. See https://ipywidgets.readthedocs.io/en/stable/user_install.html\n",
      "  from .autonotebook import tqdm as notebook_tqdm\n"
     ]
    },
    {
     "data": {
      "text/plain": [
       "torch.Size([8, 4, 9, 16, 128])"
      ]
     },
     "execution_count": 6,
     "metadata": {},
     "output_type": "execute_result"
    }
   ],
   "source": [
    "# pip install hiera-transformer\n",
    "from hiera import Hiera\n",
    "tiny_hiera = Hiera(input_size=(chunk_size, video_size[0], video_size[1]),\n",
    "                     num_heads=1,\n",
    "                     embed_dim=64,\n",
    "                     stages=(2, 2, ), # 4 transformer layers \n",
    "                     q_pool=1, \n",
    "                     in_chans=1,\n",
    "                     q_stride=(1, 2, 2),\n",
    "                     mask_unit_size=(1, 8, 8),\n",
    "                     patch_kernel=(3, 8, 8),\n",
    "                     patch_stride=(2, 4, 4),\n",
    "                     patch_padding=(1, 3, 3),\n",
    "                     sep_pos_embed=True,)\n",
    "\n",
    "tiny_hiera = tiny_hiera.cuda().to(torch.float32);\n",
    "example_input = torch.ones(8,1,8,72,128).to(\"cuda\", torch.float32)\n",
    "out = tiny_hiera(example_input, return_intermediates=True);\n",
    "hiera_output = out[-1][-1]\n",
    "hiera_output.shape # (b, t, h, w, c): (8, 4, 9, 16, 192)\n"
   ]
  },
  {
   "cell_type": "markdown",
   "id": "700e892e-0e01-4fda-bec9-13179f415692",
   "metadata": {},
   "source": [
    "# Model definition"
   ]
  },
  {
   "cell_type": "code",
   "execution_count": 7,
   "id": "fbce1ed2-9c69-43e0-91c9-a35fc2e4b6c2",
   "metadata": {},
   "outputs": [],
   "source": [
    "class MouseHieraBase(nn.Module):\n",
    "    def __init__(self,\n",
    "                 backbone,\n",
    "                 dls,\n",
    "                 chunk_size,\n",
    "                 dim=192,\n",
    "                 dim_head=32,\n",
    "                 num_heads=4,\n",
    "                 mlp_ratio=4,):\n",
    "        super().__init__()\n",
    "        self.backbone=backbone\n",
    "        self.num_heads=num_heads\n",
    "        self.dim_head=dim_head\n",
    "        self.dim_q = dim_head*num_heads\n",
    "        self.wq = nn.Linear(self.dim_q, self.dim_q, bias=False)\n",
    "        self.wk = nn.Linear(dim, self.dim_q, bias=False)\n",
    "        self.wv = nn.Linear(dim, self.dim_q, bias=False)\n",
    "        self.wo = nn.Linear(self.dim_q, self.dim_q, bias=False)\n",
    "        \n",
    "        self.neuron_proj = nn.Linear(self.dim_q, chunk_size, bias=False)\n",
    "        self.readout = nn.ModuleDict()\n",
    "        self.activation = nn.Softplus(beta=0.75) # probably a much better activation than ELU+1\n",
    "        self.kv_norm=torch.nn.RMSNorm(dim)\n",
    "        self.q_norm=torch.nn.RMSNorm(self.dim_q)\n",
    "        self.qkv_norm=torch.nn.RMSNorm(self.dim_q)\n",
    "        self.mlp = MLP(dim=self.dim_q, hidden_dim=int(self.dim_q * mlp_ratio))\n",
    "        for k, v in dls.loaders.items():\n",
    "            n_neurons = next(iter(v))[\"responses\"].shape[-1]\n",
    "            self.readout[k] = IndexedLinearReadout(n_neurons, \n",
    "                                                   in_features=dim_head*num_heads,\n",
    "                                                   dim_head=dim_head, \n",
    "                                                   num_heads=num_heads, \n",
    "                                                  )\n",
    "            \n",
    "    def forward(self, x, key):\n",
    "        x = self.backbone(x, return_intermediates=True)[-1][-1]\n",
    "        b, t, h, w, d = x.shape\n",
    "        x = self.kv_norm(x)\n",
    "        x = x.view(b, -1, d) # (B, t*h*w, D)\n",
    "        k, v = self.wk(x), self.wv(x)\n",
    "        q = self.q_norm(self.readout[key].query)\n",
    "        n = q.shape[1] # number of neurons\n",
    "        q = q.repeat(b, 1, 1) # repeat query for number of batches\n",
    "        q_attn = self.wq(q)\n",
    "        q_attn = q.view(b, -1, self.num_heads, self.dim_head).transpose(1, 2)\n",
    "        k = k.view(b, -1, self.num_heads, self.dim_head).transpose(1, 2) # (B, H, S, D)\n",
    "        v = v.view(b, -1, self.num_heads, self.dim_head).transpose(1, 2) # (B, H, S, D)\n",
    "        with sdpa_kernel(SDPBackend.FLASH_ATTENTION):\n",
    "            o = F.scaled_dot_product_attention(q_attn, k, v)\n",
    "        # (B, H, S, D) -> (B, N, D), with N = num_neurons\n",
    "        o = o.transpose(1,2).contiguous().view(b, -1, self.dim_q)\n",
    "        o = self.wo(o) + q\n",
    "        o = self.qkv_norm(o)  \n",
    "        o = self.mlp(o) + o\n",
    "        o = self.neuron_proj(o) # (B, N, D) -> (B, N, t)\n",
    "        o = o + self.readout[key].bias\n",
    "        o = self.activation(o)\n",
    "        return o"
   ]
  },
  {
   "cell_type": "code",
   "execution_count": 8,
   "id": "adacf91a-d54e-4e4d-92d2-72ec5c2b89d4",
   "metadata": {},
   "outputs": [],
   "source": [
    "class MLP(nn.Module):\n",
    "    def __init__(self, dim, hidden_dim):\n",
    "        super().__init__()\n",
    "        self.net = nn.Sequential(\n",
    "            nn.Linear(dim, hidden_dim),\n",
    "            nn.GELU(),\n",
    "            nn.Linear(hidden_dim, dim),\n",
    "        )\n",
    "        self.init_weights()\n",
    "\n",
    "    def forward(self, x):\n",
    "        return self.net(x)\n",
    "        \n",
    "    def init_weights(self, std=.5, cutoff_factor: int = 3):\n",
    "        \"\"\"See `TorchTitan <https://github.com/pytorch/torchtitan/blob/40a10263c5b3468ffa53b3ac98d80c9267d68155/torchtitan/models/llama/model.py#L403>`__.\"\"\"\n",
    "        nn.init.trunc_normal_(\n",
    "            self.net[0].weight,\n",
    "            mean=0.0,\n",
    "            std=std,\n",
    "            a=-cutoff_factor * std,\n",
    "            b=cutoff_factor * std,\n",
    "        )\n",
    "        nn.init.trunc_normal_(\n",
    "            self.net[2].weight,\n",
    "            mean=0.0,\n",
    "            std=std,\n",
    "            a=-cutoff_factor * std,\n",
    "            b=cutoff_factor * std,\n",
    "        )\n",
    "        self.net[0].bias.data.zero_()\n",
    "        self.net[2].bias.data.zero_()\n",
    "        "
   ]
  },
  {
   "cell_type": "code",
   "execution_count": 9,
   "id": "f07a6270-174c-42d7-8f19-2591ca4ddb1b",
   "metadata": {},
   "outputs": [],
   "source": [
    "class IndexedLinearReadout(nn.Module):\n",
    "    \"\"\"\n",
    "    Readout module for MTM models with selectable weights based on \n",
    "    input IDs. Based on :class:`torch.nn.Linear`.\n",
    "    \"\"\"\n",
    "    def __init__(\n",
    "        self,\n",
    "        unique_ids: int,\n",
    "        in_features: int = 384,\n",
    "        dim_head=32,\n",
    "        num_heads=4,\n",
    "        bias: bool = True,\n",
    "        device=\"cuda\",\n",
    "        dtype=torch.float32,\n",
    "        init_std: float = 0.02,\n",
    "    ):\n",
    "        super().__init__()\n",
    "        factory_kwargs = {\"device\": device, \"dtype\": dtype}\n",
    "        self.unique_ids = unique_ids\n",
    "        self.in_features = in_features\n",
    "        self.init_std = init_std\n",
    "        self.query = nn.Parameter(\n",
    "            torch.empty(1, unique_ids, dim_head*num_heads, **factory_kwargs)\n",
    "        )\n",
    "        if bias:\n",
    "            self.bias = nn.Parameter(\n",
    "                torch.empty(1, unique_ids, 1, **factory_kwargs)\n",
    "            )\n",
    "        else:\n",
    "            self.register_parameter('bias', None)\n",
    "        self.init_weights()\n",
    "\n",
    "    def init_weights(self, cutoff_factor: int = 3):\n",
    "        \"\"\"See `TorchTitan <https://github.com/pytorch/torchtitan/blob/40a10263c5b3468ffa53b3ac98d80c9267d68155/torchtitan/models/llama/model.py#L403>`__.\"\"\"\n",
    "        readout_std = self.in_features**-0.5\n",
    "        nn.init.trunc_normal_(\n",
    "            self.query,\n",
    "            mean=0.0,\n",
    "            std=readout_std,\n",
    "            a=-cutoff_factor * readout_std,\n",
    "            b=cutoff_factor * readout_std,\n",
    "        )\n",
    "        if self.bias is not None:\n",
    "            self.bias.data.zero_()"
   ]
  },
  {
   "cell_type": "markdown",
   "id": "0dddde36-dfd5-44b3-8961-b67d970422a5",
   "metadata": {},
   "source": [
    "### Build Model"
   ]
  },
  {
   "cell_type": "code",
   "execution_count": 10,
   "id": "512db87e-b274-4208-9579-0c36d322d213",
   "metadata": {},
   "outputs": [],
   "source": [
    "backbone_dim = hiera_output[-1][-1].shape[-1]\n",
    "model = MouseHieraBase(backbone=tiny_hiera, \n",
    "                        dls=train_dl, \n",
    "                        chunk_size=chunk_size,\n",
    "                        dim=backbone_dim, \n",
    "                        dim_head=dim_head,\n",
    "                        num_heads=num_heads)"
   ]
  },
  {
   "cell_type": "markdown",
   "id": "2a9c370d-db23-4fa6-8cb6-a34f3d72ae6a",
   "metadata": {},
   "source": [
    "### performance boosts"
   ]
  },
  {
   "cell_type": "code",
   "execution_count": 11,
   "id": "f7bb7bef-0c85-4b4a-b072-dba2e947617c",
   "metadata": {},
   "outputs": [],
   "source": [
    "torch.backends.cuda.matmul.allow_tf32 = True\n",
    "torch.set_float32_matmul_precision('high')\n",
    "\n",
    "torch._dynamo.config.cache_size_limit = 32\n",
    "model = model.cuda().to(torch.float32)"
   ]
  },
  {
   "cell_type": "markdown",
   "id": "53db1feb-d92b-426b-925e-5ae114465d83",
   "metadata": {},
   "source": [
    "# Trainer"
   ]
  },
  {
   "cell_type": "code",
   "execution_count": 12,
   "id": "ce03e89e-23d5-4cbe-b96e-8ecb2cee2d1d",
   "metadata": {},
   "outputs": [],
   "source": [
    "# pip install -U pytorch_warmup\n",
    "import pytorch_warmup as warmup\n",
    "\n",
    "lr = 8.0e-4\n",
    "weight_decay = 0.03\n",
    "T_max = 5e4\n",
    "eta_min = 5e-6\n",
    "\n",
    "criteria = nn.PoissonNLLLoss(log_input=False, reduction='mean')\n",
    "opt = AdamW(model.parameters(), lr=lr, weight_decay=weight_decay,)\n",
    "lr_scheduler = torch.optim.lr_scheduler.CosineAnnealingLR(opt,\n",
    "                                                          T_max=T_max, \n",
    "                                                          eta_min=eta_min)\n",
    "\n",
    "warmup_scheduler = warmup.UntunedLinearWarmup(opt)\n",
    "\n",
    "from torch import autocast, GradScaler"
   ]
  },
  {
   "cell_type": "markdown",
   "id": "25ae39a6-7b18-4450-a528-f060d0bbc87d",
   "metadata": {},
   "source": [
    "# train messy"
   ]
  },
  {
   "cell_type": "code",
   "execution_count": 13,
   "id": "80f31bcf-dab8-45d1-82d3-fc16c723da83",
   "metadata": {},
   "outputs": [
    {
     "name": "stderr",
     "output_type": "stream",
     "text": [
      "/usr/local/lib/python3.10/dist-packages/torchvision/transforms/v2/_deprecated.py:42: UserWarning: The transform `ToTensor()` is deprecated and will be removed in a future release. Instead, please use `v2.Compose([v2.ToImage(), v2.ToDtype(torch.float32, scale=True)])`.Output is equivalent up to float precision.\n",
      "  warnings.warn(\n"
     ]
    }
   ],
   "source": [
    "from experanto.configs import DEFAULT_CONFIG as cfg\n",
    "cfg.dataset.global_chunk_size = 8\n",
    "cfg.dataset.global_sampling_rate = 8\n",
    "cfg.dataset.modality_config.screen.include_blanks=False\n",
    "cfg.dataset.modality_config.screen.sample_stride=8\n",
    "cfg.dataset.modality_config.screen.valid_condition = {\"tier\": \"oracle\"}\n",
    "cfg.dataset.modality_config.screen.transforms.Resize.size = video_size\n",
    "\n",
    "\n",
    "cfg.dataloader.num_workers=1\n",
    "cfg.dataloader.prefetch_factor=1\n",
    "cfg.dataloader.batch_size=128\n",
    "cfg.dataloader.pin_memory=True\n",
    "# the multiple dataloader is an iterator that returns a tuple of (key, batch)\n",
    "val_dl = get_multisession_dataloader(full_paths[3:4], cfg)"
   ]
  },
  {
   "cell_type": "code",
   "execution_count": 14,
   "id": "7410a49b-aa7f-4251-8e7f-1d68b88e1183",
   "metadata": {},
   "outputs": [],
   "source": [
    "def val_step():\n",
    "    targets, predictions = [],[]\n",
    "    with torch.no_grad():\n",
    "        for i, (k, b) in tqdm(enumerate(val_dl)):\n",
    "            videos = b[\"screen\"].to(\"cuda\", torch.float32, non_blocking=True).permute(0,2,1,3,4)\n",
    "            responses = b[\"responses\"].to(\"cuda\", torch.float32, non_blocking=True)\n",
    "            with autocast(device_type='cuda', dtype=torch.bfloat16):\n",
    "                out = model(videos, k);\n",
    "            predictions.append(out.transpose(1,2).to(torch.float32).cpu().numpy())\n",
    "            targets.append(responses.to(torch.float32).cpu().numpy())\n",
    "    r1 = np.vstack(np.vstack(predictions))\n",
    "    r2 = np.vstack(np.vstack(targets))\n",
    "    cs = []\n",
    "    for n in range(8202):\n",
    "        c =  np.corrcoef(r1[...,n].flatten(), r2[...,n].flatten(), )[0,1]\n",
    "        cs.append(c)\n",
    "    val_corrs = np.stack(cs).mean()\n",
    "    return val_corrs"
   ]
  },
  {
   "cell_type": "code",
   "execution_count": null,
   "id": "ef82f1ad-b724-49d6-99c8-7c01d884bf0e",
   "metadata": {},
   "outputs": [
    {
     "name": "stderr",
     "output_type": "stream",
     "text": [
      "4it [00:08,  2.07s/it]\n"
     ]
    },
    {
     "name": "stdout",
     "output_type": "stream",
     "text": [
      "[np.float64(-0.000922340277686118)]\n"
     ]
    },
    {
     "name": "stderr",
     "output_type": "stream",
     "text": [
      "260it [00:54,  4.75it/s]\n",
      "4it [00:06,  1.56s/it]\n"
     ]
    },
    {
     "name": "stdout",
     "output_type": "stream",
     "text": [
      "[np.float64(-0.000922340277686118), np.float64(0.0005044275701732575)]\n"
     ]
    },
    {
     "name": "stderr",
     "output_type": "stream",
     "text": [
      "260it [00:56,  4.60it/s]\n",
      "4it [00:05,  1.36s/it]\n"
     ]
    },
    {
     "name": "stdout",
     "output_type": "stream",
     "text": [
      "[np.float64(-0.000922340277686118), np.float64(0.0005044275701732575), np.float64(0.0009419136946090108)]\n"
     ]
    },
    {
     "name": "stderr",
     "output_type": "stream",
     "text": [
      "260it [00:55,  4.64it/s]\n",
      "4it [00:04,  1.09s/it]\n"
     ]
    },
    {
     "name": "stdout",
     "output_type": "stream",
     "text": [
      "[np.float64(-0.000922340277686118), np.float64(0.0005044275701732575), np.float64(0.0009419136946090108), np.float64(0.0017105637540450705)]\n"
     ]
    },
    {
     "name": "stderr",
     "output_type": "stream",
     "text": [
      "260it [00:55,  4.68it/s]\n",
      "4it [00:05,  1.36s/it]\n"
     ]
    },
    {
     "name": "stdout",
     "output_type": "stream",
     "text": [
      "[np.float64(-0.000922340277686118), np.float64(0.0005044275701732575), np.float64(0.0009419136946090108), np.float64(0.0017105637540450705), np.float64(0.002852118476717496)]\n"
     ]
    },
    {
     "name": "stderr",
     "output_type": "stream",
     "text": [
      "260it [00:55,  4.65it/s]\n",
      "4it [00:04,  1.09s/it]\n"
     ]
    },
    {
     "name": "stdout",
     "output_type": "stream",
     "text": [
      "[np.float64(-0.000922340277686118), np.float64(0.0005044275701732575), np.float64(0.0009419136946090108), np.float64(0.0017105637540450705), np.float64(0.002852118476717496), np.float64(0.004508629878766827)]\n"
     ]
    },
    {
     "name": "stderr",
     "output_type": "stream",
     "text": [
      "260it [00:55,  4.73it/s]\n",
      "4it [00:05,  1.31s/it]\n"
     ]
    },
    {
     "name": "stdout",
     "output_type": "stream",
     "text": [
      "[np.float64(-0.000922340277686118), np.float64(0.0005044275701732575), np.float64(0.0009419136946090108), np.float64(0.0017105637540450705), np.float64(0.002852118476717496), np.float64(0.004508629878766827), np.float64(0.006740042355203938)]\n"
     ]
    },
    {
     "name": "stderr",
     "output_type": "stream",
     "text": [
      "260it [00:56,  4.58it/s]\n",
      "4it [00:04,  1.22s/it]\n"
     ]
    },
    {
     "name": "stdout",
     "output_type": "stream",
     "text": [
      "[np.float64(-0.000922340277686118), np.float64(0.0005044275701732575), np.float64(0.0009419136946090108), np.float64(0.0017105637540450705), np.float64(0.002852118476717496), np.float64(0.004508629878766827), np.float64(0.006740042355203938), np.float64(0.006460625012396977)]\n"
     ]
    },
    {
     "name": "stderr",
     "output_type": "stream",
     "text": [
      "260it [00:55,  4.67it/s]\n",
      "4it [00:05,  1.29s/it]\n"
     ]
    },
    {
     "name": "stdout",
     "output_type": "stream",
     "text": [
      "[np.float64(-0.000922340277686118), np.float64(0.0005044275701732575), np.float64(0.0009419136946090108), np.float64(0.0017105637540450705), np.float64(0.002852118476717496), np.float64(0.004508629878766827), np.float64(0.006740042355203938), np.float64(0.006460625012396977), np.float64(0.011290962984799697)]\n"
     ]
    },
    {
     "name": "stderr",
     "output_type": "stream",
     "text": [
      "260it [00:57,  4.49it/s]\n",
      "4it [00:05,  1.29s/it]\n"
     ]
    },
    {
     "name": "stdout",
     "output_type": "stream",
     "text": [
      "[np.float64(-0.000922340277686118), np.float64(0.0005044275701732575), np.float64(0.0009419136946090108), np.float64(0.0017105637540450705), np.float64(0.002852118476717496), np.float64(0.004508629878766827), np.float64(0.006740042355203938), np.float64(0.006460625012396977), np.float64(0.011290962984799697), np.float64(0.01046955689222782), np.float64(0.014426840039482098), np.float64(0.014004858046539672)]\n"
     ]
    },
    {
     "name": "stderr",
     "output_type": "stream",
     "text": [
      "260it [00:55,  4.67it/s]\n",
      "4it [00:04,  1.22s/it]\n"
     ]
    },
    {
     "name": "stdout",
     "output_type": "stream",
     "text": [
      "[np.float64(-0.000922340277686118), np.float64(0.0005044275701732575), np.float64(0.0009419136946090108), np.float64(0.0017105637540450705), np.float64(0.002852118476717496), np.float64(0.004508629878766827), np.float64(0.006740042355203938), np.float64(0.006460625012396977), np.float64(0.011290962984799697), np.float64(0.01046955689222782), np.float64(0.014426840039482098), np.float64(0.014004858046539672), np.float64(0.012524454527895572)]\n"
     ]
    },
    {
     "name": "stderr",
     "output_type": "stream",
     "text": [
      "260it [00:55,  4.65it/s]\n",
      "4it [00:04,  1.24s/it]\n"
     ]
    },
    {
     "name": "stdout",
     "output_type": "stream",
     "text": [
      "[np.float64(-0.000922340277686118), np.float64(0.0005044275701732575), np.float64(0.0009419136946090108), np.float64(0.0017105637540450705), np.float64(0.002852118476717496), np.float64(0.004508629878766827), np.float64(0.006740042355203938), np.float64(0.006460625012396977), np.float64(0.011290962984799697), np.float64(0.01046955689222782), np.float64(0.014426840039482098), np.float64(0.014004858046539672), np.float64(0.012524454527895572), np.float64(0.017031626357864347)]\n"
     ]
    },
    {
     "name": "stderr",
     "output_type": "stream",
     "text": [
      "260it [00:56,  4.62it/s]\n",
      "4it [00:04,  1.23s/it]\n"
     ]
    },
    {
     "name": "stdout",
     "output_type": "stream",
     "text": [
      "[np.float64(-0.000922340277686118), np.float64(0.0005044275701732575), np.float64(0.0009419136946090108), np.float64(0.0017105637540450705), np.float64(0.002852118476717496), np.float64(0.004508629878766827), np.float64(0.006740042355203938), np.float64(0.006460625012396977), np.float64(0.011290962984799697), np.float64(0.01046955689222782), np.float64(0.014426840039482098), np.float64(0.014004858046539672), np.float64(0.012524454527895572), np.float64(0.017031626357864347), np.float64(0.019054182009935118)]\n"
     ]
    },
    {
     "name": "stderr",
     "output_type": "stream",
     "text": [
      "260it [00:54,  4.73it/s]\n",
      "4it [00:04,  1.20s/it]\n"
     ]
    },
    {
     "name": "stdout",
     "output_type": "stream",
     "text": [
      "[np.float64(-0.000922340277686118), np.float64(0.0005044275701732575), np.float64(0.0009419136946090108), np.float64(0.0017105637540450705), np.float64(0.002852118476717496), np.float64(0.004508629878766827), np.float64(0.006740042355203938), np.float64(0.006460625012396977), np.float64(0.011290962984799697), np.float64(0.01046955689222782), np.float64(0.014426840039482098), np.float64(0.014004858046539672), np.float64(0.012524454527895572), np.float64(0.017031626357864347), np.float64(0.019054182009935118), np.float64(0.022283494271838584)]\n"
     ]
    },
    {
     "name": "stderr",
     "output_type": "stream",
     "text": [
      "260it [00:53,  4.85it/s]\n",
      "4it [00:04,  1.13s/it]\n"
     ]
    },
    {
     "name": "stdout",
     "output_type": "stream",
     "text": [
      "[np.float64(-0.000922340277686118), np.float64(0.0005044275701732575), np.float64(0.0009419136946090108), np.float64(0.0017105637540450705), np.float64(0.002852118476717496), np.float64(0.004508629878766827), np.float64(0.006740042355203938), np.float64(0.006460625012396977), np.float64(0.011290962984799697), np.float64(0.01046955689222782), np.float64(0.014426840039482098), np.float64(0.014004858046539672), np.float64(0.012524454527895572), np.float64(0.017031626357864347), np.float64(0.019054182009935118), np.float64(0.022283494271838584), np.float64(0.03276714067301452)]\n"
     ]
    },
    {
     "name": "stderr",
     "output_type": "stream",
     "text": [
      "260it [00:56,  4.58it/s]\n",
      "4it [00:04,  1.14s/it]\n"
     ]
    },
    {
     "name": "stdout",
     "output_type": "stream",
     "text": [
      "[np.float64(-0.000922340277686118), np.float64(0.0005044275701732575), np.float64(0.0009419136946090108), np.float64(0.0017105637540450705), np.float64(0.002852118476717496), np.float64(0.004508629878766827), np.float64(0.006740042355203938), np.float64(0.006460625012396977), np.float64(0.011290962984799697), np.float64(0.01046955689222782), np.float64(0.014426840039482098), np.float64(0.014004858046539672), np.float64(0.012524454527895572), np.float64(0.017031626357864347), np.float64(0.019054182009935118), np.float64(0.022283494271838584), np.float64(0.03276714067301452), np.float64(0.036158792485946285)]\n"
     ]
    },
    {
     "name": "stderr",
     "output_type": "stream",
     "text": [
      "260it [00:57,  4.49it/s]\n",
      "4it [00:05,  1.26s/it]\n"
     ]
    },
    {
     "name": "stdout",
     "output_type": "stream",
     "text": [
      "[np.float64(-0.000922340277686118), np.float64(0.0005044275701732575), np.float64(0.0009419136946090108), np.float64(0.0017105637540450705), np.float64(0.002852118476717496), np.float64(0.004508629878766827), np.float64(0.006740042355203938), np.float64(0.006460625012396977), np.float64(0.011290962984799697), np.float64(0.01046955689222782), np.float64(0.014426840039482098), np.float64(0.014004858046539672), np.float64(0.012524454527895572), np.float64(0.017031626357864347), np.float64(0.019054182009935118), np.float64(0.022283494271838584), np.float64(0.03276714067301452), np.float64(0.036158792485946285), np.float64(0.04297359256273643)]\n"
     ]
    },
    {
     "name": "stderr",
     "output_type": "stream",
     "text": [
      "260it [00:53,  4.83it/s]\n",
      "4it [00:04,  1.18s/it]\n"
     ]
    },
    {
     "name": "stdout",
     "output_type": "stream",
     "text": [
      "[np.float64(-0.000922340277686118), np.float64(0.0005044275701732575), np.float64(0.0009419136946090108), np.float64(0.0017105637540450705), np.float64(0.002852118476717496), np.float64(0.004508629878766827), np.float64(0.006740042355203938), np.float64(0.006460625012396977), np.float64(0.011290962984799697), np.float64(0.01046955689222782), np.float64(0.014426840039482098), np.float64(0.014004858046539672), np.float64(0.012524454527895572), np.float64(0.017031626357864347), np.float64(0.019054182009935118), np.float64(0.022283494271838584), np.float64(0.03276714067301452), np.float64(0.036158792485946285), np.float64(0.04297359256273643), np.float64(0.044594234863564605)]\n"
     ]
    },
    {
     "name": "stderr",
     "output_type": "stream",
     "text": [
      "260it [00:53,  4.87it/s]\n",
      "4it [00:05,  1.29s/it]\n"
     ]
    },
    {
     "name": "stdout",
     "output_type": "stream",
     "text": [
      "[np.float64(-0.000922340277686118), np.float64(0.0005044275701732575), np.float64(0.0009419136946090108), np.float64(0.0017105637540450705), np.float64(0.002852118476717496), np.float64(0.004508629878766827), np.float64(0.006740042355203938), np.float64(0.006460625012396977), np.float64(0.011290962984799697), np.float64(0.01046955689222782), np.float64(0.014426840039482098), np.float64(0.014004858046539672), np.float64(0.012524454527895572), np.float64(0.017031626357864347), np.float64(0.019054182009935118), np.float64(0.022283494271838584), np.float64(0.03276714067301452), np.float64(0.036158792485946285), np.float64(0.04297359256273643), np.float64(0.044594234863564605), np.float64(0.04564599598529938)]\n"
     ]
    },
    {
     "name": "stderr",
     "output_type": "stream",
     "text": [
      "260it [00:53,  4.83it/s]\n",
      "4it [00:04,  1.21s/it]\n"
     ]
    },
    {
     "name": "stdout",
     "output_type": "stream",
     "text": [
      "[np.float64(-0.000922340277686118), np.float64(0.0005044275701732575), np.float64(0.0009419136946090108), np.float64(0.0017105637540450705), np.float64(0.002852118476717496), np.float64(0.004508629878766827), np.float64(0.006740042355203938), np.float64(0.006460625012396977), np.float64(0.011290962984799697), np.float64(0.01046955689222782), np.float64(0.014426840039482098), np.float64(0.014004858046539672), np.float64(0.012524454527895572), np.float64(0.017031626357864347), np.float64(0.019054182009935118), np.float64(0.022283494271838584), np.float64(0.03276714067301452), np.float64(0.036158792485946285), np.float64(0.04297359256273643), np.float64(0.044594234863564605), np.float64(0.04564599598529938), np.float64(0.05011142490565416)]\n"
     ]
    },
    {
     "name": "stderr",
     "output_type": "stream",
     "text": [
      "260it [00:55,  4.70it/s]\n",
      "4it [00:05,  1.28s/it]\n"
     ]
    },
    {
     "name": "stdout",
     "output_type": "stream",
     "text": [
      "[np.float64(-0.000922340277686118), np.float64(0.0005044275701732575), np.float64(0.0009419136946090108), np.float64(0.0017105637540450705), np.float64(0.002852118476717496), np.float64(0.004508629878766827), np.float64(0.006740042355203938), np.float64(0.006460625012396977), np.float64(0.011290962984799697), np.float64(0.01046955689222782), np.float64(0.014426840039482098), np.float64(0.014004858046539672), np.float64(0.012524454527895572), np.float64(0.017031626357864347), np.float64(0.019054182009935118), np.float64(0.022283494271838584), np.float64(0.03276714067301452), np.float64(0.036158792485946285), np.float64(0.04297359256273643), np.float64(0.044594234863564605), np.float64(0.04564599598529938), np.float64(0.05011142490565416), np.float64(0.04684887954406853)]\n"
     ]
    },
    {
     "name": "stderr",
     "output_type": "stream",
     "text": [
      "260it [00:55,  4.64it/s]\n",
      "4it [00:04,  1.16s/it]\n"
     ]
    },
    {
     "name": "stdout",
     "output_type": "stream",
     "text": [
      "[np.float64(-0.000922340277686118), np.float64(0.0005044275701732575), np.float64(0.0009419136946090108), np.float64(0.0017105637540450705), np.float64(0.002852118476717496), np.float64(0.004508629878766827), np.float64(0.006740042355203938), np.float64(0.006460625012396977), np.float64(0.011290962984799697), np.float64(0.01046955689222782), np.float64(0.014426840039482098), np.float64(0.014004858046539672), np.float64(0.012524454527895572), np.float64(0.017031626357864347), np.float64(0.019054182009935118), np.float64(0.022283494271838584), np.float64(0.03276714067301452), np.float64(0.036158792485946285), np.float64(0.04297359256273643), np.float64(0.044594234863564605), np.float64(0.04564599598529938), np.float64(0.05011142490565416), np.float64(0.04684887954406853), np.float64(0.05083905194115271)]\n"
     ]
    },
    {
     "name": "stderr",
     "output_type": "stream",
     "text": [
      "260it [00:53,  4.86it/s]\n",
      "4it [00:04,  1.23s/it]\n"
     ]
    },
    {
     "name": "stdout",
     "output_type": "stream",
     "text": [
      "[np.float64(-0.000922340277686118), np.float64(0.0005044275701732575), np.float64(0.0009419136946090108), np.float64(0.0017105637540450705), np.float64(0.002852118476717496), np.float64(0.004508629878766827), np.float64(0.006740042355203938), np.float64(0.006460625012396977), np.float64(0.011290962984799697), np.float64(0.01046955689222782), np.float64(0.014426840039482098), np.float64(0.014004858046539672), np.float64(0.012524454527895572), np.float64(0.017031626357864347), np.float64(0.019054182009935118), np.float64(0.022283494271838584), np.float64(0.03276714067301452), np.float64(0.036158792485946285), np.float64(0.04297359256273643), np.float64(0.044594234863564605), np.float64(0.04564599598529938), np.float64(0.05011142490565416), np.float64(0.04684887954406853), np.float64(0.05083905194115271), np.float64(0.055214928434421766)]\n"
     ]
    },
    {
     "name": "stderr",
     "output_type": "stream",
     "text": [
      "260it [00:55,  4.71it/s]\n",
      "4it [00:04,  1.15s/it]\n"
     ]
    },
    {
     "name": "stdout",
     "output_type": "stream",
     "text": [
      "[np.float64(-0.000922340277686118), np.float64(0.0005044275701732575), np.float64(0.0009419136946090108), np.float64(0.0017105637540450705), np.float64(0.002852118476717496), np.float64(0.004508629878766827), np.float64(0.006740042355203938), np.float64(0.006460625012396977), np.float64(0.011290962984799697), np.float64(0.01046955689222782), np.float64(0.014426840039482098), np.float64(0.014004858046539672), np.float64(0.012524454527895572), np.float64(0.017031626357864347), np.float64(0.019054182009935118), np.float64(0.022283494271838584), np.float64(0.03276714067301452), np.float64(0.036158792485946285), np.float64(0.04297359256273643), np.float64(0.044594234863564605), np.float64(0.04564599598529938), np.float64(0.05011142490565416), np.float64(0.04684887954406853), np.float64(0.05083905194115271), np.float64(0.055214928434421766), np.float64(0.05692551629261668)]\n"
     ]
    },
    {
     "name": "stderr",
     "output_type": "stream",
     "text": [
      "260it [00:55,  4.72it/s]\n",
      "4it [00:05,  1.32s/it]\n"
     ]
    },
    {
     "name": "stdout",
     "output_type": "stream",
     "text": [
      "[np.float64(-0.000922340277686118), np.float64(0.0005044275701732575), np.float64(0.0009419136946090108), np.float64(0.0017105637540450705), np.float64(0.002852118476717496), np.float64(0.004508629878766827), np.float64(0.006740042355203938), np.float64(0.006460625012396977), np.float64(0.011290962984799697), np.float64(0.01046955689222782), np.float64(0.014426840039482098), np.float64(0.014004858046539672), np.float64(0.012524454527895572), np.float64(0.017031626357864347), np.float64(0.019054182009935118), np.float64(0.022283494271838584), np.float64(0.03276714067301452), np.float64(0.036158792485946285), np.float64(0.04297359256273643), np.float64(0.044594234863564605), np.float64(0.04564599598529938), np.float64(0.05011142490565416), np.float64(0.04684887954406853), np.float64(0.05083905194115271), np.float64(0.055214928434421766), np.float64(0.05692551629261668), np.float64(0.056689870256246715)]\n"
     ]
    },
    {
     "name": "stderr",
     "output_type": "stream",
     "text": [
      "260it [00:56,  4.57it/s]\n",
      "4it [00:04,  1.07s/it]\n"
     ]
    },
    {
     "name": "stdout",
     "output_type": "stream",
     "text": [
      "[np.float64(-0.000922340277686118), np.float64(0.0005044275701732575), np.float64(0.0009419136946090108), np.float64(0.0017105637540450705), np.float64(0.002852118476717496), np.float64(0.004508629878766827), np.float64(0.006740042355203938), np.float64(0.006460625012396977), np.float64(0.011290962984799697), np.float64(0.01046955689222782), np.float64(0.014426840039482098), np.float64(0.014004858046539672), np.float64(0.012524454527895572), np.float64(0.017031626357864347), np.float64(0.019054182009935118), np.float64(0.022283494271838584), np.float64(0.03276714067301452), np.float64(0.036158792485946285), np.float64(0.04297359256273643), np.float64(0.044594234863564605), np.float64(0.04564599598529938), np.float64(0.05011142490565416), np.float64(0.04684887954406853), np.float64(0.05083905194115271), np.float64(0.055214928434421766), np.float64(0.05692551629261668), np.float64(0.056689870256246715), np.float64(0.058656445707469834)]\n"
     ]
    },
    {
     "name": "stderr",
     "output_type": "stream",
     "text": [
      "260it [00:52,  4.96it/s]\n",
      "4it [00:04,  1.07s/it]\n"
     ]
    },
    {
     "name": "stdout",
     "output_type": "stream",
     "text": [
      "[np.float64(-0.000922340277686118), np.float64(0.0005044275701732575), np.float64(0.0009419136946090108), np.float64(0.0017105637540450705), np.float64(0.002852118476717496), np.float64(0.004508629878766827), np.float64(0.006740042355203938), np.float64(0.006460625012396977), np.float64(0.011290962984799697), np.float64(0.01046955689222782), np.float64(0.014426840039482098), np.float64(0.014004858046539672), np.float64(0.012524454527895572), np.float64(0.017031626357864347), np.float64(0.019054182009935118), np.float64(0.022283494271838584), np.float64(0.03276714067301452), np.float64(0.036158792485946285), np.float64(0.04297359256273643), np.float64(0.044594234863564605), np.float64(0.04564599598529938), np.float64(0.05011142490565416), np.float64(0.04684887954406853), np.float64(0.05083905194115271), np.float64(0.055214928434421766), np.float64(0.05692551629261668), np.float64(0.056689870256246715), np.float64(0.058656445707469834), np.float64(0.059207095658930446)]\n"
     ]
    },
    {
     "name": "stderr",
     "output_type": "stream",
     "text": [
      "260it [00:51,  5.04it/s]\n",
      "4it [00:04,  1.12s/it]\n"
     ]
    },
    {
     "name": "stdout",
     "output_type": "stream",
     "text": [
      "[np.float64(-0.000922340277686118), np.float64(0.0005044275701732575), np.float64(0.0009419136946090108), np.float64(0.0017105637540450705), np.float64(0.002852118476717496), np.float64(0.004508629878766827), np.float64(0.006740042355203938), np.float64(0.006460625012396977), np.float64(0.011290962984799697), np.float64(0.01046955689222782), np.float64(0.014426840039482098), np.float64(0.014004858046539672), np.float64(0.012524454527895572), np.float64(0.017031626357864347), np.float64(0.019054182009935118), np.float64(0.022283494271838584), np.float64(0.03276714067301452), np.float64(0.036158792485946285), np.float64(0.04297359256273643), np.float64(0.044594234863564605), np.float64(0.04564599598529938), np.float64(0.05011142490565416), np.float64(0.04684887954406853), np.float64(0.05083905194115271), np.float64(0.055214928434421766), np.float64(0.05692551629261668), np.float64(0.056689870256246715), np.float64(0.058656445707469834), np.float64(0.059207095658930446), np.float64(0.05937680677635039)]\n"
     ]
    },
    {
     "name": "stderr",
     "output_type": "stream",
     "text": [
      "260it [00:54,  4.75it/s]\n",
      "4it [00:04,  1.17s/it]\n"
     ]
    },
    {
     "name": "stdout",
     "output_type": "stream",
     "text": [
      "[np.float64(-0.000922340277686118), np.float64(0.0005044275701732575), np.float64(0.0009419136946090108), np.float64(0.0017105637540450705), np.float64(0.002852118476717496), np.float64(0.004508629878766827), np.float64(0.006740042355203938), np.float64(0.006460625012396977), np.float64(0.011290962984799697), np.float64(0.01046955689222782), np.float64(0.014426840039482098), np.float64(0.014004858046539672), np.float64(0.012524454527895572), np.float64(0.017031626357864347), np.float64(0.019054182009935118), np.float64(0.022283494271838584), np.float64(0.03276714067301452), np.float64(0.036158792485946285), np.float64(0.04297359256273643), np.float64(0.044594234863564605), np.float64(0.04564599598529938), np.float64(0.05011142490565416), np.float64(0.04684887954406853), np.float64(0.05083905194115271), np.float64(0.055214928434421766), np.float64(0.05692551629261668), np.float64(0.056689870256246715), np.float64(0.058656445707469834), np.float64(0.059207095658930446), np.float64(0.05937680677635039), np.float64(0.0632676410116451)]\n"
     ]
    },
    {
     "name": "stderr",
     "output_type": "stream",
     "text": [
      "260it [00:51,  5.01it/s]\n",
      "4it [00:04,  1.23s/it]\n"
     ]
    },
    {
     "name": "stdout",
     "output_type": "stream",
     "text": [
      "[np.float64(-0.000922340277686118), np.float64(0.0005044275701732575), np.float64(0.0009419136946090108), np.float64(0.0017105637540450705), np.float64(0.002852118476717496), np.float64(0.004508629878766827), np.float64(0.006740042355203938), np.float64(0.006460625012396977), np.float64(0.011290962984799697), np.float64(0.01046955689222782), np.float64(0.014426840039482098), np.float64(0.014004858046539672), np.float64(0.012524454527895572), np.float64(0.017031626357864347), np.float64(0.019054182009935118), np.float64(0.022283494271838584), np.float64(0.03276714067301452), np.float64(0.036158792485946285), np.float64(0.04297359256273643), np.float64(0.044594234863564605), np.float64(0.04564599598529938), np.float64(0.05011142490565416), np.float64(0.04684887954406853), np.float64(0.05083905194115271), np.float64(0.055214928434421766), np.float64(0.05692551629261668), np.float64(0.056689870256246715), np.float64(0.058656445707469834), np.float64(0.059207095658930446), np.float64(0.05937680677635039), np.float64(0.0632676410116451), np.float64(0.06389983341449117)]\n"
     ]
    },
    {
     "name": "stderr",
     "output_type": "stream",
     "text": [
      "260it [00:51,  5.02it/s]\n",
      "4it [00:05,  1.28s/it]\n"
     ]
    },
    {
     "name": "stdout",
     "output_type": "stream",
     "text": [
      "[np.float64(-0.000922340277686118), np.float64(0.0005044275701732575), np.float64(0.0009419136946090108), np.float64(0.0017105637540450705), np.float64(0.002852118476717496), np.float64(0.004508629878766827), np.float64(0.006740042355203938), np.float64(0.006460625012396977), np.float64(0.011290962984799697), np.float64(0.01046955689222782), np.float64(0.014426840039482098), np.float64(0.014004858046539672), np.float64(0.012524454527895572), np.float64(0.017031626357864347), np.float64(0.019054182009935118), np.float64(0.022283494271838584), np.float64(0.03276714067301452), np.float64(0.036158792485946285), np.float64(0.04297359256273643), np.float64(0.044594234863564605), np.float64(0.04564599598529938), np.float64(0.05011142490565416), np.float64(0.04684887954406853), np.float64(0.05083905194115271), np.float64(0.055214928434421766), np.float64(0.05692551629261668), np.float64(0.056689870256246715), np.float64(0.058656445707469834), np.float64(0.059207095658930446), np.float64(0.05937680677635039), np.float64(0.0632676410116451), np.float64(0.06389983341449117), np.float64(0.06462092849273492)]\n"
     ]
    },
    {
     "name": "stderr",
     "output_type": "stream",
     "text": [
      "260it [00:53,  4.88it/s]\n",
      "4it [00:04,  1.09s/it]\n"
     ]
    },
    {
     "name": "stdout",
     "output_type": "stream",
     "text": [
      "[np.float64(-0.000922340277686118), np.float64(0.0005044275701732575), np.float64(0.0009419136946090108), np.float64(0.0017105637540450705), np.float64(0.002852118476717496), np.float64(0.004508629878766827), np.float64(0.006740042355203938), np.float64(0.006460625012396977), np.float64(0.011290962984799697), np.float64(0.01046955689222782), np.float64(0.014426840039482098), np.float64(0.014004858046539672), np.float64(0.012524454527895572), np.float64(0.017031626357864347), np.float64(0.019054182009935118), np.float64(0.022283494271838584), np.float64(0.03276714067301452), np.float64(0.036158792485946285), np.float64(0.04297359256273643), np.float64(0.044594234863564605), np.float64(0.04564599598529938), np.float64(0.05011142490565416), np.float64(0.04684887954406853), np.float64(0.05083905194115271), np.float64(0.055214928434421766), np.float64(0.05692551629261668), np.float64(0.056689870256246715), np.float64(0.058656445707469834), np.float64(0.059207095658930446), np.float64(0.05937680677635039), np.float64(0.0632676410116451), np.float64(0.06389983341449117), np.float64(0.06462092849273492), np.float64(0.0647819404940062)]\n"
     ]
    },
    {
     "name": "stderr",
     "output_type": "stream",
     "text": [
      "260it [00:54,  4.74it/s]\n",
      "4it [00:04,  1.23s/it]\n"
     ]
    },
    {
     "name": "stdout",
     "output_type": "stream",
     "text": [
      "[np.float64(-0.000922340277686118), np.float64(0.0005044275701732575), np.float64(0.0009419136946090108), np.float64(0.0017105637540450705), np.float64(0.002852118476717496), np.float64(0.004508629878766827), np.float64(0.006740042355203938), np.float64(0.006460625012396977), np.float64(0.011290962984799697), np.float64(0.01046955689222782), np.float64(0.014426840039482098), np.float64(0.014004858046539672), np.float64(0.012524454527895572), np.float64(0.017031626357864347), np.float64(0.019054182009935118), np.float64(0.022283494271838584), np.float64(0.03276714067301452), np.float64(0.036158792485946285), np.float64(0.04297359256273643), np.float64(0.044594234863564605), np.float64(0.04564599598529938), np.float64(0.05011142490565416), np.float64(0.04684887954406853), np.float64(0.05083905194115271), np.float64(0.055214928434421766), np.float64(0.05692551629261668), np.float64(0.056689870256246715), np.float64(0.058656445707469834), np.float64(0.059207095658930446), np.float64(0.05937680677635039), np.float64(0.0632676410116451), np.float64(0.06389983341449117), np.float64(0.06462092849273492), np.float64(0.0647819404940062), np.float64(0.06937569028821705)]\n"
     ]
    },
    {
     "name": "stderr",
     "output_type": "stream",
     "text": [
      "260it [00:55,  4.72it/s]\n",
      "4it [00:04,  1.11s/it]\n"
     ]
    },
    {
     "name": "stdout",
     "output_type": "stream",
     "text": [
      "[np.float64(-0.000922340277686118), np.float64(0.0005044275701732575), np.float64(0.0009419136946090108), np.float64(0.0017105637540450705), np.float64(0.002852118476717496), np.float64(0.004508629878766827), np.float64(0.006740042355203938), np.float64(0.006460625012396977), np.float64(0.011290962984799697), np.float64(0.01046955689222782), np.float64(0.014426840039482098), np.float64(0.014004858046539672), np.float64(0.012524454527895572), np.float64(0.017031626357864347), np.float64(0.019054182009935118), np.float64(0.022283494271838584), np.float64(0.03276714067301452), np.float64(0.036158792485946285), np.float64(0.04297359256273643), np.float64(0.044594234863564605), np.float64(0.04564599598529938), np.float64(0.05011142490565416), np.float64(0.04684887954406853), np.float64(0.05083905194115271), np.float64(0.055214928434421766), np.float64(0.05692551629261668), np.float64(0.056689870256246715), np.float64(0.058656445707469834), np.float64(0.059207095658930446), np.float64(0.05937680677635039), np.float64(0.0632676410116451), np.float64(0.06389983341449117), np.float64(0.06462092849273492), np.float64(0.0647819404940062), np.float64(0.06937569028821705), np.float64(0.06955530825431741)]\n"
     ]
    },
    {
     "name": "stderr",
     "output_type": "stream",
     "text": [
      "260it [00:56,  4.59it/s]\n",
      "4it [00:04,  1.10s/it]\n"
     ]
    },
    {
     "name": "stdout",
     "output_type": "stream",
     "text": [
      "[np.float64(-0.000922340277686118), np.float64(0.0005044275701732575), np.float64(0.0009419136946090108), np.float64(0.0017105637540450705), np.float64(0.002852118476717496), np.float64(0.004508629878766827), np.float64(0.006740042355203938), np.float64(0.006460625012396977), np.float64(0.011290962984799697), np.float64(0.01046955689222782), np.float64(0.014426840039482098), np.float64(0.014004858046539672), np.float64(0.012524454527895572), np.float64(0.017031626357864347), np.float64(0.019054182009935118), np.float64(0.022283494271838584), np.float64(0.03276714067301452), np.float64(0.036158792485946285), np.float64(0.04297359256273643), np.float64(0.044594234863564605), np.float64(0.04564599598529938), np.float64(0.05011142490565416), np.float64(0.04684887954406853), np.float64(0.05083905194115271), np.float64(0.055214928434421766), np.float64(0.05692551629261668), np.float64(0.056689870256246715), np.float64(0.058656445707469834), np.float64(0.059207095658930446), np.float64(0.05937680677635039), np.float64(0.0632676410116451), np.float64(0.06389983341449117), np.float64(0.06462092849273492), np.float64(0.0647819404940062), np.float64(0.06937569028821705), np.float64(0.06955530825431741), np.float64(0.06504379117240286)]\n"
     ]
    },
    {
     "name": "stderr",
     "output_type": "stream",
     "text": [
      "260it [00:58,  4.46it/s]\n",
      "4it [00:06,  1.58s/it]\n"
     ]
    },
    {
     "name": "stdout",
     "output_type": "stream",
     "text": [
      "[np.float64(-0.000922340277686118), np.float64(0.0005044275701732575), np.float64(0.0009419136946090108), np.float64(0.0017105637540450705), np.float64(0.002852118476717496), np.float64(0.004508629878766827), np.float64(0.006740042355203938), np.float64(0.006460625012396977), np.float64(0.011290962984799697), np.float64(0.01046955689222782), np.float64(0.014426840039482098), np.float64(0.014004858046539672), np.float64(0.012524454527895572), np.float64(0.017031626357864347), np.float64(0.019054182009935118), np.float64(0.022283494271838584), np.float64(0.03276714067301452), np.float64(0.036158792485946285), np.float64(0.04297359256273643), np.float64(0.044594234863564605), np.float64(0.04564599598529938), np.float64(0.05011142490565416), np.float64(0.04684887954406853), np.float64(0.05083905194115271), np.float64(0.055214928434421766), np.float64(0.05692551629261668), np.float64(0.056689870256246715), np.float64(0.058656445707469834), np.float64(0.059207095658930446), np.float64(0.05937680677635039), np.float64(0.0632676410116451), np.float64(0.06389983341449117), np.float64(0.06462092849273492), np.float64(0.0647819404940062), np.float64(0.06937569028821705), np.float64(0.06955530825431741), np.float64(0.06504379117240286), np.float64(0.07008051239312212)]\n"
     ]
    },
    {
     "name": "stderr",
     "output_type": "stream",
     "text": [
      "260it [01:02,  4.16it/s]\n",
      "4it [00:06,  1.56s/it]\n"
     ]
    },
    {
     "name": "stdout",
     "output_type": "stream",
     "text": [
      "[np.float64(-0.000922340277686118), np.float64(0.0005044275701732575), np.float64(0.0009419136946090108), np.float64(0.0017105637540450705), np.float64(0.002852118476717496), np.float64(0.004508629878766827), np.float64(0.006740042355203938), np.float64(0.006460625012396977), np.float64(0.011290962984799697), np.float64(0.01046955689222782), np.float64(0.014426840039482098), np.float64(0.014004858046539672), np.float64(0.012524454527895572), np.float64(0.017031626357864347), np.float64(0.019054182009935118), np.float64(0.022283494271838584), np.float64(0.03276714067301452), np.float64(0.036158792485946285), np.float64(0.04297359256273643), np.float64(0.044594234863564605), np.float64(0.04564599598529938), np.float64(0.05011142490565416), np.float64(0.04684887954406853), np.float64(0.05083905194115271), np.float64(0.055214928434421766), np.float64(0.05692551629261668), np.float64(0.056689870256246715), np.float64(0.058656445707469834), np.float64(0.059207095658930446), np.float64(0.05937680677635039), np.float64(0.0632676410116451), np.float64(0.06389983341449117), np.float64(0.06462092849273492), np.float64(0.0647819404940062), np.float64(0.06937569028821705), np.float64(0.06955530825431741), np.float64(0.06504379117240286), np.float64(0.07008051239312212), np.float64(0.07275969698129495)]\n"
     ]
    },
    {
     "name": "stderr",
     "output_type": "stream",
     "text": [
      "260it [01:03,  4.11it/s]\n",
      "4it [00:06,  1.64s/it]\n"
     ]
    },
    {
     "name": "stdout",
     "output_type": "stream",
     "text": [
      "[np.float64(-0.000922340277686118), np.float64(0.0005044275701732575), np.float64(0.0009419136946090108), np.float64(0.0017105637540450705), np.float64(0.002852118476717496), np.float64(0.004508629878766827), np.float64(0.006740042355203938), np.float64(0.006460625012396977), np.float64(0.011290962984799697), np.float64(0.01046955689222782), np.float64(0.014426840039482098), np.float64(0.014004858046539672), np.float64(0.012524454527895572), np.float64(0.017031626357864347), np.float64(0.019054182009935118), np.float64(0.022283494271838584), np.float64(0.03276714067301452), np.float64(0.036158792485946285), np.float64(0.04297359256273643), np.float64(0.044594234863564605), np.float64(0.04564599598529938), np.float64(0.05011142490565416), np.float64(0.04684887954406853), np.float64(0.05083905194115271), np.float64(0.055214928434421766), np.float64(0.05692551629261668), np.float64(0.056689870256246715), np.float64(0.058656445707469834), np.float64(0.059207095658930446), np.float64(0.05937680677635039), np.float64(0.0632676410116451), np.float64(0.06389983341449117), np.float64(0.06462092849273492), np.float64(0.0647819404940062), np.float64(0.06937569028821705), np.float64(0.06955530825431741), np.float64(0.06504379117240286), np.float64(0.07008051239312212), np.float64(0.07275969698129495), np.float64(0.07344834743635578)]\n"
     ]
    },
    {
     "name": "stderr",
     "output_type": "stream",
     "text": [
      "260it [01:00,  4.31it/s]\n",
      "4it [00:05,  1.45s/it]\n"
     ]
    },
    {
     "name": "stdout",
     "output_type": "stream",
     "text": [
      "[np.float64(-0.000922340277686118), np.float64(0.0005044275701732575), np.float64(0.0009419136946090108), np.float64(0.0017105637540450705), np.float64(0.002852118476717496), np.float64(0.004508629878766827), np.float64(0.006740042355203938), np.float64(0.006460625012396977), np.float64(0.011290962984799697), np.float64(0.01046955689222782), np.float64(0.014426840039482098), np.float64(0.014004858046539672), np.float64(0.012524454527895572), np.float64(0.017031626357864347), np.float64(0.019054182009935118), np.float64(0.022283494271838584), np.float64(0.03276714067301452), np.float64(0.036158792485946285), np.float64(0.04297359256273643), np.float64(0.044594234863564605), np.float64(0.04564599598529938), np.float64(0.05011142490565416), np.float64(0.04684887954406853), np.float64(0.05083905194115271), np.float64(0.055214928434421766), np.float64(0.05692551629261668), np.float64(0.056689870256246715), np.float64(0.058656445707469834), np.float64(0.059207095658930446), np.float64(0.05937680677635039), np.float64(0.0632676410116451), np.float64(0.06389983341449117), np.float64(0.06462092849273492), np.float64(0.0647819404940062), np.float64(0.06937569028821705), np.float64(0.06955530825431741), np.float64(0.06504379117240286), np.float64(0.07008051239312212), np.float64(0.07275969698129495), np.float64(0.07344834743635578), np.float64(0.07529481337480716)]\n"
     ]
    },
    {
     "name": "stderr",
     "output_type": "stream",
     "text": [
      "260it [01:04,  4.04it/s]\n",
      "4it [00:05,  1.42s/it]\n"
     ]
    },
    {
     "name": "stdout",
     "output_type": "stream",
     "text": [
      "[np.float64(-0.000922340277686118), np.float64(0.0005044275701732575), np.float64(0.0009419136946090108), np.float64(0.0017105637540450705), np.float64(0.002852118476717496), np.float64(0.004508629878766827), np.float64(0.006740042355203938), np.float64(0.006460625012396977), np.float64(0.011290962984799697), np.float64(0.01046955689222782), np.float64(0.014426840039482098), np.float64(0.014004858046539672), np.float64(0.012524454527895572), np.float64(0.017031626357864347), np.float64(0.019054182009935118), np.float64(0.022283494271838584), np.float64(0.03276714067301452), np.float64(0.036158792485946285), np.float64(0.04297359256273643), np.float64(0.044594234863564605), np.float64(0.04564599598529938), np.float64(0.05011142490565416), np.float64(0.04684887954406853), np.float64(0.05083905194115271), np.float64(0.055214928434421766), np.float64(0.05692551629261668), np.float64(0.056689870256246715), np.float64(0.058656445707469834), np.float64(0.059207095658930446), np.float64(0.05937680677635039), np.float64(0.0632676410116451), np.float64(0.06389983341449117), np.float64(0.06462092849273492), np.float64(0.0647819404940062), np.float64(0.06937569028821705), np.float64(0.06955530825431741), np.float64(0.06504379117240286), np.float64(0.07008051239312212), np.float64(0.07275969698129495), np.float64(0.07344834743635578), np.float64(0.07529481337480716), np.float64(0.0742813362016676)]\n"
     ]
    },
    {
     "name": "stderr",
     "output_type": "stream",
     "text": [
      "260it [01:02,  4.18it/s]\n",
      "4it [00:05,  1.47s/it]\n"
     ]
    },
    {
     "name": "stdout",
     "output_type": "stream",
     "text": [
      "[np.float64(-0.000922340277686118), np.float64(0.0005044275701732575), np.float64(0.0009419136946090108), np.float64(0.0017105637540450705), np.float64(0.002852118476717496), np.float64(0.004508629878766827), np.float64(0.006740042355203938), np.float64(0.006460625012396977), np.float64(0.011290962984799697), np.float64(0.01046955689222782), np.float64(0.014426840039482098), np.float64(0.014004858046539672), np.float64(0.012524454527895572), np.float64(0.017031626357864347), np.float64(0.019054182009935118), np.float64(0.022283494271838584), np.float64(0.03276714067301452), np.float64(0.036158792485946285), np.float64(0.04297359256273643), np.float64(0.044594234863564605), np.float64(0.04564599598529938), np.float64(0.05011142490565416), np.float64(0.04684887954406853), np.float64(0.05083905194115271), np.float64(0.055214928434421766), np.float64(0.05692551629261668), np.float64(0.056689870256246715), np.float64(0.058656445707469834), np.float64(0.059207095658930446), np.float64(0.05937680677635039), np.float64(0.0632676410116451), np.float64(0.06389983341449117), np.float64(0.06462092849273492), np.float64(0.0647819404940062), np.float64(0.06937569028821705), np.float64(0.06955530825431741), np.float64(0.06504379117240286), np.float64(0.07008051239312212), np.float64(0.07275969698129495), np.float64(0.07344834743635578), np.float64(0.07529481337480716), np.float64(0.0742813362016676), np.float64(0.07614184792530418)]\n"
     ]
    },
    {
     "name": "stderr",
     "output_type": "stream",
     "text": [
      "260it [01:02,  4.15it/s]\n",
      "4it [00:05,  1.44s/it]\n"
     ]
    },
    {
     "name": "stdout",
     "output_type": "stream",
     "text": [
      "[np.float64(-0.000922340277686118), np.float64(0.0005044275701732575), np.float64(0.0009419136946090108), np.float64(0.0017105637540450705), np.float64(0.002852118476717496), np.float64(0.004508629878766827), np.float64(0.006740042355203938), np.float64(0.006460625012396977), np.float64(0.011290962984799697), np.float64(0.01046955689222782), np.float64(0.014426840039482098), np.float64(0.014004858046539672), np.float64(0.012524454527895572), np.float64(0.017031626357864347), np.float64(0.019054182009935118), np.float64(0.022283494271838584), np.float64(0.03276714067301452), np.float64(0.036158792485946285), np.float64(0.04297359256273643), np.float64(0.044594234863564605), np.float64(0.04564599598529938), np.float64(0.05011142490565416), np.float64(0.04684887954406853), np.float64(0.05083905194115271), np.float64(0.055214928434421766), np.float64(0.05692551629261668), np.float64(0.056689870256246715), np.float64(0.058656445707469834), np.float64(0.059207095658930446), np.float64(0.05937680677635039), np.float64(0.0632676410116451), np.float64(0.06389983341449117), np.float64(0.06462092849273492), np.float64(0.0647819404940062), np.float64(0.06937569028821705), np.float64(0.06955530825431741), np.float64(0.06504379117240286), np.float64(0.07008051239312212), np.float64(0.07275969698129495), np.float64(0.07344834743635578), np.float64(0.07529481337480716), np.float64(0.0742813362016676), np.float64(0.07614184792530418), np.float64(0.07817839500699741)]\n"
     ]
    },
    {
     "name": "stderr",
     "output_type": "stream",
     "text": [
      "260it [01:01,  4.22it/s]\n",
      "4it [00:05,  1.37s/it]\n"
     ]
    },
    {
     "name": "stdout",
     "output_type": "stream",
     "text": [
      "[np.float64(-0.000922340277686118), np.float64(0.0005044275701732575), np.float64(0.0009419136946090108), np.float64(0.0017105637540450705), np.float64(0.002852118476717496), np.float64(0.004508629878766827), np.float64(0.006740042355203938), np.float64(0.006460625012396977), np.float64(0.011290962984799697), np.float64(0.01046955689222782), np.float64(0.014426840039482098), np.float64(0.014004858046539672), np.float64(0.012524454527895572), np.float64(0.017031626357864347), np.float64(0.019054182009935118), np.float64(0.022283494271838584), np.float64(0.03276714067301452), np.float64(0.036158792485946285), np.float64(0.04297359256273643), np.float64(0.044594234863564605), np.float64(0.04564599598529938), np.float64(0.05011142490565416), np.float64(0.04684887954406853), np.float64(0.05083905194115271), np.float64(0.055214928434421766), np.float64(0.05692551629261668), np.float64(0.056689870256246715), np.float64(0.058656445707469834), np.float64(0.059207095658930446), np.float64(0.05937680677635039), np.float64(0.0632676410116451), np.float64(0.06389983341449117), np.float64(0.06462092849273492), np.float64(0.0647819404940062), np.float64(0.06937569028821705), np.float64(0.06955530825431741), np.float64(0.06504379117240286), np.float64(0.07008051239312212), np.float64(0.07275969698129495), np.float64(0.07344834743635578), np.float64(0.07529481337480716), np.float64(0.0742813362016676), np.float64(0.07614184792530418), np.float64(0.07817839500699741), np.float64(0.07566971251468653)]\n"
     ]
    },
    {
     "name": "stderr",
     "output_type": "stream",
     "text": [
      "260it [00:59,  4.35it/s]\n",
      "4it [00:05,  1.50s/it]\n"
     ]
    },
    {
     "name": "stdout",
     "output_type": "stream",
     "text": [
      "[np.float64(-0.000922340277686118), np.float64(0.0005044275701732575), np.float64(0.0009419136946090108), np.float64(0.0017105637540450705), np.float64(0.002852118476717496), np.float64(0.004508629878766827), np.float64(0.006740042355203938), np.float64(0.006460625012396977), np.float64(0.011290962984799697), np.float64(0.01046955689222782), np.float64(0.014426840039482098), np.float64(0.014004858046539672), np.float64(0.012524454527895572), np.float64(0.017031626357864347), np.float64(0.019054182009935118), np.float64(0.022283494271838584), np.float64(0.03276714067301452), np.float64(0.036158792485946285), np.float64(0.04297359256273643), np.float64(0.044594234863564605), np.float64(0.04564599598529938), np.float64(0.05011142490565416), np.float64(0.04684887954406853), np.float64(0.05083905194115271), np.float64(0.055214928434421766), np.float64(0.05692551629261668), np.float64(0.056689870256246715), np.float64(0.058656445707469834), np.float64(0.059207095658930446), np.float64(0.05937680677635039), np.float64(0.0632676410116451), np.float64(0.06389983341449117), np.float64(0.06462092849273492), np.float64(0.0647819404940062), np.float64(0.06937569028821705), np.float64(0.06955530825431741), np.float64(0.06504379117240286), np.float64(0.07008051239312212), np.float64(0.07275969698129495), np.float64(0.07344834743635578), np.float64(0.07529481337480716), np.float64(0.0742813362016676), np.float64(0.07614184792530418), np.float64(0.07817839500699741), np.float64(0.07566971251468653), np.float64(0.07738471368891074)]\n"
     ]
    },
    {
     "name": "stderr",
     "output_type": "stream",
     "text": [
      "260it [01:04,  4.04it/s]\n",
      "4it [00:05,  1.43s/it]\n"
     ]
    },
    {
     "name": "stdout",
     "output_type": "stream",
     "text": [
      "[np.float64(-0.000922340277686118), np.float64(0.0005044275701732575), np.float64(0.0009419136946090108), np.float64(0.0017105637540450705), np.float64(0.002852118476717496), np.float64(0.004508629878766827), np.float64(0.006740042355203938), np.float64(0.006460625012396977), np.float64(0.011290962984799697), np.float64(0.01046955689222782), np.float64(0.014426840039482098), np.float64(0.014004858046539672), np.float64(0.012524454527895572), np.float64(0.017031626357864347), np.float64(0.019054182009935118), np.float64(0.022283494271838584), np.float64(0.03276714067301452), np.float64(0.036158792485946285), np.float64(0.04297359256273643), np.float64(0.044594234863564605), np.float64(0.04564599598529938), np.float64(0.05011142490565416), np.float64(0.04684887954406853), np.float64(0.05083905194115271), np.float64(0.055214928434421766), np.float64(0.05692551629261668), np.float64(0.056689870256246715), np.float64(0.058656445707469834), np.float64(0.059207095658930446), np.float64(0.05937680677635039), np.float64(0.0632676410116451), np.float64(0.06389983341449117), np.float64(0.06462092849273492), np.float64(0.0647819404940062), np.float64(0.06937569028821705), np.float64(0.06955530825431741), np.float64(0.06504379117240286), np.float64(0.07008051239312212), np.float64(0.07275969698129495), np.float64(0.07344834743635578), np.float64(0.07529481337480716), np.float64(0.0742813362016676), np.float64(0.07614184792530418), np.float64(0.07817839500699741), np.float64(0.07566971251468653), np.float64(0.07738471368891074), np.float64(0.07858771523211844)]\n"
     ]
    },
    {
     "name": "stderr",
     "output_type": "stream",
     "text": [
      "260it [01:01,  4.23it/s]\n",
      "4it [00:05,  1.44s/it]\n"
     ]
    },
    {
     "name": "stdout",
     "output_type": "stream",
     "text": [
      "[np.float64(-0.000922340277686118), np.float64(0.0005044275701732575), np.float64(0.0009419136946090108), np.float64(0.0017105637540450705), np.float64(0.002852118476717496), np.float64(0.004508629878766827), np.float64(0.006740042355203938), np.float64(0.006460625012396977), np.float64(0.011290962984799697), np.float64(0.01046955689222782), np.float64(0.014426840039482098), np.float64(0.014004858046539672), np.float64(0.012524454527895572), np.float64(0.017031626357864347), np.float64(0.019054182009935118), np.float64(0.022283494271838584), np.float64(0.03276714067301452), np.float64(0.036158792485946285), np.float64(0.04297359256273643), np.float64(0.044594234863564605), np.float64(0.04564599598529938), np.float64(0.05011142490565416), np.float64(0.04684887954406853), np.float64(0.05083905194115271), np.float64(0.055214928434421766), np.float64(0.05692551629261668), np.float64(0.056689870256246715), np.float64(0.058656445707469834), np.float64(0.059207095658930446), np.float64(0.05937680677635039), np.float64(0.0632676410116451), np.float64(0.06389983341449117), np.float64(0.06462092849273492), np.float64(0.0647819404940062), np.float64(0.06937569028821705), np.float64(0.06955530825431741), np.float64(0.06504379117240286), np.float64(0.07008051239312212), np.float64(0.07275969698129495), np.float64(0.07344834743635578), np.float64(0.07529481337480716), np.float64(0.0742813362016676), np.float64(0.07614184792530418), np.float64(0.07817839500699741), np.float64(0.07566971251468653), np.float64(0.07738471368891074), np.float64(0.07858771523211844), np.float64(0.07999170793588715)]\n"
     ]
    },
    {
     "name": "stderr",
     "output_type": "stream",
     "text": [
      "260it [00:58,  4.46it/s]\n",
      "4it [00:04,  1.17s/it]\n"
     ]
    },
    {
     "name": "stdout",
     "output_type": "stream",
     "text": [
      "[np.float64(-0.000922340277686118), np.float64(0.0005044275701732575), np.float64(0.0009419136946090108), np.float64(0.0017105637540450705), np.float64(0.002852118476717496), np.float64(0.004508629878766827), np.float64(0.006740042355203938), np.float64(0.006460625012396977), np.float64(0.011290962984799697), np.float64(0.01046955689222782), np.float64(0.014426840039482098), np.float64(0.014004858046539672), np.float64(0.012524454527895572), np.float64(0.017031626357864347), np.float64(0.019054182009935118), np.float64(0.022283494271838584), np.float64(0.03276714067301452), np.float64(0.036158792485946285), np.float64(0.04297359256273643), np.float64(0.044594234863564605), np.float64(0.04564599598529938), np.float64(0.05011142490565416), np.float64(0.04684887954406853), np.float64(0.05083905194115271), np.float64(0.055214928434421766), np.float64(0.05692551629261668), np.float64(0.056689870256246715), np.float64(0.058656445707469834), np.float64(0.059207095658930446), np.float64(0.05937680677635039), np.float64(0.0632676410116451), np.float64(0.06389983341449117), np.float64(0.06462092849273492), np.float64(0.0647819404940062), np.float64(0.06937569028821705), np.float64(0.06955530825431741), np.float64(0.06504379117240286), np.float64(0.07008051239312212), np.float64(0.07275969698129495), np.float64(0.07344834743635578), np.float64(0.07529481337480716), np.float64(0.0742813362016676), np.float64(0.07614184792530418), np.float64(0.07817839500699741), np.float64(0.07566971251468653), np.float64(0.07738471368891074), np.float64(0.07858771523211844), np.float64(0.07999170793588715), np.float64(0.079688803182708)]\n"
     ]
    },
    {
     "name": "stderr",
     "output_type": "stream",
     "text": [
      "260it [00:55,  4.72it/s]\n",
      "4it [00:04,  1.13s/it]\n"
     ]
    },
    {
     "name": "stdout",
     "output_type": "stream",
     "text": [
      "[np.float64(-0.000922340277686118), np.float64(0.0005044275701732575), np.float64(0.0009419136946090108), np.float64(0.0017105637540450705), np.float64(0.002852118476717496), np.float64(0.004508629878766827), np.float64(0.006740042355203938), np.float64(0.006460625012396977), np.float64(0.011290962984799697), np.float64(0.01046955689222782), np.float64(0.014426840039482098), np.float64(0.014004858046539672), np.float64(0.012524454527895572), np.float64(0.017031626357864347), np.float64(0.019054182009935118), np.float64(0.022283494271838584), np.float64(0.03276714067301452), np.float64(0.036158792485946285), np.float64(0.04297359256273643), np.float64(0.044594234863564605), np.float64(0.04564599598529938), np.float64(0.05011142490565416), np.float64(0.04684887954406853), np.float64(0.05083905194115271), np.float64(0.055214928434421766), np.float64(0.05692551629261668), np.float64(0.056689870256246715), np.float64(0.058656445707469834), np.float64(0.059207095658930446), np.float64(0.05937680677635039), np.float64(0.0632676410116451), np.float64(0.06389983341449117), np.float64(0.06462092849273492), np.float64(0.0647819404940062), np.float64(0.06937569028821705), np.float64(0.06955530825431741), np.float64(0.06504379117240286), np.float64(0.07008051239312212), np.float64(0.07275969698129495), np.float64(0.07344834743635578), np.float64(0.07529481337480716), np.float64(0.0742813362016676), np.float64(0.07614184792530418), np.float64(0.07817839500699741), np.float64(0.07566971251468653), np.float64(0.07738471368891074), np.float64(0.07858771523211844), np.float64(0.07999170793588715), np.float64(0.079688803182708), np.float64(0.08262337597323878)]\n"
     ]
    },
    {
     "name": "stderr",
     "output_type": "stream",
     "text": [
      "260it [00:56,  4.60it/s]\n",
      "4it [00:04,  1.18s/it]\n"
     ]
    },
    {
     "name": "stdout",
     "output_type": "stream",
     "text": [
      "[np.float64(-0.000922340277686118), np.float64(0.0005044275701732575), np.float64(0.0009419136946090108), np.float64(0.0017105637540450705), np.float64(0.002852118476717496), np.float64(0.004508629878766827), np.float64(0.006740042355203938), np.float64(0.006460625012396977), np.float64(0.011290962984799697), np.float64(0.01046955689222782), np.float64(0.014426840039482098), np.float64(0.014004858046539672), np.float64(0.012524454527895572), np.float64(0.017031626357864347), np.float64(0.019054182009935118), np.float64(0.022283494271838584), np.float64(0.03276714067301452), np.float64(0.036158792485946285), np.float64(0.04297359256273643), np.float64(0.044594234863564605), np.float64(0.04564599598529938), np.float64(0.05011142490565416), np.float64(0.04684887954406853), np.float64(0.05083905194115271), np.float64(0.055214928434421766), np.float64(0.05692551629261668), np.float64(0.056689870256246715), np.float64(0.058656445707469834), np.float64(0.059207095658930446), np.float64(0.05937680677635039), np.float64(0.0632676410116451), np.float64(0.06389983341449117), np.float64(0.06462092849273492), np.float64(0.0647819404940062), np.float64(0.06937569028821705), np.float64(0.06955530825431741), np.float64(0.06504379117240286), np.float64(0.07008051239312212), np.float64(0.07275969698129495), np.float64(0.07344834743635578), np.float64(0.07529481337480716), np.float64(0.0742813362016676), np.float64(0.07614184792530418), np.float64(0.07817839500699741), np.float64(0.07566971251468653), np.float64(0.07738471368891074), np.float64(0.07858771523211844), np.float64(0.07999170793588715), np.float64(0.079688803182708), np.float64(0.08262337597323878), np.float64(0.0818528757471481)]\n"
     ]
    },
    {
     "name": "stderr",
     "output_type": "stream",
     "text": [
      "260it [00:55,  4.68it/s]\n",
      "4it [00:05,  1.26s/it]\n"
     ]
    },
    {
     "name": "stdout",
     "output_type": "stream",
     "text": [
      "[np.float64(-0.000922340277686118), np.float64(0.0005044275701732575), np.float64(0.0009419136946090108), np.float64(0.0017105637540450705), np.float64(0.002852118476717496), np.float64(0.004508629878766827), np.float64(0.006740042355203938), np.float64(0.006460625012396977), np.float64(0.011290962984799697), np.float64(0.01046955689222782), np.float64(0.014426840039482098), np.float64(0.014004858046539672), np.float64(0.012524454527895572), np.float64(0.017031626357864347), np.float64(0.019054182009935118), np.float64(0.022283494271838584), np.float64(0.03276714067301452), np.float64(0.036158792485946285), np.float64(0.04297359256273643), np.float64(0.044594234863564605), np.float64(0.04564599598529938), np.float64(0.05011142490565416), np.float64(0.04684887954406853), np.float64(0.05083905194115271), np.float64(0.055214928434421766), np.float64(0.05692551629261668), np.float64(0.056689870256246715), np.float64(0.058656445707469834), np.float64(0.059207095658930446), np.float64(0.05937680677635039), np.float64(0.0632676410116451), np.float64(0.06389983341449117), np.float64(0.06462092849273492), np.float64(0.0647819404940062), np.float64(0.06937569028821705), np.float64(0.06955530825431741), np.float64(0.06504379117240286), np.float64(0.07008051239312212), np.float64(0.07275969698129495), np.float64(0.07344834743635578), np.float64(0.07529481337480716), np.float64(0.0742813362016676), np.float64(0.07614184792530418), np.float64(0.07817839500699741), np.float64(0.07566971251468653), np.float64(0.07738471368891074), np.float64(0.07858771523211844), np.float64(0.07999170793588715), np.float64(0.079688803182708), np.float64(0.08262337597323878), np.float64(0.0818528757471481), np.float64(0.08277616464776891)]\n"
     ]
    },
    {
     "name": "stderr",
     "output_type": "stream",
     "text": [
      "260it [00:54,  4.77it/s]\n",
      "4it [00:04,  1.16s/it]\n"
     ]
    },
    {
     "name": "stdout",
     "output_type": "stream",
     "text": [
      "[np.float64(-0.000922340277686118), np.float64(0.0005044275701732575), np.float64(0.0009419136946090108), np.float64(0.0017105637540450705), np.float64(0.002852118476717496), np.float64(0.004508629878766827), np.float64(0.006740042355203938), np.float64(0.006460625012396977), np.float64(0.011290962984799697), np.float64(0.01046955689222782), np.float64(0.014426840039482098), np.float64(0.014004858046539672), np.float64(0.012524454527895572), np.float64(0.017031626357864347), np.float64(0.019054182009935118), np.float64(0.022283494271838584), np.float64(0.03276714067301452), np.float64(0.036158792485946285), np.float64(0.04297359256273643), np.float64(0.044594234863564605), np.float64(0.04564599598529938), np.float64(0.05011142490565416), np.float64(0.04684887954406853), np.float64(0.05083905194115271), np.float64(0.055214928434421766), np.float64(0.05692551629261668), np.float64(0.056689870256246715), np.float64(0.058656445707469834), np.float64(0.059207095658930446), np.float64(0.05937680677635039), np.float64(0.0632676410116451), np.float64(0.06389983341449117), np.float64(0.06462092849273492), np.float64(0.0647819404940062), np.float64(0.06937569028821705), np.float64(0.06955530825431741), np.float64(0.06504379117240286), np.float64(0.07008051239312212), np.float64(0.07275969698129495), np.float64(0.07344834743635578), np.float64(0.07529481337480716), np.float64(0.0742813362016676), np.float64(0.07614184792530418), np.float64(0.07817839500699741), np.float64(0.07566971251468653), np.float64(0.07738471368891074), np.float64(0.07858771523211844), np.float64(0.07999170793588715), np.float64(0.079688803182708), np.float64(0.08262337597323878), np.float64(0.0818528757471481), np.float64(0.08277616464776891), np.float64(0.08363165339008896)]\n"
     ]
    },
    {
     "name": "stderr",
     "output_type": "stream",
     "text": [
      "260it [00:55,  4.68it/s]\n",
      "4it [00:05,  1.31s/it]\n"
     ]
    },
    {
     "name": "stdout",
     "output_type": "stream",
     "text": [
      "[np.float64(-0.000922340277686118), np.float64(0.0005044275701732575), np.float64(0.0009419136946090108), np.float64(0.0017105637540450705), np.float64(0.002852118476717496), np.float64(0.004508629878766827), np.float64(0.006740042355203938), np.float64(0.006460625012396977), np.float64(0.011290962984799697), np.float64(0.01046955689222782), np.float64(0.014426840039482098), np.float64(0.014004858046539672), np.float64(0.012524454527895572), np.float64(0.017031626357864347), np.float64(0.019054182009935118), np.float64(0.022283494271838584), np.float64(0.03276714067301452), np.float64(0.036158792485946285), np.float64(0.04297359256273643), np.float64(0.044594234863564605), np.float64(0.04564599598529938), np.float64(0.05011142490565416), np.float64(0.04684887954406853), np.float64(0.05083905194115271), np.float64(0.055214928434421766), np.float64(0.05692551629261668), np.float64(0.056689870256246715), np.float64(0.058656445707469834), np.float64(0.059207095658930446), np.float64(0.05937680677635039), np.float64(0.0632676410116451), np.float64(0.06389983341449117), np.float64(0.06462092849273492), np.float64(0.0647819404940062), np.float64(0.06937569028821705), np.float64(0.06955530825431741), np.float64(0.06504379117240286), np.float64(0.07008051239312212), np.float64(0.07275969698129495), np.float64(0.07344834743635578), np.float64(0.07529481337480716), np.float64(0.0742813362016676), np.float64(0.07614184792530418), np.float64(0.07817839500699741), np.float64(0.07566971251468653), np.float64(0.07738471368891074), np.float64(0.07858771523211844), np.float64(0.07999170793588715), np.float64(0.079688803182708), np.float64(0.08262337597323878), np.float64(0.0818528757471481), np.float64(0.08277616464776891), np.float64(0.08363165339008896), np.float64(0.08439160966261458)]\n"
     ]
    },
    {
     "name": "stderr",
     "output_type": "stream",
     "text": [
      "260it [01:00,  4.31it/s]\n",
      "4it [00:06,  1.61s/it]\n"
     ]
    },
    {
     "name": "stdout",
     "output_type": "stream",
     "text": [
      "[np.float64(-0.000922340277686118), np.float64(0.0005044275701732575), np.float64(0.0009419136946090108), np.float64(0.0017105637540450705), np.float64(0.002852118476717496), np.float64(0.004508629878766827), np.float64(0.006740042355203938), np.float64(0.006460625012396977), np.float64(0.011290962984799697), np.float64(0.01046955689222782), np.float64(0.014426840039482098), np.float64(0.014004858046539672), np.float64(0.012524454527895572), np.float64(0.017031626357864347), np.float64(0.019054182009935118), np.float64(0.022283494271838584), np.float64(0.03276714067301452), np.float64(0.036158792485946285), np.float64(0.04297359256273643), np.float64(0.044594234863564605), np.float64(0.04564599598529938), np.float64(0.05011142490565416), np.float64(0.04684887954406853), np.float64(0.05083905194115271), np.float64(0.055214928434421766), np.float64(0.05692551629261668), np.float64(0.056689870256246715), np.float64(0.058656445707469834), np.float64(0.059207095658930446), np.float64(0.05937680677635039), np.float64(0.0632676410116451), np.float64(0.06389983341449117), np.float64(0.06462092849273492), np.float64(0.0647819404940062), np.float64(0.06937569028821705), np.float64(0.06955530825431741), np.float64(0.06504379117240286), np.float64(0.07008051239312212), np.float64(0.07275969698129495), np.float64(0.07344834743635578), np.float64(0.07529481337480716), np.float64(0.0742813362016676), np.float64(0.07614184792530418), np.float64(0.07817839500699741), np.float64(0.07566971251468653), np.float64(0.07738471368891074), np.float64(0.07858771523211844), np.float64(0.07999170793588715), np.float64(0.079688803182708), np.float64(0.08262337597323878), np.float64(0.0818528757471481), np.float64(0.08277616464776891), np.float64(0.08363165339008896), np.float64(0.08439160966261458), np.float64(0.08541202383091887)]\n"
     ]
    },
    {
     "name": "stderr",
     "output_type": "stream",
     "text": [
      "260it [01:01,  4.25it/s]\n",
      "4it [00:05,  1.41s/it]\n"
     ]
    },
    {
     "name": "stdout",
     "output_type": "stream",
     "text": [
      "[np.float64(-0.000922340277686118), np.float64(0.0005044275701732575), np.float64(0.0009419136946090108), np.float64(0.0017105637540450705), np.float64(0.002852118476717496), np.float64(0.004508629878766827), np.float64(0.006740042355203938), np.float64(0.006460625012396977), np.float64(0.011290962984799697), np.float64(0.01046955689222782), np.float64(0.014426840039482098), np.float64(0.014004858046539672), np.float64(0.012524454527895572), np.float64(0.017031626357864347), np.float64(0.019054182009935118), np.float64(0.022283494271838584), np.float64(0.03276714067301452), np.float64(0.036158792485946285), np.float64(0.04297359256273643), np.float64(0.044594234863564605), np.float64(0.04564599598529938), np.float64(0.05011142490565416), np.float64(0.04684887954406853), np.float64(0.05083905194115271), np.float64(0.055214928434421766), np.float64(0.05692551629261668), np.float64(0.056689870256246715), np.float64(0.058656445707469834), np.float64(0.059207095658930446), np.float64(0.05937680677635039), np.float64(0.0632676410116451), np.float64(0.06389983341449117), np.float64(0.06462092849273492), np.float64(0.0647819404940062), np.float64(0.06937569028821705), np.float64(0.06955530825431741), np.float64(0.06504379117240286), np.float64(0.07008051239312212), np.float64(0.07275969698129495), np.float64(0.07344834743635578), np.float64(0.07529481337480716), np.float64(0.0742813362016676), np.float64(0.07614184792530418), np.float64(0.07817839500699741), np.float64(0.07566971251468653), np.float64(0.07738471368891074), np.float64(0.07858771523211844), np.float64(0.07999170793588715), np.float64(0.079688803182708), np.float64(0.08262337597323878), np.float64(0.0818528757471481), np.float64(0.08277616464776891), np.float64(0.08363165339008896), np.float64(0.08439160966261458), np.float64(0.08541202383091887), np.float64(0.08639503253313541)]\n"
     ]
    },
    {
     "name": "stderr",
     "output_type": "stream",
     "text": [
      "260it [01:05,  3.98it/s]\n",
      "4it [00:05,  1.50s/it]\n"
     ]
    },
    {
     "name": "stdout",
     "output_type": "stream",
     "text": [
      "[np.float64(-0.000922340277686118), np.float64(0.0005044275701732575), np.float64(0.0009419136946090108), np.float64(0.0017105637540450705), np.float64(0.002852118476717496), np.float64(0.004508629878766827), np.float64(0.006740042355203938), np.float64(0.006460625012396977), np.float64(0.011290962984799697), np.float64(0.01046955689222782), np.float64(0.014426840039482098), np.float64(0.014004858046539672), np.float64(0.012524454527895572), np.float64(0.017031626357864347), np.float64(0.019054182009935118), np.float64(0.022283494271838584), np.float64(0.03276714067301452), np.float64(0.036158792485946285), np.float64(0.04297359256273643), np.float64(0.044594234863564605), np.float64(0.04564599598529938), np.float64(0.05011142490565416), np.float64(0.04684887954406853), np.float64(0.05083905194115271), np.float64(0.055214928434421766), np.float64(0.05692551629261668), np.float64(0.056689870256246715), np.float64(0.058656445707469834), np.float64(0.059207095658930446), np.float64(0.05937680677635039), np.float64(0.0632676410116451), np.float64(0.06389983341449117), np.float64(0.06462092849273492), np.float64(0.0647819404940062), np.float64(0.06937569028821705), np.float64(0.06955530825431741), np.float64(0.06504379117240286), np.float64(0.07008051239312212), np.float64(0.07275969698129495), np.float64(0.07344834743635578), np.float64(0.07529481337480716), np.float64(0.0742813362016676), np.float64(0.07614184792530418), np.float64(0.07817839500699741), np.float64(0.07566971251468653), np.float64(0.07738471368891074), np.float64(0.07858771523211844), np.float64(0.07999170793588715), np.float64(0.079688803182708), np.float64(0.08262337597323878), np.float64(0.0818528757471481), np.float64(0.08277616464776891), np.float64(0.08363165339008896), np.float64(0.08439160966261458), np.float64(0.08541202383091887), np.float64(0.08639503253313541), np.float64(0.08740894901944432)]\n"
     ]
    },
    {
     "name": "stderr",
     "output_type": "stream",
     "text": [
      "260it [01:03,  4.11it/s]\n",
      "4it [00:05,  1.29s/it]\n"
     ]
    },
    {
     "name": "stdout",
     "output_type": "stream",
     "text": [
      "[np.float64(-0.000922340277686118), np.float64(0.0005044275701732575), np.float64(0.0009419136946090108), np.float64(0.0017105637540450705), np.float64(0.002852118476717496), np.float64(0.004508629878766827), np.float64(0.006740042355203938), np.float64(0.006460625012396977), np.float64(0.011290962984799697), np.float64(0.01046955689222782), np.float64(0.014426840039482098), np.float64(0.014004858046539672), np.float64(0.012524454527895572), np.float64(0.017031626357864347), np.float64(0.019054182009935118), np.float64(0.022283494271838584), np.float64(0.03276714067301452), np.float64(0.036158792485946285), np.float64(0.04297359256273643), np.float64(0.044594234863564605), np.float64(0.04564599598529938), np.float64(0.05011142490565416), np.float64(0.04684887954406853), np.float64(0.05083905194115271), np.float64(0.055214928434421766), np.float64(0.05692551629261668), np.float64(0.056689870256246715), np.float64(0.058656445707469834), np.float64(0.059207095658930446), np.float64(0.05937680677635039), np.float64(0.0632676410116451), np.float64(0.06389983341449117), np.float64(0.06462092849273492), np.float64(0.0647819404940062), np.float64(0.06937569028821705), np.float64(0.06955530825431741), np.float64(0.06504379117240286), np.float64(0.07008051239312212), np.float64(0.07275969698129495), np.float64(0.07344834743635578), np.float64(0.07529481337480716), np.float64(0.0742813362016676), np.float64(0.07614184792530418), np.float64(0.07817839500699741), np.float64(0.07566971251468653), np.float64(0.07738471368891074), np.float64(0.07858771523211844), np.float64(0.07999170793588715), np.float64(0.079688803182708), np.float64(0.08262337597323878), np.float64(0.0818528757471481), np.float64(0.08277616464776891), np.float64(0.08363165339008896), np.float64(0.08439160966261458), np.float64(0.08541202383091887), np.float64(0.08639503253313541), np.float64(0.08740894901944432), np.float64(0.08850482442333048)]\n"
     ]
    },
    {
     "name": "stderr",
     "output_type": "stream",
     "text": [
      "260it [01:04,  4.02it/s]\n",
      "4it [00:05,  1.35s/it]\n"
     ]
    },
    {
     "name": "stdout",
     "output_type": "stream",
     "text": [
      "[np.float64(-0.000922340277686118), np.float64(0.0005044275701732575), np.float64(0.0009419136946090108), np.float64(0.0017105637540450705), np.float64(0.002852118476717496), np.float64(0.004508629878766827), np.float64(0.006740042355203938), np.float64(0.006460625012396977), np.float64(0.011290962984799697), np.float64(0.01046955689222782), np.float64(0.014426840039482098), np.float64(0.014004858046539672), np.float64(0.012524454527895572), np.float64(0.017031626357864347), np.float64(0.019054182009935118), np.float64(0.022283494271838584), np.float64(0.03276714067301452), np.float64(0.036158792485946285), np.float64(0.04297359256273643), np.float64(0.044594234863564605), np.float64(0.04564599598529938), np.float64(0.05011142490565416), np.float64(0.04684887954406853), np.float64(0.05083905194115271), np.float64(0.055214928434421766), np.float64(0.05692551629261668), np.float64(0.056689870256246715), np.float64(0.058656445707469834), np.float64(0.059207095658930446), np.float64(0.05937680677635039), np.float64(0.0632676410116451), np.float64(0.06389983341449117), np.float64(0.06462092849273492), np.float64(0.0647819404940062), np.float64(0.06937569028821705), np.float64(0.06955530825431741), np.float64(0.06504379117240286), np.float64(0.07008051239312212), np.float64(0.07275969698129495), np.float64(0.07344834743635578), np.float64(0.07529481337480716), np.float64(0.0742813362016676), np.float64(0.07614184792530418), np.float64(0.07817839500699741), np.float64(0.07566971251468653), np.float64(0.07738471368891074), np.float64(0.07858771523211844), np.float64(0.07999170793588715), np.float64(0.079688803182708), np.float64(0.08262337597323878), np.float64(0.0818528757471481), np.float64(0.08277616464776891), np.float64(0.08363165339008896), np.float64(0.08439160966261458), np.float64(0.08541202383091887), np.float64(0.08639503253313541), np.float64(0.08740894901944432), np.float64(0.08850482442333048), np.float64(0.08779739819801438)]\n"
     ]
    },
    {
     "name": "stderr",
     "output_type": "stream",
     "text": [
      "260it [01:05,  3.94it/s]\n",
      "4it [00:04,  1.14s/it]\n"
     ]
    },
    {
     "name": "stdout",
     "output_type": "stream",
     "text": [
      "[np.float64(-0.000922340277686118), np.float64(0.0005044275701732575), np.float64(0.0009419136946090108), np.float64(0.0017105637540450705), np.float64(0.002852118476717496), np.float64(0.004508629878766827), np.float64(0.006740042355203938), np.float64(0.006460625012396977), np.float64(0.011290962984799697), np.float64(0.01046955689222782), np.float64(0.014426840039482098), np.float64(0.014004858046539672), np.float64(0.012524454527895572), np.float64(0.017031626357864347), np.float64(0.019054182009935118), np.float64(0.022283494271838584), np.float64(0.03276714067301452), np.float64(0.036158792485946285), np.float64(0.04297359256273643), np.float64(0.044594234863564605), np.float64(0.04564599598529938), np.float64(0.05011142490565416), np.float64(0.04684887954406853), np.float64(0.05083905194115271), np.float64(0.055214928434421766), np.float64(0.05692551629261668), np.float64(0.056689870256246715), np.float64(0.058656445707469834), np.float64(0.059207095658930446), np.float64(0.05937680677635039), np.float64(0.0632676410116451), np.float64(0.06389983341449117), np.float64(0.06462092849273492), np.float64(0.0647819404940062), np.float64(0.06937569028821705), np.float64(0.06955530825431741), np.float64(0.06504379117240286), np.float64(0.07008051239312212), np.float64(0.07275969698129495), np.float64(0.07344834743635578), np.float64(0.07529481337480716), np.float64(0.0742813362016676), np.float64(0.07614184792530418), np.float64(0.07817839500699741), np.float64(0.07566971251468653), np.float64(0.07738471368891074), np.float64(0.07858771523211844), np.float64(0.07999170793588715), np.float64(0.079688803182708), np.float64(0.08262337597323878), np.float64(0.0818528757471481), np.float64(0.08277616464776891), np.float64(0.08363165339008896), np.float64(0.08439160966261458), np.float64(0.08541202383091887), np.float64(0.08639503253313541), np.float64(0.08740894901944432), np.float64(0.08850482442333048), np.float64(0.08779739819801438), np.float64(0.08932077434839912)]\n"
     ]
    },
    {
     "name": "stderr",
     "output_type": "stream",
     "text": [
      "260it [01:04,  4.01it/s]\n",
      "4it [00:05,  1.32s/it]\n"
     ]
    },
    {
     "name": "stdout",
     "output_type": "stream",
     "text": [
      "[np.float64(-0.000922340277686118), np.float64(0.0005044275701732575), np.float64(0.0009419136946090108), np.float64(0.0017105637540450705), np.float64(0.002852118476717496), np.float64(0.004508629878766827), np.float64(0.006740042355203938), np.float64(0.006460625012396977), np.float64(0.011290962984799697), np.float64(0.01046955689222782), np.float64(0.014426840039482098), np.float64(0.014004858046539672), np.float64(0.012524454527895572), np.float64(0.017031626357864347), np.float64(0.019054182009935118), np.float64(0.022283494271838584), np.float64(0.03276714067301452), np.float64(0.036158792485946285), np.float64(0.04297359256273643), np.float64(0.044594234863564605), np.float64(0.04564599598529938), np.float64(0.05011142490565416), np.float64(0.04684887954406853), np.float64(0.05083905194115271), np.float64(0.055214928434421766), np.float64(0.05692551629261668), np.float64(0.056689870256246715), np.float64(0.058656445707469834), np.float64(0.059207095658930446), np.float64(0.05937680677635039), np.float64(0.0632676410116451), np.float64(0.06389983341449117), np.float64(0.06462092849273492), np.float64(0.0647819404940062), np.float64(0.06937569028821705), np.float64(0.06955530825431741), np.float64(0.06504379117240286), np.float64(0.07008051239312212), np.float64(0.07275969698129495), np.float64(0.07344834743635578), np.float64(0.07529481337480716), np.float64(0.0742813362016676), np.float64(0.07614184792530418), np.float64(0.07817839500699741), np.float64(0.07566971251468653), np.float64(0.07738471368891074), np.float64(0.07858771523211844), np.float64(0.07999170793588715), np.float64(0.079688803182708), np.float64(0.08262337597323878), np.float64(0.0818528757471481), np.float64(0.08277616464776891), np.float64(0.08363165339008896), np.float64(0.08439160966261458), np.float64(0.08541202383091887), np.float64(0.08639503253313541), np.float64(0.08740894901944432), np.float64(0.08850482442333048), np.float64(0.08779739819801438), np.float64(0.08932077434839912), np.float64(0.09045487886619934)]\n"
     ]
    },
    {
     "name": "stderr",
     "output_type": "stream",
     "text": [
      "260it [01:04,  4.05it/s]\n",
      "4it [00:05,  1.37s/it]\n"
     ]
    },
    {
     "name": "stdout",
     "output_type": "stream",
     "text": [
      "[np.float64(-0.000922340277686118), np.float64(0.0005044275701732575), np.float64(0.0009419136946090108), np.float64(0.0017105637540450705), np.float64(0.002852118476717496), np.float64(0.004508629878766827), np.float64(0.006740042355203938), np.float64(0.006460625012396977), np.float64(0.011290962984799697), np.float64(0.01046955689222782), np.float64(0.014426840039482098), np.float64(0.014004858046539672), np.float64(0.012524454527895572), np.float64(0.017031626357864347), np.float64(0.019054182009935118), np.float64(0.022283494271838584), np.float64(0.03276714067301452), np.float64(0.036158792485946285), np.float64(0.04297359256273643), np.float64(0.044594234863564605), np.float64(0.04564599598529938), np.float64(0.05011142490565416), np.float64(0.04684887954406853), np.float64(0.05083905194115271), np.float64(0.055214928434421766), np.float64(0.05692551629261668), np.float64(0.056689870256246715), np.float64(0.058656445707469834), np.float64(0.059207095658930446), np.float64(0.05937680677635039), np.float64(0.0632676410116451), np.float64(0.06389983341449117), np.float64(0.06462092849273492), np.float64(0.0647819404940062), np.float64(0.06937569028821705), np.float64(0.06955530825431741), np.float64(0.06504379117240286), np.float64(0.07008051239312212), np.float64(0.07275969698129495), np.float64(0.07344834743635578), np.float64(0.07529481337480716), np.float64(0.0742813362016676), np.float64(0.07614184792530418), np.float64(0.07817839500699741), np.float64(0.07566971251468653), np.float64(0.07738471368891074), np.float64(0.07858771523211844), np.float64(0.07999170793588715), np.float64(0.079688803182708), np.float64(0.08262337597323878), np.float64(0.0818528757471481), np.float64(0.08277616464776891), np.float64(0.08363165339008896), np.float64(0.08439160966261458), np.float64(0.08541202383091887), np.float64(0.08639503253313541), np.float64(0.08740894901944432), np.float64(0.08850482442333048), np.float64(0.08779739819801438), np.float64(0.08932077434839912), np.float64(0.09045487886619934), np.float64(0.09015591162836029)]\n"
     ]
    },
    {
     "name": "stderr",
     "output_type": "stream",
     "text": [
      "260it [01:01,  4.24it/s]\n",
      "4it [00:05,  1.28s/it]\n"
     ]
    },
    {
     "name": "stdout",
     "output_type": "stream",
     "text": [
      "[np.float64(-0.000922340277686118), np.float64(0.0005044275701732575), np.float64(0.0009419136946090108), np.float64(0.0017105637540450705), np.float64(0.002852118476717496), np.float64(0.004508629878766827), np.float64(0.006740042355203938), np.float64(0.006460625012396977), np.float64(0.011290962984799697), np.float64(0.01046955689222782), np.float64(0.014426840039482098), np.float64(0.014004858046539672), np.float64(0.012524454527895572), np.float64(0.017031626357864347), np.float64(0.019054182009935118), np.float64(0.022283494271838584), np.float64(0.03276714067301452), np.float64(0.036158792485946285), np.float64(0.04297359256273643), np.float64(0.044594234863564605), np.float64(0.04564599598529938), np.float64(0.05011142490565416), np.float64(0.04684887954406853), np.float64(0.05083905194115271), np.float64(0.055214928434421766), np.float64(0.05692551629261668), np.float64(0.056689870256246715), np.float64(0.058656445707469834), np.float64(0.059207095658930446), np.float64(0.05937680677635039), np.float64(0.0632676410116451), np.float64(0.06389983341449117), np.float64(0.06462092849273492), np.float64(0.0647819404940062), np.float64(0.06937569028821705), np.float64(0.06955530825431741), np.float64(0.06504379117240286), np.float64(0.07008051239312212), np.float64(0.07275969698129495), np.float64(0.07344834743635578), np.float64(0.07529481337480716), np.float64(0.0742813362016676), np.float64(0.07614184792530418), np.float64(0.07817839500699741), np.float64(0.07566971251468653), np.float64(0.07738471368891074), np.float64(0.07858771523211844), np.float64(0.07999170793588715), np.float64(0.079688803182708), np.float64(0.08262337597323878), np.float64(0.0818528757471481), np.float64(0.08277616464776891), np.float64(0.08363165339008896), np.float64(0.08439160966261458), np.float64(0.08541202383091887), np.float64(0.08639503253313541), np.float64(0.08740894901944432), np.float64(0.08850482442333048), np.float64(0.08779739819801438), np.float64(0.08932077434839912), np.float64(0.09045487886619934), np.float64(0.09015591162836029), np.float64(0.092837904321339)]\n"
     ]
    },
    {
     "name": "stderr",
     "output_type": "stream",
     "text": [
      "260it [01:03,  4.12it/s]\n",
      "4it [00:06,  1.58s/it]\n"
     ]
    },
    {
     "name": "stdout",
     "output_type": "stream",
     "text": [
      "[np.float64(-0.000922340277686118), np.float64(0.0005044275701732575), np.float64(0.0009419136946090108), np.float64(0.0017105637540450705), np.float64(0.002852118476717496), np.float64(0.004508629878766827), np.float64(0.006740042355203938), np.float64(0.006460625012396977), np.float64(0.011290962984799697), np.float64(0.01046955689222782), np.float64(0.014426840039482098), np.float64(0.014004858046539672), np.float64(0.012524454527895572), np.float64(0.017031626357864347), np.float64(0.019054182009935118), np.float64(0.022283494271838584), np.float64(0.03276714067301452), np.float64(0.036158792485946285), np.float64(0.04297359256273643), np.float64(0.044594234863564605), np.float64(0.04564599598529938), np.float64(0.05011142490565416), np.float64(0.04684887954406853), np.float64(0.05083905194115271), np.float64(0.055214928434421766), np.float64(0.05692551629261668), np.float64(0.056689870256246715), np.float64(0.058656445707469834), np.float64(0.059207095658930446), np.float64(0.05937680677635039), np.float64(0.0632676410116451), np.float64(0.06389983341449117), np.float64(0.06462092849273492), np.float64(0.0647819404940062), np.float64(0.06937569028821705), np.float64(0.06955530825431741), np.float64(0.06504379117240286), np.float64(0.07008051239312212), np.float64(0.07275969698129495), np.float64(0.07344834743635578), np.float64(0.07529481337480716), np.float64(0.0742813362016676), np.float64(0.07614184792530418), np.float64(0.07817839500699741), np.float64(0.07566971251468653), np.float64(0.07738471368891074), np.float64(0.07858771523211844), np.float64(0.07999170793588715), np.float64(0.079688803182708), np.float64(0.08262337597323878), np.float64(0.0818528757471481), np.float64(0.08277616464776891), np.float64(0.08363165339008896), np.float64(0.08439160966261458), np.float64(0.08541202383091887), np.float64(0.08639503253313541), np.float64(0.08740894901944432), np.float64(0.08850482442333048), np.float64(0.08779739819801438), np.float64(0.08932077434839912), np.float64(0.09045487886619934), np.float64(0.09015591162836029), np.float64(0.092837904321339), np.float64(0.09344241579293376)]\n"
     ]
    },
    {
     "name": "stderr",
     "output_type": "stream",
     "text": [
      "260it [01:07,  3.83it/s]\n",
      "4it [00:06,  1.65s/it]\n"
     ]
    },
    {
     "name": "stdout",
     "output_type": "stream",
     "text": [
      "[np.float64(-0.000922340277686118), np.float64(0.0005044275701732575), np.float64(0.0009419136946090108), np.float64(0.0017105637540450705), np.float64(0.002852118476717496), np.float64(0.004508629878766827), np.float64(0.006740042355203938), np.float64(0.006460625012396977), np.float64(0.011290962984799697), np.float64(0.01046955689222782), np.float64(0.014426840039482098), np.float64(0.014004858046539672), np.float64(0.012524454527895572), np.float64(0.017031626357864347), np.float64(0.019054182009935118), np.float64(0.022283494271838584), np.float64(0.03276714067301452), np.float64(0.036158792485946285), np.float64(0.04297359256273643), np.float64(0.044594234863564605), np.float64(0.04564599598529938), np.float64(0.05011142490565416), np.float64(0.04684887954406853), np.float64(0.05083905194115271), np.float64(0.055214928434421766), np.float64(0.05692551629261668), np.float64(0.056689870256246715), np.float64(0.058656445707469834), np.float64(0.059207095658930446), np.float64(0.05937680677635039), np.float64(0.0632676410116451), np.float64(0.06389983341449117), np.float64(0.06462092849273492), np.float64(0.0647819404940062), np.float64(0.06937569028821705), np.float64(0.06955530825431741), np.float64(0.06504379117240286), np.float64(0.07008051239312212), np.float64(0.07275969698129495), np.float64(0.07344834743635578), np.float64(0.07529481337480716), np.float64(0.0742813362016676), np.float64(0.07614184792530418), np.float64(0.07817839500699741), np.float64(0.07566971251468653), np.float64(0.07738471368891074), np.float64(0.07858771523211844), np.float64(0.07999170793588715), np.float64(0.079688803182708), np.float64(0.08262337597323878), np.float64(0.0818528757471481), np.float64(0.08277616464776891), np.float64(0.08363165339008896), np.float64(0.08439160966261458), np.float64(0.08541202383091887), np.float64(0.08639503253313541), np.float64(0.08740894901944432), np.float64(0.08850482442333048), np.float64(0.08779739819801438), np.float64(0.08932077434839912), np.float64(0.09045487886619934), np.float64(0.09015591162836029), np.float64(0.092837904321339), np.float64(0.09344241579293376), np.float64(0.09565542513003358)]\n"
     ]
    },
    {
     "name": "stderr",
     "output_type": "stream",
     "text": [
      "260it [01:09,  3.74it/s]\n",
      "4it [00:06,  1.75s/it]\n"
     ]
    },
    {
     "name": "stdout",
     "output_type": "stream",
     "text": [
      "[np.float64(-0.000922340277686118), np.float64(0.0005044275701732575), np.float64(0.0009419136946090108), np.float64(0.0017105637540450705), np.float64(0.002852118476717496), np.float64(0.004508629878766827), np.float64(0.006740042355203938), np.float64(0.006460625012396977), np.float64(0.011290962984799697), np.float64(0.01046955689222782), np.float64(0.014426840039482098), np.float64(0.014004858046539672), np.float64(0.012524454527895572), np.float64(0.017031626357864347), np.float64(0.019054182009935118), np.float64(0.022283494271838584), np.float64(0.03276714067301452), np.float64(0.036158792485946285), np.float64(0.04297359256273643), np.float64(0.044594234863564605), np.float64(0.04564599598529938), np.float64(0.05011142490565416), np.float64(0.04684887954406853), np.float64(0.05083905194115271), np.float64(0.055214928434421766), np.float64(0.05692551629261668), np.float64(0.056689870256246715), np.float64(0.058656445707469834), np.float64(0.059207095658930446), np.float64(0.05937680677635039), np.float64(0.0632676410116451), np.float64(0.06389983341449117), np.float64(0.06462092849273492), np.float64(0.0647819404940062), np.float64(0.06937569028821705), np.float64(0.06955530825431741), np.float64(0.06504379117240286), np.float64(0.07008051239312212), np.float64(0.07275969698129495), np.float64(0.07344834743635578), np.float64(0.07529481337480716), np.float64(0.0742813362016676), np.float64(0.07614184792530418), np.float64(0.07817839500699741), np.float64(0.07566971251468653), np.float64(0.07738471368891074), np.float64(0.07858771523211844), np.float64(0.07999170793588715), np.float64(0.079688803182708), np.float64(0.08262337597323878), np.float64(0.0818528757471481), np.float64(0.08277616464776891), np.float64(0.08363165339008896), np.float64(0.08439160966261458), np.float64(0.08541202383091887), np.float64(0.08639503253313541), np.float64(0.08740894901944432), np.float64(0.08850482442333048), np.float64(0.08779739819801438), np.float64(0.08932077434839912), np.float64(0.09045487886619934), np.float64(0.09015591162836029), np.float64(0.092837904321339), np.float64(0.09344241579293376), np.float64(0.09565542513003358), np.float64(0.09387677138280555)]\n"
     ]
    },
    {
     "name": "stderr",
     "output_type": "stream",
     "text": [
      "260it [01:10,  3.69it/s]\n",
      "4it [00:05,  1.40s/it]\n"
     ]
    },
    {
     "name": "stdout",
     "output_type": "stream",
     "text": [
      "[np.float64(-0.000922340277686118), np.float64(0.0005044275701732575), np.float64(0.0009419136946090108), np.float64(0.0017105637540450705), np.float64(0.002852118476717496), np.float64(0.004508629878766827), np.float64(0.006740042355203938), np.float64(0.006460625012396977), np.float64(0.011290962984799697), np.float64(0.01046955689222782), np.float64(0.014426840039482098), np.float64(0.014004858046539672), np.float64(0.012524454527895572), np.float64(0.017031626357864347), np.float64(0.019054182009935118), np.float64(0.022283494271838584), np.float64(0.03276714067301452), np.float64(0.036158792485946285), np.float64(0.04297359256273643), np.float64(0.044594234863564605), np.float64(0.04564599598529938), np.float64(0.05011142490565416), np.float64(0.04684887954406853), np.float64(0.05083905194115271), np.float64(0.055214928434421766), np.float64(0.05692551629261668), np.float64(0.056689870256246715), np.float64(0.058656445707469834), np.float64(0.059207095658930446), np.float64(0.05937680677635039), np.float64(0.0632676410116451), np.float64(0.06389983341449117), np.float64(0.06462092849273492), np.float64(0.0647819404940062), np.float64(0.06937569028821705), np.float64(0.06955530825431741), np.float64(0.06504379117240286), np.float64(0.07008051239312212), np.float64(0.07275969698129495), np.float64(0.07344834743635578), np.float64(0.07529481337480716), np.float64(0.0742813362016676), np.float64(0.07614184792530418), np.float64(0.07817839500699741), np.float64(0.07566971251468653), np.float64(0.07738471368891074), np.float64(0.07858771523211844), np.float64(0.07999170793588715), np.float64(0.079688803182708), np.float64(0.08262337597323878), np.float64(0.0818528757471481), np.float64(0.08277616464776891), np.float64(0.08363165339008896), np.float64(0.08439160966261458), np.float64(0.08541202383091887), np.float64(0.08639503253313541), np.float64(0.08740894901944432), np.float64(0.08850482442333048), np.float64(0.08779739819801438), np.float64(0.08932077434839912), np.float64(0.09045487886619934), np.float64(0.09015591162836029), np.float64(0.092837904321339), np.float64(0.09344241579293376), np.float64(0.09565542513003358), np.float64(0.09387677138280555), np.float64(0.09638282201422724)]\n"
     ]
    },
    {
     "name": "stderr",
     "output_type": "stream",
     "text": [
      "260it [01:10,  3.71it/s]\n",
      "4it [00:06,  1.65s/it]\n"
     ]
    },
    {
     "name": "stdout",
     "output_type": "stream",
     "text": [
      "[np.float64(-0.000922340277686118), np.float64(0.0005044275701732575), np.float64(0.0009419136946090108), np.float64(0.0017105637540450705), np.float64(0.002852118476717496), np.float64(0.004508629878766827), np.float64(0.006740042355203938), np.float64(0.006460625012396977), np.float64(0.011290962984799697), np.float64(0.01046955689222782), np.float64(0.014426840039482098), np.float64(0.014004858046539672), np.float64(0.012524454527895572), np.float64(0.017031626357864347), np.float64(0.019054182009935118), np.float64(0.022283494271838584), np.float64(0.03276714067301452), np.float64(0.036158792485946285), np.float64(0.04297359256273643), np.float64(0.044594234863564605), np.float64(0.04564599598529938), np.float64(0.05011142490565416), np.float64(0.04684887954406853), np.float64(0.05083905194115271), np.float64(0.055214928434421766), np.float64(0.05692551629261668), np.float64(0.056689870256246715), np.float64(0.058656445707469834), np.float64(0.059207095658930446), np.float64(0.05937680677635039), np.float64(0.0632676410116451), np.float64(0.06389983341449117), np.float64(0.06462092849273492), np.float64(0.0647819404940062), np.float64(0.06937569028821705), np.float64(0.06955530825431741), np.float64(0.06504379117240286), np.float64(0.07008051239312212), np.float64(0.07275969698129495), np.float64(0.07344834743635578), np.float64(0.07529481337480716), np.float64(0.0742813362016676), np.float64(0.07614184792530418), np.float64(0.07817839500699741), np.float64(0.07566971251468653), np.float64(0.07738471368891074), np.float64(0.07858771523211844), np.float64(0.07999170793588715), np.float64(0.079688803182708), np.float64(0.08262337597323878), np.float64(0.0818528757471481), np.float64(0.08277616464776891), np.float64(0.08363165339008896), np.float64(0.08439160966261458), np.float64(0.08541202383091887), np.float64(0.08639503253313541), np.float64(0.08740894901944432), np.float64(0.08850482442333048), np.float64(0.08779739819801438), np.float64(0.08932077434839912), np.float64(0.09045487886619934), np.float64(0.09015591162836029), np.float64(0.092837904321339), np.float64(0.09344241579293376), np.float64(0.09565542513003358), np.float64(0.09387677138280555), np.float64(0.09638282201422724), np.float64(0.09616327717926056)]\n"
     ]
    },
    {
     "name": "stderr",
     "output_type": "stream",
     "text": [
      "260it [01:07,  3.85it/s]\n",
      "4it [00:06,  1.53s/it]\n"
     ]
    },
    {
     "name": "stdout",
     "output_type": "stream",
     "text": [
      "[np.float64(-0.000922340277686118), np.float64(0.0005044275701732575), np.float64(0.0009419136946090108), np.float64(0.0017105637540450705), np.float64(0.002852118476717496), np.float64(0.004508629878766827), np.float64(0.006740042355203938), np.float64(0.006460625012396977), np.float64(0.011290962984799697), np.float64(0.01046955689222782), np.float64(0.014426840039482098), np.float64(0.014004858046539672), np.float64(0.012524454527895572), np.float64(0.017031626357864347), np.float64(0.019054182009935118), np.float64(0.022283494271838584), np.float64(0.03276714067301452), np.float64(0.036158792485946285), np.float64(0.04297359256273643), np.float64(0.044594234863564605), np.float64(0.04564599598529938), np.float64(0.05011142490565416), np.float64(0.04684887954406853), np.float64(0.05083905194115271), np.float64(0.055214928434421766), np.float64(0.05692551629261668), np.float64(0.056689870256246715), np.float64(0.058656445707469834), np.float64(0.059207095658930446), np.float64(0.05937680677635039), np.float64(0.0632676410116451), np.float64(0.06389983341449117), np.float64(0.06462092849273492), np.float64(0.0647819404940062), np.float64(0.06937569028821705), np.float64(0.06955530825431741), np.float64(0.06504379117240286), np.float64(0.07008051239312212), np.float64(0.07275969698129495), np.float64(0.07344834743635578), np.float64(0.07529481337480716), np.float64(0.0742813362016676), np.float64(0.07614184792530418), np.float64(0.07817839500699741), np.float64(0.07566971251468653), np.float64(0.07738471368891074), np.float64(0.07858771523211844), np.float64(0.07999170793588715), np.float64(0.079688803182708), np.float64(0.08262337597323878), np.float64(0.0818528757471481), np.float64(0.08277616464776891), np.float64(0.08363165339008896), np.float64(0.08439160966261458), np.float64(0.08541202383091887), np.float64(0.08639503253313541), np.float64(0.08740894901944432), np.float64(0.08850482442333048), np.float64(0.08779739819801438), np.float64(0.08932077434839912), np.float64(0.09045487886619934), np.float64(0.09015591162836029), np.float64(0.092837904321339), np.float64(0.09344241579293376), np.float64(0.09565542513003358), np.float64(0.09387677138280555), np.float64(0.09638282201422724), np.float64(0.09616327717926056), np.float64(0.0957342149303422)]\n"
     ]
    },
    {
     "name": "stderr",
     "output_type": "stream",
     "text": [
      "260it [01:09,  3.74it/s]\n",
      "4it [00:06,  1.72s/it]\n"
     ]
    },
    {
     "name": "stdout",
     "output_type": "stream",
     "text": [
      "[np.float64(-0.000922340277686118), np.float64(0.0005044275701732575), np.float64(0.0009419136946090108), np.float64(0.0017105637540450705), np.float64(0.002852118476717496), np.float64(0.004508629878766827), np.float64(0.006740042355203938), np.float64(0.006460625012396977), np.float64(0.011290962984799697), np.float64(0.01046955689222782), np.float64(0.014426840039482098), np.float64(0.014004858046539672), np.float64(0.012524454527895572), np.float64(0.017031626357864347), np.float64(0.019054182009935118), np.float64(0.022283494271838584), np.float64(0.03276714067301452), np.float64(0.036158792485946285), np.float64(0.04297359256273643), np.float64(0.044594234863564605), np.float64(0.04564599598529938), np.float64(0.05011142490565416), np.float64(0.04684887954406853), np.float64(0.05083905194115271), np.float64(0.055214928434421766), np.float64(0.05692551629261668), np.float64(0.056689870256246715), np.float64(0.058656445707469834), np.float64(0.059207095658930446), np.float64(0.05937680677635039), np.float64(0.0632676410116451), np.float64(0.06389983341449117), np.float64(0.06462092849273492), np.float64(0.0647819404940062), np.float64(0.06937569028821705), np.float64(0.06955530825431741), np.float64(0.06504379117240286), np.float64(0.07008051239312212), np.float64(0.07275969698129495), np.float64(0.07344834743635578), np.float64(0.07529481337480716), np.float64(0.0742813362016676), np.float64(0.07614184792530418), np.float64(0.07817839500699741), np.float64(0.07566971251468653), np.float64(0.07738471368891074), np.float64(0.07858771523211844), np.float64(0.07999170793588715), np.float64(0.079688803182708), np.float64(0.08262337597323878), np.float64(0.0818528757471481), np.float64(0.08277616464776891), np.float64(0.08363165339008896), np.float64(0.08439160966261458), np.float64(0.08541202383091887), np.float64(0.08639503253313541), np.float64(0.08740894901944432), np.float64(0.08850482442333048), np.float64(0.08779739819801438), np.float64(0.08932077434839912), np.float64(0.09045487886619934), np.float64(0.09015591162836029), np.float64(0.092837904321339), np.float64(0.09344241579293376), np.float64(0.09565542513003358), np.float64(0.09387677138280555), np.float64(0.09638282201422724), np.float64(0.09616327717926056), np.float64(0.0957342149303422), np.float64(0.0981558304380789)]\n"
     ]
    },
    {
     "name": "stderr",
     "output_type": "stream",
     "text": [
      "260it [01:09,  3.76it/s]\n",
      "4it [00:05,  1.37s/it]\n"
     ]
    },
    {
     "name": "stdout",
     "output_type": "stream",
     "text": [
      "[np.float64(-0.000922340277686118), np.float64(0.0005044275701732575), np.float64(0.0009419136946090108), np.float64(0.0017105637540450705), np.float64(0.002852118476717496), np.float64(0.004508629878766827), np.float64(0.006740042355203938), np.float64(0.006460625012396977), np.float64(0.011290962984799697), np.float64(0.01046955689222782), np.float64(0.014426840039482098), np.float64(0.014004858046539672), np.float64(0.012524454527895572), np.float64(0.017031626357864347), np.float64(0.019054182009935118), np.float64(0.022283494271838584), np.float64(0.03276714067301452), np.float64(0.036158792485946285), np.float64(0.04297359256273643), np.float64(0.044594234863564605), np.float64(0.04564599598529938), np.float64(0.05011142490565416), np.float64(0.04684887954406853), np.float64(0.05083905194115271), np.float64(0.055214928434421766), np.float64(0.05692551629261668), np.float64(0.056689870256246715), np.float64(0.058656445707469834), np.float64(0.059207095658930446), np.float64(0.05937680677635039), np.float64(0.0632676410116451), np.float64(0.06389983341449117), np.float64(0.06462092849273492), np.float64(0.0647819404940062), np.float64(0.06937569028821705), np.float64(0.06955530825431741), np.float64(0.06504379117240286), np.float64(0.07008051239312212), np.float64(0.07275969698129495), np.float64(0.07344834743635578), np.float64(0.07529481337480716), np.float64(0.0742813362016676), np.float64(0.07614184792530418), np.float64(0.07817839500699741), np.float64(0.07566971251468653), np.float64(0.07738471368891074), np.float64(0.07858771523211844), np.float64(0.07999170793588715), np.float64(0.079688803182708), np.float64(0.08262337597323878), np.float64(0.0818528757471481), np.float64(0.08277616464776891), np.float64(0.08363165339008896), np.float64(0.08439160966261458), np.float64(0.08541202383091887), np.float64(0.08639503253313541), np.float64(0.08740894901944432), np.float64(0.08850482442333048), np.float64(0.08779739819801438), np.float64(0.08932077434839912), np.float64(0.09045487886619934), np.float64(0.09015591162836029), np.float64(0.092837904321339), np.float64(0.09344241579293376), np.float64(0.09565542513003358), np.float64(0.09387677138280555), np.float64(0.09638282201422724), np.float64(0.09616327717926056), np.float64(0.0957342149303422), np.float64(0.0981558304380789), np.float64(0.0979811534683845)]\n"
     ]
    },
    {
     "name": "stderr",
     "output_type": "stream",
     "text": [
      "260it [01:13,  3.54it/s]\n",
      "4it [00:08,  2.02s/it]\n"
     ]
    },
    {
     "name": "stdout",
     "output_type": "stream",
     "text": [
      "[np.float64(-0.000922340277686118), np.float64(0.0005044275701732575), np.float64(0.0009419136946090108), np.float64(0.0017105637540450705), np.float64(0.002852118476717496), np.float64(0.004508629878766827), np.float64(0.006740042355203938), np.float64(0.006460625012396977), np.float64(0.011290962984799697), np.float64(0.01046955689222782), np.float64(0.014426840039482098), np.float64(0.014004858046539672), np.float64(0.012524454527895572), np.float64(0.017031626357864347), np.float64(0.019054182009935118), np.float64(0.022283494271838584), np.float64(0.03276714067301452), np.float64(0.036158792485946285), np.float64(0.04297359256273643), np.float64(0.044594234863564605), np.float64(0.04564599598529938), np.float64(0.05011142490565416), np.float64(0.04684887954406853), np.float64(0.05083905194115271), np.float64(0.055214928434421766), np.float64(0.05692551629261668), np.float64(0.056689870256246715), np.float64(0.058656445707469834), np.float64(0.059207095658930446), np.float64(0.05937680677635039), np.float64(0.0632676410116451), np.float64(0.06389983341449117), np.float64(0.06462092849273492), np.float64(0.0647819404940062), np.float64(0.06937569028821705), np.float64(0.06955530825431741), np.float64(0.06504379117240286), np.float64(0.07008051239312212), np.float64(0.07275969698129495), np.float64(0.07344834743635578), np.float64(0.07529481337480716), np.float64(0.0742813362016676), np.float64(0.07614184792530418), np.float64(0.07817839500699741), np.float64(0.07566971251468653), np.float64(0.07738471368891074), np.float64(0.07858771523211844), np.float64(0.07999170793588715), np.float64(0.079688803182708), np.float64(0.08262337597323878), np.float64(0.0818528757471481), np.float64(0.08277616464776891), np.float64(0.08363165339008896), np.float64(0.08439160966261458), np.float64(0.08541202383091887), np.float64(0.08639503253313541), np.float64(0.08740894901944432), np.float64(0.08850482442333048), np.float64(0.08779739819801438), np.float64(0.08932077434839912), np.float64(0.09045487886619934), np.float64(0.09015591162836029), np.float64(0.092837904321339), np.float64(0.09344241579293376), np.float64(0.09565542513003358), np.float64(0.09387677138280555), np.float64(0.09638282201422724), np.float64(0.09616327717926056), np.float64(0.0957342149303422), np.float64(0.0981558304380789), np.float64(0.0979811534683845), np.float64(0.0982715333749702)]\n"
     ]
    },
    {
     "name": "stderr",
     "output_type": "stream",
     "text": [
      "260it [01:14,  3.49it/s]\n",
      "4it [00:06,  1.59s/it]\n"
     ]
    },
    {
     "name": "stdout",
     "output_type": "stream",
     "text": [
      "[np.float64(-0.000922340277686118), np.float64(0.0005044275701732575), np.float64(0.0009419136946090108), np.float64(0.0017105637540450705), np.float64(0.002852118476717496), np.float64(0.004508629878766827), np.float64(0.006740042355203938), np.float64(0.006460625012396977), np.float64(0.011290962984799697), np.float64(0.01046955689222782), np.float64(0.014426840039482098), np.float64(0.014004858046539672), np.float64(0.012524454527895572), np.float64(0.017031626357864347), np.float64(0.019054182009935118), np.float64(0.022283494271838584), np.float64(0.03276714067301452), np.float64(0.036158792485946285), np.float64(0.04297359256273643), np.float64(0.044594234863564605), np.float64(0.04564599598529938), np.float64(0.05011142490565416), np.float64(0.04684887954406853), np.float64(0.05083905194115271), np.float64(0.055214928434421766), np.float64(0.05692551629261668), np.float64(0.056689870256246715), np.float64(0.058656445707469834), np.float64(0.059207095658930446), np.float64(0.05937680677635039), np.float64(0.0632676410116451), np.float64(0.06389983341449117), np.float64(0.06462092849273492), np.float64(0.0647819404940062), np.float64(0.06937569028821705), np.float64(0.06955530825431741), np.float64(0.06504379117240286), np.float64(0.07008051239312212), np.float64(0.07275969698129495), np.float64(0.07344834743635578), np.float64(0.07529481337480716), np.float64(0.0742813362016676), np.float64(0.07614184792530418), np.float64(0.07817839500699741), np.float64(0.07566971251468653), np.float64(0.07738471368891074), np.float64(0.07858771523211844), np.float64(0.07999170793588715), np.float64(0.079688803182708), np.float64(0.08262337597323878), np.float64(0.0818528757471481), np.float64(0.08277616464776891), np.float64(0.08363165339008896), np.float64(0.08439160966261458), np.float64(0.08541202383091887), np.float64(0.08639503253313541), np.float64(0.08740894901944432), np.float64(0.08850482442333048), np.float64(0.08779739819801438), np.float64(0.08932077434839912), np.float64(0.09045487886619934), np.float64(0.09015591162836029), np.float64(0.092837904321339), np.float64(0.09344241579293376), np.float64(0.09565542513003358), np.float64(0.09387677138280555), np.float64(0.09638282201422724), np.float64(0.09616327717926056), np.float64(0.0957342149303422), np.float64(0.0981558304380789), np.float64(0.0979811534683845), np.float64(0.0982715333749702), np.float64(0.10077018197413476)]\n"
     ]
    },
    {
     "name": "stderr",
     "output_type": "stream",
     "text": [
      "260it [01:18,  3.33it/s]\n",
      "4it [00:05,  1.42s/it]\n"
     ]
    },
    {
     "name": "stdout",
     "output_type": "stream",
     "text": [
      "[np.float64(-0.000922340277686118), np.float64(0.0005044275701732575), np.float64(0.0009419136946090108), np.float64(0.0017105637540450705), np.float64(0.002852118476717496), np.float64(0.004508629878766827), np.float64(0.006740042355203938), np.float64(0.006460625012396977), np.float64(0.011290962984799697), np.float64(0.01046955689222782), np.float64(0.014426840039482098), np.float64(0.014004858046539672), np.float64(0.012524454527895572), np.float64(0.017031626357864347), np.float64(0.019054182009935118), np.float64(0.022283494271838584), np.float64(0.03276714067301452), np.float64(0.036158792485946285), np.float64(0.04297359256273643), np.float64(0.044594234863564605), np.float64(0.04564599598529938), np.float64(0.05011142490565416), np.float64(0.04684887954406853), np.float64(0.05083905194115271), np.float64(0.055214928434421766), np.float64(0.05692551629261668), np.float64(0.056689870256246715), np.float64(0.058656445707469834), np.float64(0.059207095658930446), np.float64(0.05937680677635039), np.float64(0.0632676410116451), np.float64(0.06389983341449117), np.float64(0.06462092849273492), np.float64(0.0647819404940062), np.float64(0.06937569028821705), np.float64(0.06955530825431741), np.float64(0.06504379117240286), np.float64(0.07008051239312212), np.float64(0.07275969698129495), np.float64(0.07344834743635578), np.float64(0.07529481337480716), np.float64(0.0742813362016676), np.float64(0.07614184792530418), np.float64(0.07817839500699741), np.float64(0.07566971251468653), np.float64(0.07738471368891074), np.float64(0.07858771523211844), np.float64(0.07999170793588715), np.float64(0.079688803182708), np.float64(0.08262337597323878), np.float64(0.0818528757471481), np.float64(0.08277616464776891), np.float64(0.08363165339008896), np.float64(0.08439160966261458), np.float64(0.08541202383091887), np.float64(0.08639503253313541), np.float64(0.08740894901944432), np.float64(0.08850482442333048), np.float64(0.08779739819801438), np.float64(0.08932077434839912), np.float64(0.09045487886619934), np.float64(0.09015591162836029), np.float64(0.092837904321339), np.float64(0.09344241579293376), np.float64(0.09565542513003358), np.float64(0.09387677138280555), np.float64(0.09638282201422724), np.float64(0.09616327717926056), np.float64(0.0957342149303422), np.float64(0.0981558304380789), np.float64(0.0979811534683845), np.float64(0.0982715333749702), np.float64(0.10077018197413476), np.float64(0.10014601514580902)]\n"
     ]
    },
    {
     "name": "stderr",
     "output_type": "stream",
     "text": [
      "260it [01:19,  3.27it/s]\n",
      "4it [00:06,  1.53s/it]\n"
     ]
    },
    {
     "name": "stdout",
     "output_type": "stream",
     "text": [
      "[np.float64(-0.000922340277686118), np.float64(0.0005044275701732575), np.float64(0.0009419136946090108), np.float64(0.0017105637540450705), np.float64(0.002852118476717496), np.float64(0.004508629878766827), np.float64(0.006740042355203938), np.float64(0.006460625012396977), np.float64(0.011290962984799697), np.float64(0.01046955689222782), np.float64(0.014426840039482098), np.float64(0.014004858046539672), np.float64(0.012524454527895572), np.float64(0.017031626357864347), np.float64(0.019054182009935118), np.float64(0.022283494271838584), np.float64(0.03276714067301452), np.float64(0.036158792485946285), np.float64(0.04297359256273643), np.float64(0.044594234863564605), np.float64(0.04564599598529938), np.float64(0.05011142490565416), np.float64(0.04684887954406853), np.float64(0.05083905194115271), np.float64(0.055214928434421766), np.float64(0.05692551629261668), np.float64(0.056689870256246715), np.float64(0.058656445707469834), np.float64(0.059207095658930446), np.float64(0.05937680677635039), np.float64(0.0632676410116451), np.float64(0.06389983341449117), np.float64(0.06462092849273492), np.float64(0.0647819404940062), np.float64(0.06937569028821705), np.float64(0.06955530825431741), np.float64(0.06504379117240286), np.float64(0.07008051239312212), np.float64(0.07275969698129495), np.float64(0.07344834743635578), np.float64(0.07529481337480716), np.float64(0.0742813362016676), np.float64(0.07614184792530418), np.float64(0.07817839500699741), np.float64(0.07566971251468653), np.float64(0.07738471368891074), np.float64(0.07858771523211844), np.float64(0.07999170793588715), np.float64(0.079688803182708), np.float64(0.08262337597323878), np.float64(0.0818528757471481), np.float64(0.08277616464776891), np.float64(0.08363165339008896), np.float64(0.08439160966261458), np.float64(0.08541202383091887), np.float64(0.08639503253313541), np.float64(0.08740894901944432), np.float64(0.08850482442333048), np.float64(0.08779739819801438), np.float64(0.08932077434839912), np.float64(0.09045487886619934), np.float64(0.09015591162836029), np.float64(0.092837904321339), np.float64(0.09344241579293376), np.float64(0.09565542513003358), np.float64(0.09387677138280555), np.float64(0.09638282201422724), np.float64(0.09616327717926056), np.float64(0.0957342149303422), np.float64(0.0981558304380789), np.float64(0.0979811534683845), np.float64(0.0982715333749702), np.float64(0.10077018197413476), np.float64(0.10014601514580902), np.float64(0.1009415379441367)]\n"
     ]
    },
    {
     "name": "stderr",
     "output_type": "stream",
     "text": [
      "260it [01:16,  3.40it/s]\n",
      "4it [00:06,  1.50s/it]\n"
     ]
    },
    {
     "name": "stdout",
     "output_type": "stream",
     "text": [
      "[np.float64(-0.000922340277686118), np.float64(0.0005044275701732575), np.float64(0.0009419136946090108), np.float64(0.0017105637540450705), np.float64(0.002852118476717496), np.float64(0.004508629878766827), np.float64(0.006740042355203938), np.float64(0.006460625012396977), np.float64(0.011290962984799697), np.float64(0.01046955689222782), np.float64(0.014426840039482098), np.float64(0.014004858046539672), np.float64(0.012524454527895572), np.float64(0.017031626357864347), np.float64(0.019054182009935118), np.float64(0.022283494271838584), np.float64(0.03276714067301452), np.float64(0.036158792485946285), np.float64(0.04297359256273643), np.float64(0.044594234863564605), np.float64(0.04564599598529938), np.float64(0.05011142490565416), np.float64(0.04684887954406853), np.float64(0.05083905194115271), np.float64(0.055214928434421766), np.float64(0.05692551629261668), np.float64(0.056689870256246715), np.float64(0.058656445707469834), np.float64(0.059207095658930446), np.float64(0.05937680677635039), np.float64(0.0632676410116451), np.float64(0.06389983341449117), np.float64(0.06462092849273492), np.float64(0.0647819404940062), np.float64(0.06937569028821705), np.float64(0.06955530825431741), np.float64(0.06504379117240286), np.float64(0.07008051239312212), np.float64(0.07275969698129495), np.float64(0.07344834743635578), np.float64(0.07529481337480716), np.float64(0.0742813362016676), np.float64(0.07614184792530418), np.float64(0.07817839500699741), np.float64(0.07566971251468653), np.float64(0.07738471368891074), np.float64(0.07858771523211844), np.float64(0.07999170793588715), np.float64(0.079688803182708), np.float64(0.08262337597323878), np.float64(0.0818528757471481), np.float64(0.08277616464776891), np.float64(0.08363165339008896), np.float64(0.08439160966261458), np.float64(0.08541202383091887), np.float64(0.08639503253313541), np.float64(0.08740894901944432), np.float64(0.08850482442333048), np.float64(0.08779739819801438), np.float64(0.08932077434839912), np.float64(0.09045487886619934), np.float64(0.09015591162836029), np.float64(0.092837904321339), np.float64(0.09344241579293376), np.float64(0.09565542513003358), np.float64(0.09387677138280555), np.float64(0.09638282201422724), np.float64(0.09616327717926056), np.float64(0.0957342149303422), np.float64(0.0981558304380789), np.float64(0.0979811534683845), np.float64(0.0982715333749702), np.float64(0.10077018197413476), np.float64(0.10014601514580902), np.float64(0.1009415379441367), np.float64(0.10151439166539622)]\n"
     ]
    },
    {
     "name": "stderr",
     "output_type": "stream",
     "text": [
      "260it [01:23,  3.13it/s]\n",
      "4it [00:05,  1.50s/it]\n"
     ]
    },
    {
     "name": "stdout",
     "output_type": "stream",
     "text": [
      "[np.float64(-0.000922340277686118), np.float64(0.0005044275701732575), np.float64(0.0009419136946090108), np.float64(0.0017105637540450705), np.float64(0.002852118476717496), np.float64(0.004508629878766827), np.float64(0.006740042355203938), np.float64(0.006460625012396977), np.float64(0.011290962984799697), np.float64(0.01046955689222782), np.float64(0.014426840039482098), np.float64(0.014004858046539672), np.float64(0.012524454527895572), np.float64(0.017031626357864347), np.float64(0.019054182009935118), np.float64(0.022283494271838584), np.float64(0.03276714067301452), np.float64(0.036158792485946285), np.float64(0.04297359256273643), np.float64(0.044594234863564605), np.float64(0.04564599598529938), np.float64(0.05011142490565416), np.float64(0.04684887954406853), np.float64(0.05083905194115271), np.float64(0.055214928434421766), np.float64(0.05692551629261668), np.float64(0.056689870256246715), np.float64(0.058656445707469834), np.float64(0.059207095658930446), np.float64(0.05937680677635039), np.float64(0.0632676410116451), np.float64(0.06389983341449117), np.float64(0.06462092849273492), np.float64(0.0647819404940062), np.float64(0.06937569028821705), np.float64(0.06955530825431741), np.float64(0.06504379117240286), np.float64(0.07008051239312212), np.float64(0.07275969698129495), np.float64(0.07344834743635578), np.float64(0.07529481337480716), np.float64(0.0742813362016676), np.float64(0.07614184792530418), np.float64(0.07817839500699741), np.float64(0.07566971251468653), np.float64(0.07738471368891074), np.float64(0.07858771523211844), np.float64(0.07999170793588715), np.float64(0.079688803182708), np.float64(0.08262337597323878), np.float64(0.0818528757471481), np.float64(0.08277616464776891), np.float64(0.08363165339008896), np.float64(0.08439160966261458), np.float64(0.08541202383091887), np.float64(0.08639503253313541), np.float64(0.08740894901944432), np.float64(0.08850482442333048), np.float64(0.08779739819801438), np.float64(0.08932077434839912), np.float64(0.09045487886619934), np.float64(0.09015591162836029), np.float64(0.092837904321339), np.float64(0.09344241579293376), np.float64(0.09565542513003358), np.float64(0.09387677138280555), np.float64(0.09638282201422724), np.float64(0.09616327717926056), np.float64(0.0957342149303422), np.float64(0.0981558304380789), np.float64(0.0979811534683845), np.float64(0.0982715333749702), np.float64(0.10077018197413476), np.float64(0.10014601514580902), np.float64(0.1009415379441367), np.float64(0.10151439166539622), np.float64(0.10177500258124614)]\n"
     ]
    },
    {
     "name": "stderr",
     "output_type": "stream",
     "text": [
      "260it [01:18,  3.30it/s]\n",
      "4it [00:06,  1.61s/it]\n"
     ]
    },
    {
     "name": "stdout",
     "output_type": "stream",
     "text": [
      "[np.float64(-0.000922340277686118), np.float64(0.0005044275701732575), np.float64(0.0009419136946090108), np.float64(0.0017105637540450705), np.float64(0.002852118476717496), np.float64(0.004508629878766827), np.float64(0.006740042355203938), np.float64(0.006460625012396977), np.float64(0.011290962984799697), np.float64(0.01046955689222782), np.float64(0.014426840039482098), np.float64(0.014004858046539672), np.float64(0.012524454527895572), np.float64(0.017031626357864347), np.float64(0.019054182009935118), np.float64(0.022283494271838584), np.float64(0.03276714067301452), np.float64(0.036158792485946285), np.float64(0.04297359256273643), np.float64(0.044594234863564605), np.float64(0.04564599598529938), np.float64(0.05011142490565416), np.float64(0.04684887954406853), np.float64(0.05083905194115271), np.float64(0.055214928434421766), np.float64(0.05692551629261668), np.float64(0.056689870256246715), np.float64(0.058656445707469834), np.float64(0.059207095658930446), np.float64(0.05937680677635039), np.float64(0.0632676410116451), np.float64(0.06389983341449117), np.float64(0.06462092849273492), np.float64(0.0647819404940062), np.float64(0.06937569028821705), np.float64(0.06955530825431741), np.float64(0.06504379117240286), np.float64(0.07008051239312212), np.float64(0.07275969698129495), np.float64(0.07344834743635578), np.float64(0.07529481337480716), np.float64(0.0742813362016676), np.float64(0.07614184792530418), np.float64(0.07817839500699741), np.float64(0.07566971251468653), np.float64(0.07738471368891074), np.float64(0.07858771523211844), np.float64(0.07999170793588715), np.float64(0.079688803182708), np.float64(0.08262337597323878), np.float64(0.0818528757471481), np.float64(0.08277616464776891), np.float64(0.08363165339008896), np.float64(0.08439160966261458), np.float64(0.08541202383091887), np.float64(0.08639503253313541), np.float64(0.08740894901944432), np.float64(0.08850482442333048), np.float64(0.08779739819801438), np.float64(0.08932077434839912), np.float64(0.09045487886619934), np.float64(0.09015591162836029), np.float64(0.092837904321339), np.float64(0.09344241579293376), np.float64(0.09565542513003358), np.float64(0.09387677138280555), np.float64(0.09638282201422724), np.float64(0.09616327717926056), np.float64(0.0957342149303422), np.float64(0.0981558304380789), np.float64(0.0979811534683845), np.float64(0.0982715333749702), np.float64(0.10077018197413476), np.float64(0.10014601514580902), np.float64(0.1009415379441367), np.float64(0.10151439166539622), np.float64(0.10177500258124614), np.float64(0.10346213439418755)]\n"
     ]
    },
    {
     "name": "stderr",
     "output_type": "stream",
     "text": [
      "260it [01:14,  3.50it/s]\n",
      "4it [00:06,  1.74s/it]\n"
     ]
    },
    {
     "name": "stdout",
     "output_type": "stream",
     "text": [
      "[np.float64(-0.000922340277686118), np.float64(0.0005044275701732575), np.float64(0.0009419136946090108), np.float64(0.0017105637540450705), np.float64(0.002852118476717496), np.float64(0.004508629878766827), np.float64(0.006740042355203938), np.float64(0.006460625012396977), np.float64(0.011290962984799697), np.float64(0.01046955689222782), np.float64(0.014426840039482098), np.float64(0.014004858046539672), np.float64(0.012524454527895572), np.float64(0.017031626357864347), np.float64(0.019054182009935118), np.float64(0.022283494271838584), np.float64(0.03276714067301452), np.float64(0.036158792485946285), np.float64(0.04297359256273643), np.float64(0.044594234863564605), np.float64(0.04564599598529938), np.float64(0.05011142490565416), np.float64(0.04684887954406853), np.float64(0.05083905194115271), np.float64(0.055214928434421766), np.float64(0.05692551629261668), np.float64(0.056689870256246715), np.float64(0.058656445707469834), np.float64(0.059207095658930446), np.float64(0.05937680677635039), np.float64(0.0632676410116451), np.float64(0.06389983341449117), np.float64(0.06462092849273492), np.float64(0.0647819404940062), np.float64(0.06937569028821705), np.float64(0.06955530825431741), np.float64(0.06504379117240286), np.float64(0.07008051239312212), np.float64(0.07275969698129495), np.float64(0.07344834743635578), np.float64(0.07529481337480716), np.float64(0.0742813362016676), np.float64(0.07614184792530418), np.float64(0.07817839500699741), np.float64(0.07566971251468653), np.float64(0.07738471368891074), np.float64(0.07858771523211844), np.float64(0.07999170793588715), np.float64(0.079688803182708), np.float64(0.08262337597323878), np.float64(0.0818528757471481), np.float64(0.08277616464776891), np.float64(0.08363165339008896), np.float64(0.08439160966261458), np.float64(0.08541202383091887), np.float64(0.08639503253313541), np.float64(0.08740894901944432), np.float64(0.08850482442333048), np.float64(0.08779739819801438), np.float64(0.08932077434839912), np.float64(0.09045487886619934), np.float64(0.09015591162836029), np.float64(0.092837904321339), np.float64(0.09344241579293376), np.float64(0.09565542513003358), np.float64(0.09387677138280555), np.float64(0.09638282201422724), np.float64(0.09616327717926056), np.float64(0.0957342149303422), np.float64(0.0981558304380789), np.float64(0.0979811534683845), np.float64(0.0982715333749702), np.float64(0.10077018197413476), np.float64(0.10014601514580902), np.float64(0.1009415379441367), np.float64(0.10151439166539622), np.float64(0.10177500258124614), np.float64(0.10346213439418755), np.float64(0.10285917825705258)]\n"
     ]
    },
    {
     "name": "stderr",
     "output_type": "stream",
     "text": [
      "260it [01:14,  3.50it/s]\n",
      "4it [00:07,  1.90s/it]\n"
     ]
    },
    {
     "name": "stdout",
     "output_type": "stream",
     "text": [
      "[np.float64(-0.000922340277686118), np.float64(0.0005044275701732575), np.float64(0.0009419136946090108), np.float64(0.0017105637540450705), np.float64(0.002852118476717496), np.float64(0.004508629878766827), np.float64(0.006740042355203938), np.float64(0.006460625012396977), np.float64(0.011290962984799697), np.float64(0.01046955689222782), np.float64(0.014426840039482098), np.float64(0.014004858046539672), np.float64(0.012524454527895572), np.float64(0.017031626357864347), np.float64(0.019054182009935118), np.float64(0.022283494271838584), np.float64(0.03276714067301452), np.float64(0.036158792485946285), np.float64(0.04297359256273643), np.float64(0.044594234863564605), np.float64(0.04564599598529938), np.float64(0.05011142490565416), np.float64(0.04684887954406853), np.float64(0.05083905194115271), np.float64(0.055214928434421766), np.float64(0.05692551629261668), np.float64(0.056689870256246715), np.float64(0.058656445707469834), np.float64(0.059207095658930446), np.float64(0.05937680677635039), np.float64(0.0632676410116451), np.float64(0.06389983341449117), np.float64(0.06462092849273492), np.float64(0.0647819404940062), np.float64(0.06937569028821705), np.float64(0.06955530825431741), np.float64(0.06504379117240286), np.float64(0.07008051239312212), np.float64(0.07275969698129495), np.float64(0.07344834743635578), np.float64(0.07529481337480716), np.float64(0.0742813362016676), np.float64(0.07614184792530418), np.float64(0.07817839500699741), np.float64(0.07566971251468653), np.float64(0.07738471368891074), np.float64(0.07858771523211844), np.float64(0.07999170793588715), np.float64(0.079688803182708), np.float64(0.08262337597323878), np.float64(0.0818528757471481), np.float64(0.08277616464776891), np.float64(0.08363165339008896), np.float64(0.08439160966261458), np.float64(0.08541202383091887), np.float64(0.08639503253313541), np.float64(0.08740894901944432), np.float64(0.08850482442333048), np.float64(0.08779739819801438), np.float64(0.08932077434839912), np.float64(0.09045487886619934), np.float64(0.09015591162836029), np.float64(0.092837904321339), np.float64(0.09344241579293376), np.float64(0.09565542513003358), np.float64(0.09387677138280555), np.float64(0.09638282201422724), np.float64(0.09616327717926056), np.float64(0.0957342149303422), np.float64(0.0981558304380789), np.float64(0.0979811534683845), np.float64(0.0982715333749702), np.float64(0.10077018197413476), np.float64(0.10014601514580902), np.float64(0.1009415379441367), np.float64(0.10151439166539622), np.float64(0.10177500258124614), np.float64(0.10346213439418755), np.float64(0.10285917825705258), np.float64(0.10326691396257107)]\n"
     ]
    },
    {
     "name": "stderr",
     "output_type": "stream",
     "text": [
      "260it [01:14,  3.50it/s]\n",
      "4it [00:06,  1.65s/it]\n"
     ]
    },
    {
     "name": "stdout",
     "output_type": "stream",
     "text": [
      "[np.float64(-0.000922340277686118), np.float64(0.0005044275701732575), np.float64(0.0009419136946090108), np.float64(0.0017105637540450705), np.float64(0.002852118476717496), np.float64(0.004508629878766827), np.float64(0.006740042355203938), np.float64(0.006460625012396977), np.float64(0.011290962984799697), np.float64(0.01046955689222782), np.float64(0.014426840039482098), np.float64(0.014004858046539672), np.float64(0.012524454527895572), np.float64(0.017031626357864347), np.float64(0.019054182009935118), np.float64(0.022283494271838584), np.float64(0.03276714067301452), np.float64(0.036158792485946285), np.float64(0.04297359256273643), np.float64(0.044594234863564605), np.float64(0.04564599598529938), np.float64(0.05011142490565416), np.float64(0.04684887954406853), np.float64(0.05083905194115271), np.float64(0.055214928434421766), np.float64(0.05692551629261668), np.float64(0.056689870256246715), np.float64(0.058656445707469834), np.float64(0.059207095658930446), np.float64(0.05937680677635039), np.float64(0.0632676410116451), np.float64(0.06389983341449117), np.float64(0.06462092849273492), np.float64(0.0647819404940062), np.float64(0.06937569028821705), np.float64(0.06955530825431741), np.float64(0.06504379117240286), np.float64(0.07008051239312212), np.float64(0.07275969698129495), np.float64(0.07344834743635578), np.float64(0.07529481337480716), np.float64(0.0742813362016676), np.float64(0.07614184792530418), np.float64(0.07817839500699741), np.float64(0.07566971251468653), np.float64(0.07738471368891074), np.float64(0.07858771523211844), np.float64(0.07999170793588715), np.float64(0.079688803182708), np.float64(0.08262337597323878), np.float64(0.0818528757471481), np.float64(0.08277616464776891), np.float64(0.08363165339008896), np.float64(0.08439160966261458), np.float64(0.08541202383091887), np.float64(0.08639503253313541), np.float64(0.08740894901944432), np.float64(0.08850482442333048), np.float64(0.08779739819801438), np.float64(0.08932077434839912), np.float64(0.09045487886619934), np.float64(0.09015591162836029), np.float64(0.092837904321339), np.float64(0.09344241579293376), np.float64(0.09565542513003358), np.float64(0.09387677138280555), np.float64(0.09638282201422724), np.float64(0.09616327717926056), np.float64(0.0957342149303422), np.float64(0.0981558304380789), np.float64(0.0979811534683845), np.float64(0.0982715333749702), np.float64(0.10077018197413476), np.float64(0.10014601514580902), np.float64(0.1009415379441367), np.float64(0.10151439166539622), np.float64(0.10177500258124614), np.float64(0.10346213439418755), np.float64(0.10285917825705258), np.float64(0.10326691396257107), np.float64(0.10486162729556531)]\n"
     ]
    },
    {
     "name": "stderr",
     "output_type": "stream",
     "text": [
      "260it [01:15,  3.45it/s]\n",
      "4it [00:06,  1.53s/it]\n"
     ]
    },
    {
     "name": "stdout",
     "output_type": "stream",
     "text": [
      "[np.float64(-0.000922340277686118), np.float64(0.0005044275701732575), np.float64(0.0009419136946090108), np.float64(0.0017105637540450705), np.float64(0.002852118476717496), np.float64(0.004508629878766827), np.float64(0.006740042355203938), np.float64(0.006460625012396977), np.float64(0.011290962984799697), np.float64(0.01046955689222782), np.float64(0.014426840039482098), np.float64(0.014004858046539672), np.float64(0.012524454527895572), np.float64(0.017031626357864347), np.float64(0.019054182009935118), np.float64(0.022283494271838584), np.float64(0.03276714067301452), np.float64(0.036158792485946285), np.float64(0.04297359256273643), np.float64(0.044594234863564605), np.float64(0.04564599598529938), np.float64(0.05011142490565416), np.float64(0.04684887954406853), np.float64(0.05083905194115271), np.float64(0.055214928434421766), np.float64(0.05692551629261668), np.float64(0.056689870256246715), np.float64(0.058656445707469834), np.float64(0.059207095658930446), np.float64(0.05937680677635039), np.float64(0.0632676410116451), np.float64(0.06389983341449117), np.float64(0.06462092849273492), np.float64(0.0647819404940062), np.float64(0.06937569028821705), np.float64(0.06955530825431741), np.float64(0.06504379117240286), np.float64(0.07008051239312212), np.float64(0.07275969698129495), np.float64(0.07344834743635578), np.float64(0.07529481337480716), np.float64(0.0742813362016676), np.float64(0.07614184792530418), np.float64(0.07817839500699741), np.float64(0.07566971251468653), np.float64(0.07738471368891074), np.float64(0.07858771523211844), np.float64(0.07999170793588715), np.float64(0.079688803182708), np.float64(0.08262337597323878), np.float64(0.0818528757471481), np.float64(0.08277616464776891), np.float64(0.08363165339008896), np.float64(0.08439160966261458), np.float64(0.08541202383091887), np.float64(0.08639503253313541), np.float64(0.08740894901944432), np.float64(0.08850482442333048), np.float64(0.08779739819801438), np.float64(0.08932077434839912), np.float64(0.09045487886619934), np.float64(0.09015591162836029), np.float64(0.092837904321339), np.float64(0.09344241579293376), np.float64(0.09565542513003358), np.float64(0.09387677138280555), np.float64(0.09638282201422724), np.float64(0.09616327717926056), np.float64(0.0957342149303422), np.float64(0.0981558304380789), np.float64(0.0979811534683845), np.float64(0.0982715333749702), np.float64(0.10077018197413476), np.float64(0.10014601514580902), np.float64(0.1009415379441367), np.float64(0.10151439166539622), np.float64(0.10177500258124614), np.float64(0.10346213439418755), np.float64(0.10285917825705258), np.float64(0.10326691396257107), np.float64(0.10486162729556531), np.float64(0.10601904967309468)]\n"
     ]
    },
    {
     "name": "stderr",
     "output_type": "stream",
     "text": [
      "260it [01:18,  3.32it/s]\n",
      "4it [00:05,  1.45s/it]\n"
     ]
    },
    {
     "name": "stdout",
     "output_type": "stream",
     "text": [
      "[np.float64(-0.000922340277686118), np.float64(0.0005044275701732575), np.float64(0.0009419136946090108), np.float64(0.0017105637540450705), np.float64(0.002852118476717496), np.float64(0.004508629878766827), np.float64(0.006740042355203938), np.float64(0.006460625012396977), np.float64(0.011290962984799697), np.float64(0.01046955689222782), np.float64(0.014426840039482098), np.float64(0.014004858046539672), np.float64(0.012524454527895572), np.float64(0.017031626357864347), np.float64(0.019054182009935118), np.float64(0.022283494271838584), np.float64(0.03276714067301452), np.float64(0.036158792485946285), np.float64(0.04297359256273643), np.float64(0.044594234863564605), np.float64(0.04564599598529938), np.float64(0.05011142490565416), np.float64(0.04684887954406853), np.float64(0.05083905194115271), np.float64(0.055214928434421766), np.float64(0.05692551629261668), np.float64(0.056689870256246715), np.float64(0.058656445707469834), np.float64(0.059207095658930446), np.float64(0.05937680677635039), np.float64(0.0632676410116451), np.float64(0.06389983341449117), np.float64(0.06462092849273492), np.float64(0.0647819404940062), np.float64(0.06937569028821705), np.float64(0.06955530825431741), np.float64(0.06504379117240286), np.float64(0.07008051239312212), np.float64(0.07275969698129495), np.float64(0.07344834743635578), np.float64(0.07529481337480716), np.float64(0.0742813362016676), np.float64(0.07614184792530418), np.float64(0.07817839500699741), np.float64(0.07566971251468653), np.float64(0.07738471368891074), np.float64(0.07858771523211844), np.float64(0.07999170793588715), np.float64(0.079688803182708), np.float64(0.08262337597323878), np.float64(0.0818528757471481), np.float64(0.08277616464776891), np.float64(0.08363165339008896), np.float64(0.08439160966261458), np.float64(0.08541202383091887), np.float64(0.08639503253313541), np.float64(0.08740894901944432), np.float64(0.08850482442333048), np.float64(0.08779739819801438), np.float64(0.08932077434839912), np.float64(0.09045487886619934), np.float64(0.09015591162836029), np.float64(0.092837904321339), np.float64(0.09344241579293376), np.float64(0.09565542513003358), np.float64(0.09387677138280555), np.float64(0.09638282201422724), np.float64(0.09616327717926056), np.float64(0.0957342149303422), np.float64(0.0981558304380789), np.float64(0.0979811534683845), np.float64(0.0982715333749702), np.float64(0.10077018197413476), np.float64(0.10014601514580902), np.float64(0.1009415379441367), np.float64(0.10151439166539622), np.float64(0.10177500258124614), np.float64(0.10346213439418755), np.float64(0.10285917825705258), np.float64(0.10326691396257107), np.float64(0.10486162729556531), np.float64(0.10601904967309468), np.float64(0.10710911651981814)]\n"
     ]
    },
    {
     "name": "stderr",
     "output_type": "stream",
     "text": [
      "260it [01:21,  3.19it/s]\n",
      "4it [00:05,  1.43s/it]\n"
     ]
    },
    {
     "name": "stdout",
     "output_type": "stream",
     "text": [
      "[np.float64(-0.000922340277686118), np.float64(0.0005044275701732575), np.float64(0.0009419136946090108), np.float64(0.0017105637540450705), np.float64(0.002852118476717496), np.float64(0.004508629878766827), np.float64(0.006740042355203938), np.float64(0.006460625012396977), np.float64(0.011290962984799697), np.float64(0.01046955689222782), np.float64(0.014426840039482098), np.float64(0.014004858046539672), np.float64(0.012524454527895572), np.float64(0.017031626357864347), np.float64(0.019054182009935118), np.float64(0.022283494271838584), np.float64(0.03276714067301452), np.float64(0.036158792485946285), np.float64(0.04297359256273643), np.float64(0.044594234863564605), np.float64(0.04564599598529938), np.float64(0.05011142490565416), np.float64(0.04684887954406853), np.float64(0.05083905194115271), np.float64(0.055214928434421766), np.float64(0.05692551629261668), np.float64(0.056689870256246715), np.float64(0.058656445707469834), np.float64(0.059207095658930446), np.float64(0.05937680677635039), np.float64(0.0632676410116451), np.float64(0.06389983341449117), np.float64(0.06462092849273492), np.float64(0.0647819404940062), np.float64(0.06937569028821705), np.float64(0.06955530825431741), np.float64(0.06504379117240286), np.float64(0.07008051239312212), np.float64(0.07275969698129495), np.float64(0.07344834743635578), np.float64(0.07529481337480716), np.float64(0.0742813362016676), np.float64(0.07614184792530418), np.float64(0.07817839500699741), np.float64(0.07566971251468653), np.float64(0.07738471368891074), np.float64(0.07858771523211844), np.float64(0.07999170793588715), np.float64(0.079688803182708), np.float64(0.08262337597323878), np.float64(0.0818528757471481), np.float64(0.08277616464776891), np.float64(0.08363165339008896), np.float64(0.08439160966261458), np.float64(0.08541202383091887), np.float64(0.08639503253313541), np.float64(0.08740894901944432), np.float64(0.08850482442333048), np.float64(0.08779739819801438), np.float64(0.08932077434839912), np.float64(0.09045487886619934), np.float64(0.09015591162836029), np.float64(0.092837904321339), np.float64(0.09344241579293376), np.float64(0.09565542513003358), np.float64(0.09387677138280555), np.float64(0.09638282201422724), np.float64(0.09616327717926056), np.float64(0.0957342149303422), np.float64(0.0981558304380789), np.float64(0.0979811534683845), np.float64(0.0982715333749702), np.float64(0.10077018197413476), np.float64(0.10014601514580902), np.float64(0.1009415379441367), np.float64(0.10151439166539622), np.float64(0.10177500258124614), np.float64(0.10346213439418755), np.float64(0.10285917825705258), np.float64(0.10326691396257107), np.float64(0.10486162729556531), np.float64(0.10601904967309468), np.float64(0.10710911651981814), np.float64(0.1073991101080572)]\n"
     ]
    },
    {
     "name": "stderr",
     "output_type": "stream",
     "text": [
      "260it [01:18,  3.32it/s]\n",
      "4it [00:06,  1.72s/it]\n"
     ]
    },
    {
     "name": "stdout",
     "output_type": "stream",
     "text": [
      "[np.float64(-0.000922340277686118), np.float64(0.0005044275701732575), np.float64(0.0009419136946090108), np.float64(0.0017105637540450705), np.float64(0.002852118476717496), np.float64(0.004508629878766827), np.float64(0.006740042355203938), np.float64(0.006460625012396977), np.float64(0.011290962984799697), np.float64(0.01046955689222782), np.float64(0.014426840039482098), np.float64(0.014004858046539672), np.float64(0.012524454527895572), np.float64(0.017031626357864347), np.float64(0.019054182009935118), np.float64(0.022283494271838584), np.float64(0.03276714067301452), np.float64(0.036158792485946285), np.float64(0.04297359256273643), np.float64(0.044594234863564605), np.float64(0.04564599598529938), np.float64(0.05011142490565416), np.float64(0.04684887954406853), np.float64(0.05083905194115271), np.float64(0.055214928434421766), np.float64(0.05692551629261668), np.float64(0.056689870256246715), np.float64(0.058656445707469834), np.float64(0.059207095658930446), np.float64(0.05937680677635039), np.float64(0.0632676410116451), np.float64(0.06389983341449117), np.float64(0.06462092849273492), np.float64(0.0647819404940062), np.float64(0.06937569028821705), np.float64(0.06955530825431741), np.float64(0.06504379117240286), np.float64(0.07008051239312212), np.float64(0.07275969698129495), np.float64(0.07344834743635578), np.float64(0.07529481337480716), np.float64(0.0742813362016676), np.float64(0.07614184792530418), np.float64(0.07817839500699741), np.float64(0.07566971251468653), np.float64(0.07738471368891074), np.float64(0.07858771523211844), np.float64(0.07999170793588715), np.float64(0.079688803182708), np.float64(0.08262337597323878), np.float64(0.0818528757471481), np.float64(0.08277616464776891), np.float64(0.08363165339008896), np.float64(0.08439160966261458), np.float64(0.08541202383091887), np.float64(0.08639503253313541), np.float64(0.08740894901944432), np.float64(0.08850482442333048), np.float64(0.08779739819801438), np.float64(0.08932077434839912), np.float64(0.09045487886619934), np.float64(0.09015591162836029), np.float64(0.092837904321339), np.float64(0.09344241579293376), np.float64(0.09565542513003358), np.float64(0.09387677138280555), np.float64(0.09638282201422724), np.float64(0.09616327717926056), np.float64(0.0957342149303422), np.float64(0.0981558304380789), np.float64(0.0979811534683845), np.float64(0.0982715333749702), np.float64(0.10077018197413476), np.float64(0.10014601514580902), np.float64(0.1009415379441367), np.float64(0.10151439166539622), np.float64(0.10177500258124614), np.float64(0.10346213439418755), np.float64(0.10285917825705258), np.float64(0.10326691396257107), np.float64(0.10486162729556531), np.float64(0.10601904967309468), np.float64(0.10710911651981814), np.float64(0.1073991101080572), np.float64(0.10644820182691257)]\n"
     ]
    },
    {
     "name": "stderr",
     "output_type": "stream",
     "text": [
      "128it [00:37,  4.75it/s]"
     ]
    }
   ],
   "source": [
    "patience = 0\n",
    "max_objective = 0\n",
    "losses, corrs, lrs, val_corrs = [], [], [], []\n",
    "for train_loop in range(1000):\n",
    "    current_objective = val_step()\n",
    "    if train_loop > 20:\n",
    "        max_objective = np.max(np.array(val_corrs[:-1])[~np.isnan(val_corrs[:-1])])\n",
    "    if current_objective < max_objective:\n",
    "        patience += 1\n",
    "    else:\n",
    "        patience = 0\n",
    "    if patience >=25:\n",
    "        break\n",
    "    val_corrs.append(current_objective)\n",
    "    print(val_corrs)\n",
    "    for i, (k, b) in tqdm(enumerate(train_dl)):\n",
    "        videos = b[\"screen\"].to(\"cuda\", torch.float32, non_blocking=True).permute(0,2,1,3,4)\n",
    "        responses = b[\"responses\"].to(\"cuda\", torch.float32, non_blocking=True)\n",
    "        with autocast(device_type='cuda', dtype=torch.bfloat16):\n",
    "            out = model(videos, k);\n",
    "        loss = criteria(out.transpose(1,2), responses)\n",
    "        loss.backward()\n",
    "        torch.nn.utils.clip_grad_norm_(model.parameters(), max_norm=1.0, norm_type=2)\n",
    "        opt.step()\n",
    "        opt.zero_grad()\n",
    "        \n",
    "        with warmup_scheduler.dampening():\n",
    "            lr_scheduler.step()\n",
    "    for k, v in train_dl.loaders.items():\n",
    "        v.dataset.shuffle_valid_screen_times()"
   ]
  },
  {
   "cell_type": "code",
   "execution_count": null,
   "id": "e06d8259-4b77-4585-972b-328ffdac2e13",
   "metadata": {},
   "outputs": [],
   "source": []
  },
  {
   "cell_type": "code",
   "execution_count": null,
   "id": "c127f950-78ed-4cf3-b9ed-2bc463d26268",
   "metadata": {},
   "outputs": [],
   "source": []
  },
  {
   "cell_type": "code",
   "execution_count": null,
   "id": "05ed957f-ed3a-4545-9e53-5964a593b911",
   "metadata": {},
   "outputs": [],
   "source": []
  },
  {
   "cell_type": "code",
   "execution_count": null,
   "id": "a70dba1d-ac5f-4c22-ba45-17af3f7fa5a5",
   "metadata": {},
   "outputs": [],
   "source": []
  }
 ],
 "metadata": {
  "kernelspec": {
   "display_name": "Python 3 (ipykernel)",
   "language": "python",
   "name": "python3"
  },
  "language_info": {
   "codemirror_mode": {
    "name": "ipython",
    "version": 3
   },
   "file_extension": ".py",
   "mimetype": "text/x-python",
   "name": "python",
   "nbconvert_exporter": "python",
   "pygments_lexer": "ipython3",
   "version": "3.10.12"
  }
 },
 "nbformat": 4,
 "nbformat_minor": 5
}
