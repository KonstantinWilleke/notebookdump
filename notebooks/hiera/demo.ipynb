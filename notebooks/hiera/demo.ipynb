{
 "cells": [
  {
   "cell_type": "code",
   "execution_count": 1,
   "id": "637b327b-4b4d-4ed9-9918-818e5825c2c9",
   "metadata": {},
   "outputs": [],
   "source": [
    "import os\n",
    "os.environ['CUDA_VISIBLE_DEVICES'] = '6'\n",
    "%matplotlib inline\n",
    "%load_ext autoreload\n",
    "%autoreload 2\n",
    "\n",
    "import numpy as np\n",
    "import matplotlib.pyplot as plt\n",
    "from os import path\n",
    "\n",
    "from torch import nn\n",
    "from torch.nn import functional as F\n",
    "from torch.nn.functional import scaled_dot_product_attention\n",
    "from torch.nn.attention import SDPBackend, sdpa_kernel\n",
    "from tqdm import tqdm\n",
    "from einops import rearrange\n",
    "from torch.optim import AdamW, Adam\n",
    "\n",
    "import torch\n",
    "from torch.utils.data import DataLoader\n",
    "from tqdm import tqdm\n",
    "from omegaconf import OmegaConf, open_dict\n",
    "from experanto.datasets import ChunkDataset, SimpleChunkedDataset\n",
    "from experanto.utils import LongCycler, MultiEpochsDataLoader"
   ]
  },
  {
   "cell_type": "code",
   "execution_count": 2,
   "id": "00ecf779-64e2-4c53-930c-4bc96109fa37",
   "metadata": {},
   "outputs": [],
   "source": [
    "torch.backends.cuda.matmul.allow_tf32 = False\n",
    "torch.set_float32_matmul_precision('high')"
   ]
  },
  {
   "cell_type": "markdown",
   "id": "6d4f5a3f-8720-4222-a63c-b3605b61c5e7",
   "metadata": {},
   "source": [
    "# Hyperparameters"
   ]
  },
  {
   "cell_type": "code",
   "execution_count": 3,
   "id": "4d8aa514-908e-4e00-af7a-06830084b132",
   "metadata": {},
   "outputs": [],
   "source": [
    "video_size = [36, 64]\n",
    "batchsize=16\n",
    "\n",
    "screen_chunk_size = 30\n",
    "screen_fs = 30\n",
    "chunk_size = 8\n",
    "\n",
    "behavior_as_channels = True\n",
    "replace_nans_with_means = True\n",
    "\n",
    "dim_head = 64\n",
    "num_heads = 2\n",
    "drop_path_rate = 0\n",
    "mlp_ratio=4"
   ]
  },
  {
   "cell_type": "markdown",
   "id": "72a43689-cdb6-4443-a57d-0a227fb65d45",
   "metadata": {},
   "source": [
    "### get dataloaders"
   ]
  },
  {
   "cell_type": "code",
   "execution_count": 4,
   "id": "72edb2a0-b392-40be-9e1a-054aacb4593d",
   "metadata": {},
   "outputs": [],
   "source": [
    "from experanto.dataloaders import get_multisession_dataloader\n",
    "\n",
    "from experanto.configs import DEFAULT_CONFIG as cfg\n",
    "paths = ['dynamic29513-3-5-Video-full',\n",
    "         'dynamic29514-2-9-Video-full',\n",
    "         'dynamic29755-2-8-Video-full',\n",
    "         'dynamic29647-19-8-Video-full',\n",
    "         'dynamic29156-11-10-Video-full',\n",
    "         'dynamic29623-4-9-Video-full',\n",
    "         'dynamic29515-10-12-Video-full',\n",
    "         'dynamic29234-6-9-Video-full',\n",
    "         'dynamic29712-5-9-Video-full',\n",
    "         'dynamic29228-2-10-Video-full'\n",
    "        ]\n",
    "full_paths = [path.join(\"/data/mouse_polly/\", f) for f in paths]"
   ]
  },
  {
   "cell_type": "code",
   "execution_count": 5,
   "id": "40f1c64c-31a4-4391-85ef-6f35d7085c3f",
   "metadata": {},
   "outputs": [
    {
     "name": "stderr",
     "output_type": "stream",
     "text": [
      "/usr/local/lib/python3.10/dist-packages/torchvision/transforms/v2/_deprecated.py:42: UserWarning: The transform `ToTensor()` is deprecated and will be removed in a future release. Instead, please use `v2.Compose([v2.ToImage(), v2.ToDtype(torch.float32, scale=True)])`.Output is equivalent up to float precision.\n",
      "  warnings.warn(\n"
     ]
    }
   ],
   "source": [
    "with open_dict(cfg):\n",
    "    cfg.dataset.add_behavior_as_channels = behavior_as_channels\n",
    "    cfg.dataset.replace_nans_with_means = replace_nans_with_means\n",
    "cfg.dataset.global_chunk_size = None\n",
    "cfg.dataset.global_sampling_rate = None\n",
    "\n",
    "cfg.dataset.modality_config.screen.chunk_size = screen_chunk_size\n",
    "cfg.dataset.modality_config.screen.sampling_rate = screen_fs\n",
    "cfg.dataset.modality_config.responses.chunk_size = chunk_size\n",
    "cfg.dataset.modality_config.responses.sampling_rate = 8\n",
    "cfg.dataset.modality_config.eye_tracker.chunk_size = screen_chunk_size\n",
    "cfg.dataset.modality_config.eye_tracker.sampling_rate = screen_fs\n",
    "cfg.dataset.modality_config.treadmill.chunk_size = screen_chunk_size\n",
    "cfg.dataset.modality_config.treadmill.sampling_rate = screen_fs\n",
    "\n",
    "cfg.dataset.modality_config.screen.sample_stride = 1\n",
    "cfg.dataset.modality_config.screen.include_blanks=True\n",
    "cfg.dataset.modality_config.screen.valid_condition = {\"tier\": \"train\"}\n",
    "cfg.dataset.modality_config.screen.transforms.Resize.size = video_size\n",
    "\n",
    "cfg.dataloader.num_workers=2\n",
    "cfg.dataloader.prefetch_factor=2\n",
    "cfg.dataloader.batch_size=batchsize\n",
    "cfg.dataloader.pin_memory=False\n",
    "cfg.dataloader.shuffle=True\n",
    "\n",
    "train_dl = get_multisession_dataloader(full_paths[:1], cfg)"
   ]
  },
  {
   "cell_type": "code",
   "execution_count": 6,
   "id": "02b7c5d7-3d7d-4dc7-86f8-635ab1160b38",
   "metadata": {},
   "outputs": [],
   "source": [
    "session_key , v = next(iter(train_dl))"
   ]
  },
  {
   "cell_type": "code",
   "execution_count": 8,
   "id": "1c0310ff-1dc0-400f-ab8b-103078f303f6",
   "metadata": {},
   "outputs": [
    {
     "data": {
      "text/plain": [
       "'29513-3-5'"
      ]
     },
     "execution_count": 8,
     "metadata": {},
     "output_type": "execute_result"
    }
   ],
   "source": [
    "session_key"
   ]
  },
  {
   "cell_type": "code",
   "execution_count": 15,
   "id": "27268d00-cf12-43e3-961e-12fa30e21fa6",
   "metadata": {},
   "outputs": [],
   "source": [
    "stats1 = train_dl.loaders[session_key].dataset._statistics"
   ]
  },
  {
   "cell_type": "code",
   "execution_count": 16,
   "id": "c0b93836-8b94-469c-afd5-915986e5d113",
   "metadata": {},
   "outputs": [],
   "source": [
    "dataset = train_dl.loaders[session_key].dataset"
   ]
  },
  {
   "cell_type": "code",
   "execution_count": 22,
   "id": "7129ca69-5017-4f2b-a82d-1d009a79116e",
   "metadata": {},
   "outputs": [
    {
     "data": {
      "text/plain": [
       "PosixPath('/data/mouse_polly/dynamic29513-3-5-Video-full/responses')"
      ]
     },
     "execution_count": 22,
     "metadata": {},
     "output_type": "execute_result"
    }
   ],
   "source": [
    "dataset._experiment.devices[\"responses\"].root_folder"
   ]
  },
  {
   "cell_type": "code",
   "execution_count": 39,
   "id": "eeee8080-91f1-4b3a-a146-747d67ea91ab",
   "metadata": {},
   "outputs": [],
   "source": []
  },
  {
   "cell_type": "code",
   "execution_count": 65,
   "id": "0bf6f258-2b9f-416f-bd95-c830f314f6e8",
   "metadata": {},
   "outputs": [],
   "source": [
    "device_name = \"responses\"\n",
    "stds = np.load(dataset._experiment.devices[device_name].root_folder / \"meta/stds.npy\")\n",
    "means = np.load(dataset._experiment.devices[device_name].root_folder / \"meta/means.npy\")"
   ]
  },
  {
   "cell_type": "code",
   "execution_count": 66,
   "id": "1ea544d4-e983-4afd-8455-3639180c1ad9",
   "metadata": {},
   "outputs": [
    {
     "data": {
      "text/plain": [
       "array([[ 8.14456711,  6.38401159,  8.73280993, ..., 63.49786429,\n",
       "        12.78671866, 22.40623612]])"
      ]
     },
     "execution_count": 66,
     "metadata": {},
     "output_type": "execute_result"
    }
   ],
   "source": [
    "stds"
   ]
  },
  {
   "cell_type": "code",
   "execution_count": 67,
   "id": "fca6ce21-7f7d-484e-8b42-e407886feecd",
   "metadata": {},
   "outputs": [
    {
     "data": {
      "text/plain": [
       "array([[ 2.11708711,  1.82554417,  2.2468886 , ..., 10.67869377,\n",
       "         2.29983346,  3.75235768]])"
      ]
     },
     "execution_count": 67,
     "metadata": {},
     "output_type": "execute_result"
    }
   ],
   "source": [
    "means"
   ]
  },
  {
   "cell_type": "code",
   "execution_count": 68,
   "id": "6696fb4f-3f28-42e7-a250-3f0a4589dab5",
   "metadata": {},
   "outputs": [
    {
     "data": {
      "text/plain": [
       "array([[ 7.80178436,  6.34071646,  7.64709398, ..., 53.70008149,\n",
       "        11.90085297, 19.61641034]])"
      ]
     },
     "execution_count": 68,
     "metadata": {},
     "output_type": "execute_result"
    }
   ],
   "source": [
    "stats1[device_name][\"std\"]"
   ]
  },
  {
   "cell_type": "code",
   "execution_count": 69,
   "id": "d6db0076-98ce-4a0c-950d-4e97923f37d3",
   "metadata": {},
   "outputs": [
    {
     "data": {
      "text/plain": [
       "array([[0., 0., 0., ..., 0., 0., 0.]])"
      ]
     },
     "execution_count": 69,
     "metadata": {},
     "output_type": "execute_result"
    }
   ],
   "source": [
    "stats1[device_name][\"mean\"]"
   ]
  },
  {
   "cell_type": "code",
   "execution_count": null,
   "id": "1f6ae33c-472a-4175-a9d0-f3585204dd3d",
   "metadata": {},
   "outputs": [],
   "source": []
  }
 ],
 "metadata": {
  "kernelspec": {
   "display_name": "Python 3 (ipykernel)",
   "language": "python",
   "name": "python3"
  },
  "language_info": {
   "codemirror_mode": {
    "name": "ipython",
    "version": 3
   },
   "file_extension": ".py",
   "mimetype": "text/x-python",
   "name": "python",
   "nbconvert_exporter": "python",
   "pygments_lexer": "ipython3",
   "version": "3.10.12"
  }
 },
 "nbformat": 4,
 "nbformat_minor": 5
}
