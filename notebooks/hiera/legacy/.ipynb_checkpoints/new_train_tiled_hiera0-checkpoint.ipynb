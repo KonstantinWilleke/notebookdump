{
 "cells": [
  {
   "cell_type": "markdown",
   "id": "326fe080-349c-4351-8cb5-8d15dae4ab23",
   "metadata": {},
   "source": [
    "# TinyHiera with multiloader"
   ]
  },
  {
   "cell_type": "code",
   "execution_count": 1,
   "id": "8df70a83-863a-41ab-8361-8fcce3634d3a",
   "metadata": {},
   "outputs": [],
   "source": [
    "blocksize=8\n",
    "\n",
    "\n",
    "dim_head=32\n",
    "num_heads=4\n",
    "batch_size=64"
   ]
  },
  {
   "cell_type": "code",
   "execution_count": null,
   "id": "5f19ad95-96e6-486b-9ae2-f68cb98445b8",
   "metadata": {},
   "outputs": [],
   "source": []
  },
  {
   "cell_type": "code",
   "execution_count": 2,
   "id": "293c138d-55ff-4de0-904a-4449479c48e8",
   "metadata": {
    "editable": true,
    "slideshow": {
     "slide_type": ""
    },
    "tags": []
   },
   "outputs": [],
   "source": [
    "import os\n",
    "os.environ['CUDA_VISIBLE_DEVICES'] = '0'\n",
    "%matplotlib inline\n",
    "%load_ext autoreload\n",
    "%autoreload 2\n",
    "\n",
    "import numpy as np\n",
    "import matplotlib.pyplot as plt\n",
    "from os import path\n",
    "\n",
    "from torch import nn\n",
    "from torch.nn import functional as F\n",
    "from torch.nn.functional import scaled_dot_product_attention\n",
    "from torch.nn.attention import SDPBackend, sdpa_kernel\n",
    "from tqdm import tqdm\n",
    "from einops import rearrange\n",
    "from torch.optim import AdamW, Adam\n",
    "\n",
    "import torch\n",
    "from torch.utils.data import DataLoader\n",
    "from tqdm import tqdm\n",
    "from omegaconf import OmegaConf, open_dict\n",
    "from experanto.datasets import ChunkDataset, SimpleChunkedDataset\n",
    "from experanto.utils import LongCycler, MultiEpochsDataLoader\n",
    "from experanto.dataloaders import get_multisession_dataloader"
   ]
  },
  {
   "cell_type": "markdown",
   "id": "402e08de-a283-4b70-800a-0c6c57809c44",
   "metadata": {},
   "source": [
    "## Load Config Object from .yaml file"
   ]
  },
  {
   "cell_type": "markdown",
   "id": "dbbf2809-83e0-4d29-8681-35a1a8143a3a",
   "metadata": {},
   "source": [
    "### Modify the config"
   ]
  },
  {
   "cell_type": "code",
   "execution_count": 3,
   "id": "28a4a9b8-fe4d-46d8-84ab-292cc1531bcf",
   "metadata": {
    "scrolled": true
   },
   "outputs": [],
   "source": [
    "paths = ['dynamic29513-3-5-Video-full',\n",
    "         'dynamic29514-2-9-Video-full',\n",
    "         'dynamic29755-2-8-Video-full',\n",
    "         'dynamic29647-19-8-Video-full',\n",
    "         'dynamic29156-11-10-Video-full',\n",
    "         'dynamic29623-4-9-Video-full',\n",
    "         'dynamic29515-10-12-Video-full',\n",
    "         'dynamic29234-6-9-Video-full',\n",
    "         'dynamic29712-5-9-Video-full',\n",
    "         'dynamic29228-2-10-Video-full'\n",
    "        ]\n",
    "full_paths = [path.join(\"/data/mouse_polly/\", f) for f in paths]\n",
    "from experanto.configs import DEFAULT_CONFIG as cfg\n",
    "cfg.dataset.global_chunk_size = blocksize\n",
    "cfg.dataset.global_sampling_rate = 8\n",
    "cfg.dataset.modality_config.screen.include_blanks=True\n",
    "cfg.dataset.modality_config.screen.valid_condition = {\"tier\": \"train\"}\n",
    "cfg.dataset.modality_config.screen.transforms.Resize.size = [72, 128]\n",
    "cfg.dataset.modality_config.responses.transforms.standardize=False\n",
    "\n",
    "cfg.dataloader.num_workers=4\n",
    "cfg.dataloader.prefetch_factor=1\n",
    "cfg.dataloader.batch_size=batch_size\n",
    "cfg.dataloader.pin_memory=True\n",
    "# the multiple dataloader is an iterator that returns a tuple of (key, batch)\n",
    "train_dl = get_multisession_dataloader(full_paths, cfg)"
   ]
  },
  {
   "cell_type": "markdown",
   "id": "d4c38564-cdfd-420d-af9f-c031e9b118c9",
   "metadata": {},
   "source": [
    "# Hiera"
   ]
  },
  {
   "cell_type": "code",
   "execution_count": 4,
   "id": "9d2ed553-eb2b-49d6-81a2-3fe54aee9fa3",
   "metadata": {
    "editable": true,
    "slideshow": {
     "slide_type": ""
    },
    "tags": []
   },
   "outputs": [
    {
     "name": "stderr",
     "output_type": "stream",
     "text": [
      "/usr/local/lib/python3.10/dist-packages/tqdm/auto.py:21: TqdmWarning: IProgress not found. Please update jupyter and ipywidgets. See https://ipywidgets.readthedocs.io/en/stable/user_install.html\n",
      "  from .autonotebook import tqdm as notebook_tqdm\n"
     ]
    },
    {
     "data": {
      "text/plain": [
       "torch.Size([8, 4, 9, 16, 256])"
      ]
     },
     "execution_count": 4,
     "metadata": {},
     "output_type": "execute_result"
    }
   ],
   "source": [
    "import torch\n",
    "from hiera import Hiera\n",
    "tiny_hiera = Hiera(input_size=(blocksize,72, 128),\n",
    "                     num_heads=1,\n",
    "                     embed_dim=128,\n",
    "                     stages=(2, 2), \n",
    "                     q_pool=1, \n",
    "                     in_chans=1,\n",
    "                     q_stride=(1, 2, 2),\n",
    "                     mask_unit_size=(1, 8, 8),\n",
    "                     patch_kernel=(3, 8, 8),\n",
    "                     patch_stride=(2, 4, 4),\n",
    "                     patch_padding=(1, 3, 3),\n",
    "                     sep_pos_embed=True,)\n",
    "#tiny_hiera = torch.compile(tiny_hiera).cuda().to(torch.bfloat16);\n",
    "tiny_hiera = tiny_hiera.cuda().to(torch.float32);\n",
    "example_in = torch.ones(8,1,8,72, 128).to(\"cuda\", torch.float32)\n",
    "out = tiny_hiera(example_in, return_intermediates=True);\n",
    "features = out[-1][-1]\n",
    "features.shape\n"
   ]
  },
  {
   "cell_type": "code",
   "execution_count": 5,
   "id": "54eb262e-802d-4393-8768-3ae384cedd24",
   "metadata": {},
   "outputs": [
    {
     "data": {
      "text/plain": [
       "2266984"
      ]
     },
     "execution_count": 5,
     "metadata": {},
     "output_type": "execute_result"
    }
   ],
   "source": [
    "yo=0\n",
    "for n, p in tiny_hiera.named_parameters():\n",
    "    yo+=torch.numel(p)\n",
    "yo"
   ]
  },
  {
   "cell_type": "code",
   "execution_count": 6,
   "id": "7c4694af-e27c-4d71-94ba-f6db53cbef26",
   "metadata": {},
   "outputs": [],
   "source": [
    "class IndexedLinearReadout(nn.Module):\n",
    "    \"\"\"\n",
    "    Readout module for MTM models with selectable weights based on \n",
    "    input IDs. Based on :class:`torch.nn.Linear`.\n",
    "    \"\"\"\n",
    "    def __init__(\n",
    "        self,\n",
    "        unique_ids: int,\n",
    "        in_features: int = 384,\n",
    "        out_features: int = 1,\n",
    "        dim_head=32,\n",
    "        num_heads=4,\n",
    "        bias: bool = True,\n",
    "        device=\"cuda\",\n",
    "        dtype=torch.float32,\n",
    "        init_std: float = 0.02,\n",
    "        reduction=2,\n",
    "    ):\n",
    "        factory_kwargs = {\"device\": device, \"dtype\": dtype}\n",
    "        super().__init__()\n",
    "        self.unique_ids = unique_ids\n",
    "        self.in_features = in_features\n",
    "        self.out_features = out_features\n",
    "        self.reduction=reduction\n",
    "        \n",
    "        self.init_std = init_std\n",
    "\n",
    "        self.query = nn.Parameter(\n",
    "            torch.empty(1, num_heads, unique_ids, dim_head, **factory_kwargs)\n",
    "        )\n",
    "        self.weight = nn.Parameter(\n",
    "            torch.empty(1, unique_ids, in_features, out_features//self.reduction, **factory_kwargs)\n",
    "        )\n",
    "        if bias:\n",
    "            self.bias = nn.Parameter(\n",
    "                torch.empty(1, unique_ids, out_features, **factory_kwargs)\n",
    "            )\n",
    "        else:\n",
    "            self.register_parameter('bias', None)\n",
    "        self.init_weights()\n",
    "\n",
    "    def init_weights(self, cutoff_factor: int = 3):\n",
    "        \"\"\"See `TorchTitan <https://github.com/pytorch/torchtitan/blob/40a10263c5b3468ffa53b3ac98d80c9267d68155/torchtitan/models/llama/model.py#L403>`__.\"\"\"\n",
    "        readout_std = self.in_features**-0.5\n",
    "        nn.init.trunc_normal_(\n",
    "            self.weight,\n",
    "            mean=0.0,\n",
    "            std=readout_std,\n",
    "            a=-cutoff_factor * readout_std,\n",
    "            b=cutoff_factor * readout_std,\n",
    "        )\n",
    "        readout_std = self.in_features**-0.5\n",
    "        nn.init.trunc_normal_(\n",
    "            self.query,\n",
    "            mean=0.0,\n",
    "            std=readout_std,\n",
    "            a=-cutoff_factor * readout_std,\n",
    "            b=cutoff_factor * readout_std,\n",
    "        )\n",
    "        if self.bias is not None:\n",
    "            self.bias.data.zero_()"
   ]
  },
  {
   "cell_type": "code",
   "execution_count": null,
   "id": "1837ed48-a4b6-4a02-b1cd-5aac395041f3",
   "metadata": {},
   "outputs": [],
   "source": []
  },
  {
   "cell_type": "code",
   "execution_count": 9,
   "id": "5e66573a-c54e-42ea-bb06-1ae0f966efb8",
   "metadata": {},
   "outputs": [],
   "source": [
    "class MouseHiera(nn.Module):\n",
    "    def __init__(self,\n",
    "                 backbone,\n",
    "                 dls,\n",
    "                 t=16,\n",
    "                 dim=512,\n",
    "                 dim_head=32,\n",
    "                 num_heads=4,\n",
    "                 out_features=8,\n",
    "                 reduction=2,):\n",
    "        super().__init__()\n",
    "        self.backbone=backbone\n",
    "        self.num_heads=num_heads\n",
    "        self.dim_head=dim_head\n",
    "        self.wk = nn.Linear(dim, dim_head * num_heads, bias=False)\n",
    "        self.wv = nn.Linear(dim, dim_head * num_heads, bias=False)\n",
    "        self.readout = nn.ModuleDict()\n",
    "        self.reduction=reduction\n",
    "        self.out_features = out_features\n",
    "        self.activation = nn.Softplus(beta=0.07, )\n",
    "        self.norm = nn.LayerNorm(dim)\n",
    "        for k, v in dls.loaders.items():\n",
    "            n_neurons = next(iter(v))[\"responses\"].shape[-1]\n",
    "            self.readout[k] = IndexedLinearReadout(n_neurons, \n",
    "                                                   in_features=dim_head*num_heads,\n",
    "                                                   dim_head=dim_head, \n",
    "                                                   num_heads=num_heads, \n",
    "                                                   out_features=self.out_features,\n",
    "                                                   )\n",
    "    \n",
    "    def forward(self, x, key):\n",
    "        x = self.backbone(x, return_intermediates=True)[1][-1]\n",
    "        x = self.norm(x)\n",
    "        b, t, h, w, d = x.shape\n",
    "        seq_len = t*h*w\n",
    "        x = x.view(b, -1, d)\n",
    "        k, v = self.wk(x), self.wv(x)\n",
    "        q = self.readout[key].query\n",
    "        neuron_weight = r.readout[key].weight\n",
    "        n = q.shape[2]\n",
    "        \n",
    "        k = k.view(b, -1, self.num_heads, self.dim_head).transpose(1, 2)\n",
    "        v = v.view(b, -1, self.num_heads, self.dim_head).transpose(1, 2)\n",
    "\n",
    "        #(1, H, N, D) -> (1, N, 2, H*D)\n",
    "        q = q.transpose(1,2).contiguous().view(1,n, -1)[:,:,None, ...].repeat(b,1,2,1)\n",
    "        pos_embed = self.backbone.pos_embed_temporal[:,None, ::self.reduction, :] # (1 t d)-> (1, 1, t//2, d)\n",
    "        q = q + pos_embed\n",
    "        q = rearrange(q, \"b n t (h d) -> b h (n t) d\", h=self.num_heads,) # ()\n",
    "        #with sdpa_kernel(SDPBackend.FLASH_ATTENTION):\n",
    "            \n",
    "        o = F.scaled_dot_product_attention(q, k, v)\n",
    "        o = rearrange(o, \"b h (n t) d -> b t n (h d)\", t=2)\n",
    "        o = torch.einsum(\"btnd, bndo -> bnto\", o, neuron_weight, ).view(b, n, -1)\n",
    "        o = o + r.readout[key].bias\n",
    "        o = self.activation(o)\n",
    "        return o"
   ]
  },
  {
   "cell_type": "code",
   "execution_count": null,
   "id": "177ab595-9873-4f7b-bb6c-bb63120b86da",
   "metadata": {},
   "outputs": [],
   "source": [
    "backbone_dim = features[-1][-1].shape[-1]\n",
    "r = MouseHiera(tiny_hiera, train_dl, blocksize, backbone_dim, dim_head=dim_head,num_heads=num_heads, out_features=8, reduction=2,)\n",
    "#opt_r = torch.compile(r, )\n",
    "opt_r = r.cuda().to(torch.float32)\n",
    "\n",
    "torch.backends.cuda.matmul.allow_tf32 = True\n",
    "torch.set_float32_matmul_precision('high')\n",
    "opt_r.backbone.to(torch.float32).cuda();\n",
    "opt_r = opt_r.train().to(torch.float32).cuda()\n",
    "opt_r = opt_r.cuda().to(torch.float32)\n",
    "opt_r = torch.compile(r).cuda().to(torch.float32)\n",
    "\n",
    "k, b = next(iter(train_dl))\n",
    "videos = b[\"screen\"].to(\"cuda\", torch.float32, non_blocking=True).permute(0,2,1,3,4)\n",
    "responses = b[\"responses\"].to(\"cuda\", torch.float32, non_blocking=True)\n",
    "out = opt_r(videos, k);\n",
    "\n",
    "criteria = nn.PoissonNLLLoss(log_input=False, reduction='mean')\n",
    "opt = AdamW(opt_r.parameters(), lr=5e-4, fused=False)\n",
    "import pytorch_warmup as warmup\n",
    "from torch.amp import autocast\n",
    "warmup_scheduler = warmup.UntunedLinearWarmup(opt, )\n",
    "lr_scheduler = torch.optim.lr_scheduler.CosineAnnealingLR(opt, 1e5, eta_min=1e-5)"
   ]
  },
  {
   "cell_type": "code",
   "execution_count": null,
   "id": "afd7f118-fdec-4dbd-8462-de034d15b1c3",
   "metadata": {},
   "outputs": [],
   "source": [
    "from experanto.configs import DEFAULT_CONFIG as cfg\n",
    "cfg.dataset.global_chunk_size = 8\n",
    "cfg.dataset.global_sampling_rate = 8\n",
    "cfg.dataset.modality_config.screen.include_blanks=False\n",
    "cfg.dataset.modality_config.screen.sample_stride=8\n",
    "cfg.dataset.modality_config.screen.valid_condition = {\"tier\": \"oracle\"}\n",
    "\n",
    "cfg.dataloader.num_workers=4\n",
    "cfg.dataloader.prefetch_factor=1\n",
    "cfg.dataloader.batch_size=32\n",
    "cfg.dataloader.pin_memory=True\n",
    "# the multiple dataloader is an iterator that returns a tuple of (key, batch)\n",
    "val_dl = get_multisession_dataloader(full_paths[3:4], cfg)"
   ]
  },
  {
   "cell_type": "code",
   "execution_count": null,
   "id": "9451ca06-1c51-4fc5-8181-12272d16c97f",
   "metadata": {},
   "outputs": [],
   "source": [
    "def val_step():\n",
    "    targets, predictions = [],[]\n",
    "    with torch.no_grad():\n",
    "        for i, (k, b) in tqdm(enumerate(val_dl)):\n",
    "            videos = b[\"screen\"].to(\"cuda\", torch.float32, non_blocking=True).permute(0,2,1,3,4)\n",
    "            responses = b[\"responses\"].to(\"cuda\", torch.float32, non_blocking=True)\n",
    "            out = opt_r(videos, k);\n",
    "            predictions.append(out.transpose(1,2).to(torch.float32).cpu().numpy())\n",
    "            targets.append(responses.to(torch.float32).cpu().numpy())\n",
    "    r1 = np.vstack(np.vstack(predictions))\n",
    "    r2 = np.vstack(np.vstack(targets))\n",
    "    cs = []\n",
    "    for n in range(7000):\n",
    "        c =  np.corrcoef(r1[...,n].flatten(), r2[...,n].flatten(), )[0,1]\n",
    "        cs.append(c)\n",
    "    val_corrs = np.stack(cs).mean()\n",
    "    return val_corrs"
   ]
  },
  {
   "cell_type": "code",
   "execution_count": null,
   "id": "ac588eb0-d48f-4b7e-be2c-58808643324f",
   "metadata": {},
   "outputs": [],
   "source": [
    "torch._dynamo.config.cache_size_limit = 32"
   ]
  },
  {
   "cell_type": "code",
   "execution_count": null,
   "id": "ccf4c0a6-52c3-4cfc-81f6-253f5b6d07d2",
   "metadata": {
    "scrolled": true
   },
   "outputs": [],
   "source": [
    "patience = 0\n",
    "max_objective = 0\n",
    "losses, corrs, lrs, val_corrs = [], [], [], []\n",
    "for train_loop in range(1000):\n",
    "    current_objective = val_step()\n",
    "    if train_loop > 5:\n",
    "        max_objective = np.max(np.array(val_corrs[:-1])[~np.isnan(val_corrs[:-1])])\n",
    "    if current_objective < max_objective:\n",
    "        patience += 1\n",
    "    else:\n",
    "        patience = 0\n",
    "    if patience >=5:\n",
    "        break\n",
    "    val_corrs.append(current_objective)\n",
    "    print(val_corrs)\n",
    "    for i, (k, b) in tqdm(enumerate(train_dl)):\n",
    "        videos = b[\"screen\"].to(\"cuda\", torch.float32, non_blocking=True).permute(0,2,1,3,4)\n",
    "        responses = b[\"responses\"].to(\"cuda\", torch.float32, non_blocking=True)\n",
    "        #with autocast(device_type='cuda', dtype=torch.float32):\n",
    "        #    out = opt_r(videos, k);\n",
    "        #    loss = criteria(out.transpose(1,2), responses)\n",
    "        out = opt_r(videos, k);\n",
    "        loss = criteria(out.transpose(1,2), responses)\n",
    "        loss.backward()\n",
    "        torch.nn.utils.clip_grad_value_(opt_r.parameters(), 5,)\n",
    "        opt.step()\n",
    "        opt.zero_grad()\n",
    "        \n",
    "        \n",
    "        losses.append(loss.item())\n",
    "        with warmup_scheduler.dampening():\n",
    "            lr_scheduler.step()\n",
    "        \n",
    "        if i % 10 ==0:\n",
    "            r2 = responses.to(torch.float32).cpu().numpy().flatten()\n",
    "            r1 = out.transpose(1,2).detach().cpu().to(torch.float32).numpy().flatten()\n",
    "            corrs.append(np.corrcoef(r1,r2)[0,1].item())\n",
    "            lrs.append(opt.param_groups[0]['lr'])\n",
    "        if i % 100 ==0:\n",
    "            print(np.corrcoef(r1,r2)[0,1].item())\n",
    "            print(opt.param_groups[0]['lr'])\n",
    "    for k, v in train_dl.loaders.items():\n",
    "        v.dataset.shuffle_valid_screen_times()"
   ]
  },
  {
   "cell_type": "code",
   "execution_count": null,
   "id": "2a276af7-8231-428a-91b8-093a4976acb2",
   "metadata": {},
   "outputs": [],
   "source": []
  },
  {
   "cell_type": "code",
   "execution_count": null,
   "id": "0f3b09f9-4acd-4180-b008-d856b559fe17",
   "metadata": {},
   "outputs": [],
   "source": []
  },
  {
   "cell_type": "code",
   "execution_count": null,
   "id": "665d789f-ab26-4d35-a9a6-e4b73286100b",
   "metadata": {},
   "outputs": [],
   "source": []
  },
  {
   "cell_type": "code",
   "execution_count": null,
   "id": "83fbe2d9-03de-416d-865b-8c2d21900c9d",
   "metadata": {},
   "outputs": [],
   "source": []
  },
  {
   "cell_type": "markdown",
   "id": "959f593f-a623-4094-ace1-f6a108af5f11",
   "metadata": {},
   "source": [
    "# Single batch"
   ]
  },
  {
   "cell_type": "code",
   "execution_count": 12,
   "id": "59295c09-aa4e-49ef-ab92-13c84790234d",
   "metadata": {
    "scrolled": true
   },
   "outputs": [
    {
     "name": "stderr",
     "output_type": "stream",
     "text": [
      "  0% 3/5000 [00:00<09:00,  9.24it/s]"
     ]
    },
    {
     "name": "stdout",
     "output_type": "stream",
     "text": [
      "-0.0007759275030091066\n",
      "1.0005002501249647e-06\n"
     ]
    },
    {
     "name": "stderr",
     "output_type": "stream",
     "text": [
      "  2% 103/5000 [00:08<07:03, 11.57it/s]"
     ]
    },
    {
     "name": "stdout",
     "output_type": "stream",
     "text": [
      "0.012750894889485595\n",
      "5.102551270551952e-05\n"
     ]
    },
    {
     "name": "stderr",
     "output_type": "stream",
     "text": [
      "  4% 203/5000 [00:16<06:48, 11.76it/s]"
     ]
    },
    {
     "name": "stdout",
     "output_type": "stream",
     "text": [
      "0.08795045244255309\n",
      "0.00010105052486372977\n"
     ]
    },
    {
     "name": "stderr",
     "output_type": "stream",
     "text": [
      "  6% 303/5000 [00:24<06:46, 11.55it/s]"
     ]
    },
    {
     "name": "stdout",
     "output_type": "stream",
     "text": [
      "0.18915952979343803\n",
      "0.00015107553643148194\n"
     ]
    },
    {
     "name": "stderr",
     "output_type": "stream",
     "text": [
      "  8% 403/5000 [00:32<06:32, 11.70it/s]"
     ]
    },
    {
     "name": "stdout",
     "output_type": "stream",
     "text": [
      "0.23024906798403463\n",
      "0.00020110054711550214\n"
     ]
    },
    {
     "name": "stderr",
     "output_type": "stream",
     "text": [
      " 10% 503/5000 [00:40<06:26, 11.63it/s]"
     ]
    },
    {
     "name": "stdout",
     "output_type": "stream",
     "text": [
      "0.28476749913720756\n",
      "0.00025112555662251657\n"
     ]
    },
    {
     "name": "stderr",
     "output_type": "stream",
     "text": [
      " 12% 603/5000 [00:48<06:17, 11.66it/s]"
     ]
    },
    {
     "name": "stdout",
     "output_type": "stream",
     "text": [
      "0.3212689309522662\n",
      "0.0003011505646592515\n"
     ]
    },
    {
     "name": "stderr",
     "output_type": "stream",
     "text": [
      " 14% 703/5000 [00:57<06:19, 11.32it/s]"
     ]
    },
    {
     "name": "stdout",
     "output_type": "stream",
     "text": [
      "0.3669476916374623\n",
      "0.0003511755709324329\n"
     ]
    },
    {
     "name": "stderr",
     "output_type": "stream",
     "text": [
      " 16% 803/5000 [01:05<06:03, 11.55it/s]"
     ]
    },
    {
     "name": "stdout",
     "output_type": "stream",
     "text": [
      "0.39664519496330564\n",
      "0.000401200575148787\n"
     ]
    },
    {
     "name": "stderr",
     "output_type": "stream",
     "text": [
      " 18% 903/5000 [01:13<06:13, 10.98it/s]"
     ]
    },
    {
     "name": "stdout",
     "output_type": "stream",
     "text": [
      "0.44162925969755323\n",
      "0.00045122557701504065\n"
     ]
    },
    {
     "name": "stderr",
     "output_type": "stream",
     "text": [
      " 20% 1003/5000 [01:21<05:40, 11.75it/s]"
     ]
    },
    {
     "name": "stdout",
     "output_type": "stream",
     "text": [
      "0.4349448962085095\n",
      "0.0005012505762379191\n"
     ]
    },
    {
     "name": "stderr",
     "output_type": "stream",
     "text": [
      " 22% 1103/5000 [01:29<05:29, 11.81it/s]"
     ]
    },
    {
     "name": "stdout",
     "output_type": "stream",
     "text": [
      "0.4997769373554168\n",
      "0.0005512755725241492\n"
     ]
    },
    {
     "name": "stderr",
     "output_type": "stream",
     "text": [
      " 24% 1203/5000 [01:37<05:23, 11.73it/s]"
     ]
    },
    {
     "name": "stdout",
     "output_type": "stream",
     "text": [
      "0.4673881982453851\n",
      "0.0006013005655804574\n"
     ]
    },
    {
     "name": "stderr",
     "output_type": "stream",
     "text": [
      " 26% 1303/5000 [01:45<05:12, 11.81it/s]"
     ]
    },
    {
     "name": "stdout",
     "output_type": "stream",
     "text": [
      "0.5325070233796327\n",
      "0.0006513255551135707\n"
     ]
    },
    {
     "name": "stderr",
     "output_type": "stream",
     "text": [
      " 28% 1403/5000 [01:53<05:04, 11.79it/s]"
     ]
    },
    {
     "name": "stdout",
     "output_type": "stream",
     "text": [
      "0.4976078089759979\n",
      "0.000701350540830214\n"
     ]
    },
    {
     "name": "stderr",
     "output_type": "stream",
     "text": [
      " 30% 1503/5000 [02:02<04:56, 11.81it/s]"
     ]
    },
    {
     "name": "stdout",
     "output_type": "stream",
     "text": [
      "0.5643324726014625\n",
      "0.0007513755224371079\n"
     ]
    },
    {
     "name": "stderr",
     "output_type": "stream",
     "text": [
      " 32% 1603/5000 [02:10<04:47, 11.80it/s]"
     ]
    },
    {
     "name": "stdout",
     "output_type": "stream",
     "text": [
      "0.3849212346190718\n",
      "0.0008014004996409836\n"
     ]
    },
    {
     "name": "stderr",
     "output_type": "stream",
     "text": [
      " 34% 1703/5000 [02:18<04:43, 11.62it/s]"
     ]
    },
    {
     "name": "stdout",
     "output_type": "stream",
     "text": [
      "0.5390067725544702\n",
      "0.0008514254721485693\n"
     ]
    },
    {
     "name": "stderr",
     "output_type": "stream",
     "text": [
      " 36% 1803/5000 [02:26<04:42, 11.30it/s]"
     ]
    },
    {
     "name": "stdout",
     "output_type": "stream",
     "text": [
      "0.5757683421236254\n",
      "0.000901450439666591\n"
     ]
    },
    {
     "name": "stderr",
     "output_type": "stream",
     "text": [
      " 38% 1903/5000 [02:34<04:22, 11.78it/s]"
     ]
    },
    {
     "name": "stdout",
     "output_type": "stream",
     "text": [
      "0.6038278662156339\n",
      "0.0009514754019017765\n"
     ]
    },
    {
     "name": "stderr",
     "output_type": "stream",
     "text": [
      " 40% 2003/5000 [02:42<04:17, 11.65it/s]"
     ]
    },
    {
     "name": "stdout",
     "output_type": "stream",
     "text": [
      "0.5797536920660572\n",
      "0.0009999996087727992\n"
     ]
    },
    {
     "name": "stderr",
     "output_type": "stream",
     "text": [
      " 42% 2103/5000 [02:50<04:12, 11.49it/s]"
     ]
    },
    {
     "name": "stdout",
     "output_type": "stream",
     "text": [
      "0.6358283075461582\n",
      "0.000999999568692543\n"
     ]
    },
    {
     "name": "stderr",
     "output_type": "stream",
     "text": [
      " 44% 2203/5000 [02:58<03:57, 11.75it/s]"
     ]
    },
    {
     "name": "stdout",
     "output_type": "stream",
     "text": [
      "0.6532761697651497\n",
      "0.0009999995266581044\n"
     ]
    },
    {
     "name": "stderr",
     "output_type": "stream",
     "text": [
      " 46% 2303/5000 [03:06<03:52, 11.61it/s]"
     ]
    },
    {
     "name": "stdout",
     "output_type": "stream",
     "text": [
      "0.5784825843785317\n",
      "0.0009999994826694883\n"
     ]
    },
    {
     "name": "stderr",
     "output_type": "stream",
     "text": [
      " 48% 2403/5000 [03:14<03:40, 11.75it/s]"
     ]
    },
    {
     "name": "stdout",
     "output_type": "stream",
     "text": [
      "0.6680394465632375\n",
      "0.0009999994367266977\n"
     ]
    },
    {
     "name": "stderr",
     "output_type": "stream",
     "text": [
      " 50% 2503/5000 [03:22<03:38, 11.44it/s]"
     ]
    },
    {
     "name": "stdout",
     "output_type": "stream",
     "text": [
      "0.6817589446372294\n",
      "0.000999999388829722\n"
     ]
    },
    {
     "name": "stderr",
     "output_type": "stream",
     "text": [
      " 52% 2603/5000 [03:30<03:23, 11.77it/s]"
     ]
    },
    {
     "name": "stdout",
     "output_type": "stream",
     "text": [
      "0.6923923336590676\n",
      "0.0009999993389785673\n"
     ]
    },
    {
     "name": "stderr",
     "output_type": "stream",
     "text": [
      " 54% 2703/5000 [03:39<03:21, 11.40it/s]"
     ]
    },
    {
     "name": "stdout",
     "output_type": "stream",
     "text": [
      "0.6808941724093762\n",
      "0.000999999287173238\n"
     ]
    },
    {
     "name": "stderr",
     "output_type": "stream",
     "text": [
      " 56% 2803/5000 [03:47<03:10, 11.50it/s]"
     ]
    },
    {
     "name": "stdout",
     "output_type": "stream",
     "text": [
      "0.7058324916218588\n",
      "0.000999999233413725\n"
     ]
    },
    {
     "name": "stderr",
     "output_type": "stream",
     "text": [
      " 58% 2903/5000 [03:55<02:57, 11.81it/s]"
     ]
    },
    {
     "name": "stdout",
     "output_type": "stream",
     "text": [
      "0.7155552592915558\n",
      "0.0009999991777000362\n"
     ]
    },
    {
     "name": "stderr",
     "output_type": "stream",
     "text": [
      " 60% 3003/5000 [04:03<02:49, 11.82it/s]"
     ]
    },
    {
     "name": "stdout",
     "output_type": "stream",
     "text": [
      "0.7230427576280233\n",
      "0.0009999991200321683\n"
     ]
    },
    {
     "name": "stderr",
     "output_type": "stream",
     "text": [
      " 62% 3103/5000 [04:11<02:40, 11.81it/s]"
     ]
    },
    {
     "name": "stdout",
     "output_type": "stream",
     "text": [
      "0.7300341164695751\n",
      "0.0009999990604101215\n"
     ]
    },
    {
     "name": "stderr",
     "output_type": "stream",
     "text": [
      " 64% 3203/5000 [04:19<02:35, 11.57it/s]"
     ]
    },
    {
     "name": "stdout",
     "output_type": "stream",
     "text": [
      "0.737144849886492\n",
      "0.000999998998833898\n"
     ]
    },
    {
     "name": "stderr",
     "output_type": "stream",
     "text": [
      " 66% 3303/5000 [04:27<02:26, 11.59it/s]"
     ]
    },
    {
     "name": "stdout",
     "output_type": "stream",
     "text": [
      "0.7286444542389338\n",
      "0.0009999989353034974\n"
     ]
    },
    {
     "name": "stderr",
     "output_type": "stream",
     "text": [
      " 68% 3403/5000 [04:35<02:17, 11.64it/s]"
     ]
    },
    {
     "name": "stdout",
     "output_type": "stream",
     "text": [
      "0.7464522729285239\n",
      "0.0009999988698189174\n"
     ]
    },
    {
     "name": "stderr",
     "output_type": "stream",
     "text": [
      " 70% 3503/5000 [04:43<02:09, 11.60it/s]"
     ]
    },
    {
     "name": "stdout",
     "output_type": "stream",
     "text": [
      "0.7518876820668223\n",
      "0.0009999988023801627\n"
     ]
    },
    {
     "name": "stderr",
     "output_type": "stream",
     "text": [
      " 72% 3603/5000 [04:51<01:58, 11.76it/s]"
     ]
    },
    {
     "name": "stdout",
     "output_type": "stream",
     "text": [
      "0.7559041837935886\n",
      "0.0009999987329872273\n"
     ]
    },
    {
     "name": "stderr",
     "output_type": "stream",
     "text": [
      " 74% 3703/5000 [04:59<01:54, 11.29it/s]"
     ]
    },
    {
     "name": "stdout",
     "output_type": "stream",
     "text": [
      "0.7594435527851862\n",
      "0.0009999986616401168\n"
     ]
    },
    {
     "name": "stderr",
     "output_type": "stream",
     "text": [
      " 76% 3803/5000 [05:08<01:42, 11.74it/s]"
     ]
    },
    {
     "name": "stdout",
     "output_type": "stream",
     "text": [
      "0.7627432427345173\n",
      "0.0009999985883388319\n"
     ]
    },
    {
     "name": "stderr",
     "output_type": "stream",
     "text": [
      " 78% 3903/5000 [05:16<01:35, 11.54it/s]"
     ]
    },
    {
     "name": "stdout",
     "output_type": "stream",
     "text": [
      "0.7660666849455916\n",
      "0.0009999985130833692\n"
     ]
    },
    {
     "name": "stderr",
     "output_type": "stream",
     "text": [
      " 80% 4003/5000 [05:24<01:26, 11.51it/s]"
     ]
    },
    {
     "name": "stdout",
     "output_type": "stream",
     "text": [
      "0.7694239111846776\n",
      "0.0009999984358737314\n"
     ]
    },
    {
     "name": "stderr",
     "output_type": "stream",
     "text": [
      " 82% 4103/5000 [05:32<01:17, 11.56it/s]"
     ]
    },
    {
     "name": "stdout",
     "output_type": "stream",
     "text": [
      "0.7728775063468271\n",
      "0.0009999983567099162\n"
     ]
    },
    {
     "name": "stderr",
     "output_type": "stream",
     "text": [
      " 84% 4203/5000 [05:40<01:07, 11.74it/s]"
     ]
    },
    {
     "name": "stdout",
     "output_type": "stream",
     "text": [
      "0.7759348350927395\n",
      "0.0009999982755919267\n"
     ]
    },
    {
     "name": "stderr",
     "output_type": "stream",
     "text": [
      " 86% 4303/5000 [05:48<00:59, 11.80it/s]"
     ]
    },
    {
     "name": "stdout",
     "output_type": "stream",
     "text": [
      "0.7789979500576839\n",
      "0.0009999981925197627\n"
     ]
    },
    {
     "name": "stderr",
     "output_type": "stream",
     "text": [
      " 88% 4403/5000 [05:56<00:50, 11.74it/s]"
     ]
    },
    {
     "name": "stdout",
     "output_type": "stream",
     "text": [
      "0.78170006023473\n",
      "0.0009999981074934256\n"
     ]
    },
    {
     "name": "stderr",
     "output_type": "stream",
     "text": [
      " 90% 4503/5000 [06:04<00:42, 11.81it/s]"
     ]
    },
    {
     "name": "stdout",
     "output_type": "stream",
     "text": [
      "0.7524911515299172\n",
      "0.0009999980205129119\n"
     ]
    },
    {
     "name": "stderr",
     "output_type": "stream",
     "text": [
      " 92% 4603/5000 [06:12<00:33, 11.80it/s]"
     ]
    },
    {
     "name": "stdout",
     "output_type": "stream",
     "text": [
      "0.7758536873862769\n",
      "0.000999997931578225\n"
     ]
    },
    {
     "name": "stderr",
     "output_type": "stream",
     "text": [
      " 94% 4703/5000 [06:20<00:25, 11.77it/s]"
     ]
    },
    {
     "name": "stdout",
     "output_type": "stream",
     "text": [
      "0.7794641584376915\n",
      "0.0009999978406893648\n"
     ]
    },
    {
     "name": "stderr",
     "output_type": "stream",
     "text": [
      " 96% 4803/5000 [06:29<00:16, 11.70it/s]"
     ]
    },
    {
     "name": "stdout",
     "output_type": "stream",
     "text": [
      "0.781729498377966\n",
      "0.0009999977478463314\n"
     ]
    },
    {
     "name": "stderr",
     "output_type": "stream",
     "text": [
      " 98% 4903/5000 [06:37<00:08, 11.83it/s]"
     ]
    },
    {
     "name": "stdout",
     "output_type": "stream",
     "text": [
      "0.7833016547181196\n",
      "0.0009999976530491264\n"
     ]
    },
    {
     "name": "stderr",
     "output_type": "stream",
     "text": [
      "100% 5000/5000 [06:44<00:00, 12.35it/s]\n"
     ]
    }
   ],
   "source": [
    "losses, corrs, lrs, val_corrs = [], [], [], []\n",
    "for train_loop in tqdm(range(5000)):\n",
    "    out = opt_r(videos, k);\n",
    "    loss = criteria(out.transpose(1,2), responses)\n",
    "    loss.backward()\n",
    "    torch.nn.utils.clip_grad_value_(opt_r.parameters(), 5,)\n",
    "    opt.step()\n",
    "    opt.zero_grad()\n",
    "    losses.append(loss.item())\n",
    "    with warmup_scheduler.dampening():\n",
    "        lr_scheduler.step()\n",
    "    \n",
    "    if train_loop % 10 ==0:\n",
    "        r2 = responses.to(torch.float32).cpu().numpy().flatten()\n",
    "        r1 = out.transpose(1,2).detach().cpu().to(torch.float32).numpy().flatten()\n",
    "        corrs.append(np.corrcoef(r1,r2)[0,1].item())\n",
    "        lrs.append(opt.param_groups[0]['lr'])\n",
    "    if train_loop % 100 ==0:\n",
    "        print(np.corrcoef(r1,r2)[0,1].item())\n",
    "        print(opt.param_groups[0]['lr'])"
   ]
  },
  {
   "cell_type": "code",
   "execution_count": 29,
   "id": "06792f4f-5ab6-4a4f-b4f7-057b27058bec",
   "metadata": {},
   "outputs": [
    {
     "data": {
      "text/plain": [
       "torch.Size([64, 8, 7671])"
      ]
     },
     "execution_count": 29,
     "metadata": {},
     "output_type": "execute_result"
    }
   ],
   "source": [
    "responses.shape"
   ]
  },
  {
   "cell_type": "code",
   "execution_count": null,
   "id": "272a4d0f-8a17-42ab-a2ac-12950c44daee",
   "metadata": {},
   "outputs": [],
   "source": []
  },
  {
   "cell_type": "code",
   "execution_count": null,
   "id": "a60f8e6c-451e-4353-aa09-457a7046f2d9",
   "metadata": {},
   "outputs": [],
   "source": []
  },
  {
   "cell_type": "code",
   "execution_count": 22,
   "id": "136abbac-e5dc-4a16-a540-f13e92f1ca37",
   "metadata": {
    "scrolled": true
   },
   "outputs": [
    {
     "data": {
      "text/plain": [
       "(0.0, 500.0)"
      ]
     },
     "execution_count": 22,
     "metadata": {},
     "output_type": "execute_result"
    },
    {
     "data": {
      "image/png": "[encoded data removed]",
      "text/plain": [
       "<Figure size 640x480 with 1 Axes>"
      ]
     },
     "metadata": {},
     "output_type": "display_data"
    }
   ],
   "source": [
    "plt.scatter(r1, r2, color=\"k\", s=5, alpha=.1)\n",
    "plt.ylim([0, 500])\n",
    "plt.xlim([0, 500])"
   ]
  },
  {
   "cell_type": "code",
   "execution_count": null,
   "id": "13127530-31ec-42f9-a48d-ada0c51e474d",
   "metadata": {},
   "outputs": [],
   "source": []
  },
  {
   "cell_type": "code",
   "execution_count": null,
   "id": "03dabf9c-79fb-469e-ae39-8be6bd590b9d",
   "metadata": {},
   "outputs": [],
   "source": []
  },
  {
   "cell_type": "code",
   "execution_count": 13,
   "id": "239dc7ea-814d-4a81-b3b5-302408cceace",
   "metadata": {},
   "outputs": [
    {
     "data": {
      "text/plain": [
       "[<matplotlib.lines.Line2D at 0x7fcfad9b1930>]"
      ]
     },
     "execution_count": 13,
     "metadata": {},
     "output_type": "execute_result"
    },
    {
     "data": {
      "image/png": "[encoded data removed]",
      "text/plain": [
       "<Figure size 640x480 with 1 Axes>"
      ]
     },
     "metadata": {},
     "output_type": "display_data"
    }
   ],
   "source": [
    "plt.plot(lrs)"
   ]
  },
  {
   "cell_type": "code",
   "execution_count": 14,
   "id": "bba0ec61-accf-4644-b2c5-7f187b727463",
   "metadata": {},
   "outputs": [
    {
     "data": {
      "text/plain": [
       "[<matplotlib.lines.Line2D at 0x7fcea665eb90>]"
      ]
     },
     "execution_count": 14,
     "metadata": {},
     "output_type": "execute_result"
    },
    {
     "data": {
      "image/png": "[encoded data removed]",
      "text/plain": [
       "<Figure size 640x480 with 1 Axes>"
      ]
     },
     "metadata": {},
     "output_type": "display_data"
    }
   ],
   "source": [
    "plt.plot(losses)"
   ]
  },
  {
   "cell_type": "code",
   "execution_count": 15,
   "id": "5709a16f-224d-4034-9f97-e4a4bb023a03",
   "metadata": {},
   "outputs": [
    {
     "data": {
      "text/plain": [
       "[<matplotlib.lines.Line2D at 0x7fcea64f8310>]"
      ]
     },
     "execution_count": 15,
     "metadata": {},
     "output_type": "execute_result"
    },
    {
     "data": {
      "image/png": "[encoded data removed]",
      "text/plain": [
       "<Figure size 640x480 with 1 Axes>"
      ]
     },
     "metadata": {},
     "output_type": "display_data"
    }
   ],
   "source": [
    "plt.plot(corrs)"
   ]
  },
  {
   "cell_type": "code",
   "execution_count": null,
   "id": "8fbd6117-4e3c-410c-b485-3f7987d493f7",
   "metadata": {},
   "outputs": [],
   "source": []
  },
  {
   "cell_type": "code",
   "execution_count": null,
   "id": "3b6feaf1-ed5e-49ec-858a-26c0dc713141",
   "metadata": {},
   "outputs": [],
   "source": []
  },
  {
   "cell_type": "code",
   "execution_count": null,
   "id": "910d4c72-f344-4611-93a9-e987ab8be8da",
   "metadata": {},
   "outputs": [],
   "source": []
  },
  {
   "cell_type": "code",
   "execution_count": 16,
   "id": "ff07b24a-c41d-43ef-a810-228683ecd536",
   "metadata": {},
   "outputs": [
    {
     "data": {
      "text/plain": [
       "[<matplotlib.lines.Line2D at 0x7f90b4d9c490>]"
      ]
     },
     "execution_count": 16,
     "metadata": {},
     "output_type": "execute_result"
    },
    {
     "data": {
      "image/png": "[encoded data removed]",
      "text/plain": [
       "<Figure size 640x480 with 1 Axes>"
      ]
     },
     "metadata": {},
     "output_type": "display_data"
    }
   ],
   "source": [
    "plt.plot(corrs)"
   ]
  },
  {
   "cell_type": "code",
   "execution_count": 17,
   "id": "8d4ea016-d12a-4fcd-9b35-81a157166e32",
   "metadata": {
    "scrolled": true
   },
   "outputs": [
    {
     "data": {
      "text/plain": [
       "[<matplotlib.lines.Line2D at 0x7f90b4d312d0>]"
      ]
     },
     "execution_count": 17,
     "metadata": {},
     "output_type": "execute_result"
    },
    {
     "data": {
      "image/png": "[encoded data removed]",
      "text/plain": [
       "<Figure size 640x480 with 1 Axes>"
      ]
     },
     "metadata": {},
     "output_type": "display_data"
    }
   ],
   "source": [
    "plt.plot(losses)"
   ]
  },
  {
   "cell_type": "code",
   "execution_count": null,
   "id": "9124e5cd-5eb2-4718-a0a9-5d45128c317f",
   "metadata": {},
   "outputs": [],
   "source": []
  },
  {
   "cell_type": "code",
   "execution_count": null,
   "id": "ae78361a-662b-47de-8ee7-eacd577ee96c",
   "metadata": {},
   "outputs": [],
   "source": []
  },
  {
   "cell_type": "code",
   "execution_count": null,
   "id": "64601119-8837-4a64-9036-064adc7065b1",
   "metadata": {},
   "outputs": [],
   "source": []
  },
  {
   "cell_type": "code",
   "execution_count": null,
   "id": "1cda224b-faf3-4e89-9c82-aa638e31ca52",
   "metadata": {},
   "outputs": [],
   "source": []
  },
  {
   "cell_type": "code",
   "execution_count": null,
   "id": "1ab8283e-d71d-4f0b-bb67-db0eb478ad24",
   "metadata": {},
   "outputs": [],
   "source": []
  },
  {
   "cell_type": "code",
   "execution_count": null,
   "id": "471bb43b-ebf0-43eb-8d6b-8f7e616a663b",
   "metadata": {},
   "outputs": [],
   "source": []
  },
  {
   "cell_type": "code",
   "execution_count": 24,
   "id": "ff347aee-fac8-41d6-8fde-6b38a53f4215",
   "metadata": {},
   "outputs": [
    {
     "name": "stderr",
     "output_type": "stream",
     "text": [
      "7it [00:14,  2.00s/it]/usr/local/lib/python3.10/dist-packages/torch/_inductor/compile_fx.py:168: UserWarning: TensorFloat32 tensor cores for float32 matrix multiplication available but not enabled. Consider setting `torch.set_float32_matmul_precision('high')` for better performance.\n",
      "  warnings.warn(\n",
      "8it [00:22,  4.01s/it]W1015 15:32:29.407000 20839 torch/_dynamo/convert_frame.py:844] [0/8] torch._dynamo hit config.cache_size_limit (8)\n",
      "W1015 15:32:29.407000 20839 torch/_dynamo/convert_frame.py:844] [0/8]    function: 'forward' (/tmp/ipykernel_20839/2467812288.py:21)\n",
      "W1015 15:32:29.407000 20839 torch/_dynamo/convert_frame.py:844] [0/8]    last reason: 0/0: L['key'] == '29513-3-5'                                     \n",
      "W1015 15:32:29.407000 20839 torch/_dynamo/convert_frame.py:844] [0/8] To log all recompilation reasons, use TORCH_LOGS=\"recompiles\".\n",
      "W1015 15:32:29.407000 20839 torch/_dynamo/convert_frame.py:844] [0/8] To diagnose recompilation issues, see https://pytorch.org/docs/main/torch.compiler_troubleshooting.html.\n",
      "201it [00:31,  6.41it/s]\n"
     ]
    }
   ],
   "source": [
    "with torch.no_grad():\n",
    "    for i, (k, b) in tqdm(enumerate(train_dl)):\n",
    "        videos = b[\"screen\"].to(\"cuda\", torch.bfloat16, non_blocking=True).permute(0,2,1,3,4)\n",
    "        out = opt_r(videos, k);\n",
    "        if i > 200:\n",
    "            break"
   ]
  },
  {
   "cell_type": "code",
   "execution_count": 25,
   "id": "0e1c3779-b837-475e-9d67-e26ce56ea9d7",
   "metadata": {},
   "outputs": [
    {
     "name": "stderr",
     "output_type": "stream",
     "text": [
      "201it [00:09, 22.31it/s]\n"
     ]
    }
   ],
   "source": [
    "with torch.no_grad():\n",
    "    for i, (k, b) in tqdm(enumerate(train_dl)):\n",
    "        videos = b[\"screen\"].to(\"cuda\", torch.bfloat16, non_blocking=True).permute(0,2,1,3,4)\n",
    "        out = opt_r(videos, k);\n",
    "        if i > 200:\n",
    "            break"
   ]
  },
  {
   "cell_type": "code",
   "execution_count": 106,
   "id": "1eb81e6a-b579-4ab9-96a3-e4e6fb2b15f1",
   "metadata": {},
   "outputs": [
    {
     "name": "stderr",
     "output_type": "stream",
     "text": [
      "201it [00:08, 22.55it/s]\n"
     ]
    }
   ],
   "source": [
    "with torch.no_grad():\n",
    "    for i, (k, b) in tqdm(enumerate(train_dl)):\n",
    "        videos = b[\"screen\"].to(\"cuda\", torch.bfloat16, non_blocking=True).permute(0,2,1,3,4)\n",
    "        out = opt_r(videos, k);\n",
    "        if i > 200:\n",
    "            break"
   ]
  },
  {
   "cell_type": "code",
   "execution_count": 30,
   "id": "d992fe01-9ca9-4097-a802-4bf60fbce37d",
   "metadata": {},
   "outputs": [
    {
     "name": "stderr",
     "output_type": "stream",
     "text": [
      "201it [00:03, 52.64it/s]\n"
     ]
    }
   ],
   "source": [
    "with torch.no_grad():\n",
    "    for i, (k, b) in tqdm(enumerate(train_dl)):\n",
    "        videos = b[\"screen\"].to(\"cuda\", torch.bfloat16, non_blocking=True).permute(0,2,1,3,4)\n",
    "        out = tiny_hiera(videos,);\n",
    "        if i > 200:\n",
    "            break"
   ]
  },
  {
   "cell_type": "code",
   "execution_count": null,
   "id": "0ff72357-9d7a-4e56-8a8d-eabb88263228",
   "metadata": {},
   "outputs": [],
   "source": []
  },
  {
   "cell_type": "code",
   "execution_count": null,
   "id": "7cdeb56b-d76c-48d5-983d-2245d1b467a8",
   "metadata": {},
   "outputs": [],
   "source": []
  },
  {
   "cell_type": "code",
   "execution_count": null,
   "id": "cafd4e86-6739-4bf5-ab83-053a18631079",
   "metadata": {},
   "outputs": [],
   "source": []
  },
  {
   "cell_type": "code",
   "execution_count": null,
   "id": "159a4d90-75d8-4ca1-a2f6-3fde8152e261",
   "metadata": {},
   "outputs": [],
   "source": [
    "opt.zero_grad()\n"
   ]
  },
  {
   "cell_type": "code",
   "execution_count": 193,
   "id": "b7f1a27b-1df3-4a74-a94a-43e2aaefdf3f",
   "metadata": {},
   "outputs": [],
   "source": [
    "videos = b[\"screen\"].to(\"cuda\", torch.bfloat16, non_blocking=True).permute(0,2,1,3,4)\n",
    "responses = b[\"responses\"].to(\"cuda\", torch.bfloat16, non_blocking=True)"
   ]
  },
  {
   "cell_type": "code",
   "execution_count": 194,
   "id": "0eb97efa-8654-4a37-b491-ee51ff2efa27",
   "metadata": {},
   "outputs": [],
   "source": [
    "from torch.amp import autocast"
   ]
  },
  {
   "cell_type": "code",
   "execution_count": 182,
   "id": "59a56fca-6b0e-4d0b-bb74-41f8b48a86e8",
   "metadata": {},
   "outputs": [],
   "source": [
    "opt_r.to(torch.bfloat16);"
   ]
  },
  {
   "cell_type": "code",
   "execution_count": 183,
   "id": "58ef0935-b86f-4a73-9dca-f29c60d60e39",
   "metadata": {
    "scrolled": true
   },
   "outputs": [],
   "source": [
    "with autocast(device_type='cuda', dtype=torch.float16):\n",
    "    out = opt_r(videos, k);\n"
   ]
  },
  {
   "cell_type": "code",
   "execution_count": 57,
   "id": "4a054172-3da7-4838-9409-11dd426025cc",
   "metadata": {},
   "outputs": [
    {
     "data": {
      "text/plain": [
       "torch.Size([8, 7495, 16])"
      ]
     },
     "execution_count": 57,
     "metadata": {},
     "output_type": "execute_result"
    }
   ],
   "source": [
    "out.shape"
   ]
  },
  {
   "cell_type": "code",
   "execution_count": 58,
   "id": "6090ec79-583a-4ca8-8ce6-264f46256c48",
   "metadata": {},
   "outputs": [],
   "source": [
    "loss = criteria(out.transpose(1,2), responses)"
   ]
  },
  {
   "cell_type": "code",
   "execution_count": 59,
   "id": "792b4898-72fe-49dd-baa8-84068ca448bf",
   "metadata": {},
   "outputs": [],
   "source": [
    "loss.backward()"
   ]
  },
  {
   "cell_type": "code",
   "execution_count": 61,
   "id": "264de30b-6ea6-465f-892d-0808e330ad30",
   "metadata": {},
   "outputs": [],
   "source": [
    "opt.step()"
   ]
  },
  {
   "cell_type": "code",
   "execution_count": 63,
   "id": "4e7cf70a-ac27-4fb9-b7d7-429ace2c3529",
   "metadata": {},
   "outputs": [],
   "source": [
    "opt.zero_grad()"
   ]
  },
  {
   "cell_type": "code",
   "execution_count": 65,
   "id": "daf67086-e6fb-4cb3-8770-328736ee7cdc",
   "metadata": {},
   "outputs": [
    {
     "data": {
      "text/plain": [
       "torch.Size([])"
      ]
     },
     "execution_count": 65,
     "metadata": {},
     "output_type": "execute_result"
    }
   ],
   "source": [
    "loss.shape"
   ]
  },
  {
   "cell_type": "code",
   "execution_count": 186,
   "id": "31b8d7dd-39e0-4463-b722-196da471198b",
   "metadata": {},
   "outputs": [
    {
     "data": {
      "text/plain": [
       "torch.Size([8, 1, 16, 144, 256])"
      ]
     },
     "execution_count": 186,
     "metadata": {},
     "output_type": "execute_result"
    }
   ],
   "source": [
    "videos.shape"
   ]
  },
  {
   "cell_type": "code",
   "execution_count": 196,
   "id": "bef727c6-06aa-4ad6-9a91-a00fab2655ae",
   "metadata": {},
   "outputs": [],
   "source": [
    "opt_r = opt_r.to(torch.bfloat16)"
   ]
  },
  {
   "cell_type": "code",
   "execution_count": 197,
   "id": "91a7ad8a-4f9b-4c57-b11f-ab8fd84971b5",
   "metadata": {},
   "outputs": [],
   "source": [
    "out = opt_r(videos, k);"
   ]
  },
  {
   "cell_type": "code",
   "execution_count": null,
   "id": "7b8914da-83f9-4dc3-9aa5-711aa94c36e6",
   "metadata": {},
   "outputs": [],
   "source": [
    "out = opt_r(videos, k);"
   ]
  },
  {
   "cell_type": "code",
   "execution_count": null,
   "id": "5ec9a5c4-c157-4f22-a330-7a56435d8eac",
   "metadata": {},
   "outputs": [],
   "source": []
  },
  {
   "cell_type": "code",
   "execution_count": null,
   "id": "d75f2d7a-bdc8-4c12-bcb7-15f48fdfbfdf",
   "metadata": {},
   "outputs": [],
   "source": []
  },
  {
   "cell_type": "code",
   "execution_count": null,
   "id": "d41be22c-7f65-4907-8d8e-5a36aba6360c",
   "metadata": {},
   "outputs": [
    {
     "name": "stderr",
     "output_type": "stream",
     "text": [
      " 58% 576/1000 [01:24<01:01,  6.84it/s]"
     ]
    }
   ],
   "source": [
    "losses = []\n",
    "for _ in tqdm(range(1000)):\n",
    "    #with autocast(device_type='cuda', dtype=torch.bfloat16):\n",
    "    videos = b[\"screen\"].to(\"cuda\", torch.bfloat16, non_blocking=True).permute(0,2,1,3,4)\n",
    "    responses = b[\"responses\"].to(\"cuda\", torch.bfloat16, non_blocking=True)\n",
    "    out = opt_r(videos, k);\n",
    "    loss = criteria(out.transpose(1,2), responses)\n",
    "    loss.backward()\n",
    "    opt.step()\n",
    "    opt.zero_grad()\n",
    "    losses.append(loss.item())"
   ]
  },
  {
   "cell_type": "code",
   "execution_count": 218,
   "id": "71a97bb8-839b-49c5-9c01-13127532b30b",
   "metadata": {},
   "outputs": [
    {
     "data": {
      "text/plain": [
       "[<matplotlib.lines.Line2D at 0x7fcd899a9900>]"
      ]
     },
     "execution_count": 218,
     "metadata": {},
     "output_type": "execute_result"
    },
    {
     "data": {
      "image/png": "[encoded data removed]",
      "text/plain": [
       "<Figure size 640x480 with 1 Axes>"
      ]
     },
     "metadata": {},
     "output_type": "display_data"
    }
   ],
   "source": [
    "plt.plot(losses)"
   ]
  },
  {
   "cell_type": "code",
   "execution_count": null,
   "id": "21a8edc7-a81f-4044-9ddf-c5b109a9b688",
   "metadata": {},
   "outputs": [],
   "source": []
  },
  {
   "cell_type": "code",
   "execution_count": 141,
   "id": "c78d388b-5176-47ad-b537-a92c06e4c8ba",
   "metadata": {},
   "outputs": [
    {
     "data": {
      "text/plain": [
       "torch.Size([8, 7495, 16])"
      ]
     },
     "execution_count": 141,
     "metadata": {},
     "output_type": "execute_result"
    }
   ],
   "source": [
    "out.shape"
   ]
  },
  {
   "cell_type": "code",
   "execution_count": 142,
   "id": "051479be-66d8-4088-a405-0b5c6b18b0e4",
   "metadata": {},
   "outputs": [
    {
     "data": {
      "text/plain": [
       "torch.Size([8, 16, 7495])"
      ]
     },
     "execution_count": 142,
     "metadata": {},
     "output_type": "execute_result"
    }
   ],
   "source": [
    "responses.shape"
   ]
  },
  {
   "cell_type": "code",
   "execution_count": 51,
   "id": "c8e1b9ea-df97-46c8-946c-8fcdde8409df",
   "metadata": {},
   "outputs": [],
   "source": [
    "neuron=66"
   ]
  },
  {
   "cell_type": "code",
   "execution_count": null,
   "id": "2475e66c-66f4-41e9-b687-8cb605efc6c8",
   "metadata": {},
   "outputs": [],
   "source": []
  },
  {
   "cell_type": "code",
   "execution_count": 52,
   "id": "d75c7d30-8a3b-4240-9071-f52b2c163e49",
   "metadata": {},
   "outputs": [],
   "source": []
  },
  {
   "cell_type": "code",
   "execution_count": 59,
   "id": "650e21fa-b1a1-4a01-9e50-7f93b1ac5629",
   "metadata": {},
   "outputs": [
    {
     "data": {
      "text/plain": [
       "0.12096827660364878"
      ]
     },
     "execution_count": 59,
     "metadata": {},
     "output_type": "execute_result"
    }
   ],
   "source": []
  },
  {
   "cell_type": "code",
   "execution_count": 38,
   "id": "69cad70d-a399-4f2e-aaca-b890f0648836",
   "metadata": {},
   "outputs": [
    {
     "data": {
      "text/plain": [
       "torch.Size([8, 7495, 16])"
      ]
     },
     "execution_count": 38,
     "metadata": {},
     "output_type": "execute_result"
    }
   ],
   "source": [
    "out.shape"
   ]
  },
  {
   "cell_type": "code",
   "execution_count": null,
   "id": "504ee422-8240-4925-8b7d-1144e4ff4fc4",
   "metadata": {},
   "outputs": [],
   "source": [
    "for batch_no, (data_key, data) in tqdm(enumerate(LongCycler(dataloaders[\"train\"])), total=n_iterations,\n",
    "                                       desc=\"Epoch {}\".format(epoch)):\n",
    "\n",
    "    loss = full_objective(model, dataloaders[\"train\"], data_key, *data)\n",
    "    # loss = torch.sum(loss)\n",
    "    loss.backward()"
   ]
  },
  {
   "cell_type": "code",
   "execution_count": null,
   "id": "08ff1834-6ada-4ebc-936a-a314d222b79e",
   "metadata": {},
   "outputs": [],
   "source": []
  },
  {
   "cell_type": "code",
   "execution_count": 33,
   "id": "4739486e-f0ad-4501-9927-85ea0a3b78ca",
   "metadata": {},
   "outputs": [
    {
     "data": {
      "text/plain": [
       "torch.Size([8, 7671, 16])"
      ]
     },
     "execution_count": 33,
     "metadata": {},
     "output_type": "execute_result"
    }
   ],
   "source": [
    "full_out.shape"
   ]
  },
  {
   "cell_type": "code",
   "execution_count": null,
   "id": "a15b2b13-87d6-47be-9938-a454e2896eae",
   "metadata": {},
   "outputs": [],
   "source": []
  },
  {
   "cell_type": "code",
   "execution_count": null,
   "id": "01e1b607-1a4c-4223-9e9b-2d8a8427f462",
   "metadata": {},
   "outputs": [],
   "source": []
  },
  {
   "cell_type": "code",
   "execution_count": null,
   "id": "a2fd30e9-388b-4fd0-be31-98b68c6f93a1",
   "metadata": {},
   "outputs": [],
   "source": []
  },
  {
   "cell_type": "code",
   "execution_count": null,
   "id": "573f0fc1-a125-409b-8d97-0420c3da97a6",
   "metadata": {},
   "outputs": [],
   "source": []
  },
  {
   "cell_type": "code",
   "execution_count": null,
   "id": "e30b011c-8572-42d2-9ecd-4c71bf25087a",
   "metadata": {},
   "outputs": [],
   "source": [
    "r.readout[\"29513-3-5\"].bias.shape"
   ]
  },
  {
   "cell_type": "code",
   "execution_count": null,
   "id": "1954b39b-f65a-4954-b415-43f21857cf84",
   "metadata": {},
   "outputs": [],
   "source": []
  },
  {
   "cell_type": "code",
   "execution_count": null,
   "id": "87468ce7-5242-4ab2-a310-e2f26b43e36c",
   "metadata": {},
   "outputs": [],
   "source": []
  },
  {
   "cell_type": "code",
   "execution_count": null,
   "id": "c0a34bec-74f0-4349-b191-40b7e665d458",
   "metadata": {},
   "outputs": [],
   "source": []
  },
  {
   "cell_type": "code",
   "execution_count": 97,
   "id": "32b5e139-d56c-4366-83be-a7a065a7f864",
   "metadata": {},
   "outputs": [],
   "source": [
    "full_out = rearrange(full_out, 'b (n t) c -> b t n c', n=7671, t=16)"
   ]
  },
  {
   "cell_type": "code",
   "execution_count": 49,
   "id": "cd79f992-43ee-4268-92a3-cd727c7ba70d",
   "metadata": {
    "scrolled": true
   },
   "outputs": [
    {
     "data": {
      "text/plain": [
       "torch.Size([8, 16, 7671, 384])"
      ]
     },
     "execution_count": 49,
     "metadata": {},
     "output_type": "execute_result"
    }
   ],
   "source": [
    "full_out.shape"
   ]
  },
  {
   "cell_type": "code",
   "execution_count": 50,
   "id": "730901f6-c80e-41be-9a95-ce95328d22e5",
   "metadata": {},
   "outputs": [],
   "source": [
    "w = r.readout[\"29513-3-5\"].weight"
   ]
  },
  {
   "cell_type": "code",
   "execution_count": 51,
   "id": "41b43b9b-f9a5-4809-b34b-85eba1245051",
   "metadata": {
    "scrolled": true
   },
   "outputs": [
    {
     "data": {
      "text/plain": [
       "torch.Size([7671, 256, 1])"
      ]
     },
     "execution_count": 51,
     "metadata": {},
     "output_type": "execute_result"
    }
   ],
   "source": [
    "w.shape"
   ]
  },
  {
   "cell_type": "code",
   "execution_count": 54,
   "id": "9f614dad-0f86-4b4f-b5cc-89fefd033dbc",
   "metadata": {},
   "outputs": [
    {
     "data": {
      "text/plain": [
       "torch.Size([8, 7671, 16])"
      ]
     },
     "execution_count": 54,
     "metadata": {},
     "output_type": "execute_result"
    }
   ],
   "source": [
    "torch.einsum(\"btni, njr->bnt\", full_out, w, )"
   ]
  },
  {
   "cell_type": "code",
   "execution_count": null,
   "id": "767b7cc2-45a0-48bd-8d27-811df5878b81",
   "metadata": {},
   "outputs": [],
   "source": []
  },
  {
   "cell_type": "code",
   "execution_count": 93,
   "id": "28439883-dfc8-438e-b164-abb78eff32e1",
   "metadata": {},
   "outputs": [
    {
     "data": {
      "text/plain": [
       "torch.Size([8, 7671, 256])"
      ]
     },
     "execution_count": 93,
     "metadata": {},
     "output_type": "execute_result"
    }
   ],
   "source": [
    "full_out.shape"
   ]
  },
  {
   "cell_type": "code",
   "execution_count": 75,
   "id": "2724a50b-6553-47d1-a132-bba6d964d817",
   "metadata": {},
   "outputs": [
    {
     "data": {
      "text/plain": [
       "tensor(960416, device='cuda:0')"
      ]
     },
     "execution_count": 75,
     "metadata": {},
     "output_type": "execute_result"
    }
   ],
   "source": [
    "torch.isnan(full_out).sum()"
   ]
  },
  {
   "cell_type": "code",
   "execution_count": null,
   "id": "fe7cd778-7919-46f1-8388-341fa4aa3d26",
   "metadata": {},
   "outputs": [],
   "source": []
  },
  {
   "cell_type": "code",
   "execution_count": null,
   "id": "ffd8f415-295c-4512-9d4c-b537c3a6378c",
   "metadata": {},
   "outputs": [],
   "source": []
  },
  {
   "cell_type": "code",
   "execution_count": 37,
   "id": "6d3ebaa9-f588-4324-9487-33a77dbf040f",
   "metadata": {},
   "outputs": [
    {
     "name": "stderr",
     "output_type": "stream",
     "text": [
      "100% 100/100 [00:00<00:00, 110.38it/s]\n"
     ]
    }
   ],
   "source": [
    "with torch.no_grad():\n",
    "    for i in tqdm(range(100)):\n",
    "        r(videos, \"29513-3-5\");"
   ]
  },
  {
   "cell_type": "code",
   "execution_count": 39,
   "id": "4e05df6e-defc-4198-8ea4-a5a793b50dfb",
   "metadata": {},
   "outputs": [
    {
     "name": "stderr",
     "output_type": "stream",
     "text": [
      "100% 100/100 [00:00<00:00, 110.43it/s]\n"
     ]
    }
   ],
   "source": [
    "with torch.no_grad():\n",
    "    for i in tqdm(range(100)):\n",
    "        r(videos, \"29513-3-5\");"
   ]
  },
  {
   "cell_type": "code",
   "execution_count": 43,
   "id": "3eb8ec7f-6f52-44db-867e-91c0304f4805",
   "metadata": {},
   "outputs": [
    {
     "name": "stderr",
     "output_type": "stream",
     "text": [
      "100% 100/100 [00:00<00:00, 103.98it/s]\n"
     ]
    }
   ],
   "source": [
    "for i in tqdm(range(100)):\n",
    "    r(videos, \"29513-3-5\");"
   ]
  },
  {
   "cell_type": "code",
   "execution_count": null,
   "id": "0d42e5eb-ebc6-4fb2-b630-22f5980a774b",
   "metadata": {},
   "outputs": [],
   "source": []
  },
  {
   "cell_type": "code",
   "execution_count": null,
   "id": "88598f07-6e6b-47c1-b0d3-f93ddea04c28",
   "metadata": {},
   "outputs": [],
   "source": []
  },
  {
   "cell_type": "code",
   "execution_count": 29,
   "id": "11410205-9a03-4048-99cb-9d58173ab628",
   "metadata": {},
   "outputs": [
    {
     "name": "stdout",
     "output_type": "stream",
     "text": [
      "29513-3-5.query torch.Size([1, 8, 7671, 32]) 1963776\n",
      "29513-3-5.weight torch.Size([7671, 256, 1]) 1963776\n",
      "29513-3-5.bias torch.Size([1, 7671, 1]) 7671\n",
      "29514-2-9.query torch.Size([1, 8, 7495, 32]) 1918720\n",
      "29514-2-9.weight torch.Size([7495, 256, 1]) 1918720\n",
      "29514-2-9.bias torch.Size([1, 7495, 1]) 7495\n",
      "29755-2-8.query torch.Size([1, 8, 8122, 32]) 2079232\n",
      "29755-2-8.weight torch.Size([8122, 256, 1]) 2079232\n",
      "29755-2-8.bias torch.Size([1, 8122, 1]) 8122\n",
      "29647-19-8.query torch.Size([1, 8, 8202, 32]) 2099712\n",
      "29647-19-8.weight torch.Size([8202, 256, 1]) 2099712\n",
      "29647-19-8.bias torch.Size([1, 8202, 1]) 8202\n",
      "29156-11-10.query torch.Size([1, 8, 7440, 32]) 1904640\n",
      "29156-11-10.weight torch.Size([7440, 256, 1]) 1904640\n",
      "29156-11-10.bias torch.Size([1, 7440, 1]) 7440\n",
      "29623-4-9.query torch.Size([1, 8, 7908, 32]) 2024448\n",
      "29623-4-9.weight torch.Size([7908, 256, 1]) 2024448\n",
      "29623-4-9.bias torch.Size([1, 7908, 1]) 7908\n",
      "29515-10-12.query torch.Size([1, 8, 7863, 32]) 2012928\n",
      "29515-10-12.weight torch.Size([7863, 256, 1]) 2012928\n",
      "29515-10-12.bias torch.Size([1, 7863, 1]) 7863\n",
      "29234-6-9.query torch.Size([1, 8, 8285, 32]) 2120960\n",
      "29234-6-9.weight torch.Size([8285, 256, 1]) 2120960\n",
      "29234-6-9.bias torch.Size([1, 8285, 1]) 8285\n",
      "29712-5-9.query torch.Size([1, 8, 7939, 32]) 2032384\n",
      "29712-5-9.weight torch.Size([7939, 256, 1]) 2032384\n",
      "29712-5-9.bias torch.Size([1, 7939, 1]) 7939\n",
      "29228-2-10.query torch.Size([1, 8, 7928, 32]) 2029568\n",
      "29228-2-10.weight torch.Size([7928, 256, 1]) 2029568\n",
      "29228-2-10.bias torch.Size([1, 7928, 1]) 7928\n",
      "40451589\n"
     ]
    }
   ],
   "source": [
    "import torch\n",
    "n_params=0\n",
    "for n, p in r.readout.named_parameters():\n",
    "    print(n, p.shape, torch.numel(p))\n",
    "    n_params += torch.numel(p)\n",
    "print(n_params)"
   ]
  },
  {
   "cell_type": "code",
   "execution_count": null,
   "id": "69805ee3-9932-46a7-8a6e-71e09ecfb971",
   "metadata": {},
   "outputs": [],
   "source": []
  },
  {
   "cell_type": "code",
   "execution_count": 23,
   "id": "97b3716a-dcb4-4f59-9fb2-ce060acb9d94",
   "metadata": {},
   "outputs": [
    {
     "data": {
      "text/plain": [
       "torch.Size([8, 7671, 256])"
      ]
     },
     "execution_count": 23,
     "metadata": {},
     "output_type": "execute_result"
    }
   ],
   "source": [
    "full_out.shape"
   ]
  },
  {
   "cell_type": "code",
   "execution_count": 38,
   "id": "d67e8158-fd8f-4812-a3ae-4f1076150ddb",
   "metadata": {},
   "outputs": [
    {
     "data": {
      "text/plain": [
       "1917.75"
      ]
     },
     "execution_count": 38,
     "metadata": {},
     "output_type": "execute_result"
    }
   ],
   "source": [
    "30684/16"
   ]
  },
  {
   "cell_type": "code",
   "execution_count": null,
   "id": "0c464c95-6965-4bef-92c0-fdf084266bcf",
   "metadata": {},
   "outputs": [],
   "source": [
    "30684"
   ]
  },
  {
   "cell_type": "code",
   "execution_count": 35,
   "id": "e3c75278-22ff-4795-9ce9-9de3a76cabd0",
   "metadata": {},
   "outputs": [
    {
     "name": "stdout",
     "output_type": "stream",
     "text": [
      "torch.Size([8, 4, 18, 16, 384])\n",
      "torch.Size([8, 1152, 256])\n",
      "torch.Size([8, 1152, 256])\n",
      "torch.Size([32, 8, 7671, 32])\n",
      "torch.Size([8, 8, 1152, 32])\n",
      "torch.Size([8, 8, 1152, 32])\n"
     ]
    }
   ],
   "source": [
    "with sdpa_kernel(SDPBackend.FLASH_ATTENTION):\n",
    "    with torch.no_grad():\n",
    "        for i in tqdm(range(100)):\n",
    "            r(videos, \"29513-3-5\")"
   ]
  },
  {
   "cell_type": "code",
   "execution_count": 42,
   "id": "757dc737-3a8c-4f11-923e-52b37d38e000",
   "metadata": {},
   "outputs": [
    {
     "name": "stderr",
     "output_type": "stream",
     "text": [
      "100% 100/100 [00:00<00:00, 110.38it/s]\n"
     ]
    }
   ],
   "source": [
    "with sdpa_kernel(SDPBackend.FLASH_ATTENTION):\n",
    "    with torch.no_grad():\n",
    "        for i in tqdm(range(100)):\n",
    "            r(videos, \"29513-3-5\")"
   ]
  },
  {
   "cell_type": "code",
   "execution_count": null,
   "id": "d2333e7d-a367-48fd-9c46-4e94e9ce3136",
   "metadata": {},
   "outputs": [],
   "source": []
  },
  {
   "cell_type": "code",
   "execution_count": null,
   "id": "1c13d327-b63d-4534-a41a-58a5b6fd15d4",
   "metadata": {},
   "outputs": [],
   "source": []
  },
  {
   "cell_type": "code",
   "execution_count": 20,
   "id": "1a1575ae-ac41-491f-aeb5-3089581ed116",
   "metadata": {},
   "outputs": [
    {
     "name": "stderr",
     "output_type": "stream",
     "text": [
      "100% 1000/1000 [00:21<00:00, 46.31it/s]\n"
     ]
    }
   ],
   "source": [
    "example_in = torch.ones(32,1,16,144, 144).to(\"cuda\", torch.bfloat16)\n",
    "with torch.no_grad():\n",
    "    for i in tqdm(range(1000)):\n",
    "        tiny_hiera(example_in);"
   ]
  },
  {
   "cell_type": "code",
   "execution_count": null,
   "id": "d9782b0e-9fc1-4e47-be2d-e6d9b80107cd",
   "metadata": {},
   "outputs": [],
   "source": []
  },
  {
   "cell_type": "code",
   "execution_count": 11,
   "id": "904d3a60-7f69-4759-84e9-f04f591e9f51",
   "metadata": {},
   "outputs": [
    {
     "data": {
      "text/plain": [
       "12288"
      ]
     },
     "execution_count": 11,
     "metadata": {},
     "output_type": "execute_result"
    }
   ],
   "source": [
    "24*32*16"
   ]
  },
  {
   "cell_type": "code",
   "execution_count": null,
   "id": "b9cc68e4-a2b8-4190-8fe9-2fc15601766a",
   "metadata": {},
   "outputs": [],
   "source": []
  },
  {
   "cell_type": "code",
   "execution_count": null,
   "id": "e5fdf496-5164-4387-9cb8-1b8706f0eaa0",
   "metadata": {},
   "outputs": [],
   "source": []
  },
  {
   "cell_type": "code",
   "execution_count": null,
   "id": "613e8cd4-343c-4220-9365-0b41f21d154b",
   "metadata": {},
   "outputs": [],
   "source": []
  },
  {
   "cell_type": "code",
   "execution_count": 22,
   "id": "7791f421-0ddf-4872-8228-365f09cdcc23",
   "metadata": {
    "editable": true,
    "slideshow": {
     "slide_type": ""
    },
    "tags": []
   },
   "outputs": [
    {
     "name": "stderr",
     "output_type": "stream",
     "text": [
      "301it [00:17, 17.03it/s]\n"
     ]
    }
   ],
   "source": [
    "with torch.no_grad():\n",
    "    for i, (k, b) in tqdm(enumerate(dl)):\n",
    "        video_tensor = b[\"screen\"].to(\"cuda\", torch.bfloat16, non_blocking=True).permute(0,2,1,3,4)\n",
    "        _ = b[\"responses\"].to(\"cuda\", torch.bfloat16, non_blocking=True)\n",
    "        _ = b[\"eye_tracker\"].to(\"cuda\", torch.bfloat16, non_blocking=True)\n",
    "        _ = b[\"treadmill\"].to(\"cuda\", torch.bfloat16, non_blocking=True)\n",
    "        #tiny_hiera(video_tensor);\n",
    "        if i >300:\n",
    "            break"
   ]
  },
  {
   "cell_type": "code",
   "execution_count": 24,
   "id": "c0873f3a-b561-4885-bf37-5c07462e0e4c",
   "metadata": {},
   "outputs": [
    {
     "name": "stderr",
     "output_type": "stream",
     "text": [
      "301it [00:22, 13.28it/s]\n"
     ]
    }
   ],
   "source": [
    "with torch.no_grad():\n",
    "    for i, (k, b) in tqdm(enumerate(dl)):\n",
    "        video_tensor = b[\"screen\"].to(\"cuda\", torch.bfloat16, non_blocking=True).permute(0,2,1,3,4)\n",
    "        _ = b[\"responses\"].to(\"cuda\", torch.bfloat16, non_blocking=True)\n",
    "        _ = b[\"eye_tracker\"].to(\"cuda\", torch.bfloat16, non_blocking=True)\n",
    "        _ = b[\"treadmill\"].to(\"cuda\", torch.bfloat16, non_blocking=True)\n",
    "        tiny_hiera(video_tensor);\n",
    "        if i >300:\n",
    "            break"
   ]
  },
  {
   "cell_type": "code",
   "execution_count": 25,
   "id": "c70a44e0-0bb0-4f5a-84f4-dd7eab9dc657",
   "metadata": {
    "editable": true,
    "slideshow": {
     "slide_type": ""
    },
    "tags": []
   },
   "outputs": [
    {
     "name": "stdout",
     "output_type": "stream",
     "text": [
      "4891336\n"
     ]
    }
   ],
   "source": [
    "import torch\n",
    "n_params=0\n",
    "for n, p in tiny_hiera.named_parameters():\n",
    "    #print(n, p.shape, torch.numel(p))\n",
    "    n_params += torch.numel(p)\n",
    "print(n_params)"
   ]
  },
  {
   "cell_type": "code",
   "execution_count": null,
   "id": "bb454824-3492-4ded-8eb6-77c74ca42cc0",
   "metadata": {},
   "outputs": [],
   "source": []
  },
  {
   "cell_type": "code",
   "execution_count": null,
   "id": "2e0ee11e-e469-410c-b358-4ebdc1086100",
   "metadata": {},
   "outputs": [],
   "source": []
  },
  {
   "cell_type": "code",
   "execution_count": null,
   "id": "c37cdb19-af10-42ac-9af0-80fc6862fd09",
   "metadata": {},
   "outputs": [],
   "source": []
  },
  {
   "cell_type": "code",
   "execution_count": null,
   "id": "840860ce-5afc-4379-b1be-c853424a413d",
   "metadata": {},
   "outputs": [],
   "source": []
  },
  {
   "cell_type": "code",
   "execution_count": 2,
   "id": "4949dfc8-d00e-4f89-8729-2f245239a6c1",
   "metadata": {
    "editable": true,
    "slideshow": {
     "slide_type": ""
    },
    "tags": []
   },
   "outputs": [
    {
     "name": "stderr",
     "output_type": "stream",
     "text": [
      "/usr/local/lib/python3.10/dist-packages/tqdm/auto.py:21: TqdmWarning: IProgress not found. Please update jupyter and ipywidgets. See https://ipywidgets.readthedocs.io/en/stable/user_install.html\n",
      "  from .autonotebook import tqdm as notebook_tqdm\n"
     ]
    }
   ],
   "source": [
    "import hiera"
   ]
  },
  {
   "cell_type": "markdown",
   "id": "0feedd47-466e-4c5a-bd4f-8a1ad2e2e202",
   "metadata": {},
   "source": []
  },
  {
   "cell_type": "code",
   "execution_count": null,
   "id": "9210e397-652a-4770-8e19-e0c3b0ee5f41",
   "metadata": {},
   "outputs": [],
   "source": [
    "from hiera import Hiera\n"
   ]
  },
  {
   "cell_type": "code",
   "execution_count": 3,
   "id": "3a37c6c0-9ec4-40f1-8527-381f0b71b9f1",
   "metadata": {
    "editable": true,
    "slideshow": {
     "slide_type": ""
    },
    "tags": []
   },
   "outputs": [
    {
     "data": {
      "text/plain": [
       "<module 'hiera' from '/usr/local/lib/python3.10/dist-packages/hiera/__init__.py'>"
      ]
     },
     "execution_count": 3,
     "metadata": {},
     "output_type": "execute_result"
    }
   ],
   "source": [
    "hiera"
   ]
  },
  {
   "cell_type": "code",
   "execution_count": null,
   "id": "d382e17f-546f-47f9-93a9-3214fd67bcaf",
   "metadata": {},
   "outputs": [],
   "source": []
  },
  {
   "cell_type": "code",
   "execution_count": 1,
   "id": "e26bed1f-9c54-4de1-a65e-5a615bf61972",
   "metadata": {},
   "outputs": [
    {
     "name": "stderr",
     "output_type": "stream",
     "text": [
      "/usr/local/lib/python3.10/dist-packages/tqdm/auto.py:21: TqdmWarning: IProgress not found. Please update jupyter and ipywidgets. See https://ipywidgets.readthedocs.io/en/stable/user_install.html\n",
      "  from .autonotebook import tqdm as notebook_tqdm\n"
     ]
    }
   ],
   "source": [
    "from hiera import Hiera\n",
    "model = Hiera.from_pretrained(\"facebook/hiera_base_224.mae_in1k_ft_in1k\")  # mae pt then in1k ft'd model\n",
    "model = Hiera.from_pretrained(\"facebook/hiera_base_224.mae_in1k\") # just mae pt, no ft"
   ]
  },
  {
   "cell_type": "code",
   "execution_count": 2,
   "id": "37209baa-3aff-4eb1-92a6-e117abb34fcb",
   "metadata": {},
   "outputs": [],
   "source": [
    "model = Hiera.from_pretrained(\"facebook/hiera_tiny_224.mae_in1k\") # just mae pt, no ft"
   ]
  },
  {
   "cell_type": "code",
   "execution_count": 3,
   "id": "010fb0e4-d425-4a13-8456-a88622880b57",
   "metadata": {
    "editable": true,
    "slideshow": {
     "slide_type": ""
    },
    "tags": []
   },
   "outputs": [],
   "source": [
    "\n",
    "import torch\n",
    "from hiera import Hiera\n",
    "my_tiny_hiera = Hiera(embed_dim=96, num_heads=1, stages=(1, 2, 7, 2))"
   ]
  },
  {
   "cell_type": "code",
   "execution_count": 4,
   "id": "7f451901-3d01-4a01-b134-46654a1cfa80",
   "metadata": {
    "editable": true,
    "slideshow": {
     "slide_type": ""
    },
    "tags": []
   },
   "outputs": [],
   "source": [
    "my_cut_hiera = Hiera(input_size=(16,144, 144),\n",
    "                     num_heads=1, \n",
    "                     stages=(1, 2, 2), \n",
    "                     q_pool=1, \n",
    "                     in_chans=1,\n",
    "                     q_stride=(1, 2, 2),\n",
    "                     mask_unit_size=(1, 8, 8),\n",
    "                     patch_kernel=(3, 7, 7),\n",
    "                     patch_stride=(2, 4, 4),\n",
    "                     patch_padding=(1, 3, 3),\n",
    "                     sep_pos_embed=True,)"
   ]
  },
  {
   "cell_type": "code",
   "execution_count": 5,
   "id": "6f9b6a5b-6648-42bc-b093-ad7c2528064e",
   "metadata": {
    "editable": true,
    "slideshow": {
     "slide_type": ""
    },
    "tags": []
   },
   "outputs": [],
   "source": [
    "my_cut_hiera.eval().cuda().to(torch.bfloat16);"
   ]
  },
  {
   "cell_type": "code",
   "execution_count": 6,
   "id": "6abb1ddd-e36c-452b-aa88-bb15938a39dc",
   "metadata": {},
   "outputs": [],
   "source": [
    "from tqdm import tqdm"
   ]
  },
  {
   "cell_type": "code",
   "execution_count": 11,
   "id": "0d0a93ad-c07a-49b0-8498-5d57c25d16a2",
   "metadata": {
    "editable": true,
    "scrolled": true,
    "slideshow": {
     "slide_type": ""
    },
    "tags": []
   },
   "outputs": [
    {
     "name": "stderr",
     "output_type": "stream",
     "text": [
      " 19% 193/1000 [00:15<01:06, 12.07it/s]\n",
      "Exception ignored in: <bound method IPythonKernel._clean_thread_parent_frames of <ipykernel.ipkernel.IPythonKernel object at 0x7f167ca8b370>>\n",
      "Traceback (most recent call last):\n",
      "  File \"/usr/local/lib/python3.10/dist-packages/ipykernel/ipkernel.py\", line 775, in _clean_thread_parent_frames\n",
      "    def _clean_thread_parent_frames(\n",
      "KeyboardInterrupt: \n",
      "\n",
      "KeyboardInterrupt\n",
      "\n"
     ]
    }
   ],
   "source": [
    "example_in = torch.ones(32,1,16,144, 144).to(\"cuda\", torch.bfloat16)\n",
    "with torch.no_grad():\n",
    "    for i in tqdm(range(1000)):\n",
    "        my_cut_hiera(example_in);"
   ]
  },
  {
   "cell_type": "code",
   "execution_count": null,
   "id": "95f3a6b2-6212-43f0-89dc-909780e70fc5",
   "metadata": {
    "editable": true,
    "slideshow": {
     "slide_type": ""
    },
    "tags": []
   },
   "outputs": [],
   "source": []
  },
  {
   "cell_type": "code",
   "execution_count": null,
   "id": "195ab672-a59f-4c8d-9b26-e084e8d2b697",
   "metadata": {},
   "outputs": [],
   "source": []
  },
  {
   "cell_type": "code",
   "execution_count": 125,
   "id": "b86d3440-8eff-4a51-88f0-25d3be8494ad",
   "metadata": {},
   "outputs": [],
   "source": [
    "out = my_cut_hiera(torch.ones(1,1,16,144,144).cuda(), return_intermediates=True)"
   ]
  },
  {
   "cell_type": "code",
   "execution_count": null,
   "id": "8090e6a5-e668-447a-8f16-5fd29662626c",
   "metadata": {},
   "outputs": [],
   "source": []
  },
  {
   "cell_type": "code",
   "execution_count": 122,
   "id": "e4d2677e-484c-48ab-bfb4-2c0f2dfcabd5",
   "metadata": {},
   "outputs": [
    {
     "data": {
      "text/plain": [
       "torch.Size([1, 8, 18, 18, 192])"
      ]
     },
     "execution_count": 122,
     "metadata": {},
     "output_type": "execute_result"
    }
   ],
   "source": [
    "(out[1])[1].shape"
   ]
  },
  {
   "cell_type": "code",
   "execution_count": 81,
   "id": "11413059-5f2e-40b7-8809-a9a5481208dc",
   "metadata": {},
   "outputs": [
    {
     "data": {
      "text/plain": [
       "144"
      ]
     },
     "execution_count": 81,
     "metadata": {},
     "output_type": "execute_result"
    }
   ],
   "source": [
    "36*4"
   ]
  },
  {
   "cell_type": "code",
   "execution_count": 69,
   "id": "a48d8104-8117-4e10-8aa4-bcb717c655dd",
   "metadata": {},
   "outputs": [
    {
     "data": {
      "text/plain": [
       "torch.Size([1000, 384])"
      ]
     },
     "execution_count": 69,
     "metadata": {},
     "output_type": "execute_result"
    }
   ],
   "source": [
    "my_cut_hiera.head.projection.weight.shape"
   ]
  },
  {
   "cell_type": "code",
   "execution_count": 75,
   "id": "e963e852-3142-4b5f-88ce-54294d8b5720",
   "metadata": {},
   "outputs": [],
   "source": [
    "import numpy as np"
   ]
  },
  {
   "cell_type": "code",
   "execution_count": 76,
   "id": "e2295ed8-d9c8-4e32-a25d-602719f32b85",
   "metadata": {},
   "outputs": [
    {
     "data": {
      "text/plain": [
       "np.float64(19.595917942265423)"
      ]
     },
     "execution_count": 76,
     "metadata": {},
     "output_type": "execute_result"
    }
   ],
   "source": [
    "np.sqrt(384)"
   ]
  },
  {
   "cell_type": "code",
   "execution_count": null,
   "id": "bef858d6-774b-483e-8fa2-f8342e5d53f2",
   "metadata": {},
   "outputs": [],
   "source": []
  },
  {
   "cell_type": "code",
   "execution_count": 40,
   "id": "206e2f6b-50e0-46d0-8e62-230237a1a43a",
   "metadata": {},
   "outputs": [
    {
     "name": "stdout",
     "output_type": "stream",
     "text": [
      "> \u001b[0;32m/usr/local/lib/python3.10/dist-packages/hiera/hiera.py\u001b[0m(413)\u001b[0;36mforward\u001b[0;34m()\u001b[0m\n",
      "\u001b[0;32m    411 \u001b[0;31m            \u001b[0;32melse\u001b[0m \u001b[0;32mNone\u001b[0m\u001b[0;34m,\u001b[0m\u001b[0;34m\u001b[0m\u001b[0;34m\u001b[0m\u001b[0m\n",
      "\u001b[0m\u001b[0;32m    412 \u001b[0;31m        )\n",
      "\u001b[0m\u001b[0;32m--> 413 \u001b[0;31m        \u001b[0mx\u001b[0m \u001b[0;34m=\u001b[0m \u001b[0mx\u001b[0m \u001b[0;34m+\u001b[0m \u001b[0mself\u001b[0m\u001b[0;34m.\u001b[0m\u001b[0mget_pos_embed\u001b[0m\u001b[0;34m(\u001b[0m\u001b[0;34m)\u001b[0m\u001b[0;34m\u001b[0m\u001b[0;34m\u001b[0m\u001b[0m\n",
      "\u001b[0m\u001b[0;32m    414 \u001b[0;31m        \u001b[0mx\u001b[0m \u001b[0;34m=\u001b[0m \u001b[0mself\u001b[0m\u001b[0;34m.\u001b[0m\u001b[0munroll\u001b[0m\u001b[0;34m(\u001b[0m\u001b[0mx\u001b[0m\u001b[0;34m)\u001b[0m\u001b[0;34m\u001b[0m\u001b[0;34m\u001b[0m\u001b[0m\n",
      "\u001b[0m\u001b[0;32m    415 \u001b[0;31m\u001b[0;34m\u001b[0m\u001b[0m\n",
      "\u001b[0m\n"
     ]
    },
    {
     "name": "stdin",
     "output_type": "stream",
     "text": [
      "ipdb>  x.shape\n"
     ]
    },
    {
     "name": "stdout",
     "output_type": "stream",
     "text": [
      "torch.Size([1, 3888, 96])\n"
     ]
    },
    {
     "name": "stdin",
     "output_type": "stream",
     "text": [
      "ipdb>  self.get_pos_embed().shape\n"
     ]
    },
    {
     "name": "stdout",
     "output_type": "stream",
     "text": [
      "torch.Size([1, 10368, 96])\n"
     ]
    },
    {
     "name": "stdin",
     "output_type": "stream",
     "text": [
      "ipdb>  q\n"
     ]
    }
   ],
   "source": [
    "%debug"
   ]
  },
  {
   "cell_type": "code",
   "execution_count": null,
   "id": "64d7c076-adb5-462a-9b76-4100f3ff8fc9",
   "metadata": {},
   "outputs": [],
   "source": []
  },
  {
   "cell_type": "code",
   "execution_count": 83,
   "id": "0f13cdd8-29d4-4d05-a85b-66a86c1694e8",
   "metadata": {},
   "outputs": [
    {
     "data": {
      "image/png": "[encoded data removed]",
      "text/plain": [
       "<Figure size 1000x1000 with 64 Axes>"
      ]
     },
     "metadata": {},
     "output_type": "display_data"
    }
   ],
   "source": [
    "fig, axs = plt.subplots(8,8, figsize=(10,10))\n",
    "for i, ax in enumerate(axs.ravel()):\n",
    "    ax.imshow(my_cut_hiera.patch_embed.proj.weight.data[i,0].cpu().numpy())"
   ]
  },
  {
   "cell_type": "code",
   "execution_count": 2,
   "id": "756c62cc-6e32-467b-9506-cdbf2796f345",
   "metadata": {},
   "outputs": [],
   "source": [
    "import torch"
   ]
  },
  {
   "cell_type": "code",
   "execution_count": 7,
   "id": "8acce321-4647-4ec7-9cab-d423f476909e",
   "metadata": {},
   "outputs": [
    {
     "name": "stderr",
     "output_type": "stream",
     "text": [
      "/tmp/ipykernel_248295/1124240724.py:1: FutureWarning: You are using `torch.load` with `weights_only=False` (the current default value), which uses the default pickle module implicitly. It is possible to construct malicious pickle data which will execute arbitrary code during unpickling (See https://github.com/pytorch/pytorch/blob/main/SECURITY.md#untrusted-models for more details). In a future release, the default value for `weights_only` will be flipped to `True`. This limits the functions that could be executed during unpickling. Arbitrary objects will no longer be allowed to be loaded via this mode unless they are explicitly allowlisted by the user via `torch.serialization.add_safe_globals`. We recommend you start setting `weights_only=True` for any use case where you don't have full control of the loaded file. Please open an issue on GitHub for any issues related to this experimental feature.\n",
      "  some_weights = torch.load(\"mae_hiera_tiny_224.pth\")\n"
     ]
    },
    {
     "ename": "RuntimeError",
     "evalue": "Error(s) in loading state_dict for Hiera:\n\tsize mismatch for pos_embed: copying a param with shape torch.Size([1, 3136, 96]) from checkpoint, the shape in current model is torch.Size([1, 2304, 96]).",
     "output_type": "error",
     "traceback": [
      "\u001b[0;31m---------------------------------------------------------------------------\u001b[0m",
      "\u001b[0;31mRuntimeError\u001b[0m                              Traceback (most recent call last)",
      "Cell \u001b[0;32mIn[7], line 2\u001b[0m\n\u001b[1;32m      1\u001b[0m some_weights \u001b[38;5;241m=\u001b[39m torch\u001b[38;5;241m.\u001b[39mload(\u001b[38;5;124m\"\u001b[39m\u001b[38;5;124mmae_hiera_tiny_224.pth\u001b[39m\u001b[38;5;124m\"\u001b[39m)\n\u001b[0;32m----> 2\u001b[0m \u001b[43mmy_cut_hiera\u001b[49m\u001b[38;5;241;43m.\u001b[39;49m\u001b[43mload_state_dict\u001b[49m\u001b[43m(\u001b[49m\u001b[43msome_weights\u001b[49m\u001b[43m[\u001b[49m\u001b[38;5;124;43m\"\u001b[39;49m\u001b[38;5;124;43mmodel_state\u001b[39;49m\u001b[38;5;124;43m\"\u001b[39;49m\u001b[43m]\u001b[49m\u001b[43m,\u001b[49m\u001b[43m \u001b[49m\u001b[43mstrict\u001b[49m\u001b[38;5;241;43m=\u001b[39;49m\u001b[38;5;28;43;01mFalse\u001b[39;49;00m\u001b[43m)\u001b[49m\n",
      "File \u001b[0;32m/usr/local/lib/python3.10/dist-packages/torch/nn/modules/module.py:2584\u001b[0m, in \u001b[0;36mModule.load_state_dict\u001b[0;34m(self, state_dict, strict, assign)\u001b[0m\n\u001b[1;32m   2576\u001b[0m         error_msgs\u001b[38;5;241m.\u001b[39minsert(\n\u001b[1;32m   2577\u001b[0m             \u001b[38;5;241m0\u001b[39m,\n\u001b[1;32m   2578\u001b[0m             \u001b[38;5;124m\"\u001b[39m\u001b[38;5;124mMissing key(s) in state_dict: \u001b[39m\u001b[38;5;132;01m{}\u001b[39;00m\u001b[38;5;124m. \u001b[39m\u001b[38;5;124m\"\u001b[39m\u001b[38;5;241m.\u001b[39mformat(\n\u001b[1;32m   2579\u001b[0m                 \u001b[38;5;124m\"\u001b[39m\u001b[38;5;124m, \u001b[39m\u001b[38;5;124m\"\u001b[39m\u001b[38;5;241m.\u001b[39mjoin(\u001b[38;5;124mf\u001b[39m\u001b[38;5;124m'\u001b[39m\u001b[38;5;124m\"\u001b[39m\u001b[38;5;132;01m{\u001b[39;00mk\u001b[38;5;132;01m}\u001b[39;00m\u001b[38;5;124m\"\u001b[39m\u001b[38;5;124m'\u001b[39m \u001b[38;5;28;01mfor\u001b[39;00m k \u001b[38;5;129;01min\u001b[39;00m missing_keys)\n\u001b[1;32m   2580\u001b[0m             ),\n\u001b[1;32m   2581\u001b[0m         )\n\u001b[1;32m   2583\u001b[0m \u001b[38;5;28;01mif\u001b[39;00m \u001b[38;5;28mlen\u001b[39m(error_msgs) \u001b[38;5;241m>\u001b[39m \u001b[38;5;241m0\u001b[39m:\n\u001b[0;32m-> 2584\u001b[0m     \u001b[38;5;28;01mraise\u001b[39;00m \u001b[38;5;167;01mRuntimeError\u001b[39;00m(\n\u001b[1;32m   2585\u001b[0m         \u001b[38;5;124m\"\u001b[39m\u001b[38;5;124mError(s) in loading state_dict for \u001b[39m\u001b[38;5;132;01m{}\u001b[39;00m\u001b[38;5;124m:\u001b[39m\u001b[38;5;130;01m\\n\u001b[39;00m\u001b[38;5;130;01m\\t\u001b[39;00m\u001b[38;5;132;01m{}\u001b[39;00m\u001b[38;5;124m\"\u001b[39m\u001b[38;5;241m.\u001b[39mformat(\n\u001b[1;32m   2586\u001b[0m             \u001b[38;5;28mself\u001b[39m\u001b[38;5;241m.\u001b[39m\u001b[38;5;18m__class__\u001b[39m\u001b[38;5;241m.\u001b[39m\u001b[38;5;18m__name__\u001b[39m, \u001b[38;5;124m\"\u001b[39m\u001b[38;5;130;01m\\n\u001b[39;00m\u001b[38;5;130;01m\\t\u001b[39;00m\u001b[38;5;124m\"\u001b[39m\u001b[38;5;241m.\u001b[39mjoin(error_msgs)\n\u001b[1;32m   2587\u001b[0m         )\n\u001b[1;32m   2588\u001b[0m     )\n\u001b[1;32m   2589\u001b[0m \u001b[38;5;28;01mreturn\u001b[39;00m _IncompatibleKeys(missing_keys, unexpected_keys)\n",
      "\u001b[0;31mRuntimeError\u001b[0m: Error(s) in loading state_dict for Hiera:\n\tsize mismatch for pos_embed: copying a param with shape torch.Size([1, 3136, 96]) from checkpoint, the shape in current model is torch.Size([1, 2304, 96])."
     ]
    }
   ],
   "source": [
    "some_weights = torch.load(\"mae_hiera_tiny_224.pth\")\n",
    "my_cut_hiera.load_state_dict(some_weights[\"model_state\"], strict=False)\n"
   ]
  },
  {
   "cell_type": "code",
   "execution_count": null,
   "id": "4c9da569-f7a3-41f8-abeb-22226158b98c",
   "metadata": {},
   "outputs": [],
   "source": [
    "fig, axs = plt.subplots(8,12, figsize=(12,8))\n",
    "for i, ax in enumerate(axs.ravel()):\n",
    "    ax.imshow(my_cut_hiera.patch_embed.proj.weight.data[i,2].cpu().numpy(), cmap=\"hot\")\n",
    "    ax.axis(\"off\")"
   ]
  },
  {
   "cell_type": "code",
   "execution_count": null,
   "id": "709a37f4-479b-44ba-80bb-cb2d48119d96",
   "metadata": {},
   "outputs": [],
   "source": []
  },
  {
   "cell_type": "code",
   "execution_count": null,
   "id": "a17b724b-c346-41f4-9504-4a0216743d2a",
   "metadata": {},
   "outputs": [],
   "source": []
  },
  {
   "cell_type": "code",
   "execution_count": null,
   "id": "5cd7e894-aee1-4fc9-963b-af2e948423b8",
   "metadata": {},
   "outputs": [],
   "source": []
  },
  {
   "cell_type": "code",
   "execution_count": null,
   "id": "c36f94e0-92a1-4733-8580-df3bcf1d37bd",
   "metadata": {},
   "outputs": [],
   "source": []
  },
  {
   "cell_type": "code",
   "execution_count": null,
   "id": "5fab7c3d-6f57-46b2-8070-98e362b1d3f8",
   "metadata": {},
   "outputs": [],
   "source": []
  },
  {
   "cell_type": "code",
   "execution_count": null,
   "id": "b0033efb-3787-424c-878c-cca29424386b",
   "metadata": {},
   "outputs": [],
   "source": []
  },
  {
   "cell_type": "code",
   "execution_count": 8,
   "id": "7ef45710-e406-4b68-9914-481a4bd56f01",
   "metadata": {},
   "outputs": [
    {
     "name": "stdout",
     "output_type": "stream",
     "text": [
      "27910216\n"
     ]
    }
   ],
   "source": [
    "n_params=0\n",
    "for n, p in my_tiny_hiera.named_parameters():\n",
    "    #print(n, p.shape, torch.numel(p))\n",
    "    n_params += torch.numel(p)\n",
    "print(n_params)"
   ]
  },
  {
   "cell_type": "code",
   "execution_count": 9,
   "id": "8f35e368-dd3a-470e-a177-ea52473612a4",
   "metadata": {},
   "outputs": [
    {
     "name": "stdout",
     "output_type": "stream",
     "text": [
      "27910216\n"
     ]
    }
   ],
   "source": [
    "n_params=0\n",
    "for n, p in model.named_parameters():\n",
    "    print#(n, p.shape, torch.numel(p))\n",
    "    n_params += torch.numel(p)\n",
    "print(n_params)"
   ]
  },
  {
   "cell_type": "code",
   "execution_count": 10,
   "id": "d477298e-4de0-41a9-bb5b-f8f534438049",
   "metadata": {},
   "outputs": [
    {
     "name": "stdout",
     "output_type": "stream",
     "text": [
      "4987336\n"
     ]
    }
   ],
   "source": [
    "n_params=0\n",
    "for n, p in my_cut_hiera.named_parameters():\n",
    "    #print(n, p.shape, torch.numel(p))\n",
    "    n_params += torch.numel(p)\n",
    "print(n_params)"
   ]
  },
  {
   "cell_type": "code",
   "execution_count": 11,
   "id": "b47ad59e-5750-48f9-bfcd-0252998608a0",
   "metadata": {},
   "outputs": [],
   "source": [
    "my_cut_hiera.to(\"cuda\", torch.bfloat16);\n",
    "my_tiny_hiera.to(\"cuda\", torch.bfloat16);\n"
   ]
  },
  {
   "cell_type": "code",
   "execution_count": 12,
   "id": "add1fcf1-797f-420a-b3c0-51347f4f7409",
   "metadata": {},
   "outputs": [],
   "source": [
    "from tqdm import tqdm"
   ]
  },
  {
   "cell_type": "code",
   "execution_count": 13,
   "id": "0373b257-44c3-477f-ba72-87566f1711f8",
   "metadata": {},
   "outputs": [
    {
     "name": "stderr",
     "output_type": "stream",
     "text": [
      "100% 100/100 [00:16<00:00,  6.09it/s]\n"
     ]
    }
   ],
   "source": [
    "with torch.no_grad():\n",
    "    for i in tqdm(range(100)):\n",
    "        my_cut_hiera(torch.ones(500,3,256,144).to(\"cuda\", torch.bfloat16));"
   ]
  },
  {
   "cell_type": "code",
   "execution_count": 15,
   "id": "515a6386-99ec-41b2-a578-56cf7c19f07f",
   "metadata": {},
   "outputs": [
    {
     "name": "stderr",
     "output_type": "stream",
     "text": [
      "100% 100/100 [00:22<00:00,  4.48it/s]\n"
     ]
    }
   ],
   "source": [
    "example = torch.ones(500,3,224,224).to(\"cuda\", torch.bfloat16)\n",
    "with torch.no_grad():\n",
    "    for i in tqdm(range(100)):\n",
    "        out = my_tiny_hiera(example, );"
   ]
  },
  {
   "cell_type": "code",
   "execution_count": null,
   "id": "58e09605-e069-4d8b-a267-be2ddf74d2b3",
   "metadata": {},
   "outputs": [],
   "source": []
  },
  {
   "cell_type": "code",
   "execution_count": 16,
   "id": "941ab106-2976-46a2-91ed-c5d07b74ebcc",
   "metadata": {},
   "outputs": [],
   "source": [
    "my_tiny_hiera = torch.compile(my_tiny_hiera,)"
   ]
  },
  {
   "cell_type": "code",
   "execution_count": 9,
   "id": "b973bcb3-331f-4c98-94d0-182001e2dbe3",
   "metadata": {},
   "outputs": [],
   "source": [
    "my_tiny_hiera.to(\"cuda\", torch.bfloat16);\n",
    "example = torch.ones(500,3,224,224).to(\"cuda\", torch.bfloat16)\n",
    "out = my_tiny_hiera(example, );"
   ]
  },
  {
   "cell_type": "code",
   "execution_count": 113,
   "id": "318ec312-e56c-43f7-a265-f706c40dfc9d",
   "metadata": {},
   "outputs": [],
   "source": []
  },
  {
   "cell_type": "code",
   "execution_count": 19,
   "id": "c65b1277-6c1f-4532-9290-8e42811c7d5b",
   "metadata": {},
   "outputs": [
    {
     "name": "stderr",
     "output_type": "stream",
     "text": [
      "100% 100/100 [00:13<00:00,  7.60it/s]\n"
     ]
    }
   ],
   "source": [
    "# default\n",
    "example = torch.ones(500,3,224,224).to(\"cuda\", torch.bfloat16)\n",
    "with torch.no_grad():\n",
    "    for i in tqdm(range(100)):\n",
    "        out = my_tiny_hiera(example, );"
   ]
  },
  {
   "cell_type": "code",
   "execution_count": 21,
   "id": "f50b20c4-e650-4fd8-8725-e6105c32ea67",
   "metadata": {},
   "outputs": [
    {
     "name": "stderr",
     "output_type": "stream",
     "text": [
      "100% 100/100 [00:13<00:00,  7.64it/s]\n"
     ]
    }
   ],
   "source": [
    "torch.set_float32_matmul_precision('high')\n",
    "# default\n",
    "example = torch.ones(500,3,224,224).to(\"cuda\", torch.bfloat16)\n",
    "with torch.no_grad():\n",
    "    for i in tqdm(range(100)):\n",
    "        out = my_tiny_hiera(example, );"
   ]
  },
  {
   "cell_type": "code",
   "execution_count": null,
   "id": "b8c8ec05-7811-49d9-a2dd-46d8e7403c53",
   "metadata": {},
   "outputs": [],
   "source": []
  },
  {
   "cell_type": "code",
   "execution_count": 22,
   "id": "3c0ff115-df33-42c8-a297-67795dcc604b",
   "metadata": {},
   "outputs": [],
   "source": [
    "torch.set_float32_matmul_precision('medium')"
   ]
  },
  {
   "cell_type": "code",
   "execution_count": 24,
   "id": "2a1ded79-cd3a-4d09-948b-e3afc04c79a1",
   "metadata": {},
   "outputs": [
    {
     "name": "stderr",
     "output_type": "stream",
     "text": [
      "100% 100/100 [00:13<00:00,  7.63it/s]\n"
     ]
    }
   ],
   "source": [
    "example = torch.ones(500,3,224,224).to(\"cuda\", torch.bfloat16)\n"
   ]
  },
  {
   "cell_type": "code",
   "execution_count": 30,
   "id": "5e6c14d5-cf08-461b-b605-30de9bb85c14",
   "metadata": {},
   "outputs": [
    {
     "name": "stderr",
     "output_type": "stream",
     "text": [
      "100% 100/100 [00:13<00:00,  7.65it/s]\n"
     ]
    }
   ],
   "source": [
    "example = torch.ones(500,3,224,224).to(\"cuda\", torch.bfloat16)\n",
    "with torch.no_grad():\n",
    "    for i in tqdm(range(100)):\n",
    "        out = my_tiny_hiera(example, );"
   ]
  },
  {
   "cell_type": "code",
   "execution_count": 32,
   "id": "29814e9e-1137-4cc9-92d8-d8069930b691",
   "metadata": {},
   "outputs": [
    {
     "name": "stderr",
     "output_type": "stream",
     "text": [
      "100% 100/100 [00:13<00:00,  7.65it/s]\n"
     ]
    }
   ],
   "source": [
    "with sdpa_kernel(SDPBackend.FLASH_ATTENTION):\n",
    "    with torch.no_grad():\n",
    "        for i in tqdm(range(100)):\n",
    "            out = my_tiny_hiera(example, );"
   ]
  },
  {
   "cell_type": "code",
   "execution_count": 36,
   "id": "759d6a5c-fa3e-4a23-a358-ab0c2bbc7c94",
   "metadata": {},
   "outputs": [
    {
     "name": "stderr",
     "output_type": "stream",
     "text": [
      "100% 100/100 [00:22<00:00,  4.46it/s]\n"
     ]
    }
   ],
   "source": [
    "torch.backends.cuda.enable_flash_sdp(False)\n",
    "with torch.no_grad():\n",
    "    for i in tqdm(range(100)):\n",
    "        out = my_tiny_hiera(example, );"
   ]
  },
  {
   "cell_type": "code",
   "execution_count": 37,
   "id": "7f54d74f-d6dd-4ffd-a40f-40792e437ece",
   "metadata": {},
   "outputs": [
    {
     "name": "stderr",
     "output_type": "stream",
     "text": [
      "100% 100/100 [00:22<00:00,  4.37it/s]\n"
     ]
    }
   ],
   "source": [
    "torch.backends.cuda.enable_flash_sdp(True)\n",
    "with torch.no_grad():\n",
    "    for i in tqdm(range(100)):\n",
    "        out = my_tiny_hiera(example, );"
   ]
  },
  {
   "cell_type": "code",
   "execution_count": 4,
   "id": "5d728102-8005-46d8-a8e8-473f1720da1d",
   "metadata": {},
   "outputs": [],
   "source": [
    "import torch"
   ]
  },
  {
   "cell_type": "code",
   "execution_count": 15,
   "id": "009febcc-ad8b-419f-9d75-0a9bc4f1c21b",
   "metadata": {},
   "outputs": [
    {
     "data": {
      "text/plain": [
       "torch.Size([500, 3, 224, 224])"
      ]
     },
     "execution_count": 15,
     "metadata": {},
     "output_type": "execute_result"
    }
   ],
   "source": [
    "example.shape\n"
   ]
  },
  {
   "cell_type": "code",
   "execution_count": 5,
   "id": "df59d000-6713-4300-ba59-33fd3e8dfeca",
   "metadata": {},
   "outputs": [
    {
     "data": {
      "text/plain": [
       "'2.6.0.dev20240913+cu121'"
      ]
     },
     "execution_count": 5,
     "metadata": {},
     "output_type": "execute_result"
    }
   ],
   "source": [
    "torch.__version__"
   ]
  },
  {
   "cell_type": "code",
   "execution_count": 14,
   "id": "fbb39bfb-6963-40ac-8ea2-3105abfdc212",
   "metadata": {},
   "outputs": [
    {
     "name": "stdout",
     "output_type": "stream",
     "text": [
      "> \u001b[0;32m/usr/local/lib/python3.10/dist-packages/hiera/hiera.py\u001b[0m(100)\u001b[0;36mforward\u001b[0;34m()\u001b[0m\n",
      "\u001b[0;32m     98 \u001b[0;31m        \u001b[0;32mif\u001b[0m \u001b[0mhasattr\u001b[0m\u001b[0;34m(\u001b[0m\u001b[0mF\u001b[0m\u001b[0;34m,\u001b[0m \u001b[0;34m\"scaled_dot_product_attention\"\u001b[0m\u001b[0;34m)\u001b[0m\u001b[0;34m:\u001b[0m\u001b[0;34m\u001b[0m\u001b[0;34m\u001b[0m\u001b[0m\n",
      "\u001b[0m\u001b[0;32m     99 \u001b[0;31m            \u001b[0;31m# Note: the original paper did *not* use SDPA, it's a free boost!\u001b[0m\u001b[0;34m\u001b[0m\u001b[0;34m\u001b[0m\u001b[0m\n",
      "\u001b[0m\u001b[0;32m--> 100 \u001b[0;31m            \u001b[0mx\u001b[0m \u001b[0;34m=\u001b[0m \u001b[0mF\u001b[0m\u001b[0;34m.\u001b[0m\u001b[0mscaled_dot_product_attention\u001b[0m\u001b[0;34m(\u001b[0m\u001b[0mq\u001b[0m\u001b[0;34m,\u001b[0m \u001b[0mk\u001b[0m\u001b[0;34m,\u001b[0m \u001b[0mv\u001b[0m\u001b[0;34m)\u001b[0m\u001b[0;34m\u001b[0m\u001b[0;34m\u001b[0m\u001b[0m\n",
      "\u001b[0m\u001b[0;32m    101 \u001b[0;31m        \u001b[0;32melse\u001b[0m\u001b[0;34m:\u001b[0m\u001b[0;34m\u001b[0m\u001b[0;34m\u001b[0m\u001b[0m\n",
      "\u001b[0m\u001b[0;32m    102 \u001b[0;31m            \u001b[0mattn\u001b[0m \u001b[0;34m=\u001b[0m \u001b[0;34m(\u001b[0m\u001b[0mq\u001b[0m \u001b[0;34m*\u001b[0m \u001b[0mself\u001b[0m\u001b[0;34m.\u001b[0m\u001b[0mscale\u001b[0m\u001b[0;34m)\u001b[0m \u001b[0;34m@\u001b[0m \u001b[0mk\u001b[0m\u001b[0;34m.\u001b[0m\u001b[0mtranspose\u001b[0m\u001b[0;34m(\u001b[0m\u001b[0;34m-\u001b[0m\u001b[0;36m1\u001b[0m\u001b[0;34m,\u001b[0m \u001b[0;34m-\u001b[0m\u001b[0;36m2\u001b[0m\u001b[0;34m)\u001b[0m\u001b[0;34m\u001b[0m\u001b[0;34m\u001b[0m\u001b[0m\n",
      "\u001b[0m\n"
     ]
    },
    {
     "name": "stdin",
     "output_type": "stream",
     "text": [
      "ipdb>  F\n"
     ]
    },
    {
     "name": "stdout",
     "output_type": "stream",
     "text": [
      "<module 'torch.nn.functional' from '/usr/local/lib/python3.10/dist-packages/torch/nn/functional.py'>\n"
     ]
    },
    {
     "name": "stdin",
     "output_type": "stream",
     "text": [
      "ipdb>  k.shape\n"
     ]
    },
    {
     "name": "stdout",
     "output_type": "stream",
     "text": [
      "torch.Size([500, 1, 49, 64, 96])\n"
     ]
    },
    {
     "name": "stdin",
     "output_type": "stream",
     "text": [
      "ipdb>  q\n"
     ]
    }
   ],
   "source": [
    "%debug"
   ]
  },
  {
   "cell_type": "code",
   "execution_count": 21,
   "id": "88df5a44-b286-449c-ae9e-6a65fe021ce0",
   "metadata": {},
   "outputs": [
    {
     "name": "stderr",
     "output_type": "stream",
     "text": [
      "  0% 0/100 [00:00<?, ?it/s]\n"
     ]
    },
    {
     "ename": "RuntimeError",
     "evalue": "No available kernel. Aborting execution.",
     "output_type": "error",
     "traceback": [
      "\u001b[0;31m---------------------------------------------------------------------------\u001b[0m",
      "\u001b[0;31mRuntimeError\u001b[0m                              Traceback (most recent call last)",
      "Cell \u001b[0;32mIn[21], line 7\u001b[0m\n\u001b[1;32m      5\u001b[0m \u001b[38;5;28;01mwith\u001b[39;00m torch\u001b[38;5;241m.\u001b[39mno_grad():\n\u001b[1;32m      6\u001b[0m     \u001b[38;5;28;01mfor\u001b[39;00m i \u001b[38;5;129;01min\u001b[39;00m tqdm(\u001b[38;5;28mrange\u001b[39m(\u001b[38;5;241m100\u001b[39m)):\n\u001b[0;32m----> 7\u001b[0m         out \u001b[38;5;241m=\u001b[39m \u001b[43mmy_tiny_hiera\u001b[49m\u001b[43m(\u001b[49m\u001b[43mtorch\u001b[49m\u001b[38;5;241;43m.\u001b[39;49m\u001b[43mones\u001b[49m\u001b[43m(\u001b[49m\u001b[38;5;241;43m10\u001b[39;49m\u001b[43m,\u001b[49m\u001b[38;5;241;43m3\u001b[39;49m\u001b[43m,\u001b[49m\u001b[38;5;241;43m224\u001b[39;49m\u001b[43m,\u001b[49m\u001b[38;5;241;43m224\u001b[39;49m\u001b[43m)\u001b[49m\u001b[38;5;241;43m.\u001b[39;49m\u001b[43mto\u001b[49m\u001b[43m(\u001b[49m\u001b[38;5;124;43m\"\u001b[39;49m\u001b[38;5;124;43mcuda\u001b[39;49m\u001b[38;5;124;43m\"\u001b[39;49m\u001b[43m,\u001b[49m\u001b[43m \u001b[49m\u001b[43mtorch\u001b[49m\u001b[38;5;241;43m.\u001b[39;49m\u001b[43mbfloat16\u001b[49m\u001b[43m)\u001b[49m\u001b[43m,\u001b[49m\u001b[43m \u001b[49m\u001b[43m)\u001b[49m;\n",
      "File \u001b[0;32m/usr/local/lib/python3.10/dist-packages/torch/nn/modules/module.py:1736\u001b[0m, in \u001b[0;36mModule._wrapped_call_impl\u001b[0;34m(self, *args, **kwargs)\u001b[0m\n\u001b[1;32m   1734\u001b[0m     \u001b[38;5;28;01mreturn\u001b[39;00m \u001b[38;5;28mself\u001b[39m\u001b[38;5;241m.\u001b[39m_compiled_call_impl(\u001b[38;5;241m*\u001b[39margs, \u001b[38;5;241m*\u001b[39m\u001b[38;5;241m*\u001b[39mkwargs)  \u001b[38;5;66;03m# type: ignore[misc]\u001b[39;00m\n\u001b[1;32m   1735\u001b[0m \u001b[38;5;28;01melse\u001b[39;00m:\n\u001b[0;32m-> 1736\u001b[0m     \u001b[38;5;28;01mreturn\u001b[39;00m \u001b[38;5;28;43mself\u001b[39;49m\u001b[38;5;241;43m.\u001b[39;49m\u001b[43m_call_impl\u001b[49m\u001b[43m(\u001b[49m\u001b[38;5;241;43m*\u001b[39;49m\u001b[43margs\u001b[49m\u001b[43m,\u001b[49m\u001b[43m \u001b[49m\u001b[38;5;241;43m*\u001b[39;49m\u001b[38;5;241;43m*\u001b[39;49m\u001b[43mkwargs\u001b[49m\u001b[43m)\u001b[49m\n",
      "File \u001b[0;32m/usr/local/lib/python3.10/dist-packages/torch/nn/modules/module.py:1747\u001b[0m, in \u001b[0;36mModule._call_impl\u001b[0;34m(self, *args, **kwargs)\u001b[0m\n\u001b[1;32m   1742\u001b[0m \u001b[38;5;66;03m# If we don't have any hooks, we want to skip the rest of the logic in\u001b[39;00m\n\u001b[1;32m   1743\u001b[0m \u001b[38;5;66;03m# this function, and just call forward.\u001b[39;00m\n\u001b[1;32m   1744\u001b[0m \u001b[38;5;28;01mif\u001b[39;00m \u001b[38;5;129;01mnot\u001b[39;00m (\u001b[38;5;28mself\u001b[39m\u001b[38;5;241m.\u001b[39m_backward_hooks \u001b[38;5;129;01mor\u001b[39;00m \u001b[38;5;28mself\u001b[39m\u001b[38;5;241m.\u001b[39m_backward_pre_hooks \u001b[38;5;129;01mor\u001b[39;00m \u001b[38;5;28mself\u001b[39m\u001b[38;5;241m.\u001b[39m_forward_hooks \u001b[38;5;129;01mor\u001b[39;00m \u001b[38;5;28mself\u001b[39m\u001b[38;5;241m.\u001b[39m_forward_pre_hooks\n\u001b[1;32m   1745\u001b[0m         \u001b[38;5;129;01mor\u001b[39;00m _global_backward_pre_hooks \u001b[38;5;129;01mor\u001b[39;00m _global_backward_hooks\n\u001b[1;32m   1746\u001b[0m         \u001b[38;5;129;01mor\u001b[39;00m _global_forward_hooks \u001b[38;5;129;01mor\u001b[39;00m _global_forward_pre_hooks):\n\u001b[0;32m-> 1747\u001b[0m     \u001b[38;5;28;01mreturn\u001b[39;00m \u001b[43mforward_call\u001b[49m\u001b[43m(\u001b[49m\u001b[38;5;241;43m*\u001b[39;49m\u001b[43margs\u001b[49m\u001b[43m,\u001b[49m\u001b[43m \u001b[49m\u001b[38;5;241;43m*\u001b[39;49m\u001b[38;5;241;43m*\u001b[39;49m\u001b[43mkwargs\u001b[49m\u001b[43m)\u001b[49m\n\u001b[1;32m   1749\u001b[0m result \u001b[38;5;241m=\u001b[39m \u001b[38;5;28;01mNone\u001b[39;00m\n\u001b[1;32m   1750\u001b[0m called_always_called_hooks \u001b[38;5;241m=\u001b[39m \u001b[38;5;28mset\u001b[39m()\n",
      "File \u001b[0;32m/usr/local/lib/python3.10/dist-packages/hiera/hiera.py:423\u001b[0m, in \u001b[0;36mHiera.forward\u001b[0;34m(self, x, mask, return_intermediates)\u001b[0m\n\u001b[1;32m    418\u001b[0m     x \u001b[38;5;241m=\u001b[39m x[mask[\u001b[38;5;241m.\u001b[39m\u001b[38;5;241m.\u001b[39m\u001b[38;5;241m.\u001b[39m, \u001b[38;5;28;01mNone\u001b[39;00m]\u001b[38;5;241m.\u001b[39mtile(\u001b[38;5;241m1\u001b[39m, \u001b[38;5;28mself\u001b[39m\u001b[38;5;241m.\u001b[39mmu_size, x\u001b[38;5;241m.\u001b[39mshape[\u001b[38;5;241m2\u001b[39m])]\u001b[38;5;241m.\u001b[39mview(\n\u001b[1;32m    419\u001b[0m         x\u001b[38;5;241m.\u001b[39mshape[\u001b[38;5;241m0\u001b[39m], \u001b[38;5;241m-\u001b[39m\u001b[38;5;241m1\u001b[39m, x\u001b[38;5;241m.\u001b[39mshape[\u001b[38;5;241m-\u001b[39m\u001b[38;5;241m1\u001b[39m]\n\u001b[1;32m    420\u001b[0m     )\n\u001b[1;32m    422\u001b[0m \u001b[38;5;28;01mfor\u001b[39;00m i, blk \u001b[38;5;129;01min\u001b[39;00m \u001b[38;5;28menumerate\u001b[39m(\u001b[38;5;28mself\u001b[39m\u001b[38;5;241m.\u001b[39mblocks):\n\u001b[0;32m--> 423\u001b[0m     x \u001b[38;5;241m=\u001b[39m \u001b[43mblk\u001b[49m\u001b[43m(\u001b[49m\u001b[43mx\u001b[49m\u001b[43m)\u001b[49m\n\u001b[1;32m    425\u001b[0m     \u001b[38;5;28;01mif\u001b[39;00m return_intermediates \u001b[38;5;129;01mand\u001b[39;00m i \u001b[38;5;129;01min\u001b[39;00m \u001b[38;5;28mself\u001b[39m\u001b[38;5;241m.\u001b[39mstage_ends:\n\u001b[1;32m    426\u001b[0m         intermediates\u001b[38;5;241m.\u001b[39mappend(\u001b[38;5;28mself\u001b[39m\u001b[38;5;241m.\u001b[39mreroll(x, i, mask\u001b[38;5;241m=\u001b[39mmask))\n",
      "File \u001b[0;32m/usr/local/lib/python3.10/dist-packages/torch/nn/modules/module.py:1736\u001b[0m, in \u001b[0;36mModule._wrapped_call_impl\u001b[0;34m(self, *args, **kwargs)\u001b[0m\n\u001b[1;32m   1734\u001b[0m     \u001b[38;5;28;01mreturn\u001b[39;00m \u001b[38;5;28mself\u001b[39m\u001b[38;5;241m.\u001b[39m_compiled_call_impl(\u001b[38;5;241m*\u001b[39margs, \u001b[38;5;241m*\u001b[39m\u001b[38;5;241m*\u001b[39mkwargs)  \u001b[38;5;66;03m# type: ignore[misc]\u001b[39;00m\n\u001b[1;32m   1735\u001b[0m \u001b[38;5;28;01melse\u001b[39;00m:\n\u001b[0;32m-> 1736\u001b[0m     \u001b[38;5;28;01mreturn\u001b[39;00m \u001b[38;5;28;43mself\u001b[39;49m\u001b[38;5;241;43m.\u001b[39;49m\u001b[43m_call_impl\u001b[49m\u001b[43m(\u001b[49m\u001b[38;5;241;43m*\u001b[39;49m\u001b[43margs\u001b[49m\u001b[43m,\u001b[49m\u001b[43m \u001b[49m\u001b[38;5;241;43m*\u001b[39;49m\u001b[38;5;241;43m*\u001b[39;49m\u001b[43mkwargs\u001b[49m\u001b[43m)\u001b[49m\n",
      "File \u001b[0;32m/usr/local/lib/python3.10/dist-packages/torch/nn/modules/module.py:1747\u001b[0m, in \u001b[0;36mModule._call_impl\u001b[0;34m(self, *args, **kwargs)\u001b[0m\n\u001b[1;32m   1742\u001b[0m \u001b[38;5;66;03m# If we don't have any hooks, we want to skip the rest of the logic in\u001b[39;00m\n\u001b[1;32m   1743\u001b[0m \u001b[38;5;66;03m# this function, and just call forward.\u001b[39;00m\n\u001b[1;32m   1744\u001b[0m \u001b[38;5;28;01mif\u001b[39;00m \u001b[38;5;129;01mnot\u001b[39;00m (\u001b[38;5;28mself\u001b[39m\u001b[38;5;241m.\u001b[39m_backward_hooks \u001b[38;5;129;01mor\u001b[39;00m \u001b[38;5;28mself\u001b[39m\u001b[38;5;241m.\u001b[39m_backward_pre_hooks \u001b[38;5;129;01mor\u001b[39;00m \u001b[38;5;28mself\u001b[39m\u001b[38;5;241m.\u001b[39m_forward_hooks \u001b[38;5;129;01mor\u001b[39;00m \u001b[38;5;28mself\u001b[39m\u001b[38;5;241m.\u001b[39m_forward_pre_hooks\n\u001b[1;32m   1745\u001b[0m         \u001b[38;5;129;01mor\u001b[39;00m _global_backward_pre_hooks \u001b[38;5;129;01mor\u001b[39;00m _global_backward_hooks\n\u001b[1;32m   1746\u001b[0m         \u001b[38;5;129;01mor\u001b[39;00m _global_forward_hooks \u001b[38;5;129;01mor\u001b[39;00m _global_forward_pre_hooks):\n\u001b[0;32m-> 1747\u001b[0m     \u001b[38;5;28;01mreturn\u001b[39;00m \u001b[43mforward_call\u001b[49m\u001b[43m(\u001b[49m\u001b[38;5;241;43m*\u001b[39;49m\u001b[43margs\u001b[49m\u001b[43m,\u001b[49m\u001b[43m \u001b[49m\u001b[38;5;241;43m*\u001b[39;49m\u001b[38;5;241;43m*\u001b[39;49m\u001b[43mkwargs\u001b[49m\u001b[43m)\u001b[49m\n\u001b[1;32m   1749\u001b[0m result \u001b[38;5;241m=\u001b[39m \u001b[38;5;28;01mNone\u001b[39;00m\n\u001b[1;32m   1750\u001b[0m called_always_called_hooks \u001b[38;5;241m=\u001b[39m \u001b[38;5;28mset\u001b[39m()\n",
      "File \u001b[0;32m/usr/local/lib/python3.10/dist-packages/hiera/hiera.py:147\u001b[0m, in \u001b[0;36mHieraBlock.forward\u001b[0;34m(self, x)\u001b[0m\n\u001b[1;32m    145\u001b[0m \u001b[38;5;28;01mif\u001b[39;00m \u001b[38;5;28mself\u001b[39m\u001b[38;5;241m.\u001b[39mdim \u001b[38;5;241m!=\u001b[39m \u001b[38;5;28mself\u001b[39m\u001b[38;5;241m.\u001b[39mdim_out:\n\u001b[1;32m    146\u001b[0m     x \u001b[38;5;241m=\u001b[39m do_pool(\u001b[38;5;28mself\u001b[39m\u001b[38;5;241m.\u001b[39mproj(x_norm), stride\u001b[38;5;241m=\u001b[39m\u001b[38;5;28mself\u001b[39m\u001b[38;5;241m.\u001b[39mattn\u001b[38;5;241m.\u001b[39mq_stride)\n\u001b[0;32m--> 147\u001b[0m x \u001b[38;5;241m=\u001b[39m x \u001b[38;5;241m+\u001b[39m \u001b[38;5;28mself\u001b[39m\u001b[38;5;241m.\u001b[39mdrop_path(\u001b[38;5;28;43mself\u001b[39;49m\u001b[38;5;241;43m.\u001b[39;49m\u001b[43mattn\u001b[49m\u001b[43m(\u001b[49m\u001b[43mx_norm\u001b[49m\u001b[43m)\u001b[49m)\n\u001b[1;32m    149\u001b[0m \u001b[38;5;66;03m# MLP\u001b[39;00m\n\u001b[1;32m    150\u001b[0m x \u001b[38;5;241m=\u001b[39m x \u001b[38;5;241m+\u001b[39m \u001b[38;5;28mself\u001b[39m\u001b[38;5;241m.\u001b[39mdrop_path(\u001b[38;5;28mself\u001b[39m\u001b[38;5;241m.\u001b[39mmlp(\u001b[38;5;28mself\u001b[39m\u001b[38;5;241m.\u001b[39mnorm2(x)))\n",
      "File \u001b[0;32m/usr/local/lib/python3.10/dist-packages/torch/nn/modules/module.py:1736\u001b[0m, in \u001b[0;36mModule._wrapped_call_impl\u001b[0;34m(self, *args, **kwargs)\u001b[0m\n\u001b[1;32m   1734\u001b[0m     \u001b[38;5;28;01mreturn\u001b[39;00m \u001b[38;5;28mself\u001b[39m\u001b[38;5;241m.\u001b[39m_compiled_call_impl(\u001b[38;5;241m*\u001b[39margs, \u001b[38;5;241m*\u001b[39m\u001b[38;5;241m*\u001b[39mkwargs)  \u001b[38;5;66;03m# type: ignore[misc]\u001b[39;00m\n\u001b[1;32m   1735\u001b[0m \u001b[38;5;28;01melse\u001b[39;00m:\n\u001b[0;32m-> 1736\u001b[0m     \u001b[38;5;28;01mreturn\u001b[39;00m \u001b[38;5;28;43mself\u001b[39;49m\u001b[38;5;241;43m.\u001b[39;49m\u001b[43m_call_impl\u001b[49m\u001b[43m(\u001b[49m\u001b[38;5;241;43m*\u001b[39;49m\u001b[43margs\u001b[49m\u001b[43m,\u001b[49m\u001b[43m \u001b[49m\u001b[38;5;241;43m*\u001b[39;49m\u001b[38;5;241;43m*\u001b[39;49m\u001b[43mkwargs\u001b[49m\u001b[43m)\u001b[49m\n",
      "File \u001b[0;32m/usr/local/lib/python3.10/dist-packages/torch/nn/modules/module.py:1747\u001b[0m, in \u001b[0;36mModule._call_impl\u001b[0;34m(self, *args, **kwargs)\u001b[0m\n\u001b[1;32m   1742\u001b[0m \u001b[38;5;66;03m# If we don't have any hooks, we want to skip the rest of the logic in\u001b[39;00m\n\u001b[1;32m   1743\u001b[0m \u001b[38;5;66;03m# this function, and just call forward.\u001b[39;00m\n\u001b[1;32m   1744\u001b[0m \u001b[38;5;28;01mif\u001b[39;00m \u001b[38;5;129;01mnot\u001b[39;00m (\u001b[38;5;28mself\u001b[39m\u001b[38;5;241m.\u001b[39m_backward_hooks \u001b[38;5;129;01mor\u001b[39;00m \u001b[38;5;28mself\u001b[39m\u001b[38;5;241m.\u001b[39m_backward_pre_hooks \u001b[38;5;129;01mor\u001b[39;00m \u001b[38;5;28mself\u001b[39m\u001b[38;5;241m.\u001b[39m_forward_hooks \u001b[38;5;129;01mor\u001b[39;00m \u001b[38;5;28mself\u001b[39m\u001b[38;5;241m.\u001b[39m_forward_pre_hooks\n\u001b[1;32m   1745\u001b[0m         \u001b[38;5;129;01mor\u001b[39;00m _global_backward_pre_hooks \u001b[38;5;129;01mor\u001b[39;00m _global_backward_hooks\n\u001b[1;32m   1746\u001b[0m         \u001b[38;5;129;01mor\u001b[39;00m _global_forward_hooks \u001b[38;5;129;01mor\u001b[39;00m _global_forward_pre_hooks):\n\u001b[0;32m-> 1747\u001b[0m     \u001b[38;5;28;01mreturn\u001b[39;00m \u001b[43mforward_call\u001b[49m\u001b[43m(\u001b[49m\u001b[38;5;241;43m*\u001b[39;49m\u001b[43margs\u001b[49m\u001b[43m,\u001b[49m\u001b[43m \u001b[49m\u001b[38;5;241;43m*\u001b[39;49m\u001b[38;5;241;43m*\u001b[39;49m\u001b[43mkwargs\u001b[49m\u001b[43m)\u001b[49m\n\u001b[1;32m   1749\u001b[0m result \u001b[38;5;241m=\u001b[39m \u001b[38;5;28;01mNone\u001b[39;00m\n\u001b[1;32m   1750\u001b[0m called_always_called_hooks \u001b[38;5;241m=\u001b[39m \u001b[38;5;28mset\u001b[39m()\n",
      "File \u001b[0;32m/usr/local/lib/python3.10/dist-packages/hiera/hiera.py:100\u001b[0m, in \u001b[0;36mMaskUnitAttention.forward\u001b[0;34m(self, x)\u001b[0m\n\u001b[1;32m     92\u001b[0m     q \u001b[38;5;241m=\u001b[39m (\n\u001b[1;32m     93\u001b[0m         q\u001b[38;5;241m.\u001b[39mview(B, \u001b[38;5;28mself\u001b[39m\u001b[38;5;241m.\u001b[39mheads, num_windows, \u001b[38;5;28mself\u001b[39m\u001b[38;5;241m.\u001b[39mq_stride, \u001b[38;5;241m-\u001b[39m\u001b[38;5;241m1\u001b[39m, \u001b[38;5;28mself\u001b[39m\u001b[38;5;241m.\u001b[39mhead_dim)\n\u001b[1;32m     94\u001b[0m         \u001b[38;5;241m.\u001b[39mmax(dim\u001b[38;5;241m=\u001b[39m\u001b[38;5;241m3\u001b[39m)\n\u001b[1;32m     95\u001b[0m         \u001b[38;5;241m.\u001b[39mvalues\n\u001b[1;32m     96\u001b[0m     )\n\u001b[1;32m     98\u001b[0m \u001b[38;5;28;01mif\u001b[39;00m \u001b[38;5;28mhasattr\u001b[39m(F, \u001b[38;5;124m\"\u001b[39m\u001b[38;5;124mscaled_dot_product_attention\u001b[39m\u001b[38;5;124m\"\u001b[39m):\n\u001b[1;32m     99\u001b[0m     \u001b[38;5;66;03m# Note: the original paper did *not* use SDPA, it's a free boost!\u001b[39;00m\n\u001b[0;32m--> 100\u001b[0m     x \u001b[38;5;241m=\u001b[39m \u001b[43mF\u001b[49m\u001b[38;5;241;43m.\u001b[39;49m\u001b[43mscaled_dot_product_attention\u001b[49m\u001b[43m(\u001b[49m\u001b[43mq\u001b[49m\u001b[43m,\u001b[49m\u001b[43m \u001b[49m\u001b[43mk\u001b[49m\u001b[43m,\u001b[49m\u001b[43m \u001b[49m\u001b[43mv\u001b[49m\u001b[43m)\u001b[49m\n\u001b[1;32m    101\u001b[0m \u001b[38;5;28;01melse\u001b[39;00m:\n\u001b[1;32m    102\u001b[0m     attn \u001b[38;5;241m=\u001b[39m (q \u001b[38;5;241m*\u001b[39m \u001b[38;5;28mself\u001b[39m\u001b[38;5;241m.\u001b[39mscale) \u001b[38;5;241m@\u001b[39m k\u001b[38;5;241m.\u001b[39mtranspose(\u001b[38;5;241m-\u001b[39m\u001b[38;5;241m1\u001b[39m, \u001b[38;5;241m-\u001b[39m\u001b[38;5;241m2\u001b[39m)\n",
      "\u001b[0;31mRuntimeError\u001b[0m: No available kernel. Aborting execution."
     ]
    }
   ],
   "source": [
    "from tqdm import tqdm\n",
    "torch.set_float32_matmul_precision('medium')\n",
    "from torch.nn.attention import SDPBackend, sdpa_kernel\n",
    "with sdpa_kernel(SDPBackend.FLASH_ATTENTION):\n",
    "    with torch.no_grad():\n",
    "        for i in tqdm(range(100)):\n",
    "            out = my_tiny_hiera(torch.ones(10,3,224,224).to(\"cuda\", torch.bfloat16), );"
   ]
  },
  {
   "cell_type": "code",
   "execution_count": 2,
   "id": "f7e48b6d-1b38-4c45-80bd-149c8986af73",
   "metadata": {},
   "outputs": [
    {
     "data": {
      "text/plain": [
       "0.308281344"
      ]
     },
     "execution_count": 2,
     "metadata": {},
     "output_type": "execute_result"
    }
   ],
   "source": [
    "128*8*3*224*224*2 / 1e9"
   ]
  },
  {
   "cell_type": "code",
   "execution_count": null,
   "id": "cb7ab91e-a8e4-4343-994f-a057c7a7321c",
   "metadata": {},
   "outputs": [],
   "source": []
  },
  {
   "cell_type": "code",
   "execution_count": null,
   "id": "8a445668-d639-46b2-b02b-2e4798b91636",
   "metadata": {},
   "outputs": [],
   "source": [
    "! "
   ]
  },
  {
   "cell_type": "code",
   "execution_count": null,
   "id": "bc7054ac-3833-42a0-ba2f-efac8c6d168e",
   "metadata": {},
   "outputs": [],
   "source": [
    "import torch\n",
    "from sam2.build_sam import build_sam2\n",
    "from sam2.sam2_image_predictor import SAM2ImagePredictor\n",
    "\n",
    "checkpoint = \"./checkpoints/sam2.1_hiera_large.pt\"\n",
    "model_cfg = \"configs/sam2.1/sam2.1_hiera_l.yaml\"\n",
    "predictor = SAM2ImagePredictor(build_sam2(model_cfg, checkpoint))"
   ]
  }
 ],
 "metadata": {
  "kernelspec": {
   "display_name": "Python 3 (ipykernel)",
   "language": "python",
   "name": "python3"
  },
  "language_info": {
   "codemirror_mode": {
    "name": "ipython",
    "version": 3
   },
   "file_extension": ".py",
   "mimetype": "text/x-python",
   "name": "python",
   "nbconvert_exporter": "python",
   "pygments_lexer": "ipython3",
   "version": "3.10.12"
  }
 },
 "nbformat": 4,
 "nbformat_minor": 5
}
