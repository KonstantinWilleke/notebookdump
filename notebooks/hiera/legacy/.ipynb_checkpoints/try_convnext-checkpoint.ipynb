{
 "cells": [
  {
   "cell_type": "code",
   "execution_count": 1,
   "id": "6fccbac3-c4e6-4922-9f9e-0c7726cba263",
   "metadata": {},
   "outputs": [
    {
     "name": "stderr",
     "output_type": "stream",
     "text": [
      "/usr/local/lib/python3.10/dist-packages/tqdm/auto.py:21: TqdmWarning: IProgress not found. Please update jupyter and ipywidgets. See https://ipywidgets.readthedocs.io/en/stable/user_install.html\n",
      "  from .autonotebook import tqdm as notebook_tqdm\n"
     ]
    }
   ],
   "source": [
    "from transformers import AutoImageProcessor, ConvNextV2Model\n",
    "import torch\n",
    "from tqdm import tqdm\n",
    "\n",
    "image_processor = AutoImageProcessor.from_pretrained(\"facebook/convnextv2-tiny-1k-224\")"
   ]
  },
  {
   "cell_type": "code",
   "execution_count": 2,
   "id": "4ea35909-da80-4ecc-8fe5-6fdf129e94f9",
   "metadata": {},
   "outputs": [],
   "source": [
    "model = ConvNextV2Model.from_pretrained(\"facebook/convnextv2-tiny-1k-224\")"
   ]
  },
  {
   "cell_type": "code",
   "execution_count": 3,
   "id": "3db9c303-617d-438c-9897-9ebefdeb56f8",
   "metadata": {},
   "outputs": [
    {
     "name": "stdout",
     "output_type": "stream",
     "text": [
      "27866496\n"
     ]
    }
   ],
   "source": [
    "import torch\n",
    "n_params=0\n",
    "for n, p in model.named_parameters():\n",
    "    #print(n, p.shape, torch.numel(p))\n",
    "    n_params += torch.numel(p)\n",
    "print(n_params)"
   ]
  },
  {
   "cell_type": "code",
   "execution_count": 4,
   "id": "4261ddc0-5712-4b41-948e-1d5b85618eb6",
   "metadata": {},
   "outputs": [],
   "source": [
    "from torch.nn.attention import SDPBackend, sdpa_kernel\n",
    "torch.set_float32_matmul_precision(\"medium\")\n",
    "model = model.to(\"cuda\", torch.bfloat16)"
   ]
  },
  {
   "cell_type": "code",
   "execution_count": 8,
   "id": "99df489c-a8d4-4710-a7cf-ac8829bc947e",
   "metadata": {},
   "outputs": [
    {
     "name": "stderr",
     "output_type": "stream",
     "text": [
      "100% 100/100 [00:29<00:00,  3.44it/s]\n"
     ]
    }
   ],
   "source": [
    "model = model.to(\"cuda\", torch.bfloat16)\n",
    "example = torch.ones(500,3,224,224).to(\"cuda\", torch.bfloat16)\n",
    "with torch.no_grad():\n",
    "    for i in tqdm(range(100)):\n",
    "        out = model(example, );"
   ]
  },
  {
   "cell_type": "code",
   "execution_count": 5,
   "id": "d341fa4b-76ae-436a-b715-cc5c88b3afeb",
   "metadata": {},
   "outputs": [],
   "source": [
    "model = torch.compile(model, )\n",
    "model = model.to(\"cuda\", torch.bfloat16)"
   ]
  },
  {
   "cell_type": "code",
   "execution_count": 7,
   "id": "03e60ee5-9bc9-48b2-b35e-b4f178254bec",
   "metadata": {},
   "outputs": [],
   "source": [
    "example = torch.ones(256,3,224,224).to(\"cuda\", torch.bfloat16)\n",
    "out = model(example, );"
   ]
  },
  {
   "cell_type": "code",
   "execution_count": 8,
   "id": "a4f01fa0-94be-493a-91a3-f1c4ac4e44b1",
   "metadata": {},
   "outputs": [
    {
     "name": "stderr",
     "output_type": "stream",
     "text": [
      "100% 100/100 [00:16<00:00,  5.95it/s]\n"
     ]
    }
   ],
   "source": [
    "model = model.to(\"cuda\", torch.bfloat16)\n",
    "example = torch.ones(256,3,224,224).to(\"cuda\", torch.bfloat16)\n",
    "with torch.no_grad():\n",
    "    for i in tqdm(range(100)):\n",
    "        out = model(example, );"
   ]
  },
  {
   "cell_type": "code",
   "execution_count": 9,
   "id": "3cda0e3b-48f7-4dfa-a9a5-241c453bdc9d",
   "metadata": {},
   "outputs": [
    {
     "name": "stderr",
     "output_type": "stream",
     "text": [
      "100% 100/100 [00:04<00:00, 20.67it/s]\n"
     ]
    }
   ],
   "source": [
    "model = model.to(\"cuda\", torch.bfloat16)\n",
    "example = torch.ones(256,3,224,224).to(\"cuda\", torch.bfloat16)\n",
    "with torch.no_grad():\n",
    "    for i in tqdm(range(100)):\n",
    "        out = model(example, );"
   ]
  },
  {
   "cell_type": "code",
   "execution_count": null,
   "id": "25af9cef-c66e-423e-a6a2-61b74c23d2be",
   "metadata": {},
   "outputs": [],
   "source": []
  },
  {
   "cell_type": "code",
   "execution_count": null,
   "id": "de6a843e-c572-428a-888d-127d98ff7386",
   "metadata": {},
   "outputs": [],
   "source": []
  }
 ],
 "metadata": {
  "kernelspec": {
   "display_name": "Python 3 (ipykernel)",
   "language": "python",
   "name": "python3"
  },
  "language_info": {
   "codemirror_mode": {
    "name": "ipython",
    "version": 3
   },
   "file_extension": ".py",
   "mimetype": "text/x-python",
   "name": "python",
   "nbconvert_exporter": "python",
   "pygments_lexer": "ipython3",
   "version": "3.10.12"
  }
 },
 "nbformat": 4,
 "nbformat_minor": 5
}
