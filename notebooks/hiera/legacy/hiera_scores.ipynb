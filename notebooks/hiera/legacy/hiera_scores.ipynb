{
 "cells": [
  {
   "cell_type": "code",
   "execution_count": 1,
   "id": "5263c539-255e-4b23-9000-253c4defcd9c",
   "metadata": {},
   "outputs": [],
   "source": [
    "import os\n",
    "os.environ['CUDA_VISIBLE_DEVICES'] = '7'"
   ]
  },
  {
   "cell_type": "code",
   "execution_count": 101,
   "id": "7a8d2746-bb9c-4f05-a1aa-6e4f7fcd4b6f",
   "metadata": {},
   "outputs": [
    {
     "data": {
      "text/plain": [
       "3.3333333333333335"
      ]
     },
     "execution_count": 101,
     "metadata": {},
     "output_type": "execute_result"
    }
   ],
   "source": [
    "200/60"
   ]
  },
  {
   "cell_type": "code",
   "execution_count": 103,
   "id": "67de843f-c950-40c4-92d0-23fc34a8d944",
   "metadata": {},
   "outputs": [
    {
     "data": {
      "text/plain": [
       "140160"
      ]
     },
     "execution_count": 103,
     "metadata": {},
     "output_type": "execute_result"
    }
   ],
   "source": [
    "2*8*24*365"
   ]
  },
  {
   "cell_type": "code",
   "execution_count": 106,
   "id": "e7c930a4-910c-46b4-9a37-c02a8509ea68",
   "metadata": {},
   "outputs": [
    {
     "data": {
      "text/plain": [
       "5.12"
      ]
     },
     "execution_count": 106,
     "metadata": {},
     "output_type": "execute_result"
    }
   ],
   "source": [
    "10*8e3*8e3*8 / 1e9"
   ]
  },
  {
   "cell_type": "code",
   "execution_count": 109,
   "id": "3b340828-fbf0-4e5d-807d-6519340ad55b",
   "metadata": {},
   "outputs": [
    {
     "data": {
      "text/plain": [
       "24.4140625"
      ]
     },
     "execution_count": 109,
     "metadata": {},
     "output_type": "execute_result"
    }
   ],
   "source": [
    "(1.5e6 / 24) / (256) / (10)"
   ]
  },
  {
   "cell_type": "code",
   "execution_count": 114,
   "id": "0f0c1d00-05bb-4959-87d8-d37f125e208b",
   "metadata": {},
   "outputs": [
    {
     "data": {
      "text/plain": [
       "1.71072"
      ]
     },
     "execution_count": 114,
     "metadata": {},
     "output_type": "execute_result"
    }
   ],
   "source": [
    "#day x channels x time x probes x monkey\n",
    "150*1584*7200*10*10*10 / 1e12"
   ]
  },
  {
   "cell_type": "code",
   "execution_count": null,
   "id": "e796689b-1705-44c3-8242-e0d6f43289a1",
   "metadata": {},
   "outputs": [],
   "source": []
  },
  {
   "cell_type": "code",
   "execution_count": 118,
   "id": "12addb35-ab51-47dc-9795-958f1d7fb044",
   "metadata": {},
   "outputs": [
    {
     "data": {
      "text/plain": [
       "0.1728"
      ]
     },
     "execution_count": 118,
     "metadata": {},
     "output_type": "execute_result"
    }
   ],
   "source": [
    "#day x time x monkey * fps * tokens/frame\n",
    "150*7200*10*16*1000 / 1e12"
   ]
  },
  {
   "cell_type": "code",
   "execution_count": 132,
   "id": "7e2bfb72-cc36-4f91-a767-d6c4e2e4f508",
   "metadata": {},
   "outputs": [
    {
     "data": {
      "text/plain": [
       "27.57421875"
      ]
     },
     "execution_count": 132,
     "metadata": {},
     "output_type": "execute_result"
    }
   ],
   "source": [
    "7059 / 256"
   ]
  },
  {
   "cell_type": "code",
   "execution_count": 130,
   "id": "908b18ed-e501-4503-af03-f24920f32c9a",
   "metadata": {},
   "outputs": [
    {
     "data": {
      "text/plain": [
       "11.25"
      ]
     },
     "execution_count": 130,
     "metadata": {},
     "output_type": "execute_result"
    }
   ],
   "source": [
    "720/64"
   ]
  },
  {
   "cell_type": "code",
   "execution_count": null,
   "id": "af60e1e4-2691-4c01-8863-6e2a99d3eb3f",
   "metadata": {},
   "outputs": [],
   "source": []
  },
  {
   "cell_type": "code",
   "execution_count": 110,
   "id": "3999d7b4-9cc5-4812-8dab-11d96dc0a6c2",
   "metadata": {},
   "outputs": [],
   "source": [
    "n_neurons = 1e6\n",
    "n_seconds = 10e3\n",
    "tokens_per_second = 50\n",
    "\n"
   ]
  },
  {
   "cell_type": "code",
   "execution_count": 111,
   "id": "e45284f2-6ea7-463a-ad22-1aadf04e3e5f",
   "metadata": {},
   "outputs": [
    {
     "data": {
      "text/plain": [
       "500.0"
      ]
     },
     "execution_count": 111,
     "metadata": {},
     "output_type": "execute_result"
    }
   ],
   "source": [
    "tokens_per_second*n_seconds*n_neurons/1e9"
   ]
  },
  {
   "cell_type": "code",
   "execution_count": null,
   "id": "ccf0727c-6484-41e4-803e-36f20ac4d171",
   "metadata": {},
   "outputs": [],
   "source": []
  },
  {
   "cell_type": "code",
   "execution_count": null,
   "id": "a88d314b-d493-4383-9d22-cb99be64320d",
   "metadata": {},
   "outputs": [],
   "source": []
  },
  {
   "cell_type": "code",
   "execution_count": 2,
   "id": "7a867780-893c-4bf6-a846-4020f25a00f2",
   "metadata": {},
   "outputs": [],
   "source": [
    "%matplotlib inline\n",
    "%load_ext autoreload\n",
    "%autoreload 2\n",
    "\n",
    "import numpy as np\n",
    "import matplotlib.pyplot as plt\n",
    "from os import path\n",
    "\n",
    "from torch import nn\n",
    "from torch.nn import functional as F\n",
    "from torch.nn.functional import scaled_dot_product_attention\n",
    "from torch.nn.attention import SDPBackend, sdpa_kernel\n",
    "from tqdm import tqdm\n",
    "from einops import rearrange\n",
    "from torch.optim import AdamW, Adam\n",
    "\n",
    "import torch\n",
    "from torch.utils.data import DataLoader\n",
    "from tqdm import tqdm\n",
    "from omegaconf import OmegaConf, open_dict\n",
    "from experanto.datasets import ChunkDataset, SimpleChunkedDataset\n",
    "from experanto.utils import LongCycler, MultiEpochsDataLoader\n",
    "from experanto.dataloaders import get_multisession_dataloader\n",
    "\n",
    "paths = ['dynamic29513-3-5-Video-full',\n",
    "         'dynamic29514-2-9-Video-full',\n",
    "         'dynamic29755-2-8-Video-full',\n",
    "         'dynamic29647-19-8-Video-full',\n",
    "         'dynamic29156-11-10-Video-full',\n",
    "         'dynamic29623-4-9-Video-full',\n",
    "         'dynamic29515-10-12-Video-full',\n",
    "         'dynamic29234-6-9-Video-full',\n",
    "         'dynamic29712-5-9-Video-full',\n",
    "         'dynamic29228-2-10-Video-full'\n",
    "        ]\n",
    "full_paths = [path.join(\"/data/mouse_polly/\", f) for f in paths]\n",
    "\n",
    "from experanto.configs import DEFAULT_CONFIG as cfg\n",
    "cfg.dataset.global_chunk_size = 16\n",
    "cfg.dataset.global_sampling_rate = 8\n",
    "cfg.dataset.modality_config.screen.include_blanks=True\n",
    "cfg.dataset.modality_config.screen.valid_condition = {\"tier\": \"train\"}\n",
    "\n",
    "cfg.dataloader.num_workers=4\n",
    "cfg.dataloader.prefetch_factor=1\n",
    "cfg.dataloader.batch_size=32\n",
    "cfg.dataloader.pin_memory=True\n",
    "\n",
    "# the multiple dataloader is an iterator that returns a tuple of (key, batch)\n",
    "train_dl = get_multisession_dataloader(full_paths, cfg)"
   ]
  },
  {
   "cell_type": "code",
   "execution_count": 3,
   "id": "6acd59ab-f06c-4407-bab0-4ad3a7e61dd6",
   "metadata": {},
   "outputs": [
    {
     "name": "stderr",
     "output_type": "stream",
     "text": [
      "/usr/local/lib/python3.10/dist-packages/tqdm/auto.py:21: TqdmWarning: IProgress not found. Please update jupyter and ipywidgets. See https://ipywidgets.readthedocs.io/en/stable/user_install.html\n",
      "  from .autonotebook import tqdm as notebook_tqdm\n"
     ]
    }
   ],
   "source": [
    "import torch\n",
    "from hiera import Hiera\n",
    "tiny_hiera = Hiera(input_size=(16,144, 256),\n",
    "                     num_heads=1, \n",
    "                     stages=(4, 8), \n",
    "                     q_pool=1, \n",
    "                     in_chans=1,\n",
    "                     q_stride=(2, 2, 2),\n",
    "                     mask_unit_size=(1, 8, 8),\n",
    "                     patch_kernel=(3, 8, 8),\n",
    "                     patch_stride=(2, 4, 4),\n",
    "                     patch_padding=(1, 3, 3),\n",
    "                     sep_pos_embed=True,)\n",
    "#tiny_hiera = torch.compile(tiny_hiera).cuda().to(torch.bfloat16);\n",
    "tiny_hiera = tiny_hiera.cuda().to(torch.bfloat16);"
   ]
  },
  {
   "cell_type": "code",
   "execution_count": 4,
   "id": "0594b888-c9fe-41ca-820e-7555d99dbacb",
   "metadata": {},
   "outputs": [],
   "source": [
    "class IndexedLinearReadout(nn.Module):\n",
    "    \"\"\"\n",
    "    Readout module for MTM models with selectable weights based on \n",
    "    input IDs. Based on :class:`torch.nn.Linear`.\n",
    "    \"\"\"\n",
    "    def __init__(\n",
    "        self,\n",
    "        unique_ids: int,\n",
    "        in_features: int = 384,\n",
    "        out_features: int = 1,\n",
    "        bias: bool = True,\n",
    "        device=\"cuda\",\n",
    "        dtype=torch.float32,\n",
    "        init_std: float = 0.02,\n",
    "    ):\n",
    "        factory_kwargs = {\"device\": device, \"dtype\": dtype}\n",
    "        super().__init__()\n",
    "        self.unique_ids = unique_ids\n",
    "        self.in_features = in_features\n",
    "        self.out_features = out_features\n",
    "        self.init_std = init_std\n",
    "\n",
    "        self.query = nn.Parameter(\n",
    "            torch.empty(1, 4, unique_ids, 32, **factory_kwargs)\n",
    "        )\n",
    "        self.weight = nn.Parameter(\n",
    "            torch.empty(unique_ids, in_features, out_features, **factory_kwargs)\n",
    "        )\n",
    "        if bias:\n",
    "            self.bias = nn.Parameter(\n",
    "                torch.empty(1, unique_ids, out_features, **factory_kwargs)\n",
    "            )\n",
    "        else:\n",
    "            self.register_parameter('bias', None)\n",
    "        self.init_weights()\n",
    "\n",
    "    def init_weights(self, cutoff_factor: int = 3):\n",
    "        \"\"\"See `TorchTitan <https://github.com/pytorch/torchtitan/blob/40a10263c5b3468ffa53b3ac98d80c9267d68155/torchtitan/models/llama/model.py#L403>`__.\"\"\"\n",
    "        readout_std = self.in_features**-0.5\n",
    "        nn.init.trunc_normal_(\n",
    "            self.weight,\n",
    "            mean=0.0,\n",
    "            std=readout_std,\n",
    "            a=-cutoff_factor * readout_std,\n",
    "            b=cutoff_factor * readout_std,\n",
    "        )\n",
    "        readout_std = self.in_features**-0.5\n",
    "        nn.init.trunc_normal_(\n",
    "            self.query,\n",
    "            mean=0.0,\n",
    "            std=readout_std,\n",
    "            a=-cutoff_factor * readout_std,\n",
    "            b=cutoff_factor * readout_std,\n",
    "        )\n",
    "        if self.bias is not None:\n",
    "            self.bias.data.zero_()"
   ]
  },
  {
   "cell_type": "code",
   "execution_count": 5,
   "id": "66f79349-519a-404c-a107-774cb4fe212a",
   "metadata": {},
   "outputs": [],
   "source": [
    "class ELU1(nn.Module):\n",
    "    \"\"\"\n",
    "    Adapted from `NeuralPredictors <https://github.com/sinzlab/neuralpredictors/blob/main/neuralpredictors/layers/activations.py>`__.\n",
    "    \n",
    "    Elu activation function shifted by 1 to ensure that the\n",
    "    output stays positive. That is:\n",
    "    Elu1(x) = Elu(x) + 1\n",
    "    \"\"\"\n",
    "\n",
    "    def forward(self, x, inplace=False, eps=0.0):\n",
    "        return F.elu(x, inplace=inplace) + 1.0 + eps"
   ]
  },
  {
   "cell_type": "code",
   "execution_count": 6,
   "id": "02255554-51be-4826-af3e-5ce446bf814f",
   "metadata": {},
   "outputs": [],
   "source": [
    "class MouseHieraSmall(nn.Module):\n",
    "    def __init__(self,\n",
    "                 backbone,\n",
    "                 dls,\n",
    "                 t=16,\n",
    "                 dim=512,\n",
    "                 dim_head=32,\n",
    "                 num_heads=4):\n",
    "        super().__init__()\n",
    "        self.backbone=backbone\n",
    "        self.num_heads=num_heads\n",
    "        self.dim_head=dim_head\n",
    "        self.wk = nn.Linear(dim, dim_head * num_heads, bias=False)\n",
    "        self.wv = nn.Linear(dim, dim_head * num_heads, bias=False)\n",
    "        self.neuron_proj = nn.Linear(dim_head * num_heads, t, bias=False)\n",
    "        self.readout = nn.ModuleDict()\n",
    "        self.activation = ELU1()\n",
    "        for k, v in dls.loaders.items():\n",
    "            n_neurons = next(iter(v))[\"responses\"].shape[-1]\n",
    "            self.readout[k] = IndexedLinearReadout(n_neurons, in_features=dim_head*num_heads, out_features=1)\n",
    "    \n",
    "    def forward(self, x, key):\n",
    "        x = self.backbone(x, return_intermediates=True)[1][-1]\n",
    "        b, t, h, w, d = x.shape\n",
    "        seq_len = t*h*w\n",
    "        x = x.view(b, -1, d)\n",
    "        k, v = self.wk(x), self.wv(x)\n",
    "        q = self.readout[key].query\n",
    "        n = q.shape[2]\n",
    "        q = q.tile(b, 1, 1, 1)\n",
    "        k = k.view(b, -1, self.num_heads, self.dim_head).transpose(1, 2)\n",
    "        v = v.view(b, -1, self.num_heads, self.dim_head).transpose(1, 2)\n",
    "        with sdpa_kernel(SDPBackend.FLASH_ATTENTION):\n",
    "            o = F.scaled_dot_product_attention(q, k, v)\n",
    "        o = o.transpose(1,2).contiguous().view(b, -1, self.num_heads * self.dim_head)\n",
    "        #o = torch.einsum(\"bnd, nft->bnt\", o, w, )\n",
    "        o = self.neuron_proj(o) # (B, N, D) -> (B, N, t)\n",
    "        o = o + r.readout[key].bias\n",
    "        o = F.elu(o, inplace=True) + 1.0\n",
    "        return o"
   ]
  },
  {
   "cell_type": "code",
   "execution_count": 7,
   "id": "bb47f306-3ebd-4d38-8aa7-3e40e08dc687",
   "metadata": {},
   "outputs": [],
   "source": [
    "example_in = torch.ones(8,1,16,144, 256).to(\"cuda\", torch.bfloat16)\n",
    "out = tiny_hiera(example_in, return_intermediates=True);\n",
    "features = out[-1][-1]\n",
    "features.shape\n",
    "\n",
    "backbone_dim = features[-1][-1].shape[-1]\n",
    "r = MouseHieraSmall(tiny_hiera, train_dl, 16, backbone_dim, dim_head=32,num_heads=4)\n",
    "#opt_r = torch.compile(r, )\n",
    "opt_r = r\n",
    "torch.set_float32_matmul_precision('high')\n",
    "opt_r.backbone.to(torch.bfloat16).cuda();\n",
    "opt_r = opt_r.train().to(torch.bfloat16).cuda()\n",
    "opt_r = opt_r.cuda().to(torch.bfloat16)\n",
    "opt_r = torch.compile(r).cuda().to(torch.bfloat16)\n",
    "k, b = next(iter(train_dl))\n",
    "videos = b[\"screen\"].to(\"cuda\", torch.bfloat16, non_blocking=True).permute(0,2,1,3,4)\n",
    "responses = b[\"responses\"].to(\"cuda\", torch.bfloat16, non_blocking=True)\n",
    "out = opt_r(videos, k);\n",
    "criteria = nn.PoissonNLLLoss(log_input=False, reduction='mean')\n",
    "opt = Adam(opt_r.parameters(), lr=1e-3, fused=True)\n",
    "import pytorch_warmup as warmup\n",
    "from torch.amp import autocast\n",
    "warmup_scheduler = warmup.UntunedLinearWarmup(opt, )\n",
    "lr_scheduler = torch.optim.lr_scheduler.CosineAnnealingLR(opt, 1e6, eta_min=1e-7)\n"
   ]
  },
  {
   "cell_type": "code",
   "execution_count": 9,
   "id": "a256c338-d3ba-49ba-a9a1-8f3a5ef19b36",
   "metadata": {},
   "outputs": [
    {
     "data": {
      "text/plain": [
       "<All keys matched successfully>"
      ]
     },
     "execution_count": 9,
     "metadata": {},
     "output_type": "execute_result"
    }
   ],
   "source": [
    "opt_r.load_state_dict(torch.load(\"small_hiera_1016.pth\", weights_only=True))"
   ]
  },
  {
   "cell_type": "code",
   "execution_count": null,
   "id": "cdc15d49-7644-4f34-bc10-b6b3a64e925f",
   "metadata": {},
   "outputs": [],
   "source": []
  },
  {
   "cell_type": "code",
   "execution_count": 89,
   "id": "8d9a1cf4-5f77-40f9-98a4-dfe64378d324",
   "metadata": {
    "scrolled": true
   },
   "outputs": [],
   "source": [
    "from experanto.configs import DEFAULT_CONFIG as cfg\n",
    "cfg.dataset.global_chunk_size = 16\n",
    "cfg.dataset.global_sampling_rate = 8\n",
    "cfg.dataset.modality_config.screen.include_blanks=False\n",
    "cfg.dataset.modality_config.screen.sample_stride=16\n",
    "cfg.dataset.modality_config.screen.valid_condition = {\"tier\": \"train\"}\n",
    "\n",
    "cfg.dataloader.num_workers=4\n",
    "cfg.dataloader.prefetch_factor=1\n",
    "cfg.dataloader.batch_size=32\n",
    "cfg.dataloader.pin_memory=True"
   ]
  },
  {
   "cell_type": "markdown",
   "id": "22e3ea90-6837-49d9-8745-6ed5da6f385f",
   "metadata": {},
   "source": [
    "### Instantiate MultiDataloader"
   ]
  },
  {
   "cell_type": "code",
   "execution_count": 119,
   "id": "01629e10-847d-4d27-9de5-f5b25b43ee89",
   "metadata": {},
   "outputs": [],
   "source": [
    "# the multiple dataloader is an iterator that returns a tuple of (key, batch)\n",
    "train_dl = get_multisession_dataloader(full_paths[8:9], cfg)"
   ]
  },
  {
   "cell_type": "code",
   "execution_count": 120,
   "id": "cc3364b7-75b7-42f8-8129-60a42e47c5cc",
   "metadata": {},
   "outputs": [
    {
     "name": "stderr",
     "output_type": "stream",
     "text": [
      "50it [00:18,  2.67it/s]\n"
     ]
    }
   ],
   "source": [
    "targets, predictions = [],[]\n",
    "with torch.no_grad():\n",
    "    for i, (k, b) in tqdm(enumerate(train_dl)):\n",
    "        videos = b[\"screen\"].to(\"cuda\", torch.bfloat16, non_blocking=True).permute(0,2,1,3,4)\n",
    "        responses = b[\"responses\"].to(\"cuda\", torch.bfloat16, non_blocking=True)\n",
    "        out = opt_r(videos, k);\n",
    "        predictions.append(out.transpose(1,2).to(torch.float32).cpu().numpy())\n",
    "        targets.append(responses.to(torch.float32).cpu().numpy())"
   ]
  },
  {
   "cell_type": "code",
   "execution_count": 121,
   "id": "801267d1-3138-47cb-b208-a7b66d6c0be0",
   "metadata": {},
   "outputs": [],
   "source": [
    "r1 = np.vstack(np.vstack(predictions))"
   ]
  },
  {
   "cell_type": "code",
   "execution_count": 122,
   "id": "52610530-df77-4076-8695-8caec522ff97",
   "metadata": {},
   "outputs": [],
   "source": [
    "r2 = np.vstack(np.vstack(targets))"
   ]
  },
  {
   "cell_type": "code",
   "execution_count": 124,
   "id": "e5743142-352d-4d73-a01b-9d21ad359708",
   "metadata": {},
   "outputs": [
    {
     "data": {
      "text/plain": [
       "<matplotlib.collections.PathCollection at 0x7fdbea141b40>"
      ]
     },
     "execution_count": 124,
     "metadata": {},
     "output_type": "execute_result"
    },
    {
     "data": {
      "image/png": "[encoded data removed]",
      "text/plain": [
       "<Figure size 640x480 with 1 Axes>"
      ]
     },
     "metadata": {},
     "output_type": "display_data"
    }
   ],
   "source": [
    "n=50\n",
    "plt.scatter(r1[:,n], r2[:,n])"
   ]
  },
  {
   "cell_type": "code",
   "execution_count": 125,
   "id": "424f36f6-113f-4837-b1a1-f7cabd690887",
   "metadata": {},
   "outputs": [],
   "source": [
    "cs = []\n",
    "for n in range(5000):\n",
    "    c =  np.corrcoef(r1[...,n].flatten(), r2[...,n].flatten(), )[0,1]\n",
    "    cs.append(c)"
   ]
  },
  {
   "cell_type": "code",
   "execution_count": 128,
   "id": "81b452d6-709b-4af6-99c3-78f142bdd2d6",
   "metadata": {},
   "outputs": [
    {
     "data": {
      "text/plain": [
       "np.float64(0.1895119140066486)"
      ]
     },
     "execution_count": 128,
     "metadata": {},
     "output_type": "execute_result"
    }
   ],
   "source": [
    "np.stack(cs).mean()"
   ]
  },
  {
   "cell_type": "code",
   "execution_count": null,
   "id": "dc08de6a-f92c-4f7b-ab83-f05158c141ee",
   "metadata": {},
   "outputs": [],
   "source": []
  },
  {
   "cell_type": "code",
   "execution_count": 83,
   "id": "d11ce618-1570-4382-8287-14c9ea34d0ee",
   "metadata": {},
   "outputs": [
    {
     "data": {
      "text/plain": [
       "Parameter containing:\n",
       "tensor([[[-0.0947, -0.0845,  0.0127,  ...,  0.1289, -0.0781,  0.1367],\n",
       "         [ 0.0293,  0.1069,  0.0042,  ...,  0.0767, -0.1338, -0.0284],\n",
       "         [ 0.0042,  0.1328,  0.0064,  ..., -0.1074,  0.0133,  0.0664],\n",
       "         ...,\n",
       "         [-0.1064, -0.0840, -0.0189,  ...,  0.0104, -0.0133, -0.1113],\n",
       "         [-0.0194,  0.1060, -0.0442,  ...,  0.0630, -0.0260, -0.0304],\n",
       "         [-0.0295,  0.0090,  0.0825,  ..., -0.0317, -0.0461,  0.1133]]],\n",
       "       device='cuda:0', dtype=torch.bfloat16, requires_grad=True)"
      ]
     },
     "execution_count": 83,
     "metadata": {},
     "output_type": "execute_result"
    }
   ],
   "source": [
    "p"
   ]
  },
  {
   "cell_type": "code",
   "execution_count": 84,
   "id": "9a8bc059-2ea8-4826-ab4e-2e517187da18",
   "metadata": {},
   "outputs": [
    {
     "data": {
      "text/plain": [
       "221184"
      ]
     },
     "execution_count": 84,
     "metadata": {},
     "output_type": "execute_result"
    }
   ],
   "source": [
    "torch.numel(p)"
   ]
  },
  {
   "cell_type": "code",
   "execution_count": 85,
   "id": "0536fdca-30a4-4b56-881d-33b99e3530b6",
   "metadata": {},
   "outputs": [],
   "source": [
    "v=0\n",
    "for n, p in tiny_hiera.named_parameters():\n",
    "    v+=torch.numel(p)"
   ]
  },
  {
   "cell_type": "code",
   "execution_count": 86,
   "id": "5ad04539-d696-40db-b6a0-6e43ae1baab8",
   "metadata": {},
   "outputs": [
    {
     "data": {
      "text/plain": [
       "4403272"
      ]
     },
     "execution_count": 86,
     "metadata": {},
     "output_type": "execute_result"
    }
   ],
   "source": [
    "v"
   ]
  },
  {
   "cell_type": "code",
   "execution_count": 88,
   "id": "a64e7b96-46fd-4186-97e6-ad05720fed6e",
   "metadata": {},
   "outputs": [
    {
     "data": {
      "text/plain": [
       "2048"
      ]
     },
     "execution_count": 88,
     "metadata": {},
     "output_type": "execute_result"
    }
   ],
   "source": [
    "4*32*16"
   ]
  },
  {
   "cell_type": "code",
   "execution_count": null,
   "id": "6a20daf1-64cd-4caa-9f78-764d1eb02e6d",
   "metadata": {},
   "outputs": [],
   "source": []
  }
 ],
 "metadata": {
  "kernelspec": {
   "display_name": "Python 3 (ipykernel)",
   "language": "python",
   "name": "python3"
  },
  "language_info": {
   "codemirror_mode": {
    "name": "ipython",
    "version": 3
   },
   "file_extension": ".py",
   "mimetype": "text/x-python",
   "name": "python",
   "nbconvert_exporter": "python",
   "pygments_lexer": "ipython3",
   "version": "3.10.12"
  }
 },
 "nbformat": 4,
 "nbformat_minor": 5
}
