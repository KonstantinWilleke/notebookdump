{
 "cells": [
  {
   "cell_type": "code",
   "execution_count": null,
   "id": "ffcac82d-b118-43f5-8952-f32200006475",
   "metadata": {},
   "outputs": [],
   "source": []
  },
  {
   "cell_type": "code",
   "execution_count": null,
   "id": "4d1d9eaf-8d6f-4d96-8507-55b7bc56fe14",
   "metadata": {},
   "outputs": [],
   "source": []
  },
  {
   "cell_type": "code",
   "execution_count": 1,
   "id": "d8ede4b6-6eca-4a27-aded-e08edc3972fe",
   "metadata": {},
   "outputs": [],
   "source": [
    "import torch\n",
    "import matplotlib.pyplot as plt"
   ]
  },
  {
   "cell_type": "code",
   "execution_count": 2,
   "id": "6d34535c-aec8-4cfd-a46d-2bd5d1f45c79",
   "metadata": {},
   "outputs": [],
   "source": [
    "import torch.nn as nn"
   ]
  },
  {
   "cell_type": "code",
   "execution_count": 12,
   "id": "ba6e706a-1db9-4d8a-91f4-50da5c8288f7",
   "metadata": {},
   "outputs": [
    {
     "data": {
      "text/plain": [
       "[<matplotlib.lines.Line2D at 0x7f43f936be20>]"
      ]
     },
     "execution_count": 12,
     "metadata": {},
     "output_type": "execute_result"
    },
    {
     "data": {
      "image/png": "[encoded data removed]",
      "text/plain": [
       "<Figure size 640x480 with 1 Axes>"
      ]
     },
     "metadata": {},
     "output_type": "display_data"
    }
   ],
   "source": [
    "act1 = nn.Softplus(beta=.75)\n",
    "act2 = nn.ELU()\n",
    "x = torch.randn(10000,)*2\n",
    "y1 = act1(x)\n",
    "y2 = act2(x)+1\n",
    "plt.plot(x.numpy(), y1.numpy(), 'r.')\n",
    "plt.plot(x.numpy(), y2.numpy(), 'k.')"
   ]
  },
  {
   "cell_type": "code",
   "execution_count": null,
   "id": "1108467a-ae59-4dbf-a55b-3b35ca980548",
   "metadata": {},
   "outputs": [],
   "source": []
  },
  {
   "cell_type": "code",
   "execution_count": 1,
   "id": "8df70a83-863a-41ab-8361-8fcce3634d3a",
   "metadata": {},
   "outputs": [],
   "source": [
    "import os\n",
    "os.environ['CUDA_VISIBLE_DEVICES'] = '0'"
   ]
  },
  {
   "cell_type": "code",
   "execution_count": 2,
   "id": "293c138d-55ff-4de0-904a-4449479c48e8",
   "metadata": {
    "editable": true,
    "slideshow": {
     "slide_type": ""
    },
    "tags": []
   },
   "outputs": [],
   "source": [
    "%matplotlib inline\n",
    "%load_ext autoreload\n",
    "%autoreload 2\n",
    "\n",
    "import numpy as np\n",
    "import matplotlib.pyplot as plt\n",
    "from os import path\n",
    "\n",
    "from torch import nn\n",
    "from torch.nn import functional as F\n",
    "from torch.nn.functional import scaled_dot_product_attention\n",
    "from torch.nn.attention import SDPBackend, sdpa_kernel\n",
    "from tqdm import tqdm\n",
    "from einops import rearrange\n",
    "from torch.optim import AdamW, Adam\n",
    "\n",
    "import torch\n",
    "from torch.utils.data import DataLoader\n",
    "from tqdm import tqdm\n",
    "from omegaconf import OmegaConf, open_dict\n",
    "from experanto.datasets import ChunkDataset, SimpleChunkedDataset\n",
    "from experanto.utils import LongCycler, MultiEpochsDataLoader\n",
    "from experanto.dataloaders import get_multisession_dataloader\n"
   ]
  },
  {
   "cell_type": "code",
   "execution_count": 3,
   "id": "178fae80-70f0-4f84-a43f-b9f1e7d820f5",
   "metadata": {},
   "outputs": [],
   "source": [
    "paths = ['dynamic29513-3-5-Video-full',\n",
    "         'dynamic29514-2-9-Video-full',\n",
    "         'dynamic29755-2-8-Video-full',\n",
    "         'dynamic29647-19-8-Video-full',\n",
    "         'dynamic29156-11-10-Video-full',\n",
    "         'dynamic29623-4-9-Video-full',\n",
    "         'dynamic29515-10-12-Video-full',\n",
    "         'dynamic29234-6-9-Video-full',\n",
    "         'dynamic29712-5-9-Video-full',\n",
    "         'dynamic29228-2-10-Video-full'\n",
    "        ]\n",
    "full_paths = [path.join(\"/data/mouse_polly/\", f) for f in paths]"
   ]
  },
  {
   "cell_type": "markdown",
   "id": "75bc8f6f-e509-4ba0-a181-68dc72672ae1",
   "metadata": {},
   "source": [
    "## Load Config Object from .yaml file"
   ]
  },
  {
   "cell_type": "markdown",
   "id": "f84c8c98-e667-4a40-8ad6-20c5e05390b0",
   "metadata": {},
   "source": [
    "### Modify the config"
   ]
  },
  {
   "cell_type": "code",
   "execution_count": 4,
   "id": "28a4a9b8-fe4d-46d8-84ab-292cc1531bcf",
   "metadata": {
    "scrolled": true
   },
   "outputs": [],
   "source": [
    "from experanto.configs import DEFAULT_CONFIG as cfg\n",
    "cfg.dataset.global_chunk_size = 16\n",
    "cfg.dataset.global_sampling_rate = 8\n",
    "cfg.dataset.modality_config.screen.include_blanks=True\n",
    "cfg.dataset.modality_config.screen.valid_condition = {\"tier\": \"train\"}\n",
    "cfg.dataloader.num_workers=4\n",
    "cfg.dataloader.prefetch_factor=1\n",
    "cfg.dataloader.batch_size=32\n",
    "cfg.dataloader.pin_memory=True"
   ]
  },
  {
   "cell_type": "code",
   "execution_count": 7,
   "id": "0c997bc2-5e3d-48d1-81bf-a1d5f54a7b25",
   "metadata": {},
   "outputs": [],
   "source": [
    "cfg.dataset.modality_config.responses.transforms.standardize=True\n"
   ]
  },
  {
   "cell_type": "markdown",
   "id": "7d900e8b-6150-4839-9c90-06ad1192e6d2",
   "metadata": {},
   "source": [
    "### Instantiate MultiDataloader"
   ]
  },
  {
   "cell_type": "code",
   "execution_count": 8,
   "id": "cac12c18-b7da-45f0-83e0-f56d6f932c88",
   "metadata": {},
   "outputs": [
    {
     "ename": "NameError",
     "evalue": "name 'asdasd' is not defined",
     "output_type": "error",
     "traceback": [
      "\u001b[0;31m---------------------------------------------------------------------------\u001b[0m",
      "\u001b[0;31mNameError\u001b[0m                                 Traceback (most recent call last)",
      "Cell \u001b[0;32mIn[8], line 2\u001b[0m\n\u001b[1;32m      1\u001b[0m \u001b[38;5;66;03m# the multiple dataloader is an iterator that returns a tuple of (key, batch)\u001b[39;00m\n\u001b[0;32m----> 2\u001b[0m train_dl \u001b[38;5;241m=\u001b[39m \u001b[43mget_multisession_dataloader\u001b[49m\u001b[43m(\u001b[49m\u001b[43mfull_paths\u001b[49m\u001b[43m[\u001b[49m\u001b[43m:\u001b[49m\u001b[38;5;241;43m1\u001b[39;49m\u001b[43m]\u001b[49m\u001b[43m,\u001b[49m\u001b[43m \u001b[49m\u001b[43mcfg\u001b[49m\u001b[43m)\u001b[49m\n",
      "File \u001b[0;32m/data/experanto/experanto/dataloaders.py:13\u001b[0m, in \u001b[0;36mget_multisession_dataloader\u001b[0;34m(paths, config)\u001b[0m\n\u001b[1;32m     11\u001b[0m \u001b[38;5;28;01mfor\u001b[39;00m i, path \u001b[38;5;129;01min\u001b[39;00m \u001b[38;5;28menumerate\u001b[39m(paths):\n\u001b[1;32m     12\u001b[0m     dataset_name \u001b[38;5;241m=\u001b[39m path\u001b[38;5;241m.\u001b[39msplit(\u001b[38;5;124m\"\u001b[39m\u001b[38;5;124mdynamic\u001b[39m\u001b[38;5;124m\"\u001b[39m)[\u001b[38;5;241m1\u001b[39m]\u001b[38;5;241m.\u001b[39msplit(\u001b[38;5;124m\"\u001b[39m\u001b[38;5;124m-Video\u001b[39m\u001b[38;5;124m\"\u001b[39m)[\u001b[38;5;241m0\u001b[39m]\n\u001b[0;32m---> 13\u001b[0m     dataset \u001b[38;5;241m=\u001b[39m \u001b[43mChunkDataset\u001b[49m\u001b[43m(\u001b[49m\u001b[43mpath\u001b[49m\u001b[43m,\u001b[49m\u001b[43m \u001b[49m\u001b[38;5;241;43m*\u001b[39;49m\u001b[38;5;241;43m*\u001b[39;49m\u001b[43mconfig\u001b[49m\u001b[38;5;241;43m.\u001b[39;49m\u001b[43mdataset\u001b[49m\u001b[43m,\u001b[49m\u001b[43m)\u001b[49m\n\u001b[1;32m     14\u001b[0m     dataloaders[dataset_name] \u001b[38;5;241m=\u001b[39m MultiEpochsDataLoader(dataset,\n\u001b[1;32m     15\u001b[0m                                            \u001b[38;5;241m*\u001b[39m\u001b[38;5;241m*\u001b[39mconfig\u001b[38;5;241m.\u001b[39mdataloader,\n\u001b[1;32m     16\u001b[0m                                            )\n\u001b[1;32m     17\u001b[0m \u001b[38;5;28;01mreturn\u001b[39;00m LongCycler(dataloaders)\n",
      "File \u001b[0;32m/data/experanto/experanto/datasets.py:338\u001b[0m, in \u001b[0;36mChunkDataset.__init__\u001b[0;34m(self, root_folder, global_sampling_rate, global_chunk_size, modality_config)\u001b[0m\n\u001b[1;32m    336\u001b[0m \u001b[38;5;66;03m# the _valid_screen_times are the indices from which the starting points for the chunks will be taken\u001b[39;00m\n\u001b[1;32m    337\u001b[0m \u001b[38;5;28mself\u001b[39m\u001b[38;5;241m.\u001b[39m_valid_screen_times \u001b[38;5;241m=\u001b[39m \u001b[38;5;28mself\u001b[39m\u001b[38;5;241m.\u001b[39m_full_valid_sample_times[::\u001b[38;5;28mself\u001b[39m\u001b[38;5;241m.\u001b[39msample_stride]\n\u001b[0;32m--> 338\u001b[0m \u001b[38;5;28mself\u001b[39m\u001b[38;5;241m.\u001b[39mtransforms \u001b[38;5;241m=\u001b[39m \u001b[38;5;28;43mself\u001b[39;49m\u001b[38;5;241;43m.\u001b[39;49m\u001b[43minitialize_transforms\u001b[49m\u001b[43m(\u001b[49m\u001b[43m)\u001b[49m\n",
      "File \u001b[0;32m/data/experanto/experanto/datasets.py:372\u001b[0m, in \u001b[0;36mChunkDataset.initialize_transforms\u001b[0;34m(self)\u001b[0m\n\u001b[1;32m    370\u001b[0m     f \u001b[38;5;241m=\u001b[39m \u001b[38;5;28;01mlambda\u001b[39;00m x: torch\u001b[38;5;241m.\u001b[39mfrom_numpy((x \u001b[38;5;241m-\u001b[39m \u001b[38;5;28mself\u001b[39m\u001b[38;5;241m.\u001b[39m_statistics[device_name][\u001b[38;5;124m\"\u001b[39m\u001b[38;5;124mmean\u001b[39m\u001b[38;5;124m\"\u001b[39m]) \u001b[38;5;241m/\u001b[39m \u001b[38;5;28mself\u001b[39m\u001b[38;5;241m.\u001b[39m_statistics[device_name][\u001b[38;5;124m\"\u001b[39m\u001b[38;5;124mstd\u001b[39m\u001b[38;5;124m\"\u001b[39m])\n\u001b[1;32m    371\u001b[0m \u001b[38;5;28;01melif\u001b[39;00m \u001b[38;5;28mself\u001b[39m\u001b[38;5;241m.\u001b[39mmodality_config[device_name]\u001b[38;5;241m.\u001b[39mtransforms\u001b[38;5;241m.\u001b[39mget(\u001b[38;5;124m\"\u001b[39m\u001b[38;5;124mstandardize\u001b[39m\u001b[38;5;124m\"\u001b[39m, \u001b[38;5;28;01mFalse\u001b[39;00m):\n\u001b[0;32m--> 372\u001b[0m     \u001b[43masdasd\u001b[49m\n\u001b[1;32m    373\u001b[0m     f \u001b[38;5;241m=\u001b[39m \u001b[38;5;28;01mlambda\u001b[39;00m x:torch\u001b[38;5;241m.\u001b[39mfrom_numpy(x \u001b[38;5;241m/\u001b[39m \u001b[38;5;28mself\u001b[39m\u001b[38;5;241m.\u001b[39m_statistics[device_name][\u001b[38;5;124m\"\u001b[39m\u001b[38;5;124mstd\u001b[39m\u001b[38;5;124m\"\u001b[39m])\n\u001b[1;32m    374\u001b[0m \u001b[38;5;28;01melse\u001b[39;00m:\n",
      "\u001b[0;31mNameError\u001b[0m: name 'asdasd' is not defined"
     ]
    }
   ],
   "source": [
    "# the multiple dataloader is an iterator that returns a tuple of (key, batch)\n",
    "train_dl = get_multisession_dataloader(full_paths[:1], cfg)"
   ]
  },
  {
   "cell_type": "code",
   "execution_count": 6,
   "id": "75f57e12-e6ad-4978-94c3-f3679943d86e",
   "metadata": {},
   "outputs": [],
   "source": [
    "for k, v in train_dl.loaders.items():\n",
    "    pass"
   ]
  },
  {
   "cell_type": "code",
   "execution_count": 7,
   "id": "a2517da9-433f-46e1-b891-96d9139d50c7",
   "metadata": {},
   "outputs": [],
   "source": [
    "b_norm = next(iter(v))\n"
   ]
  },
  {
   "cell_type": "code",
   "execution_count": 20,
   "id": "4dbae719-6cc7-4625-98db-13187fb87607",
   "metadata": {},
   "outputs": [
    {
     "data": {
      "text/plain": [
       "(0.0, 500.0)"
      ]
     },
     "execution_count": 20,
     "metadata": {},
     "output_type": "execute_result"
    },
    {
     "data": {
      "image/png": "[encoded data removed]",
      "text/plain": [
       "<Figure size 640x480 with 1 Axes>"
      ]
     },
     "metadata": {},
     "output_type": "display_data"
    }
   ],
   "source": [
    "plt.hist(b_norm[\"responses\"].flatten().numpy(), np.linspace(0,10,1000));\n",
    "plt.ylim([0,500])"
   ]
  },
  {
   "cell_type": "code",
   "execution_count": 21,
   "id": "8777a1e7-ffdf-4365-bcba-46d3c9de7967",
   "metadata": {},
   "outputs": [
    {
     "data": {
      "text/plain": [
       "(0.0, 500.0)"
      ]
     },
     "execution_count": 21,
     "metadata": {},
     "output_type": "execute_result"
    },
    {
     "data": {
      "image/png": "[encoded data removed]",
      "text/plain": [
       "<Figure size 640x480 with 1 Axes>"
      ]
     },
     "metadata": {},
     "output_type": "display_data"
    }
   ],
   "source": [
    "plt.hist(b[\"responses\"].flatten().numpy(), np.linspace(0,10,1000));\n",
    "plt.ylim([0,500])"
   ]
  },
  {
   "cell_type": "code",
   "execution_count": null,
   "id": "c0b89b32-525e-44a6-b824-052798625068",
   "metadata": {},
   "outputs": [],
   "source": []
  },
  {
   "cell_type": "markdown",
   "id": "3b673f17-97bf-4efd-aa2a-725b99df0546",
   "metadata": {},
   "source": [
    "## new dataloader"
   ]
  },
  {
   "cell_type": "code",
   "execution_count": 8,
   "id": "d9b01595-9962-47da-a29e-be82b3687446",
   "metadata": {},
   "outputs": [],
   "source": [
    "from experanto.configs import DEFAULT_CONFIG as cfg\n",
    "cfg.dataset.global_chunk_size = 16\n",
    "cfg.dataset.global_sampling_rate = 8\n",
    "cfg.dataset.modality_config.screen.include_blanks=True\n",
    "cfg.dataset.modality_config.screen.valid_condition = {\"tier\": \"train\"}\n",
    "cfg.dataloader.num_workers=4\n",
    "cfg.dataloader.prefetch_factor=1\n",
    "cfg.dataloader.batch_size=32\n",
    "cfg.dataloader.pin_memory=True"
   ]
  },
  {
   "cell_type": "code",
   "execution_count": 10,
   "id": "bdc92fc8-45b4-4491-829d-b9a3fe928937",
   "metadata": {},
   "outputs": [],
   "source": [
    "cfg.dataset.modality_config.responses.transforms = {'standardize': False}\n",
    "\n"
   ]
  },
  {
   "cell_type": "code",
   "execution_count": 11,
   "id": "6a8e8713-d766-4341-80c6-2067e5cabc90",
   "metadata": {},
   "outputs": [],
   "source": [
    "# the multiple dataloader is an iterator that returns a tuple of (key, batch)\n",
    "newdl = get_multisession_dataloader(full_paths[:1], cfg)"
   ]
  },
  {
   "cell_type": "code",
   "execution_count": 12,
   "id": "14dac861-c5a8-4348-906f-7cde969eadba",
   "metadata": {},
   "outputs": [],
   "source": [
    "for k, v in newdl.loaders.items():\n",
    "    pass"
   ]
  },
  {
   "cell_type": "code",
   "execution_count": null,
   "id": "674f714f-26be-4628-8ef3-e34b206cad00",
   "metadata": {},
   "outputs": [],
   "source": []
  },
  {
   "cell_type": "code",
   "execution_count": null,
   "id": "8d5f4f39-41c8-43b2-b2e3-ffaa24b48e87",
   "metadata": {},
   "outputs": [],
   "source": []
  },
  {
   "cell_type": "code",
   "execution_count": null,
   "id": "bf5c91a1-3610-4165-a284-2057c2fcdce9",
   "metadata": {},
   "outputs": [],
   "source": []
  },
  {
   "cell_type": "code",
   "execution_count": null,
   "id": "9dd2efc4-1b9c-4727-8bfd-5bd9c5c19130",
   "metadata": {},
   "outputs": [],
   "source": [
    "for k1, v1 in val_dl.loaders[\"29514-2-9\"].dataset._statistics.items():\n",
    "    for k, v in v1.items():\n",
    "        print(k1, k, v.shape)"
   ]
  },
  {
   "cell_type": "code",
   "execution_count": 125,
   "id": "508ab5da-d0c7-4e42-a69e-37505948b0a3",
   "metadata": {},
   "outputs": [],
   "source": [
    "dataset = val_dl.loaders[\"29514-2-9\"].dataset"
   ]
  },
  {
   "cell_type": "code",
   "execution_count": 17,
   "id": "15b6528a-82d5-4264-b8a7-ce9b8bbcf230",
   "metadata": {},
   "outputs": [
    {
     "ename": "NameError",
     "evalue": "name 'dataset' is not defined",
     "output_type": "error",
     "traceback": [
      "\u001b[0;31m---------------------------------------------------------------------------\u001b[0m",
      "\u001b[0;31mNameError\u001b[0m                                 Traceback (most recent call last)",
      "Cell \u001b[0;32mIn[17], line 1\u001b[0m\n\u001b[0;32m----> 1\u001b[0m \u001b[38;5;28;01mfor\u001b[39;00m device, device_dict \u001b[38;5;129;01min\u001b[39;00m \u001b[43mdataset\u001b[49m\u001b[38;5;241m.\u001b[39m_statistics\u001b[38;5;241m.\u001b[39mitems():\n\u001b[1;32m      2\u001b[0m     \u001b[38;5;28;01mfor\u001b[39;00m statistic, value \u001b[38;5;129;01min\u001b[39;00m device_dict\u001b[38;5;241m.\u001b[39mitems():\n\u001b[1;32m      3\u001b[0m         \u001b[38;5;28mprint\u001b[39m(device, statistic, value\u001b[38;5;241m.\u001b[39mshape)\n",
      "\u001b[0;31mNameError\u001b[0m: name 'dataset' is not defined"
     ]
    }
   ],
   "source": [
    "for device, device_dict in dataset._statistics.items():\n",
    "    for statistic, value in device_dict.items():\n",
    "        print(device, statistic, value.shape)"
   ]
  },
  {
   "cell_type": "code",
   "execution_count": 149,
   "id": "5b27f6a0-766d-4614-a5fb-1108b5cb4791",
   "metadata": {},
   "outputs": [
    {
     "data": {
      "text/plain": [
       "PosixPath('/data/mouse_polly/dynamic29514-2-9-Video-full/responses')"
      ]
     },
     "execution_count": 149,
     "metadata": {},
     "output_type": "execute_result"
    }
   ],
   "source": [
    "dataset._experiment.devices[\"responses\"].root_folder"
   ]
  },
  {
   "cell_type": "code",
   "execution_count": 133,
   "id": "4dddf680-bc89-4912-ad3d-ed3089a6d610",
   "metadata": {},
   "outputs": [],
   "source": [
    "full_data = np.array(dataset._experiment.devices[\"responses\"]._data)"
   ]
  },
  {
   "cell_type": "code",
   "execution_count": 141,
   "id": "aa974639-17cc-45ad-821c-16df81d0de89",
   "metadata": {},
   "outputs": [],
   "source": [
    "whathwhat = dataset._statistics[\"responses\"][\"std\"]"
   ]
  },
  {
   "cell_type": "code",
   "execution_count": 143,
   "id": "dfecb0ff-a12b-4655-9651-b336d62bbf78",
   "metadata": {
    "scrolled": true
   },
   "outputs": [
    {
     "data": {
      "text/plain": [
       "(array([6.567e+03, 7.250e+02, 1.390e+02, 4.400e+01, 1.100e+01, 4.000e+00,\n",
       "        1.000e+00, 1.000e+00, 1.000e+00, 2.000e+00]),\n",
       " array([ 0.1998329 ,  7.54468289, 14.88953287, 22.23438285, 29.57923283,\n",
       "        36.92408282, 44.2689328 , 51.61378278, 58.95863276, 66.30348275,\n",
       "        73.64833273]),\n",
       " <BarContainer object of 10 artists>)"
      ]
     },
     "execution_count": 143,
     "metadata": {},
     "output_type": "execute_result"
    },
    {
     "data": {
      "image/png": "[encoded data removed]",
      "text/plain": [
       "<Figure size 640x480 with 1 Axes>"
      ]
     },
     "metadata": {},
     "output_type": "display_data"
    }
   ],
   "source": [
    "plt.hist(dataset._statistics[\"responses\"][\"std\"].squeeze())"
   ]
  },
  {
   "cell_type": "code",
   "execution_count": null,
   "id": "5a4a244a-fc51-4b7b-86c8-1d4ca718d100",
   "metadata": {},
   "outputs": [],
   "source": []
  },
  {
   "cell_type": "code",
   "execution_count": 104,
   "id": "c16afb23-176c-4d3a-924b-9086ea649d49",
   "metadata": {},
   "outputs": [],
   "source": [
    "cfg.dataset.modality_config.screen.valid_condition = {\"tier\": \"final_test_3\"}"
   ]
  }
 ],
 "metadata": {
  "kernelspec": {
   "display_name": "Python 3 (ipykernel)",
   "language": "python",
   "name": "python3"
  },
  "language_info": {
   "codemirror_mode": {
    "name": "ipython",
    "version": 3
   },
   "file_extension": ".py",
   "mimetype": "text/x-python",
   "name": "python",
   "nbconvert_exporter": "python",
   "pygments_lexer": "ipython3",
   "version": "3.10.12"
  }
 },
 "nbformat": 4,
 "nbformat_minor": 5
}
