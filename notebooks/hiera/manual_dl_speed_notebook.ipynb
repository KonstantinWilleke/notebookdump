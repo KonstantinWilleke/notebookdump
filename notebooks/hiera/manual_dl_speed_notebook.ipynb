{
 "cells": [
  {
   "cell_type": "code",
   "execution_count": 1,
   "id": "637b327b-4b4d-4ed9-9918-818e5825c2c9",
   "metadata": {},
   "outputs": [],
   "source": [
    "import os\n",
    "os.environ['CUDA_VISIBLE_DEVICES'] = '4'\n",
    "\n",
    "%matplotlib inline\n",
    "%load_ext autoreload\n",
    "%autoreload 2\n",
    "\n",
    "import numpy as np\n",
    "import matplotlib.pyplot as plt\n",
    "from os import path\n",
    "\n",
    "from tqdm import tqdm\n",
    "\n",
    "import torch\n",
    "from torch import nn\n",
    "from torch.nn import functional as F\n",
    "from torch.nn.functional import scaled_dot_product_attention\n",
    "from torch.nn.attention import SDPBackend, sdpa_kernel\n",
    "from torch.optim import AdamW, Adam\n",
    "from torch import autocast, GradScaler\n",
    "\n",
    "from omegaconf import OmegaConf, open_dict\n",
    "\n",
    "torch.backends.cuda.matmul.allow_tf32 = True\n",
    "torch.set_float32_matmul_precision('high')"
   ]
  },
  {
   "cell_type": "code",
   "execution_count": 2,
   "id": "00ecf779-64e2-4c53-930c-4bc96109fa37",
   "metadata": {},
   "outputs": [],
   "source": [
    "# additional packages\n",
    "# pip install hiera-transformer\n",
    "# pip install -U pytorch_warmup"
   ]
  },
  {
   "cell_type": "markdown",
   "id": "6d4f5a3f-8720-4222-a63c-b3605b61c5e7",
   "metadata": {},
   "source": [
    "# Hyperparameters"
   ]
  },
  {
   "cell_type": "code",
   "execution_count": 3,
   "id": "4d8aa514-908e-4e00-af7a-06830084b132",
   "metadata": {},
   "outputs": [],
   "source": [
    "video_size = [36, 64]\n",
    "batchsize=16\n",
    "\n",
    "screen_chunk_size = 60\n",
    "screen_sampling_rate = 30\n",
    "\n",
    "response_chunk_size = 8\n",
    "response_sampling_rate = 8\n",
    "\n",
    "behavior_as_channels = True\n",
    "replace_nans_with_means = True\n",
    "\n",
    "dim_head = 64\n",
    "num_heads = 2\n",
    "drop_path_rate = 0\n",
    "mlp_ratio=4"
   ]
  },
  {
   "cell_type": "markdown",
   "id": "72a43689-cdb6-4443-a57d-0a227fb65d45",
   "metadata": {},
   "source": [
    "### get dataloaders"
   ]
  },
  {
   "cell_type": "code",
   "execution_count": 4,
   "id": "40f1c64c-31a4-4391-85ef-6f35d7085c3f",
   "metadata": {},
   "outputs": [],
   "source": [
    "paths = ['dynamic29513-3-5-Video-full',\n",
    "         'dynamic29514-2-9-Video-full',\n",
    "         'dynamic29755-2-8-Video-full',\n",
    "         'dynamic29647-19-8-Video-full',\n",
    "         'dynamic29156-11-10-Video-full',\n",
    "         'dynamic29623-4-9-Video-full',\n",
    "         'dynamic29515-10-12-Video-full',\n",
    "         'dynamic29234-6-9-Video-full',\n",
    "         'dynamic29712-5-9-Video-full',\n",
    "         'dynamic29228-2-10-Video-full'\n",
    "        ]\n",
    "\n",
    "full_paths = [path.join(\"/data/mouse_polly/\", f) for f in paths]"
   ]
  },
  {
   "cell_type": "code",
   "execution_count": 5,
   "id": "f45877ce-6e7d-4cda-8ef1-0a993007ac8c",
   "metadata": {},
   "outputs": [],
   "source": [
    "# dataloader\n",
    "video_size = [36, 64]\n",
    "batchsize=16\n",
    "screen_chunk_size = 60\n",
    "screen_sampling_rate = 30\n",
    "response_chunk_size = 8\n",
    "response_sampling_rate = 8\n",
    "behavior_as_channels = True\n",
    "replace_nans_with_means = True\n",
    "num_workers = 2\n",
    "prefetch_factor = 2\n",
    "pin_memory = True\n",
    "shuffle = True\n",
    "\n",
    "# hiera args\n",
    "hiera_num_heads=  3\n",
    "hiera_embed_dim = 96\n",
    "hiera_stages = (2, 1,) # 3 transformer layers \n",
    "hiera_q_pool = 1\n",
    "hiera_in_chans = 6\n",
    "hiera_q_stride = (1, 1, 1,)\n",
    "hiera_mask_unit_size = (1, 8, 8)\n",
    "hiera_patch_kernel = (5, 5, 5)\n",
    "hiera_patch_stride = (3, 2, 2)\n",
    "hiera_patch_padding = (1, 2, 2)\n",
    "hiera_sep_pos_embed = True\n",
    "hiera_drop_path_rate = 0\n",
    "hiera_mlp_ratio =  4\n",
    "\n",
    "\n",
    "# readout args\n",
    "dim_head = 64\n",
    "num_heads = 2\n",
    "readout_mlp_ratio=4\n",
    "readout_softmax_beta=0.1\n",
    "readout_use_session_embedding=False\n",
    "readout_skip_connection=True\n",
    "\n",
    "\n",
    "# Training\n",
    "lr = 7e-4\n",
    "T_max = 5e5\n",
    "eta_min = 1e-5\n",
    "weight_decay=0.01\n",
    "gradient_clipping = 1.0\n"
   ]
  },
  {
   "cell_type": "code",
   "execution_count": 8,
   "id": "f1e38a4f-a213-46c0-b2de-035ab1fba6c6",
   "metadata": {},
   "outputs": [],
   "source": [
    "from experanto.dataloaders import get_multisession_dataloader\n",
    "from experanto.configs import DEFAULT_CONFIG as cfg"
   ]
  },
  {
   "cell_type": "code",
   "execution_count": 13,
   "id": "a5e5b246-5be9-4542-9fa5-267f677c0272",
   "metadata": {
    "scrolled": true
   },
   "outputs": [
    {
     "name": "stderr",
     "output_type": "stream",
     "text": [
      "Exception in thread Thread-23 (_pin_memory_loop):\n",
      "Traceback (most recent call last):\n",
      "  File \"/usr/lib/python3.10/threading.py\", line 1016, in _bootstrap_inner\n",
      "Exception in thread Thread-19 (_pin_memory_loop):\n",
      "Traceback (most recent call last):\n",
      "  File \"/usr/lib/python3.10/threading.py\", line 1016, in _bootstrap_inner\n",
      "    self.run()\n",
      "  File \"/usr/local/lib/python3.10/dist-packages/ipykernel/ipkernel.py\", line 766, in run_closure\n",
      "    self.run()\n",
      "  File \"/usr/local/lib/python3.10/dist-packages/ipykernel/ipkernel.py\", line 766, in run_closure\n",
      "    _threading_Thread_run(self)\n",
      "  File \"/usr/lib/python3.10/threading.py\", line 953, in run\n",
      "    _threading_Thread_run(self)\n",
      "  File \"/usr/lib/python3.10/threading.py\", line 953, in run\n",
      "    self._target(*self._args, **self._kwargs)\n",
      "  File \"/usr/local/lib/python3.10/dist-packages/torch/utils/data/_utils/pin_memory.py\", line 59, in _pin_memory_loop\n",
      "    self._target(*self._args, **self._kwargs)\n",
      "  File \"/usr/local/lib/python3.10/dist-packages/torch/utils/data/_utils/pin_memory.py\", line 59, in _pin_memory_loop\n",
      "    do_one_step()\n",
      "  File \"/usr/local/lib/python3.10/dist-packages/torch/utils/data/_utils/pin_memory.py\", line 35, in do_one_step\n",
      "    r = in_queue.get(timeout=MP_STATUS_CHECK_INTERVAL)\n",
      "  File \"/usr/lib/python3.10/multiprocessing/queues.py\", line 122, in get\n",
      "    do_one_step()\n",
      "  File \"/usr/local/lib/python3.10/dist-packages/torch/utils/data/_utils/pin_memory.py\", line 35, in do_one_step\n",
      "    return _ForkingPickler.loads(res)\n",
      "  File \"/usr/local/lib/python3.10/dist-packages/torch/multiprocessing/reductions.py\", line 541, in rebuild_storage_fd\n",
      "    r = in_queue.get(timeout=MP_STATUS_CHECK_INTERVAL)Exception in thread Thread-22 (_pin_memory_loop):\n",
      "Traceback (most recent call last):\n",
      "  File \"/usr/lib/python3.10/threading.py\", line 1016, in _bootstrap_inner\n",
      "    fd = df.detach()\n",
      "  File \"/usr/lib/python3.10/multiprocessing/resource_sharer.py\", line 57, in detach\n",
      "    self.run()\n",
      "  File \"/usr/local/lib/python3.10/dist-packages/ipykernel/ipkernel.py\", line 766, in run_closure\n",
      "\n",
      "  File \"/usr/lib/python3.10/multiprocessing/queues.py\", line 122, in get\n",
      "    _threading_Thread_run(self)\n",
      "  File \"/usr/lib/python3.10/threading.py\", line 953, in run\n",
      "    with _resource_sharer.get_connection(self._id) as conn:\n",
      "  File \"/usr/lib/python3.10/multiprocessing/resource_sharer.py\", line 86, in get_connection\n",
      "    self._target(*self._args, **self._kwargs)\n",
      "  File \"/usr/local/lib/python3.10/dist-packages/torch/utils/data/_utils/pin_memory.py\", line 59, in _pin_memory_loop\n",
      "    return _ForkingPickler.loads(res)\n",
      "  File \"/usr/local/lib/python3.10/dist-packages/torch/multiprocessing/reductions.py\", line 541, in rebuild_storage_fd\n",
      "    c = Client(address, authkey=process.current_process().authkey)\n",
      "  File \"/usr/lib/python3.10/multiprocessing/connection.py\", line 502, in Client\n",
      "Exception in thread Thread-24 (_pin_memory_loop):\n",
      "Traceback (most recent call last):\n",
      "  File \"/usr/lib/python3.10/threading.py\", line 1016, in _bootstrap_inner\n",
      "    do_one_step()\n",
      "  File \"/usr/local/lib/python3.10/dist-packages/torch/utils/data/_utils/pin_memory.py\", line 35, in do_one_step\n",
      "    Exception in thread Thread-21 (_pin_memory_loop):\n",
      "Traceback (most recent call last):\n",
      "  File \"/usr/lib/python3.10/threading.py\", line 1016, in _bootstrap_inner\n",
      "r = in_queue.get(timeout=MP_STATUS_CHECK_INTERVAL)\n",
      "  File \"/usr/lib/python3.10/multiprocessing/queues.py\", line 122, in get\n",
      "    c = SocketClient(address)\n",
      "  File \"/usr/lib/python3.10/multiprocessing/connection.py\", line 630, in SocketClient\n",
      "    return _ForkingPickler.loads(res)\n",
      "  File \"/usr/local/lib/python3.10/dist-packages/torch/multiprocessing/reductions.py\", line 541, in rebuild_storage_fd\n",
      "    self.run()\n",
      "  File \"/usr/local/lib/python3.10/dist-packages/ipykernel/ipkernel.py\", line 766, in run_closure\n",
      "    fd = df.detach()\n",
      "  File \"/usr/lib/python3.10/multiprocessing/resource_sharer.py\", line 57, in detach\n",
      "    _threading_Thread_run(self)\n",
      "  File \"/usr/lib/python3.10/threading.py\", line 953, in run\n",
      "    fd = df.detach()\n",
      "  File \"/usr/lib/python3.10/multiprocessing/resource_sharer.py\", line 57, in detach\n",
      "    with _resource_sharer.get_connection(self._id) as conn:\n",
      "  File \"/usr/lib/python3.10/multiprocessing/resource_sharer.py\", line 86, in get_connection\n",
      "    s.connect(address)\n",
      "FileNotFoundError: [Errno 2] No such file or directory\n",
      "    c = Client(address, authkey=process.current_process().authkey)\n",
      "  File \"/usr/lib/python3.10/multiprocessing/connection.py\", line 502, in Client\n",
      "    self._target(*self._args, **self._kwargs)\n",
      "  File \"/usr/local/lib/python3.10/dist-packages/torch/utils/data/_utils/pin_memory.py\", line 59, in _pin_memory_loop\n",
      "    self.run()\n",
      "  File \"/usr/local/lib/python3.10/dist-packages/ipykernel/ipkernel.py\", line 766, in run_closure\n",
      "    do_one_step()\n",
      "  File \"/usr/local/lib/python3.10/dist-packages/torch/utils/data/_utils/pin_memory.py\", line 35, in do_one_step\n",
      "    with _resource_sharer.get_connection(self._id) as conn:\n",
      "  File \"/usr/lib/python3.10/multiprocessing/resource_sharer.py\", line 86, in get_connection\n",
      "    c = SocketClient(address)\n",
      "  File \"/usr/lib/python3.10/multiprocessing/connection.py\", line 630, in SocketClient\n",
      "    r = in_queue.get(timeout=MP_STATUS_CHECK_INTERVAL)\n",
      "  File \"/usr/lib/python3.10/multiprocessing/queues.py\", line 122, in get\n",
      "    s.connect(address)\n",
      "FileNotFoundError: [Errno 2] No such file or directory\n",
      "    return _ForkingPickler.loads(res)\n",
      "  File \"/usr/local/lib/python3.10/dist-packages/torch/multiprocessing/reductions.py\", line 541, in rebuild_storage_fd\n",
      "    fd = df.detach()\n",
      "  File \"/usr/lib/python3.10/multiprocessing/resource_sharer.py\", line 57, in detach\n",
      "    c = Client(address, authkey=process.current_process().authkey)\n",
      "  File \"/usr/lib/python3.10/multiprocessing/connection.py\", line 502, in Client\n",
      "    with _resource_sharer.get_connection(self._id) as conn:\n",
      "  File \"/usr/lib/python3.10/multiprocessing/resource_sharer.py\", line 86, in get_connection\n",
      "    _threading_Thread_run(self)\n",
      "  File \"/usr/lib/python3.10/threading.py\", line 953, in run\n",
      "    c = SocketClient(address)\n",
      "  File \"/usr/lib/python3.10/multiprocessing/connection.py\", line 630, in SocketClient\n",
      "    c = Client(address, authkey=process.current_process().authkey)\n",
      "  File \"/usr/lib/python3.10/multiprocessing/connection.py\", line 502, in Client\n",
      "    self._target(*self._args, **self._kwargs)\n",
      "  File \"/usr/local/lib/python3.10/dist-packages/torch/utils/data/_utils/pin_memory.py\", line 59, in _pin_memory_loop\n",
      "    c = SocketClient(address)\n",
      "  File \"/usr/lib/python3.10/multiprocessing/connection.py\", line 630, in SocketClient\n",
      "    s.connect(address)\n",
      "FileNotFoundError: [Errno 2] No such file or directory\n",
      "    s.connect(address)\n",
      "FileNotFoundError: [Errno 2] No such file or directory\n",
      "Exception in thread Thread-17 (_pin_memory_loop):\n",
      "Traceback (most recent call last):\n",
      "  File \"/usr/lib/python3.10/threading.py\", line 1016, in _bootstrap_inner\n",
      "        self.run()\n",
      "  File \"/usr/local/lib/python3.10/dist-packages/ipykernel/ipkernel.py\", line 766, in run_closure\n",
      "do_one_step()\n",
      "  File \"/usr/local/lib/python3.10/dist-packages/torch/utils/data/_utils/pin_memory.py\", line 35, in do_one_step\n",
      "    _threading_Thread_run(self)\n",
      "  File \"/usr/lib/python3.10/threading.py\", line 953, in run\n",
      "    r = in_queue.get(timeout=MP_STATUS_CHECK_INTERVAL)\n",
      "  File \"/usr/lib/python3.10/multiprocessing/queues.py\", line 122, in get\n",
      "    self._target(*self._args, **self._kwargs)\n",
      "  File \"/usr/local/lib/python3.10/dist-packages/torch/utils/data/_utils/pin_memory.py\", line 59, in _pin_memory_loop\n",
      "    do_one_step()\n",
      "  File \"/usr/local/lib/python3.10/dist-packages/torch/utils/data/_utils/pin_memory.py\", line 35, in do_one_step\n",
      "    return _ForkingPickler.loads(res)\n",
      "  File \"/usr/local/lib/python3.10/dist-packages/torch/multiprocessing/reductions.py\", line 541, in rebuild_storage_fd\n",
      "    r = in_queue.get(timeout=MP_STATUS_CHECK_INTERVAL)\n",
      "  File \"/usr/lib/python3.10/multiprocessing/queues.py\", line 122, in get\n",
      "    return _ForkingPickler.loads(res)\n",
      "  File \"/usr/local/lib/python3.10/dist-packages/torch/multiprocessing/reductions.py\", line 541, in rebuild_storage_fd\n",
      "    fd = df.detach()\n",
      "  File \"/usr/lib/python3.10/multiprocessing/resource_sharer.py\", line 57, in detach\n",
      "    fd = df.detach()\n",
      "  File \"/usr/lib/python3.10/multiprocessing/resource_sharer.py\", line 57, in detach\n",
      "    with _resource_sharer.get_connection(self._id) as conn:\n",
      "  File \"/usr/lib/python3.10/multiprocessing/resource_sharer.py\", line 86, in get_connection\n",
      "    with _resource_sharer.get_connection(self._id) as conn:\n",
      "  File \"/usr/lib/python3.10/multiprocessing/resource_sharer.py\", line 86, in get_connection\n",
      "    c = Client(address, authkey=process.current_process().authkey)\n",
      "  File \"/usr/lib/python3.10/multiprocessing/connection.py\", line 502, in Client\n",
      "    c = Client(address, authkey=process.current_process().authkey)\n",
      "  File \"/usr/lib/python3.10/multiprocessing/connection.py\", line 502, in Client\n",
      "    c = SocketClient(address)\n",
      "  File \"/usr/lib/python3.10/multiprocessing/connection.py\", line 630, in SocketClient\n",
      "    s.connect(address)\n",
      "FileNotFoundError: [Errno 2] No such file or directory\n",
      "    c = SocketClient(address)\n",
      "  File \"/usr/lib/python3.10/multiprocessing/connection.py\", line 630, in SocketClient\n",
      "    s.connect(address)\n",
      "FileNotFoundError: [Errno 2] No such file or directory\n"
     ]
    }
   ],
   "source": [
    "with open_dict(cfg):\n",
    "    cfg.dataset.add_behavior_as_channels = behavior_as_channels\n",
    "    cfg.dataset.replace_nans_with_means = replace_nans_with_means\n",
    "cfg.dataset.global_chunk_size = None\n",
    "cfg.dataset.global_chunk_size = None\n",
    "cfg.dataset.global_sampling_rate = None\n",
    "\n",
    "cfg.dataset.modality_config.screen.chunk_size = screen_chunk_size\n",
    "cfg.dataset.modality_config.screen.sampling_rate = screen_sampling_rate\n",
    "cfg.dataset.modality_config.eye_tracker.chunk_size = screen_chunk_size\n",
    "cfg.dataset.modality_config.eye_tracker.sampling_rate = screen_sampling_rate\n",
    "cfg.dataset.modality_config.treadmill.chunk_size = screen_chunk_size\n",
    "cfg.dataset.modality_config.treadmill.sampling_rate = screen_sampling_rate\n",
    "\n",
    "cfg.dataset.modality_config.responses.chunk_size = response_chunk_size\n",
    "cfg.dataset.modality_config.responses.sampling_rate = response_sampling_rate\n",
    "\n",
    "cfg.dataset.modality_config.screen.sample_stride = 1\n",
    "cfg.dataset.modality_config.screen.include_blanks=True\n",
    "cfg.dataset.modality_config.screen.valid_condition = {\"tier\": \"train\"}\n",
    "\n",
    "cfg.dataloader.num_workers = 2\n",
    "cfg.dataloader.prefetch_factor = 2\n",
    "cfg.dataloader.batch_size = batchsize\n",
    "cfg.dataloader.pin_memory = True\n",
    "cfg.dataloader.shuffle = True\n",
    "\n",
    "train_dl = get_multisession_dataloader(full_paths, cfg)"
   ]
  },
  {
   "cell_type": "markdown",
   "id": "9a6b47a7-c1c8-47c0-a377-a10a95e09014",
   "metadata": {},
   "source": [
    "### without cuda transer"
   ]
  },
  {
   "cell_type": "code",
   "execution_count": 14,
   "id": "7d10f9a3-ba8e-468c-9343-3f17bcdc0e4c",
   "metadata": {},
   "outputs": [
    {
     "name": "stderr",
     "output_type": "stream",
     "text": [
      "832it [00:38, 21.55it/s]\n",
      "\n",
      "KeyboardInterrupt\n",
      "\n"
     ]
    }
   ],
   "source": [
    "for i, (key, batch) in tqdm(enumerate(train_dl)):\n",
    "    videos = batch[\"screen\"]#.to(\"cuda\", torch.float32, non_blocking=True).transpose(1,2)\n",
    "    responses = batch[\"responses\"]#.to(\"cuda\", torch.float32, non_blocking=True)"
   ]
  },
  {
   "cell_type": "markdown",
   "id": "ae47dfea-3015-4532-aa0b-1eb4976a6fca",
   "metadata": {},
   "source": [
    "### with cuda transer"
   ]
  },
  {
   "cell_type": "code",
   "execution_count": 11,
   "id": "bbde2f09-a965-42c4-874c-1bc5547ae1dd",
   "metadata": {},
   "outputs": [
    {
     "data": {
      "text/plain": [
       "22080"
      ]
     },
     "execution_count": 11,
     "metadata": {},
     "output_type": "execute_result"
    }
   ],
   "source": [
    "for i, (key, batch) in tqdm(enumerate(train_dl)):\n",
    "    videos = batch[\"screen\"]#.to(\"cuda\", torch.float32, non_blocking=True).transpose(1,2)\n",
    "    responses = batch[\"responses\"]#.to(\"cuda\", torch.float32, non_blocking=True)"
   ]
  },
  {
   "cell_type": "markdown",
   "id": "9d14b18d-346d-48c4-b12e-e7b8e0f28820",
   "metadata": {},
   "source": [
    "### get Hiera backbone"
   ]
  },
  {
   "cell_type": "code",
   "execution_count": 6,
   "id": "ecc0b8f9-b374-479f-b166-801bf9d22851",
   "metadata": {},
   "outputs": [
    {
     "name": "stderr",
     "output_type": "stream",
     "text": [
      "/usr/local/lib/python3.10/dist-packages/tqdm/auto.py:21: TqdmWarning: IProgress not found. Please update jupyter and ipywidgets. See https://ipywidgets.readthedocs.io/en/stable/user_install.html\n",
      "  from .autonotebook import tqdm as notebook_tqdm\n"
     ]
    },
    {
     "data": {
      "text/plain": [
       "torch.Size([8, 10, 18, 32, 192])"
      ]
     },
     "execution_count": 6,
     "metadata": {},
     "output_type": "execute_result"
    }
   ],
   "source": [
    "# pip install hiera-transformer\n",
    "from hiera import Hiera\n",
    "tiny_hiera = Hiera(input_size=(screen_chunk_size, video_size[0], video_size[1]),\n",
    "                     num_heads=3,\n",
    "                     embed_dim=96,\n",
    "                     stages=(2, 1,), # 3 transformer layers \n",
    "                     q_pool=1, \n",
    "                     in_chans= 6 if behavior_as_channels else 1,\n",
    "                     q_stride=(1, 1, 1,),\n",
    "                     mask_unit_size=(1, 8, 8),\n",
    "                     patch_kernel=(5, 5, 5),\n",
    "                     patch_stride=(3, 2, 2),\n",
    "                     patch_padding=(1, 2, 2),\n",
    "                     sep_pos_embed=True,\n",
    "                     drop_path_rate=drop_path_rate,\n",
    "                     mlp_ratio=4,)\n",
    "\n",
    "tiny_hiera = tiny_hiera.cuda().to(torch.float32);\n",
    "example_input = torch.ones(8, 6, screen_chunk_size, 36,64).to(\"cuda\", torch.float32)\n",
    "out = tiny_hiera(example_input, return_intermediates=True);\n",
    "\n",
    "hiera_output = out[-1][-1]\n",
    "hiera_output.shape # (b, t, h, w, c): (8, 4, 9, 16, 192)"
   ]
  },
  {
   "cell_type": "markdown",
   "id": "700e892e-0e01-4fda-bec9-13179f415692",
   "metadata": {},
   "source": [
    "# Model definition"
   ]
  },
  {
   "cell_type": "code",
   "execution_count": 7,
   "id": "fbce1ed2-9c69-43e0-91c9-a35fc2e4b6c2",
   "metadata": {},
   "outputs": [],
   "source": [
    "class MouseHiera(nn.Module):\n",
    "    def __init__(self,\n",
    "                 backbone,\n",
    "                 dls,\n",
    "                 chunk_size,\n",
    "                 dim=192,\n",
    "                 dim_head=32,\n",
    "                 num_heads=4,\n",
    "                 mlp_ratio=4,):\n",
    "        super().__init__()\n",
    "        self.backbone=backbone\n",
    "        self.num_heads=num_heads\n",
    "        self.dim_head=dim_head\n",
    "        self.dim=dim\n",
    "        self.dim_q = dim_head*num_heads\n",
    "        self.wq = nn.Linear(self.dim_q, self.dim_q, bias=False)\n",
    "        self.wk = nn.Linear(dim, self.dim_q, bias=False)\n",
    "        self.wv = nn.Linear(dim, self.dim_q, bias=False)\n",
    "        self.wo = nn.Linear(self.dim_q, self.dim_q, bias=False)\n",
    "        \n",
    "        self.neuron_proj = nn.Linear(self.dim_q, chunk_size, bias=False)\n",
    "        \n",
    "        \n",
    "        self.kv_norm=torch.nn.RMSNorm(dim)\n",
    "        self.q_norm=torch.nn.RMSNorm(self.dim_q)\n",
    "        self.qkv_norm=torch.nn.RMSNorm(self.dim_q)\n",
    "        self.mlp = MLP(dim=self.dim_q, hidden_dim=int(self.dim_q * mlp_ratio))\n",
    "        self.readout = nn.ModuleDict()\n",
    "        self.activation = nn.Softplus(beta=0.1) # probably a much better activation than ELU+1\n",
    "        for k, v in dls.loaders.items():\n",
    "            n_neurons = next(iter(v))[\"responses\"].shape[-1]\n",
    "            self.readout[k] = IndexedLinearReadout(n_neurons, \n",
    "                                                   in_features=dim_head*num_heads,\n",
    "                                                   dim_head=dim_head, \n",
    "                                                   num_heads=num_heads, \n",
    "                                                  )\n",
    "        self.init_weights()\n",
    "\n",
    "    def forward(self, x, key):\n",
    "        x = self.backbone(x, return_intermediates=True)[-1][-1]\n",
    "        b, t, h, w, d = x.shape\n",
    "        x = self.kv_norm(x)\n",
    "        x = x.view(b, -1, d) # (B, t*h*w, D)\n",
    "        k, v = self.wk(x), self.wv(x)\n",
    "        q = self.q_norm(self.readout[key].query) # (1, N, D)\n",
    "        q = q.repeat(b, 1, 1) # repeat query for number of batches\n",
    "        q_attn = self.wq(q)\n",
    "        q_attn = q_attn.view(b, -1, self.num_heads, self.dim_head).transpose(1, 2)\n",
    "        k = k.view(b, -1, self.num_heads, self.dim_head).transpose(1, 2) # (B, H, S, D)\n",
    "        v = v.view(b, -1, self.num_heads, self.dim_head).transpose(1, 2) # (B, H, S, D)\n",
    "        with sdpa_kernel(SDPBackend.FLASH_ATTENTION):\n",
    "            o = F.scaled_dot_product_attention(q_attn, k, v)\n",
    "        # (B, H, S, D) -> (B, N, D), with N = num_neurons\n",
    "        o = o.transpose(1,2).contiguous().view(b, -1, self.dim_q)\n",
    "        o = self.wo(o) + q\n",
    "        o = self.qkv_norm(o)  \n",
    "        o = self.mlp(o) + o\n",
    "        o = self.neuron_proj(o) # (B, N, D) -> (B, N, t)\n",
    "        o = o + self.readout[key].bias\n",
    "        o = self.activation(o)\n",
    "        return o\n",
    "     \n",
    "    def init_weights(self, std=.5, cutoff_factor: int = 3):\n",
    "        \"\"\"See `TorchTitan <https://github.com/pytorch/torchtitan/blob/40a10263c5b3468ffa53b3ac98d80c9267d68155/torchtitan/models/llama/model.py#L403>`__.\"\"\"\n",
    "        std = self.dim_q**-0.5\n",
    "        for lin in (self.wq, self.wk, self.wv, self.wo):\n",
    "            nn.init.trunc_normal_(\n",
    "                lin.weight,\n",
    "                mean=0.0,\n",
    "                std=std,\n",
    "                a=-cutoff_factor * std,\n",
    "                b=cutoff_factor * std,\n",
    "            )"
   ]
  },
  {
   "cell_type": "code",
   "execution_count": 8,
   "id": "c67d0ee7-016f-4046-bfd9-ae084ac69cac",
   "metadata": {},
   "outputs": [],
   "source": [
    "class MLP(nn.Module):\n",
    "    def __init__(self, dim, hidden_dim):\n",
    "        super().__init__()\n",
    "        self.net = nn.Sequential(\n",
    "            nn.Linear(dim, hidden_dim),\n",
    "            nn.GELU(),\n",
    "            nn.Linear(hidden_dim, dim),\n",
    "        )\n",
    "        self.init_weights()\n",
    "\n",
    "    def forward(self, x):\n",
    "        return self.net(x)\n",
    "        \n",
    "    def init_weights(self, std=.5, cutoff_factor: int = 3):\n",
    "        \"\"\"See `TorchTitan <https://github.com/pytorch/torchtitan/blob/40a10263c5b3468ffa53b3ac98d80c9267d68155/torchtitan/models/llama/model.py#L403>`__.\"\"\"\n",
    "        nn.init.trunc_normal_(\n",
    "            self.net[0].weight,\n",
    "            mean=0.0,\n",
    "            std=std,\n",
    "            a=-cutoff_factor * std,\n",
    "            b=cutoff_factor * std,\n",
    "        )\n",
    "        nn.init.trunc_normal_(\n",
    "            self.net[2].weight,\n",
    "            mean=0.0,\n",
    "            std=std,\n",
    "            a=-cutoff_factor * std,\n",
    "            b=cutoff_factor * std,\n",
    "        )\n",
    "        self.net[0].bias.data.zero_()\n",
    "        self.net[2].bias.data.zero_()\n",
    "        "
   ]
  },
  {
   "cell_type": "code",
   "execution_count": 9,
   "id": "f07a6270-174c-42d7-8f19-2591ca4ddb1b",
   "metadata": {},
   "outputs": [],
   "source": [
    "class IndexedLinearReadout(nn.Module):\n",
    "    \"\"\"\n",
    "    Readout module for MTM models with selectable weights based on \n",
    "    input IDs. Based on :class:`torch.nn.Linear`.\n",
    "    \"\"\"\n",
    "    def __init__(\n",
    "        self,\n",
    "        unique_ids: int,\n",
    "        in_features: int = 384,\n",
    "        dim_head=32,\n",
    "        num_heads=4,\n",
    "        bias: bool = True,\n",
    "        device=\"cuda\",\n",
    "        dtype=torch.float32,\n",
    "        init_std: float = 0.02,\n",
    "    ):\n",
    "        super().__init__()\n",
    "        factory_kwargs = {\"device\": device, \"dtype\": dtype}\n",
    "        self.unique_ids = unique_ids\n",
    "        self.in_features = in_features\n",
    "        self.init_std = init_std\n",
    "        self.query = nn.Parameter(\n",
    "            torch.empty(1, unique_ids, dim_head*num_heads, **factory_kwargs)\n",
    "        )\n",
    "        if bias:\n",
    "            self.bias = nn.Parameter(\n",
    "                torch.empty(1, unique_ids, 1, **factory_kwargs)\n",
    "            )\n",
    "        else:\n",
    "            self.register_parameter('bias', None)\n",
    "        self.init_weights()\n",
    "\n",
    "    def init_weights(self, cutoff_factor: int = 3):\n",
    "        \"\"\"See `TorchTitan <https://github.com/pytorch/torchtitan/blob/40a10263c5b3468ffa53b3ac98d80c9267d68155/torchtitan/models/llama/model.py#L403>`__.\"\"\"\n",
    "        readout_std = self.in_features**-0.5\n",
    "        nn.init.trunc_normal_(\n",
    "            self.query,\n",
    "            mean=0.0,\n",
    "            std=readout_std,\n",
    "            a=-cutoff_factor * readout_std,\n",
    "            b=cutoff_factor * readout_std,\n",
    "        )\n",
    "        if self.bias is not None:\n",
    "            self.bias.data.zero_()"
   ]
  },
  {
   "cell_type": "markdown",
   "id": "0dddde36-dfd5-44b3-8961-b67d970422a5",
   "metadata": {},
   "source": [
    "### Build Model"
   ]
  },
  {
   "cell_type": "code",
   "execution_count": 10,
   "id": "512db87e-b274-4208-9579-0c36d322d213",
   "metadata": {},
   "outputs": [],
   "source": [
    "backbone_dim = hiera_output[-1][-1].shape[-1]\n",
    "model = MouseHiera(backbone=tiny_hiera, \n",
    "                        dls=train_dl, \n",
    "                        chunk_size=response_chunk_size,\n",
    "                        dim=backbone_dim, \n",
    "                        dim_head=dim_head,\n",
    "                        num_heads=num_heads,\n",
    "                       mlp_ratio=mlp_ratio)\n",
    "model = model.to(torch.float32).cuda();"
   ]
  },
  {
   "cell_type": "markdown",
   "id": "53db1feb-d92b-426b-925e-5ae114465d83",
   "metadata": {},
   "source": [
    "# Trainer"
   ]
  },
  {
   "cell_type": "code",
   "execution_count": 11,
   "id": "ce03e89e-23d5-4cbe-b96e-8ecb2cee2d1d",
   "metadata": {},
   "outputs": [],
   "source": [
    "# pip install -U pytorch_warmup\n",
    "import pytorch_warmup as warmup\n",
    "lr = 7e-4\n",
    "T_max = 5e5\n",
    "eta_min = 1e-5\n",
    "weight_decay=0.01\n",
    "\n",
    "gradient_clipping = 1.0\n",
    "criteria = nn.PoissonNLLLoss(log_input=False, reduction='mean')\n",
    "opt = AdamW(model.parameters(), lr=lr, weight_decay=weight_decay)\n",
    "lr_scheduler = torch.optim.lr_scheduler.CosineAnnealingLR(opt,\n",
    "                                                          T_max=T_max, \n",
    "                                                          eta_min=eta_min)\n",
    "warmup_scheduler = warmup.UntunedLinearWarmup(opt)"
   ]
  },
  {
   "cell_type": "markdown",
   "id": "6fa9687b-b374-4555-b304-b0c8a295fd7f",
   "metadata": {
    "jp-MarkdownHeadingCollapsed": true
   },
   "source": [
    "# Logging"
   ]
  },
  {
   "cell_type": "code",
   "execution_count": 13,
   "id": "5cb6a9f2-7ba9-4a03-adfd-28e14aaf41fe",
   "metadata": {},
   "outputs": [],
   "source": [
    "import os\n",
    "import sys\n",
    "from omegaconf import DictConfig, ListConfig\n",
    "\n",
    "import hydra\n",
    "from hydra import utils\n",
    "import mlflow\n",
    "import torch\n",
    "import torch.nn as nn\n",
    "import torch.optim as optim\n",
    "from torchvision import transforms\n",
    "from torchvision.datasets import MNIST\n",
    "from torch.utils.data import DataLoader, random_split\n",
    "import mlflow\n",
    "\n",
    "mlflow.set_tracking_uri(\"http://at-mlflow.stanford.edu\")\n",
    "experiment_name = \"mousehiera-base-0\"\n",
    "current_experiment=dict(mlflow.get_experiment_by_name(experiment_name))\n",
    "experiment_id=current_experiment['experiment_id']"
   ]
  },
  {
   "cell_type": "markdown",
   "id": "1a91982d-a5f5-4a86-86c8-c04280570032",
   "metadata": {},
   "source": [
    "# train"
   ]
  },
  {
   "cell_type": "code",
   "execution_count": 14,
   "id": "2fa59f4a-4b2c-40ec-a83b-ece17dddaee8",
   "metadata": {
    "scrolled": true
   },
   "outputs": [
    {
     "name": "stderr",
     "output_type": "stream",
     "text": [
      "0it [00:00, ?it/s]\n",
      "2024/11/26 14:29:20 INFO mlflow.tracking._tracking_service.client: 🏃 View run sota_with_behavior_2_op3_v3 at: http://at-mlflow.stanford.edu/#/experiments/226994315416355842/runs/077a42ddd72b41eaa60337d8cd6acfa1.\n",
      "2024/11/26 14:29:20 INFO mlflow.tracking._tracking_service.client: 🧪 View experiment at: http://at-mlflow.stanford.edu/#/experiments/226994315416355842.\n"
     ]
    },
    {
     "ename": "NameError",
     "evalue": "name 'asdsadasdads' is not defined",
     "output_type": "error",
     "traceback": [
      "\u001b[0;31m---------------------------------------------------------------------------\u001b[0m",
      "\u001b[0;31mNameError\u001b[0m                                 Traceback (most recent call last)",
      "Cell \u001b[0;32mIn[14], line 15\u001b[0m\n\u001b[1;32m     13\u001b[0m \u001b[38;5;28;01mwith\u001b[39;00m autocast(device_type\u001b[38;5;241m=\u001b[39m\u001b[38;5;124m'\u001b[39m\u001b[38;5;124mcuda\u001b[39m\u001b[38;5;124m'\u001b[39m, dtype\u001b[38;5;241m=\u001b[39mtorch\u001b[38;5;241m.\u001b[39mbfloat16):\n\u001b[1;32m     14\u001b[0m     out \u001b[38;5;241m=\u001b[39m model(videos, key);\n\u001b[0;32m---> 15\u001b[0m \u001b[43masdsadasdads\u001b[49m\n\u001b[1;32m     16\u001b[0m loss \u001b[38;5;241m=\u001b[39m criteria(out\u001b[38;5;241m.\u001b[39mtranspose(\u001b[38;5;241m1\u001b[39m,\u001b[38;5;241m2\u001b[39m), responses)\n\u001b[1;32m     17\u001b[0m loss\u001b[38;5;241m.\u001b[39mbackward()\n",
      "\u001b[0;31mNameError\u001b[0m: name 'asdsadasdads' is not defined"
     ]
    }
   ],
   "source": [
    "n_epochs = 8\n",
    "import mlflow\n",
    "mlflow.set_tracking_uri(\"http://at-mlflow.stanford.edu\")\n",
    "with mlflow.start_run(\n",
    "    run_name=\"sota_with_behavior_2_op3_v3\",\n",
    "    experiment_id=experiment_id,\n",
    "    tags={\"version\": \"v1\", \"priority\": \"P1\"},\n",
    "    description=\"parent\",):\n",
    "    for _ in range(n_epochs):\n",
    "        for i, (key, batch) in tqdm(enumerate(train_dl)):\n",
    "            videos = batch[\"screen\"].to(\"cuda\", torch.float32, non_blocking=True).transpose(1,2)\n",
    "            responses = batch[\"responses\"].to(\"cuda\", torch.float32, non_blocking=True)\n",
    "            with autocast(device_type='cuda', dtype=torch.bfloat16):\n",
    "                out = model(videos, key);\n",
    "            loss = criteria(out.transpose(1,2), responses)\n",
    "            loss.backward()\n",
    "            torch.nn.utils.clip_grad_norm_(model.parameters(), max_norm=gradient_clipping, norm_type=2)\n",
    "            opt.step()\n",
    "            opt.zero_grad()\n",
    "            with warmup_scheduler.dampening():\n",
    "                lr_scheduler.step()\n",
    "            \n",
    "            if i % 100 == 0:\n",
    "                mlflow.log_metric(\"train/loss\", loss.item())\n",
    "            if i % 10000 == 0:\n",
    "                val_corr = val_step()\n",
    "                test_corr = test_step()\n",
    "                mlflow.log_metric(\"validation/correlation\", val_corr)\n",
    "                mlflow.log_metric(\"test/correlation\", test_corr)"
   ]
  },
  {
   "cell_type": "code",
   "execution_count": 16,
   "id": "5823c8d9-f201-4de6-a0d9-ef42a21bf93c",
   "metadata": {},
   "outputs": [
    {
     "data": {
      "text/plain": [
       "torch.Size([16, 8, 7671])"
      ]
     },
     "execution_count": 16,
     "metadata": {},
     "output_type": "execute_result"
    }
   ],
   "source": [
    "responses.shape"
   ]
  },
  {
   "cell_type": "code",
   "execution_count": null,
   "id": "ccb7d75c-05d7-453c-bfff-787afa3fa2f9",
   "metadata": {},
   "outputs": [],
   "source": []
  },
  {
   "cell_type": "markdown",
   "id": "ae5853c7-80ef-41b5-8e9a-0ffd8d6569fa",
   "metadata": {},
   "source": [
    "# Validation dataloader"
   ]
  },
  {
   "cell_type": "code",
   "execution_count": 14,
   "id": "27f562f0-b5c3-40e1-9d0c-830a4fd050d8",
   "metadata": {},
   "outputs": [
    {
     "name": "stderr",
     "output_type": "stream",
     "text": [
      "/usr/local/lib/python3.10/dist-packages/torchvision/transforms/v2/_deprecated.py:42: UserWarning: The transform `ToTensor()` is deprecated and will be removed in a future release. Instead, please use `v2.Compose([v2.ToImage(), v2.ToDtype(torch.float32, scale=True)])`.Output is equivalent up to float precision.\n",
      "  warnings.warn(\n"
     ]
    }
   ],
   "source": [
    "cfg.dataset.modality_config.screen.sample_stride = screen_chunk_size\n",
    "cfg.dataset.modality_config.screen.include_blanks=False\n",
    "cfg.dataset.modality_config.screen.valid_condition = {\"tier\": \"oracle\"}\n",
    "\n",
    "# example session\n",
    "val_dl = get_multisession_dataloader(full_paths[0:1], cfg)\n",
    "\n",
    "_, b = next(iter(val_dl))\n",
    "n_neurons = b[\"responses\"].shape[-1]"
   ]
  },
  {
   "cell_type": "code",
   "execution_count": 15,
   "id": "64cbe200-fa89-47f9-84dc-d77800010e05",
   "metadata": {},
   "outputs": [],
   "source": [
    "def val_step():\n",
    "    from torchmetrics.regression import PearsonCorrCoef\n",
    "    r = PearsonCorrCoef(num_outputs=n_neurons).cuda()\n",
    "    with torch.no_grad():\n",
    "        for i, (k, b) in tqdm(enumerate(val_dl)):\n",
    "            videos = b[\"screen\"].to(\"cuda\", torch.float32, non_blocking=True).permute(0,2,1,3,4)\n",
    "            responses = b[\"responses\"].to(\"cuda\", torch.float32, non_blocking=True)\n",
    "            with autocast(device_type='cuda', dtype=torch.bfloat16):\n",
    "                out = model(videos, k);\n",
    "            r.update(out.transpose(1,2).reshape(-1, n_neurons), responses.reshape(-1, n_neurons))\n",
    "    return r.compute().cpu().numpy().mean()"
   ]
  },
  {
   "cell_type": "code",
   "execution_count": 16,
   "id": "38759439-b2c9-4185-ba17-f13f2a7b42aa",
   "metadata": {},
   "outputs": [
    {
     "name": "stderr",
     "output_type": "stream",
     "text": [
      "33it [00:05,  6.47it/s]\n"
     ]
    },
    {
     "data": {
      "text/plain": [
       "np.float32(-0.0014251493)"
      ]
     },
     "execution_count": 16,
     "metadata": {},
     "output_type": "execute_result"
    }
   ],
   "source": [
    "val_step()"
   ]
  },
  {
   "cell_type": "markdown",
   "id": "395973c3-cc65-433e-b2f1-e1861f8cc13c",
   "metadata": {},
   "source": [
    "# Final Test Set Score"
   ]
  },
  {
   "cell_type": "code",
   "execution_count": 45,
   "id": "9699a4ac-c646-4919-93c8-58738449b3b6",
   "metadata": {},
   "outputs": [
    {
     "name": "stderr",
     "output_type": "stream",
     "text": [
      "/usr/local/lib/python3.10/dist-packages/torchvision/transforms/v2/_deprecated.py:42: UserWarning: The transform `ToTensor()` is deprecated and will be removed in a future release. Instead, please use `v2.Compose([v2.ToImage(), v2.ToDtype(torch.float32, scale=True)])`.Output is equivalent up to float precision.\n",
      "  warnings.warn(\n"
     ]
    }
   ],
   "source": [
    "cfg.dataset.modality_config.screen.sample_stride = screen_chunk_size\n",
    "cfg.dataset.modality_config.screen.include_blanks=False\n",
    "cfg.dataset.modality_config.screen.valid_condition = {\"tier\": \"final_test_1\"}\n",
    "\n",
    "# example session\n",
    "val_dl = get_multisession_dataloader(full_paths[0:1], cfg)\n",
    "\n",
    "_, b = next(iter(val_dl))\n",
    "n_neurons = b[\"responses\"].shape[-1]"
   ]
  },
  {
   "cell_type": "code",
   "execution_count": 18,
   "id": "ff02367f-4906-4d85-871f-a2435b463bc3",
   "metadata": {},
   "outputs": [],
   "source": [
    "def test_step():\n",
    "    from torchmetrics.regression import PearsonCorrCoef\n",
    "    r = PearsonCorrCoef(num_outputs=n_neurons).cuda()\n",
    "    with torch.no_grad():\n",
    "        for i, (k, b) in tqdm(enumerate(val_dl)):\n",
    "            videos = b[\"screen\"].to(\"cuda\", torch.float32, non_blocking=True).permute(0,2,1,3,4)\n",
    "            responses = b[\"responses\"].to(\"cuda\", torch.float32, non_blocking=True)\n",
    "            with autocast(device_type='cuda', dtype=torch.bfloat16):\n",
    "                out = model(videos, k);\n",
    "            r.update(out.transpose(1,2).reshape(-1, n_neurons), responses.reshape(-1, n_neurons))\n",
    "    return r.compute().cpu().numpy().mean()"
   ]
  },
  {
   "cell_type": "code",
   "execution_count": 19,
   "id": "1e412b1a-b796-43e5-bd63-fb354162cec8",
   "metadata": {},
   "outputs": [
    {
     "name": "stderr",
     "output_type": "stream",
     "text": [
      "34it [00:05,  6.16it/s]\n"
     ]
    },
    {
     "data": {
      "text/plain": [
       "np.float32(-0.0016125736)"
      ]
     },
     "execution_count": 19,
     "metadata": {},
     "output_type": "execute_result"
    }
   ],
   "source": [
    "test_step()"
   ]
  }
 ],
 "metadata": {
  "kernelspec": {
   "display_name": "Python 3 (ipykernel)",
   "language": "python",
   "name": "python3"
  },
  "language_info": {
   "codemirror_mode": {
    "name": "ipython",
    "version": 3
   },
   "file_extension": ".py",
   "mimetype": "text/x-python",
   "name": "python",
   "nbconvert_exporter": "python",
   "pygments_lexer": "ipython3",
   "version": "3.10.12"
  }
 },
 "nbformat": 4,
 "nbformat_minor": 5
}
