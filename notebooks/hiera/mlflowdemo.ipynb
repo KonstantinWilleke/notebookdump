{
 "cells": [
  {
   "cell_type": "code",
   "execution_count": 14,
   "id": "b03eff96-a2ba-447a-a3e8-e4b9bd9d93b6",
   "metadata": {},
   "outputs": [],
   "source": [
    "import os\n",
    "import sys\n",
    "from omegaconf import DictConfig, ListConfig\n",
    "\n",
    "import hydra\n",
    "from hydra import utils\n",
    "import mlflow\n",
    "import torch\n",
    "import torch.nn as nn\n",
    "import torch.optim as optim\n",
    "from torchvision import transforms\n",
    "from torchvision.datasets import MNIST\n",
    "from torch.utils.data import DataLoader, random_split\n"
   ]
  },
  {
   "cell_type": "code",
   "execution_count": 4,
   "id": "9fca914d-b4eb-4da0-ab58-35b06faa6dc7",
   "metadata": {},
   "outputs": [],
   "source": [
    "import mlflow\n",
    "mlflow.set_tracking_uri(\"http://at-compute015:5000/\")"
   ]
  },
  {
   "cell_type": "code",
   "execution_count": 8,
   "id": "68bc5173-33a9-4356-a47f-35b2ee682144",
   "metadata": {},
   "outputs": [],
   "source": [
    "def log_params_from_omegaconf_dict(params):\n",
    "    for param_name, element in params.items():\n",
    "        _explore_recursive(param_name, element)\n",
    "\n",
    "def _explore_recursive(parent_name, element):\n",
    "    if isinstance(element, DictConfig):\n",
    "        for k, v in element.items():\n",
    "            if isinstance(v, DictConfig) or isinstance(v, ListConfig):\n",
    "                _explore_recursive(f'{parent_name}.{k}', v)\n",
    "            else:\n",
    "                mlflow.log_param(f'{parent_name}.{k}', v)\n",
    "    elif isinstance(element, ListConfig):\n",
    "        for i, v in enumerate(element):\n",
    "            mlflow.log_param(f'{parent_name}.{i}', v)    "
   ]
  },
  {
   "cell_type": "code",
   "execution_count": 16,
   "id": "a86ec428-24b5-48bc-9bc3-dd96b6ecf623",
   "metadata": {},
   "outputs": [
    {
     "name": "stderr",
     "output_type": "stream",
     "text": [
      "2024/10/25 23:06:50 INFO mlflow.tracking._tracking_service.client: 🏃 View run PARENT_RUN at: http://at-compute015:5000/#/experiments/604526792052960403/runs/031660f3c7bd4713ae985a72ce26fae8.\n",
      "2024/10/25 23:06:50 INFO mlflow.tracking._tracking_service.client: 🧪 View experiment at: http://at-compute015:5000/#/experiments/604526792052960403.\n"
     ]
    }
   ],
   "source": [
    "import mlflow\n",
    "\n",
    "# Create nested runs\n",
    "experiment_id = mlflow.create_experiment(\"experiment4\")\n",
    "with mlflow.start_run(\n",
    "    run_name=\"PARENT_RUN\",\n",
    "    experiment_id=experiment_id,\n",
    "    tags={\"version\": \"v1\", \"priority\": \"P1\"},\n",
    "    description=\"parent\",):\n",
    "    \n",
    "    mlflow.log_param(\"lr\", 0.001)\n",
    "    # Your ml code\n",
    "    ...\n",
    "    mlflow.log_metric(\"val/loss\", 0.1)\n",
    "    log_params_from_omegaconf_dict(cfg)\n"
   ]
  },
  {
   "cell_type": "code",
   "execution_count": null,
   "id": "68ec6c47-b98b-44bc-b96a-ebf21c4f61ce",
   "metadata": {},
   "outputs": [],
   "source": [
    "\n",
    "# Search all child runs with a parent id\n",
    "query = f\"tags.mlflow.parentRunId = '{parent_run.info.run_id}'\"\n",
    "results = mlflow.search_runs(experiment_ids=[experiment_id], filter_string=query)\n",
    "print(\"child runs:\")\n",
    "print(results[[\"run_id\", \"params.child\", \"tags.mlflow.runName\"]])\n",
    "\n",
    "# Create a nested run under the existing parent run\n",
    "with mlflow.start_run(\n",
    "    run_name=\"NEW_CHILD_RUN\",\n",
    "    experiment_id=experiment_id,\n",
    "    description=\"new child\",\n",
    "    parent_run_id=parent_run.info.run_id,\n",
    ") as child_run:\n",
    "    mlflow.log_param(\"new-child\", \"yes\")"
   ]
  },
  {
   "cell_type": "code",
   "execution_count": 9,
   "id": "c2837404-ea47-4912-8dab-a97d285e6d12",
   "metadata": {},
   "outputs": [],
   "source": [
    "from experanto.configs import DEFAULT_CONFIG as cfg"
   ]
  }
 ],
 "metadata": {
  "kernelspec": {
   "display_name": "Python 3 (ipykernel)",
   "language": "python",
   "name": "python3"
  },
  "language_info": {
   "codemirror_mode": {
    "name": "ipython",
    "version": 3
   },
   "file_extension": ".py",
   "mimetype": "text/x-python",
   "name": "python",
   "nbconvert_exporter": "python",
   "pygments_lexer": "ipython3",
   "version": "3.10.12"
  }
 },
 "nbformat": 4,
 "nbformat_minor": 5
}
