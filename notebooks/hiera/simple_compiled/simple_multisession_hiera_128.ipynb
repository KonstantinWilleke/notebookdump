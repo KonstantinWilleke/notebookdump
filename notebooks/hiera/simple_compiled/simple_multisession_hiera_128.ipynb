{
 "cells": [
  {
   "cell_type": "code",
   "execution_count": null,
   "id": "753789e1-a3c2-4066-a3f6-093100e0a6d7",
   "metadata": {},
   "outputs": [],
   "source": [
    "# Final val corr: 0.12"
   ]
  },
  {
   "cell_type": "code",
   "execution_count": 2,
   "id": "637b327b-4b4d-4ed9-9918-818e5825c2c9",
   "metadata": {},
   "outputs": [
    {
     "name": "stdout",
     "output_type": "stream",
     "text": [
      "The autoreload extension is already loaded. To reload it, use:\n",
      "  %reload_ext autoreload\n"
     ]
    }
   ],
   "source": [
    "import os\n",
    "os.environ['CUDA_VISIBLE_DEVICES'] = '8'\n",
    "%matplotlib inline\n",
    "%load_ext autoreload\n",
    "%autoreload 2\n",
    "\n",
    "import numpy as np\n",
    "import matplotlib.pyplot as plt\n",
    "from os import path\n",
    "\n",
    "from torch import nn\n",
    "from torch.nn import functional as F\n",
    "from torch.nn.functional import scaled_dot_product_attention\n",
    "from torch.nn.attention import SDPBackend, sdpa_kernel\n",
    "from tqdm import tqdm\n",
    "from einops import rearrange\n",
    "from torch.optim import AdamW, Adam\n",
    "\n",
    "import torch\n",
    "from torch.utils.data import DataLoader\n",
    "from tqdm import tqdm\n",
    "from omegaconf import OmegaConf, open_dict\n",
    "from experanto.datasets import ChunkDataset, SimpleChunkedDataset\n",
    "from experanto.utils import LongCycler, MultiEpochsDataLoader"
   ]
  },
  {
   "cell_type": "code",
   "execution_count": 2,
   "id": "00ecf779-64e2-4c53-930c-4bc96109fa37",
   "metadata": {},
   "outputs": [],
   "source": [
    "# additional packages\n",
    "# pip install hiera-transformer\n",
    "# pip install -U pytorch_warmup"
   ]
  },
  {
   "cell_type": "markdown",
   "id": "6d4f5a3f-8720-4222-a63c-b3605b61c5e7",
   "metadata": {},
   "source": [
    "# Hyperparameters"
   ]
  },
  {
   "cell_type": "code",
   "execution_count": 3,
   "id": "4d8aa514-908e-4e00-af7a-06830084b132",
   "metadata": {},
   "outputs": [],
   "source": [
    "video_size = [72, 128]\n",
    "chunk_size = 8\n",
    "dim_head = 64\n",
    "num_heads = 2"
   ]
  },
  {
   "cell_type": "markdown",
   "id": "72a43689-cdb6-4443-a57d-0a227fb65d45",
   "metadata": {},
   "source": [
    "### get dataloaders"
   ]
  },
  {
   "cell_type": "code",
   "execution_count": 4,
   "id": "72edb2a0-b392-40be-9e1a-054aacb4593d",
   "metadata": {},
   "outputs": [],
   "source": [
    "from experanto.dataloaders import get_multisession_dataloader\n",
    "\n",
    "from experanto.configs import DEFAULT_CONFIG as cfg\n",
    "paths = ['dynamic29513-3-5-Video-full',\n",
    "         'dynamic29514-2-9-Video-full',\n",
    "         'dynamic29755-2-8-Video-full',\n",
    "         'dynamic29647-19-8-Video-full',\n",
    "         'dynamic29156-11-10-Video-full',\n",
    "         'dynamic29623-4-9-Video-full',\n",
    "         'dynamic29515-10-12-Video-full',\n",
    "         'dynamic29234-6-9-Video-full',\n",
    "         'dynamic29712-5-9-Video-full',\n",
    "         'dynamic29228-2-10-Video-full'\n",
    "        ]\n",
    "full_paths = [path.join(\"/data/mouse_polly/\", f) for f in paths]"
   ]
  },
  {
   "cell_type": "code",
   "execution_count": 5,
   "id": "40f1c64c-31a4-4391-85ef-6f35d7085c3f",
   "metadata": {},
   "outputs": [
    {
     "name": "stderr",
     "output_type": "stream",
     "text": [
      "/usr/local/lib/python3.10/dist-packages/torchvision/transforms/v2/_deprecated.py:42: UserWarning: The transform `ToTensor()` is deprecated and will be removed in a future release. Instead, please use `v2.Compose([v2.ToImage(), v2.ToDtype(torch.float32, scale=True)])`.Output is equivalent up to float precision.\n",
      "  warnings.warn(\n"
     ]
    }
   ],
   "source": [
    "cfg.dataset.global_chunk_size = 8\n",
    "cfg.dataset.global_sampling_rate = 8\n",
    "cfg.dataset.modality_config.screen.sample_stride = 8\n",
    "cfg.dataset.modality_config.screen.include_blanks=True\n",
    "cfg.dataset.modality_config.screen.valid_condition = {\"tier\": \"train\"}\n",
    "cfg.dataset.modality_config.screen.transforms.Resize.size = video_size\n",
    "\n",
    "cfg.dataloader.num_workers=4\n",
    "cfg.dataloader.prefetch_factor=1\n",
    "cfg.dataloader.batch_size=64\n",
    "cfg.dataloader.pin_memory=True\n",
    "cfg.dataloader.shuffle=True\n",
    "\n",
    "train_dl = get_multisession_dataloader(full_paths, cfg)"
   ]
  },
  {
   "cell_type": "markdown",
   "id": "9d14b18d-346d-48c4-b12e-e7b8e0f28820",
   "metadata": {},
   "source": [
    "### get Hiera backbone"
   ]
  },
  {
   "cell_type": "code",
   "execution_count": 6,
   "id": "ecc0b8f9-b374-479f-b166-801bf9d22851",
   "metadata": {},
   "outputs": [
    {
     "name": "stderr",
     "output_type": "stream",
     "text": [
      "/usr/local/lib/python3.10/dist-packages/tqdm/auto.py:21: TqdmWarning: IProgress not found. Please update jupyter and ipywidgets. See https://ipywidgets.readthedocs.io/en/stable/user_install.html\n",
      "  from .autonotebook import tqdm as notebook_tqdm\n"
     ]
    },
    {
     "data": {
      "text/plain": [
       "torch.Size([8, 4, 9, 16, 192])"
      ]
     },
     "execution_count": 6,
     "metadata": {},
     "output_type": "execute_result"
    }
   ],
   "source": [
    "# pip install hiera-transformer\n",
    "from hiera import Hiera\n",
    "tiny_hiera = Hiera(input_size=(chunk_size, video_size[0], video_size[1]),\n",
    "                     num_heads=1,\n",
    "                     embed_dim=96,\n",
    "                     stages=(2, 4), # 4 transformer layers \n",
    "                     q_pool=1, \n",
    "                     in_chans=1,\n",
    "                     q_stride=(1, 2, 2),\n",
    "                     mask_unit_size=(1, 8, 8),\n",
    "                     patch_kernel=(3, 8, 8),\n",
    "                     patch_stride=(2, 4, 4),\n",
    "                     patch_padding=(1, 3, 3),\n",
    "                     sep_pos_embed=True,)\n",
    "\n",
    "tiny_hiera = tiny_hiera.cuda().to(torch.bfloat16);\n",
    "example_input = torch.ones(8,1,8,72,128).to(\"cuda\", torch.bfloat16)\n",
    "out = tiny_hiera(example_input, return_intermediates=True);\n",
    "hiera_output = out[-1][-1]\n",
    "hiera_output.shape # (b, t, h, w, c): (8, 4, 9, 16, 192)\n"
   ]
  },
  {
   "cell_type": "markdown",
   "id": "700e892e-0e01-4fda-bec9-13179f415692",
   "metadata": {},
   "source": [
    "# Model definition"
   ]
  },
  {
   "cell_type": "code",
   "execution_count": 7,
   "id": "fbce1ed2-9c69-43e0-91c9-a35fc2e4b6c2",
   "metadata": {},
   "outputs": [],
   "source": [
    "class MouseHieraSmall(nn.Module):\n",
    "    def __init__(self,\n",
    "                 backbone,\n",
    "                 dls,\n",
    "                 chunk_size,\n",
    "                 dim=192,\n",
    "                 dim_head=32,\n",
    "                 num_heads=4):\n",
    "        super().__init__()\n",
    "        self.backbone=backbone\n",
    "        self.num_heads=num_heads\n",
    "        self.dim_head=dim_head\n",
    "        self.wk = nn.Linear(dim, dim_head * num_heads, bias=False)\n",
    "        self.wv = nn.Linear(dim, dim_head * num_heads, bias=False)\n",
    "        self.neuron_proj = nn.Linear(dim_head * num_heads, chunk_size, bias=False)\n",
    "        self.readout = nn.ModuleDict()\n",
    "        self.activation = nn.Softplus(beta=0.5) # probably a much better activation than ELU+1\n",
    "        for k, v in dls.loaders.items():\n",
    "            n_neurons = next(iter(v))[\"responses\"].shape[-1]\n",
    "            self.readout[k] = IndexedLinearReadout(n_neurons, \n",
    "                                                   in_features=dim_head*num_heads,\n",
    "                                                   dim_head=dim_head, \n",
    "                                                   num_heads=num_heads, \n",
    "                                                  )\n",
    "            \n",
    "    def forward(self, x, key):\n",
    "        x = self.backbone(x, return_intermediates=True)[1][-1]\n",
    "        b, t, h, w, d = x.shape\n",
    "        x = x.view(b, -1, d) # (B, t*h*w, D)\n",
    "        k, v = self.wk(x), self.wv(x)\n",
    "        q = self.readout[key].query\n",
    "        n = q.shape[2] # number of neurons\n",
    "        q = q.repeat(b, 1, 1, 1) # repeat query for number of batches\n",
    "        k = k.view(b, -1, self.num_heads, self.dim_head).transpose(1, 2) # (B, H, S, D)\n",
    "        v = v.view(b, -1, self.num_heads, self.dim_head).transpose(1, 2) # (B, H, S, D)\n",
    "        # remove if kernel is not available\n",
    "        with sdpa_kernel(SDPBackend.FLASH_ATTENTION):\n",
    "            o = F.scaled_dot_product_attention(q, k, v)\n",
    "            \n",
    "        # (B, H, S, D) -> (B, N, D), with N = num_neurons\n",
    "        o = o.transpose(1,2).contiguous().view(b, -1, self.num_heads * self.dim_head)\n",
    "        o = self.neuron_proj(o) # (B, N, D) -> (B, N, t)\n",
    "        o = o + self.readout[key].bias\n",
    "        o = self.activation(o)\n",
    "        return o"
   ]
  },
  {
   "cell_type": "markdown",
   "id": "528566e8-29c1-46a1-b4b3-2fea3b64da88",
   "metadata": {},
   "source": [
    "# Readout "
   ]
  },
  {
   "cell_type": "code",
   "execution_count": 8,
   "id": "f07a6270-174c-42d7-8f19-2591ca4ddb1b",
   "metadata": {},
   "outputs": [],
   "source": [
    "class IndexedLinearReadout(nn.Module):\n",
    "    \"\"\"\n",
    "    Readout module for MTM models with selectable weights based on \n",
    "    input IDs. Based on :class:`torch.nn.Linear`.\n",
    "    \"\"\"\n",
    "    def __init__(\n",
    "        self,\n",
    "        unique_ids: int,\n",
    "        in_features: int = 384,\n",
    "        dim_head=32,\n",
    "        num_heads=4,\n",
    "        bias: bool = True,\n",
    "        device=\"cuda\",\n",
    "        dtype=torch.float32,\n",
    "        init_std: float = 0.02,\n",
    "    ):\n",
    "        super().__init__()\n",
    "        factory_kwargs = {\"device\": device, \"dtype\": dtype}\n",
    "        self.unique_ids = unique_ids\n",
    "        self.in_features = in_features\n",
    "        self.init_std = init_std\n",
    "        self.query = nn.Parameter(\n",
    "            torch.empty(1, num_heads, unique_ids, dim_head, **factory_kwargs)\n",
    "        )\n",
    "        if bias:\n",
    "            self.bias = nn.Parameter(\n",
    "                torch.empty(1, unique_ids, 1, **factory_kwargs)\n",
    "            )\n",
    "        else:\n",
    "            self.register_parameter('bias', None)\n",
    "        self.init_weights()\n",
    "\n",
    "    def init_weights(self, cutoff_factor: int = 3):\n",
    "        \"\"\"See `TorchTitan <https://github.com/pytorch/torchtitan/blob/40a10263c5b3468ffa53b3ac98d80c9267d68155/torchtitan/models/llama/model.py#L403>`__.\"\"\"\n",
    "        readout_std = self.in_features**-0.5\n",
    "        nn.init.trunc_normal_(\n",
    "            self.query,\n",
    "            mean=0.0,\n",
    "            std=readout_std,\n",
    "            a=-cutoff_factor * readout_std,\n",
    "            b=cutoff_factor * readout_std,\n",
    "        )\n",
    "        if self.bias is not None:\n",
    "            self.bias.data.zero_()"
   ]
  },
  {
   "cell_type": "markdown",
   "id": "0dddde36-dfd5-44b3-8961-b67d970422a5",
   "metadata": {},
   "source": [
    "### Build Model"
   ]
  },
  {
   "cell_type": "code",
   "execution_count": 9,
   "id": "512db87e-b274-4208-9579-0c36d322d213",
   "metadata": {},
   "outputs": [],
   "source": [
    "backbone_dim = hiera_output[-1][-1].shape[-1]\n",
    "model = MouseHieraSmall(backbone=tiny_hiera, \n",
    "                        dls=train_dl, \n",
    "                        chunk_size=chunk_size,\n",
    "                        dim=backbone_dim, \n",
    "                        dim_head=dim_head,\n",
    "                        num_heads=num_heads)"
   ]
  },
  {
   "cell_type": "markdown",
   "id": "2a9c370d-db23-4fa6-8cb6-a34f3d72ae6a",
   "metadata": {},
   "source": [
    "### performance boosts"
   ]
  },
  {
   "cell_type": "code",
   "execution_count": 10,
   "id": "f7bb7bef-0c85-4b4a-b072-dba2e947617c",
   "metadata": {},
   "outputs": [],
   "source": [
    "torch.backends.cuda.matmul.allow_tf32 = True\n",
    "torch.set_float32_matmul_precision('high')\n",
    "\n",
    "torch._dynamo.config.cache_size_limit = 32\n",
    "model = torch.compile(model).cuda().to(torch.bfloat16)"
   ]
  },
  {
   "cell_type": "markdown",
   "id": "53db1feb-d92b-426b-925e-5ae114465d83",
   "metadata": {},
   "source": [
    "# Trainer"
   ]
  },
  {
   "cell_type": "code",
   "execution_count": 11,
   "id": "ce03e89e-23d5-4cbe-b96e-8ecb2cee2d1d",
   "metadata": {},
   "outputs": [],
   "source": [
    "# pip install -U pytorch_warmup\n",
    "import pytorch_warmup as warmup\n",
    "\n",
    "n_epochs = 5\n",
    "lr = 1.0e-3\n",
    "\n",
    "criteria = nn.PoissonNLLLoss(log_input=False, reduction='mean')\n",
    "opt = AdamW(model.parameters(), lr=lr, weight_decay=0.1,)\n",
    "warmup_scheduler = warmup.UntunedLinearWarmup(opt)\n",
    "lr_scheduler = torch.optim.lr_scheduler.CosineAnnealingLR(opt,\n",
    "                                                          T_max=5e5, \n",
    "                                                          eta_min=1e-5)"
   ]
  },
  {
   "cell_type": "markdown",
   "id": "1a91982d-a5f5-4a86-86c8-c04280570032",
   "metadata": {},
   "source": [
    "# train - simple"
   ]
  },
  {
   "cell_type": "code",
   "execution_count": null,
   "id": "2fa59f4a-4b2c-40ec-a83b-ece17dddaee8",
   "metadata": {},
   "outputs": [],
   "source": [
    "# the first 10 batches are slow because torch is compiling the model for each new input shape\n",
    "\n",
    "for _ in range(n_epochs):\n",
    "    for i, (key, batch) in tqdm(enumerate(train_dl)):\n",
    "        videos = batch[\"screen\"].to(\"cuda\", torch.bfloat16, non_blocking=True).permute(0,2,1,3,4)\n",
    "        responses = batch[\"responses\"].to(\"cuda\", torch.bfloat16, non_blocking=True)\n",
    "        out = model(videos, key);\n",
    "        loss = criteria(out.transpose(1,2), responses)\n",
    "        loss.backward()\n",
    "        torch.nn.utils.clip_grad_value_(model.parameters(), gradient_clip_value,)\n",
    "        opt.step()\n",
    "        opt.zero_grad()\n",
    "        with warmup_scheduler.dampening():\n",
    "            lr_scheduler.step()\n",
    "            \n",
    "    # after each epoch, the times can be shuffled so there are new random starting points for all chunks\n",
    "    for dataloader in train_dl.loaders.values():\n",
    "        dataloader.dataset.shuffle_valid_screen_times()"
   ]
  },
  {
   "cell_type": "markdown",
   "id": "25ae39a6-7b18-4450-a528-f060d0bbc87d",
   "metadata": {},
   "source": [
    "# train messy"
   ]
  },
  {
   "cell_type": "code",
   "execution_count": 12,
   "id": "80f31bcf-dab8-45d1-82d3-fc16c723da83",
   "metadata": {},
   "outputs": [
    {
     "name": "stderr",
     "output_type": "stream",
     "text": [
      "/usr/local/lib/python3.10/dist-packages/torchvision/transforms/v2/_deprecated.py:42: UserWarning: The transform `ToTensor()` is deprecated and will be removed in a future release. Instead, please use `v2.Compose([v2.ToImage(), v2.ToDtype(torch.float32, scale=True)])`.Output is equivalent up to float precision.\n",
      "  warnings.warn(\n"
     ]
    }
   ],
   "source": [
    "from experanto.configs import DEFAULT_CONFIG as cfg\n",
    "cfg.dataset.global_chunk_size = 8\n",
    "cfg.dataset.global_sampling_rate = 8\n",
    "cfg.dataset.modality_config.screen.include_blanks=False\n",
    "cfg.dataset.modality_config.screen.sample_stride=8\n",
    "cfg.dataset.modality_config.screen.valid_condition = {\"tier\": \"oracle\"}\n",
    "cfg.dataset.modality_config.screen.transforms.Resize.size = video_size\n",
    "\n",
    "\n",
    "cfg.dataloader.num_workers=4\n",
    "cfg.dataloader.prefetch_factor=1\n",
    "cfg.dataloader.batch_size=32\n",
    "cfg.dataloader.pin_memory=True\n",
    "# the multiple dataloader is an iterator that returns a tuple of (key, batch)\n",
    "val_dl = get_multisession_dataloader(full_paths[3:4], cfg)"
   ]
  },
  {
   "cell_type": "code",
   "execution_count": 13,
   "id": "7410a49b-aa7f-4251-8e7f-1d68b88e1183",
   "metadata": {},
   "outputs": [],
   "source": [
    "def val_step():\n",
    "    targets, predictions = [],[]\n",
    "    with torch.no_grad():\n",
    "        for i, (k, b) in tqdm(enumerate(val_dl)):\n",
    "            videos = b[\"screen\"].to(\"cuda\", torch.bfloat16, non_blocking=True).permute(0,2,1,3,4)\n",
    "            responses = b[\"responses\"].to(\"cuda\", torch.bfloat16, non_blocking=True)\n",
    "            out = model(videos, k);\n",
    "            predictions.append(out.transpose(1,2).to(torch.float32).cpu().numpy())\n",
    "            targets.append(responses.to(torch.float32).cpu().numpy())\n",
    "    r1 = np.vstack(np.vstack(predictions))\n",
    "    r2 = np.vstack(np.vstack(targets))\n",
    "    cs = []\n",
    "    for n in range(7000):\n",
    "        c =  np.corrcoef(r1[...,n].flatten(), r2[...,n].flatten(), )[0,1]\n",
    "        cs.append(c)\n",
    "    val_corrs = np.stack(cs).mean()\n",
    "    return val_corrs"
   ]
  },
  {
   "cell_type": "code",
   "execution_count": null,
   "id": "ef82f1ad-b724-49d6-99c8-7c01d884bf0e",
   "metadata": {},
   "outputs": [
    {
     "name": "stderr",
     "output_type": "stream",
     "text": [
      "17it [00:06,  2.72it/s]\n"
     ]
    },
    {
     "name": "stdout",
     "output_type": "stream",
     "text": [
      "[np.float64(0.0005046573625106977), np.float64(0.014041017596663749), np.float64(0.018425972263233604), np.float64(0.025834523362211873), np.float64(0.04087811381197138), np.float64(0.04275999347535726), np.float64(0.047120153307936126), np.float64(0.05459197220505732), np.float64(0.058714916435085064), np.float64(0.06103310387841883), np.float64(0.06479490886323352), np.float64(0.06644989614585231), np.float64(0.06785676909819373), np.float64(0.07267669176814838), np.float64(0.0783693928878886), np.float64(0.07899176133458549), np.float64(0.0808455432161412), np.float64(0.08439426999904016), np.float64(0.0816649370375792), np.float64(0.08474629026148321), np.float64(0.08638965467113104), np.float64(0.08778778272601401), np.float64(0.091144266324692), np.float64(0.09189208237059171), np.float64(0.09023893031067756), np.float64(0.09446338608198383), np.float64(0.09456566263520398), np.float64(0.09521143106103727), np.float64(0.09703865703730084), np.float64(0.0965046512267794), np.float64(0.09771715757827541), np.float64(0.10099141802082078), np.float64(0.1013083732302781), np.float64(0.10142313007936195), np.float64(0.10231498978286353), np.float64(0.10452278992331902), np.float64(0.10214497892952518), np.float64(0.10498265652210502), np.float64(0.10368022352606601), np.float64(0.10266916185955256), np.float64(0.10509943490261092), np.float64(0.10590482296125675), np.float64(0.10456608707431055), np.float64(0.10653920623843847), np.float64(0.10805941175722489), np.float64(0.10624775463792288), np.float64(0.10775584245889328), np.float64(0.10827831947059294), np.float64(0.10931185113092597), np.float64(0.10945907411517257), np.float64(0.10909353660026441), np.float64(0.10993974832678591), np.float64(0.1101438909658887), np.float64(0.11070883259868648), np.float64(0.11090034219794537), np.float64(0.11149954468634542), np.float64(0.1103431744105934), np.float64(0.11175232712031162), np.float64(0.11148680399557319), np.float64(0.11198660324610425), np.float64(0.11219203576183613), np.float64(0.11318268257808291)]\n"
     ]
    },
    {
     "name": "stderr",
     "output_type": "stream",
     "text": [
      "3it [00:00,  9.39it/s]"
     ]
    },
    {
     "name": "stdout",
     "output_type": "stream",
     "text": [
      "0.1860199646411677\n",
      "0.0009898216070002813\n"
     ]
    },
    {
     "name": "stderr",
     "output_type": "stream",
     "text": [
      "103it [00:12,  4.09it/s]"
     ]
    },
    {
     "name": "stdout",
     "output_type": "stream",
     "text": [
      "0.17868090927589336\n",
      "0.000989758764302202\n"
     ]
    },
    {
     "name": "stderr",
     "output_type": "stream",
     "text": [
      "201it [00:24,  5.39it/s]"
     ]
    },
    {
     "name": "stdout",
     "output_type": "stream",
     "text": [
      "0.18052527284354522\n",
      "0.0009896957302290385\n"
     ]
    },
    {
     "name": "stderr",
     "output_type": "stream",
     "text": [
      "303it [00:35, 10.33it/s]"
     ]
    },
    {
     "name": "stdout",
     "output_type": "stream",
     "text": [
      "0.19506117571089412\n",
      "0.000989632504805677\n"
     ]
    },
    {
     "name": "stderr",
     "output_type": "stream",
     "text": [
      "405it [00:46,  9.03it/s]"
     ]
    },
    {
     "name": "stdout",
     "output_type": "stream",
     "text": [
      "0.1785118560929073\n",
      "0.0009895690880570764\n"
     ]
    },
    {
     "name": "stderr",
     "output_type": "stream",
     "text": [
      "500it [00:56,  6.27it/s]"
     ]
    },
    {
     "name": "stdout",
     "output_type": "stream",
     "text": [
      "0.1864729088554308\n",
      "0.0009895054800082743\n"
     ]
    },
    {
     "name": "stderr",
     "output_type": "stream",
     "text": [
      "530it [01:00,  8.78it/s]\n",
      "17it [00:05,  3.00it/s]\n"
     ]
    },
    {
     "name": "stdout",
     "output_type": "stream",
     "text": [
      "[np.float64(0.0005046573625106977), np.float64(0.014041017596663749), np.float64(0.018425972263233604), np.float64(0.025834523362211873), np.float64(0.04087811381197138), np.float64(0.04275999347535726), np.float64(0.047120153307936126), np.float64(0.05459197220505732), np.float64(0.058714916435085064), np.float64(0.06103310387841883), np.float64(0.06479490886323352), np.float64(0.06644989614585231), np.float64(0.06785676909819373), np.float64(0.07267669176814838), np.float64(0.0783693928878886), np.float64(0.07899176133458549), np.float64(0.0808455432161412), np.float64(0.08439426999904016), np.float64(0.0816649370375792), np.float64(0.08474629026148321), np.float64(0.08638965467113104), np.float64(0.08778778272601401), np.float64(0.091144266324692), np.float64(0.09189208237059171), np.float64(0.09023893031067756), np.float64(0.09446338608198383), np.float64(0.09456566263520398), np.float64(0.09521143106103727), np.float64(0.09703865703730084), np.float64(0.0965046512267794), np.float64(0.09771715757827541), np.float64(0.10099141802082078), np.float64(0.1013083732302781), np.float64(0.10142313007936195), np.float64(0.10231498978286353), np.float64(0.10452278992331902), np.float64(0.10214497892952518), np.float64(0.10498265652210502), np.float64(0.10368022352606601), np.float64(0.10266916185955256), np.float64(0.10509943490261092), np.float64(0.10590482296125675), np.float64(0.10456608707431055), np.float64(0.10653920623843847), np.float64(0.10805941175722489), np.float64(0.10624775463792288), np.float64(0.10775584245889328), np.float64(0.10827831947059294), np.float64(0.10931185113092597), np.float64(0.10945907411517257), np.float64(0.10909353660026441), np.float64(0.10993974832678591), np.float64(0.1101438909658887), np.float64(0.11070883259868648), np.float64(0.11090034219794537), np.float64(0.11149954468634542), np.float64(0.1103431744105934), np.float64(0.11175232712031162), np.float64(0.11148680399557319), np.float64(0.11198660324610425), np.float64(0.11219203576183613), np.float64(0.11318268257808291), np.float64(0.11217347881672705)]\n"
     ]
    },
    {
     "name": "stderr",
     "output_type": "stream",
     "text": [
      "4it [00:00,  8.64it/s]"
     ]
    },
    {
     "name": "stdout",
     "output_type": "stream",
     "text": [
      "0.19972292200387604\n",
      "0.0009894863602938463\n"
     ]
    },
    {
     "name": "stderr",
     "output_type": "stream",
     "text": [
      "102it [00:12,  3.46it/s]"
     ]
    },
    {
     "name": "stdout",
     "output_type": "stream",
     "text": [
      "0.19955918617374013\n",
      "0.0009894225035923332\n"
     ]
    },
    {
     "name": "stderr",
     "output_type": "stream",
     "text": [
      "204it [00:23,  4.71it/s]"
     ]
    },
    {
     "name": "stdout",
     "output_type": "stream",
     "text": [
      "0.19817300173586722\n",
      "0.0009893584556484895\n"
     ]
    },
    {
     "name": "stderr",
     "output_type": "stream",
     "text": [
      "300it [00:35,  4.95it/s]"
     ]
    },
    {
     "name": "stdout",
     "output_type": "stream",
     "text": [
      "0.17657360085705714\n",
      "0.0009892942164875978\n"
     ]
    },
    {
     "name": "stderr",
     "output_type": "stream",
     "text": [
      "404it [00:47,  8.90it/s]"
     ]
    },
    {
     "name": "stdout",
     "output_type": "stream",
     "text": [
      "0.19590889785553472\n",
      "0.0009892297861350192\n"
     ]
    },
    {
     "name": "stderr",
     "output_type": "stream",
     "text": [
      "503it [00:58,  4.97it/s]"
     ]
    },
    {
     "name": "stdout",
     "output_type": "stream",
     "text": [
      "0.183403782888301\n",
      "0.0009891651646161894\n"
     ]
    },
    {
     "name": "stderr",
     "output_type": "stream",
     "text": [
      "530it [01:00,  8.78it/s]\n",
      "17it [00:06,  2.82it/s]\n"
     ]
    },
    {
     "name": "stdout",
     "output_type": "stream",
     "text": [
      "[np.float64(0.0005046573625106977), np.float64(0.014041017596663749), np.float64(0.018425972263233604), np.float64(0.025834523362211873), np.float64(0.04087811381197138), np.float64(0.04275999347535726), np.float64(0.047120153307936126), np.float64(0.05459197220505732), np.float64(0.058714916435085064), np.float64(0.06103310387841883), np.float64(0.06479490886323352), np.float64(0.06644989614585231), np.float64(0.06785676909819373), np.float64(0.07267669176814838), np.float64(0.0783693928878886), np.float64(0.07899176133458549), np.float64(0.0808455432161412), np.float64(0.08439426999904016), np.float64(0.0816649370375792), np.float64(0.08474629026148321), np.float64(0.08638965467113104), np.float64(0.08778778272601401), np.float64(0.091144266324692), np.float64(0.09189208237059171), np.float64(0.09023893031067756), np.float64(0.09446338608198383), np.float64(0.09456566263520398), np.float64(0.09521143106103727), np.float64(0.09703865703730084), np.float64(0.0965046512267794), np.float64(0.09771715757827541), np.float64(0.10099141802082078), np.float64(0.1013083732302781), np.float64(0.10142313007936195), np.float64(0.10231498978286353), np.float64(0.10452278992331902), np.float64(0.10214497892952518), np.float64(0.10498265652210502), np.float64(0.10368022352606601), np.float64(0.10266916185955256), np.float64(0.10509943490261092), np.float64(0.10590482296125675), np.float64(0.10456608707431055), np.float64(0.10653920623843847), np.float64(0.10805941175722489), np.float64(0.10624775463792288), np.float64(0.10775584245889328), np.float64(0.10827831947059294), np.float64(0.10931185113092597), np.float64(0.10945907411517257), np.float64(0.10909353660026441), np.float64(0.10993974832678591), np.float64(0.1101438909658887), np.float64(0.11070883259868648), np.float64(0.11090034219794537), np.float64(0.11149954468634542), np.float64(0.1103431744105934), np.float64(0.11175232712031162), np.float64(0.11148680399557319), np.float64(0.11198660324610425), np.float64(0.11219203576183613), np.float64(0.11318268257808291), np.float64(0.11217347881672705), np.float64(0.1139922885573525)]\n"
     ]
    },
    {
     "name": "stderr",
     "output_type": "stream",
     "text": [
      "3it [00:00,  6.64it/s]"
     ]
    },
    {
     "name": "stdout",
     "output_type": "stream",
     "text": [
      "0.18619934540999475\n",
      "0.0009891457408869341\n"
     ]
    },
    {
     "name": "stderr",
     "output_type": "stream",
     "text": [
      "100it [00:09, 11.95it/s]"
     ]
    },
    {
     "name": "stdout",
     "output_type": "stream",
     "text": [
      "0.19340165259002348\n",
      "0.00098908087089013\n"
     ]
    },
    {
     "name": "stderr",
     "output_type": "stream",
     "text": [
      "203it [00:22,  6.46it/s]"
     ]
    },
    {
     "name": "stdout",
     "output_type": "stream",
     "text": [
      "0.19300033176924108\n",
      "0.000989015809785865\n"
     ]
    },
    {
     "name": "stderr",
     "output_type": "stream",
     "text": [
      "305it [00:35, 10.73it/s]"
     ]
    },
    {
     "name": "stdout",
     "output_type": "stream",
     "text": [
      "0.19169155800890106\n",
      "0.0009889505575998226\n"
     ]
    },
    {
     "name": "stderr",
     "output_type": "stream",
     "text": [
      "403it [00:47,  9.70it/s]"
     ]
    },
    {
     "name": "stdout",
     "output_type": "stream",
     "text": [
      "0.19295041410100752\n",
      "0.0009888851143577645\n"
     ]
    },
    {
     "name": "stderr",
     "output_type": "stream",
     "text": [
      "504it [00:57,  5.63it/s]"
     ]
    },
    {
     "name": "stdout",
     "output_type": "stream",
     "text": [
      "0.18503547067179743\n",
      "0.0009888194800855253\n"
     ]
    },
    {
     "name": "stderr",
     "output_type": "stream",
     "text": [
      "530it [00:59,  8.86it/s]\n",
      "17it [00:04,  3.51it/s]\n"
     ]
    },
    {
     "name": "stdout",
     "output_type": "stream",
     "text": [
      "[np.float64(0.0005046573625106977), np.float64(0.014041017596663749), np.float64(0.018425972263233604), np.float64(0.025834523362211873), np.float64(0.04087811381197138), np.float64(0.04275999347535726), np.float64(0.047120153307936126), np.float64(0.05459197220505732), np.float64(0.058714916435085064), np.float64(0.06103310387841883), np.float64(0.06479490886323352), np.float64(0.06644989614585231), np.float64(0.06785676909819373), np.float64(0.07267669176814838), np.float64(0.0783693928878886), np.float64(0.07899176133458549), np.float64(0.0808455432161412), np.float64(0.08439426999904016), np.float64(0.0816649370375792), np.float64(0.08474629026148321), np.float64(0.08638965467113104), np.float64(0.08778778272601401), np.float64(0.091144266324692), np.float64(0.09189208237059171), np.float64(0.09023893031067756), np.float64(0.09446338608198383), np.float64(0.09456566263520398), np.float64(0.09521143106103727), np.float64(0.09703865703730084), np.float64(0.0965046512267794), np.float64(0.09771715757827541), np.float64(0.10099141802082078), np.float64(0.1013083732302781), np.float64(0.10142313007936195), np.float64(0.10231498978286353), np.float64(0.10452278992331902), np.float64(0.10214497892952518), np.float64(0.10498265652210502), np.float64(0.10368022352606601), np.float64(0.10266916185955256), np.float64(0.10509943490261092), np.float64(0.10590482296125675), np.float64(0.10456608707431055), np.float64(0.10653920623843847), np.float64(0.10805941175722489), np.float64(0.10624775463792288), np.float64(0.10775584245889328), np.float64(0.10827831947059294), np.float64(0.10931185113092597), np.float64(0.10945907411517257), np.float64(0.10909353660026441), np.float64(0.10993974832678591), np.float64(0.1101438909658887), np.float64(0.11070883259868648), np.float64(0.11090034219794537), np.float64(0.11149954468634542), np.float64(0.1103431744105934), np.float64(0.11175232712031162), np.float64(0.11148680399557319), np.float64(0.11198660324610425), np.float64(0.11219203576183613), np.float64(0.11318268257808291), np.float64(0.11217347881672705), np.float64(0.1139922885573525), np.float64(0.11302624181898656)]\n"
     ]
    },
    {
     "name": "stderr",
     "output_type": "stream",
     "text": [
      "4it [00:00, 11.63it/s]"
     ]
    },
    {
     "name": "stdout",
     "output_type": "stream",
     "text": [
      "0.19365674291811943\n",
      "0.000988799752556841\n"
     ]
    },
    {
     "name": "stderr",
     "output_type": "stream",
     "text": [
      "101it [00:11,  4.52it/s]"
     ]
    },
    {
     "name": "stdout",
     "output_type": "stream",
     "text": [
      "0.18814842179442431\n",
      "0.0009887338699841183\n"
     ]
    },
    {
     "name": "stderr",
     "output_type": "stream",
     "text": [
      "204it [00:22,  9.87it/s]"
     ]
    },
    {
     "name": "stdout",
     "output_type": "stream",
     "text": [
      "0.18440039745730594\n",
      "0.000988667796440925\n"
     ]
    },
    {
     "name": "stderr",
     "output_type": "stream",
     "text": [
      "301it [00:36,  2.96it/s]"
     ]
    },
    {
     "name": "stdout",
     "output_type": "stream",
     "text": [
      "0.19842173126549636\n",
      "0.0009886015319533464\n"
     ]
    },
    {
     "name": "stderr",
     "output_type": "stream",
     "text": [
      "400it [00:47, 10.30it/s]"
     ]
    },
    {
     "name": "stdout",
     "output_type": "stream",
     "text": [
      "0.17886639155370246\n",
      "0.0009885350765475413\n"
     ]
    },
    {
     "name": "stderr",
     "output_type": "stream",
     "text": [
      "503it [00:57,  6.99it/s]"
     ]
    },
    {
     "name": "stdout",
     "output_type": "stream",
     "text": [
      "0.1784398609520878\n",
      "0.000988468430249745\n"
     ]
    },
    {
     "name": "stderr",
     "output_type": "stream",
     "text": [
      "530it [00:59,  8.85it/s]\n",
      "17it [00:07,  2.29it/s]\n"
     ]
    },
    {
     "name": "stdout",
     "output_type": "stream",
     "text": [
      "[np.float64(0.0005046573625106977), np.float64(0.014041017596663749), np.float64(0.018425972263233604), np.float64(0.025834523362211873), np.float64(0.04087811381197138), np.float64(0.04275999347535726), np.float64(0.047120153307936126), np.float64(0.05459197220505732), np.float64(0.058714916435085064), np.float64(0.06103310387841883), np.float64(0.06479490886323352), np.float64(0.06644989614585231), np.float64(0.06785676909819373), np.float64(0.07267669176814838), np.float64(0.0783693928878886), np.float64(0.07899176133458549), np.float64(0.0808455432161412), np.float64(0.08439426999904016), np.float64(0.0816649370375792), np.float64(0.08474629026148321), np.float64(0.08638965467113104), np.float64(0.08778778272601401), np.float64(0.091144266324692), np.float64(0.09189208237059171), np.float64(0.09023893031067756), np.float64(0.09446338608198383), np.float64(0.09456566263520398), np.float64(0.09521143106103727), np.float64(0.09703865703730084), np.float64(0.0965046512267794), np.float64(0.09771715757827541), np.float64(0.10099141802082078), np.float64(0.1013083732302781), np.float64(0.10142313007936195), np.float64(0.10231498978286353), np.float64(0.10452278992331902), np.float64(0.10214497892952518), np.float64(0.10498265652210502), np.float64(0.10368022352606601), np.float64(0.10266916185955256), np.float64(0.10509943490261092), np.float64(0.10590482296125675), np.float64(0.10456608707431055), np.float64(0.10653920623843847), np.float64(0.10805941175722489), np.float64(0.10624775463792288), np.float64(0.10775584245889328), np.float64(0.10827831947059294), np.float64(0.10931185113092597), np.float64(0.10945907411517257), np.float64(0.10909353660026441), np.float64(0.10993974832678591), np.float64(0.1101438909658887), np.float64(0.11070883259868648), np.float64(0.11090034219794537), np.float64(0.11149954468634542), np.float64(0.1103431744105934), np.float64(0.11175232712031162), np.float64(0.11148680399557319), np.float64(0.11198660324610425), np.float64(0.11219203576183613), np.float64(0.11318268257808291), np.float64(0.11217347881672705), np.float64(0.1139922885573525), np.float64(0.11302624181898656), np.float64(0.11424781054593985)]\n"
     ]
    },
    {
     "name": "stderr",
     "output_type": "stream",
     "text": [
      "3it [00:00,  8.63it/s]"
     ]
    },
    {
     "name": "stdout",
     "output_type": "stream",
     "text": [
      "0.18975317586271773\n",
      "0.0009884483991403998\n"
     ]
    },
    {
     "name": "stderr",
     "output_type": "stream",
     "text": [
      "103it [00:12,  3.90it/s]"
     ]
    },
    {
     "name": "stdout",
     "output_type": "stream",
     "text": [
      "0.18757297531950265\n",
      "0.0009883815047223611\n"
     ]
    },
    {
     "name": "stderr",
     "output_type": "stream",
     "text": [
      "204it [00:22, 10.71it/s]"
     ]
    },
    {
     "name": "stdout",
     "output_type": "stream",
     "text": [
      "0.18710483117045038\n",
      "0.0009883144194729606\n"
     ]
    },
    {
     "name": "stderr",
     "output_type": "stream",
     "text": [
      "301it [00:33,  4.24it/s]"
     ]
    },
    {
     "name": "stdout",
     "output_type": "stream",
     "text": [
      "0.19549221536268038\n",
      "0.000988247143418682\n"
     ]
    },
    {
     "name": "stderr",
     "output_type": "stream",
     "text": [
      "404it [00:42, 11.87it/s]"
     ]
    },
    {
     "name": "stdout",
     "output_type": "stream",
     "text": [
      "0.192917718076001\n",
      "0.0009881796765860837\n"
     ]
    },
    {
     "name": "stderr",
     "output_type": "stream",
     "text": [
      "504it [00:50,  9.62it/s]"
     ]
    },
    {
     "name": "stdout",
     "output_type": "stream",
     "text": [
      "0.19396557436677223\n",
      "0.0009881120190018014\n"
     ]
    },
    {
     "name": "stderr",
     "output_type": "stream",
     "text": [
      "530it [00:53,  9.88it/s]\n",
      "17it [00:06,  2.69it/s]\n"
     ]
    },
    {
     "name": "stdout",
     "output_type": "stream",
     "text": [
      "[np.float64(0.0005046573625106977), np.float64(0.014041017596663749), np.float64(0.018425972263233604), np.float64(0.025834523362211873), np.float64(0.04087811381197138), np.float64(0.04275999347535726), np.float64(0.047120153307936126), np.float64(0.05459197220505732), np.float64(0.058714916435085064), np.float64(0.06103310387841883), np.float64(0.06479490886323352), np.float64(0.06644989614585231), np.float64(0.06785676909819373), np.float64(0.07267669176814838), np.float64(0.0783693928878886), np.float64(0.07899176133458549), np.float64(0.0808455432161412), np.float64(0.08439426999904016), np.float64(0.0816649370375792), np.float64(0.08474629026148321), np.float64(0.08638965467113104), np.float64(0.08778778272601401), np.float64(0.091144266324692), np.float64(0.09189208237059171), np.float64(0.09023893031067756), np.float64(0.09446338608198383), np.float64(0.09456566263520398), np.float64(0.09521143106103727), np.float64(0.09703865703730084), np.float64(0.0965046512267794), np.float64(0.09771715757827541), np.float64(0.10099141802082078), np.float64(0.1013083732302781), np.float64(0.10142313007936195), np.float64(0.10231498978286353), np.float64(0.10452278992331902), np.float64(0.10214497892952518), np.float64(0.10498265652210502), np.float64(0.10368022352606601), np.float64(0.10266916185955256), np.float64(0.10509943490261092), np.float64(0.10590482296125675), np.float64(0.10456608707431055), np.float64(0.10653920623843847), np.float64(0.10805941175722489), np.float64(0.10624775463792288), np.float64(0.10775584245889328), np.float64(0.10827831947059294), np.float64(0.10931185113092597), np.float64(0.10945907411517257), np.float64(0.10909353660026441), np.float64(0.10993974832678591), np.float64(0.1101438909658887), np.float64(0.11070883259868648), np.float64(0.11090034219794537), np.float64(0.11149954468634542), np.float64(0.1103431744105934), np.float64(0.11175232712031162), np.float64(0.11148680399557319), np.float64(0.11198660324610425), np.float64(0.11219203576183613), np.float64(0.11318268257808291), np.float64(0.11217347881672705), np.float64(0.1139922885573525), np.float64(0.11302624181898656), np.float64(0.11424781054593985), np.float64(0.11417317768424486)]\n"
     ]
    },
    {
     "name": "stderr",
     "output_type": "stream",
     "text": [
      "4it [00:00,  7.34it/s]"
     ]
    },
    {
     "name": "stdout",
     "output_type": "stream",
     "text": [
      "0.19954290988597773\n",
      "0.0009880916845339295\n"
     ]
    },
    {
     "name": "stderr",
     "output_type": "stream",
     "text": [
      "103it [00:11,  7.95it/s]"
     ]
    },
    {
     "name": "stdout",
     "output_type": "stream",
     "text": [
      "0.19137725501882616\n",
      "0.0009880237790124004\n"
     ]
    },
    {
     "name": "stderr",
     "output_type": "stream",
     "text": [
      "204it [00:23,  8.68it/s]"
     ]
    },
    {
     "name": "stdout",
     "output_type": "stream",
     "text": [
      "0.18676042367164444\n",
      "0.000987955682800732\n"
     ]
    },
    {
     "name": "stderr",
     "output_type": "stream",
     "text": [
      "304it [00:33,  9.11it/s]"
     ]
    },
    {
     "name": "stdout",
     "output_type": "stream",
     "text": [
      "0.19204872311419077\n",
      "0.0009878873959258089\n"
     ]
    },
    {
     "name": "stderr",
     "output_type": "stream",
     "text": [
      "404it [00:42, 14.89it/s]"
     ]
    },
    {
     "name": "stdout",
     "output_type": "stream",
     "text": [
      "0.19064114876028382\n",
      "0.0009878189184145895\n"
     ]
    },
    {
     "name": "stderr",
     "output_type": "stream",
     "text": [
      "504it [00:50, 11.19it/s]"
     ]
    },
    {
     "name": "stdout",
     "output_type": "stream",
     "text": [
      "0.18575595750444182\n",
      "0.0009877502502941083\n"
     ]
    },
    {
     "name": "stderr",
     "output_type": "stream",
     "text": [
      "530it [00:52, 10.01it/s]\n",
      "17it [00:06,  2.66it/s]\n"
     ]
    },
    {
     "name": "stdout",
     "output_type": "stream",
     "text": [
      "[np.float64(0.0005046573625106977), np.float64(0.014041017596663749), np.float64(0.018425972263233604), np.float64(0.025834523362211873), np.float64(0.04087811381197138), np.float64(0.04275999347535726), np.float64(0.047120153307936126), np.float64(0.05459197220505732), np.float64(0.058714916435085064), np.float64(0.06103310387841883), np.float64(0.06479490886323352), np.float64(0.06644989614585231), np.float64(0.06785676909819373), np.float64(0.07267669176814838), np.float64(0.0783693928878886), np.float64(0.07899176133458549), np.float64(0.0808455432161412), np.float64(0.08439426999904016), np.float64(0.0816649370375792), np.float64(0.08474629026148321), np.float64(0.08638965467113104), np.float64(0.08778778272601401), np.float64(0.091144266324692), np.float64(0.09189208237059171), np.float64(0.09023893031067756), np.float64(0.09446338608198383), np.float64(0.09456566263520398), np.float64(0.09521143106103727), np.float64(0.09703865703730084), np.float64(0.0965046512267794), np.float64(0.09771715757827541), np.float64(0.10099141802082078), np.float64(0.1013083732302781), np.float64(0.10142313007936195), np.float64(0.10231498978286353), np.float64(0.10452278992331902), np.float64(0.10214497892952518), np.float64(0.10498265652210502), np.float64(0.10368022352606601), np.float64(0.10266916185955256), np.float64(0.10509943490261092), np.float64(0.10590482296125675), np.float64(0.10456608707431055), np.float64(0.10653920623843847), np.float64(0.10805941175722489), np.float64(0.10624775463792288), np.float64(0.10775584245889328), np.float64(0.10827831947059294), np.float64(0.10931185113092597), np.float64(0.10945907411517257), np.float64(0.10909353660026441), np.float64(0.10993974832678591), np.float64(0.1101438909658887), np.float64(0.11070883259868648), np.float64(0.11090034219794537), np.float64(0.11149954468634542), np.float64(0.1103431744105934), np.float64(0.11175232712031162), np.float64(0.11148680399557319), np.float64(0.11198660324610425), np.float64(0.11219203576183613), np.float64(0.11318268257808291), np.float64(0.11217347881672705), np.float64(0.1139922885573525), np.float64(0.11302624181898656), np.float64(0.11424781054593985), np.float64(0.11417317768424486), np.float64(0.11442747337754655)]\n"
     ]
    },
    {
     "name": "stderr",
     "output_type": "stream",
     "text": [
      "4it [00:00,  8.00it/s]"
     ]
    },
    {
     "name": "stdout",
     "output_type": "stream",
     "text": [
      "0.2034689885909018\n",
      "0.0009877296126932086\n"
     ]
    },
    {
     "name": "stderr",
     "output_type": "stream",
     "text": [
      "102it [00:11,  5.75it/s]"
     ]
    },
    {
     "name": "stdout",
     "output_type": "stream",
     "text": [
      "0.18644610677681128\n",
      "0.0009876606968212236\n"
     ]
    },
    {
     "name": "stderr",
     "output_type": "stream",
     "text": [
      "204it [00:24,  4.76it/s]"
     ]
    },
    {
     "name": "stdout",
     "output_type": "stream",
     "text": [
      "0.20489726320003623\n",
      "0.0009875915904024406\n"
     ]
    },
    {
     "name": "stderr",
     "output_type": "stream",
     "text": [
      "305it [00:34, 12.58it/s]"
     ]
    },
    {
     "name": "stdout",
     "output_type": "stream",
     "text": [
      "0.19208787542942204\n",
      "0.0009875222934641402\n"
     ]
    },
    {
     "name": "stderr",
     "output_type": "stream",
     "text": [
      "403it [00:42, 12.45it/s]"
     ]
    },
    {
     "name": "stdout",
     "output_type": "stream",
     "text": [
      "0.20171328875353595\n",
      "0.0009874528060336797\n"
     ]
    },
    {
     "name": "stderr",
     "output_type": "stream",
     "text": [
      "505it [00:52, 11.97it/s]"
     ]
    },
    {
     "name": "stdout",
     "output_type": "stream",
     "text": [
      "0.1975247545302205\n",
      "0.0009873831281384917\n"
     ]
    },
    {
     "name": "stderr",
     "output_type": "stream",
     "text": [
      "530it [00:54,  9.64it/s]\n",
      "17it [00:05,  2.85it/s]\n"
     ]
    },
    {
     "name": "stdout",
     "output_type": "stream",
     "text": [
      "[np.float64(0.0005046573625106977), np.float64(0.014041017596663749), np.float64(0.018425972263233604), np.float64(0.025834523362211873), np.float64(0.04087811381197138), np.float64(0.04275999347535726), np.float64(0.047120153307936126), np.float64(0.05459197220505732), np.float64(0.058714916435085064), np.float64(0.06103310387841883), np.float64(0.06479490886323352), np.float64(0.06644989614585231), np.float64(0.06785676909819373), np.float64(0.07267669176814838), np.float64(0.0783693928878886), np.float64(0.07899176133458549), np.float64(0.0808455432161412), np.float64(0.08439426999904016), np.float64(0.0816649370375792), np.float64(0.08474629026148321), np.float64(0.08638965467113104), np.float64(0.08778778272601401), np.float64(0.091144266324692), np.float64(0.09189208237059171), np.float64(0.09023893031067756), np.float64(0.09446338608198383), np.float64(0.09456566263520398), np.float64(0.09521143106103727), np.float64(0.09703865703730084), np.float64(0.0965046512267794), np.float64(0.09771715757827541), np.float64(0.10099141802082078), np.float64(0.1013083732302781), np.float64(0.10142313007936195), np.float64(0.10231498978286353), np.float64(0.10452278992331902), np.float64(0.10214497892952518), np.float64(0.10498265652210502), np.float64(0.10368022352606601), np.float64(0.10266916185955256), np.float64(0.10509943490261092), np.float64(0.10590482296125675), np.float64(0.10456608707431055), np.float64(0.10653920623843847), np.float64(0.10805941175722489), np.float64(0.10624775463792288), np.float64(0.10775584245889328), np.float64(0.10827831947059294), np.float64(0.10931185113092597), np.float64(0.10945907411517257), np.float64(0.10909353660026441), np.float64(0.10993974832678591), np.float64(0.1101438909658887), np.float64(0.11070883259868648), np.float64(0.11090034219794537), np.float64(0.11149954468634542), np.float64(0.1103431744105934), np.float64(0.11175232712031162), np.float64(0.11148680399557319), np.float64(0.11198660324610425), np.float64(0.11219203576183613), np.float64(0.11318268257808291), np.float64(0.11217347881672705), np.float64(0.1139922885573525), np.float64(0.11302624181898656), np.float64(0.11424781054593985), np.float64(0.11417317768424486), np.float64(0.11442747337754655), np.float64(0.11471286056729478)]\n"
     ]
    },
    {
     "name": "stderr",
     "output_type": "stream",
     "text": [
      "4it [00:00,  6.97it/s]"
     ]
    },
    {
     "name": "stdout",
     "output_type": "stream",
     "text": [
      "0.19364156501586574\n",
      "0.0009873621876334236\n"
     ]
    },
    {
     "name": "stderr",
     "output_type": "stream",
     "text": [
      "102it [00:11,  4.29it/s]"
     ]
    },
    {
     "name": "stdout",
     "output_type": "stream",
     "text": [
      "0.19891945863371677\n",
      "0.000987292262175226\n"
     ]
    },
    {
     "name": "stderr",
     "output_type": "stream",
     "text": [
      "202it [00:22,  5.93it/s]"
     ]
    },
    {
     "name": "stdout",
     "output_type": "stream",
     "text": [
      "0.1939224063417991\n",
      "0.00098722214631568\n"
     ]
    },
    {
     "name": "stderr",
     "output_type": "stream",
     "text": [
      "304it [00:33,  9.41it/s]"
     ]
    },
    {
     "name": "stdout",
     "output_type": "stream",
     "text": [
      "0.20320470190757542\n",
      "0.0009871518400824692\n"
     ]
    },
    {
     "name": "stderr",
     "output_type": "stream",
     "text": [
      "403it [00:41, 10.97it/s]"
     ]
    },
    {
     "name": "stdout",
     "output_type": "stream",
     "text": [
      "0.19773401786030098\n",
      "0.0009870813435033472\n"
     ]
    },
    {
     "name": "stderr",
     "output_type": "stream",
     "text": [
      "504it [00:51,  8.90it/s]"
     ]
    },
    {
     "name": "stdout",
     "output_type": "stream",
     "text": [
      "0.19939245595862937\n",
      "0.000987010656606145\n"
     ]
    },
    {
     "name": "stderr",
     "output_type": "stream",
     "text": [
      "530it [00:54,  9.77it/s]\n",
      "17it [00:07,  2.41it/s]\n"
     ]
    },
    {
     "name": "stdout",
     "output_type": "stream",
     "text": [
      "[np.float64(0.0005046573625106977), np.float64(0.014041017596663749), np.float64(0.018425972263233604), np.float64(0.025834523362211873), np.float64(0.04087811381197138), np.float64(0.04275999347535726), np.float64(0.047120153307936126), np.float64(0.05459197220505732), np.float64(0.058714916435085064), np.float64(0.06103310387841883), np.float64(0.06479490886323352), np.float64(0.06644989614585231), np.float64(0.06785676909819373), np.float64(0.07267669176814838), np.float64(0.0783693928878886), np.float64(0.07899176133458549), np.float64(0.0808455432161412), np.float64(0.08439426999904016), np.float64(0.0816649370375792), np.float64(0.08474629026148321), np.float64(0.08638965467113104), np.float64(0.08778778272601401), np.float64(0.091144266324692), np.float64(0.09189208237059171), np.float64(0.09023893031067756), np.float64(0.09446338608198383), np.float64(0.09456566263520398), np.float64(0.09521143106103727), np.float64(0.09703865703730084), np.float64(0.0965046512267794), np.float64(0.09771715757827541), np.float64(0.10099141802082078), np.float64(0.1013083732302781), np.float64(0.10142313007936195), np.float64(0.10231498978286353), np.float64(0.10452278992331902), np.float64(0.10214497892952518), np.float64(0.10498265652210502), np.float64(0.10368022352606601), np.float64(0.10266916185955256), np.float64(0.10509943490261092), np.float64(0.10590482296125675), np.float64(0.10456608707431055), np.float64(0.10653920623843847), np.float64(0.10805941175722489), np.float64(0.10624775463792288), np.float64(0.10775584245889328), np.float64(0.10827831947059294), np.float64(0.10931185113092597), np.float64(0.10945907411517257), np.float64(0.10909353660026441), np.float64(0.10993974832678591), np.float64(0.1101438909658887), np.float64(0.11070883259868648), np.float64(0.11090034219794537), np.float64(0.11149954468634542), np.float64(0.1103431744105934), np.float64(0.11175232712031162), np.float64(0.11148680399557319), np.float64(0.11198660324610425), np.float64(0.11219203576183613), np.float64(0.11318268257808291), np.float64(0.11217347881672705), np.float64(0.1139922885573525), np.float64(0.11302624181898656), np.float64(0.11424781054593985), np.float64(0.11417317768424486), np.float64(0.11442747337754655), np.float64(0.11471286056729478), np.float64(0.11547667164240241)]\n"
     ]
    },
    {
     "name": "stderr",
     "output_type": "stream",
     "text": [
      "4it [00:00,  9.90it/s]"
     ]
    },
    {
     "name": "stdout",
     "output_type": "stream",
     "text": [
      "0.1904376851485788\n",
      "0.000986989413429129\n"
     ]
    },
    {
     "name": "stderr",
     "output_type": "stream",
     "text": [
      "103it [00:11,  5.45it/s]"
     ]
    },
    {
     "name": "stdout",
     "output_type": "stream",
     "text": [
      "0.2055440556514845\n",
      "0.000986918479160155\n"
     ]
    },
    {
     "name": "stderr",
     "output_type": "stream",
     "text": [
      "204it [00:23,  6.83it/s]"
     ]
    },
    {
     "name": "stdout",
     "output_type": "stream",
     "text": [
      "0.1996408181069599\n",
      "0.0009868473546373973\n"
     ]
    },
    {
     "name": "stderr",
     "output_type": "stream",
     "text": [
      "302it [00:33,  8.22it/s]"
     ]
    },
    {
     "name": "stdout",
     "output_type": "stream",
     "text": [
      "0.20819282729249422\n",
      "0.0009867760398889359\n"
     ]
    },
    {
     "name": "stderr",
     "output_type": "stream",
     "text": [
      "405it [00:40, 13.48it/s]"
     ]
    },
    {
     "name": "stdout",
     "output_type": "stream",
     "text": [
      "0.18578981741396408\n",
      "0.000986704534942923\n"
     ]
    },
    {
     "name": "stderr",
     "output_type": "stream",
     "text": [
      "503it [00:51,  5.80it/s]"
     ]
    },
    {
     "name": "stdout",
     "output_type": "stream",
     "text": [
      "0.1857556810527255\n",
      "0.0009866328398275889\n"
     ]
    },
    {
     "name": "stderr",
     "output_type": "stream",
     "text": [
      "530it [00:53,  9.86it/s]\n",
      "17it [00:07,  2.40it/s]\n"
     ]
    },
    {
     "name": "stdout",
     "output_type": "stream",
     "text": [
      "[np.float64(0.0005046573625106977), np.float64(0.014041017596663749), np.float64(0.018425972263233604), np.float64(0.025834523362211873), np.float64(0.04087811381197138), np.float64(0.04275999347535726), np.float64(0.047120153307936126), np.float64(0.05459197220505732), np.float64(0.058714916435085064), np.float64(0.06103310387841883), np.float64(0.06479490886323352), np.float64(0.06644989614585231), np.float64(0.06785676909819373), np.float64(0.07267669176814838), np.float64(0.0783693928878886), np.float64(0.07899176133458549), np.float64(0.0808455432161412), np.float64(0.08439426999904016), np.float64(0.0816649370375792), np.float64(0.08474629026148321), np.float64(0.08638965467113104), np.float64(0.08778778272601401), np.float64(0.091144266324692), np.float64(0.09189208237059171), np.float64(0.09023893031067756), np.float64(0.09446338608198383), np.float64(0.09456566263520398), np.float64(0.09521143106103727), np.float64(0.09703865703730084), np.float64(0.0965046512267794), np.float64(0.09771715757827541), np.float64(0.10099141802082078), np.float64(0.1013083732302781), np.float64(0.10142313007936195), np.float64(0.10231498978286353), np.float64(0.10452278992331902), np.float64(0.10214497892952518), np.float64(0.10498265652210502), np.float64(0.10368022352606601), np.float64(0.10266916185955256), np.float64(0.10509943490261092), np.float64(0.10590482296125675), np.float64(0.10456608707431055), np.float64(0.10653920623843847), np.float64(0.10805941175722489), np.float64(0.10624775463792288), np.float64(0.10775584245889328), np.float64(0.10827831947059294), np.float64(0.10931185113092597), np.float64(0.10945907411517257), np.float64(0.10909353660026441), np.float64(0.10993974832678591), np.float64(0.1101438909658887), np.float64(0.11070883259868648), np.float64(0.11090034219794537), np.float64(0.11149954468634542), np.float64(0.1103431744105934), np.float64(0.11175232712031162), np.float64(0.11148680399557319), np.float64(0.11198660324610425), np.float64(0.11219203576183613), np.float64(0.11318268257808291), np.float64(0.11217347881672705), np.float64(0.1139922885573525), np.float64(0.11302624181898656), np.float64(0.11424781054593985), np.float64(0.11417317768424486), np.float64(0.11442747337754655), np.float64(0.11471286056729478), np.float64(0.11547667164240241), np.float64(0.1160136761166274)]\n"
     ]
    },
    {
     "name": "stderr",
     "output_type": "stream",
     "text": [
      "4it [00:00,  8.55it/s]"
     ]
    },
    {
     "name": "stdout",
     "output_type": "stream",
     "text": [
      "0.20601558287095476\n",
      "0.0009866112942142002\n"
     ]
    },
    {
     "name": "stderr",
     "output_type": "stream",
     "text": [
      "105it [00:10,  8.73it/s]"
     ]
    },
    {
     "name": "stdout",
     "output_type": "stream",
     "text": [
      "0.20762094327409958\n",
      "0.0009865393519210722\n"
     ]
    },
    {
     "name": "stderr",
     "output_type": "stream",
     "text": [
      "205it [00:21,  7.13it/s]"
     ]
    },
    {
     "name": "stdout",
     "output_type": "stream",
     "text": [
      "0.20294476171726836\n",
      "0.000986467219523831\n"
     ]
    },
    {
     "name": "stderr",
     "output_type": "stream",
     "text": [
      "303it [00:31,  8.74it/s]"
     ]
    },
    {
     "name": "stdout",
     "output_type": "stream",
     "text": [
      "0.19407691180243583\n",
      "0.0009863948970509552\n"
     ]
    },
    {
     "name": "stderr",
     "output_type": "stream",
     "text": [
      "405it [00:39, 13.29it/s]"
     ]
    },
    {
     "name": "stdout",
     "output_type": "stream",
     "text": [
      "0.21160770500182124\n",
      "0.0009863223845309984\n"
     ]
    },
    {
     "name": "stderr",
     "output_type": "stream",
     "text": [
      "502it [00:49,  5.49it/s]"
     ]
    },
    {
     "name": "stdout",
     "output_type": "stream",
     "text": [
      "0.20284950815670755\n",
      "0.000986249681992585\n"
     ]
    },
    {
     "name": "stderr",
     "output_type": "stream",
     "text": [
      "530it [00:51, 10.20it/s]\n",
      "17it [00:06,  2.62it/s]\n"
     ]
    },
    {
     "name": "stdout",
     "output_type": "stream",
     "text": [
      "[np.float64(0.0005046573625106977), np.float64(0.014041017596663749), np.float64(0.018425972263233604), np.float64(0.025834523362211873), np.float64(0.04087811381197138), np.float64(0.04275999347535726), np.float64(0.047120153307936126), np.float64(0.05459197220505732), np.float64(0.058714916435085064), np.float64(0.06103310387841883), np.float64(0.06479490886323352), np.float64(0.06644989614585231), np.float64(0.06785676909819373), np.float64(0.07267669176814838), np.float64(0.0783693928878886), np.float64(0.07899176133458549), np.float64(0.0808455432161412), np.float64(0.08439426999904016), np.float64(0.0816649370375792), np.float64(0.08474629026148321), np.float64(0.08638965467113104), np.float64(0.08778778272601401), np.float64(0.091144266324692), np.float64(0.09189208237059171), np.float64(0.09023893031067756), np.float64(0.09446338608198383), np.float64(0.09456566263520398), np.float64(0.09521143106103727), np.float64(0.09703865703730084), np.float64(0.0965046512267794), np.float64(0.09771715757827541), np.float64(0.10099141802082078), np.float64(0.1013083732302781), np.float64(0.10142313007936195), np.float64(0.10231498978286353), np.float64(0.10452278992331902), np.float64(0.10214497892952518), np.float64(0.10498265652210502), np.float64(0.10368022352606601), np.float64(0.10266916185955256), np.float64(0.10509943490261092), np.float64(0.10590482296125675), np.float64(0.10456608707431055), np.float64(0.10653920623843847), np.float64(0.10805941175722489), np.float64(0.10624775463792288), np.float64(0.10775584245889328), np.float64(0.10827831947059294), np.float64(0.10931185113092597), np.float64(0.10945907411517257), np.float64(0.10909353660026441), np.float64(0.10993974832678591), np.float64(0.1101438909658887), np.float64(0.11070883259868648), np.float64(0.11090034219794537), np.float64(0.11149954468634542), np.float64(0.1103431744105934), np.float64(0.11175232712031162), np.float64(0.11148680399557319), np.float64(0.11198660324610425), np.float64(0.11219203576183613), np.float64(0.11318268257808291), np.float64(0.11217347881672705), np.float64(0.1139922885573525), np.float64(0.11302624181898656), np.float64(0.11424781054593985), np.float64(0.11417317768424486), np.float64(0.11442747337754655), np.float64(0.11471286056729478), np.float64(0.11547667164240241), np.float64(0.1160136761166274), np.float64(0.11568940023810062)]\n"
     ]
    },
    {
     "name": "stderr",
     "output_type": "stream",
     "text": [
      "4it [00:00,  8.21it/s]"
     ]
    },
    {
     "name": "stdout",
     "output_type": "stream",
     "text": [
      "0.1953353066727793\n",
      "0.000986227834181752\n"
     ]
    },
    {
     "name": "stderr",
     "output_type": "stream",
     "text": [
      "104it [00:12,  6.42it/s]"
     ]
    },
    {
     "name": "stdout",
     "output_type": "stream",
     "text": [
      "0.20260611427325467\n",
      "0.0009861548846622694\n"
     ]
    },
    {
     "name": "stderr",
     "output_type": "stream",
     "text": [
      "204it [00:22,  9.99it/s]"
     ]
    },
    {
     "name": "stdout",
     "output_type": "stream",
     "text": [
      "0.19167688068952268\n",
      "0.0009860817451904584\n"
     ]
    },
    {
     "name": "stderr",
     "output_type": "stream",
     "text": [
      "304it [00:32,  8.08it/s]"
     ]
    },
    {
     "name": "stdout",
     "output_type": "stream",
     "text": [
      "0.19743958948187545\n",
      "0.000986008415795194\n"
     ]
    },
    {
     "name": "stderr",
     "output_type": "stream",
     "text": [
      "404it [00:40, 12.47it/s]"
     ]
    },
    {
     "name": "stdout",
     "output_type": "stream",
     "text": [
      "0.20128071050119475\n",
      "0.0009859348965054234\n"
     ]
    },
    {
     "name": "stderr",
     "output_type": "stream",
     "text": [
      "503it [00:50,  7.95it/s]"
     ]
    },
    {
     "name": "stdout",
     "output_type": "stream",
     "text": [
      "0.21161904398253192\n",
      "0.0009858611873501738\n"
     ]
    },
    {
     "name": "stderr",
     "output_type": "stream",
     "text": [
      "530it [00:52, 10.03it/s]\n",
      "17it [00:06,  2.61it/s]\n"
     ]
    },
    {
     "name": "stdout",
     "output_type": "stream",
     "text": [
      "[np.float64(0.0005046573625106977), np.float64(0.014041017596663749), np.float64(0.018425972263233604), np.float64(0.025834523362211873), np.float64(0.04087811381197138), np.float64(0.04275999347535726), np.float64(0.047120153307936126), np.float64(0.05459197220505732), np.float64(0.058714916435085064), np.float64(0.06103310387841883), np.float64(0.06479490886323352), np.float64(0.06644989614585231), np.float64(0.06785676909819373), np.float64(0.07267669176814838), np.float64(0.0783693928878886), np.float64(0.07899176133458549), np.float64(0.0808455432161412), np.float64(0.08439426999904016), np.float64(0.0816649370375792), np.float64(0.08474629026148321), np.float64(0.08638965467113104), np.float64(0.08778778272601401), np.float64(0.091144266324692), np.float64(0.09189208237059171), np.float64(0.09023893031067756), np.float64(0.09446338608198383), np.float64(0.09456566263520398), np.float64(0.09521143106103727), np.float64(0.09703865703730084), np.float64(0.0965046512267794), np.float64(0.09771715757827541), np.float64(0.10099141802082078), np.float64(0.1013083732302781), np.float64(0.10142313007936195), np.float64(0.10231498978286353), np.float64(0.10452278992331902), np.float64(0.10214497892952518), np.float64(0.10498265652210502), np.float64(0.10368022352606601), np.float64(0.10266916185955256), np.float64(0.10509943490261092), np.float64(0.10590482296125675), np.float64(0.10456608707431055), np.float64(0.10653920623843847), np.float64(0.10805941175722489), np.float64(0.10624775463792288), np.float64(0.10775584245889328), np.float64(0.10827831947059294), np.float64(0.10931185113092597), np.float64(0.10945907411517257), np.float64(0.10909353660026441), np.float64(0.10993974832678591), np.float64(0.1101438909658887), np.float64(0.11070883259868648), np.float64(0.11090034219794537), np.float64(0.11149954468634542), np.float64(0.1103431744105934), np.float64(0.11175232712031162), np.float64(0.11148680399557319), np.float64(0.11198660324610425), np.float64(0.11219203576183613), np.float64(0.11318268257808291), np.float64(0.11217347881672705), np.float64(0.1139922885573525), np.float64(0.11302624181898656), np.float64(0.11424781054593985), np.float64(0.11417317768424486), np.float64(0.11442747337754655), np.float64(0.11471286056729478), np.float64(0.11547667164240241), np.float64(0.1160136761166274), np.float64(0.11568940023810062), np.float64(0.11591878433366917)]\n"
     ]
    },
    {
     "name": "stderr",
     "output_type": "stream",
     "text": [
      "4it [00:00,  8.23it/s]"
     ]
    },
    {
     "name": "stdout",
     "output_type": "stream",
     "text": [
      "0.21744504616446247\n",
      "0.0009858390375841785\n"
     ]
    },
    {
     "name": "stderr",
     "output_type": "stream",
     "text": [
      "102it [00:12,  3.68it/s]"
     ]
    },
    {
     "name": "stdout",
     "output_type": "stream",
     "text": [
      "0.20627328717707472\n",
      "0.0009857650816473182\n"
     ]
    },
    {
     "name": "stderr",
     "output_type": "stream",
     "text": [
      "203it [00:23,  9.02it/s]"
     ]
    },
    {
     "name": "stdout",
     "output_type": "stream",
     "text": [
      "0.18633374984785525\n",
      "0.0009856909359120159\n"
     ]
    },
    {
     "name": "stderr",
     "output_type": "stream",
     "text": [
      "303it [00:32,  8.56it/s]"
     ]
    },
    {
     "name": "stdout",
     "output_type": "stream",
     "text": [
      "0.19582981663311688\n",
      "0.0009856166004075457\n"
     ]
    },
    {
     "name": "stderr",
     "output_type": "stream",
     "text": [
      "403it [00:41, 10.38it/s]"
     ]
    },
    {
     "name": "stdout",
     "output_type": "stream",
     "text": [
      "0.1901574345718664\n",
      "0.0009855420751632524\n"
     ]
    },
    {
     "name": "stderr",
     "output_type": "stream",
     "text": [
      "504it [00:51,  8.92it/s]"
     ]
    },
    {
     "name": "stdout",
     "output_type": "stream",
     "text": [
      "0.19943486998200405\n",
      "0.0009854673602085597\n"
     ]
    },
    {
     "name": "stderr",
     "output_type": "stream",
     "text": [
      "530it [00:54,  9.66it/s]\n",
      "17it [00:06,  2.44it/s]\n"
     ]
    },
    {
     "name": "stdout",
     "output_type": "stream",
     "text": [
      "[np.float64(0.0005046573625106977), np.float64(0.014041017596663749), np.float64(0.018425972263233604), np.float64(0.025834523362211873), np.float64(0.04087811381197138), np.float64(0.04275999347535726), np.float64(0.047120153307936126), np.float64(0.05459197220505732), np.float64(0.058714916435085064), np.float64(0.06103310387841883), np.float64(0.06479490886323352), np.float64(0.06644989614585231), np.float64(0.06785676909819373), np.float64(0.07267669176814838), np.float64(0.0783693928878886), np.float64(0.07899176133458549), np.float64(0.0808455432161412), np.float64(0.08439426999904016), np.float64(0.0816649370375792), np.float64(0.08474629026148321), np.float64(0.08638965467113104), np.float64(0.08778778272601401), np.float64(0.091144266324692), np.float64(0.09189208237059171), np.float64(0.09023893031067756), np.float64(0.09446338608198383), np.float64(0.09456566263520398), np.float64(0.09521143106103727), np.float64(0.09703865703730084), np.float64(0.0965046512267794), np.float64(0.09771715757827541), np.float64(0.10099141802082078), np.float64(0.1013083732302781), np.float64(0.10142313007936195), np.float64(0.10231498978286353), np.float64(0.10452278992331902), np.float64(0.10214497892952518), np.float64(0.10498265652210502), np.float64(0.10368022352606601), np.float64(0.10266916185955256), np.float64(0.10509943490261092), np.float64(0.10590482296125675), np.float64(0.10456608707431055), np.float64(0.10653920623843847), np.float64(0.10805941175722489), np.float64(0.10624775463792288), np.float64(0.10775584245889328), np.float64(0.10827831947059294), np.float64(0.10931185113092597), np.float64(0.10945907411517257), np.float64(0.10909353660026441), np.float64(0.10993974832678591), np.float64(0.1101438909658887), np.float64(0.11070883259868648), np.float64(0.11090034219794537), np.float64(0.11149954468634542), np.float64(0.1103431744105934), np.float64(0.11175232712031162), np.float64(0.11148680399557319), np.float64(0.11198660324610425), np.float64(0.11219203576183613), np.float64(0.11318268257808291), np.float64(0.11217347881672705), np.float64(0.1139922885573525), np.float64(0.11302624181898656), np.float64(0.11424781054593985), np.float64(0.11417317768424486), np.float64(0.11442747337754655), np.float64(0.11471286056729478), np.float64(0.11547667164240241), np.float64(0.1160136761166274), np.float64(0.11568940023810062), np.float64(0.11591878433366917), np.float64(0.11408639014858274)]\n"
     ]
    },
    {
     "name": "stderr",
     "output_type": "stream",
     "text": [
      "4it [00:00,  8.78it/s]"
     ]
    },
    {
     "name": "stdout",
     "output_type": "stream",
     "text": [
      "0.20964515703970002\n",
      "0.0009854449087330316\n"
     ]
    },
    {
     "name": "stderr",
     "output_type": "stream",
     "text": [
      "103it [00:11,  5.87it/s]"
     ]
    },
    {
     "name": "stdout",
     "output_type": "stream",
     "text": [
      "0.20610696625845185\n",
      "0.0009853699471989248\n"
     ]
    },
    {
     "name": "stderr",
     "output_type": "stream",
     "text": [
      "205it [00:21,  9.02it/s]"
     ]
    },
    {
     "name": "stdout",
     "output_type": "stream",
     "text": [
      "0.19665125142261855\n",
      "0.0009852947960223718\n"
     ]
    },
    {
     "name": "stderr",
     "output_type": "stream",
     "text": [
      "304it [00:32,  5.30it/s]"
     ]
    },
    {
     "name": "stdout",
     "output_type": "stream",
     "text": [
      "0.19169228169923683\n",
      "0.0009852194552330384\n"
     ]
    },
    {
     "name": "stderr",
     "output_type": "stream",
     "text": [
      "402it [00:39, 14.86it/s]"
     ]
    },
    {
     "name": "stdout",
     "output_type": "stream",
     "text": [
      "0.2029440369023379\n",
      "0.0009851439248606702\n"
     ]
    },
    {
     "name": "stderr",
     "output_type": "stream",
     "text": [
      "505it [00:48,  7.59it/s]"
     ]
    },
    {
     "name": "stdout",
     "output_type": "stream",
     "text": [
      "0.1909122750932935\n",
      "0.0009850682049350828\n"
     ]
    },
    {
     "name": "stderr",
     "output_type": "stream",
     "text": [
      "530it [00:51, 10.23it/s]\n",
      "17it [00:06,  2.46it/s]\n"
     ]
    },
    {
     "name": "stdout",
     "output_type": "stream",
     "text": [
      "[np.float64(0.0005046573625106977), np.float64(0.014041017596663749), np.float64(0.018425972263233604), np.float64(0.025834523362211873), np.float64(0.04087811381197138), np.float64(0.04275999347535726), np.float64(0.047120153307936126), np.float64(0.05459197220505732), np.float64(0.058714916435085064), np.float64(0.06103310387841883), np.float64(0.06479490886323352), np.float64(0.06644989614585231), np.float64(0.06785676909819373), np.float64(0.07267669176814838), np.float64(0.0783693928878886), np.float64(0.07899176133458549), np.float64(0.0808455432161412), np.float64(0.08439426999904016), np.float64(0.0816649370375792), np.float64(0.08474629026148321), np.float64(0.08638965467113104), np.float64(0.08778778272601401), np.float64(0.091144266324692), np.float64(0.09189208237059171), np.float64(0.09023893031067756), np.float64(0.09446338608198383), np.float64(0.09456566263520398), np.float64(0.09521143106103727), np.float64(0.09703865703730084), np.float64(0.0965046512267794), np.float64(0.09771715757827541), np.float64(0.10099141802082078), np.float64(0.1013083732302781), np.float64(0.10142313007936195), np.float64(0.10231498978286353), np.float64(0.10452278992331902), np.float64(0.10214497892952518), np.float64(0.10498265652210502), np.float64(0.10368022352606601), np.float64(0.10266916185955256), np.float64(0.10509943490261092), np.float64(0.10590482296125675), np.float64(0.10456608707431055), np.float64(0.10653920623843847), np.float64(0.10805941175722489), np.float64(0.10624775463792288), np.float64(0.10775584245889328), np.float64(0.10827831947059294), np.float64(0.10931185113092597), np.float64(0.10945907411517257), np.float64(0.10909353660026441), np.float64(0.10993974832678591), np.float64(0.1101438909658887), np.float64(0.11070883259868648), np.float64(0.11090034219794537), np.float64(0.11149954468634542), np.float64(0.1103431744105934), np.float64(0.11175232712031162), np.float64(0.11148680399557319), np.float64(0.11198660324610425), np.float64(0.11219203576183613), np.float64(0.11318268257808291), np.float64(0.11217347881672705), np.float64(0.1139922885573525), np.float64(0.11302624181898656), np.float64(0.11424781054593985), np.float64(0.11417317768424486), np.float64(0.11442747337754655), np.float64(0.11471286056729478), np.float64(0.11547667164240241), np.float64(0.1160136761166274), np.float64(0.11568940023810062), np.float64(0.11591878433366917), np.float64(0.11408639014858274), np.float64(0.11439966606296147)]\n"
     ]
    },
    {
     "name": "stderr",
     "output_type": "stream",
     "text": [
      "4it [00:00,  6.85it/s]"
     ]
    },
    {
     "name": "stdout",
     "output_type": "stream",
     "text": [
      "0.21218878367238825\n",
      "0.000985045451998997\n"
     ]
    },
    {
     "name": "stderr",
     "output_type": "stream",
     "text": [
      "103it [00:11,  7.02it/s]"
     ]
    },
    {
     "name": "stdout",
     "output_type": "stream",
     "text": [
      "0.2135589198542843\n",
      "0.0009849694856989277\n"
     ]
    },
    {
     "name": "stderr",
     "output_type": "stream",
     "text": [
      "204it [00:22,  7.19it/s]"
     ]
    },
    {
     "name": "stdout",
     "output_type": "stream",
     "text": [
      "0.20269471332660974\n",
      "0.000984893329914507\n"
     ]
    },
    {
     "name": "stderr",
     "output_type": "stream",
     "text": [
      "303it [00:35,  7.23it/s]"
     ]
    },
    {
     "name": "stdout",
     "output_type": "stream",
     "text": [
      "0.1970570824844978\n",
      "0.0009848169846758002\n"
     ]
    },
    {
     "name": "stderr",
     "output_type": "stream",
     "text": [
      "406it [00:43, 12.43it/s]"
     ]
    },
    {
     "name": "stdout",
     "output_type": "stream",
     "text": [
      "0.20313726070963414\n",
      "0.0009847404500129473\n"
     ]
    },
    {
     "name": "stderr",
     "output_type": "stream",
     "text": [
      "502it [00:53,  8.11it/s]"
     ]
    },
    {
     "name": "stdout",
     "output_type": "stream",
     "text": [
      "0.20824692867622646\n",
      "0.0009846637259561639\n"
     ]
    },
    {
     "name": "stderr",
     "output_type": "stream",
     "text": [
      "530it [00:55,  9.54it/s]\n",
      "17it [00:06,  2.79it/s]\n"
     ]
    },
    {
     "name": "stdout",
     "output_type": "stream",
     "text": [
      "[np.float64(0.0005046573625106977), np.float64(0.014041017596663749), np.float64(0.018425972263233604), np.float64(0.025834523362211873), np.float64(0.04087811381197138), np.float64(0.04275999347535726), np.float64(0.047120153307936126), np.float64(0.05459197220505732), np.float64(0.058714916435085064), np.float64(0.06103310387841883), np.float64(0.06479490886323352), np.float64(0.06644989614585231), np.float64(0.06785676909819373), np.float64(0.07267669176814838), np.float64(0.0783693928878886), np.float64(0.07899176133458549), np.float64(0.0808455432161412), np.float64(0.08439426999904016), np.float64(0.0816649370375792), np.float64(0.08474629026148321), np.float64(0.08638965467113104), np.float64(0.08778778272601401), np.float64(0.091144266324692), np.float64(0.09189208237059171), np.float64(0.09023893031067756), np.float64(0.09446338608198383), np.float64(0.09456566263520398), np.float64(0.09521143106103727), np.float64(0.09703865703730084), np.float64(0.0965046512267794), np.float64(0.09771715757827541), np.float64(0.10099141802082078), np.float64(0.1013083732302781), np.float64(0.10142313007936195), np.float64(0.10231498978286353), np.float64(0.10452278992331902), np.float64(0.10214497892952518), np.float64(0.10498265652210502), np.float64(0.10368022352606601), np.float64(0.10266916185955256), np.float64(0.10509943490261092), np.float64(0.10590482296125675), np.float64(0.10456608707431055), np.float64(0.10653920623843847), np.float64(0.10805941175722489), np.float64(0.10624775463792288), np.float64(0.10775584245889328), np.float64(0.10827831947059294), np.float64(0.10931185113092597), np.float64(0.10945907411517257), np.float64(0.10909353660026441), np.float64(0.10993974832678591), np.float64(0.1101438909658887), np.float64(0.11070883259868648), np.float64(0.11090034219794537), np.float64(0.11149954468634542), np.float64(0.1103431744105934), np.float64(0.11175232712031162), np.float64(0.11148680399557319), np.float64(0.11198660324610425), np.float64(0.11219203576183613), np.float64(0.11318268257808291), np.float64(0.11217347881672705), np.float64(0.1139922885573525), np.float64(0.11302624181898656), np.float64(0.11424781054593985), np.float64(0.11417317768424486), np.float64(0.11442747337754655), np.float64(0.11471286056729478), np.float64(0.11547667164240241), np.float64(0.1160136761166274), np.float64(0.11568940023810062), np.float64(0.11591878433366917), np.float64(0.11408639014858274), np.float64(0.11439966606296147), np.float64(0.11513794370583837)]\n"
     ]
    },
    {
     "name": "stderr",
     "output_type": "stream",
     "text": [
      "4it [00:00,  8.94it/s]"
     ]
    },
    {
     "name": "stdout",
     "output_type": "stream",
     "text": [
      "0.19877378166400342\n",
      "0.0009846406718118377\n"
     ]
    },
    {
     "name": "stderr",
     "output_type": "stream",
     "text": [
      "104it [00:10,  8.01it/s]"
     ]
    },
    {
     "name": "stdout",
     "output_type": "stream",
     "text": [
      "0.21861961916775807\n",
      "0.0009845637015882347\n"
     ]
    },
    {
     "name": "stderr",
     "output_type": "stream",
     "text": [
      "202it [00:21,  3.25it/s]"
     ]
    },
    {
     "name": "stdout",
     "output_type": "stream",
     "text": [
      "0.20120280869284757\n",
      "0.0009844865420404773\n"
     ]
    },
    {
     "name": "stderr",
     "output_type": "stream",
     "text": [
      "304it [00:33,  6.91it/s]"
     ]
    },
    {
     "name": "stdout",
     "output_type": "stream",
     "text": [
      "0.20586510554195245\n",
      "0.000984409193199027\n"
     ]
    },
    {
     "name": "stderr",
     "output_type": "stream",
     "text": [
      "405it [00:41, 10.42it/s]"
     ]
    },
    {
     "name": "stdout",
     "output_type": "stream",
     "text": [
      "0.21022017034851984\n",
      "0.0009843316550944199\n"
     ]
    },
    {
     "name": "stderr",
     "output_type": "stream",
     "text": [
      "504it [00:52,  7.81it/s]"
     ]
    },
    {
     "name": "stdout",
     "output_type": "stream",
     "text": [
      "0.20457059686478268\n",
      "0.0009842539277572656\n"
     ]
    },
    {
     "name": "stderr",
     "output_type": "stream",
     "text": [
      "530it [00:54,  9.79it/s]\n",
      "17it [00:06,  2.82it/s]\n"
     ]
    },
    {
     "name": "stdout",
     "output_type": "stream",
     "text": [
      "[np.float64(0.0005046573625106977), np.float64(0.014041017596663749), np.float64(0.018425972263233604), np.float64(0.025834523362211873), np.float64(0.04087811381197138), np.float64(0.04275999347535726), np.float64(0.047120153307936126), np.float64(0.05459197220505732), np.float64(0.058714916435085064), np.float64(0.06103310387841883), np.float64(0.06479490886323352), np.float64(0.06644989614585231), np.float64(0.06785676909819373), np.float64(0.07267669176814838), np.float64(0.0783693928878886), np.float64(0.07899176133458549), np.float64(0.0808455432161412), np.float64(0.08439426999904016), np.float64(0.0816649370375792), np.float64(0.08474629026148321), np.float64(0.08638965467113104), np.float64(0.08778778272601401), np.float64(0.091144266324692), np.float64(0.09189208237059171), np.float64(0.09023893031067756), np.float64(0.09446338608198383), np.float64(0.09456566263520398), np.float64(0.09521143106103727), np.float64(0.09703865703730084), np.float64(0.0965046512267794), np.float64(0.09771715757827541), np.float64(0.10099141802082078), np.float64(0.1013083732302781), np.float64(0.10142313007936195), np.float64(0.10231498978286353), np.float64(0.10452278992331902), np.float64(0.10214497892952518), np.float64(0.10498265652210502), np.float64(0.10368022352606601), np.float64(0.10266916185955256), np.float64(0.10509943490261092), np.float64(0.10590482296125675), np.float64(0.10456608707431055), np.float64(0.10653920623843847), np.float64(0.10805941175722489), np.float64(0.10624775463792288), np.float64(0.10775584245889328), np.float64(0.10827831947059294), np.float64(0.10931185113092597), np.float64(0.10945907411517257), np.float64(0.10909353660026441), np.float64(0.10993974832678591), np.float64(0.1101438909658887), np.float64(0.11070883259868648), np.float64(0.11090034219794537), np.float64(0.11149954468634542), np.float64(0.1103431744105934), np.float64(0.11175232712031162), np.float64(0.11148680399557319), np.float64(0.11198660324610425), np.float64(0.11219203576183613), np.float64(0.11318268257808291), np.float64(0.11217347881672705), np.float64(0.1139922885573525), np.float64(0.11302624181898656), np.float64(0.11424781054593985), np.float64(0.11417317768424486), np.float64(0.11442747337754655), np.float64(0.11471286056729478), np.float64(0.11547667164240241), np.float64(0.1160136761166274), np.float64(0.11568940023810062), np.float64(0.11591878433366917), np.float64(0.11408639014858274), np.float64(0.11439966606296147), np.float64(0.11513794370583837), np.float64(0.1158859640107064)]\n"
     ]
    },
    {
     "name": "stderr",
     "output_type": "stream",
     "text": [
      "4it [00:00,  8.33it/s]"
     ]
    },
    {
     "name": "stdout",
     "output_type": "stream",
     "text": [
      "0.2144142372050655\n",
      "0.000984230572660359\n"
     ]
    },
    {
     "name": "stderr",
     "output_type": "stream",
     "text": [
      "103it [00:10,  7.29it/s]"
     ]
    },
    {
     "name": "stdout",
     "output_type": "stream",
     "text": [
      "0.20713264585811644\n",
      "0.0009841525993667815\n"
     ]
    },
    {
     "name": "stderr",
     "output_type": "stream",
     "text": [
      "204it [00:21,  8.84it/s]"
     ]
    },
    {
     "name": "stdout",
     "output_type": "stream",
     "text": [
      "0.2028014046846829\n",
      "0.0009840744369113438\n"
     ]
    },
    {
     "name": "stderr",
     "output_type": "stream",
     "text": [
      "305it [00:34,  6.48it/s]"
     ]
    },
    {
     "name": "stdout",
     "output_type": "stream",
     "text": [
      "0.20136567534460503\n",
      "0.000983996085324907\n"
     ]
    },
    {
     "name": "stderr",
     "output_type": "stream",
     "text": [
      "404it [00:42, 10.30it/s]"
     ]
    },
    {
     "name": "stdout",
     "output_type": "stream",
     "text": [
      "0.1979211139968933\n",
      "0.0009839175446384018\n"
     ]
    },
    {
     "name": "stderr",
     "output_type": "stream",
     "text": [
      "503it [00:53,  8.01it/s]"
     ]
    },
    {
     "name": "stdout",
     "output_type": "stream",
     "text": [
      "0.20807349739451214\n",
      "0.0009838388148828354\n"
     ]
    },
    {
     "name": "stderr",
     "output_type": "stream",
     "text": [
      "530it [00:57,  9.26it/s]\n",
      "17it [00:06,  2.73it/s]\n"
     ]
    },
    {
     "name": "stdout",
     "output_type": "stream",
     "text": [
      "[np.float64(0.0005046573625106977), np.float64(0.014041017596663749), np.float64(0.018425972263233604), np.float64(0.025834523362211873), np.float64(0.04087811381197138), np.float64(0.04275999347535726), np.float64(0.047120153307936126), np.float64(0.05459197220505732), np.float64(0.058714916435085064), np.float64(0.06103310387841883), np.float64(0.06479490886323352), np.float64(0.06644989614585231), np.float64(0.06785676909819373), np.float64(0.07267669176814838), np.float64(0.0783693928878886), np.float64(0.07899176133458549), np.float64(0.0808455432161412), np.float64(0.08439426999904016), np.float64(0.0816649370375792), np.float64(0.08474629026148321), np.float64(0.08638965467113104), np.float64(0.08778778272601401), np.float64(0.091144266324692), np.float64(0.09189208237059171), np.float64(0.09023893031067756), np.float64(0.09446338608198383), np.float64(0.09456566263520398), np.float64(0.09521143106103727), np.float64(0.09703865703730084), np.float64(0.0965046512267794), np.float64(0.09771715757827541), np.float64(0.10099141802082078), np.float64(0.1013083732302781), np.float64(0.10142313007936195), np.float64(0.10231498978286353), np.float64(0.10452278992331902), np.float64(0.10214497892952518), np.float64(0.10498265652210502), np.float64(0.10368022352606601), np.float64(0.10266916185955256), np.float64(0.10509943490261092), np.float64(0.10590482296125675), np.float64(0.10456608707431055), np.float64(0.10653920623843847), np.float64(0.10805941175722489), np.float64(0.10624775463792288), np.float64(0.10775584245889328), np.float64(0.10827831947059294), np.float64(0.10931185113092597), np.float64(0.10945907411517257), np.float64(0.10909353660026441), np.float64(0.10993974832678591), np.float64(0.1101438909658887), np.float64(0.11070883259868648), np.float64(0.11090034219794537), np.float64(0.11149954468634542), np.float64(0.1103431744105934), np.float64(0.11175232712031162), np.float64(0.11148680399557319), np.float64(0.11198660324610425), np.float64(0.11219203576183613), np.float64(0.11318268257808291), np.float64(0.11217347881672705), np.float64(0.1139922885573525), np.float64(0.11302624181898656), np.float64(0.11424781054593985), np.float64(0.11417317768424486), np.float64(0.11442747337754655), np.float64(0.11471286056729478), np.float64(0.11547667164240241), np.float64(0.1160136761166274), np.float64(0.11568940023810062), np.float64(0.11591878433366917), np.float64(0.11408639014858274), np.float64(0.11439966606296147), np.float64(0.11513794370583837), np.float64(0.1158859640107064), np.float64(0.11374811712103378)]\n"
     ]
    },
    {
     "name": "stderr",
     "output_type": "stream",
     "text": [
      "4it [00:00, 10.26it/s]"
     ]
    },
    {
     "name": "stdout",
     "output_type": "stream",
     "text": [
      "0.22003197261444873\n",
      "0.0009838151590923433\n"
     ]
    },
    {
     "name": "stderr",
     "output_type": "stream",
     "text": [
      "105it [00:09,  6.77it/s]"
     ]
    },
    {
     "name": "stdout",
     "output_type": "stream",
     "text": [
      "0.2092633087826223\n",
      "0.000983736183593473\n"
     ]
    },
    {
     "name": "stderr",
     "output_type": "stream",
     "text": [
      "202it [00:21,  4.37it/s]"
     ]
    },
    {
     "name": "stdout",
     "output_type": "stream",
     "text": [
      "0.20227463912053695\n",
      "0.000983657019097139\n"
     ]
    },
    {
     "name": "stderr",
     "output_type": "stream",
     "text": [
      "304it [00:32,  8.77it/s]"
     ]
    },
    {
     "name": "stdout",
     "output_type": "stream",
     "text": [
      "0.2133036098291069\n",
      "0.0009835776656345946\n"
     ]
    },
    {
     "name": "stderr",
     "output_type": "stream",
     "text": [
      "404it [00:41,  5.72it/s]"
     ]
    },
    {
     "name": "stdout",
     "output_type": "stream",
     "text": [
      "0.20672371018601032\n",
      "0.0009834981232371665\n"
     ]
    },
    {
     "name": "stderr",
     "output_type": "stream",
     "text": [
      "503it [00:52,  4.82it/s]"
     ]
    },
    {
     "name": "stdout",
     "output_type": "stream",
     "text": [
      "0.18753511977857937\n",
      "0.0009834183919362575\n"
     ]
    },
    {
     "name": "stderr",
     "output_type": "stream",
     "text": [
      "530it [00:55,  9.63it/s]\n",
      "17it [00:06,  2.74it/s]\n"
     ]
    },
    {
     "name": "stdout",
     "output_type": "stream",
     "text": [
      "[np.float64(0.0005046573625106977), np.float64(0.014041017596663749), np.float64(0.018425972263233604), np.float64(0.025834523362211873), np.float64(0.04087811381197138), np.float64(0.04275999347535726), np.float64(0.047120153307936126), np.float64(0.05459197220505732), np.float64(0.058714916435085064), np.float64(0.06103310387841883), np.float64(0.06479490886323352), np.float64(0.06644989614585231), np.float64(0.06785676909819373), np.float64(0.07267669176814838), np.float64(0.0783693928878886), np.float64(0.07899176133458549), np.float64(0.0808455432161412), np.float64(0.08439426999904016), np.float64(0.0816649370375792), np.float64(0.08474629026148321), np.float64(0.08638965467113104), np.float64(0.08778778272601401), np.float64(0.091144266324692), np.float64(0.09189208237059171), np.float64(0.09023893031067756), np.float64(0.09446338608198383), np.float64(0.09456566263520398), np.float64(0.09521143106103727), np.float64(0.09703865703730084), np.float64(0.0965046512267794), np.float64(0.09771715757827541), np.float64(0.10099141802082078), np.float64(0.1013083732302781), np.float64(0.10142313007936195), np.float64(0.10231498978286353), np.float64(0.10452278992331902), np.float64(0.10214497892952518), np.float64(0.10498265652210502), np.float64(0.10368022352606601), np.float64(0.10266916185955256), np.float64(0.10509943490261092), np.float64(0.10590482296125675), np.float64(0.10456608707431055), np.float64(0.10653920623843847), np.float64(0.10805941175722489), np.float64(0.10624775463792288), np.float64(0.10775584245889328), np.float64(0.10827831947059294), np.float64(0.10931185113092597), np.float64(0.10945907411517257), np.float64(0.10909353660026441), np.float64(0.10993974832678591), np.float64(0.1101438909658887), np.float64(0.11070883259868648), np.float64(0.11090034219794537), np.float64(0.11149954468634542), np.float64(0.1103431744105934), np.float64(0.11175232712031162), np.float64(0.11148680399557319), np.float64(0.11198660324610425), np.float64(0.11219203576183613), np.float64(0.11318268257808291), np.float64(0.11217347881672705), np.float64(0.1139922885573525), np.float64(0.11302624181898656), np.float64(0.11424781054593985), np.float64(0.11417317768424486), np.float64(0.11442747337754655), np.float64(0.11471286056729478), np.float64(0.11547667164240241), np.float64(0.1160136761166274), np.float64(0.11568940023810062), np.float64(0.11591878433366917), np.float64(0.11408639014858274), np.float64(0.11439966606296147), np.float64(0.11513794370583837), np.float64(0.1158859640107064), np.float64(0.11374811712103378), np.float64(0.11474021438549588)]\n"
     ]
    },
    {
     "name": "stderr",
     "output_type": "stream",
     "text": [
      "4it [00:00, 11.99it/s]"
     ]
    },
    {
     "name": "stdout",
     "output_type": "stream",
     "text": [
      "0.21256039796548282\n",
      "0.0009833944357145097\n"
     ]
    },
    {
     "name": "stderr",
     "output_type": "stream",
     "text": [
      "103it [00:09,  7.92it/s]"
     ]
    },
    {
     "name": "stdout",
     "output_type": "stream",
     "text": [
      "0.2069807084014363\n",
      "0.0009833144588861432\n"
     ]
    },
    {
     "name": "stderr",
     "output_type": "stream",
     "text": [
      "201it [00:20,  5.61it/s]"
     ]
    },
    {
     "name": "stdout",
     "output_type": "stream",
     "text": [
      "0.22282684558514404\n",
      "0.0009832342932268045\n"
     ]
    },
    {
     "name": "stderr",
     "output_type": "stream",
     "text": [
      "304it [00:32,  8.60it/s]"
     ]
    },
    {
     "name": "stdout",
     "output_type": "stream",
     "text": [
      "0.19621945705584945\n",
      "0.0009831539387681403\n"
     ]
    },
    {
     "name": "stderr",
     "output_type": "stream",
     "text": [
      "404it [00:40, 10.57it/s]"
     ]
    },
    {
     "name": "stdout",
     "output_type": "stream",
     "text": [
      "0.20170543951077238\n",
      "0.0009830733955418734\n"
     ]
    },
    {
     "name": "stderr",
     "output_type": "stream",
     "text": [
      "501it [00:51,  4.27it/s]"
     ]
    },
    {
     "name": "stdout",
     "output_type": "stream",
     "text": [
      "0.2043294434855291\n",
      "0.0009829926635798016\n"
     ]
    },
    {
     "name": "stderr",
     "output_type": "stream",
     "text": [
      "530it [00:53,  9.83it/s]\n",
      "17it [00:05,  3.09it/s]\n"
     ]
    },
    {
     "name": "stdout",
     "output_type": "stream",
     "text": [
      "[np.float64(0.0005046573625106977), np.float64(0.014041017596663749), np.float64(0.018425972263233604), np.float64(0.025834523362211873), np.float64(0.04087811381197138), np.float64(0.04275999347535726), np.float64(0.047120153307936126), np.float64(0.05459197220505732), np.float64(0.058714916435085064), np.float64(0.06103310387841883), np.float64(0.06479490886323352), np.float64(0.06644989614585231), np.float64(0.06785676909819373), np.float64(0.07267669176814838), np.float64(0.0783693928878886), np.float64(0.07899176133458549), np.float64(0.0808455432161412), np.float64(0.08439426999904016), np.float64(0.0816649370375792), np.float64(0.08474629026148321), np.float64(0.08638965467113104), np.float64(0.08778778272601401), np.float64(0.091144266324692), np.float64(0.09189208237059171), np.float64(0.09023893031067756), np.float64(0.09446338608198383), np.float64(0.09456566263520398), np.float64(0.09521143106103727), np.float64(0.09703865703730084), np.float64(0.0965046512267794), np.float64(0.09771715757827541), np.float64(0.10099141802082078), np.float64(0.1013083732302781), np.float64(0.10142313007936195), np.float64(0.10231498978286353), np.float64(0.10452278992331902), np.float64(0.10214497892952518), np.float64(0.10498265652210502), np.float64(0.10368022352606601), np.float64(0.10266916185955256), np.float64(0.10509943490261092), np.float64(0.10590482296125675), np.float64(0.10456608707431055), np.float64(0.10653920623843847), np.float64(0.10805941175722489), np.float64(0.10624775463792288), np.float64(0.10775584245889328), np.float64(0.10827831947059294), np.float64(0.10931185113092597), np.float64(0.10945907411517257), np.float64(0.10909353660026441), np.float64(0.10993974832678591), np.float64(0.1101438909658887), np.float64(0.11070883259868648), np.float64(0.11090034219794537), np.float64(0.11149954468634542), np.float64(0.1103431744105934), np.float64(0.11175232712031162), np.float64(0.11148680399557319), np.float64(0.11198660324610425), np.float64(0.11219203576183613), np.float64(0.11318268257808291), np.float64(0.11217347881672705), np.float64(0.1139922885573525), np.float64(0.11302624181898656), np.float64(0.11424781054593985), np.float64(0.11417317768424486), np.float64(0.11442747337754655), np.float64(0.11471286056729478), np.float64(0.11547667164240241), np.float64(0.1160136761166274), np.float64(0.11568940023810062), np.float64(0.11591878433366917), np.float64(0.11408639014858274), np.float64(0.11439966606296147), np.float64(0.11513794370583837), np.float64(0.1158859640107064), np.float64(0.11374811712103378), np.float64(0.11474021438549588), np.float64(0.11457012025167797)]\n"
     ]
    },
    {
     "name": "stderr",
     "output_type": "stream",
     "text": [
      "4it [00:00,  8.76it/s]"
     ]
    },
    {
     "name": "stdout",
     "output_type": "stream",
     "text": [
      "0.22069236711073167\n",
      "0.0009829684071924613\n"
     ]
    },
    {
     "name": "stderr",
     "output_type": "stream",
     "text": [
      "103it [00:10,  7.31it/s]"
     ]
    },
    {
     "name": "stdout",
     "output_type": "stream",
     "text": [
      "0.2155448522749367\n",
      "0.0009828874299215031\n"
     ]
    },
    {
     "name": "stderr",
     "output_type": "stream",
     "text": [
      "203it [00:20,  8.95it/s]"
     ]
    },
    {
     "name": "stdout",
     "output_type": "stream",
     "text": [
      "0.20623720387842542\n",
      "0.0009828062639881542\n"
     ]
    },
    {
     "name": "stderr",
     "output_type": "stream",
     "text": [
      "303it [00:30,  9.15it/s]"
     ]
    },
    {
     "name": "stdout",
     "output_type": "stream",
     "text": [
      "0.20652997086645292\n",
      "0.0009827249094244604\n"
     ]
    },
    {
     "name": "stderr",
     "output_type": "stream",
     "text": [
      "404it [00:39, 10.59it/s]"
     ]
    },
    {
     "name": "stdout",
     "output_type": "stream",
     "text": [
      "0.22233964231124217\n",
      "0.0009826433662625366\n"
     ]
    },
    {
     "name": "stderr",
     "output_type": "stream",
     "text": [
      "505it [00:49,  9.18it/s]"
     ]
    },
    {
     "name": "stdout",
     "output_type": "stream",
     "text": [
      "0.19696639571887087\n",
      "0.000982561634534578\n"
     ]
    },
    {
     "name": "stderr",
     "output_type": "stream",
     "text": [
      "530it [00:52, 10.12it/s]\n",
      "17it [00:05,  3.31it/s]\n"
     ]
    },
    {
     "name": "stdout",
     "output_type": "stream",
     "text": [
      "[np.float64(0.0005046573625106977), np.float64(0.014041017596663749), np.float64(0.018425972263233604), np.float64(0.025834523362211873), np.float64(0.04087811381197138), np.float64(0.04275999347535726), np.float64(0.047120153307936126), np.float64(0.05459197220505732), np.float64(0.058714916435085064), np.float64(0.06103310387841883), np.float64(0.06479490886323352), np.float64(0.06644989614585231), np.float64(0.06785676909819373), np.float64(0.07267669176814838), np.float64(0.0783693928878886), np.float64(0.07899176133458549), np.float64(0.0808455432161412), np.float64(0.08439426999904016), np.float64(0.0816649370375792), np.float64(0.08474629026148321), np.float64(0.08638965467113104), np.float64(0.08778778272601401), np.float64(0.091144266324692), np.float64(0.09189208237059171), np.float64(0.09023893031067756), np.float64(0.09446338608198383), np.float64(0.09456566263520398), np.float64(0.09521143106103727), np.float64(0.09703865703730084), np.float64(0.0965046512267794), np.float64(0.09771715757827541), np.float64(0.10099141802082078), np.float64(0.1013083732302781), np.float64(0.10142313007936195), np.float64(0.10231498978286353), np.float64(0.10452278992331902), np.float64(0.10214497892952518), np.float64(0.10498265652210502), np.float64(0.10368022352606601), np.float64(0.10266916185955256), np.float64(0.10509943490261092), np.float64(0.10590482296125675), np.float64(0.10456608707431055), np.float64(0.10653920623843847), np.float64(0.10805941175722489), np.float64(0.10624775463792288), np.float64(0.10775584245889328), np.float64(0.10827831947059294), np.float64(0.10931185113092597), np.float64(0.10945907411517257), np.float64(0.10909353660026441), np.float64(0.10993974832678591), np.float64(0.1101438909658887), np.float64(0.11070883259868648), np.float64(0.11090034219794537), np.float64(0.11149954468634542), np.float64(0.1103431744105934), np.float64(0.11175232712031162), np.float64(0.11148680399557319), np.float64(0.11198660324610425), np.float64(0.11219203576183613), np.float64(0.11318268257808291), np.float64(0.11217347881672705), np.float64(0.1139922885573525), np.float64(0.11302624181898656), np.float64(0.11424781054593985), np.float64(0.11417317768424486), np.float64(0.11442747337754655), np.float64(0.11471286056729478), np.float64(0.11547667164240241), np.float64(0.1160136761166274), np.float64(0.11568940023810062), np.float64(0.11591878433366917), np.float64(0.11408639014858274), np.float64(0.11439966606296147), np.float64(0.11513794370583837), np.float64(0.1158859640107064), np.float64(0.11374811712103378), np.float64(0.11474021438549588), np.float64(0.11457012025167797), np.float64(0.11463011152047274)]\n"
     ]
    },
    {
     "name": "stderr",
     "output_type": "stream",
     "text": [
      "4it [00:00,  9.00it/s]"
     ]
    },
    {
     "name": "stdout",
     "output_type": "stream",
     "text": [
      "0.21350998274817806\n",
      "0.0009825370782506348\n"
     ]
    },
    {
     "name": "stderr",
     "output_type": "stream",
     "text": [
      "102it [00:12,  4.64it/s]"
     ]
    },
    {
     "name": "stdout",
     "output_type": "stream",
     "text": [
      "0.20760477377278647\n",
      "0.0009824551014350766\n"
     ]
    },
    {
     "name": "stderr",
     "output_type": "stream",
     "text": [
      "205it [00:23,  8.14it/s]"
     ]
    },
    {
     "name": "stdout",
     "output_type": "stream",
     "text": [
      "0.19810091731576826\n",
      "0.0009823729361278064\n"
     ]
    },
    {
     "name": "stderr",
     "output_type": "stream",
     "text": [
      "304it [00:33,  9.27it/s]"
     ]
    },
    {
     "name": "stdout",
     "output_type": "stream",
     "text": [
      "0.21235710296531388\n",
      "0.0009822905823612612\n"
     ]
    },
    {
     "name": "stderr",
     "output_type": "stream",
     "text": [
      "404it [00:44,  9.54it/s]"
     ]
    },
    {
     "name": "stdout",
     "output_type": "stream",
     "text": [
      "0.19749697501803243\n",
      "0.0009822080401679508\n"
     ]
    },
    {
     "name": "stderr",
     "output_type": "stream",
     "text": [
      "503it [00:53,  9.30it/s]"
     ]
    },
    {
     "name": "stdout",
     "output_type": "stream",
     "text": [
      "0.20835707597407863\n",
      "0.0009821253095804682\n"
     ]
    },
    {
     "name": "stderr",
     "output_type": "stream",
     "text": [
      "530it [00:55,  9.59it/s]\n",
      "17it [00:05,  2.88it/s]\n"
     ]
    },
    {
     "name": "stdout",
     "output_type": "stream",
     "text": [
      "[np.float64(0.0005046573625106977), np.float64(0.014041017596663749), np.float64(0.018425972263233604), np.float64(0.025834523362211873), np.float64(0.04087811381197138), np.float64(0.04275999347535726), np.float64(0.047120153307936126), np.float64(0.05459197220505732), np.float64(0.058714916435085064), np.float64(0.06103310387841883), np.float64(0.06479490886323352), np.float64(0.06644989614585231), np.float64(0.06785676909819373), np.float64(0.07267669176814838), np.float64(0.0783693928878886), np.float64(0.07899176133458549), np.float64(0.0808455432161412), np.float64(0.08439426999904016), np.float64(0.0816649370375792), np.float64(0.08474629026148321), np.float64(0.08638965467113104), np.float64(0.08778778272601401), np.float64(0.091144266324692), np.float64(0.09189208237059171), np.float64(0.09023893031067756), np.float64(0.09446338608198383), np.float64(0.09456566263520398), np.float64(0.09521143106103727), np.float64(0.09703865703730084), np.float64(0.0965046512267794), np.float64(0.09771715757827541), np.float64(0.10099141802082078), np.float64(0.1013083732302781), np.float64(0.10142313007936195), np.float64(0.10231498978286353), np.float64(0.10452278992331902), np.float64(0.10214497892952518), np.float64(0.10498265652210502), np.float64(0.10368022352606601), np.float64(0.10266916185955256), np.float64(0.10509943490261092), np.float64(0.10590482296125675), np.float64(0.10456608707431055), np.float64(0.10653920623843847), np.float64(0.10805941175722489), np.float64(0.10624775463792288), np.float64(0.10775584245889328), np.float64(0.10827831947059294), np.float64(0.10931185113092597), np.float64(0.10945907411517257), np.float64(0.10909353660026441), np.float64(0.10993974832678591), np.float64(0.1101438909658887), np.float64(0.11070883259868648), np.float64(0.11090034219794537), np.float64(0.11149954468634542), np.float64(0.1103431744105934), np.float64(0.11175232712031162), np.float64(0.11148680399557319), np.float64(0.11198660324610425), np.float64(0.11219203576183613), np.float64(0.11318268257808291), np.float64(0.11217347881672705), np.float64(0.1139922885573525), np.float64(0.11302624181898656), np.float64(0.11424781054593985), np.float64(0.11417317768424486), np.float64(0.11442747337754655), np.float64(0.11471286056729478), np.float64(0.11547667164240241), np.float64(0.1160136761166274), np.float64(0.11568940023810062), np.float64(0.11591878433366917), np.float64(0.11408639014858274), np.float64(0.11439966606296147), np.float64(0.11513794370583837), np.float64(0.1158859640107064), np.float64(0.11374811712103378), np.float64(0.11474021438549588), np.float64(0.11457012025167797), np.float64(0.11463011152047274), np.float64(0.11447461070868009)]\n"
     ]
    },
    {
     "name": "stderr",
     "output_type": "stream",
     "text": [
      "4it [00:00,  8.19it/s]"
     ]
    },
    {
     "name": "stdout",
     "output_type": "stream",
     "text": [
      "0.2099070043085557\n",
      "0.0009821004536722387\n"
     ]
    },
    {
     "name": "stderr",
     "output_type": "stream",
     "text": [
      "102it [00:12,  4.63it/s]"
     ]
    },
    {
     "name": "stdout",
     "output_type": "stream",
     "text": [
      "0.21696894470429456\n",
      "0.0009820174782211627\n"
     ]
    },
    {
     "name": "stderr",
     "output_type": "stream",
     "text": [
      "205it [00:23,  7.72it/s]"
     ]
    },
    {
     "name": "stdout",
     "output_type": "stream",
     "text": [
      "0.20748159485407056\n",
      "0.0009819343144511408\n"
     ]
    },
    {
     "name": "stderr",
     "output_type": "stream",
     "text": [
      "304it [00:34,  7.59it/s]"
     ]
    },
    {
     "name": "stdout",
     "output_type": "stream",
     "text": [
      "0.22299556979034418\n",
      "0.0009818509623950055\n"
     ]
    },
    {
     "name": "stderr",
     "output_type": "stream",
     "text": [
      "404it [00:42,  8.81it/s]"
     ]
    },
    {
     "name": "stdout",
     "output_type": "stream",
     "text": [
      "0.20786254415056296\n",
      "0.0009817674220856608\n"
     ]
    },
    {
     "name": "stderr",
     "output_type": "stream",
     "text": [
      "504it [00:50, 10.70it/s]"
     ]
    },
    {
     "name": "stdout",
     "output_type": "stream",
     "text": [
      "0.20006092834420022\n",
      "0.0009816836935560881\n"
     ]
    },
    {
     "name": "stderr",
     "output_type": "stream",
     "text": [
      "530it [00:52, 10.10it/s]\n",
      "17it [00:06,  2.52it/s]\n"
     ]
    },
    {
     "name": "stdout",
     "output_type": "stream",
     "text": [
      "[np.float64(0.0005046573625106977), np.float64(0.014041017596663749), np.float64(0.018425972263233604), np.float64(0.025834523362211873), np.float64(0.04087811381197138), np.float64(0.04275999347535726), np.float64(0.047120153307936126), np.float64(0.05459197220505732), np.float64(0.058714916435085064), np.float64(0.06103310387841883), np.float64(0.06479490886323352), np.float64(0.06644989614585231), np.float64(0.06785676909819373), np.float64(0.07267669176814838), np.float64(0.0783693928878886), np.float64(0.07899176133458549), np.float64(0.0808455432161412), np.float64(0.08439426999904016), np.float64(0.0816649370375792), np.float64(0.08474629026148321), np.float64(0.08638965467113104), np.float64(0.08778778272601401), np.float64(0.091144266324692), np.float64(0.09189208237059171), np.float64(0.09023893031067756), np.float64(0.09446338608198383), np.float64(0.09456566263520398), np.float64(0.09521143106103727), np.float64(0.09703865703730084), np.float64(0.0965046512267794), np.float64(0.09771715757827541), np.float64(0.10099141802082078), np.float64(0.1013083732302781), np.float64(0.10142313007936195), np.float64(0.10231498978286353), np.float64(0.10452278992331902), np.float64(0.10214497892952518), np.float64(0.10498265652210502), np.float64(0.10368022352606601), np.float64(0.10266916185955256), np.float64(0.10509943490261092), np.float64(0.10590482296125675), np.float64(0.10456608707431055), np.float64(0.10653920623843847), np.float64(0.10805941175722489), np.float64(0.10624775463792288), np.float64(0.10775584245889328), np.float64(0.10827831947059294), np.float64(0.10931185113092597), np.float64(0.10945907411517257), np.float64(0.10909353660026441), np.float64(0.10993974832678591), np.float64(0.1101438909658887), np.float64(0.11070883259868648), np.float64(0.11090034219794537), np.float64(0.11149954468634542), np.float64(0.1103431744105934), np.float64(0.11175232712031162), np.float64(0.11148680399557319), np.float64(0.11198660324610425), np.float64(0.11219203576183613), np.float64(0.11318268257808291), np.float64(0.11217347881672705), np.float64(0.1139922885573525), np.float64(0.11302624181898656), np.float64(0.11424781054593985), np.float64(0.11417317768424486), np.float64(0.11442747337754655), np.float64(0.11471286056729478), np.float64(0.11547667164240241), np.float64(0.1160136761166274), np.float64(0.11568940023810062), np.float64(0.11591878433366917), np.float64(0.11408639014858274), np.float64(0.11439966606296147), np.float64(0.11513794370583837), np.float64(0.1158859640107064), np.float64(0.11374811712103378), np.float64(0.11474021438549588), np.float64(0.11457012025167797), np.float64(0.11463011152047274), np.float64(0.11447461070868009), np.float64(0.1136764778769844)]\n"
     ]
    },
    {
     "name": "stderr",
     "output_type": "stream",
     "text": [
      "4it [00:00,  8.14it/s]"
     ]
    },
    {
     "name": "stdout",
     "output_type": "stream",
     "text": [
      "0.20259793235015466\n",
      "0.0009816585382992121\n"
     ]
    },
    {
     "name": "stderr",
     "output_type": "stream",
     "text": [
      "102it [00:12,  4.65it/s]"
     ]
    },
    {
     "name": "stdout",
     "output_type": "stream",
     "text": [
      "0.21967970466496925\n",
      "0.0009815745651327722\n"
     ]
    },
    {
     "name": "stderr",
     "output_type": "stream",
     "text": [
      "203it [00:24,  5.93it/s]"
     ]
    },
    {
     "name": "stdout",
     "output_type": "stream",
     "text": [
      "0.2126206572243197\n",
      "0.000981490403822241\n"
     ]
    },
    {
     "name": "stderr",
     "output_type": "stream",
     "text": [
      "300it [00:33, 17.44it/s]"
     ]
    },
    {
     "name": "stdout",
     "output_type": "stream",
     "text": [
      "0.2123577528353655\n",
      "0.0009814060544008432\n"
     ]
    },
    {
     "name": "stderr",
     "output_type": "stream",
     "text": [
      "404it [00:45,  8.51it/s]"
     ]
    },
    {
     "name": "stdout",
     "output_type": "stream",
     "text": [
      "0.21216706681521677\n",
      "0.0009813215169018814\n"
     ]
    },
    {
     "name": "stderr",
     "output_type": "stream",
     "text": [
      "506it [00:52, 13.94it/s]"
     ]
    },
    {
     "name": "stdout",
     "output_type": "stream",
     "text": [
      "0.20041200890417743\n",
      "0.000981236791358728\n"
     ]
    },
    {
     "name": "stderr",
     "output_type": "stream",
     "text": [
      "530it [00:55,  9.61it/s]\n",
      "17it [00:06,  2.66it/s]\n"
     ]
    },
    {
     "name": "stdout",
     "output_type": "stream",
     "text": [
      "[np.float64(0.0005046573625106977), np.float64(0.014041017596663749), np.float64(0.018425972263233604), np.float64(0.025834523362211873), np.float64(0.04087811381197138), np.float64(0.04275999347535726), np.float64(0.047120153307936126), np.float64(0.05459197220505732), np.float64(0.058714916435085064), np.float64(0.06103310387841883), np.float64(0.06479490886323352), np.float64(0.06644989614585231), np.float64(0.06785676909819373), np.float64(0.07267669176814838), np.float64(0.0783693928878886), np.float64(0.07899176133458549), np.float64(0.0808455432161412), np.float64(0.08439426999904016), np.float64(0.0816649370375792), np.float64(0.08474629026148321), np.float64(0.08638965467113104), np.float64(0.08778778272601401), np.float64(0.091144266324692), np.float64(0.09189208237059171), np.float64(0.09023893031067756), np.float64(0.09446338608198383), np.float64(0.09456566263520398), np.float64(0.09521143106103727), np.float64(0.09703865703730084), np.float64(0.0965046512267794), np.float64(0.09771715757827541), np.float64(0.10099141802082078), np.float64(0.1013083732302781), np.float64(0.10142313007936195), np.float64(0.10231498978286353), np.float64(0.10452278992331902), np.float64(0.10214497892952518), np.float64(0.10498265652210502), np.float64(0.10368022352606601), np.float64(0.10266916185955256), np.float64(0.10509943490261092), np.float64(0.10590482296125675), np.float64(0.10456608707431055), np.float64(0.10653920623843847), np.float64(0.10805941175722489), np.float64(0.10624775463792288), np.float64(0.10775584245889328), np.float64(0.10827831947059294), np.float64(0.10931185113092597), np.float64(0.10945907411517257), np.float64(0.10909353660026441), np.float64(0.10993974832678591), np.float64(0.1101438909658887), np.float64(0.11070883259868648), np.float64(0.11090034219794537), np.float64(0.11149954468634542), np.float64(0.1103431744105934), np.float64(0.11175232712031162), np.float64(0.11148680399557319), np.float64(0.11198660324610425), np.float64(0.11219203576183613), np.float64(0.11318268257808291), np.float64(0.11217347881672705), np.float64(0.1139922885573525), np.float64(0.11302624181898656), np.float64(0.11424781054593985), np.float64(0.11417317768424486), np.float64(0.11442747337754655), np.float64(0.11471286056729478), np.float64(0.11547667164240241), np.float64(0.1160136761166274), np.float64(0.11568940023810062), np.float64(0.11591878433366917), np.float64(0.11408639014858274), np.float64(0.11439966606296147), np.float64(0.11513794370583837), np.float64(0.1158859640107064), np.float64(0.11374811712103378), np.float64(0.11474021438549588), np.float64(0.11457012025167797), np.float64(0.11463011152047274), np.float64(0.11447461070868009), np.float64(0.1136764778769844), np.float64(0.11458257636961013)]\n"
     ]
    },
    {
     "name": "stderr",
     "output_type": "stream",
     "text": [
      "4it [00:00,  9.07it/s]"
     ]
    },
    {
     "name": "stdout",
     "output_type": "stream",
     "text": [
      "0.21069963358675423\n",
      "0.0009812113370321635\n"
     ]
    },
    {
     "name": "stderr",
     "output_type": "stream",
     "text": [
      "103it [00:12,  5.37it/s]"
     ]
    },
    {
     "name": "stdout",
     "output_type": "stream",
     "text": [
      "0.21659733230382583\n",
      "0.0009811263670815782\n"
     ]
    },
    {
     "name": "stderr",
     "output_type": "stream",
     "text": [
      "204it [00:24,  6.14it/s]"
     ]
    },
    {
     "name": "stdout",
     "output_type": "stream",
     "text": [
      "0.2155290127737288\n",
      "0.0009810412091638436\n"
     ]
    },
    {
     "name": "stderr",
     "output_type": "stream",
     "text": [
      "304it [00:33,  7.98it/s]"
     ]
    },
    {
     "name": "stdout",
     "output_type": "stream",
     "text": [
      "0.2048582313807027\n",
      "0.0009809558633125791\n"
     ]
    },
    {
     "name": "stderr",
     "output_type": "stream",
     "text": [
      "404it [00:43, 11.03it/s]"
     ]
    },
    {
     "name": "stdout",
     "output_type": "stream",
     "text": [
      "0.2058324727936379\n",
      "0.0009808703295614764\n"
     ]
    },
    {
     "name": "stderr",
     "output_type": "stream",
     "text": [
      "506it [00:52, 12.15it/s]"
     ]
    },
    {
     "name": "stdout",
     "output_type": "stream",
     "text": [
      "0.20983036581119183\n",
      "0.0009807846079443055\n"
     ]
    },
    {
     "name": "stderr",
     "output_type": "stream",
     "text": [
      "530it [00:54,  9.76it/s]\n",
      "17it [00:06,  2.76it/s]\n"
     ]
    },
    {
     "name": "stdout",
     "output_type": "stream",
     "text": [
      "[np.float64(0.0005046573625106977), np.float64(0.014041017596663749), np.float64(0.018425972263233604), np.float64(0.025834523362211873), np.float64(0.04087811381197138), np.float64(0.04275999347535726), np.float64(0.047120153307936126), np.float64(0.05459197220505732), np.float64(0.058714916435085064), np.float64(0.06103310387841883), np.float64(0.06479490886323352), np.float64(0.06644989614585231), np.float64(0.06785676909819373), np.float64(0.07267669176814838), np.float64(0.0783693928878886), np.float64(0.07899176133458549), np.float64(0.0808455432161412), np.float64(0.08439426999904016), np.float64(0.0816649370375792), np.float64(0.08474629026148321), np.float64(0.08638965467113104), np.float64(0.08778778272601401), np.float64(0.091144266324692), np.float64(0.09189208237059171), np.float64(0.09023893031067756), np.float64(0.09446338608198383), np.float64(0.09456566263520398), np.float64(0.09521143106103727), np.float64(0.09703865703730084), np.float64(0.0965046512267794), np.float64(0.09771715757827541), np.float64(0.10099141802082078), np.float64(0.1013083732302781), np.float64(0.10142313007936195), np.float64(0.10231498978286353), np.float64(0.10452278992331902), np.float64(0.10214497892952518), np.float64(0.10498265652210502), np.float64(0.10368022352606601), np.float64(0.10266916185955256), np.float64(0.10509943490261092), np.float64(0.10590482296125675), np.float64(0.10456608707431055), np.float64(0.10653920623843847), np.float64(0.10805941175722489), np.float64(0.10624775463792288), np.float64(0.10775584245889328), np.float64(0.10827831947059294), np.float64(0.10931185113092597), np.float64(0.10945907411517257), np.float64(0.10909353660026441), np.float64(0.10993974832678591), np.float64(0.1101438909658887), np.float64(0.11070883259868648), np.float64(0.11090034219794537), np.float64(0.11149954468634542), np.float64(0.1103431744105934), np.float64(0.11175232712031162), np.float64(0.11148680399557319), np.float64(0.11198660324610425), np.float64(0.11219203576183613), np.float64(0.11318268257808291), np.float64(0.11217347881672705), np.float64(0.1139922885573525), np.float64(0.11302624181898656), np.float64(0.11424781054593985), np.float64(0.11417317768424486), np.float64(0.11442747337754655), np.float64(0.11471286056729478), np.float64(0.11547667164240241), np.float64(0.1160136761166274), np.float64(0.11568940023810062), np.float64(0.11591878433366917), np.float64(0.11408639014858274), np.float64(0.11439966606296147), np.float64(0.11513794370583837), np.float64(0.1158859640107064), np.float64(0.11374811712103378), np.float64(0.11474021438549588), np.float64(0.11457012025167797), np.float64(0.11463011152047274), np.float64(0.11447461070868009), np.float64(0.1136764778769844), np.float64(0.11458257636961013), np.float64(0.11553019503149585)]\n"
     ]
    },
    {
     "name": "stderr",
     "output_type": "stream",
     "text": [
      "4it [00:00,  7.46it/s]"
     ]
    },
    {
     "name": "stdout",
     "output_type": "stream",
     "text": [
      "0.20800608999703765\n",
      "0.0009807588548303278\n"
     ]
    },
    {
     "name": "stderr",
     "output_type": "stream",
     "text": [
      "102it [00:11,  4.89it/s]"
     ]
    },
    {
     "name": "stdout",
     "output_type": "stream",
     "text": [
      "0.20619038473379273\n",
      "0.000980672889037869\n"
     ]
    },
    {
     "name": "stderr",
     "output_type": "stream",
     "text": [
      "201it [00:22,  8.35it/s]"
     ]
    },
    {
     "name": "stdout",
     "output_type": "stream",
     "text": [
      "0.2189710306380017\n",
      "0.0009805867354572859\n"
     ]
    },
    {
     "name": "stderr",
     "output_type": "stream",
     "text": [
      "304it [00:34,  8.15it/s]"
     ]
    },
    {
     "name": "stdout",
     "output_type": "stream",
     "text": [
      "0.21900357128932643\n",
      "0.0009805003941225933\n"
     ]
    },
    {
     "name": "stderr",
     "output_type": "stream",
     "text": [
      "404it [00:43,  8.88it/s]"
     ]
    },
    {
     "name": "stdout",
     "output_type": "stream",
     "text": [
      "0.21634074795896105\n",
      "0.0009804138650678755\n"
     ]
    },
    {
     "name": "stderr",
     "output_type": "stream",
     "text": [
      "503it [00:53,  6.05it/s]"
     ]
    },
    {
     "name": "stdout",
     "output_type": "stream",
     "text": [
      "0.2168862928422387\n",
      "0.0009803271483272912\n"
     ]
    },
    {
     "name": "stderr",
     "output_type": "stream",
     "text": [
      "530it [00:55,  9.60it/s]\n",
      "17it [00:06,  2.54it/s]\n"
     ]
    },
    {
     "name": "stdout",
     "output_type": "stream",
     "text": [
      "[np.float64(0.0005046573625106977), np.float64(0.014041017596663749), np.float64(0.018425972263233604), np.float64(0.025834523362211873), np.float64(0.04087811381197138), np.float64(0.04275999347535726), np.float64(0.047120153307936126), np.float64(0.05459197220505732), np.float64(0.058714916435085064), np.float64(0.06103310387841883), np.float64(0.06479490886323352), np.float64(0.06644989614585231), np.float64(0.06785676909819373), np.float64(0.07267669176814838), np.float64(0.0783693928878886), np.float64(0.07899176133458549), np.float64(0.0808455432161412), np.float64(0.08439426999904016), np.float64(0.0816649370375792), np.float64(0.08474629026148321), np.float64(0.08638965467113104), np.float64(0.08778778272601401), np.float64(0.091144266324692), np.float64(0.09189208237059171), np.float64(0.09023893031067756), np.float64(0.09446338608198383), np.float64(0.09456566263520398), np.float64(0.09521143106103727), np.float64(0.09703865703730084), np.float64(0.0965046512267794), np.float64(0.09771715757827541), np.float64(0.10099141802082078), np.float64(0.1013083732302781), np.float64(0.10142313007936195), np.float64(0.10231498978286353), np.float64(0.10452278992331902), np.float64(0.10214497892952518), np.float64(0.10498265652210502), np.float64(0.10368022352606601), np.float64(0.10266916185955256), np.float64(0.10509943490261092), np.float64(0.10590482296125675), np.float64(0.10456608707431055), np.float64(0.10653920623843847), np.float64(0.10805941175722489), np.float64(0.10624775463792288), np.float64(0.10775584245889328), np.float64(0.10827831947059294), np.float64(0.10931185113092597), np.float64(0.10945907411517257), np.float64(0.10909353660026441), np.float64(0.10993974832678591), np.float64(0.1101438909658887), np.float64(0.11070883259868648), np.float64(0.11090034219794537), np.float64(0.11149954468634542), np.float64(0.1103431744105934), np.float64(0.11175232712031162), np.float64(0.11148680399557319), np.float64(0.11198660324610425), np.float64(0.11219203576183613), np.float64(0.11318268257808291), np.float64(0.11217347881672705), np.float64(0.1139922885573525), np.float64(0.11302624181898656), np.float64(0.11424781054593985), np.float64(0.11417317768424486), np.float64(0.11442747337754655), np.float64(0.11471286056729478), np.float64(0.11547667164240241), np.float64(0.1160136761166274), np.float64(0.11568940023810062), np.float64(0.11591878433366917), np.float64(0.11408639014858274), np.float64(0.11439966606296147), np.float64(0.11513794370583837), np.float64(0.1158859640107064), np.float64(0.11374811712103378), np.float64(0.11474021438549588), np.float64(0.11457012025167797), np.float64(0.11463011152047274), np.float64(0.11447461070868009), np.float64(0.1136764778769844), np.float64(0.11458257636961013), np.float64(0.11553019503149585), np.float64(0.11431518307892523)]\n"
     ]
    },
    {
     "name": "stderr",
     "output_type": "stream",
     "text": [
      "4it [00:00,  8.65it/s]"
     ]
    },
    {
     "name": "stdout",
     "output_type": "stream",
     "text": [
      "0.2224762209414405\n",
      "0.000980301096711489\n"
     ]
    },
    {
     "name": "stderr",
     "output_type": "stream",
     "text": [
      "104it [00:11,  6.63it/s]"
     ]
    },
    {
     "name": "stdout",
     "output_type": "stream",
     "text": [
      "0.2183660410065891\n",
      "0.000980214136030472\n"
     ]
    },
    {
     "name": "stderr",
     "output_type": "stream",
     "text": [
      "204it [00:22,  8.09it/s]"
     ]
    },
    {
     "name": "stdout",
     "output_type": "stream",
     "text": [
      "0.21963377496710418\n",
      "0.0009801269877424412\n"
     ]
    },
    {
     "name": "stderr",
     "output_type": "stream",
     "text": [
      "303it [00:32,  7.31it/s]"
     ]
    },
    {
     "name": "stdout",
     "output_type": "stream",
     "text": [
      "0.2112245603057291\n",
      "0.0009800396518817986\n"
     ]
    },
    {
     "name": "stderr",
     "output_type": "stream",
     "text": [
      "404it [00:41,  9.70it/s]"
     ]
    },
    {
     "name": "stdout",
     "output_type": "stream",
     "text": [
      "0.21411517416271136\n",
      "0.0009799521284830253\n"
     ]
    },
    {
     "name": "stderr",
     "output_type": "stream",
     "text": [
      "504it [00:50,  7.21it/s]"
     ]
    },
    {
     "name": "stdout",
     "output_type": "stream",
     "text": [
      "0.19702411804599518\n",
      "0.0009798644175806734\n"
     ]
    },
    {
     "name": "stderr",
     "output_type": "stream",
     "text": [
      "530it [00:52, 10.04it/s]\n",
      "17it [00:07,  2.28it/s]\n"
     ]
    },
    {
     "name": "stdout",
     "output_type": "stream",
     "text": [
      "[np.float64(0.0005046573625106977), np.float64(0.014041017596663749), np.float64(0.018425972263233604), np.float64(0.025834523362211873), np.float64(0.04087811381197138), np.float64(0.04275999347535726), np.float64(0.047120153307936126), np.float64(0.05459197220505732), np.float64(0.058714916435085064), np.float64(0.06103310387841883), np.float64(0.06479490886323352), np.float64(0.06644989614585231), np.float64(0.06785676909819373), np.float64(0.07267669176814838), np.float64(0.0783693928878886), np.float64(0.07899176133458549), np.float64(0.0808455432161412), np.float64(0.08439426999904016), np.float64(0.0816649370375792), np.float64(0.08474629026148321), np.float64(0.08638965467113104), np.float64(0.08778778272601401), np.float64(0.091144266324692), np.float64(0.09189208237059171), np.float64(0.09023893031067756), np.float64(0.09446338608198383), np.float64(0.09456566263520398), np.float64(0.09521143106103727), np.float64(0.09703865703730084), np.float64(0.0965046512267794), np.float64(0.09771715757827541), np.float64(0.10099141802082078), np.float64(0.1013083732302781), np.float64(0.10142313007936195), np.float64(0.10231498978286353), np.float64(0.10452278992331902), np.float64(0.10214497892952518), np.float64(0.10498265652210502), np.float64(0.10368022352606601), np.float64(0.10266916185955256), np.float64(0.10509943490261092), np.float64(0.10590482296125675), np.float64(0.10456608707431055), np.float64(0.10653920623843847), np.float64(0.10805941175722489), np.float64(0.10624775463792288), np.float64(0.10775584245889328), np.float64(0.10827831947059294), np.float64(0.10931185113092597), np.float64(0.10945907411517257), np.float64(0.10909353660026441), np.float64(0.10993974832678591), np.float64(0.1101438909658887), np.float64(0.11070883259868648), np.float64(0.11090034219794537), np.float64(0.11149954468634542), np.float64(0.1103431744105934), np.float64(0.11175232712031162), np.float64(0.11148680399557319), np.float64(0.11198660324610425), np.float64(0.11219203576183613), np.float64(0.11318268257808291), np.float64(0.11217347881672705), np.float64(0.1139922885573525), np.float64(0.11302624181898656), np.float64(0.11424781054593985), np.float64(0.11417317768424486), np.float64(0.11442747337754655), np.float64(0.11471286056729478), np.float64(0.11547667164240241), np.float64(0.1160136761166274), np.float64(0.11568940023810062), np.float64(0.11591878433366917), np.float64(0.11408639014858274), np.float64(0.11439966606296147), np.float64(0.11513794370583837), np.float64(0.1158859640107064), np.float64(0.11374811712103378), np.float64(0.11474021438549588), np.float64(0.11457012025167797), np.float64(0.11463011152047274), np.float64(0.11447461070868009), np.float64(0.1136764778769844), np.float64(0.11458257636961013), np.float64(0.11553019503149585), np.float64(0.11431518307892523), np.float64(0.11295386347846689)]\n"
     ]
    },
    {
     "name": "stderr",
     "output_type": "stream",
     "text": [
      "4it [00:00,  6.53it/s]"
     ]
    },
    {
     "name": "stdout",
     "output_type": "stream",
     "text": [
      "0.21821808638262968\n",
      "0.000979838067751945\n"
     ]
    },
    {
     "name": "stderr",
     "output_type": "stream",
     "text": [
      "103it [00:10,  7.64it/s]"
     ]
    },
    {
     "name": "stdout",
     "output_type": "stream",
     "text": [
      "0.21491500251058088\n",
      "0.0009797501131467191\n"
     ]
    },
    {
     "name": "stderr",
     "output_type": "stream",
     "text": [
      "205it [00:21,  8.70it/s]"
     ]
    },
    {
     "name": "stdout",
     "output_type": "stream",
     "text": [
      "0.2139215527114335\n",
      "0.0009796619711176678\n"
     ]
    },
    {
     "name": "stderr",
     "output_type": "stream",
     "text": [
      "305it [00:32,  7.69it/s]"
     ]
    },
    {
     "name": "stdout",
     "output_type": "stream",
     "text": [
      "0.20272701654055733\n",
      "0.0009795736416995863\n"
     ]
    },
    {
     "name": "stderr",
     "output_type": "stream",
     "text": [
      "405it [00:41,  8.68it/s]"
     ]
    },
    {
     "name": "stdout",
     "output_type": "stream",
     "text": [
      "0.2009324981750611\n",
      "0.0009794851249273478\n"
     ]
    },
    {
     "name": "stderr",
     "output_type": "stream",
     "text": [
      "504it [00:51,  6.23it/s]"
     ]
    },
    {
     "name": "stdout",
     "output_type": "stream",
     "text": [
      "0.212383322709568\n",
      "0.000979396420835896\n"
     ]
    },
    {
     "name": "stderr",
     "output_type": "stream",
     "text": [
      "530it [00:53,  9.84it/s]\n",
      "17it [00:06,  2.49it/s]\n"
     ]
    },
    {
     "name": "stdout",
     "output_type": "stream",
     "text": [
      "[np.float64(0.0005046573625106977), np.float64(0.014041017596663749), np.float64(0.018425972263233604), np.float64(0.025834523362211873), np.float64(0.04087811381197138), np.float64(0.04275999347535726), np.float64(0.047120153307936126), np.float64(0.05459197220505732), np.float64(0.058714916435085064), np.float64(0.06103310387841883), np.float64(0.06479490886323352), np.float64(0.06644989614585231), np.float64(0.06785676909819373), np.float64(0.07267669176814838), np.float64(0.0783693928878886), np.float64(0.07899176133458549), np.float64(0.0808455432161412), np.float64(0.08439426999904016), np.float64(0.0816649370375792), np.float64(0.08474629026148321), np.float64(0.08638965467113104), np.float64(0.08778778272601401), np.float64(0.091144266324692), np.float64(0.09189208237059171), np.float64(0.09023893031067756), np.float64(0.09446338608198383), np.float64(0.09456566263520398), np.float64(0.09521143106103727), np.float64(0.09703865703730084), np.float64(0.0965046512267794), np.float64(0.09771715757827541), np.float64(0.10099141802082078), np.float64(0.1013083732302781), np.float64(0.10142313007936195), np.float64(0.10231498978286353), np.float64(0.10452278992331902), np.float64(0.10214497892952518), np.float64(0.10498265652210502), np.float64(0.10368022352606601), np.float64(0.10266916185955256), np.float64(0.10509943490261092), np.float64(0.10590482296125675), np.float64(0.10456608707431055), np.float64(0.10653920623843847), np.float64(0.10805941175722489), np.float64(0.10624775463792288), np.float64(0.10775584245889328), np.float64(0.10827831947059294), np.float64(0.10931185113092597), np.float64(0.10945907411517257), np.float64(0.10909353660026441), np.float64(0.10993974832678591), np.float64(0.1101438909658887), np.float64(0.11070883259868648), np.float64(0.11090034219794537), np.float64(0.11149954468634542), np.float64(0.1103431744105934), np.float64(0.11175232712031162), np.float64(0.11148680399557319), np.float64(0.11198660324610425), np.float64(0.11219203576183613), np.float64(0.11318268257808291), np.float64(0.11217347881672705), np.float64(0.1139922885573525), np.float64(0.11302624181898656), np.float64(0.11424781054593985), np.float64(0.11417317768424486), np.float64(0.11442747337754655), np.float64(0.11471286056729478), np.float64(0.11547667164240241), np.float64(0.1160136761166274), np.float64(0.11568940023810062), np.float64(0.11591878433366917), np.float64(0.11408639014858274), np.float64(0.11439966606296147), np.float64(0.11513794370583837), np.float64(0.1158859640107064), np.float64(0.11374811712103378), np.float64(0.11474021438549588), np.float64(0.11457012025167797), np.float64(0.11463011152047274), np.float64(0.11447461070868009), np.float64(0.1136764778769844), np.float64(0.11458257636961013), np.float64(0.11553019503149585), np.float64(0.11431518307892523), np.float64(0.11295386347846689), np.float64(0.11351778823589585)]\n"
     ]
    },
    {
     "name": "stderr",
     "output_type": "stream",
     "text": [
      "4it [00:00,  8.36it/s]"
     ]
    },
    {
     "name": "stdout",
     "output_type": "stream",
     "text": [
      "0.22310955510543568\n",
      "0.0009793697730864472\n"
     ]
    },
    {
     "name": "stderr",
     "output_type": "stream",
     "text": [
      "103it [00:11,  7.82it/s]"
     ]
    },
    {
     "name": "stdout",
     "output_type": "stream",
     "text": [
      "0.20272287200538777\n",
      "0.0009792808255323832\n"
     ]
    },
    {
     "name": "stderr",
     "output_type": "stream",
     "text": [
      "204it [00:20,  9.38it/s]"
     ]
    },
    {
     "name": "stdout",
     "output_type": "stream",
     "text": [
      "0.21677466483803254\n",
      "0.0009791916907397615\n"
     ]
    },
    {
     "name": "stderr",
     "output_type": "stream",
     "text": [
      "304it [00:30,  9.01it/s]"
     ]
    },
    {
     "name": "stdout",
     "output_type": "stream",
     "text": [
      "0.20980305142547687\n",
      "0.0009791023687437683\n"
     ]
    },
    {
     "name": "stderr",
     "output_type": "stream",
     "text": [
      "404it [00:38,  9.63it/s]"
     ]
    },
    {
     "name": "stdout",
     "output_type": "stream",
     "text": [
      "0.20038258745583232\n",
      "0.0009790128595796694\n"
     ]
    },
    {
     "name": "stderr",
     "output_type": "stream",
     "text": [
      "502it [00:48,  5.77it/s]"
     ]
    },
    {
     "name": "stdout",
     "output_type": "stream",
     "text": [
      "0.20599553042886715\n",
      "0.0009789231632828012\n"
     ]
    },
    {
     "name": "stderr",
     "output_type": "stream",
     "text": [
      "530it [00:50, 10.42it/s]\n",
      "17it [00:07,  2.40it/s]\n"
     ]
    },
    {
     "name": "stdout",
     "output_type": "stream",
     "text": [
      "[np.float64(0.0005046573625106977), np.float64(0.014041017596663749), np.float64(0.018425972263233604), np.float64(0.025834523362211873), np.float64(0.04087811381197138), np.float64(0.04275999347535726), np.float64(0.047120153307936126), np.float64(0.05459197220505732), np.float64(0.058714916435085064), np.float64(0.06103310387841883), np.float64(0.06479490886323352), np.float64(0.06644989614585231), np.float64(0.06785676909819373), np.float64(0.07267669176814838), np.float64(0.0783693928878886), np.float64(0.07899176133458549), np.float64(0.0808455432161412), np.float64(0.08439426999904016), np.float64(0.0816649370375792), np.float64(0.08474629026148321), np.float64(0.08638965467113104), np.float64(0.08778778272601401), np.float64(0.091144266324692), np.float64(0.09189208237059171), np.float64(0.09023893031067756), np.float64(0.09446338608198383), np.float64(0.09456566263520398), np.float64(0.09521143106103727), np.float64(0.09703865703730084), np.float64(0.0965046512267794), np.float64(0.09771715757827541), np.float64(0.10099141802082078), np.float64(0.1013083732302781), np.float64(0.10142313007936195), np.float64(0.10231498978286353), np.float64(0.10452278992331902), np.float64(0.10214497892952518), np.float64(0.10498265652210502), np.float64(0.10368022352606601), np.float64(0.10266916185955256), np.float64(0.10509943490261092), np.float64(0.10590482296125675), np.float64(0.10456608707431055), np.float64(0.10653920623843847), np.float64(0.10805941175722489), np.float64(0.10624775463792288), np.float64(0.10775584245889328), np.float64(0.10827831947059294), np.float64(0.10931185113092597), np.float64(0.10945907411517257), np.float64(0.10909353660026441), np.float64(0.10993974832678591), np.float64(0.1101438909658887), np.float64(0.11070883259868648), np.float64(0.11090034219794537), np.float64(0.11149954468634542), np.float64(0.1103431744105934), np.float64(0.11175232712031162), np.float64(0.11148680399557319), np.float64(0.11198660324610425), np.float64(0.11219203576183613), np.float64(0.11318268257808291), np.float64(0.11217347881672705), np.float64(0.1139922885573525), np.float64(0.11302624181898656), np.float64(0.11424781054593985), np.float64(0.11417317768424486), np.float64(0.11442747337754655), np.float64(0.11471286056729478), np.float64(0.11547667164240241), np.float64(0.1160136761166274), np.float64(0.11568940023810062), np.float64(0.11591878433366917), np.float64(0.11408639014858274), np.float64(0.11439966606296147), np.float64(0.11513794370583837), np.float64(0.1158859640107064), np.float64(0.11374811712103378), np.float64(0.11474021438549588), np.float64(0.11457012025167797), np.float64(0.11463011152047274), np.float64(0.11447461070868009), np.float64(0.1136764778769844), np.float64(0.11458257636961013), np.float64(0.11553019503149585), np.float64(0.11431518307892523), np.float64(0.11295386347846689), np.float64(0.11351778823589585), np.float64(0.1135416408365507)]\n"
     ]
    },
    {
     "name": "stderr",
     "output_type": "stream",
     "text": [
      "4it [00:00,  8.06it/s]"
     ]
    },
    {
     "name": "stdout",
     "output_type": "stream",
     "text": [
      "0.21613791024503562\n",
      "0.0009788962179081426\n"
     ]
    },
    {
     "name": "stderr",
     "output_type": "stream",
     "text": [
      "104it [00:11,  8.65it/s]"
     ]
    },
    {
     "name": "stdout",
     "output_type": "stream",
     "text": [
      "0.2129089518401123\n",
      "0.0009788062783916238\n"
     ]
    },
    {
     "name": "stderr",
     "output_type": "stream",
     "text": [
      "204it [00:23,  8.31it/s]"
     ]
    },
    {
     "name": "stdout",
     "output_type": "stream",
     "text": [
      "0.203715254003037\n",
      "0.0009787161518238893\n"
     ]
    },
    {
     "name": "stderr",
     "output_type": "stream",
     "text": [
      "306it [00:32, 13.31it/s]"
     ]
    },
    {
     "name": "stdout",
     "output_type": "stream",
     "text": [
      "0.19933262808726868\n",
      "0.0009786258382405203\n"
     ]
    },
    {
     "name": "stderr",
     "output_type": "stream",
     "text": [
      "404it [00:41, 10.98it/s]"
     ]
    },
    {
     "name": "stdout",
     "output_type": "stream",
     "text": [
      "0.2046412800948669\n",
      "0.0009785353376771707\n"
     ]
    },
    {
     "name": "stderr",
     "output_type": "stream",
     "text": [
      "501it [00:51,  7.12it/s]"
     ]
    },
    {
     "name": "stdout",
     "output_type": "stream",
     "text": [
      "0.2237039094165322\n",
      "0.0009784446501695703\n"
     ]
    },
    {
     "name": "stderr",
     "output_type": "stream",
     "text": [
      "530it [00:55,  9.60it/s]\n",
      "17it [00:06,  2.47it/s]\n"
     ]
    },
    {
     "name": "stdout",
     "output_type": "stream",
     "text": [
      "[np.float64(0.0005046573625106977), np.float64(0.014041017596663749), np.float64(0.018425972263233604), np.float64(0.025834523362211873), np.float64(0.04087811381197138), np.float64(0.04275999347535726), np.float64(0.047120153307936126), np.float64(0.05459197220505732), np.float64(0.058714916435085064), np.float64(0.06103310387841883), np.float64(0.06479490886323352), np.float64(0.06644989614585231), np.float64(0.06785676909819373), np.float64(0.07267669176814838), np.float64(0.0783693928878886), np.float64(0.07899176133458549), np.float64(0.0808455432161412), np.float64(0.08439426999904016), np.float64(0.0816649370375792), np.float64(0.08474629026148321), np.float64(0.08638965467113104), np.float64(0.08778778272601401), np.float64(0.091144266324692), np.float64(0.09189208237059171), np.float64(0.09023893031067756), np.float64(0.09446338608198383), np.float64(0.09456566263520398), np.float64(0.09521143106103727), np.float64(0.09703865703730084), np.float64(0.0965046512267794), np.float64(0.09771715757827541), np.float64(0.10099141802082078), np.float64(0.1013083732302781), np.float64(0.10142313007936195), np.float64(0.10231498978286353), np.float64(0.10452278992331902), np.float64(0.10214497892952518), np.float64(0.10498265652210502), np.float64(0.10368022352606601), np.float64(0.10266916185955256), np.float64(0.10509943490261092), np.float64(0.10590482296125675), np.float64(0.10456608707431055), np.float64(0.10653920623843847), np.float64(0.10805941175722489), np.float64(0.10624775463792288), np.float64(0.10775584245889328), np.float64(0.10827831947059294), np.float64(0.10931185113092597), np.float64(0.10945907411517257), np.float64(0.10909353660026441), np.float64(0.10993974832678591), np.float64(0.1101438909658887), np.float64(0.11070883259868648), np.float64(0.11090034219794537), np.float64(0.11149954468634542), np.float64(0.1103431744105934), np.float64(0.11175232712031162), np.float64(0.11148680399557319), np.float64(0.11198660324610425), np.float64(0.11219203576183613), np.float64(0.11318268257808291), np.float64(0.11217347881672705), np.float64(0.1139922885573525), np.float64(0.11302624181898656), np.float64(0.11424781054593985), np.float64(0.11417317768424486), np.float64(0.11442747337754655), np.float64(0.11471286056729478), np.float64(0.11547667164240241), np.float64(0.1160136761166274), np.float64(0.11568940023810062), np.float64(0.11591878433366917), np.float64(0.11408639014858274), np.float64(0.11439966606296147), np.float64(0.11513794370583837), np.float64(0.1158859640107064), np.float64(0.11374811712103378), np.float64(0.11474021438549588), np.float64(0.11457012025167797), np.float64(0.11463011152047274), np.float64(0.11447461070868009), np.float64(0.1136764778769844), np.float64(0.11458257636961013), np.float64(0.11553019503149585), np.float64(0.11431518307892523), np.float64(0.11295386347846689), np.float64(0.11351778823589585), np.float64(0.1135416408365507), np.float64(0.11422957695211684)]\n"
     ]
    },
    {
     "name": "stderr",
     "output_type": "stream",
     "text": [
      "3it [00:00,  4.34it/s]"
     ]
    },
    {
     "name": "stdout",
     "output_type": "stream",
     "text": [
      "0.20336163872011626\n",
      "0.0009784174074685117\n"
     ]
    },
    {
     "name": "stderr",
     "output_type": "stream",
     "text": [
      "103it [00:12,  6.19it/s]"
     ]
    },
    {
     "name": "stdout",
     "output_type": "stream",
     "text": [
      "0.2141718838889662\n",
      "0.000978326476986917\n"
     ]
    },
    {
     "name": "stderr",
     "output_type": "stream",
     "text": [
      "204it [00:23,  9.92it/s]"
     ]
    },
    {
     "name": "stdout",
     "output_type": "stream",
     "text": [
      "0.22793859928758384\n",
      "0.0009782353596435266\n"
     ]
    },
    {
     "name": "stderr",
     "output_type": "stream",
     "text": [
      "303it [00:32,  6.28it/s]"
     ]
    },
    {
     "name": "stdout",
     "output_type": "stream",
     "text": [
      "0.2108059073604989\n",
      "0.0009781440554743096\n"
     ]
    },
    {
     "name": "stderr",
     "output_type": "stream",
     "text": [
      "405it [00:41,  8.61it/s]"
     ]
    },
    {
     "name": "stdout",
     "output_type": "stream",
     "text": [
      "0.21135266088870727\n",
      "0.0009780525645153146\n"
     ]
    },
    {
     "name": "stderr",
     "output_type": "stream",
     "text": [
      "503it [00:51,  5.83it/s]"
     ]
    },
    {
     "name": "stdout",
     "output_type": "stream",
     "text": [
      "0.21071885895648818\n",
      "0.0009779608868026575\n"
     ]
    },
    {
     "name": "stderr",
     "output_type": "stream",
     "text": [
      "530it [00:54,  9.78it/s]\n",
      "17it [00:06,  2.48it/s]\n"
     ]
    },
    {
     "name": "stdout",
     "output_type": "stream",
     "text": [
      "[np.float64(0.0005046573625106977), np.float64(0.014041017596663749), np.float64(0.018425972263233604), np.float64(0.025834523362211873), np.float64(0.04087811381197138), np.float64(0.04275999347535726), np.float64(0.047120153307936126), np.float64(0.05459197220505732), np.float64(0.058714916435085064), np.float64(0.06103310387841883), np.float64(0.06479490886323352), np.float64(0.06644989614585231), np.float64(0.06785676909819373), np.float64(0.07267669176814838), np.float64(0.0783693928878886), np.float64(0.07899176133458549), np.float64(0.0808455432161412), np.float64(0.08439426999904016), np.float64(0.0816649370375792), np.float64(0.08474629026148321), np.float64(0.08638965467113104), np.float64(0.08778778272601401), np.float64(0.091144266324692), np.float64(0.09189208237059171), np.float64(0.09023893031067756), np.float64(0.09446338608198383), np.float64(0.09456566263520398), np.float64(0.09521143106103727), np.float64(0.09703865703730084), np.float64(0.0965046512267794), np.float64(0.09771715757827541), np.float64(0.10099141802082078), np.float64(0.1013083732302781), np.float64(0.10142313007936195), np.float64(0.10231498978286353), np.float64(0.10452278992331902), np.float64(0.10214497892952518), np.float64(0.10498265652210502), np.float64(0.10368022352606601), np.float64(0.10266916185955256), np.float64(0.10509943490261092), np.float64(0.10590482296125675), np.float64(0.10456608707431055), np.float64(0.10653920623843847), np.float64(0.10805941175722489), np.float64(0.10624775463792288), np.float64(0.10775584245889328), np.float64(0.10827831947059294), np.float64(0.10931185113092597), np.float64(0.10945907411517257), np.float64(0.10909353660026441), np.float64(0.10993974832678591), np.float64(0.1101438909658887), np.float64(0.11070883259868648), np.float64(0.11090034219794537), np.float64(0.11149954468634542), np.float64(0.1103431744105934), np.float64(0.11175232712031162), np.float64(0.11148680399557319), np.float64(0.11198660324610425), np.float64(0.11219203576183613), np.float64(0.11318268257808291), np.float64(0.11217347881672705), np.float64(0.1139922885573525), np.float64(0.11302624181898656), np.float64(0.11424781054593985), np.float64(0.11417317768424486), np.float64(0.11442747337754655), np.float64(0.11471286056729478), np.float64(0.11547667164240241), np.float64(0.1160136761166274), np.float64(0.11568940023810062), np.float64(0.11591878433366917), np.float64(0.11408639014858274), np.float64(0.11439966606296147), np.float64(0.11513794370583837), np.float64(0.1158859640107064), np.float64(0.11374811712103378), np.float64(0.11474021438549588), np.float64(0.11457012025167797), np.float64(0.11463011152047274), np.float64(0.11447461070868009), np.float64(0.1136764778769844), np.float64(0.11458257636961013), np.float64(0.11553019503149585), np.float64(0.11431518307892523), np.float64(0.11295386347846689), np.float64(0.11351778823589585), np.float64(0.1135416408365507), np.float64(0.11422957695211684), np.float64(0.11517853473186054)]\n"
     ]
    },
    {
     "name": "stderr",
     "output_type": "stream",
     "text": [
      "4it [00:00,  5.98it/s]"
     ]
    },
    {
     "name": "stdout",
     "output_type": "stream",
     "text": [
      "0.22412599029282654\n",
      "0.000977933347077305\n"
     ]
    },
    {
     "name": "stderr",
     "output_type": "stream",
     "text": [
      "101it [00:11,  6.43it/s]"
     ]
    },
    {
     "name": "stdout",
     "output_type": "stream",
     "text": [
      "0.22743120622887944\n",
      "0.0009778414266390083\n"
     ]
    },
    {
     "name": "stderr",
     "output_type": "stream",
     "text": [
      "203it [00:22,  4.85it/s]"
     ]
    },
    {
     "name": "stdout",
     "output_type": "stream",
     "text": [
      "0.22813200500910427\n",
      "0.000977749319530405\n"
     ]
    },
    {
     "name": "stderr",
     "output_type": "stream",
     "text": [
      "302it [00:32,  8.11it/s]"
     ]
    },
    {
     "name": "stdout",
     "output_type": "stream",
     "text": [
      "0.21115576471809844\n",
      "0.0009776570257878571\n"
     ]
    },
    {
     "name": "stderr",
     "output_type": "stream",
     "text": [
      "404it [00:41, 12.00it/s]"
     ]
    },
    {
     "name": "stdout",
     "output_type": "stream",
     "text": [
      "0.2076185136494215\n",
      "0.0009775645454478013\n"
     ]
    },
    {
     "name": "stderr",
     "output_type": "stream",
     "text": [
      "503it [00:52,  7.58it/s]"
     ]
    },
    {
     "name": "stdout",
     "output_type": "stream",
     "text": [
      "0.20472063897303372\n",
      "0.0009774718785467474\n"
     ]
    },
    {
     "name": "stderr",
     "output_type": "stream",
     "text": [
      "530it [00:55,  9.63it/s]\n",
      "17it [00:07,  2.42it/s]\n"
     ]
    },
    {
     "name": "stdout",
     "output_type": "stream",
     "text": [
      "[np.float64(0.0005046573625106977), np.float64(0.014041017596663749), np.float64(0.018425972263233604), np.float64(0.025834523362211873), np.float64(0.04087811381197138), np.float64(0.04275999347535726), np.float64(0.047120153307936126), np.float64(0.05459197220505732), np.float64(0.058714916435085064), np.float64(0.06103310387841883), np.float64(0.06479490886323352), np.float64(0.06644989614585231), np.float64(0.06785676909819373), np.float64(0.07267669176814838), np.float64(0.0783693928878886), np.float64(0.07899176133458549), np.float64(0.0808455432161412), np.float64(0.08439426999904016), np.float64(0.0816649370375792), np.float64(0.08474629026148321), np.float64(0.08638965467113104), np.float64(0.08778778272601401), np.float64(0.091144266324692), np.float64(0.09189208237059171), np.float64(0.09023893031067756), np.float64(0.09446338608198383), np.float64(0.09456566263520398), np.float64(0.09521143106103727), np.float64(0.09703865703730084), np.float64(0.0965046512267794), np.float64(0.09771715757827541), np.float64(0.10099141802082078), np.float64(0.1013083732302781), np.float64(0.10142313007936195), np.float64(0.10231498978286353), np.float64(0.10452278992331902), np.float64(0.10214497892952518), np.float64(0.10498265652210502), np.float64(0.10368022352606601), np.float64(0.10266916185955256), np.float64(0.10509943490261092), np.float64(0.10590482296125675), np.float64(0.10456608707431055), np.float64(0.10653920623843847), np.float64(0.10805941175722489), np.float64(0.10624775463792288), np.float64(0.10775584245889328), np.float64(0.10827831947059294), np.float64(0.10931185113092597), np.float64(0.10945907411517257), np.float64(0.10909353660026441), np.float64(0.10993974832678591), np.float64(0.1101438909658887), np.float64(0.11070883259868648), np.float64(0.11090034219794537), np.float64(0.11149954468634542), np.float64(0.1103431744105934), np.float64(0.11175232712031162), np.float64(0.11148680399557319), np.float64(0.11198660324610425), np.float64(0.11219203576183613), np.float64(0.11318268257808291), np.float64(0.11217347881672705), np.float64(0.1139922885573525), np.float64(0.11302624181898656), np.float64(0.11424781054593985), np.float64(0.11417317768424486), np.float64(0.11442747337754655), np.float64(0.11471286056729478), np.float64(0.11547667164240241), np.float64(0.1160136761166274), np.float64(0.11568940023810062), np.float64(0.11591878433366917), np.float64(0.11408639014858274), np.float64(0.11439966606296147), np.float64(0.11513794370583837), np.float64(0.1158859640107064), np.float64(0.11374811712103378), np.float64(0.11474021438549588), np.float64(0.11457012025167797), np.float64(0.11463011152047274), np.float64(0.11447461070868009), np.float64(0.1136764778769844), np.float64(0.11458257636961013), np.float64(0.11553019503149585), np.float64(0.11431518307892523), np.float64(0.11295386347846689), np.float64(0.11351778823589585), np.float64(0.1135416408365507), np.float64(0.11422957695211684), np.float64(0.11517853473186054), np.float64(0.11307148695463419)]\n"
     ]
    },
    {
     "name": "stderr",
     "output_type": "stream",
     "text": [
      "3it [00:00,  4.14it/s]"
     ]
    },
    {
     "name": "stdout",
     "output_type": "stream",
     "text": [
      "0.2099541890041425\n",
      "0.0009774440421025027\n"
     ]
    },
    {
     "name": "stderr",
     "output_type": "stream",
     "text": [
      "103it [00:11,  8.73it/s]"
     ]
    },
    {
     "name": "stdout",
     "output_type": "stream",
     "text": [
      "0.2155739678689213\n",
      "0.0009773511327268532\n"
     ]
    },
    {
     "name": "stderr",
     "output_type": "stream",
     "text": [
      "203it [00:21,  6.28it/s]"
     ]
    },
    {
     "name": "stdout",
     "output_type": "stream",
     "text": [
      "0.2162228627745147\n",
      "0.0009772580368744563\n"
     ]
    },
    {
     "name": "stderr",
     "output_type": "stream",
     "text": [
      "254it [00:26,  8.22it/s]"
     ]
    }
   ],
   "source": [
    "patience = 0\n",
    "max_objective = 0\n",
    "losses, corrs, lrs, val_corrs = [], [], [], []\n",
    "for train_loop in range(1000):\n",
    "    current_objective = val_step()\n",
    "    if train_loop > 20:\n",
    "        max_objective = np.max(np.array(val_corrs[:-1])[~np.isnan(val_corrs[:-1])])\n",
    "    if current_objective < max_objective:\n",
    "        patience += 1\n",
    "    else:\n",
    "        patience = 0\n",
    "    if patience >=50:\n",
    "        break\n",
    "    val_corrs.append(current_objective)\n",
    "    print(val_corrs)\n",
    "    for i, (k, b) in tqdm(enumerate(train_dl)):\n",
    "        videos = b[\"screen\"].to(\"cuda\", torch.bfloat16, non_blocking=True).permute(0,2,1,3,4)\n",
    "        responses = b[\"responses\"].to(\"cuda\", torch.bfloat16, non_blocking=True)\n",
    "        out = model(videos, k);\n",
    "        loss = criteria(out.transpose(1,2), responses)\n",
    "        loss.backward()\n",
    "        torch.nn.utils.clip_grad_norm_(model.parameters(), max_norm=1.0, norm_type=2)\n",
    "        opt.step()\n",
    "        opt.zero_grad()\n",
    "        \n",
    "        losses.append(loss.item())\n",
    "        with warmup_scheduler.dampening():\n",
    "            lr_scheduler.step()\n",
    "        \n",
    "        if i % 10 ==0:\n",
    "            r2 = responses.to(torch.float32).cpu().numpy().flatten()\n",
    "            r1 = out.transpose(1,2).detach().cpu().to(torch.float32).numpy().flatten()\n",
    "            corrs.append(np.corrcoef(r1,r2)[0,1].item())\n",
    "            lrs.append(opt.param_groups[0]['lr'])\n",
    "        if i % 100 ==0:\n",
    "            print(np.corrcoef(r1,r2)[0,1].item())\n",
    "            print(opt.param_groups[0]['lr'])\n",
    "    for k, v in train_dl.loaders.items():\n",
    "        v.dataset.shuffle_valid_screen_times()"
   ]
  },
  {
   "cell_type": "code",
   "execution_count": null,
   "id": "cfd02c5d-6610-4b51-853a-d2ca1129dca5",
   "metadata": {},
   "outputs": [],
   "source": []
  },
  {
   "cell_type": "code",
   "execution_count": null,
   "id": "59204335-6165-48f3-99cf-d8aa82c43352",
   "metadata": {},
   "outputs": [],
   "source": []
  },
  {
   "cell_type": "code",
   "execution_count": null,
   "id": "37812204-25d8-4216-81bd-0320ded9f4ab",
   "metadata": {},
   "outputs": [],
   "source": []
  }
 ],
 "metadata": {
  "kernelspec": {
   "display_name": "Python 3 (ipykernel)",
   "language": "python",
   "name": "python3"
  },
  "language_info": {
   "codemirror_mode": {
    "name": "ipython",
    "version": 3
   },
   "file_extension": ".py",
   "mimetype": "text/x-python",
   "name": "python",
   "nbconvert_exporter": "python",
   "pygments_lexer": "ipython3",
   "version": "3.10.12"
  }
 },
 "nbformat": 4,
 "nbformat_minor": 5
}
