{
 "cells": [
  {
   "cell_type": "code",
   "execution_count": 15,
   "id": "11071853-c355-4fb5-936b-2895faa50af6",
   "metadata": {},
   "outputs": [
    {
     "data": {
      "text/plain": [
       "[<matplotlib.lines.Line2D at 0x7f79e4bff910>]"
      ]
     },
     "execution_count": 15,
     "metadata": {},
     "output_type": "execute_result"
    },
    {
     "data": {
      "image/png": "[encoded data removed]",
      "text/plain": [
       "<Figure size 640x480 with 1 Axes>"
      ]
     },
     "metadata": {},
     "output_type": "display_data"
    }
   ],
   "source": [
    "plt.plot(val_corrs)"
   ]
  },
  {
   "cell_type": "code",
   "execution_count": 1,
   "id": "637b327b-4b4d-4ed9-9918-818e5825c2c9",
   "metadata": {},
   "outputs": [],
   "source": [
    "import os\n",
    "os.environ['CUDA_VISIBLE_DEVICES'] = '7'\n",
    "%matplotlib inline\n",
    "%load_ext autoreload\n",
    "%autoreload 2\n",
    "\n",
    "import numpy as np\n",
    "import matplotlib.pyplot as plt\n",
    "from os import path\n",
    "\n",
    "from torch import nn\n",
    "from torch.nn import functional as F\n",
    "from torch.nn.functional import scaled_dot_product_attention\n",
    "from torch.nn.attention import SDPBackend, sdpa_kernel\n",
    "from tqdm import tqdm\n",
    "from einops import rearrange\n",
    "from torch.optim import AdamW, Adam\n",
    "\n",
    "import torch\n",
    "from torch.utils.data import DataLoader\n",
    "from tqdm import tqdm\n",
    "from omegaconf import OmegaConf, open_dict\n",
    "from experanto.datasets import ChunkDataset, SimpleChunkedDataset\n",
    "from experanto.utils import LongCycler, MultiEpochsDataLoader"
   ]
  },
  {
   "cell_type": "code",
   "execution_count": 2,
   "id": "00ecf779-64e2-4c53-930c-4bc96109fa37",
   "metadata": {},
   "outputs": [],
   "source": [
    "# additional packages\n",
    "# pip install hiera-transformer\n",
    "# pip install -U pytorch_warmup"
   ]
  },
  {
   "cell_type": "markdown",
   "id": "6d4f5a3f-8720-4222-a63c-b3605b61c5e7",
   "metadata": {},
   "source": [
    "# Hyperparameters"
   ]
  },
  {
   "cell_type": "code",
   "execution_count": 3,
   "id": "4d8aa514-908e-4e00-af7a-06830084b132",
   "metadata": {},
   "outputs": [],
   "source": [
    "video_size = [72, 128]\n",
    "chunk_size = 8\n",
    "dim_head = 128\n",
    "num_heads = 2"
   ]
  },
  {
   "cell_type": "markdown",
   "id": "72a43689-cdb6-4443-a57d-0a227fb65d45",
   "metadata": {},
   "source": [
    "### get dataloaders"
   ]
  },
  {
   "cell_type": "code",
   "execution_count": 4,
   "id": "72edb2a0-b392-40be-9e1a-054aacb4593d",
   "metadata": {},
   "outputs": [],
   "source": [
    "from experanto.dataloaders import get_multisession_dataloader\n",
    "\n",
    "from experanto.configs import DEFAULT_CONFIG as cfg\n",
    "paths = ['dynamic29513-3-5-Video-full',\n",
    "         'dynamic29514-2-9-Video-full',\n",
    "         'dynamic29755-2-8-Video-full',\n",
    "         'dynamic29647-19-8-Video-full',\n",
    "         'dynamic29156-11-10-Video-full',\n",
    "         'dynamic29623-4-9-Video-full',\n",
    "         'dynamic29515-10-12-Video-full',\n",
    "         'dynamic29234-6-9-Video-full',\n",
    "         'dynamic29712-5-9-Video-full',\n",
    "         'dynamic29228-2-10-Video-full'\n",
    "        ]\n",
    "full_paths = [path.join(\"/data/mouse_polly/\", f) for f in paths]"
   ]
  },
  {
   "cell_type": "code",
   "execution_count": 5,
   "id": "40f1c64c-31a4-4391-85ef-6f35d7085c3f",
   "metadata": {},
   "outputs": [
    {
     "name": "stderr",
     "output_type": "stream",
     "text": [
      "/usr/local/lib/python3.10/dist-packages/torchvision/transforms/v2/_deprecated.py:42: UserWarning: The transform `ToTensor()` is deprecated and will be removed in a future release. Instead, please use `v2.Compose([v2.ToImage(), v2.ToDtype(torch.float32, scale=True)])`.Output is equivalent up to float precision.\n",
      "  warnings.warn(\n"
     ]
    }
   ],
   "source": [
    "cfg.dataset.global_chunk_size = 8\n",
    "cfg.dataset.global_sampling_rate = 8\n",
    "cfg.dataset.modality_config.screen.sample_stride = 8\n",
    "cfg.dataset.modality_config.screen.include_blanks=True\n",
    "cfg.dataset.modality_config.screen.valid_condition = {\"tier\": \"train\"}\n",
    "cfg.dataset.modality_config.screen.transforms.Resize.size = video_size\n",
    "\n",
    "cfg.dataloader.num_workers=4\n",
    "cfg.dataloader.prefetch_factor=1\n",
    "cfg.dataloader.batch_size=128\n",
    "cfg.dataloader.pin_memory=True\n",
    "cfg.dataloader.shuffle=True\n",
    "\n",
    "train_dl = get_multisession_dataloader(full_paths, cfg)"
   ]
  },
  {
   "cell_type": "markdown",
   "id": "9d14b18d-346d-48c4-b12e-e7b8e0f28820",
   "metadata": {},
   "source": [
    "### get Hiera backbone"
   ]
  },
  {
   "cell_type": "code",
   "execution_count": 6,
   "id": "ecc0b8f9-b374-479f-b166-801bf9d22851",
   "metadata": {},
   "outputs": [
    {
     "name": "stderr",
     "output_type": "stream",
     "text": [
      "/usr/local/lib/python3.10/dist-packages/tqdm/auto.py:21: TqdmWarning: IProgress not found. Please update jupyter and ipywidgets. See https://ipywidgets.readthedocs.io/en/stable/user_install.html\n",
      "  from .autonotebook import tqdm as notebook_tqdm\n"
     ]
    },
    {
     "data": {
      "text/plain": [
       "torch.Size([8, 8, 9, 16, 192])"
      ]
     },
     "execution_count": 6,
     "metadata": {},
     "output_type": "execute_result"
    }
   ],
   "source": [
    "# pip install hiera-transformer\n",
    "from hiera import Hiera\n",
    "tiny_hiera = Hiera(input_size=(chunk_size, video_size[0], video_size[1]),\n",
    "                     num_heads=1,\n",
    "                     embed_dim=96,\n",
    "                     stages=(2, 2), # 4 transformer layers \n",
    "                     q_pool=1, \n",
    "                     in_chans=1,\n",
    "                     q_stride=(1, 2, 2),\n",
    "                     mask_unit_size=(1, 8, 8),\n",
    "                     patch_kernel=(3, 8, 8),\n",
    "                     patch_stride=(1, 4, 4),\n",
    "                     patch_padding=(1, 3, 3),\n",
    "                     sep_pos_embed=True,)\n",
    "\n",
    "tiny_hiera = tiny_hiera.cuda().to(torch.float32);\n",
    "example_input = torch.ones(8,1,8,72,128).to(\"cuda\", torch.float32)\n",
    "out = tiny_hiera(example_input, return_intermediates=True);\n",
    "hiera_output = out[-1][-1]\n",
    "hiera_output.shape # (b, t, h, w, c): (8, 4, 9, 16, 192)\n"
   ]
  },
  {
   "cell_type": "markdown",
   "id": "700e892e-0e01-4fda-bec9-13179f415692",
   "metadata": {},
   "source": [
    "# Model definition"
   ]
  },
  {
   "cell_type": "code",
   "execution_count": 7,
   "id": "fbce1ed2-9c69-43e0-91c9-a35fc2e4b6c2",
   "metadata": {},
   "outputs": [],
   "source": [
    "class MouseHieraSmall(nn.Module):\n",
    "    def __init__(self,\n",
    "                 backbone,\n",
    "                 dls,\n",
    "                 chunk_size,\n",
    "                 dim=192,\n",
    "                 dim_head=32,\n",
    "                 num_heads=4):\n",
    "        super().__init__()\n",
    "        self.backbone=backbone\n",
    "        self.num_heads=num_heads\n",
    "        self.dim_head=dim_head\n",
    "        self.wk = nn.Linear(dim, dim_head * num_heads, bias=False)\n",
    "        self.wv = nn.Linear(dim, dim_head * num_heads, bias=False)\n",
    "        self.neuron_proj = nn.Linear(dim_head * num_heads, chunk_size, bias=False)\n",
    "        self.readout = nn.ModuleDict()\n",
    "        self.activation = nn.Softplus(beta=0.5) \n",
    "        for k, v in dls.loaders.items():\n",
    "            n_neurons = next(iter(v))[\"responses\"].shape[-1]\n",
    "            self.readout[k] = IndexedLinearReadout(n_neurons, \n",
    "                                                   in_features=dim_head*num_heads,\n",
    "                                                   dim_head=dim_head, \n",
    "                                                   num_heads=num_heads, \n",
    "                                                  )\n",
    "            \n",
    "    def forward(self, x, key):\n",
    "        x = self.backbone(x, return_intermediates=True)[1][-1]\n",
    "        b, t, h, w, d = x.shape\n",
    "        x = x.view(b, -1, d) # (B, t*h*w, D)\n",
    "        k, v = self.wk(x), self.wv(x)\n",
    "        q = self.readout[key].query\n",
    "        n = q.shape[2] # number of neurons\n",
    "        q = q.repeat(b, 1, 1, 1) # repeat query for number of batches\n",
    "        k = k.view(b, -1, self.num_heads, self.dim_head).transpose(1, 2) # (B, H, S, D)\n",
    "        v = v.view(b, -1, self.num_heads, self.dim_head).transpose(1, 2) # (B, H, S, D)\n",
    "        o = F.scaled_dot_product_attention(q, k, v)\n",
    "            \n",
    "        # (B, H, S, D) -> (B, N, D), with N = num_neurons\n",
    "        o = o.transpose(1,2).contiguous().view(b, -1, self.num_heads * self.dim_head)\n",
    "        o = self.neuron_proj(o) # (B, N, D) -> (B, N, t)\n",
    "        o = o + self.readout[key].bias\n",
    "        o = self.activation(o)\n",
    "        return o"
   ]
  },
  {
   "cell_type": "markdown",
   "id": "528566e8-29c1-46a1-b4b3-2fea3b64da88",
   "metadata": {},
   "source": [
    "# Readout "
   ]
  },
  {
   "cell_type": "code",
   "execution_count": 8,
   "id": "f07a6270-174c-42d7-8f19-2591ca4ddb1b",
   "metadata": {},
   "outputs": [],
   "source": [
    "class IndexedLinearReadout(nn.Module):\n",
    "    \"\"\"\n",
    "    Readout module for MTM models with selectable weights based on \n",
    "    input IDs. Based on :class:`torch.nn.Linear`.\n",
    "    \"\"\"\n",
    "    def __init__(\n",
    "        self,\n",
    "        unique_ids: int,\n",
    "        in_features: int = 384,\n",
    "        dim_head=32,\n",
    "        num_heads=4,\n",
    "        bias: bool = True,\n",
    "        device=\"cuda\",\n",
    "        dtype=torch.float32,\n",
    "        init_std: float = 0.02,\n",
    "    ):\n",
    "        super().__init__()\n",
    "        factory_kwargs = {\"device\": device, \"dtype\": dtype}\n",
    "        self.unique_ids = unique_ids\n",
    "        self.in_features = in_features\n",
    "        self.init_std = init_std\n",
    "        self.query = nn.Parameter(\n",
    "            torch.empty(1, num_heads, unique_ids, dim_head, **factory_kwargs)\n",
    "        )\n",
    "        if bias:\n",
    "            self.bias = nn.Parameter(\n",
    "                torch.empty(1, unique_ids, 1, **factory_kwargs)\n",
    "            )\n",
    "        else:\n",
    "            self.register_parameter('bias', None)\n",
    "        self.init_weights()\n",
    "\n",
    "    def init_weights(self, cutoff_factor: int = 3):\n",
    "        \"\"\"See `TorchTitan <https://github.com/pytorch/torchtitan/blob/40a10263c5b3468ffa53b3ac98d80c9267d68155/torchtitan/models/llama/model.py#L403>`__.\"\"\"\n",
    "        readout_std = self.in_features**-0.5\n",
    "        nn.init.trunc_normal_(\n",
    "            self.query,\n",
    "            mean=0.0,\n",
    "            std=readout_std,\n",
    "            a=-cutoff_factor * readout_std,\n",
    "            b=cutoff_factor * readout_std,\n",
    "        )\n",
    "        if self.bias is not None:\n",
    "            self.bias.data.zero_()"
   ]
  },
  {
   "cell_type": "markdown",
   "id": "0dddde36-dfd5-44b3-8961-b67d970422a5",
   "metadata": {},
   "source": [
    "### Build Model"
   ]
  },
  {
   "cell_type": "code",
   "execution_count": 9,
   "id": "512db87e-b274-4208-9579-0c36d322d213",
   "metadata": {},
   "outputs": [],
   "source": [
    "backbone_dim = hiera_output[-1][-1].shape[-1]\n",
    "model = MouseHieraSmall(backbone=tiny_hiera, \n",
    "                        dls=train_dl, \n",
    "                        chunk_size=chunk_size,\n",
    "                        dim=backbone_dim, \n",
    "                        dim_head=dim_head,\n",
    "                        num_heads=num_heads)"
   ]
  },
  {
   "cell_type": "markdown",
   "id": "2a9c370d-db23-4fa6-8cb6-a34f3d72ae6a",
   "metadata": {},
   "source": [
    "### performance boosts"
   ]
  },
  {
   "cell_type": "code",
   "execution_count": 10,
   "id": "f7bb7bef-0c85-4b4a-b072-dba2e947617c",
   "metadata": {},
   "outputs": [],
   "source": [
    "torch.backends.cuda.matmul.allow_tf32 = True\n",
    "torch.set_float32_matmul_precision('high')\n",
    "\n",
    "torch._dynamo.config.cache_size_limit = 32\n",
    "model = torch.compile(model).cuda().to(torch.float32)"
   ]
  },
  {
   "cell_type": "markdown",
   "id": "53db1feb-d92b-426b-925e-5ae114465d83",
   "metadata": {},
   "source": [
    "# Trainer"
   ]
  },
  {
   "cell_type": "code",
   "execution_count": 11,
   "id": "ce03e89e-23d5-4cbe-b96e-8ecb2cee2d1d",
   "metadata": {},
   "outputs": [],
   "source": [
    "# pip install -U pytorch_warmup\n",
    "import pytorch_warmup as warmup\n",
    "\n",
    "n_epochs = 5\n",
    "lr = 1.0e-3\n",
    "\n",
    "criteria = nn.PoissonNLLLoss(log_input=False, reduction='mean')\n",
    "opt = AdamW(model.parameters(), lr=lr, weight_decay=0.1,)\n",
    "warmup_scheduler = warmup.UntunedLinearWarmup(opt)\n",
    "lr_scheduler = torch.optim.lr_scheduler.CosineAnnealingLR(opt,\n",
    "                                                          T_max=5e5, \n",
    "                                                          eta_min=1e-5)"
   ]
  },
  {
   "cell_type": "markdown",
   "id": "1a91982d-a5f5-4a86-86c8-c04280570032",
   "metadata": {},
   "source": [
    "# train - simple"
   ]
  },
  {
   "cell_type": "code",
   "execution_count": null,
   "id": "2fa59f4a-4b2c-40ec-a83b-ece17dddaee8",
   "metadata": {},
   "outputs": [],
   "source": [
    "# the first 10 batches are slow because torch is compiling the model for each new input shape\n",
    "\n",
    "for _ in range(n_epochs):\n",
    "    for i, (key, batch) in tqdm(enumerate(train_dl)):\n",
    "        videos = batch[\"screen\"].to(\"cuda\", torch.float32, non_blocking=True).permute(0,2,1,3,4)\n",
    "        responses = batch[\"responses\"].to(\"cuda\", torch.float32, non_blocking=True)\n",
    "        out = model(videos, key);\n",
    "        loss = criteria(out.transpose(1,2), responses)\n",
    "        loss.backward()\n",
    "        torch.nn.utils.clip_grad_value_(model.parameters(), gradient_clip_value,)\n",
    "        opt.step()\n",
    "        opt.zero_grad()\n",
    "        with warmup_scheduler.dampening():\n",
    "            lr_scheduler.step()\n",
    "            \n",
    "    # after each epoch, the times can be shuffled so there are new random starting points for all chunks\n",
    "    for dataloader in train_dl.loaders.values():\n",
    "        dataloader.dataset.shuffle_valid_screen_times()"
   ]
  },
  {
   "cell_type": "markdown",
   "id": "25ae39a6-7b18-4450-a528-f060d0bbc87d",
   "metadata": {},
   "source": [
    "# train messy"
   ]
  },
  {
   "cell_type": "code",
   "execution_count": 12,
   "id": "80f31bcf-dab8-45d1-82d3-fc16c723da83",
   "metadata": {},
   "outputs": [
    {
     "name": "stderr",
     "output_type": "stream",
     "text": [
      "/usr/local/lib/python3.10/dist-packages/torchvision/transforms/v2/_deprecated.py:42: UserWarning: The transform `ToTensor()` is deprecated and will be removed in a future release. Instead, please use `v2.Compose([v2.ToImage(), v2.ToDtype(torch.float32, scale=True)])`.Output is equivalent up to float precision.\n",
      "  warnings.warn(\n"
     ]
    }
   ],
   "source": [
    "from experanto.configs import DEFAULT_CONFIG as cfg\n",
    "cfg.dataset.global_chunk_size = 8\n",
    "cfg.dataset.global_sampling_rate = 8\n",
    "cfg.dataset.modality_config.screen.include_blanks=False\n",
    "cfg.dataset.modality_config.screen.sample_stride=8\n",
    "cfg.dataset.modality_config.screen.valid_condition = {\"tier\": \"oracle\"}\n",
    "cfg.dataset.modality_config.screen.transforms.Resize.size = video_size\n",
    "\n",
    "\n",
    "cfg.dataloader.num_workers=4\n",
    "cfg.dataloader.prefetch_factor=1\n",
    "cfg.dataloader.batch_size=32\n",
    "cfg.dataloader.pin_memory=True\n",
    "# the multiple dataloader is an iterator that returns a tuple of (key, batch)\n",
    "val_dl = get_multisession_dataloader(full_paths[3:4], cfg)"
   ]
  },
  {
   "cell_type": "code",
   "execution_count": 13,
   "id": "7410a49b-aa7f-4251-8e7f-1d68b88e1183",
   "metadata": {},
   "outputs": [],
   "source": [
    "def val_step():\n",
    "    targets, predictions = [],[]\n",
    "    with torch.no_grad():\n",
    "        for i, (k, b) in tqdm(enumerate(val_dl)):\n",
    "            videos = b[\"screen\"].to(\"cuda\", torch.float32, non_blocking=True).permute(0,2,1,3,4)\n",
    "            responses = b[\"responses\"].to(\"cuda\", torch.float32, non_blocking=True)\n",
    "            out = model(videos, k);\n",
    "            predictions.append(out.transpose(1,2).to(torch.float32).cpu().numpy())\n",
    "            targets.append(responses.to(torch.float32).cpu().numpy())\n",
    "    r1 = np.vstack(np.vstack(predictions))\n",
    "    r2 = np.vstack(np.vstack(targets))\n",
    "    cs = []\n",
    "    for n in range(7000):\n",
    "        c =  np.corrcoef(r1[...,n].flatten(), r2[...,n].flatten(), )[0,1]\n",
    "        cs.append(c)\n",
    "    val_corrs = np.stack(cs).mean()\n",
    "    return val_corrs"
   ]
  },
  {
   "cell_type": "code",
   "execution_count": null,
   "id": "ef82f1ad-b724-49d6-99c8-7c01d884bf0e",
   "metadata": {},
   "outputs": [
    {
     "name": "stderr",
     "output_type": "stream",
     "text": [
      "101it [00:42,  1.55it/s]"
     ]
    },
    {
     "name": "stdout",
     "output_type": "stream",
     "text": [
      "0.11409516466947804\n",
      "0.000999125658422008\n"
     ]
    },
    {
     "name": "stderr",
     "output_type": "stream",
     "text": [
      "201it [01:24,  1.65it/s]"
     ]
    },
    {
     "name": "stdout",
     "output_type": "stream",
     "text": [
      "0.11303975553914834\n",
      "0.0009991070832609278\n"
     ]
    },
    {
     "name": "stderr",
     "output_type": "stream",
     "text": [
      "260it [01:48,  2.40it/s]\n",
      "17it [00:05,  3.03it/s]\n"
     ]
    },
    {
     "name": "stdout",
     "output_type": "stream",
     "text": [
      "[np.float64(0.0019495634878419347), np.float64(0.01380470407546853), np.float64(0.015893670222691596), np.float64(0.014528910736214998), np.float64(0.018681492906742158), np.float64(0.011244841487471515), np.float64(0.014438532519650571), np.float64(0.02070535100118988), np.float64(0.03316688034973055), np.float64(0.04062275081224792), np.float64(0.04269709144052279), np.float64(0.04625822296191043), np.float64(0.0542812655027936), np.float64(0.05802820880288929), np.float64(0.061065284065367494), np.float64(0.06386972984737664), np.float64(0.06397228913070577), np.float64(0.06673359164139381), np.float64(0.06711982668836329), np.float64(0.06797844581190965), np.float64(0.06894028540844516), np.float64(0.04886750517233926), np.float64(0.05361350457159882), np.float64(0.06100226994386958), np.float64(0.06835316992034679), np.float64(0.07092178237378786), np.float64(0.07228246617578991), np.float64(0.07203130455968665), np.float64(0.0747110944279144), np.float64(0.07530448919536918), np.float64(0.07242913224408352), np.float64(0.07732475195200453), np.float64(0.07696252900228434), np.float64(0.0786187570354983), np.float64(0.07826077406140623), np.float64(0.08010768240048169), np.float64(0.08171161734854063), np.float64(0.08322270543503175)]\n"
     ]
    },
    {
     "name": "stderr",
     "output_type": "stream",
     "text": [
      "1it [00:01,  1.31s/it]"
     ]
    },
    {
     "name": "stdout",
     "output_type": "stream",
     "text": [
      "0.12408293196139597\n",
      "0.000999095844532295\n"
     ]
    },
    {
     "name": "stderr",
     "output_type": "stream",
     "text": [
      "101it [00:42,  1.60it/s]"
     ]
    },
    {
     "name": "stdout",
     "output_type": "stream",
     "text": [
      "0.12401856046426833\n",
      "0.0009990769572697246\n"
     ]
    },
    {
     "name": "stderr",
     "output_type": "stream",
     "text": [
      "201it [01:23,  1.65it/s]"
     ]
    },
    {
     "name": "stdout",
     "output_type": "stream",
     "text": [
      "0.12325237472872663\n",
      "0.0009990578749533958\n"
     ]
    },
    {
     "name": "stderr",
     "output_type": "stream",
     "text": [
      "260it [01:47,  2.43it/s]\n",
      "17it [00:06,  2.81it/s]\n"
     ]
    },
    {
     "name": "stdout",
     "output_type": "stream",
     "text": [
      "[np.float64(0.0019495634878419347), np.float64(0.01380470407546853), np.float64(0.015893670222691596), np.float64(0.014528910736214998), np.float64(0.018681492906742158), np.float64(0.011244841487471515), np.float64(0.014438532519650571), np.float64(0.02070535100118988), np.float64(0.03316688034973055), np.float64(0.04062275081224792), np.float64(0.04269709144052279), np.float64(0.04625822296191043), np.float64(0.0542812655027936), np.float64(0.05802820880288929), np.float64(0.061065284065367494), np.float64(0.06386972984737664), np.float64(0.06397228913070577), np.float64(0.06673359164139381), np.float64(0.06711982668836329), np.float64(0.06797844581190965), np.float64(0.06894028540844516), np.float64(0.04886750517233926), np.float64(0.05361350457159882), np.float64(0.06100226994386958), np.float64(0.06835316992034679), np.float64(0.07092178237378786), np.float64(0.07228246617578991), np.float64(0.07203130455968665), np.float64(0.0747110944279144), np.float64(0.07530448919536918), np.float64(0.07242913224408352), np.float64(0.07732475195200453), np.float64(0.07696252900228434), np.float64(0.0786187570354983), np.float64(0.07826077406140623), np.float64(0.08010768240048169), np.float64(0.08171161734854063), np.float64(0.08322270543503175), np.float64(0.08212245775171556)]\n"
     ]
    },
    {
     "name": "stderr",
     "output_type": "stream",
     "text": [
      "1it [00:01,  1.37s/it]"
     ]
    },
    {
     "name": "stdout",
     "output_type": "stream",
     "text": [
      "0.1307595238910077\n",
      "0.0009990463319409252\n"
     ]
    },
    {
     "name": "stderr",
     "output_type": "stream",
     "text": [
      "101it [00:42,  1.54it/s]"
     ]
    },
    {
     "name": "stdout",
     "output_type": "stream",
     "text": [
      "0.12884332169650567\n",
      "0.0009990269375542858\n"
     ]
    },
    {
     "name": "stderr",
     "output_type": "stream",
     "text": [
      "201it [01:23,  1.56it/s]"
     ]
    },
    {
     "name": "stdout",
     "output_type": "stream",
     "text": [
      "0.12328410435798749\n",
      "0.0009990073481336355\n"
     ]
    },
    {
     "name": "stderr",
     "output_type": "stream",
     "text": [
      "260it [01:48,  2.40it/s]\n",
      "17it [00:07,  2.24it/s]\n"
     ]
    },
    {
     "name": "stdout",
     "output_type": "stream",
     "text": [
      "[np.float64(0.0019495634878419347), np.float64(0.01380470407546853), np.float64(0.015893670222691596), np.float64(0.014528910736214998), np.float64(0.018681492906742158), np.float64(0.011244841487471515), np.float64(0.014438532519650571), np.float64(0.02070535100118988), np.float64(0.03316688034973055), np.float64(0.04062275081224792), np.float64(0.04269709144052279), np.float64(0.04625822296191043), np.float64(0.0542812655027936), np.float64(0.05802820880288929), np.float64(0.061065284065367494), np.float64(0.06386972984737664), np.float64(0.06397228913070577), np.float64(0.06673359164139381), np.float64(0.06711982668836329), np.float64(0.06797844581190965), np.float64(0.06894028540844516), np.float64(0.04886750517233926), np.float64(0.05361350457159882), np.float64(0.06100226994386958), np.float64(0.06835316992034679), np.float64(0.07092178237378786), np.float64(0.07228246617578991), np.float64(0.07203130455968665), np.float64(0.0747110944279144), np.float64(0.07530448919536918), np.float64(0.07242913224408352), np.float64(0.07732475195200453), np.float64(0.07696252900228434), np.float64(0.0786187570354983), np.float64(0.07826077406140623), np.float64(0.08010768240048169), np.float64(0.08171161734854063), np.float64(0.08322270543503175), np.float64(0.08212245775171556), np.float64(0.08613095420954058)]\n"
     ]
    },
    {
     "name": "stderr",
     "output_type": "stream",
     "text": [
      "1it [00:01,  1.17s/it]"
     ]
    },
    {
     "name": "stdout",
     "output_type": "stream",
     "text": [
      "0.14012877998981793\n",
      "0.0009989955008681342\n"
     ]
    },
    {
     "name": "stderr",
     "output_type": "stream",
     "text": [
      "101it [00:46,  1.45it/s]"
     ]
    },
    {
     "name": "stdout",
     "output_type": "stream",
     "text": [
      "0.1148405697474611\n",
      "0.000998975599409184\n"
     ]
    },
    {
     "name": "stderr",
     "output_type": "stream",
     "text": [
      "201it [01:30,  1.35it/s]"
     ]
    },
    {
     "name": "stdout",
     "output_type": "stream",
     "text": [
      "0.1370756303247041\n",
      "0.0009989555029364904\n"
     ]
    },
    {
     "name": "stderr",
     "output_type": "stream",
     "text": [
      "260it [01:55,  2.26it/s]\n",
      "17it [00:05,  3.05it/s]\n"
     ]
    },
    {
     "name": "stdout",
     "output_type": "stream",
     "text": [
      "[np.float64(0.0019495634878419347), np.float64(0.01380470407546853), np.float64(0.015893670222691596), np.float64(0.014528910736214998), np.float64(0.018681492906742158), np.float64(0.011244841487471515), np.float64(0.014438532519650571), np.float64(0.02070535100118988), np.float64(0.03316688034973055), np.float64(0.04062275081224792), np.float64(0.04269709144052279), np.float64(0.04625822296191043), np.float64(0.0542812655027936), np.float64(0.05802820880288929), np.float64(0.061065284065367494), np.float64(0.06386972984737664), np.float64(0.06397228913070577), np.float64(0.06673359164139381), np.float64(0.06711982668836329), np.float64(0.06797844581190965), np.float64(0.06894028540844516), np.float64(0.04886750517233926), np.float64(0.05361350457159882), np.float64(0.06100226994386958), np.float64(0.06835316992034679), np.float64(0.07092178237378786), np.float64(0.07228246617578991), np.float64(0.07203130455968665), np.float64(0.0747110944279144), np.float64(0.07530448919536918), np.float64(0.07242913224408352), np.float64(0.07732475195200453), np.float64(0.07696252900228434), np.float64(0.0786187570354983), np.float64(0.07826077406140623), np.float64(0.08010768240048169), np.float64(0.08171161734854063), np.float64(0.08322270543503175), np.float64(0.08212245775171556), np.float64(0.08613095420954058), np.float64(0.08773666050911522)]\n"
     ]
    },
    {
     "name": "stderr",
     "output_type": "stream",
     "text": [
      "1it [00:01,  1.07s/it]"
     ]
    },
    {
     "name": "stdout",
     "output_type": "stream",
     "text": [
      "0.13448044544171725\n",
      "0.0009989433514495743\n"
     ]
    },
    {
     "name": "stderr",
     "output_type": "stream",
     "text": [
      "101it [00:46,  1.16it/s]"
     ]
    },
    {
     "name": "stdout",
     "output_type": "stream",
     "text": [
      "0.13639879319666826\n",
      "0.000998922942971425\n"
     ]
    },
    {
     "name": "stderr",
     "output_type": "stream",
     "text": [
      "201it [01:28,  1.32it/s]"
     ]
    },
    {
     "name": "stdout",
     "output_type": "stream",
     "text": [
      "0.13384095411089741\n",
      "0.0009989023395003188\n"
     ]
    },
    {
     "name": "stderr",
     "output_type": "stream",
     "text": [
      "260it [01:53,  2.28it/s]\n",
      "17it [00:05,  2.84it/s]\n"
     ]
    },
    {
     "name": "stdout",
     "output_type": "stream",
     "text": [
      "[np.float64(0.0019495634878419347), np.float64(0.01380470407546853), np.float64(0.015893670222691596), np.float64(0.014528910736214998), np.float64(0.018681492906742158), np.float64(0.011244841487471515), np.float64(0.014438532519650571), np.float64(0.02070535100118988), np.float64(0.03316688034973055), np.float64(0.04062275081224792), np.float64(0.04269709144052279), np.float64(0.04625822296191043), np.float64(0.0542812655027936), np.float64(0.05802820880288929), np.float64(0.061065284065367494), np.float64(0.06386972984737664), np.float64(0.06397228913070577), np.float64(0.06673359164139381), np.float64(0.06711982668836329), np.float64(0.06797844581190965), np.float64(0.06894028540844516), np.float64(0.04886750517233926), np.float64(0.05361350457159882), np.float64(0.06100226994386958), np.float64(0.06835316992034679), np.float64(0.07092178237378786), np.float64(0.07228246617578991), np.float64(0.07203130455968665), np.float64(0.0747110944279144), np.float64(0.07530448919536918), np.float64(0.07242913224408352), np.float64(0.07732475195200453), np.float64(0.07696252900228434), np.float64(0.0786187570354983), np.float64(0.07826077406140623), np.float64(0.08010768240048169), np.float64(0.08171161734854063), np.float64(0.08322270543503175), np.float64(0.08212245775171556), np.float64(0.08613095420954058), np.float64(0.08773666050911522), np.float64(0.09106414274127285)]\n"
     ]
    },
    {
     "name": "stderr",
     "output_type": "stream",
     "text": [
      "1it [00:01,  1.10s/it]"
     ]
    },
    {
     "name": "stdout",
     "output_type": "stream",
     "text": [
      "0.13001572793653168\n",
      "0.0009988898838244181\n"
     ]
    },
    {
     "name": "stderr",
     "output_type": "stream",
     "text": [
      "101it [00:45,  1.29it/s]"
     ]
    },
    {
     "name": "stdout",
     "output_type": "stream",
     "text": [
      "0.1306782162484511\n",
      "0.0009988689683815344\n"
     ]
    },
    {
     "name": "stderr",
     "output_type": "stream",
     "text": [
      "201it [01:28,  1.28it/s]"
     ]
    },
    {
     "name": "stdout",
     "output_type": "stream",
     "text": [
      "0.1371704838670547\n",
      "0.0009988478579670028\n"
     ]
    },
    {
     "name": "stderr",
     "output_type": "stream",
     "text": [
      "260it [01:53,  2.29it/s]\n",
      "17it [00:07,  2.33it/s]\n"
     ]
    },
    {
     "name": "stdout",
     "output_type": "stream",
     "text": [
      "[np.float64(0.0019495634878419347), np.float64(0.01380470407546853), np.float64(0.015893670222691596), np.float64(0.014528910736214998), np.float64(0.018681492906742158), np.float64(0.011244841487471515), np.float64(0.014438532519650571), np.float64(0.02070535100118988), np.float64(0.03316688034973055), np.float64(0.04062275081224792), np.float64(0.04269709144052279), np.float64(0.04625822296191043), np.float64(0.0542812655027936), np.float64(0.05802820880288929), np.float64(0.061065284065367494), np.float64(0.06386972984737664), np.float64(0.06397228913070577), np.float64(0.06673359164139381), np.float64(0.06711982668836329), np.float64(0.06797844581190965), np.float64(0.06894028540844516), np.float64(0.04886750517233926), np.float64(0.05361350457159882), np.float64(0.06100226994386958), np.float64(0.06835316992034679), np.float64(0.07092178237378786), np.float64(0.07228246617578991), np.float64(0.07203130455968665), np.float64(0.0747110944279144), np.float64(0.07530448919536918), np.float64(0.07242913224408352), np.float64(0.07732475195200453), np.float64(0.07696252900228434), np.float64(0.0786187570354983), np.float64(0.07826077406140623), np.float64(0.08010768240048169), np.float64(0.08171161734854063), np.float64(0.08322270543503175), np.float64(0.08212245775171556), np.float64(0.08613095420954058), np.float64(0.08773666050911522), np.float64(0.09106414274127285), np.float64(0.09143000345044928)]\n"
     ]
    },
    {
     "name": "stderr",
     "output_type": "stream",
     "text": [
      "1it [00:01,  1.11s/it]"
     ]
    },
    {
     "name": "stdout",
     "output_type": "stream",
     "text": [
      "0.13262970769030769\n",
      "0.0009988350981353577\n"
     ]
    },
    {
     "name": "stderr",
     "output_type": "stream",
     "text": [
      "101it [00:45,  1.27it/s]"
     ]
    },
    {
     "name": "stdout",
     "output_type": "stream",
     "text": [
      "0.1321472225915087\n",
      "0.0009988136757835583\n"
     ]
    },
    {
     "name": "stderr",
     "output_type": "stream",
     "text": [
      "201it [01:27,  1.47it/s]"
     ]
    },
    {
     "name": "stdout",
     "output_type": "stream",
     "text": [
      "0.12806814997490396\n",
      "0.00099879205848194\n"
     ]
    },
    {
     "name": "stderr",
     "output_type": "stream",
     "text": [
      "260it [01:52,  2.32it/s]\n",
      "17it [00:08,  2.12it/s]\n"
     ]
    },
    {
     "name": "stdout",
     "output_type": "stream",
     "text": [
      "[np.float64(0.0019495634878419347), np.float64(0.01380470407546853), np.float64(0.015893670222691596), np.float64(0.014528910736214998), np.float64(0.018681492906742158), np.float64(0.011244841487471515), np.float64(0.014438532519650571), np.float64(0.02070535100118988), np.float64(0.03316688034973055), np.float64(0.04062275081224792), np.float64(0.04269709144052279), np.float64(0.04625822296191043), np.float64(0.0542812655027936), np.float64(0.05802820880288929), np.float64(0.061065284065367494), np.float64(0.06386972984737664), np.float64(0.06397228913070577), np.float64(0.06673359164139381), np.float64(0.06711982668836329), np.float64(0.06797844581190965), np.float64(0.06894028540844516), np.float64(0.04886750517233926), np.float64(0.05361350457159882), np.float64(0.06100226994386958), np.float64(0.06835316992034679), np.float64(0.07092178237378786), np.float64(0.07228246617578991), np.float64(0.07203130455968665), np.float64(0.0747110944279144), np.float64(0.07530448919536918), np.float64(0.07242913224408352), np.float64(0.07732475195200453), np.float64(0.07696252900228434), np.float64(0.0786187570354983), np.float64(0.07826077406140623), np.float64(0.08010768240048169), np.float64(0.08171161734854063), np.float64(0.08322270543503175), np.float64(0.08212245775171556), np.float64(0.08613095420954058), np.float64(0.08773666050911522), np.float64(0.09106414274127285), np.float64(0.09143000345044928), np.float64(0.08059983552312101)]\n"
     ]
    },
    {
     "name": "stderr",
     "output_type": "stream",
     "text": [
      "1it [00:01,  1.48s/it]"
     ]
    },
    {
     "name": "stdout",
     "output_type": "stream",
     "text": [
      "0.11661633817158575\n",
      "0.000998778994528603\n"
     ]
    },
    {
     "name": "stderr",
     "output_type": "stream",
     "text": [
      "101it [00:44,  1.44it/s]"
     ]
    },
    {
     "name": "stdout",
     "output_type": "stream",
     "text": [
      "0.11588313454123164\n",
      "0.000998757065325058\n"
     ]
    },
    {
     "name": "stderr",
     "output_type": "stream",
     "text": [
      "201it [01:28,  1.29it/s]"
     ]
    },
    {
     "name": "stdout",
     "output_type": "stream",
     "text": [
      "0.10364247921300888\n",
      "0.0009987349411940427\n"
     ]
    },
    {
     "name": "stderr",
     "output_type": "stream",
     "text": [
      "260it [01:53,  2.28it/s]\n",
      "17it [00:07,  2.21it/s]\n"
     ]
    },
    {
     "name": "stdout",
     "output_type": "stream",
     "text": [
      "[np.float64(0.0019495634878419347), np.float64(0.01380470407546853), np.float64(0.015893670222691596), np.float64(0.014528910736214998), np.float64(0.018681492906742158), np.float64(0.011244841487471515), np.float64(0.014438532519650571), np.float64(0.02070535100118988), np.float64(0.03316688034973055), np.float64(0.04062275081224792), np.float64(0.04269709144052279), np.float64(0.04625822296191043), np.float64(0.0542812655027936), np.float64(0.05802820880288929), np.float64(0.061065284065367494), np.float64(0.06386972984737664), np.float64(0.06397228913070577), np.float64(0.06673359164139381), np.float64(0.06711982668836329), np.float64(0.06797844581190965), np.float64(0.06894028540844516), np.float64(0.04886750517233926), np.float64(0.05361350457159882), np.float64(0.06100226994386958), np.float64(0.06835316992034679), np.float64(0.07092178237378786), np.float64(0.07228246617578991), np.float64(0.07203130455968665), np.float64(0.0747110944279144), np.float64(0.07530448919536918), np.float64(0.07242913224408352), np.float64(0.07732475195200453), np.float64(0.07696252900228434), np.float64(0.0786187570354983), np.float64(0.07826077406140623), np.float64(0.08010768240048169), np.float64(0.08171161734854063), np.float64(0.08322270543503175), np.float64(0.08212245775171556), np.float64(0.08613095420954058), np.float64(0.08773666050911522), np.float64(0.09106414274127285), np.float64(0.09143000345044928), np.float64(0.08059983552312101), np.float64(0.08013657626380725)]\n"
     ]
    },
    {
     "name": "stderr",
     "output_type": "stream",
     "text": [
      "1it [00:01,  1.43s/it]"
     ]
    },
    {
     "name": "stdout",
     "output_type": "stream",
     "text": [
      "0.12136376498219913\n",
      "0.0009987215731538785\n"
     ]
    },
    {
     "name": "stderr",
     "output_type": "stream",
     "text": [
      "101it [00:45,  1.22it/s]"
     ]
    },
    {
     "name": "stdout",
     "output_type": "stream",
     "text": [
      "0.1250027455626396\n",
      "0.0009986991371571127\n"
     ]
    },
    {
     "name": "stderr",
     "output_type": "stream",
     "text": [
      "201it [01:29,  1.38it/s]"
     ]
    },
    {
     "name": "stdout",
     "output_type": "stream",
     "text": [
      "0.1327002134143451\n",
      "0.0009986765062557433\n"
     ]
    },
    {
     "name": "stderr",
     "output_type": "stream",
     "text": [
      "260it [01:53,  2.29it/s]\n",
      "17it [00:07,  2.23it/s]\n"
     ]
    },
    {
     "name": "stdout",
     "output_type": "stream",
     "text": [
      "[np.float64(0.0019495634878419347), np.float64(0.01380470407546853), np.float64(0.015893670222691596), np.float64(0.014528910736214998), np.float64(0.018681492906742158), np.float64(0.011244841487471515), np.float64(0.014438532519650571), np.float64(0.02070535100118988), np.float64(0.03316688034973055), np.float64(0.04062275081224792), np.float64(0.04269709144052279), np.float64(0.04625822296191043), np.float64(0.0542812655027936), np.float64(0.05802820880288929), np.float64(0.061065284065367494), np.float64(0.06386972984737664), np.float64(0.06397228913070577), np.float64(0.06673359164139381), np.float64(0.06711982668836329), np.float64(0.06797844581190965), np.float64(0.06894028540844516), np.float64(0.04886750517233926), np.float64(0.05361350457159882), np.float64(0.06100226994386958), np.float64(0.06835316992034679), np.float64(0.07092178237378786), np.float64(0.07228246617578991), np.float64(0.07203130455968665), np.float64(0.0747110944279144), np.float64(0.07530448919536918), np.float64(0.07242913224408352), np.float64(0.07732475195200453), np.float64(0.07696252900228434), np.float64(0.0786187570354983), np.float64(0.07826077406140623), np.float64(0.08010768240048169), np.float64(0.08171161734854063), np.float64(0.08322270543503175), np.float64(0.08212245775171556), np.float64(0.08613095420954058), np.float64(0.08773666050911522), np.float64(0.09106414274127285), np.float64(0.09143000345044928), np.float64(0.08059983552312101), np.float64(0.08013657626380725), np.float64(0.08890766701158939)]\n"
     ]
    },
    {
     "name": "stderr",
     "output_type": "stream",
     "text": [
      "1it [00:01,  1.44s/it]"
     ]
    },
    {
     "name": "stdout",
     "output_type": "stream",
     "text": [
      "0.13909636849903922\n",
      "0.0009986628341644274\n"
     ]
    },
    {
     "name": "stderr",
     "output_type": "stream",
     "text": [
      "101it [00:44,  1.27it/s]"
     ]
    },
    {
     "name": "stdout",
     "output_type": "stream",
     "text": [
      "0.13569447419967642\n",
      "0.0009986398914343137\n"
     ]
    },
    {
     "name": "stderr",
     "output_type": "stream",
     "text": [
      "201it [01:28,  1.38it/s]"
     ]
    },
    {
     "name": "stdout",
     "output_type": "stream",
     "text": [
      "0.1381627242220649\n",
      "0.0009986167538229866\n"
     ]
    },
    {
     "name": "stderr",
     "output_type": "stream",
     "text": [
      "260it [01:53,  2.30it/s]\n",
      "17it [00:07,  2.32it/s]\n"
     ]
    },
    {
     "name": "stdout",
     "output_type": "stream",
     "text": [
      "[np.float64(0.0019495634878419347), np.float64(0.01380470407546853), np.float64(0.015893670222691596), np.float64(0.014528910736214998), np.float64(0.018681492906742158), np.float64(0.011244841487471515), np.float64(0.014438532519650571), np.float64(0.02070535100118988), np.float64(0.03316688034973055), np.float64(0.04062275081224792), np.float64(0.04269709144052279), np.float64(0.04625822296191043), np.float64(0.0542812655027936), np.float64(0.05802820880288929), np.float64(0.061065284065367494), np.float64(0.06386972984737664), np.float64(0.06397228913070577), np.float64(0.06673359164139381), np.float64(0.06711982668836329), np.float64(0.06797844581190965), np.float64(0.06894028540844516), np.float64(0.04886750517233926), np.float64(0.05361350457159882), np.float64(0.06100226994386958), np.float64(0.06835316992034679), np.float64(0.07092178237378786), np.float64(0.07228246617578991), np.float64(0.07203130455968665), np.float64(0.0747110944279144), np.float64(0.07530448919536918), np.float64(0.07242913224408352), np.float64(0.07732475195200453), np.float64(0.07696252900228434), np.float64(0.0786187570354983), np.float64(0.07826077406140623), np.float64(0.08010768240048169), np.float64(0.08171161734854063), np.float64(0.08322270543503175), np.float64(0.08212245775171556), np.float64(0.08613095420954058), np.float64(0.08773666050911522), np.float64(0.09106414274127285), np.float64(0.09143000345044928), np.float64(0.08059983552312101), np.float64(0.08013657626380725), np.float64(0.08890766701158939), np.float64(0.0919626205078636)]\n"
     ]
    },
    {
     "name": "stderr",
     "output_type": "stream",
     "text": [
      "1it [00:01,  1.49s/it]"
     ]
    },
    {
     "name": "stdout",
     "output_type": "stream",
     "text": [
      "0.1423374330943103\n",
      "0.0009986027777170057\n"
     ]
    },
    {
     "name": "stderr",
     "output_type": "stream",
     "text": [
      "101it [00:44,  1.22it/s]"
     ]
    },
    {
     "name": "stdout",
     "output_type": "stream",
     "text": [
      "0.1330515378193808\n",
      "0.000998579328314774\n"
     ]
    },
    {
     "name": "stderr",
     "output_type": "stream",
     "text": [
      "201it [01:27,  1.52it/s]"
     ]
    },
    {
     "name": "stdout",
     "output_type": "stream",
     "text": [
      "0.12930730258841877\n",
      "0.00099855568405524\n"
     ]
    },
    {
     "name": "stderr",
     "output_type": "stream",
     "text": [
      "260it [01:53,  2.30it/s]\n",
      "17it [00:06,  2.43it/s]\n"
     ]
    },
    {
     "name": "stdout",
     "output_type": "stream",
     "text": [
      "[np.float64(0.0019495634878419347), np.float64(0.01380470407546853), np.float64(0.015893670222691596), np.float64(0.014528910736214998), np.float64(0.018681492906742158), np.float64(0.011244841487471515), np.float64(0.014438532519650571), np.float64(0.02070535100118988), np.float64(0.03316688034973055), np.float64(0.04062275081224792), np.float64(0.04269709144052279), np.float64(0.04625822296191043), np.float64(0.0542812655027936), np.float64(0.05802820880288929), np.float64(0.061065284065367494), np.float64(0.06386972984737664), np.float64(0.06397228913070577), np.float64(0.06673359164139381), np.float64(0.06711982668836329), np.float64(0.06797844581190965), np.float64(0.06894028540844516), np.float64(0.04886750517233926), np.float64(0.05361350457159882), np.float64(0.06100226994386958), np.float64(0.06835316992034679), np.float64(0.07092178237378786), np.float64(0.07228246617578991), np.float64(0.07203130455968665), np.float64(0.0747110944279144), np.float64(0.07530448919536918), np.float64(0.07242913224408352), np.float64(0.07732475195200453), np.float64(0.07696252900228434), np.float64(0.0786187570354983), np.float64(0.07826077406140623), np.float64(0.08010768240048169), np.float64(0.08171161734854063), np.float64(0.08322270543503175), np.float64(0.08212245775171556), np.float64(0.08613095420954058), np.float64(0.08773666050911522), np.float64(0.09106414274127285), np.float64(0.09143000345044928), np.float64(0.08059983552312101), np.float64(0.08013657626380725), np.float64(0.08890766701158939), np.float64(0.0919626205078636), np.float64(0.09347447089823512)]\n"
     ]
    },
    {
     "name": "stderr",
     "output_type": "stream",
     "text": [
      "1it [00:01,  1.65s/it]"
     ]
    },
    {
     "name": "stdout",
     "output_type": "stream",
     "text": [
      "0.13882239745971184\n",
      "0.0009985414039718945\n"
     ]
    },
    {
     "name": "stderr",
     "output_type": "stream",
     "text": [
      "101it [00:43,  1.41it/s]"
     ]
    },
    {
     "name": "stdout",
     "output_type": "stream",
     "text": [
      "0.14341827422808617\n",
      "0.000998517447960125\n"
     ]
    },
    {
     "name": "stderr",
     "output_type": "stream",
     "text": [
      "201it [01:27,  1.28it/s]"
     ]
    },
    {
     "name": "stdout",
     "output_type": "stream",
     "text": [
      "0.1509197933206744\n",
      "0.000998493297115483\n"
     ]
    },
    {
     "name": "stderr",
     "output_type": "stream",
     "text": [
      "260it [01:52,  2.32it/s]\n",
      "17it [00:07,  2.27it/s]\n"
     ]
    },
    {
     "name": "stdout",
     "output_type": "stream",
     "text": [
      "[np.float64(0.0019495634878419347), np.float64(0.01380470407546853), np.float64(0.015893670222691596), np.float64(0.014528910736214998), np.float64(0.018681492906742158), np.float64(0.011244841487471515), np.float64(0.014438532519650571), np.float64(0.02070535100118988), np.float64(0.03316688034973055), np.float64(0.04062275081224792), np.float64(0.04269709144052279), np.float64(0.04625822296191043), np.float64(0.0542812655027936), np.float64(0.05802820880288929), np.float64(0.061065284065367494), np.float64(0.06386972984737664), np.float64(0.06397228913070577), np.float64(0.06673359164139381), np.float64(0.06711982668836329), np.float64(0.06797844581190965), np.float64(0.06894028540844516), np.float64(0.04886750517233926), np.float64(0.05361350457159882), np.float64(0.06100226994386958), np.float64(0.06835316992034679), np.float64(0.07092178237378786), np.float64(0.07228246617578991), np.float64(0.07203130455968665), np.float64(0.0747110944279144), np.float64(0.07530448919536918), np.float64(0.07242913224408352), np.float64(0.07732475195200453), np.float64(0.07696252900228434), np.float64(0.0786187570354983), np.float64(0.07826077406140623), np.float64(0.08010768240048169), np.float64(0.08171161734854063), np.float64(0.08322270543503175), np.float64(0.08212245775171556), np.float64(0.08613095420954058), np.float64(0.08773666050911522), np.float64(0.09106414274127285), np.float64(0.09143000345044928), np.float64(0.08059983552312101), np.float64(0.08013657626380725), np.float64(0.08890766701158939), np.float64(0.0919626205078636), np.float64(0.09347447089823512), np.float64(0.09476198905413678)]\n"
     ]
    },
    {
     "name": "stderr",
     "output_type": "stream",
     "text": [
      "1it [00:01,  1.32s/it]"
     ]
    },
    {
     "name": "stdout",
     "output_type": "stream",
     "text": [
      "0.14807793790785562\n",
      "0.0009984787130928809\n"
     ]
    },
    {
     "name": "stderr",
     "output_type": "stream",
     "text": [
      "101it [00:43,  1.21it/s]"
     ]
    },
    {
     "name": "stdout",
     "output_type": "stream",
     "text": [
      "0.1402602528902075\n",
      "0.0009984542505355055\n"
     ]
    },
    {
     "name": "stderr",
     "output_type": "stream",
     "text": [
      "201it [01:26,  1.28it/s]"
     ]
    },
    {
     "name": "stdout",
     "output_type": "stream",
     "text": [
      "0.13254559424822562\n",
      "0.000998429593170208\n"
     ]
    },
    {
     "name": "stderr",
     "output_type": "stream",
     "text": [
      "260it [01:49,  2.36it/s]\n",
      "17it [00:07,  2.31it/s]\n"
     ]
    },
    {
     "name": "stdout",
     "output_type": "stream",
     "text": [
      "[np.float64(0.0019495634878419347), np.float64(0.01380470407546853), np.float64(0.015893670222691596), np.float64(0.014528910736214998), np.float64(0.018681492906742158), np.float64(0.011244841487471515), np.float64(0.014438532519650571), np.float64(0.02070535100118988), np.float64(0.03316688034973055), np.float64(0.04062275081224792), np.float64(0.04269709144052279), np.float64(0.04625822296191043), np.float64(0.0542812655027936), np.float64(0.05802820880288929), np.float64(0.061065284065367494), np.float64(0.06386972984737664), np.float64(0.06397228913070577), np.float64(0.06673359164139381), np.float64(0.06711982668836329), np.float64(0.06797844581190965), np.float64(0.06894028540844516), np.float64(0.04886750517233926), np.float64(0.05361350457159882), np.float64(0.06100226994386958), np.float64(0.06835316992034679), np.float64(0.07092178237378786), np.float64(0.07228246617578991), np.float64(0.07203130455968665), np.float64(0.0747110944279144), np.float64(0.07530448919536918), np.float64(0.07242913224408352), np.float64(0.07732475195200453), np.float64(0.07696252900228434), np.float64(0.0786187570354983), np.float64(0.07826077406140623), np.float64(0.08010768240048169), np.float64(0.08171161734854063), np.float64(0.08322270543503175), np.float64(0.08212245775171556), np.float64(0.08613095420954058), np.float64(0.08773666050911522), np.float64(0.09106414274127285), np.float64(0.09143000345044928), np.float64(0.08059983552312101), np.float64(0.08013657626380725), np.float64(0.08890766701158939), np.float64(0.0919626205078636), np.float64(0.09347447089823512), np.float64(0.09476198905413678), np.float64(0.09540032717971944)]\n"
     ]
    },
    {
     "name": "stderr",
     "output_type": "stream",
     "text": [
      "1it [00:01,  1.28s/it]"
     ]
    },
    {
     "name": "stdout",
     "output_type": "stream",
     "text": [
      "0.14579903210144615\n",
      "0.0009984147052472718\n"
     ]
    },
    {
     "name": "stderr",
     "output_type": "stream",
     "text": [
      "101it [00:43,  1.35it/s]"
     ]
    },
    {
     "name": "stdout",
     "output_type": "stream",
     "text": [
      "0.14556739096465332\n",
      "0.0009983897362095765\n"
     ]
    },
    {
     "name": "stderr",
     "output_type": "stream",
     "text": [
      "201it [01:25,  1.43it/s]"
     ]
    },
    {
     "name": "stdout",
     "output_type": "stream",
     "text": [
      "0.15131274694009755\n",
      "0.0009983645723894246\n"
     ]
    },
    {
     "name": "stderr",
     "output_type": "stream",
     "text": [
      "260it [01:51,  2.34it/s]\n",
      "17it [00:07,  2.28it/s]\n"
     ]
    },
    {
     "name": "stdout",
     "output_type": "stream",
     "text": [
      "[np.float64(0.0019495634878419347), np.float64(0.01380470407546853), np.float64(0.015893670222691596), np.float64(0.014528910736214998), np.float64(0.018681492906742158), np.float64(0.011244841487471515), np.float64(0.014438532519650571), np.float64(0.02070535100118988), np.float64(0.03316688034973055), np.float64(0.04062275081224792), np.float64(0.04269709144052279), np.float64(0.04625822296191043), np.float64(0.0542812655027936), np.float64(0.05802820880288929), np.float64(0.061065284065367494), np.float64(0.06386972984737664), np.float64(0.06397228913070577), np.float64(0.06673359164139381), np.float64(0.06711982668836329), np.float64(0.06797844581190965), np.float64(0.06894028540844516), np.float64(0.04886750517233926), np.float64(0.05361350457159882), np.float64(0.06100226994386958), np.float64(0.06835316992034679), np.float64(0.07092178237378786), np.float64(0.07228246617578991), np.float64(0.07203130455968665), np.float64(0.0747110944279144), np.float64(0.07530448919536918), np.float64(0.07242913224408352), np.float64(0.07732475195200453), np.float64(0.07696252900228434), np.float64(0.0786187570354983), np.float64(0.07826077406140623), np.float64(0.08010768240048169), np.float64(0.08171161734854063), np.float64(0.08322270543503175), np.float64(0.08212245775171556), np.float64(0.08613095420954058), np.float64(0.08773666050911522), np.float64(0.09106414274127285), np.float64(0.09143000345044928), np.float64(0.08059983552312101), np.float64(0.08013657626380725), np.float64(0.08890766701158939), np.float64(0.0919626205078636), np.float64(0.09347447089823512), np.float64(0.09476198905413678), np.float64(0.09540032717971944), np.float64(0.09393448412099863)]\n"
     ]
    },
    {
     "name": "stderr",
     "output_type": "stream",
     "text": [
      "1it [00:01,  1.54s/it]"
     ]
    },
    {
     "name": "stdout",
     "output_type": "stream",
     "text": [
      "0.14436780593690804\n",
      "0.000998349380605885\n"
     ]
    },
    {
     "name": "stderr",
     "output_type": "stream",
     "text": [
      "101it [00:46,  1.14it/s]"
     ]
    },
    {
     "name": "stdout",
     "output_type": "stream",
     "text": [
      "0.13921567251001782\n",
      "0.000998323905154503\n"
     ]
    },
    {
     "name": "stderr",
     "output_type": "stream",
     "text": [
      "201it [01:29,  1.16it/s]"
     ]
    },
    {
     "name": "stdout",
     "output_type": "stream",
     "text": [
      "0.14083071979540604\n",
      "0.000998298234946655\n"
     ]
    },
    {
     "name": "stderr",
     "output_type": "stream",
     "text": [
      "260it [01:56,  2.24it/s]\n",
      "17it [00:07,  2.39it/s]\n"
     ]
    },
    {
     "name": "stdout",
     "output_type": "stream",
     "text": [
      "[np.float64(0.0019495634878419347), np.float64(0.01380470407546853), np.float64(0.015893670222691596), np.float64(0.014528910736214998), np.float64(0.018681492906742158), np.float64(0.011244841487471515), np.float64(0.014438532519650571), np.float64(0.02070535100118988), np.float64(0.03316688034973055), np.float64(0.04062275081224792), np.float64(0.04269709144052279), np.float64(0.04625822296191043), np.float64(0.0542812655027936), np.float64(0.05802820880288929), np.float64(0.061065284065367494), np.float64(0.06386972984737664), np.float64(0.06397228913070577), np.float64(0.06673359164139381), np.float64(0.06711982668836329), np.float64(0.06797844581190965), np.float64(0.06894028540844516), np.float64(0.04886750517233926), np.float64(0.05361350457159882), np.float64(0.06100226994386958), np.float64(0.06835316992034679), np.float64(0.07092178237378786), np.float64(0.07228246617578991), np.float64(0.07203130455968665), np.float64(0.0747110944279144), np.float64(0.07530448919536918), np.float64(0.07242913224408352), np.float64(0.07732475195200453), np.float64(0.07696252900228434), np.float64(0.0786187570354983), np.float64(0.07826077406140623), np.float64(0.08010768240048169), np.float64(0.08171161734854063), np.float64(0.08322270543503175), np.float64(0.08212245775171556), np.float64(0.08613095420954058), np.float64(0.08773666050911522), np.float64(0.09106414274127285), np.float64(0.09143000345044928), np.float64(0.08059983552312101), np.float64(0.08013657626380725), np.float64(0.08890766701158939), np.float64(0.0919626205078636), np.float64(0.09347447089823512), np.float64(0.09476198905413678), np.float64(0.09540032717971944), np.float64(0.09393448412099863), np.float64(0.09472942665723284)]\n"
     ]
    },
    {
     "name": "stderr",
     "output_type": "stream",
     "text": [
      "1it [00:01,  1.67s/it]"
     ]
    },
    {
     "name": "stdout",
     "output_type": "stream",
     "text": [
      "0.15015383671210392\n",
      "0.0009982827393430565\n"
     ]
    },
    {
     "name": "stderr",
     "output_type": "stream",
     "text": [
      "101it [00:46,  1.27it/s]"
     ]
    },
    {
     "name": "stdout",
     "output_type": "stream",
     "text": [
      "0.13494600434576748\n",
      "0.000998256757545977\n"
     ]
    },
    {
     "name": "stderr",
     "output_type": "stream",
     "text": [
      "201it [01:28,  1.42it/s]"
     ]
    },
    {
     "name": "stdout",
     "output_type": "stream",
     "text": [
      "0.14619480859238657\n",
      "0.0009982305810189412\n"
     ]
    },
    {
     "name": "stderr",
     "output_type": "stream",
     "text": [
      "260it [01:53,  2.30it/s]\n",
      "17it [00:07,  2.30it/s]\n"
     ]
    },
    {
     "name": "stdout",
     "output_type": "stream",
     "text": [
      "[np.float64(0.0019495634878419347), np.float64(0.01380470407546853), np.float64(0.015893670222691596), np.float64(0.014528910736214998), np.float64(0.018681492906742158), np.float64(0.011244841487471515), np.float64(0.014438532519650571), np.float64(0.02070535100118988), np.float64(0.03316688034973055), np.float64(0.04062275081224792), np.float64(0.04269709144052279), np.float64(0.04625822296191043), np.float64(0.0542812655027936), np.float64(0.05802820880288929), np.float64(0.061065284065367494), np.float64(0.06386972984737664), np.float64(0.06397228913070577), np.float64(0.06673359164139381), np.float64(0.06711982668836329), np.float64(0.06797844581190965), np.float64(0.06894028540844516), np.float64(0.04886750517233926), np.float64(0.05361350457159882), np.float64(0.06100226994386958), np.float64(0.06835316992034679), np.float64(0.07092178237378786), np.float64(0.07228246617578991), np.float64(0.07203130455968665), np.float64(0.0747110944279144), np.float64(0.07530448919536918), np.float64(0.07242913224408352), np.float64(0.07732475195200453), np.float64(0.07696252900228434), np.float64(0.0786187570354983), np.float64(0.07826077406140623), np.float64(0.08010768240048169), np.float64(0.08171161734854063), np.float64(0.08322270543503175), np.float64(0.08212245775171556), np.float64(0.08613095420954058), np.float64(0.08773666050911522), np.float64(0.09106414274127285), np.float64(0.09143000345044928), np.float64(0.08059983552312101), np.float64(0.08013657626380725), np.float64(0.08890766701158939), np.float64(0.0919626205078636), np.float64(0.09347447089823512), np.float64(0.09476198905413678), np.float64(0.09540032717971944), np.float64(0.09393448412099863), np.float64(0.09472942665723284), np.float64(0.0950260398013784)]\n"
     ]
    },
    {
     "name": "stderr",
     "output_type": "stream",
     "text": [
      "1it [00:01,  1.31s/it]"
     ]
    },
    {
     "name": "stdout",
     "output_type": "stream",
     "text": [
      "0.1490897892531736\n",
      "0.0009982147816366372\n"
     ]
    },
    {
     "name": "stderr",
     "output_type": "stream",
     "text": [
      "16it [00:07,  2.47it/s]"
     ]
    }
   ],
   "source": [
    "patience = 0\n",
    "max_objective = 0\n",
    "losses, corrs, lrs, val_corrs = [], [], [], []\n",
    "for train_loop in range(1000):\n",
    "    current_objective = val_step()\n",
    "    if train_loop > 20:\n",
    "        max_objective = np.max(np.array(val_corrs[:-1])[~np.isnan(val_corrs[:-1])])\n",
    "    if current_objective < max_objective:\n",
    "        patience += 1\n",
    "    else:\n",
    "        patience = 0\n",
    "    if patience >=50:\n",
    "        break\n",
    "    val_corrs.append(current_objective)\n",
    "    print(val_corrs)\n",
    "    for i, (k, b) in tqdm(enumerate(train_dl)):\n",
    "        videos = b[\"screen\"].to(\"cuda\", torch.float32, non_blocking=True).permute(0,2,1,3,4)\n",
    "        responses = b[\"responses\"].to(\"cuda\", torch.float32, non_blocking=True)\n",
    "        out = model(videos, k);\n",
    "        loss = criteria(out.transpose(1,2), responses)\n",
    "        loss.backward()\n",
    "        torch.nn.utils.clip_grad_norm_(model.parameters(), max_norm=1.0, norm_type=2)\n",
    "        opt.step()\n",
    "        opt.zero_grad()\n",
    "        \n",
    "        losses.append(loss.item())\n",
    "        with warmup_scheduler.dampening():\n",
    "            lr_scheduler.step()\n",
    "        \n",
    "        if i % 10 ==0:\n",
    "            r2 = responses.to(torch.float32).cpu().numpy().flatten()\n",
    "            r1 = out.transpose(1,2).detach().cpu().to(torch.float32).numpy().flatten()\n",
    "            corrs.append(np.corrcoef(r1,r2)[0,1].item())\n",
    "            lrs.append(opt.param_groups[0]['lr'])\n",
    "        if i % 100 ==0:\n",
    "            print(np.corrcoef(r1,r2)[0,1].item())\n",
    "            print(opt.param_groups[0]['lr'])\n",
    "    for k, v in train_dl.loaders.items():\n",
    "        v.dataset.shuffle_valid_screen_times()"
   ]
  },
  {
   "cell_type": "code",
   "execution_count": null,
   "id": "cfd02c5d-6610-4b51-853a-d2ca1129dca5",
   "metadata": {},
   "outputs": [],
   "source": []
  },
  {
   "cell_type": "code",
   "execution_count": null,
   "id": "364cfedf-f135-4907-90d6-6fc477891b14",
   "metadata": {},
   "outputs": [],
   "source": []
  }
 ],
 "metadata": {
  "kernelspec": {
   "display_name": "Python 3 (ipykernel)",
   "language": "python",
   "name": "python3"
  },
  "language_info": {
   "codemirror_mode": {
    "name": "ipython",
    "version": 3
   },
   "file_extension": ".py",
   "mimetype": "text/x-python",
   "name": "python",
   "nbconvert_exporter": "python",
   "pygments_lexer": "ipython3",
   "version": "3.10.12"
  }
 },
 "nbformat": 4,
 "nbformat_minor": 5
}
