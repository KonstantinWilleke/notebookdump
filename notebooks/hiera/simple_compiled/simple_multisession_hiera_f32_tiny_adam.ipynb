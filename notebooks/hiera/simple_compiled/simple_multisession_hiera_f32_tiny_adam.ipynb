{
 "cells": [
  {
   "cell_type": "code",
   "execution_count": null,
   "id": "560f398c-f0e3-4c3f-a538-641787004852",
   "metadata": {},
   "outputs": [],
   "source": [
    "plt.plot(val_corrs)"
   ]
  },
  {
   "cell_type": "code",
   "execution_count": null,
   "id": "58bee7a2-8ac3-47c6-9cf3-c0e551890081",
   "metadata": {
    "scrolled": true
   },
   "outputs": [
    {
     "name": "stderr",
     "output_type": "stream",
     "text": [
      "[autoreload of torch.overrides failed: Traceback (most recent call last):\n",
      "  File \"/usr/local/lib/python3.10/dist-packages/IPython/extensions/autoreload.py\", line 276, in check\n",
      "    superreload(m, reload, self.old_objects)\n",
      "  File \"/usr/local/lib/python3.10/dist-packages/IPython/extensions/autoreload.py\", line 475, in superreload\n",
      "    module = reload(module)\n",
      "  File \"/usr/lib/python3.10/importlib/__init__.py\", line 169, in reload\n",
      "    _bootstrap._exec(spec, module)\n",
      "  File \"<frozen importlib._bootstrap>\", line 619, in _exec\n",
      "  File \"<frozen importlib._bootstrap_external>\", line 883, in exec_module\n",
      "  File \"<frozen importlib._bootstrap>\", line 241, in _call_with_frames_removed\n",
      "  File \"/usr/local/lib/python3.10/dist-packages/torch/overrides.py\", line 1754, in <module>\n",
      "    has_torch_function = _add_docstr(\n",
      "RuntimeError: function '_has_torch_function' already has a docstring\n",
      "]\n",
      "[autoreload of torch._tensor failed: Traceback (most recent call last):\n",
      "  File \"/usr/local/lib/python3.10/dist-packages/IPython/extensions/autoreload.py\", line 276, in check\n",
      "    superreload(m, reload, self.old_objects)\n",
      "  File \"/usr/local/lib/python3.10/dist-packages/IPython/extensions/autoreload.py\", line 475, in superreload\n",
      "    module = reload(module)\n",
      "  File \"/usr/lib/python3.10/importlib/__init__.py\", line 169, in reload\n",
      "    _bootstrap._exec(spec, module)\n",
      "  File \"<frozen importlib._bootstrap>\", line 619, in _exec\n",
      "  File \"<frozen importlib._bootstrap_external>\", line 883, in exec_module\n",
      "  File \"<frozen importlib._bootstrap>\", line 241, in _call_with_frames_removed\n",
      "  File \"/usr/local/lib/python3.10/dist-packages/torch/_tensor.py\", line 80, in <module>\n",
      "    class Tensor(torch._C.TensorBase):\n",
      "  File \"/usr/local/lib/python3.10/dist-packages/torch/_tensor.py\", line 725, in Tensor\n",
      "    detach = _C._add_docstr(\n",
      "RuntimeError: method 'detach' already has a docstring\n",
      "]\n",
      "[autoreload of torch.storage failed: Traceback (most recent call last):\n",
      "  File \"/usr/local/lib/python3.10/dist-packages/IPython/extensions/autoreload.py\", line 276, in check\n",
      "    superreload(m, reload, self.old_objects)\n",
      "  File \"/usr/local/lib/python3.10/dist-packages/IPython/extensions/autoreload.py\", line 500, in superreload\n",
      "    update_generic(old_obj, new_obj)\n",
      "  File \"/usr/local/lib/python3.10/dist-packages/IPython/extensions/autoreload.py\", line 397, in update_generic\n",
      "    update(a, b)\n",
      "  File \"/usr/local/lib/python3.10/dist-packages/IPython/extensions/autoreload.py\", line 365, in update_class\n",
      "    update_instances(old, new)\n",
      "  File \"/usr/local/lib/python3.10/dist-packages/IPython/extensions/autoreload.py\", line 323, in update_instances\n",
      "    object.__setattr__(ref, \"__class__\", new)\n",
      "TypeError: can't apply this __setattr__ to _LegacyStorageMeta object\n",
      "]\n",
      "[autoreload of torch.serialization failed: Traceback (most recent call last):\n",
      "  File \"/usr/local/lib/python3.10/dist-packages/IPython/extensions/autoreload.py\", line 276, in check\n",
      "    superreload(m, reload, self.old_objects)\n",
      "  File \"/usr/local/lib/python3.10/dist-packages/IPython/extensions/autoreload.py\", line 500, in superreload\n",
      "    update_generic(old_obj, new_obj)\n",
      "  File \"/usr/local/lib/python3.10/dist-packages/IPython/extensions/autoreload.py\", line 397, in update_generic\n",
      "    update(a, b)\n",
      "  File \"/usr/local/lib/python3.10/dist-packages/IPython/extensions/autoreload.py\", line 365, in update_class\n",
      "    update_instances(old, new)\n",
      "  File \"/usr/local/lib/python3.10/dist-packages/IPython/extensions/autoreload.py\", line 323, in update_instances\n",
      "    object.__setattr__(ref, \"__class__\", new)\n",
      "TypeError: can't apply this __setattr__ to _SerializationLocal object\n",
      "]\n",
      "[autoreload of torch.cuda.amp.autocast_mode failed: Traceback (most recent call last):\n",
      "  File \"/usr/local/lib/python3.10/dist-packages/IPython/extensions/autoreload.py\", line 276, in check\n",
      "    superreload(m, reload, self.old_objects)\n",
      "  File \"/usr/local/lib/python3.10/dist-packages/IPython/extensions/autoreload.py\", line 475, in superreload\n",
      "    module = reload(module)\n",
      "  File \"/usr/lib/python3.10/importlib/__init__.py\", line 169, in reload\n",
      "    _bootstrap._exec(spec, module)\n",
      "  File \"<frozen importlib._bootstrap>\", line 619, in _exec\n",
      "  File \"<frozen importlib._bootstrap_external>\", line 883, in exec_module\n",
      "  File \"<frozen importlib._bootstrap>\", line 241, in _call_with_frames_removed\n",
      "  File \"/usr/local/lib/python3.10/dist-packages/torch/cuda/amp/autocast_mode.py\", line 12, in <module>\n",
      "    class autocast(torch.amp.autocast_mode.autocast):\n",
      "AttributeError: module 'torch.amp' has no attribute 'autocast_mode'\n",
      "]\n",
      "[autoreload of torch.cuda.amp.grad_scaler failed: Traceback (most recent call last):\n",
      "  File \"/usr/local/lib/python3.10/dist-packages/IPython/extensions/autoreload.py\", line 276, in check\n",
      "    superreload(m, reload, self.old_objects)\n",
      "  File \"/usr/local/lib/python3.10/dist-packages/IPython/extensions/autoreload.py\", line 500, in superreload\n",
      "    update_generic(old_obj, new_obj)\n",
      "  File \"/usr/local/lib/python3.10/dist-packages/IPython/extensions/autoreload.py\", line 397, in update_generic\n",
      "    update(a, b)\n",
      "  File \"/usr/local/lib/python3.10/dist-packages/IPython/extensions/autoreload.py\", line 365, in update_class\n",
      "    update_instances(old, new)\n",
      "  File \"/usr/local/lib/python3.10/dist-packages/IPython/extensions/autoreload.py\", line 319, in update_instances\n",
      "    refs = gc.get_referrers(old)\n",
      "KeyboardInterrupt\n",
      "]\n",
      "[autoreload of torch.cuda.jiterator failed: Traceback (most recent call last):\n",
      "  File \"/usr/local/lib/python3.10/dist-packages/IPython/extensions/autoreload.py\", line 276, in check\n",
      "    superreload(m, reload, self.old_objects)\n",
      "  File \"/usr/local/lib/python3.10/dist-packages/IPython/extensions/autoreload.py\", line 500, in superreload\n",
      "    update_generic(old_obj, new_obj)\n",
      "  File \"/usr/local/lib/python3.10/dist-packages/IPython/extensions/autoreload.py\", line 397, in update_generic\n",
      "    update(a, b)\n",
      "  File \"/usr/local/lib/python3.10/dist-packages/IPython/extensions/autoreload.py\", line 365, in update_class\n",
      "    update_instances(old, new)\n",
      "  File \"/usr/local/lib/python3.10/dist-packages/IPython/extensions/autoreload.py\", line 319, in update_instances\n",
      "    refs = gc.get_referrers(old)\n",
      "KeyboardInterrupt\n",
      "]\n",
      "[autoreload of torch.cuda failed: Traceback (most recent call last):\n",
      "  File \"/usr/local/lib/python3.10/dist-packages/IPython/extensions/autoreload.py\", line 276, in check\n",
      "    superreload(m, reload, self.old_objects)\n",
      "  File \"/usr/local/lib/python3.10/dist-packages/IPython/extensions/autoreload.py\", line 500, in superreload\n",
      "    update_generic(old_obj, new_obj)\n",
      "  File \"/usr/local/lib/python3.10/dist-packages/IPython/extensions/autoreload.py\", line 397, in update_generic\n",
      "    update(a, b)\n",
      "  File \"/usr/local/lib/python3.10/dist-packages/IPython/extensions/autoreload.py\", line 365, in update_class\n",
      "    update_instances(old, new)\n",
      "  File \"/usr/local/lib/python3.10/dist-packages/IPython/extensions/autoreload.py\", line 319, in update_instances\n",
      "    refs = gc.get_referrers(old)\n",
      "KeyboardInterrupt\n",
      "]\n",
      "[autoreload of torch.sparse.semi_structured failed: Traceback (most recent call last):\n",
      "  File \"/usr/local/lib/python3.10/dist-packages/IPython/extensions/autoreload.py\", line 276, in check\n",
      "    superreload(m, reload, self.old_objects)\n",
      "  File \"/usr/local/lib/python3.10/dist-packages/IPython/extensions/autoreload.py\", line 500, in superreload\n",
      "    update_generic(old_obj, new_obj)\n",
      "  File \"/usr/local/lib/python3.10/dist-packages/IPython/extensions/autoreload.py\", line 397, in update_generic\n",
      "    update(a, b)\n",
      "  File \"/usr/local/lib/python3.10/dist-packages/IPython/extensions/autoreload.py\", line 365, in update_class\n",
      "    update_instances(old, new)\n",
      "  File \"/usr/local/lib/python3.10/dist-packages/IPython/extensions/autoreload.py\", line 319, in update_instances\n",
      "    refs = gc.get_referrers(old)\n",
      "KeyboardInterrupt\n",
      "]\n",
      "[autoreload of torch.sparse failed: Traceback (most recent call last):\n",
      "  File \"/usr/local/lib/python3.10/dist-packages/IPython/extensions/autoreload.py\", line 276, in check\n",
      "    superreload(m, reload, self.old_objects)\n",
      "  File \"/usr/local/lib/python3.10/dist-packages/IPython/extensions/autoreload.py\", line 475, in superreload\n",
      "    module = reload(module)\n",
      "  File \"/usr/lib/python3.10/importlib/__init__.py\", line 169, in reload\n",
      "    _bootstrap._exec(spec, module)\n",
      "  File \"<frozen importlib._bootstrap>\", line 619, in _exec\n",
      "  File \"<frozen importlib._bootstrap_external>\", line 883, in exec_module\n",
      "  File \"<frozen importlib._bootstrap>\", line 241, in _call_with_frames_removed\n",
      "  File \"/usr/local/lib/python3.10/dist-packages/torch/sparse/__init__.py\", line 44, in <module>\n",
      "    addmm = _add_docstr(\n",
      "RuntimeError: function '_sparse_addmm' already has a docstring\n",
      "]\n",
      "[autoreload of torch.nn.parameter failed: Traceback (most recent call last):\n",
      "  File \"/usr/local/lib/python3.10/dist-packages/IPython/extensions/autoreload.py\", line 276, in check\n",
      "    superreload(m, reload, self.old_objects)\n",
      "  File \"/usr/local/lib/python3.10/dist-packages/IPython/extensions/autoreload.py\", line 500, in superreload\n",
      "    update_generic(old_obj, new_obj)\n",
      "  File \"/usr/local/lib/python3.10/dist-packages/IPython/extensions/autoreload.py\", line 397, in update_generic\n",
      "    update(a, b)\n",
      "  File \"/usr/local/lib/python3.10/dist-packages/IPython/extensions/autoreload.py\", line 365, in update_class\n",
      "    update_instances(old, new)\n",
      "  File \"/usr/local/lib/python3.10/dist-packages/IPython/extensions/autoreload.py\", line 323, in update_instances\n",
      "    object.__setattr__(ref, \"__class__\", new)\n",
      "TypeError: can't apply this __setattr__ to _ParameterMeta object\n",
      "]\n",
      "[autoreload of torch._prims_common failed: Traceback (most recent call last):\n",
      "  File \"/usr/local/lib/python3.10/dist-packages/IPython/extensions/autoreload.py\", line 276, in check\n",
      "    superreload(m, reload, self.old_objects)\n",
      "  File \"/usr/local/lib/python3.10/dist-packages/IPython/extensions/autoreload.py\", line 500, in superreload\n",
      "    update_generic(old_obj, new_obj)\n",
      "  File \"/usr/local/lib/python3.10/dist-packages/IPython/extensions/autoreload.py\", line 397, in update_generic\n",
      "    update(a, b)\n",
      "  File \"/usr/local/lib/python3.10/dist-packages/IPython/extensions/autoreload.py\", line 365, in update_class\n",
      "    update_instances(old, new)\n",
      "  File \"/usr/local/lib/python3.10/dist-packages/IPython/extensions/autoreload.py\", line 319, in update_instances\n",
      "    refs = gc.get_referrers(old)\n",
      "KeyboardInterrupt\n",
      "]\n",
      "[autoreload of torch.utils.backcompat failed: Traceback (most recent call last):\n",
      "  File \"/usr/local/lib/python3.10/dist-packages/IPython/extensions/autoreload.py\", line 276, in check\n",
      "    superreload(m, reload, self.old_objects)\n",
      "  File \"/usr/local/lib/python3.10/dist-packages/IPython/extensions/autoreload.py\", line 500, in superreload\n",
      "    update_generic(old_obj, new_obj)\n",
      "  File \"/usr/local/lib/python3.10/dist-packages/IPython/extensions/autoreload.py\", line 397, in update_generic\n",
      "    update(a, b)\n",
      "  File \"/usr/local/lib/python3.10/dist-packages/IPython/extensions/autoreload.py\", line 365, in update_class\n",
      "    update_instances(old, new)\n",
      "  File \"/usr/local/lib/python3.10/dist-packages/IPython/extensions/autoreload.py\", line 319, in update_instances\n",
      "    refs = gc.get_referrers(old)\n",
      "KeyboardInterrupt\n",
      "]\n",
      "[autoreload of torch.utils.collect_env failed: Traceback (most recent call last):\n",
      "  File \"/usr/local/lib/python3.10/dist-packages/IPython/extensions/autoreload.py\", line 276, in check\n",
      "    superreload(m, reload, self.old_objects)\n",
      "  File \"/usr/local/lib/python3.10/dist-packages/IPython/extensions/autoreload.py\", line 500, in superreload\n",
      "    update_generic(old_obj, new_obj)\n",
      "  File \"/usr/local/lib/python3.10/dist-packages/IPython/extensions/autoreload.py\", line 397, in update_generic\n",
      "    update(a, b)\n",
      "  File \"/usr/local/lib/python3.10/dist-packages/IPython/extensions/autoreload.py\", line 365, in update_class\n",
      "    update_instances(old, new)\n",
      "  File \"/usr/local/lib/python3.10/dist-packages/IPython/extensions/autoreload.py\", line 319, in update_instances\n",
      "    refs = gc.get_referrers(old)\n",
      "KeyboardInterrupt\n",
      "]\n",
      "/usr/local/lib/python3.10/dist-packages/IPython/extensions/autoreload.py:423: FutureWarning: `torch.distributed.reduce_op` is deprecated, please use `torch.distributed.ReduceOp` instead\n",
      "  in_module = hasattr(obj, \"__module__\") and obj.__module__ == module.__name__\n",
      "[autoreload of torch.distributed.distributed_c10d failed: Traceback (most recent call last):\n",
      "  File \"/usr/local/lib/python3.10/dist-packages/IPython/extensions/autoreload.py\", line 276, in check\n",
      "    superreload(m, reload, self.old_objects)\n",
      "  File \"/usr/local/lib/python3.10/dist-packages/IPython/extensions/autoreload.py\", line 500, in superreload\n",
      "    update_generic(old_obj, new_obj)\n",
      "  File \"/usr/local/lib/python3.10/dist-packages/IPython/extensions/autoreload.py\", line 397, in update_generic\n",
      "    update(a, b)\n",
      "  File \"/usr/local/lib/python3.10/dist-packages/IPython/extensions/autoreload.py\", line 365, in update_class\n",
      "    update_instances(old, new)\n",
      "  File \"/usr/local/lib/python3.10/dist-packages/IPython/extensions/autoreload.py\", line 319, in update_instances\n",
      "    refs = gc.get_referrers(old)\n",
      "KeyboardInterrupt\n",
      "]\n",
      "[autoreload of torch.distributed.device_mesh failed: Traceback (most recent call last):\n",
      "  File \"/usr/local/lib/python3.10/dist-packages/IPython/extensions/autoreload.py\", line 276, in check\n",
      "    superreload(m, reload, self.old_objects)\n",
      "  File \"/usr/local/lib/python3.10/dist-packages/IPython/extensions/autoreload.py\", line 500, in superreload\n",
      "    update_generic(old_obj, new_obj)\n",
      "  File \"/usr/local/lib/python3.10/dist-packages/IPython/extensions/autoreload.py\", line 397, in update_generic\n",
      "    update(a, b)\n",
      "  File \"/usr/local/lib/python3.10/dist-packages/IPython/extensions/autoreload.py\", line 365, in update_class\n",
      "    update_instances(old, new)\n",
      "  File \"/usr/local/lib/python3.10/dist-packages/IPython/extensions/autoreload.py\", line 323, in update_instances\n",
      "    object.__setattr__(ref, \"__class__\", new)\n",
      "TypeError: can't apply this __setattr__ to _MeshEnv object\n",
      "]\n"
     ]
    }
   ],
   "source": [
    "plt.plot(val_corrs)"
   ]
  },
  {
   "cell_type": "code",
   "execution_count": null,
   "id": "e91b7b8c-32af-4cd5-b5c1-cc3e0815cbf0",
   "metadata": {},
   "outputs": [],
   "source": []
  },
  {
   "cell_type": "code",
   "execution_count": 1,
   "id": "637b327b-4b4d-4ed9-9918-818e5825c2c9",
   "metadata": {},
   "outputs": [],
   "source": [
    "import os\n",
    "os.environ['CUDA_VISIBLE_DEVICES'] = '6'\n",
    "%matplotlib inline\n",
    "%load_ext autoreload\n",
    "%autoreload 2\n",
    "\n",
    "import numpy as np\n",
    "import matplotlib.pyplot as plt\n",
    "from os import path\n",
    "\n",
    "from torch import nn\n",
    "from torch.nn import functional as F\n",
    "from torch.nn.functional import scaled_dot_product_attention\n",
    "from torch.nn.attention import SDPBackend, sdpa_kernel\n",
    "from tqdm import tqdm\n",
    "from einops import rearrange\n",
    "from torch.optim import AdamW, Adam\n",
    "\n",
    "import torch\n",
    "from torch.utils.data import DataLoader\n",
    "from tqdm import tqdm\n",
    "from omegaconf import OmegaConf, open_dict\n",
    "from experanto.datasets import ChunkDataset, SimpleChunkedDataset\n",
    "from experanto.utils import LongCycler, MultiEpochsDataLoader"
   ]
  },
  {
   "cell_type": "code",
   "execution_count": 2,
   "id": "00ecf779-64e2-4c53-930c-4bc96109fa37",
   "metadata": {},
   "outputs": [],
   "source": [
    "# additional packages\n",
    "# pip install hiera-transformer\n",
    "# pip install -U pytorch_warmup"
   ]
  },
  {
   "cell_type": "markdown",
   "id": "6d4f5a3f-8720-4222-a63c-b3605b61c5e7",
   "metadata": {},
   "source": [
    "# Hyperparameters"
   ]
  },
  {
   "cell_type": "code",
   "execution_count": 2,
   "id": "4d8aa514-908e-4e00-af7a-06830084b132",
   "metadata": {},
   "outputs": [],
   "source": [
    "video_size = [72, 128]\n",
    "chunk_size = 8\n",
    "dim_head = 64\n",
    "num_heads = 2"
   ]
  },
  {
   "cell_type": "markdown",
   "id": "72a43689-cdb6-4443-a57d-0a227fb65d45",
   "metadata": {},
   "source": [
    "### get dataloaders"
   ]
  },
  {
   "cell_type": "code",
   "execution_count": 3,
   "id": "72edb2a0-b392-40be-9e1a-054aacb4593d",
   "metadata": {},
   "outputs": [],
   "source": [
    "from experanto.dataloaders import get_multisession_dataloader\n",
    "\n",
    "from experanto.configs import DEFAULT_CONFIG as cfg\n",
    "paths = ['dynamic29513-3-5-Video-full',\n",
    "         'dynamic29514-2-9-Video-full',\n",
    "         'dynamic29755-2-8-Video-full',\n",
    "         'dynamic29647-19-8-Video-full',\n",
    "         'dynamic29156-11-10-Video-full',\n",
    "         'dynamic29623-4-9-Video-full',\n",
    "         'dynamic29515-10-12-Video-full',\n",
    "         'dynamic29234-6-9-Video-full',\n",
    "         'dynamic29712-5-9-Video-full',\n",
    "         'dynamic29228-2-10-Video-full'\n",
    "        ]\n",
    "full_paths = [path.join(\"/data/mouse_polly/\", f) for f in paths]"
   ]
  },
  {
   "cell_type": "code",
   "execution_count": 4,
   "id": "40f1c64c-31a4-4391-85ef-6f35d7085c3f",
   "metadata": {},
   "outputs": [
    {
     "name": "stderr",
     "output_type": "stream",
     "text": [
      "/usr/local/lib/python3.10/dist-packages/torchvision/transforms/v2/_deprecated.py:42: UserWarning: The transform `ToTensor()` is deprecated and will be removed in a future release. Instead, please use `v2.Compose([v2.ToImage(), v2.ToDtype(torch.float32, scale=True)])`.Output is equivalent up to float precision.\n",
      "  warnings.warn(\n"
     ]
    }
   ],
   "source": [
    "cfg.dataset.global_chunk_size = 8\n",
    "cfg.dataset.global_sampling_rate = 8\n",
    "cfg.dataset.modality_config.screen.sample_stride = 8\n",
    "cfg.dataset.modality_config.screen.include_blanks=True\n",
    "cfg.dataset.modality_config.screen.valid_condition = {\"tier\": \"train\"}\n",
    "cfg.dataset.modality_config.screen.transforms.Resize.size = video_size\n",
    "\n",
    "cfg.dataloader.num_workers=4\n",
    "cfg.dataloader.prefetch_factor=1\n",
    "cfg.dataloader.batch_size=128\n",
    "cfg.dataloader.pin_memory=True\n",
    "cfg.dataloader.shuffle=True\n",
    "\n",
    "train_dl = get_multisession_dataloader(full_paths, cfg)"
   ]
  },
  {
   "cell_type": "markdown",
   "id": "9d14b18d-346d-48c4-b12e-e7b8e0f28820",
   "metadata": {},
   "source": [
    "### get Hiera backbone"
   ]
  },
  {
   "cell_type": "code",
   "execution_count": 5,
   "id": "ecc0b8f9-b374-479f-b166-801bf9d22851",
   "metadata": {},
   "outputs": [
    {
     "name": "stderr",
     "output_type": "stream",
     "text": [
      "/usr/local/lib/python3.10/dist-packages/tqdm/auto.py:21: TqdmWarning: IProgress not found. Please update jupyter and ipywidgets. See https://ipywidgets.readthedocs.io/en/stable/user_install.html\n",
      "  from .autonotebook import tqdm as notebook_tqdm\n"
     ]
    },
    {
     "data": {
      "text/plain": [
       "torch.Size([8, 4, 9, 16, 192])"
      ]
     },
     "execution_count": 5,
     "metadata": {},
     "output_type": "execute_result"
    }
   ],
   "source": [
    "# pip install hiera-transformer\n",
    "from hiera import Hiera\n",
    "tiny_hiera = Hiera(input_size=(chunk_size, video_size[0], video_size[1]),\n",
    "                     num_heads=1,\n",
    "                     embed_dim=96,\n",
    "                     stages=(2, 2), # 4 transformer layers \n",
    "                     q_pool=1, \n",
    "                     in_chans=1,\n",
    "                     q_stride=(1, 2, 2),\n",
    "                     mask_unit_size=(1, 8, 8),\n",
    "                     patch_kernel=(3, 8, 8),\n",
    "                     patch_stride=(2, 4, 4),\n",
    "                     patch_padding=(1, 3, 3),\n",
    "                     sep_pos_embed=True,)\n",
    "\n",
    "tiny_hiera = tiny_hiera.cuda().to(torch.float32);\n",
    "example_input = torch.ones(8,1,8,72,128).to(\"cuda\", torch.float32)\n",
    "out = tiny_hiera(example_input, return_intermediates=True);\n",
    "hiera_output = out[-1][-1]\n",
    "hiera_output.shape # (b, t, h, w, c): (8, 4, 9, 16, 192)\n"
   ]
  },
  {
   "cell_type": "markdown",
   "id": "700e892e-0e01-4fda-bec9-13179f415692",
   "metadata": {},
   "source": [
    "# Model definition"
   ]
  },
  {
   "cell_type": "code",
   "execution_count": 6,
   "id": "fbce1ed2-9c69-43e0-91c9-a35fc2e4b6c2",
   "metadata": {},
   "outputs": [],
   "source": [
    "class MouseHieraSmall(nn.Module):\n",
    "    def __init__(self,\n",
    "                 backbone,\n",
    "                 dls,\n",
    "                 chunk_size,\n",
    "                 dim=192,\n",
    "                 dim_head=32,\n",
    "                 num_heads=4):\n",
    "        super().__init__()\n",
    "        self.backbone=backbone\n",
    "        self.num_heads=num_heads\n",
    "        self.dim_head=dim_head\n",
    "        self.wk = nn.Linear(dim, dim_head * num_heads, bias=False)\n",
    "        self.wv = nn.Linear(dim, dim_head * num_heads, bias=False)\n",
    "        self.neuron_proj = nn.Linear(dim_head * num_heads, chunk_size, bias=False)\n",
    "        self.readout = nn.ModuleDict()\n",
    "        self.activation = nn.Softplus(beta=0.5) # probably a much better activation than ELU+1\n",
    "        for k, v in dls.loaders.items():\n",
    "            n_neurons = next(iter(v))[\"responses\"].shape[-1]\n",
    "            self.readout[k] = IndexedLinearReadout(n_neurons, \n",
    "                                                   in_features=dim_head*num_heads,\n",
    "                                                   dim_head=dim_head, \n",
    "                                                   num_heads=num_heads, \n",
    "                                                  )\n",
    "            \n",
    "    def forward(self, x, key):\n",
    "        x = self.backbone(x, return_intermediates=True)[1][-1]\n",
    "        b, t, h, w, d = x.shape\n",
    "        x = x.view(b, -1, d) # (B, t*h*w, D)\n",
    "        k, v = self.wk(x), self.wv(x)\n",
    "        q = self.readout[key].query\n",
    "        n = q.shape[2] # number of neurons\n",
    "        q = q.repeat(b, 1, 1, 1) # repeat query for number of batches\n",
    "        k = k.view(b, -1, self.num_heads, self.dim_head).transpose(1, 2) # (B, H, S, D)\n",
    "        v = v.view(b, -1, self.num_heads, self.dim_head).transpose(1, 2) # (B, H, S, D)\n",
    "        o = F.scaled_dot_product_attention(q, k, v)\n",
    "            \n",
    "        # (B, H, S, D) -> (B, N, D), with N = num_neurons\n",
    "        o = o.transpose(1,2).contiguous().view(b, -1, self.num_heads * self.dim_head)\n",
    "        o = self.neuron_proj(o) # (B, N, D) -> (B, N, t)\n",
    "        o = o + self.readout[key].bias\n",
    "        o = self.activation(o)\n",
    "        return o"
   ]
  },
  {
   "cell_type": "markdown",
   "id": "528566e8-29c1-46a1-b4b3-2fea3b64da88",
   "metadata": {},
   "source": [
    "# Readout "
   ]
  },
  {
   "cell_type": "code",
   "execution_count": 7,
   "id": "f07a6270-174c-42d7-8f19-2591ca4ddb1b",
   "metadata": {},
   "outputs": [],
   "source": [
    "class IndexedLinearReadout(nn.Module):\n",
    "    \"\"\"\n",
    "    Readout module for MTM models with selectable weights based on \n",
    "    input IDs. Based on :class:`torch.nn.Linear`.\n",
    "    \"\"\"\n",
    "    def __init__(\n",
    "        self,\n",
    "        unique_ids: int,\n",
    "        in_features: int = 384,\n",
    "        dim_head=32,\n",
    "        num_heads=4,\n",
    "        bias: bool = True,\n",
    "        device=\"cuda\",\n",
    "        dtype=torch.float32,\n",
    "        init_std: float = 0.02,\n",
    "    ):\n",
    "        super().__init__()\n",
    "        factory_kwargs = {\"device\": device, \"dtype\": dtype}\n",
    "        self.unique_ids = unique_ids\n",
    "        self.in_features = in_features\n",
    "        self.init_std = init_std\n",
    "        self.query = nn.Parameter(\n",
    "            torch.empty(1, num_heads, unique_ids, dim_head, **factory_kwargs)\n",
    "        )\n",
    "        if bias:\n",
    "            self.bias = nn.Parameter(\n",
    "                torch.empty(1, unique_ids, 1, **factory_kwargs)\n",
    "            )\n",
    "        else:\n",
    "            self.register_parameter('bias', None)\n",
    "        self.init_weights()\n",
    "\n",
    "    def init_weights(self, cutoff_factor: int = 3):\n",
    "        \"\"\"See `TorchTitan <https://github.com/pytorch/torchtitan/blob/40a10263c5b3468ffa53b3ac98d80c9267d68155/torchtitan/models/llama/model.py#L403>`__.\"\"\"\n",
    "        readout_std = self.in_features**-0.5\n",
    "        nn.init.trunc_normal_(\n",
    "            self.query,\n",
    "            mean=0.0,\n",
    "            std=readout_std,\n",
    "            a=-cutoff_factor * readout_std,\n",
    "            b=cutoff_factor * readout_std,\n",
    "        )\n",
    "        if self.bias is not None:\n",
    "            self.bias.data.zero_()"
   ]
  },
  {
   "cell_type": "markdown",
   "id": "0dddde36-dfd5-44b3-8961-b67d970422a5",
   "metadata": {},
   "source": [
    "### Build Model"
   ]
  },
  {
   "cell_type": "code",
   "execution_count": 8,
   "id": "512db87e-b274-4208-9579-0c36d322d213",
   "metadata": {},
   "outputs": [],
   "source": [
    "backbone_dim = hiera_output[-1][-1].shape[-1]\n",
    "model = MouseHieraSmall(backbone=tiny_hiera, \n",
    "                        dls=train_dl, \n",
    "                        chunk_size=chunk_size,\n",
    "                        dim=backbone_dim, \n",
    "                        dim_head=dim_head,\n",
    "                        num_heads=num_heads)"
   ]
  },
  {
   "cell_type": "markdown",
   "id": "2a9c370d-db23-4fa6-8cb6-a34f3d72ae6a",
   "metadata": {},
   "source": [
    "### performance boosts"
   ]
  },
  {
   "cell_type": "code",
   "execution_count": 9,
   "id": "f7bb7bef-0c85-4b4a-b072-dba2e947617c",
   "metadata": {},
   "outputs": [],
   "source": [
    "torch.backends.cuda.matmul.allow_tf32 = True\n",
    "torch.set_float32_matmul_precision('high')\n",
    "\n",
    "torch._dynamo.config.cache_size_limit = 32\n",
    "model = torch.compile(model).cuda().to(torch.float32)"
   ]
  },
  {
   "cell_type": "markdown",
   "id": "53db1feb-d92b-426b-925e-5ae114465d83",
   "metadata": {},
   "source": [
    "# Trainer"
   ]
  },
  {
   "cell_type": "code",
   "execution_count": 10,
   "id": "ce03e89e-23d5-4cbe-b96e-8ecb2cee2d1d",
   "metadata": {},
   "outputs": [],
   "source": [
    "# pip install -U pytorch_warmup\n",
    "import pytorch_warmup as warmup\n",
    "\n",
    "n_epochs = 5\n",
    "lr = 1.0e-3\n",
    "\n",
    "criteria = nn.PoissonNLLLoss(log_input=False, reduction='mean')\n",
    "opt = AdamW(model.parameters(), lr=lr, weight_decay=0.1,)\n",
    "warmup_scheduler = warmup.UntunedLinearWarmup(opt)\n",
    "lr_scheduler = torch.optim.lr_scheduler.CosineAnnealingLR(opt,\n",
    "                                                          T_max=5e5, \n",
    "                                                          eta_min=1e-5)"
   ]
  },
  {
   "cell_type": "markdown",
   "id": "1a91982d-a5f5-4a86-86c8-c04280570032",
   "metadata": {},
   "source": [
    "# train - simple"
   ]
  },
  {
   "cell_type": "code",
   "execution_count": null,
   "id": "2fa59f4a-4b2c-40ec-a83b-ece17dddaee8",
   "metadata": {},
   "outputs": [],
   "source": [
    "# the first 10 batches are slow because torch is compiling the model for each new input shape\n",
    "\n",
    "for _ in range(n_epochs):\n",
    "    for i, (key, batch) in tqdm(enumerate(train_dl)):\n",
    "        videos = batch[\"screen\"].to(\"cuda\", torch.float32, non_blocking=True).permute(0,2,1,3,4)\n",
    "        responses = batch[\"responses\"].to(\"cuda\", torch.float32, non_blocking=True)\n",
    "        out = model(videos, key);\n",
    "        loss = criteria(out.transpose(1,2), responses)\n",
    "        loss.backward()\n",
    "        torch.nn.utils.clip_grad_norm_(model.parameters(), max_norm=1.0, norm_type=2)\n",
    "        opt.step()\n",
    "        opt.zero_grad()\n",
    "        with warmup_scheduler.dampening():\n",
    "            lr_scheduler.step()\n",
    "            \n",
    "    # after each epoch, the times can be shuffled so there are new random starting points for all chunks\n",
    "    for dataloader in train_dl.loaders.values():\n",
    "        dataloader.dataset.shuffle_valid_screen_times()"
   ]
  },
  {
   "cell_type": "markdown",
   "id": "25ae39a6-7b18-4450-a528-f060d0bbc87d",
   "metadata": {},
   "source": [
    "# train messy"
   ]
  },
  {
   "cell_type": "code",
   "execution_count": 11,
   "id": "80f31bcf-dab8-45d1-82d3-fc16c723da83",
   "metadata": {},
   "outputs": [
    {
     "name": "stderr",
     "output_type": "stream",
     "text": [
      "/usr/local/lib/python3.10/dist-packages/torchvision/transforms/v2/_deprecated.py:42: UserWarning: The transform `ToTensor()` is deprecated and will be removed in a future release. Instead, please use `v2.Compose([v2.ToImage(), v2.ToDtype(torch.float32, scale=True)])`.Output is equivalent up to float precision.\n",
      "  warnings.warn(\n"
     ]
    }
   ],
   "source": [
    "from experanto.configs import DEFAULT_CONFIG as cfg\n",
    "cfg.dataset.global_chunk_size = 8\n",
    "cfg.dataset.global_sampling_rate = 8\n",
    "cfg.dataset.modality_config.screen.include_blanks=False\n",
    "cfg.dataset.modality_config.screen.sample_stride=8\n",
    "cfg.dataset.modality_config.screen.valid_condition = {\"tier\": \"oracle\"}\n",
    "cfg.dataset.modality_config.screen.transforms.Resize.size = video_size\n",
    "\n",
    "\n",
    "cfg.dataloader.num_workers=4\n",
    "cfg.dataloader.prefetch_factor=1\n",
    "cfg.dataloader.batch_size=32\n",
    "cfg.dataloader.pin_memory=True\n",
    "# the multiple dataloader is an iterator that returns a tuple of (key, batch)\n",
    "val_dl = get_multisession_dataloader(full_paths[3:4], cfg)"
   ]
  },
  {
   "cell_type": "code",
   "execution_count": 12,
   "id": "7410a49b-aa7f-4251-8e7f-1d68b88e1183",
   "metadata": {},
   "outputs": [],
   "source": [
    "def val_step():\n",
    "    targets, predictions = [],[]\n",
    "    with torch.no_grad():\n",
    "        for i, (k, b) in tqdm(enumerate(val_dl)):\n",
    "            videos = b[\"screen\"].to(\"cuda\", torch.float32, non_blocking=True).permute(0,2,1,3,4)\n",
    "            responses = b[\"responses\"].to(\"cuda\", torch.float32, non_blocking=True)\n",
    "            out = model(videos, k);\n",
    "            predictions.append(out.transpose(1,2).to(torch.float32).cpu().numpy())\n",
    "            targets.append(responses.to(torch.float32).cpu().numpy())\n",
    "    r1 = np.vstack(np.vstack(predictions))\n",
    "    r2 = np.vstack(np.vstack(targets))\n",
    "    cs = []\n",
    "    for n in range(7000):\n",
    "        c =  np.corrcoef(r1[...,n].flatten(), r2[...,n].flatten(), )[0,1]\n",
    "        cs.append(c)\n",
    "    val_corrs = np.stack(cs).mean()\n",
    "    return val_corrs"
   ]
  },
  {
   "cell_type": "code",
   "execution_count": null,
   "id": "ef82f1ad-b724-49d6-99c8-7c01d884bf0e",
   "metadata": {},
   "outputs": [
    {
     "name": "stdout",
     "output_type": "stream",
     "text": [
      "[np.float64(0.002352833010047405), np.float64(0.013746444751963757), np.float64(0.018338345450158312), np.float64(0.02163310455341449), np.float64(0.0203284007589206), np.float64(0.03117565276524625), np.float64(0.027712965407404564), np.float64(0.016135712664511626), np.float64(0.023820057168421057), np.float64(0.03239114937923369), np.float64(0.041323389215398416), np.float64(0.04967526027500154), np.float64(0.05073290864247075), np.float64(0.053400566852292074), np.float64(0.05351496409619457), np.float64(0.058879666397252436), np.float64(0.05938497509655771), np.float64(0.056533665451196854), np.float64(0.0630658290385137), np.float64(0.0645196977191566), np.float64(0.06851289119772476), np.float64(0.06882251161173344), np.float64(0.07239022984747082), np.float64(0.07357276420715408), np.float64(0.07477666506498064), np.float64(0.07553830730071778), np.float64(0.07651693792887751), np.float64(0.07697299010679684), np.float64(0.08015278872767703), np.float64(0.08026270546324005), np.float64(0.0792340580475181), np.float64(0.07887772685321137), np.float64(0.07718531229567721), np.float64(0.07970371540091477), np.float64(0.08416523015908534), np.float64(0.08103152798975491), np.float64(0.08538004722939387), np.float64(0.08862376906197947), np.float64(0.08749738125533531), np.float64(0.08976170296554715), np.float64(0.09033637463340279), np.float64(0.09249658564099468), np.float64(0.09320919863038105), np.float64(0.09541194123415486), np.float64(0.09400006414252862), np.float64(0.0962382231561867), np.float64(0.09709465010494078), np.float64(0.09656281186559712), np.float64(0.09862929035984187), np.float64(0.09719262413225355), np.float64(0.09836571346491095), np.float64(0.09901439703561198), np.float64(0.0993073507707802), np.float64(0.1000601165525342), np.float64(0.10062693935503267), np.float64(0.10158949897761779), np.float64(0.10241063485717623), np.float64(0.10355671265295242), np.float64(0.10597465044102075), np.float64(0.10715001147469409), np.float64(0.10625910200383124), np.float64(0.10650979672288931), np.float64(0.10756119655311393), np.float64(0.10681847078415135), np.float64(0.11132227099419412), np.float64(0.10908043455851352), np.float64(0.11182715296224598), np.float64(0.11146517106758687)]\n"
     ]
    },
    {
     "name": "stderr",
     "output_type": "stream",
     "text": [
      "2it [00:01,  1.72it/s]"
     ]
    },
    {
     "name": "stdout",
     "output_type": "stream",
     "text": [
      "0.1735274831590499\n",
      "0.0009970375744921716\n"
     ]
    },
    {
     "name": "stderr",
     "output_type": "stream",
     "text": [
      "102it [00:23,  2.36it/s]"
     ]
    },
    {
     "name": "stdout",
     "output_type": "stream",
     "text": [
      "0.17661992414686042\n",
      "0.0009970035015122761\n"
     ]
    },
    {
     "name": "stderr",
     "output_type": "stream",
     "text": [
      "202it [00:47,  2.88it/s]"
     ]
    },
    {
     "name": "stdout",
     "output_type": "stream",
     "text": [
      "0.17384266998030798\n",
      "0.0009969692342971892\n"
     ]
    },
    {
     "name": "stderr",
     "output_type": "stream",
     "text": [
      "260it [00:59,  4.33it/s]\n",
      "17it [00:06,  2.74it/s]\n"
     ]
    },
    {
     "name": "stdout",
     "output_type": "stream",
     "text": [
      "[np.float64(0.002352833010047405), np.float64(0.013746444751963757), np.float64(0.018338345450158312), np.float64(0.02163310455341449), np.float64(0.0203284007589206), np.float64(0.03117565276524625), np.float64(0.027712965407404564), np.float64(0.016135712664511626), np.float64(0.023820057168421057), np.float64(0.03239114937923369), np.float64(0.041323389215398416), np.float64(0.04967526027500154), np.float64(0.05073290864247075), np.float64(0.053400566852292074), np.float64(0.05351496409619457), np.float64(0.058879666397252436), np.float64(0.05938497509655771), np.float64(0.056533665451196854), np.float64(0.0630658290385137), np.float64(0.0645196977191566), np.float64(0.06851289119772476), np.float64(0.06882251161173344), np.float64(0.07239022984747082), np.float64(0.07357276420715408), np.float64(0.07477666506498064), np.float64(0.07553830730071778), np.float64(0.07651693792887751), np.float64(0.07697299010679684), np.float64(0.08015278872767703), np.float64(0.08026270546324005), np.float64(0.0792340580475181), np.float64(0.07887772685321137), np.float64(0.07718531229567721), np.float64(0.07970371540091477), np.float64(0.08416523015908534), np.float64(0.08103152798975491), np.float64(0.08538004722939387), np.float64(0.08862376906197947), np.float64(0.08749738125533531), np.float64(0.08976170296554715), np.float64(0.09033637463340279), np.float64(0.09249658564099468), np.float64(0.09320919863038105), np.float64(0.09541194123415486), np.float64(0.09400006414252862), np.float64(0.0962382231561867), np.float64(0.09709465010494078), np.float64(0.09656281186559712), np.float64(0.09862929035984187), np.float64(0.09719262413225355), np.float64(0.09836571346491095), np.float64(0.09901439703561198), np.float64(0.0993073507707802), np.float64(0.1000601165525342), np.float64(0.10062693935503267), np.float64(0.10158949897761779), np.float64(0.10241063485717623), np.float64(0.10355671265295242), np.float64(0.10597465044102075), np.float64(0.10715001147469409), np.float64(0.10625910200383124), np.float64(0.10650979672288931), np.float64(0.10756119655311393), np.float64(0.10681847078415135), np.float64(0.11132227099419412), np.float64(0.10908043455851352), np.float64(0.11182715296224598), np.float64(0.11146517106758687), np.float64(0.11194331333406678)]\n"
     ]
    },
    {
     "name": "stderr",
     "output_type": "stream",
     "text": [
      "2it [00:01,  1.71it/s]"
     ]
    },
    {
     "name": "stdout",
     "output_type": "stream",
     "text": [
      "0.17671582375234557\n",
      "0.0009969485807408706\n"
     ]
    },
    {
     "name": "stderr",
     "output_type": "stream",
     "text": [
      "102it [00:23,  2.91it/s]"
     ]
    },
    {
     "name": "stdout",
     "output_type": "stream",
     "text": [
      "0.16307867745693685\n",
      "0.0009969140027776488\n"
     ]
    },
    {
     "name": "stderr",
     "output_type": "stream",
     "text": [
      "202it [00:45,  2.28it/s]"
     ]
    },
    {
     "name": "stdout",
     "output_type": "stream",
     "text": [
      "0.16527779608785537\n",
      "0.0009968792306145695\n"
     ]
    },
    {
     "name": "stderr",
     "output_type": "stream",
     "text": [
      "260it [00:58,  4.42it/s]\n",
      "17it [00:07,  2.41it/s]\n"
     ]
    },
    {
     "name": "stdout",
     "output_type": "stream",
     "text": [
      "[np.float64(0.002352833010047405), np.float64(0.013746444751963757), np.float64(0.018338345450158312), np.float64(0.02163310455341449), np.float64(0.0203284007589206), np.float64(0.03117565276524625), np.float64(0.027712965407404564), np.float64(0.016135712664511626), np.float64(0.023820057168421057), np.float64(0.03239114937923369), np.float64(0.041323389215398416), np.float64(0.04967526027500154), np.float64(0.05073290864247075), np.float64(0.053400566852292074), np.float64(0.05351496409619457), np.float64(0.058879666397252436), np.float64(0.05938497509655771), np.float64(0.056533665451196854), np.float64(0.0630658290385137), np.float64(0.0645196977191566), np.float64(0.06851289119772476), np.float64(0.06882251161173344), np.float64(0.07239022984747082), np.float64(0.07357276420715408), np.float64(0.07477666506498064), np.float64(0.07553830730071778), np.float64(0.07651693792887751), np.float64(0.07697299010679684), np.float64(0.08015278872767703), np.float64(0.08026270546324005), np.float64(0.0792340580475181), np.float64(0.07887772685321137), np.float64(0.07718531229567721), np.float64(0.07970371540091477), np.float64(0.08416523015908534), np.float64(0.08103152798975491), np.float64(0.08538004722939387), np.float64(0.08862376906197947), np.float64(0.08749738125533531), np.float64(0.08976170296554715), np.float64(0.09033637463340279), np.float64(0.09249658564099468), np.float64(0.09320919863038105), np.float64(0.09541194123415486), np.float64(0.09400006414252862), np.float64(0.0962382231561867), np.float64(0.09709465010494078), np.float64(0.09656281186559712), np.float64(0.09862929035984187), np.float64(0.09719262413225355), np.float64(0.09836571346491095), np.float64(0.09901439703561198), np.float64(0.0993073507707802), np.float64(0.1000601165525342), np.float64(0.10062693935503267), np.float64(0.10158949897761779), np.float64(0.10241063485717623), np.float64(0.10355671265295242), np.float64(0.10597465044102075), np.float64(0.10715001147469409), np.float64(0.10625910200383124), np.float64(0.10650979672288931), np.float64(0.10756119655311393), np.float64(0.10681847078415135), np.float64(0.11132227099419412), np.float64(0.10908043455851352), np.float64(0.11182715296224598), np.float64(0.11146517106758687), np.float64(0.11194331333406678), np.float64(0.11250293984532005)]\n"
     ]
    },
    {
     "name": "stderr",
     "output_type": "stream",
     "text": [
      "2it [00:01,  1.98it/s]"
     ]
    },
    {
     "name": "stdout",
     "output_type": "stream",
     "text": [
      "0.1863981309119697\n",
      "0.0009968582741064977\n"
     ]
    },
    {
     "name": "stderr",
     "output_type": "stream",
     "text": [
      "102it [00:23,  2.93it/s]"
     ]
    },
    {
     "name": "stdout",
     "output_type": "stream",
     "text": [
      "0.17040121366928293\n",
      "0.0009968231912522306\n"
     ]
    },
    {
     "name": "stderr",
     "output_type": "stream",
     "text": [
      "201it [00:46,  1.81it/s]"
     ]
    },
    {
     "name": "stdout",
     "output_type": "stream",
     "text": [
      "0.182584923447482\n",
      "0.0009967879142339564\n"
     ]
    },
    {
     "name": "stderr",
     "output_type": "stream",
     "text": [
      "260it [00:59,  4.37it/s]\n",
      "17it [00:05,  2.89it/s]\n"
     ]
    },
    {
     "name": "stdout",
     "output_type": "stream",
     "text": [
      "[np.float64(0.002352833010047405), np.float64(0.013746444751963757), np.float64(0.018338345450158312), np.float64(0.02163310455341449), np.float64(0.0203284007589206), np.float64(0.03117565276524625), np.float64(0.027712965407404564), np.float64(0.016135712664511626), np.float64(0.023820057168421057), np.float64(0.03239114937923369), np.float64(0.041323389215398416), np.float64(0.04967526027500154), np.float64(0.05073290864247075), np.float64(0.053400566852292074), np.float64(0.05351496409619457), np.float64(0.058879666397252436), np.float64(0.05938497509655771), np.float64(0.056533665451196854), np.float64(0.0630658290385137), np.float64(0.0645196977191566), np.float64(0.06851289119772476), np.float64(0.06882251161173344), np.float64(0.07239022984747082), np.float64(0.07357276420715408), np.float64(0.07477666506498064), np.float64(0.07553830730071778), np.float64(0.07651693792887751), np.float64(0.07697299010679684), np.float64(0.08015278872767703), np.float64(0.08026270546324005), np.float64(0.0792340580475181), np.float64(0.07887772685321137), np.float64(0.07718531229567721), np.float64(0.07970371540091477), np.float64(0.08416523015908534), np.float64(0.08103152798975491), np.float64(0.08538004722939387), np.float64(0.08862376906197947), np.float64(0.08749738125533531), np.float64(0.08976170296554715), np.float64(0.09033637463340279), np.float64(0.09249658564099468), np.float64(0.09320919863038105), np.float64(0.09541194123415486), np.float64(0.09400006414252862), np.float64(0.0962382231561867), np.float64(0.09709465010494078), np.float64(0.09656281186559712), np.float64(0.09862929035984187), np.float64(0.09719262413225355), np.float64(0.09836571346491095), np.float64(0.09901439703561198), np.float64(0.0993073507707802), np.float64(0.1000601165525342), np.float64(0.10062693935503267), np.float64(0.10158949897761779), np.float64(0.10241063485717623), np.float64(0.10355671265295242), np.float64(0.10597465044102075), np.float64(0.10715001147469409), np.float64(0.10625910200383124), np.float64(0.10650979672288931), np.float64(0.10756119655311393), np.float64(0.10681847078415135), np.float64(0.11132227099419412), np.float64(0.10908043455851352), np.float64(0.11182715296224598), np.float64(0.11146517106758687), np.float64(0.11194331333406678), np.float64(0.11250293984532005), np.float64(0.11084282070687482)]\n"
     ]
    },
    {
     "name": "stderr",
     "output_type": "stream",
     "text": [
      "2it [00:00,  2.84it/s]"
     ]
    },
    {
     "name": "stdout",
     "output_type": "stream",
     "text": [
      "0.18155230308772038\n",
      "0.0009967666548300583\n"
     ]
    },
    {
     "name": "stderr",
     "output_type": "stream",
     "text": [
      "102it [00:22,  2.57it/s]"
     ]
    },
    {
     "name": "stdout",
     "output_type": "stream",
     "text": [
      "0.16568942801030914\n",
      "0.000996731067178374\n"
     ]
    },
    {
     "name": "stderr",
     "output_type": "stream",
     "text": [
      "202it [00:45,  2.59it/s]"
     ]
    },
    {
     "name": "stdout",
     "output_type": "stream",
     "text": [
      "0.17375613356449413\n",
      "0.0009966952853990504\n"
     ]
    },
    {
     "name": "stderr",
     "output_type": "stream",
     "text": [
      "260it [00:59,  4.36it/s]\n",
      "17it [00:05,  2.86it/s]\n"
     ]
    },
    {
     "name": "stdout",
     "output_type": "stream",
     "text": [
      "[np.float64(0.002352833010047405), np.float64(0.013746444751963757), np.float64(0.018338345450158312), np.float64(0.02163310455341449), np.float64(0.0203284007589206), np.float64(0.03117565276524625), np.float64(0.027712965407404564), np.float64(0.016135712664511626), np.float64(0.023820057168421057), np.float64(0.03239114937923369), np.float64(0.041323389215398416), np.float64(0.04967526027500154), np.float64(0.05073290864247075), np.float64(0.053400566852292074), np.float64(0.05351496409619457), np.float64(0.058879666397252436), np.float64(0.05938497509655771), np.float64(0.056533665451196854), np.float64(0.0630658290385137), np.float64(0.0645196977191566), np.float64(0.06851289119772476), np.float64(0.06882251161173344), np.float64(0.07239022984747082), np.float64(0.07357276420715408), np.float64(0.07477666506498064), np.float64(0.07553830730071778), np.float64(0.07651693792887751), np.float64(0.07697299010679684), np.float64(0.08015278872767703), np.float64(0.08026270546324005), np.float64(0.0792340580475181), np.float64(0.07887772685321137), np.float64(0.07718531229567721), np.float64(0.07970371540091477), np.float64(0.08416523015908534), np.float64(0.08103152798975491), np.float64(0.08538004722939387), np.float64(0.08862376906197947), np.float64(0.08749738125533531), np.float64(0.08976170296554715), np.float64(0.09033637463340279), np.float64(0.09249658564099468), np.float64(0.09320919863038105), np.float64(0.09541194123415486), np.float64(0.09400006414252862), np.float64(0.0962382231561867), np.float64(0.09709465010494078), np.float64(0.09656281186559712), np.float64(0.09862929035984187), np.float64(0.09719262413225355), np.float64(0.09836571346491095), np.float64(0.09901439703561198), np.float64(0.0993073507707802), np.float64(0.1000601165525342), np.float64(0.10062693935503267), np.float64(0.10158949897761779), np.float64(0.10241063485717623), np.float64(0.10355671265295242), np.float64(0.10597465044102075), np.float64(0.10715001147469409), np.float64(0.10625910200383124), np.float64(0.10650979672288931), np.float64(0.10756119655311393), np.float64(0.10681847078415135), np.float64(0.11132227099419412), np.float64(0.10908043455851352), np.float64(0.11182715296224598), np.float64(0.11146517106758687), np.float64(0.11194331333406678), np.float64(0.11250293984532005), np.float64(0.11084282070687482), np.float64(0.11190706038612121)]\n"
     ]
    },
    {
     "name": "stderr",
     "output_type": "stream",
     "text": [
      "2it [00:00,  2.81it/s]"
     ]
    },
    {
     "name": "stdout",
     "output_type": "stream",
     "text": [
      "0.18542188957102623\n",
      "0.000996673723156062\n"
     ]
    },
    {
     "name": "stderr",
     "output_type": "stream",
     "text": [
      "102it [00:23,  2.32it/s]"
     ]
    },
    {
     "name": "stdout",
     "output_type": "stream",
     "text": [
      "0.178854145948079\n",
      "0.0009966376308019323\n"
     ]
    },
    {
     "name": "stderr",
     "output_type": "stream",
     "text": [
      "202it [00:46,  2.80it/s]"
     ]
    },
    {
     "name": "stdout",
     "output_type": "stream",
     "text": [
      "0.1666580805184783\n",
      "0.000996601344357052\n"
     ]
    },
    {
     "name": "stderr",
     "output_type": "stream",
     "text": [
      "260it [00:58,  4.46it/s]\n",
      "17it [00:04,  3.76it/s]\n"
     ]
    },
    {
     "name": "stdout",
     "output_type": "stream",
     "text": [
      "[np.float64(0.002352833010047405), np.float64(0.013746444751963757), np.float64(0.018338345450158312), np.float64(0.02163310455341449), np.float64(0.0203284007589206), np.float64(0.03117565276524625), np.float64(0.027712965407404564), np.float64(0.016135712664511626), np.float64(0.023820057168421057), np.float64(0.03239114937923369), np.float64(0.041323389215398416), np.float64(0.04967526027500154), np.float64(0.05073290864247075), np.float64(0.053400566852292074), np.float64(0.05351496409619457), np.float64(0.058879666397252436), np.float64(0.05938497509655771), np.float64(0.056533665451196854), np.float64(0.0630658290385137), np.float64(0.0645196977191566), np.float64(0.06851289119772476), np.float64(0.06882251161173344), np.float64(0.07239022984747082), np.float64(0.07357276420715408), np.float64(0.07477666506498064), np.float64(0.07553830730071778), np.float64(0.07651693792887751), np.float64(0.07697299010679684), np.float64(0.08015278872767703), np.float64(0.08026270546324005), np.float64(0.0792340580475181), np.float64(0.07887772685321137), np.float64(0.07718531229567721), np.float64(0.07970371540091477), np.float64(0.08416523015908534), np.float64(0.08103152798975491), np.float64(0.08538004722939387), np.float64(0.08862376906197947), np.float64(0.08749738125533531), np.float64(0.08976170296554715), np.float64(0.09033637463340279), np.float64(0.09249658564099468), np.float64(0.09320919863038105), np.float64(0.09541194123415486), np.float64(0.09400006414252862), np.float64(0.0962382231561867), np.float64(0.09709465010494078), np.float64(0.09656281186559712), np.float64(0.09862929035984187), np.float64(0.09719262413225355), np.float64(0.09836571346491095), np.float64(0.09901439703561198), np.float64(0.0993073507707802), np.float64(0.1000601165525342), np.float64(0.10062693935503267), np.float64(0.10158949897761779), np.float64(0.10241063485717623), np.float64(0.10355671265295242), np.float64(0.10597465044102075), np.float64(0.10715001147469409), np.float64(0.10625910200383124), np.float64(0.10650979672288931), np.float64(0.10756119655311393), np.float64(0.10681847078415135), np.float64(0.11132227099419412), np.float64(0.10908043455851352), np.float64(0.11182715296224598), np.float64(0.11146517106758687), np.float64(0.11194331333406678), np.float64(0.11250293984532005), np.float64(0.11084282070687482), np.float64(0.11190706038612121), np.float64(0.11473276721107428)]\n"
     ]
    },
    {
     "name": "stderr",
     "output_type": "stream",
     "text": [
      "2it [00:00,  3.09it/s]"
     ]
    },
    {
     "name": "stdout",
     "output_type": "stream",
     "text": [
      "0.17614198454731106\n",
      "0.0009965794793325186\n"
     ]
    },
    {
     "name": "stderr",
     "output_type": "stream",
     "text": [
      "102it [00:23,  2.30it/s]"
     ]
    },
    {
     "name": "stdout",
     "output_type": "stream",
     "text": [
      "0.1677604779005158\n",
      "0.0009965428823722677\n"
     ]
    },
    {
     "name": "stderr",
     "output_type": "stream",
     "text": [
      "202it [00:46,  2.54it/s]"
     ]
    },
    {
     "name": "stdout",
     "output_type": "stream",
     "text": [
      "0.17913406436014206\n",
      "0.000996506091358668\n"
     ]
    },
    {
     "name": "stderr",
     "output_type": "stream",
     "text": [
      "260it [00:59,  4.40it/s]\n",
      "17it [00:05,  3.35it/s]\n"
     ]
    },
    {
     "name": "stdout",
     "output_type": "stream",
     "text": [
      "[np.float64(0.002352833010047405), np.float64(0.013746444751963757), np.float64(0.018338345450158312), np.float64(0.02163310455341449), np.float64(0.0203284007589206), np.float64(0.03117565276524625), np.float64(0.027712965407404564), np.float64(0.016135712664511626), np.float64(0.023820057168421057), np.float64(0.03239114937923369), np.float64(0.041323389215398416), np.float64(0.04967526027500154), np.float64(0.05073290864247075), np.float64(0.053400566852292074), np.float64(0.05351496409619457), np.float64(0.058879666397252436), np.float64(0.05938497509655771), np.float64(0.056533665451196854), np.float64(0.0630658290385137), np.float64(0.0645196977191566), np.float64(0.06851289119772476), np.float64(0.06882251161173344), np.float64(0.07239022984747082), np.float64(0.07357276420715408), np.float64(0.07477666506498064), np.float64(0.07553830730071778), np.float64(0.07651693792887751), np.float64(0.07697299010679684), np.float64(0.08015278872767703), np.float64(0.08026270546324005), np.float64(0.0792340580475181), np.float64(0.07887772685321137), np.float64(0.07718531229567721), np.float64(0.07970371540091477), np.float64(0.08416523015908534), np.float64(0.08103152798975491), np.float64(0.08538004722939387), np.float64(0.08862376906197947), np.float64(0.08749738125533531), np.float64(0.08976170296554715), np.float64(0.09033637463340279), np.float64(0.09249658564099468), np.float64(0.09320919863038105), np.float64(0.09541194123415486), np.float64(0.09400006414252862), np.float64(0.0962382231561867), np.float64(0.09709465010494078), np.float64(0.09656281186559712), np.float64(0.09862929035984187), np.float64(0.09719262413225355), np.float64(0.09836571346491095), np.float64(0.09901439703561198), np.float64(0.0993073507707802), np.float64(0.1000601165525342), np.float64(0.10062693935503267), np.float64(0.10158949897761779), np.float64(0.10241063485717623), np.float64(0.10355671265295242), np.float64(0.10597465044102075), np.float64(0.10715001147469409), np.float64(0.10625910200383124), np.float64(0.10650979672288931), np.float64(0.10756119655311393), np.float64(0.10681847078415135), np.float64(0.11132227099419412), np.float64(0.10908043455851352), np.float64(0.11182715296224598), np.float64(0.11146517106758687), np.float64(0.11194331333406678), np.float64(0.11250293984532005), np.float64(0.11084282070687482), np.float64(0.11190706038612121), np.float64(0.11473276721107428), np.float64(0.1127756008997882)]\n"
     ]
    },
    {
     "name": "stderr",
     "output_type": "stream",
     "text": [
      "2it [00:01,  2.16it/s]"
     ]
    },
    {
     "name": "stdout",
     "output_type": "stream",
     "text": [
      "0.17673184127708758\n",
      "0.0009964839236109421\n"
     ]
    },
    {
     "name": "stderr",
     "output_type": "stream",
     "text": [
      "102it [00:24,  1.59it/s]"
     ]
    },
    {
     "name": "stdout",
     "output_type": "stream",
     "text": [
      "0.17440655901518343\n",
      "0.0009964468221422347\n"
     ]
    },
    {
     "name": "stderr",
     "output_type": "stream",
     "text": [
      "202it [00:48,  2.70it/s]"
     ]
    },
    {
     "name": "stdout",
     "output_type": "stream",
     "text": [
      "0.1826487641282302\n",
      "0.0009964095266581042\n"
     ]
    },
    {
     "name": "stderr",
     "output_type": "stream",
     "text": [
      "260it [00:58,  4.41it/s]\n",
      "17it [00:06,  2.44it/s]\n"
     ]
    },
    {
     "name": "stdout",
     "output_type": "stream",
     "text": [
      "[np.float64(0.002352833010047405), np.float64(0.013746444751963757), np.float64(0.018338345450158312), np.float64(0.02163310455341449), np.float64(0.0203284007589206), np.float64(0.03117565276524625), np.float64(0.027712965407404564), np.float64(0.016135712664511626), np.float64(0.023820057168421057), np.float64(0.03239114937923369), np.float64(0.041323389215398416), np.float64(0.04967526027500154), np.float64(0.05073290864247075), np.float64(0.053400566852292074), np.float64(0.05351496409619457), np.float64(0.058879666397252436), np.float64(0.05938497509655771), np.float64(0.056533665451196854), np.float64(0.0630658290385137), np.float64(0.0645196977191566), np.float64(0.06851289119772476), np.float64(0.06882251161173344), np.float64(0.07239022984747082), np.float64(0.07357276420715408), np.float64(0.07477666506498064), np.float64(0.07553830730071778), np.float64(0.07651693792887751), np.float64(0.07697299010679684), np.float64(0.08015278872767703), np.float64(0.08026270546324005), np.float64(0.0792340580475181), np.float64(0.07887772685321137), np.float64(0.07718531229567721), np.float64(0.07970371540091477), np.float64(0.08416523015908534), np.float64(0.08103152798975491), np.float64(0.08538004722939387), np.float64(0.08862376906197947), np.float64(0.08749738125533531), np.float64(0.08976170296554715), np.float64(0.09033637463340279), np.float64(0.09249658564099468), np.float64(0.09320919863038105), np.float64(0.09541194123415486), np.float64(0.09400006414252862), np.float64(0.0962382231561867), np.float64(0.09709465010494078), np.float64(0.09656281186559712), np.float64(0.09862929035984187), np.float64(0.09719262413225355), np.float64(0.09836571346491095), np.float64(0.09901439703561198), np.float64(0.0993073507707802), np.float64(0.1000601165525342), np.float64(0.10062693935503267), np.float64(0.10158949897761779), np.float64(0.10241063485717623), np.float64(0.10355671265295242), np.float64(0.10597465044102075), np.float64(0.10715001147469409), np.float64(0.10625910200383124), np.float64(0.10650979672288931), np.float64(0.10756119655311393), np.float64(0.10681847078415135), np.float64(0.11132227099419412), np.float64(0.10908043455851352), np.float64(0.11182715296224598), np.float64(0.11146517106758687), np.float64(0.11194331333406678), np.float64(0.11250293984532005), np.float64(0.11084282070687482), np.float64(0.11190706038612121), np.float64(0.11473276721107428), np.float64(0.1127756008997882), np.float64(0.11499586167848594)]\n"
     ]
    },
    {
     "name": "stderr",
     "output_type": "stream",
     "text": [
      "2it [00:01,  1.91it/s]"
     ]
    },
    {
     "name": "stdout",
     "output_type": "stream",
     "text": [
      "0.176957399085604\n",
      "0.000996387056246345\n"
     ]
    },
    {
     "name": "stderr",
     "output_type": "stream",
     "text": [
      "102it [00:24,  2.18it/s]"
     ]
    },
    {
     "name": "stdout",
     "output_type": "stream",
     "text": [
      "0.17502488698726776\n",
      "0.0009963494503681955\n"
     ]
    },
    {
     "name": "stderr",
     "output_type": "stream",
     "text": [
      "202it [00:49,  2.27it/s]"
     ]
    },
    {
     "name": "stdout",
     "output_type": "stream",
     "text": [
      "0.1762284865487355\n",
      "0.0009963116505130646\n"
     ]
    },
    {
     "name": "stderr",
     "output_type": "stream",
     "text": [
      "260it [01:02,  4.16it/s]\n",
      "17it [00:06,  2.48it/s]\n"
     ]
    },
    {
     "name": "stdout",
     "output_type": "stream",
     "text": [
      "[np.float64(0.002352833010047405), np.float64(0.013746444751963757), np.float64(0.018338345450158312), np.float64(0.02163310455341449), np.float64(0.0203284007589206), np.float64(0.03117565276524625), np.float64(0.027712965407404564), np.float64(0.016135712664511626), np.float64(0.023820057168421057), np.float64(0.03239114937923369), np.float64(0.041323389215398416), np.float64(0.04967526027500154), np.float64(0.05073290864247075), np.float64(0.053400566852292074), np.float64(0.05351496409619457), np.float64(0.058879666397252436), np.float64(0.05938497509655771), np.float64(0.056533665451196854), np.float64(0.0630658290385137), np.float64(0.0645196977191566), np.float64(0.06851289119772476), np.float64(0.06882251161173344), np.float64(0.07239022984747082), np.float64(0.07357276420715408), np.float64(0.07477666506498064), np.float64(0.07553830730071778), np.float64(0.07651693792887751), np.float64(0.07697299010679684), np.float64(0.08015278872767703), np.float64(0.08026270546324005), np.float64(0.0792340580475181), np.float64(0.07887772685321137), np.float64(0.07718531229567721), np.float64(0.07970371540091477), np.float64(0.08416523015908534), np.float64(0.08103152798975491), np.float64(0.08538004722939387), np.float64(0.08862376906197947), np.float64(0.08749738125533531), np.float64(0.08976170296554715), np.float64(0.09033637463340279), np.float64(0.09249658564099468), np.float64(0.09320919863038105), np.float64(0.09541194123415486), np.float64(0.09400006414252862), np.float64(0.0962382231561867), np.float64(0.09709465010494078), np.float64(0.09656281186559712), np.float64(0.09862929035984187), np.float64(0.09719262413225355), np.float64(0.09836571346491095), np.float64(0.09901439703561198), np.float64(0.0993073507707802), np.float64(0.1000601165525342), np.float64(0.10062693935503267), np.float64(0.10158949897761779), np.float64(0.10241063485717623), np.float64(0.10355671265295242), np.float64(0.10597465044102075), np.float64(0.10715001147469409), np.float64(0.10625910200383124), np.float64(0.10650979672288931), np.float64(0.10756119655311393), np.float64(0.10681847078415135), np.float64(0.11132227099419412), np.float64(0.10908043455851352), np.float64(0.11182715296224598), np.float64(0.11146517106758687), np.float64(0.11194331333406678), np.float64(0.11250293984532005), np.float64(0.11084282070687482), np.float64(0.11190706038612121), np.float64(0.11473276721107428), np.float64(0.1127756008997882), np.float64(0.11499586167848594), np.float64(0.11577953401949984)]\n"
     ]
    },
    {
     "name": "stderr",
     "output_type": "stream",
     "text": [
      "2it [00:01,  1.89it/s]"
     ]
    },
    {
     "name": "stdout",
     "output_type": "stream",
     "text": [
      "0.17863597041928014\n",
      "0.0009962888774972397\n"
     ]
    },
    {
     "name": "stderr",
     "output_type": "stream",
     "text": [
      "102it [00:24,  2.40it/s]"
     ]
    },
    {
     "name": "stdout",
     "output_type": "stream",
     "text": [
      "0.17601652329159112\n",
      "0.00099625076731001\n"
     ]
    },
    {
     "name": "stderr",
     "output_type": "stream",
     "text": [
      "202it [00:46,  2.71it/s]"
     ]
    },
    {
     "name": "stdout",
     "output_type": "stream",
     "text": [
      "0.1768145617737112\n",
      "0.0009962124631847588\n"
     ]
    },
    {
     "name": "stderr",
     "output_type": "stream",
     "text": [
      "260it [00:58,  4.43it/s]\n",
      "17it [00:06,  2.51it/s]\n"
     ]
    },
    {
     "name": "stdout",
     "output_type": "stream",
     "text": [
      "[np.float64(0.002352833010047405), np.float64(0.013746444751963757), np.float64(0.018338345450158312), np.float64(0.02163310455341449), np.float64(0.0203284007589206), np.float64(0.03117565276524625), np.float64(0.027712965407404564), np.float64(0.016135712664511626), np.float64(0.023820057168421057), np.float64(0.03239114937923369), np.float64(0.041323389215398416), np.float64(0.04967526027500154), np.float64(0.05073290864247075), np.float64(0.053400566852292074), np.float64(0.05351496409619457), np.float64(0.058879666397252436), np.float64(0.05938497509655771), np.float64(0.056533665451196854), np.float64(0.0630658290385137), np.float64(0.0645196977191566), np.float64(0.06851289119772476), np.float64(0.06882251161173344), np.float64(0.07239022984747082), np.float64(0.07357276420715408), np.float64(0.07477666506498064), np.float64(0.07553830730071778), np.float64(0.07651693792887751), np.float64(0.07697299010679684), np.float64(0.08015278872767703), np.float64(0.08026270546324005), np.float64(0.0792340580475181), np.float64(0.07887772685321137), np.float64(0.07718531229567721), np.float64(0.07970371540091477), np.float64(0.08416523015908534), np.float64(0.08103152798975491), np.float64(0.08538004722939387), np.float64(0.08862376906197947), np.float64(0.08749738125533531), np.float64(0.08976170296554715), np.float64(0.09033637463340279), np.float64(0.09249658564099468), np.float64(0.09320919863038105), np.float64(0.09541194123415486), np.float64(0.09400006414252862), np.float64(0.0962382231561867), np.float64(0.09709465010494078), np.float64(0.09656281186559712), np.float64(0.09862929035984187), np.float64(0.09719262413225355), np.float64(0.09836571346491095), np.float64(0.09901439703561198), np.float64(0.0993073507707802), np.float64(0.1000601165525342), np.float64(0.10062693935503267), np.float64(0.10158949897761779), np.float64(0.10241063485717623), np.float64(0.10355671265295242), np.float64(0.10597465044102075), np.float64(0.10715001147469409), np.float64(0.10625910200383124), np.float64(0.10650979672288931), np.float64(0.10756119655311393), np.float64(0.10681847078415135), np.float64(0.11132227099419412), np.float64(0.10908043455851352), np.float64(0.11182715296224598), np.float64(0.11146517106758687), np.float64(0.11194331333406678), np.float64(0.11250293984532005), np.float64(0.11084282070687482), np.float64(0.11190706038612121), np.float64(0.11473276721107428), np.float64(0.1127756008997882), np.float64(0.11499586167848594), np.float64(0.11577953401949984), np.float64(0.11465364546155095)]\n"
     ]
    },
    {
     "name": "stderr",
     "output_type": "stream",
     "text": [
      "2it [00:01,  1.61it/s]"
     ]
    },
    {
     "name": "stdout",
     "output_type": "stream",
     "text": [
      "0.1834230067650645\n",
      "0.0009961893876256434\n"
     ]
    },
    {
     "name": "stderr",
     "output_type": "stream",
     "text": [
      "102it [00:26,  2.19it/s]"
     ]
    },
    {
     "name": "stdout",
     "output_type": "stream",
     "text": [
      "0.18026689795200765\n",
      "0.00099615077323104\n"
     ]
    },
    {
     "name": "stderr",
     "output_type": "stream",
     "text": [
      "202it [00:52,  2.60it/s]"
     ]
    },
    {
     "name": "stdout",
     "output_type": "stream",
     "text": [
      "0.18247917671505187\n",
      "0.0009961119649378888\n"
     ]
    },
    {
     "name": "stderr",
     "output_type": "stream",
     "text": [
      "260it [01:05,  3.96it/s]\n",
      "17it [00:07,  2.32it/s]\n"
     ]
    },
    {
     "name": "stdout",
     "output_type": "stream",
     "text": [
      "[np.float64(0.002352833010047405), np.float64(0.013746444751963757), np.float64(0.018338345450158312), np.float64(0.02163310455341449), np.float64(0.0203284007589206), np.float64(0.03117565276524625), np.float64(0.027712965407404564), np.float64(0.016135712664511626), np.float64(0.023820057168421057), np.float64(0.03239114937923369), np.float64(0.041323389215398416), np.float64(0.04967526027500154), np.float64(0.05073290864247075), np.float64(0.053400566852292074), np.float64(0.05351496409619457), np.float64(0.058879666397252436), np.float64(0.05938497509655771), np.float64(0.056533665451196854), np.float64(0.0630658290385137), np.float64(0.0645196977191566), np.float64(0.06851289119772476), np.float64(0.06882251161173344), np.float64(0.07239022984747082), np.float64(0.07357276420715408), np.float64(0.07477666506498064), np.float64(0.07553830730071778), np.float64(0.07651693792887751), np.float64(0.07697299010679684), np.float64(0.08015278872767703), np.float64(0.08026270546324005), np.float64(0.0792340580475181), np.float64(0.07887772685321137), np.float64(0.07718531229567721), np.float64(0.07970371540091477), np.float64(0.08416523015908534), np.float64(0.08103152798975491), np.float64(0.08538004722939387), np.float64(0.08862376906197947), np.float64(0.08749738125533531), np.float64(0.08976170296554715), np.float64(0.09033637463340279), np.float64(0.09249658564099468), np.float64(0.09320919863038105), np.float64(0.09541194123415486), np.float64(0.09400006414252862), np.float64(0.0962382231561867), np.float64(0.09709465010494078), np.float64(0.09656281186559712), np.float64(0.09862929035984187), np.float64(0.09719262413225355), np.float64(0.09836571346491095), np.float64(0.09901439703561198), np.float64(0.0993073507707802), np.float64(0.1000601165525342), np.float64(0.10062693935503267), np.float64(0.10158949897761779), np.float64(0.10241063485717623), np.float64(0.10355671265295242), np.float64(0.10597465044102075), np.float64(0.10715001147469409), np.float64(0.10625910200383124), np.float64(0.10650979672288931), np.float64(0.10756119655311393), np.float64(0.10681847078415135), np.float64(0.11132227099419412), np.float64(0.10908043455851352), np.float64(0.11182715296224598), np.float64(0.11146517106758687), np.float64(0.11194331333406678), np.float64(0.11250293984532005), np.float64(0.11084282070687482), np.float64(0.11190706038612121), np.float64(0.11473276721107428), np.float64(0.1127756008997882), np.float64(0.11499586167848594), np.float64(0.11577953401949984), np.float64(0.11465364546155095), np.float64(0.11511287943915191)]\n"
     ]
    },
    {
     "name": "stderr",
     "output_type": "stream",
     "text": [
      "2it [00:01,  1.62it/s]"
     ]
    },
    {
     "name": "stdout",
     "output_type": "stream",
     "text": [
      "0.191693909041847\n",
      "0.0009960885868970655\n"
     ]
    },
    {
     "name": "stderr",
     "output_type": "stream",
     "text": [
      "102it [00:24,  2.44it/s]"
     ]
    },
    {
     "name": "stdout",
     "output_type": "stream",
     "text": [
      "0.1804080399660067\n",
      "0.000996049468398138\n"
     ]
    },
    {
     "name": "stderr",
     "output_type": "stream",
     "text": [
      "202it [00:49,  1.96it/s]"
     ]
    },
    {
     "name": "stdout",
     "output_type": "stream",
     "text": [
      "0.18369116132744334\n",
      "0.0009960101560406568\n"
     ]
    },
    {
     "name": "stderr",
     "output_type": "stream",
     "text": [
      "260it [01:02,  4.15it/s]\n",
      "17it [00:06,  2.70it/s]\n"
     ]
    },
    {
     "name": "stdout",
     "output_type": "stream",
     "text": [
      "[np.float64(0.002352833010047405), np.float64(0.013746444751963757), np.float64(0.018338345450158312), np.float64(0.02163310455341449), np.float64(0.0203284007589206), np.float64(0.03117565276524625), np.float64(0.027712965407404564), np.float64(0.016135712664511626), np.float64(0.023820057168421057), np.float64(0.03239114937923369), np.float64(0.041323389215398416), np.float64(0.04967526027500154), np.float64(0.05073290864247075), np.float64(0.053400566852292074), np.float64(0.05351496409619457), np.float64(0.058879666397252436), np.float64(0.05938497509655771), np.float64(0.056533665451196854), np.float64(0.0630658290385137), np.float64(0.0645196977191566), np.float64(0.06851289119772476), np.float64(0.06882251161173344), np.float64(0.07239022984747082), np.float64(0.07357276420715408), np.float64(0.07477666506498064), np.float64(0.07553830730071778), np.float64(0.07651693792887751), np.float64(0.07697299010679684), np.float64(0.08015278872767703), np.float64(0.08026270546324005), np.float64(0.0792340580475181), np.float64(0.07887772685321137), np.float64(0.07718531229567721), np.float64(0.07970371540091477), np.float64(0.08416523015908534), np.float64(0.08103152798975491), np.float64(0.08538004722939387), np.float64(0.08862376906197947), np.float64(0.08749738125533531), np.float64(0.08976170296554715), np.float64(0.09033637463340279), np.float64(0.09249658564099468), np.float64(0.09320919863038105), np.float64(0.09541194123415486), np.float64(0.09400006414252862), np.float64(0.0962382231561867), np.float64(0.09709465010494078), np.float64(0.09656281186559712), np.float64(0.09862929035984187), np.float64(0.09719262413225355), np.float64(0.09836571346491095), np.float64(0.09901439703561198), np.float64(0.0993073507707802), np.float64(0.1000601165525342), np.float64(0.10062693935503267), np.float64(0.10158949897761779), np.float64(0.10241063485717623), np.float64(0.10355671265295242), np.float64(0.10597465044102075), np.float64(0.10715001147469409), np.float64(0.10625910200383124), np.float64(0.10650979672288931), np.float64(0.10756119655311393), np.float64(0.10681847078415135), np.float64(0.11132227099419412), np.float64(0.10908043455851352), np.float64(0.11182715296224598), np.float64(0.11146517106758687), np.float64(0.11194331333406678), np.float64(0.11250293984532005), np.float64(0.11084282070687482), np.float64(0.11190706038612121), np.float64(0.11473276721107428), np.float64(0.1127756008997882), np.float64(0.11499586167848594), np.float64(0.11577953401949984), np.float64(0.11465364546155095), np.float64(0.11511287943915191), np.float64(0.11674387737111709)]\n"
     ]
    },
    {
     "name": "stderr",
     "output_type": "stream",
     "text": [
      "2it [00:01,  1.48it/s]"
     ]
    },
    {
     "name": "stdout",
     "output_type": "stream",
     "text": [
      "0.19009890188077774\n",
      "0.0009959864755805163\n"
     ]
    },
    {
     "name": "stderr",
     "output_type": "stream",
     "text": [
      "102it [00:25,  2.10it/s]"
     ]
    },
    {
     "name": "stdout",
     "output_type": "stream",
     "text": [
      "0.1668726654985035\n",
      "0.0009959468530816632\n"
     ]
    },
    {
     "name": "stderr",
     "output_type": "stream",
     "text": [
      "202it [00:51,  2.16it/s]"
     ]
    },
    {
     "name": "stdout",
     "output_type": "stream",
     "text": [
      "0.1876328305736358\n",
      "0.000995907036764768\n"
     ]
    },
    {
     "name": "stderr",
     "output_type": "stream",
     "text": [
      "260it [01:05,  3.95it/s]\n",
      "17it [00:05,  2.96it/s]\n"
     ]
    },
    {
     "name": "stdout",
     "output_type": "stream",
     "text": [
      "[np.float64(0.002352833010047405), np.float64(0.013746444751963757), np.float64(0.018338345450158312), np.float64(0.02163310455341449), np.float64(0.0203284007589206), np.float64(0.03117565276524625), np.float64(0.027712965407404564), np.float64(0.016135712664511626), np.float64(0.023820057168421057), np.float64(0.03239114937923369), np.float64(0.041323389215398416), np.float64(0.04967526027500154), np.float64(0.05073290864247075), np.float64(0.053400566852292074), np.float64(0.05351496409619457), np.float64(0.058879666397252436), np.float64(0.05938497509655771), np.float64(0.056533665451196854), np.float64(0.0630658290385137), np.float64(0.0645196977191566), np.float64(0.06851289119772476), np.float64(0.06882251161173344), np.float64(0.07239022984747082), np.float64(0.07357276420715408), np.float64(0.07477666506498064), np.float64(0.07553830730071778), np.float64(0.07651693792887751), np.float64(0.07697299010679684), np.float64(0.08015278872767703), np.float64(0.08026270546324005), np.float64(0.0792340580475181), np.float64(0.07887772685321137), np.float64(0.07718531229567721), np.float64(0.07970371540091477), np.float64(0.08416523015908534), np.float64(0.08103152798975491), np.float64(0.08538004722939387), np.float64(0.08862376906197947), np.float64(0.08749738125533531), np.float64(0.08976170296554715), np.float64(0.09033637463340279), np.float64(0.09249658564099468), np.float64(0.09320919863038105), np.float64(0.09541194123415486), np.float64(0.09400006414252862), np.float64(0.0962382231561867), np.float64(0.09709465010494078), np.float64(0.09656281186559712), np.float64(0.09862929035984187), np.float64(0.09719262413225355), np.float64(0.09836571346491095), np.float64(0.09901439703561198), np.float64(0.0993073507707802), np.float64(0.1000601165525342), np.float64(0.10062693935503267), np.float64(0.10158949897761779), np.float64(0.10241063485717623), np.float64(0.10355671265295242), np.float64(0.10597465044102075), np.float64(0.10715001147469409), np.float64(0.10625910200383124), np.float64(0.10650979672288931), np.float64(0.10756119655311393), np.float64(0.10681847078415135), np.float64(0.11132227099419412), np.float64(0.10908043455851352), np.float64(0.11182715296224598), np.float64(0.11146517106758687), np.float64(0.11194331333406678), np.float64(0.11250293984532005), np.float64(0.11084282070687482), np.float64(0.11190706038612121), np.float64(0.11473276721107428), np.float64(0.1127756008997882), np.float64(0.11499586167848594), np.float64(0.11577953401949984), np.float64(0.11465364546155095), np.float64(0.11511287943915191), np.float64(0.11674387737111709), np.float64(0.11569652448786863)]\n"
     ]
    },
    {
     "name": "stderr",
     "output_type": "stream",
     "text": [
      "2it [00:00,  2.51it/s]"
     ]
    },
    {
     "name": "stdout",
     "output_type": "stream",
     "text": [
      "0.18638587908705032\n",
      "0.0009958830539485068\n"
     ]
    },
    {
     "name": "stderr",
     "output_type": "stream",
     "text": [
      "102it [00:26,  1.74it/s]"
     ]
    },
    {
     "name": "stdout",
     "output_type": "stream",
     "text": [
      "0.1868349986593409\n",
      "0.0009958429275554715\n"
     ]
    },
    {
     "name": "stderr",
     "output_type": "stream",
     "text": [
      "202it [00:50,  2.41it/s]"
     ]
    },
    {
     "name": "stdout",
     "output_type": "stream",
     "text": [
      "0.1854598553438075\n",
      "0.0009958026073854213\n"
     ]
    },
    {
     "name": "stderr",
     "output_type": "stream",
     "text": [
      "260it [01:02,  4.17it/s]\n",
      "17it [00:06,  2.48it/s]\n"
     ]
    },
    {
     "name": "stdout",
     "output_type": "stream",
     "text": [
      "[np.float64(0.002352833010047405), np.float64(0.013746444751963757), np.float64(0.018338345450158312), np.float64(0.02163310455341449), np.float64(0.0203284007589206), np.float64(0.03117565276524625), np.float64(0.027712965407404564), np.float64(0.016135712664511626), np.float64(0.023820057168421057), np.float64(0.03239114937923369), np.float64(0.041323389215398416), np.float64(0.04967526027500154), np.float64(0.05073290864247075), np.float64(0.053400566852292074), np.float64(0.05351496409619457), np.float64(0.058879666397252436), np.float64(0.05938497509655771), np.float64(0.056533665451196854), np.float64(0.0630658290385137), np.float64(0.0645196977191566), np.float64(0.06851289119772476), np.float64(0.06882251161173344), np.float64(0.07239022984747082), np.float64(0.07357276420715408), np.float64(0.07477666506498064), np.float64(0.07553830730071778), np.float64(0.07651693792887751), np.float64(0.07697299010679684), np.float64(0.08015278872767703), np.float64(0.08026270546324005), np.float64(0.0792340580475181), np.float64(0.07887772685321137), np.float64(0.07718531229567721), np.float64(0.07970371540091477), np.float64(0.08416523015908534), np.float64(0.08103152798975491), np.float64(0.08538004722939387), np.float64(0.08862376906197947), np.float64(0.08749738125533531), np.float64(0.08976170296554715), np.float64(0.09033637463340279), np.float64(0.09249658564099468), np.float64(0.09320919863038105), np.float64(0.09541194123415486), np.float64(0.09400006414252862), np.float64(0.0962382231561867), np.float64(0.09709465010494078), np.float64(0.09656281186559712), np.float64(0.09862929035984187), np.float64(0.09719262413225355), np.float64(0.09836571346491095), np.float64(0.09901439703561198), np.float64(0.0993073507707802), np.float64(0.1000601165525342), np.float64(0.10062693935503267), np.float64(0.10158949897761779), np.float64(0.10241063485717623), np.float64(0.10355671265295242), np.float64(0.10597465044102075), np.float64(0.10715001147469409), np.float64(0.10625910200383124), np.float64(0.10650979672288931), np.float64(0.10756119655311393), np.float64(0.10681847078415135), np.float64(0.11132227099419412), np.float64(0.10908043455851352), np.float64(0.11182715296224598), np.float64(0.11146517106758687), np.float64(0.11194331333406678), np.float64(0.11250293984532005), np.float64(0.11084282070687482), np.float64(0.11190706038612121), np.float64(0.11473276721107428), np.float64(0.1127756008997882), np.float64(0.11499586167848594), np.float64(0.11577953401949984), np.float64(0.11465364546155095), np.float64(0.11511287943915191), np.float64(0.11674387737111709), np.float64(0.11569652448786863), np.float64(0.11721183095050358)]\n"
     ]
    },
    {
     "name": "stderr",
     "output_type": "stream",
     "text": [
      "2it [00:01,  1.40it/s]"
     ]
    },
    {
     "name": "stdout",
     "output_type": "stream",
     "text": [
      "0.18946021070450347\n",
      "0.0009957783222770426\n"
     ]
    },
    {
     "name": "stderr",
     "output_type": "stream",
     "text": [
      "102it [00:25,  2.46it/s]"
     ]
    },
    {
     "name": "stdout",
     "output_type": "stream",
     "text": [
      "0.18881630283229858\n",
      "0.000995737692096911\n"
     ]
    },
    {
     "name": "stderr",
     "output_type": "stream",
     "text": [
      "202it [00:48,  2.82it/s]"
     ]
    },
    {
     "name": "stdout",
     "output_type": "stream",
     "text": [
      "0.1797439672422096\n",
      "0.0009956968681813102\n"
     ]
    },
    {
     "name": "stderr",
     "output_type": "stream",
     "text": [
      "260it [01:00,  4.27it/s]\n",
      "17it [00:07,  2.23it/s]\n"
     ]
    },
    {
     "name": "stdout",
     "output_type": "stream",
     "text": [
      "[np.float64(0.002352833010047405), np.float64(0.013746444751963757), np.float64(0.018338345450158312), np.float64(0.02163310455341449), np.float64(0.0203284007589206), np.float64(0.03117565276524625), np.float64(0.027712965407404564), np.float64(0.016135712664511626), np.float64(0.023820057168421057), np.float64(0.03239114937923369), np.float64(0.041323389215398416), np.float64(0.04967526027500154), np.float64(0.05073290864247075), np.float64(0.053400566852292074), np.float64(0.05351496409619457), np.float64(0.058879666397252436), np.float64(0.05938497509655771), np.float64(0.056533665451196854), np.float64(0.0630658290385137), np.float64(0.0645196977191566), np.float64(0.06851289119772476), np.float64(0.06882251161173344), np.float64(0.07239022984747082), np.float64(0.07357276420715408), np.float64(0.07477666506498064), np.float64(0.07553830730071778), np.float64(0.07651693792887751), np.float64(0.07697299010679684), np.float64(0.08015278872767703), np.float64(0.08026270546324005), np.float64(0.0792340580475181), np.float64(0.07887772685321137), np.float64(0.07718531229567721), np.float64(0.07970371540091477), np.float64(0.08416523015908534), np.float64(0.08103152798975491), np.float64(0.08538004722939387), np.float64(0.08862376906197947), np.float64(0.08749738125533531), np.float64(0.08976170296554715), np.float64(0.09033637463340279), np.float64(0.09249658564099468), np.float64(0.09320919863038105), np.float64(0.09541194123415486), np.float64(0.09400006414252862), np.float64(0.0962382231561867), np.float64(0.09709465010494078), np.float64(0.09656281186559712), np.float64(0.09862929035984187), np.float64(0.09719262413225355), np.float64(0.09836571346491095), np.float64(0.09901439703561198), np.float64(0.0993073507707802), np.float64(0.1000601165525342), np.float64(0.10062693935503267), np.float64(0.10158949897761779), np.float64(0.10241063485717623), np.float64(0.10355671265295242), np.float64(0.10597465044102075), np.float64(0.10715001147469409), np.float64(0.10625910200383124), np.float64(0.10650979672288931), np.float64(0.10756119655311393), np.float64(0.10681847078415135), np.float64(0.11132227099419412), np.float64(0.10908043455851352), np.float64(0.11182715296224598), np.float64(0.11146517106758687), np.float64(0.11194331333406678), np.float64(0.11250293984532005), np.float64(0.11084282070687482), np.float64(0.11190706038612121), np.float64(0.11473276721107428), np.float64(0.1127756008997882), np.float64(0.11499586167848594), np.float64(0.11577953401949984), np.float64(0.11465364546155095), np.float64(0.11511287943915191), np.float64(0.11674387737111709), np.float64(0.11569652448786863), np.float64(0.11721183095050358), np.float64(0.11897614462236568)]\n"
     ]
    },
    {
     "name": "stderr",
     "output_type": "stream",
     "text": [
      "2it [00:01,  1.75it/s]"
     ]
    },
    {
     "name": "stdout",
     "output_type": "stream",
     "text": [
      "0.19119408529178314\n",
      "0.0009956722808456254\n"
     ]
    },
    {
     "name": "stderr",
     "output_type": "stream",
     "text": [
      "102it [00:25,  2.24it/s]"
     ]
    },
    {
     "name": "stdout",
     "output_type": "stream",
     "text": [
      "0.19851626690728322\n",
      "0.000995631146986829\n"
     ]
    },
    {
     "name": "stderr",
     "output_type": "stream",
     "text": [
      "202it [00:48,  2.23it/s]"
     ]
    },
    {
     "name": "stdout",
     "output_type": "stream",
     "text": [
      "0.18378156286812078\n",
      "0.0009955898194346246\n"
     ]
    },
    {
     "name": "stderr",
     "output_type": "stream",
     "text": [
      "260it [01:02,  4.15it/s]\n",
      "17it [00:06,  2.82it/s]\n"
     ]
    },
    {
     "name": "stdout",
     "output_type": "stream",
     "text": [
      "[np.float64(0.002352833010047405), np.float64(0.013746444751963757), np.float64(0.018338345450158312), np.float64(0.02163310455341449), np.float64(0.0203284007589206), np.float64(0.03117565276524625), np.float64(0.027712965407404564), np.float64(0.016135712664511626), np.float64(0.023820057168421057), np.float64(0.03239114937923369), np.float64(0.041323389215398416), np.float64(0.04967526027500154), np.float64(0.05073290864247075), np.float64(0.053400566852292074), np.float64(0.05351496409619457), np.float64(0.058879666397252436), np.float64(0.05938497509655771), np.float64(0.056533665451196854), np.float64(0.0630658290385137), np.float64(0.0645196977191566), np.float64(0.06851289119772476), np.float64(0.06882251161173344), np.float64(0.07239022984747082), np.float64(0.07357276420715408), np.float64(0.07477666506498064), np.float64(0.07553830730071778), np.float64(0.07651693792887751), np.float64(0.07697299010679684), np.float64(0.08015278872767703), np.float64(0.08026270546324005), np.float64(0.0792340580475181), np.float64(0.07887772685321137), np.float64(0.07718531229567721), np.float64(0.07970371540091477), np.float64(0.08416523015908534), np.float64(0.08103152798975491), np.float64(0.08538004722939387), np.float64(0.08862376906197947), np.float64(0.08749738125533531), np.float64(0.08976170296554715), np.float64(0.09033637463340279), np.float64(0.09249658564099468), np.float64(0.09320919863038105), np.float64(0.09541194123415486), np.float64(0.09400006414252862), np.float64(0.0962382231561867), np.float64(0.09709465010494078), np.float64(0.09656281186559712), np.float64(0.09862929035984187), np.float64(0.09719262413225355), np.float64(0.09836571346491095), np.float64(0.09901439703561198), np.float64(0.0993073507707802), np.float64(0.1000601165525342), np.float64(0.10062693935503267), np.float64(0.10158949897761779), np.float64(0.10241063485717623), np.float64(0.10355671265295242), np.float64(0.10597465044102075), np.float64(0.10715001147469409), np.float64(0.10625910200383124), np.float64(0.10650979672288931), np.float64(0.10756119655311393), np.float64(0.10681847078415135), np.float64(0.11132227099419412), np.float64(0.10908043455851352), np.float64(0.11182715296224598), np.float64(0.11146517106758687), np.float64(0.11194331333406678), np.float64(0.11250293984532005), np.float64(0.11084282070687482), np.float64(0.11190706038612121), np.float64(0.11473276721107428), np.float64(0.1127756008997882), np.float64(0.11499586167848594), np.float64(0.11577953401949984), np.float64(0.11465364546155095), np.float64(0.11511287943915191), np.float64(0.11674387737111709), np.float64(0.11569652448786863), np.float64(0.11721183095050358), np.float64(0.11897614462236568), np.float64(0.11784312667911227)]\n"
     ]
    },
    {
     "name": "stderr",
     "output_type": "stream",
     "text": [
      "2it [00:00,  2.36it/s]"
     ]
    },
    {
     "name": "stdout",
     "output_type": "stream",
     "text": [
      "0.1854126266206888\n",
      "0.0009955649299372513\n"
     ]
    },
    {
     "name": "stderr",
     "output_type": "stream",
     "text": [
      "102it [00:25,  2.19it/s]"
     ]
    },
    {
     "name": "stdout",
     "output_type": "stream",
     "text": [
      "0.1818748314318504\n",
      "0.000995523292509565\n"
     ]
    },
    {
     "name": "stderr",
     "output_type": "stream",
     "text": [
      "202it [00:48,  2.19it/s]"
     ]
    },
    {
     "name": "stdout",
     "output_type": "stream",
     "text": [
      "0.18860307400518325\n",
      "0.0009954814614310515\n"
     ]
    },
    {
     "name": "stderr",
     "output_type": "stream",
     "text": [
      "260it [01:01,  4.24it/s]\n",
      "17it [00:06,  2.83it/s]\n"
     ]
    },
    {
     "name": "stdout",
     "output_type": "stream",
     "text": [
      "[np.float64(0.002352833010047405), np.float64(0.013746444751963757), np.float64(0.018338345450158312), np.float64(0.02163310455341449), np.float64(0.0203284007589206), np.float64(0.03117565276524625), np.float64(0.027712965407404564), np.float64(0.016135712664511626), np.float64(0.023820057168421057), np.float64(0.03239114937923369), np.float64(0.041323389215398416), np.float64(0.04967526027500154), np.float64(0.05073290864247075), np.float64(0.053400566852292074), np.float64(0.05351496409619457), np.float64(0.058879666397252436), np.float64(0.05938497509655771), np.float64(0.056533665451196854), np.float64(0.0630658290385137), np.float64(0.0645196977191566), np.float64(0.06851289119772476), np.float64(0.06882251161173344), np.float64(0.07239022984747082), np.float64(0.07357276420715408), np.float64(0.07477666506498064), np.float64(0.07553830730071778), np.float64(0.07651693792887751), np.float64(0.07697299010679684), np.float64(0.08015278872767703), np.float64(0.08026270546324005), np.float64(0.0792340580475181), np.float64(0.07887772685321137), np.float64(0.07718531229567721), np.float64(0.07970371540091477), np.float64(0.08416523015908534), np.float64(0.08103152798975491), np.float64(0.08538004722939387), np.float64(0.08862376906197947), np.float64(0.08749738125533531), np.float64(0.08976170296554715), np.float64(0.09033637463340279), np.float64(0.09249658564099468), np.float64(0.09320919863038105), np.float64(0.09541194123415486), np.float64(0.09400006414252862), np.float64(0.0962382231561867), np.float64(0.09709465010494078), np.float64(0.09656281186559712), np.float64(0.09862929035984187), np.float64(0.09719262413225355), np.float64(0.09836571346491095), np.float64(0.09901439703561198), np.float64(0.0993073507707802), np.float64(0.1000601165525342), np.float64(0.10062693935503267), np.float64(0.10158949897761779), np.float64(0.10241063485717623), np.float64(0.10355671265295242), np.float64(0.10597465044102075), np.float64(0.10715001147469409), np.float64(0.10625910200383124), np.float64(0.10650979672288931), np.float64(0.10756119655311393), np.float64(0.10681847078415135), np.float64(0.11132227099419412), np.float64(0.10908043455851352), np.float64(0.11182715296224598), np.float64(0.11146517106758687), np.float64(0.11194331333406678), np.float64(0.11250293984532005), np.float64(0.11084282070687482), np.float64(0.11190706038612121), np.float64(0.11473276721107428), np.float64(0.1127756008997882), np.float64(0.11499586167848594), np.float64(0.11577953401949984), np.float64(0.11465364546155095), np.float64(0.11511287943915191), np.float64(0.11674387737111709), np.float64(0.11569652448786863), np.float64(0.11721183095050358), np.float64(0.11897614462236568), np.float64(0.11784312667911227), np.float64(0.11954688303483459)]\n"
     ]
    },
    {
     "name": "stderr",
     "output_type": "stream",
     "text": [
      "2it [00:01,  1.59it/s]"
     ]
    },
    {
     "name": "stdout",
     "output_type": "stream",
     "text": [
      "0.19808575504131337\n",
      "0.0009954562698384108\n"
     ]
    },
    {
     "name": "stderr",
     "output_type": "stream",
     "text": [
      "102it [00:25,  2.30it/s]"
     ]
    },
    {
     "name": "stdout",
     "output_type": "stream",
     "text": [
      "0.1981491856875458\n",
      "0.0009954141289529534\n"
     ]
    },
    {
     "name": "stderr",
     "output_type": "stream",
     "text": [
      "202it [00:49,  2.52it/s]"
     ]
    },
    {
     "name": "stdout",
     "output_type": "stream",
     "text": [
      "0.1870403492843848\n",
      "0.0009953717944597644\n"
     ]
    },
    {
     "name": "stderr",
     "output_type": "stream",
     "text": [
      "260it [01:01,  4.21it/s]\n",
      "17it [00:06,  2.50it/s]\n"
     ]
    },
    {
     "name": "stdout",
     "output_type": "stream",
     "text": [
      "[np.float64(0.002352833010047405), np.float64(0.013746444751963757), np.float64(0.018338345450158312), np.float64(0.02163310455341449), np.float64(0.0203284007589206), np.float64(0.03117565276524625), np.float64(0.027712965407404564), np.float64(0.016135712664511626), np.float64(0.023820057168421057), np.float64(0.03239114937923369), np.float64(0.041323389215398416), np.float64(0.04967526027500154), np.float64(0.05073290864247075), np.float64(0.053400566852292074), np.float64(0.05351496409619457), np.float64(0.058879666397252436), np.float64(0.05938497509655771), np.float64(0.056533665451196854), np.float64(0.0630658290385137), np.float64(0.0645196977191566), np.float64(0.06851289119772476), np.float64(0.06882251161173344), np.float64(0.07239022984747082), np.float64(0.07357276420715408), np.float64(0.07477666506498064), np.float64(0.07553830730071778), np.float64(0.07651693792887751), np.float64(0.07697299010679684), np.float64(0.08015278872767703), np.float64(0.08026270546324005), np.float64(0.0792340580475181), np.float64(0.07887772685321137), np.float64(0.07718531229567721), np.float64(0.07970371540091477), np.float64(0.08416523015908534), np.float64(0.08103152798975491), np.float64(0.08538004722939387), np.float64(0.08862376906197947), np.float64(0.08749738125533531), np.float64(0.08976170296554715), np.float64(0.09033637463340279), np.float64(0.09249658564099468), np.float64(0.09320919863038105), np.float64(0.09541194123415486), np.float64(0.09400006414252862), np.float64(0.0962382231561867), np.float64(0.09709465010494078), np.float64(0.09656281186559712), np.float64(0.09862929035984187), np.float64(0.09719262413225355), np.float64(0.09836571346491095), np.float64(0.09901439703561198), np.float64(0.0993073507707802), np.float64(0.1000601165525342), np.float64(0.10062693935503267), np.float64(0.10158949897761779), np.float64(0.10241063485717623), np.float64(0.10355671265295242), np.float64(0.10597465044102075), np.float64(0.10715001147469409), np.float64(0.10625910200383124), np.float64(0.10650979672288931), np.float64(0.10756119655311393), np.float64(0.10681847078415135), np.float64(0.11132227099419412), np.float64(0.10908043455851352), np.float64(0.11182715296224598), np.float64(0.11146517106758687), np.float64(0.11194331333406678), np.float64(0.11250293984532005), np.float64(0.11084282070687482), np.float64(0.11190706038612121), np.float64(0.11473276721107428), np.float64(0.1127756008997882), np.float64(0.11499586167848594), np.float64(0.11577953401949984), np.float64(0.11465364546155095), np.float64(0.11511287943915191), np.float64(0.11674387737111709), np.float64(0.11569652448786863), np.float64(0.11721183095050358), np.float64(0.11897614462236568), np.float64(0.11784312667911227), np.float64(0.11954688303483459), np.float64(0.11941439994393395)]\n"
     ]
    },
    {
     "name": "stderr",
     "output_type": "stream",
     "text": [
      "2it [00:01,  1.61it/s]"
     ]
    },
    {
     "name": "stdout",
     "output_type": "stream",
     "text": [
      "0.19196422847845357\n",
      "0.0009953463008390896\n"
     ]
    },
    {
     "name": "stderr",
     "output_type": "stream",
     "text": [
      "102it [00:24,  2.35it/s]"
     ]
    },
    {
     "name": "stdout",
     "output_type": "stream",
     "text": [
      "0.1815662404116969\n",
      "0.0009953036566083258\n"
     ]
    },
    {
     "name": "stderr",
     "output_type": "stream",
     "text": [
      "202it [00:47,  1.97it/s]"
     ]
    },
    {
     "name": "stdout",
     "output_type": "stream",
     "text": [
      "0.19501951728812847\n",
      "0.0009952608188134435\n"
     ]
    },
    {
     "name": "stderr",
     "output_type": "stream",
     "text": [
      "260it [01:00,  4.30it/s]\n",
      "17it [00:08,  2.10it/s]\n"
     ]
    },
    {
     "name": "stdout",
     "output_type": "stream",
     "text": [
      "[np.float64(0.002352833010047405), np.float64(0.013746444751963757), np.float64(0.018338345450158312), np.float64(0.02163310455341449), np.float64(0.0203284007589206), np.float64(0.03117565276524625), np.float64(0.027712965407404564), np.float64(0.016135712664511626), np.float64(0.023820057168421057), np.float64(0.03239114937923369), np.float64(0.041323389215398416), np.float64(0.04967526027500154), np.float64(0.05073290864247075), np.float64(0.053400566852292074), np.float64(0.05351496409619457), np.float64(0.058879666397252436), np.float64(0.05938497509655771), np.float64(0.056533665451196854), np.float64(0.0630658290385137), np.float64(0.0645196977191566), np.float64(0.06851289119772476), np.float64(0.06882251161173344), np.float64(0.07239022984747082), np.float64(0.07357276420715408), np.float64(0.07477666506498064), np.float64(0.07553830730071778), np.float64(0.07651693792887751), np.float64(0.07697299010679684), np.float64(0.08015278872767703), np.float64(0.08026270546324005), np.float64(0.0792340580475181), np.float64(0.07887772685321137), np.float64(0.07718531229567721), np.float64(0.07970371540091477), np.float64(0.08416523015908534), np.float64(0.08103152798975491), np.float64(0.08538004722939387), np.float64(0.08862376906197947), np.float64(0.08749738125533531), np.float64(0.08976170296554715), np.float64(0.09033637463340279), np.float64(0.09249658564099468), np.float64(0.09320919863038105), np.float64(0.09541194123415486), np.float64(0.09400006414252862), np.float64(0.0962382231561867), np.float64(0.09709465010494078), np.float64(0.09656281186559712), np.float64(0.09862929035984187), np.float64(0.09719262413225355), np.float64(0.09836571346491095), np.float64(0.09901439703561198), np.float64(0.0993073507707802), np.float64(0.1000601165525342), np.float64(0.10062693935503267), np.float64(0.10158949897761779), np.float64(0.10241063485717623), np.float64(0.10355671265295242), np.float64(0.10597465044102075), np.float64(0.10715001147469409), np.float64(0.10625910200383124), np.float64(0.10650979672288931), np.float64(0.10756119655311393), np.float64(0.10681847078415135), np.float64(0.11132227099419412), np.float64(0.10908043455851352), np.float64(0.11182715296224598), np.float64(0.11146517106758687), np.float64(0.11194331333406678), np.float64(0.11250293984532005), np.float64(0.11084282070687482), np.float64(0.11190706038612121), np.float64(0.11473276721107428), np.float64(0.1127756008997882), np.float64(0.11499586167848594), np.float64(0.11577953401949984), np.float64(0.11465364546155095), np.float64(0.11511287943915191), np.float64(0.11674387737111709), np.float64(0.11569652448786863), np.float64(0.11721183095050358), np.float64(0.11897614462236568), np.float64(0.11784312667911227), np.float64(0.11954688303483459), np.float64(0.11941439994393395), np.float64(0.12070604801103874)]\n"
     ]
    },
    {
     "name": "stderr",
     "output_type": "stream",
     "text": [
      "2it [00:01,  1.40it/s]"
     ]
    },
    {
     "name": "stdout",
     "output_type": "stream",
     "text": [
      "0.19357762025706807\n",
      "0.0009952350232327678\n"
     ]
    },
    {
     "name": "stderr",
     "output_type": "stream",
     "text": [
      "102it [00:24,  2.24it/s]"
     ]
    },
    {
     "name": "stdout",
     "output_type": "stream",
     "text": [
      "0.19982248958955345\n",
      "0.000995191875770503\n"
     ]
    },
    {
     "name": "stderr",
     "output_type": "stream",
     "text": [
      "202it [00:50,  2.01it/s]"
     ]
    },
    {
     "name": "stdout",
     "output_type": "stream",
     "text": [
      "0.18873010122245543\n",
      "0.0009951485347882486\n"
     ]
    },
    {
     "name": "stderr",
     "output_type": "stream",
     "text": [
      "260it [01:03,  4.11it/s]\n",
      "17it [00:06,  2.55it/s]\n"
     ]
    },
    {
     "name": "stdout",
     "output_type": "stream",
     "text": [
      "[np.float64(0.002352833010047405), np.float64(0.013746444751963757), np.float64(0.018338345450158312), np.float64(0.02163310455341449), np.float64(0.0203284007589206), np.float64(0.03117565276524625), np.float64(0.027712965407404564), np.float64(0.016135712664511626), np.float64(0.023820057168421057), np.float64(0.03239114937923369), np.float64(0.041323389215398416), np.float64(0.04967526027500154), np.float64(0.05073290864247075), np.float64(0.053400566852292074), np.float64(0.05351496409619457), np.float64(0.058879666397252436), np.float64(0.05938497509655771), np.float64(0.056533665451196854), np.float64(0.0630658290385137), np.float64(0.0645196977191566), np.float64(0.06851289119772476), np.float64(0.06882251161173344), np.float64(0.07239022984747082), np.float64(0.07357276420715408), np.float64(0.07477666506498064), np.float64(0.07553830730071778), np.float64(0.07651693792887751), np.float64(0.07697299010679684), np.float64(0.08015278872767703), np.float64(0.08026270546324005), np.float64(0.0792340580475181), np.float64(0.07887772685321137), np.float64(0.07718531229567721), np.float64(0.07970371540091477), np.float64(0.08416523015908534), np.float64(0.08103152798975491), np.float64(0.08538004722939387), np.float64(0.08862376906197947), np.float64(0.08749738125533531), np.float64(0.08976170296554715), np.float64(0.09033637463340279), np.float64(0.09249658564099468), np.float64(0.09320919863038105), np.float64(0.09541194123415486), np.float64(0.09400006414252862), np.float64(0.0962382231561867), np.float64(0.09709465010494078), np.float64(0.09656281186559712), np.float64(0.09862929035984187), np.float64(0.09719262413225355), np.float64(0.09836571346491095), np.float64(0.09901439703561198), np.float64(0.0993073507707802), np.float64(0.1000601165525342), np.float64(0.10062693935503267), np.float64(0.10158949897761779), np.float64(0.10241063485717623), np.float64(0.10355671265295242), np.float64(0.10597465044102075), np.float64(0.10715001147469409), np.float64(0.10625910200383124), np.float64(0.10650979672288931), np.float64(0.10756119655311393), np.float64(0.10681847078415135), np.float64(0.11132227099419412), np.float64(0.10908043455851352), np.float64(0.11182715296224598), np.float64(0.11146517106758687), np.float64(0.11194331333406678), np.float64(0.11250293984532005), np.float64(0.11084282070687482), np.float64(0.11190706038612121), np.float64(0.11473276721107428), np.float64(0.1127756008997882), np.float64(0.11499586167848594), np.float64(0.11577953401949984), np.float64(0.11465364546155095), np.float64(0.11511287943915191), np.float64(0.11674387737111709), np.float64(0.11569652448786863), np.float64(0.11721183095050358), np.float64(0.11897614462236568), np.float64(0.11784312667911227), np.float64(0.11954688303483459), np.float64(0.11941439994393395), np.float64(0.12070604801103874), np.float64(0.11969476126322358)]\n"
     ]
    },
    {
     "name": "stderr",
     "output_type": "stream",
     "text": [
      "2it [00:01,  1.75it/s]"
     ]
    },
    {
     "name": "stdout",
     "output_type": "stream",
     "text": [
      "0.1915367144617437\n",
      "0.000995122437316416\n"
     ]
    },
    {
     "name": "stderr",
     "output_type": "stream",
     "text": [
      "102it [00:24,  2.53it/s]"
     ]
    },
    {
     "name": "stdout",
     "output_type": "stream",
     "text": [
      "0.1796486077302438\n",
      "0.000995078786737801\n"
     ]
    },
    {
     "name": "stderr",
     "output_type": "stream",
     "text": [
      "202it [00:50,  2.11it/s]"
     ]
    },
    {
     "name": "stdout",
     "output_type": "stream",
     "text": [
      "0.18533825422626082\n",
      "0.0009950349426838417\n"
     ]
    },
    {
     "name": "stderr",
     "output_type": "stream",
     "text": [
      "260it [01:04,  4.04it/s]\n",
      "17it [00:06,  2.49it/s]\n"
     ]
    },
    {
     "name": "stdout",
     "output_type": "stream",
     "text": [
      "[np.float64(0.002352833010047405), np.float64(0.013746444751963757), np.float64(0.018338345450158312), np.float64(0.02163310455341449), np.float64(0.0203284007589206), np.float64(0.03117565276524625), np.float64(0.027712965407404564), np.float64(0.016135712664511626), np.float64(0.023820057168421057), np.float64(0.03239114937923369), np.float64(0.041323389215398416), np.float64(0.04967526027500154), np.float64(0.05073290864247075), np.float64(0.053400566852292074), np.float64(0.05351496409619457), np.float64(0.058879666397252436), np.float64(0.05938497509655771), np.float64(0.056533665451196854), np.float64(0.0630658290385137), np.float64(0.0645196977191566), np.float64(0.06851289119772476), np.float64(0.06882251161173344), np.float64(0.07239022984747082), np.float64(0.07357276420715408), np.float64(0.07477666506498064), np.float64(0.07553830730071778), np.float64(0.07651693792887751), np.float64(0.07697299010679684), np.float64(0.08015278872767703), np.float64(0.08026270546324005), np.float64(0.0792340580475181), np.float64(0.07887772685321137), np.float64(0.07718531229567721), np.float64(0.07970371540091477), np.float64(0.08416523015908534), np.float64(0.08103152798975491), np.float64(0.08538004722939387), np.float64(0.08862376906197947), np.float64(0.08749738125533531), np.float64(0.08976170296554715), np.float64(0.09033637463340279), np.float64(0.09249658564099468), np.float64(0.09320919863038105), np.float64(0.09541194123415486), np.float64(0.09400006414252862), np.float64(0.0962382231561867), np.float64(0.09709465010494078), np.float64(0.09656281186559712), np.float64(0.09862929035984187), np.float64(0.09719262413225355), np.float64(0.09836571346491095), np.float64(0.09901439703561198), np.float64(0.0993073507707802), np.float64(0.1000601165525342), np.float64(0.10062693935503267), np.float64(0.10158949897761779), np.float64(0.10241063485717623), np.float64(0.10355671265295242), np.float64(0.10597465044102075), np.float64(0.10715001147469409), np.float64(0.10625910200383124), np.float64(0.10650979672288931), np.float64(0.10756119655311393), np.float64(0.10681847078415135), np.float64(0.11132227099419412), np.float64(0.10908043455851352), np.float64(0.11182715296224598), np.float64(0.11146517106758687), np.float64(0.11194331333406678), np.float64(0.11250293984532005), np.float64(0.11084282070687482), np.float64(0.11190706038612121), np.float64(0.11473276721107428), np.float64(0.1127756008997882), np.float64(0.11499586167848594), np.float64(0.11577953401949984), np.float64(0.11465364546155095), np.float64(0.11511287943915191), np.float64(0.11674387737111709), np.float64(0.11569652448786863), np.float64(0.11721183095050358), np.float64(0.11897614462236568), np.float64(0.11784312667911227), np.float64(0.11954688303483459), np.float64(0.11941439994393395), np.float64(0.12070604801103874), np.float64(0.11969476126322358), np.float64(0.12157888270369524)]\n"
     ]
    },
    {
     "name": "stderr",
     "output_type": "stream",
     "text": [
      "2it [00:00,  3.15it/s]"
     ]
    },
    {
     "name": "stdout",
     "output_type": "stream",
     "text": [
      "0.19302905300164622\n",
      "0.0009950085433904985\n"
     ]
    },
    {
     "name": "stderr",
     "output_type": "stream",
     "text": [
      "102it [00:24,  2.13it/s]"
     ]
    },
    {
     "name": "stdout",
     "output_type": "stream",
     "text": [
      "0.18184713735979824\n",
      "0.0009949643898120235\n"
     ]
    },
    {
     "name": "stderr",
     "output_type": "stream",
     "text": [
      "202it [00:48,  2.41it/s]"
     ]
    },
    {
     "name": "stdout",
     "output_type": "stream",
     "text": [
      "0.19167613468733116\n",
      "0.000994920042803367\n"
     ]
    },
    {
     "name": "stderr",
     "output_type": "stream",
     "text": [
      "260it [01:00,  4.27it/s]\n",
      "17it [00:05,  3.33it/s]\n"
     ]
    },
    {
     "name": "stdout",
     "output_type": "stream",
     "text": [
      "[np.float64(0.002352833010047405), np.float64(0.013746444751963757), np.float64(0.018338345450158312), np.float64(0.02163310455341449), np.float64(0.0203284007589206), np.float64(0.03117565276524625), np.float64(0.027712965407404564), np.float64(0.016135712664511626), np.float64(0.023820057168421057), np.float64(0.03239114937923369), np.float64(0.041323389215398416), np.float64(0.04967526027500154), np.float64(0.05073290864247075), np.float64(0.053400566852292074), np.float64(0.05351496409619457), np.float64(0.058879666397252436), np.float64(0.05938497509655771), np.float64(0.056533665451196854), np.float64(0.0630658290385137), np.float64(0.0645196977191566), np.float64(0.06851289119772476), np.float64(0.06882251161173344), np.float64(0.07239022984747082), np.float64(0.07357276420715408), np.float64(0.07477666506498064), np.float64(0.07553830730071778), np.float64(0.07651693792887751), np.float64(0.07697299010679684), np.float64(0.08015278872767703), np.float64(0.08026270546324005), np.float64(0.0792340580475181), np.float64(0.07887772685321137), np.float64(0.07718531229567721), np.float64(0.07970371540091477), np.float64(0.08416523015908534), np.float64(0.08103152798975491), np.float64(0.08538004722939387), np.float64(0.08862376906197947), np.float64(0.08749738125533531), np.float64(0.08976170296554715), np.float64(0.09033637463340279), np.float64(0.09249658564099468), np.float64(0.09320919863038105), np.float64(0.09541194123415486), np.float64(0.09400006414252862), np.float64(0.0962382231561867), np.float64(0.09709465010494078), np.float64(0.09656281186559712), np.float64(0.09862929035984187), np.float64(0.09719262413225355), np.float64(0.09836571346491095), np.float64(0.09901439703561198), np.float64(0.0993073507707802), np.float64(0.1000601165525342), np.float64(0.10062693935503267), np.float64(0.10158949897761779), np.float64(0.10241063485717623), np.float64(0.10355671265295242), np.float64(0.10597465044102075), np.float64(0.10715001147469409), np.float64(0.10625910200383124), np.float64(0.10650979672288931), np.float64(0.10756119655311393), np.float64(0.10681847078415135), np.float64(0.11132227099419412), np.float64(0.10908043455851352), np.float64(0.11182715296224598), np.float64(0.11146517106758687), np.float64(0.11194331333406678), np.float64(0.11250293984532005), np.float64(0.11084282070687482), np.float64(0.11190706038612121), np.float64(0.11473276721107428), np.float64(0.1127756008997882), np.float64(0.11499586167848594), np.float64(0.11577953401949984), np.float64(0.11465364546155095), np.float64(0.11511287943915191), np.float64(0.11674387737111709), np.float64(0.11569652448786863), np.float64(0.11721183095050358), np.float64(0.11897614462236568), np.float64(0.11784312667911227), np.float64(0.11954688303483459), np.float64(0.11941439994393395), np.float64(0.12070604801103874), np.float64(0.11969476126322358), np.float64(0.12157888270369524), np.float64(0.12016239147434443)]\n"
     ]
    },
    {
     "name": "stderr",
     "output_type": "stream",
     "text": [
      "2it [00:01,  1.39it/s]"
     ]
    },
    {
     "name": "stdout",
     "output_type": "stream",
     "text": [
      "0.19763808929893786\n",
      "0.000994893341758966\n"
     ]
    },
    {
     "name": "stderr",
     "output_type": "stream",
     "text": [
      "102it [00:26,  2.10it/s]"
     ]
    },
    {
     "name": "stdout",
     "output_type": "stream",
     "text": [
      "0.19675588969144286\n",
      "0.0009948486852984662\n"
     ]
    },
    {
     "name": "stderr",
     "output_type": "stream",
     "text": [
      "202it [00:50,  2.16it/s]"
     ]
    },
    {
     "name": "stdout",
     "output_type": "stream",
     "text": [
      "0.18067791668197303\n",
      "0.0009948038354534632\n"
     ]
    },
    {
     "name": "stderr",
     "output_type": "stream",
     "text": [
      "260it [01:03,  4.11it/s]\n",
      "17it [00:06,  2.65it/s]\n"
     ]
    },
    {
     "name": "stdout",
     "output_type": "stream",
     "text": [
      "[np.float64(0.002352833010047405), np.float64(0.013746444751963757), np.float64(0.018338345450158312), np.float64(0.02163310455341449), np.float64(0.0203284007589206), np.float64(0.03117565276524625), np.float64(0.027712965407404564), np.float64(0.016135712664511626), np.float64(0.023820057168421057), np.float64(0.03239114937923369), np.float64(0.041323389215398416), np.float64(0.04967526027500154), np.float64(0.05073290864247075), np.float64(0.053400566852292074), np.float64(0.05351496409619457), np.float64(0.058879666397252436), np.float64(0.05938497509655771), np.float64(0.056533665451196854), np.float64(0.0630658290385137), np.float64(0.0645196977191566), np.float64(0.06851289119772476), np.float64(0.06882251161173344), np.float64(0.07239022984747082), np.float64(0.07357276420715408), np.float64(0.07477666506498064), np.float64(0.07553830730071778), np.float64(0.07651693792887751), np.float64(0.07697299010679684), np.float64(0.08015278872767703), np.float64(0.08026270546324005), np.float64(0.0792340580475181), np.float64(0.07887772685321137), np.float64(0.07718531229567721), np.float64(0.07970371540091477), np.float64(0.08416523015908534), np.float64(0.08103152798975491), np.float64(0.08538004722939387), np.float64(0.08862376906197947), np.float64(0.08749738125533531), np.float64(0.08976170296554715), np.float64(0.09033637463340279), np.float64(0.09249658564099468), np.float64(0.09320919863038105), np.float64(0.09541194123415486), np.float64(0.09400006414252862), np.float64(0.0962382231561867), np.float64(0.09709465010494078), np.float64(0.09656281186559712), np.float64(0.09862929035984187), np.float64(0.09719262413225355), np.float64(0.09836571346491095), np.float64(0.09901439703561198), np.float64(0.0993073507707802), np.float64(0.1000601165525342), np.float64(0.10062693935503267), np.float64(0.10158949897761779), np.float64(0.10241063485717623), np.float64(0.10355671265295242), np.float64(0.10597465044102075), np.float64(0.10715001147469409), np.float64(0.10625910200383124), np.float64(0.10650979672288931), np.float64(0.10756119655311393), np.float64(0.10681847078415135), np.float64(0.11132227099419412), np.float64(0.10908043455851352), np.float64(0.11182715296224598), np.float64(0.11146517106758687), np.float64(0.11194331333406678), np.float64(0.11250293984532005), np.float64(0.11084282070687482), np.float64(0.11190706038612121), np.float64(0.11473276721107428), np.float64(0.1127756008997882), np.float64(0.11499586167848594), np.float64(0.11577953401949984), np.float64(0.11465364546155095), np.float64(0.11511287943915191), np.float64(0.11674387737111709), np.float64(0.11569652448786863), np.float64(0.11721183095050358), np.float64(0.11897614462236568), np.float64(0.11784312667911227), np.float64(0.11954688303483459), np.float64(0.11941439994393395), np.float64(0.12070604801103874), np.float64(0.11969476126322358), np.float64(0.12157888270369524), np.float64(0.12016239147434443), np.float64(0.1202038885946051)]\n"
     ]
    },
    {
     "name": "stderr",
     "output_type": "stream",
     "text": [
      "2it [00:01,  1.89it/s]"
     ]
    },
    {
     "name": "stdout",
     "output_type": "stream",
     "text": [
      "0.18761766555021256\n",
      "0.0009947768327292629\n"
     ]
    },
    {
     "name": "stderr",
     "output_type": "stream",
     "text": [
      "102it [00:26,  1.84it/s]"
     ]
    },
    {
     "name": "stdout",
     "output_type": "stream",
     "text": [
      "0.20280790805625434\n",
      "0.0009947316735059147\n"
     ]
    },
    {
     "name": "stderr",
     "output_type": "stream",
     "text": [
      "202it [00:48,  2.47it/s]"
     ]
    },
    {
     "name": "stdout",
     "output_type": "stream",
     "text": [
      "0.1910343408221254\n",
      "0.0009946863209442582\n"
     ]
    },
    {
     "name": "stderr",
     "output_type": "stream",
     "text": [
      "260it [01:01,  4.21it/s]\n",
      "17it [00:07,  2.31it/s]\n"
     ]
    },
    {
     "name": "stdout",
     "output_type": "stream",
     "text": [
      "[np.float64(0.002352833010047405), np.float64(0.013746444751963757), np.float64(0.018338345450158312), np.float64(0.02163310455341449), np.float64(0.0203284007589206), np.float64(0.03117565276524625), np.float64(0.027712965407404564), np.float64(0.016135712664511626), np.float64(0.023820057168421057), np.float64(0.03239114937923369), np.float64(0.041323389215398416), np.float64(0.04967526027500154), np.float64(0.05073290864247075), np.float64(0.053400566852292074), np.float64(0.05351496409619457), np.float64(0.058879666397252436), np.float64(0.05938497509655771), np.float64(0.056533665451196854), np.float64(0.0630658290385137), np.float64(0.0645196977191566), np.float64(0.06851289119772476), np.float64(0.06882251161173344), np.float64(0.07239022984747082), np.float64(0.07357276420715408), np.float64(0.07477666506498064), np.float64(0.07553830730071778), np.float64(0.07651693792887751), np.float64(0.07697299010679684), np.float64(0.08015278872767703), np.float64(0.08026270546324005), np.float64(0.0792340580475181), np.float64(0.07887772685321137), np.float64(0.07718531229567721), np.float64(0.07970371540091477), np.float64(0.08416523015908534), np.float64(0.08103152798975491), np.float64(0.08538004722939387), np.float64(0.08862376906197947), np.float64(0.08749738125533531), np.float64(0.08976170296554715), np.float64(0.09033637463340279), np.float64(0.09249658564099468), np.float64(0.09320919863038105), np.float64(0.09541194123415486), np.float64(0.09400006414252862), np.float64(0.0962382231561867), np.float64(0.09709465010494078), np.float64(0.09656281186559712), np.float64(0.09862929035984187), np.float64(0.09719262413225355), np.float64(0.09836571346491095), np.float64(0.09901439703561198), np.float64(0.0993073507707802), np.float64(0.1000601165525342), np.float64(0.10062693935503267), np.float64(0.10158949897761779), np.float64(0.10241063485717623), np.float64(0.10355671265295242), np.float64(0.10597465044102075), np.float64(0.10715001147469409), np.float64(0.10625910200383124), np.float64(0.10650979672288931), np.float64(0.10756119655311393), np.float64(0.10681847078415135), np.float64(0.11132227099419412), np.float64(0.10908043455851352), np.float64(0.11182715296224598), np.float64(0.11146517106758687), np.float64(0.11194331333406678), np.float64(0.11250293984532005), np.float64(0.11084282070687482), np.float64(0.11190706038612121), np.float64(0.11473276721107428), np.float64(0.1127756008997882), np.float64(0.11499586167848594), np.float64(0.11577953401949984), np.float64(0.11465364546155095), np.float64(0.11511287943915191), np.float64(0.11674387737111709), np.float64(0.11569652448786863), np.float64(0.11721183095050358), np.float64(0.11897614462236568), np.float64(0.11784312667911227), np.float64(0.11954688303483459), np.float64(0.11941439994393395), np.float64(0.12070604801103874), np.float64(0.11969476126322358), np.float64(0.12157888270369524), np.float64(0.12016239147434443), np.float64(0.1202038885946051), np.float64(0.11991050972309475)]\n"
     ]
    },
    {
     "name": "stderr",
     "output_type": "stream",
     "text": [
      "2it [00:01,  1.40it/s]"
     ]
    },
    {
     "name": "stdout",
     "output_type": "stream",
     "text": [
      "0.19617561507369194\n",
      "0.000994659016612322\n"
     ]
    },
    {
     "name": "stderr",
     "output_type": "stream",
     "text": [
      "102it [00:25,  2.52it/s]"
     ]
    },
    {
     "name": "stdout",
     "output_type": "stream",
     "text": [
      "0.20491602816415225\n",
      "0.0009946133547466447\n"
     ]
    },
    {
     "name": "stderr",
     "output_type": "stream",
     "text": [
      "202it [00:48,  2.30it/s]"
     ]
    },
    {
     "name": "stdout",
     "output_type": "stream",
     "text": [
      "0.19746730671632234\n",
      "0.0009945674995893688\n"
     ]
    },
    {
     "name": "stderr",
     "output_type": "stream",
     "text": [
      "260it [01:01,  4.23it/s]\n",
      "17it [00:07,  2.41it/s]\n"
     ]
    },
    {
     "name": "stdout",
     "output_type": "stream",
     "text": [
      "[np.float64(0.002352833010047405), np.float64(0.013746444751963757), np.float64(0.018338345450158312), np.float64(0.02163310455341449), np.float64(0.0203284007589206), np.float64(0.03117565276524625), np.float64(0.027712965407404564), np.float64(0.016135712664511626), np.float64(0.023820057168421057), np.float64(0.03239114937923369), np.float64(0.041323389215398416), np.float64(0.04967526027500154), np.float64(0.05073290864247075), np.float64(0.053400566852292074), np.float64(0.05351496409619457), np.float64(0.058879666397252436), np.float64(0.05938497509655771), np.float64(0.056533665451196854), np.float64(0.0630658290385137), np.float64(0.0645196977191566), np.float64(0.06851289119772476), np.float64(0.06882251161173344), np.float64(0.07239022984747082), np.float64(0.07357276420715408), np.float64(0.07477666506498064), np.float64(0.07553830730071778), np.float64(0.07651693792887751), np.float64(0.07697299010679684), np.float64(0.08015278872767703), np.float64(0.08026270546324005), np.float64(0.0792340580475181), np.float64(0.07887772685321137), np.float64(0.07718531229567721), np.float64(0.07970371540091477), np.float64(0.08416523015908534), np.float64(0.08103152798975491), np.float64(0.08538004722939387), np.float64(0.08862376906197947), np.float64(0.08749738125533531), np.float64(0.08976170296554715), np.float64(0.09033637463340279), np.float64(0.09249658564099468), np.float64(0.09320919863038105), np.float64(0.09541194123415486), np.float64(0.09400006414252862), np.float64(0.0962382231561867), np.float64(0.09709465010494078), np.float64(0.09656281186559712), np.float64(0.09862929035984187), np.float64(0.09719262413225355), np.float64(0.09836571346491095), np.float64(0.09901439703561198), np.float64(0.0993073507707802), np.float64(0.1000601165525342), np.float64(0.10062693935503267), np.float64(0.10158949897761779), np.float64(0.10241063485717623), np.float64(0.10355671265295242), np.float64(0.10597465044102075), np.float64(0.10715001147469409), np.float64(0.10625910200383124), np.float64(0.10650979672288931), np.float64(0.10756119655311393), np.float64(0.10681847078415135), np.float64(0.11132227099419412), np.float64(0.10908043455851352), np.float64(0.11182715296224598), np.float64(0.11146517106758687), np.float64(0.11194331333406678), np.float64(0.11250293984532005), np.float64(0.11084282070687482), np.float64(0.11190706038612121), np.float64(0.11473276721107428), np.float64(0.1127756008997882), np.float64(0.11499586167848594), np.float64(0.11577953401949984), np.float64(0.11465364546155095), np.float64(0.11511287943915191), np.float64(0.11674387737111709), np.float64(0.11569652448786863), np.float64(0.11721183095050358), np.float64(0.11897614462236568), np.float64(0.11784312667911227), np.float64(0.11954688303483459), np.float64(0.11941439994393395), np.float64(0.12070604801103874), np.float64(0.11969476126322358), np.float64(0.12157888270369524), np.float64(0.12016239147434443), np.float64(0.1202038885946051), np.float64(0.11991050972309475), np.float64(0.12184176324438951)]\n"
     ]
    },
    {
     "name": "stderr",
     "output_type": "stream",
     "text": [
      "2it [00:01,  1.50it/s]"
     ]
    },
    {
     "name": "stdout",
     "output_type": "stream",
     "text": [
      "0.20447392371354348\n",
      "0.000994539893722563\n"
     ]
    },
    {
     "name": "stderr",
     "output_type": "stream",
     "text": [
      "102it [00:24,  2.39it/s]"
     ]
    },
    {
     "name": "stdout",
     "output_type": "stream",
     "text": [
      "0.1995257622903659\n",
      "0.0009944937293364137\n"
     ]
    },
    {
     "name": "stderr",
     "output_type": "stream",
     "text": [
      "202it [00:48,  2.14it/s]"
     ]
    },
    {
     "name": "stdout",
     "output_type": "stream",
     "text": [
      "0.19088806348320775\n",
      "0.0009944473717058931\n"
     ]
    },
    {
     "name": "stderr",
     "output_type": "stream",
     "text": [
      "260it [01:01,  4.24it/s]\n",
      "17it [00:07,  2.40it/s]\n"
     ]
    },
    {
     "name": "stdout",
     "output_type": "stream",
     "text": [
      "[np.float64(0.002352833010047405), np.float64(0.013746444751963757), np.float64(0.018338345450158312), np.float64(0.02163310455341449), np.float64(0.0203284007589206), np.float64(0.03117565276524625), np.float64(0.027712965407404564), np.float64(0.016135712664511626), np.float64(0.023820057168421057), np.float64(0.03239114937923369), np.float64(0.041323389215398416), np.float64(0.04967526027500154), np.float64(0.05073290864247075), np.float64(0.053400566852292074), np.float64(0.05351496409619457), np.float64(0.058879666397252436), np.float64(0.05938497509655771), np.float64(0.056533665451196854), np.float64(0.0630658290385137), np.float64(0.0645196977191566), np.float64(0.06851289119772476), np.float64(0.06882251161173344), np.float64(0.07239022984747082), np.float64(0.07357276420715408), np.float64(0.07477666506498064), np.float64(0.07553830730071778), np.float64(0.07651693792887751), np.float64(0.07697299010679684), np.float64(0.08015278872767703), np.float64(0.08026270546324005), np.float64(0.0792340580475181), np.float64(0.07887772685321137), np.float64(0.07718531229567721), np.float64(0.07970371540091477), np.float64(0.08416523015908534), np.float64(0.08103152798975491), np.float64(0.08538004722939387), np.float64(0.08862376906197947), np.float64(0.08749738125533531), np.float64(0.08976170296554715), np.float64(0.09033637463340279), np.float64(0.09249658564099468), np.float64(0.09320919863038105), np.float64(0.09541194123415486), np.float64(0.09400006414252862), np.float64(0.0962382231561867), np.float64(0.09709465010494078), np.float64(0.09656281186559712), np.float64(0.09862929035984187), np.float64(0.09719262413225355), np.float64(0.09836571346491095), np.float64(0.09901439703561198), np.float64(0.0993073507707802), np.float64(0.1000601165525342), np.float64(0.10062693935503267), np.float64(0.10158949897761779), np.float64(0.10241063485717623), np.float64(0.10355671265295242), np.float64(0.10597465044102075), np.float64(0.10715001147469409), np.float64(0.10625910200383124), np.float64(0.10650979672288931), np.float64(0.10756119655311393), np.float64(0.10681847078415135), np.float64(0.11132227099419412), np.float64(0.10908043455851352), np.float64(0.11182715296224598), np.float64(0.11146517106758687), np.float64(0.11194331333406678), np.float64(0.11250293984532005), np.float64(0.11084282070687482), np.float64(0.11190706038612121), np.float64(0.11473276721107428), np.float64(0.1127756008997882), np.float64(0.11499586167848594), np.float64(0.11577953401949984), np.float64(0.11465364546155095), np.float64(0.11511287943915191), np.float64(0.11674387737111709), np.float64(0.11569652448786863), np.float64(0.11721183095050358), np.float64(0.11897614462236568), np.float64(0.11784312667911227), np.float64(0.11954688303483459), np.float64(0.11941439994393395), np.float64(0.12070604801103874), np.float64(0.11969476126322358), np.float64(0.12157888270369524), np.float64(0.12016239147434443), np.float64(0.1202038885946051), np.float64(0.11991050972309475), np.float64(0.12184176324438951), np.float64(0.12286967484649915)]\n"
     ]
    },
    {
     "name": "stderr",
     "output_type": "stream",
     "text": [
      "2it [00:01,  1.77it/s]"
     ]
    },
    {
     "name": "stdout",
     "output_type": "stream",
     "text": [
      "0.2027773197955657\n",
      "0.0009944194643778923\n"
     ]
    },
    {
     "name": "stderr",
     "output_type": "stream",
     "text": [
      "102it [00:23,  2.56it/s]"
     ]
    },
    {
     "name": "stdout",
     "output_type": "stream",
     "text": [
      "0.19452029893010184\n",
      "0.0009943727975944747\n"
     ]
    },
    {
     "name": "stderr",
     "output_type": "stream",
     "text": [
      "201it [00:48,  1.18it/s]"
     ]
    },
    {
     "name": "stdout",
     "output_type": "stream",
     "text": [
      "0.19402426064664505\n",
      "0.0009943259376144265\n"
     ]
    },
    {
     "name": "stderr",
     "output_type": "stream",
     "text": [
      "260it [01:01,  4.25it/s]\n",
      "17it [00:06,  2.56it/s]\n"
     ]
    },
    {
     "name": "stdout",
     "output_type": "stream",
     "text": [
      "[np.float64(0.002352833010047405), np.float64(0.013746444751963757), np.float64(0.018338345450158312), np.float64(0.02163310455341449), np.float64(0.0203284007589206), np.float64(0.03117565276524625), np.float64(0.027712965407404564), np.float64(0.016135712664511626), np.float64(0.023820057168421057), np.float64(0.03239114937923369), np.float64(0.041323389215398416), np.float64(0.04967526027500154), np.float64(0.05073290864247075), np.float64(0.053400566852292074), np.float64(0.05351496409619457), np.float64(0.058879666397252436), np.float64(0.05938497509655771), np.float64(0.056533665451196854), np.float64(0.0630658290385137), np.float64(0.0645196977191566), np.float64(0.06851289119772476), np.float64(0.06882251161173344), np.float64(0.07239022984747082), np.float64(0.07357276420715408), np.float64(0.07477666506498064), np.float64(0.07553830730071778), np.float64(0.07651693792887751), np.float64(0.07697299010679684), np.float64(0.08015278872767703), np.float64(0.08026270546324005), np.float64(0.0792340580475181), np.float64(0.07887772685321137), np.float64(0.07718531229567721), np.float64(0.07970371540091477), np.float64(0.08416523015908534), np.float64(0.08103152798975491), np.float64(0.08538004722939387), np.float64(0.08862376906197947), np.float64(0.08749738125533531), np.float64(0.08976170296554715), np.float64(0.09033637463340279), np.float64(0.09249658564099468), np.float64(0.09320919863038105), np.float64(0.09541194123415486), np.float64(0.09400006414252862), np.float64(0.0962382231561867), np.float64(0.09709465010494078), np.float64(0.09656281186559712), np.float64(0.09862929035984187), np.float64(0.09719262413225355), np.float64(0.09836571346491095), np.float64(0.09901439703561198), np.float64(0.0993073507707802), np.float64(0.1000601165525342), np.float64(0.10062693935503267), np.float64(0.10158949897761779), np.float64(0.10241063485717623), np.float64(0.10355671265295242), np.float64(0.10597465044102075), np.float64(0.10715001147469409), np.float64(0.10625910200383124), np.float64(0.10650979672288931), np.float64(0.10756119655311393), np.float64(0.10681847078415135), np.float64(0.11132227099419412), np.float64(0.10908043455851352), np.float64(0.11182715296224598), np.float64(0.11146517106758687), np.float64(0.11194331333406678), np.float64(0.11250293984532005), np.float64(0.11084282070687482), np.float64(0.11190706038612121), np.float64(0.11473276721107428), np.float64(0.1127756008997882), np.float64(0.11499586167848594), np.float64(0.11577953401949984), np.float64(0.11465364546155095), np.float64(0.11511287943915191), np.float64(0.11674387737111709), np.float64(0.11569652448786863), np.float64(0.11721183095050358), np.float64(0.11897614462236568), np.float64(0.11784312667911227), np.float64(0.11954688303483459), np.float64(0.11941439994393395), np.float64(0.12070604801103874), np.float64(0.11969476126322358), np.float64(0.12157888270369524), np.float64(0.12016239147434443), np.float64(0.1202038885946051), np.float64(0.11991050972309475), np.float64(0.12184176324438951), np.float64(0.12286967484649915), np.float64(0.12225262607089621)]\n"
     ]
    },
    {
     "name": "stderr",
     "output_type": "stream",
     "text": [
      "2it [00:01,  1.83it/s]"
     ]
    },
    {
     "name": "stdout",
     "output_type": "stream",
     "text": [
      "0.19845980069707117\n",
      "0.0009942977288997083\n"
     ]
    },
    {
     "name": "stderr",
     "output_type": "stream",
     "text": [
      "102it [00:24,  2.20it/s]"
     ]
    },
    {
     "name": "stdout",
     "output_type": "stream",
     "text": [
      "0.19222672034832233\n",
      "0.0009942505598435623\n"
     ]
    },
    {
     "name": "stderr",
     "output_type": "stream",
     "text": [
      "202it [00:48,  2.50it/s]"
     ]
    },
    {
     "name": "stdout",
     "output_type": "stream",
     "text": [
      "0.20903801769598923\n",
      "0.0009942031976390452\n"
     ]
    },
    {
     "name": "stderr",
     "output_type": "stream",
     "text": [
      "260it [01:01,  4.25it/s]\n",
      "17it [00:06,  2.72it/s]\n"
     ]
    },
    {
     "name": "stdout",
     "output_type": "stream",
     "text": [
      "[np.float64(0.002352833010047405), np.float64(0.013746444751963757), np.float64(0.018338345450158312), np.float64(0.02163310455341449), np.float64(0.0203284007589206), np.float64(0.03117565276524625), np.float64(0.027712965407404564), np.float64(0.016135712664511626), np.float64(0.023820057168421057), np.float64(0.03239114937923369), np.float64(0.041323389215398416), np.float64(0.04967526027500154), np.float64(0.05073290864247075), np.float64(0.053400566852292074), np.float64(0.05351496409619457), np.float64(0.058879666397252436), np.float64(0.05938497509655771), np.float64(0.056533665451196854), np.float64(0.0630658290385137), np.float64(0.0645196977191566), np.float64(0.06851289119772476), np.float64(0.06882251161173344), np.float64(0.07239022984747082), np.float64(0.07357276420715408), np.float64(0.07477666506498064), np.float64(0.07553830730071778), np.float64(0.07651693792887751), np.float64(0.07697299010679684), np.float64(0.08015278872767703), np.float64(0.08026270546324005), np.float64(0.0792340580475181), np.float64(0.07887772685321137), np.float64(0.07718531229567721), np.float64(0.07970371540091477), np.float64(0.08416523015908534), np.float64(0.08103152798975491), np.float64(0.08538004722939387), np.float64(0.08862376906197947), np.float64(0.08749738125533531), np.float64(0.08976170296554715), np.float64(0.09033637463340279), np.float64(0.09249658564099468), np.float64(0.09320919863038105), np.float64(0.09541194123415486), np.float64(0.09400006414252862), np.float64(0.0962382231561867), np.float64(0.09709465010494078), np.float64(0.09656281186559712), np.float64(0.09862929035984187), np.float64(0.09719262413225355), np.float64(0.09836571346491095), np.float64(0.09901439703561198), np.float64(0.0993073507707802), np.float64(0.1000601165525342), np.float64(0.10062693935503267), np.float64(0.10158949897761779), np.float64(0.10241063485717623), np.float64(0.10355671265295242), np.float64(0.10597465044102075), np.float64(0.10715001147469409), np.float64(0.10625910200383124), np.float64(0.10650979672288931), np.float64(0.10756119655311393), np.float64(0.10681847078415135), np.float64(0.11132227099419412), np.float64(0.10908043455851352), np.float64(0.11182715296224598), np.float64(0.11146517106758687), np.float64(0.11194331333406678), np.float64(0.11250293984532005), np.float64(0.11084282070687482), np.float64(0.11190706038612121), np.float64(0.11473276721107428), np.float64(0.1127756008997882), np.float64(0.11499586167848594), np.float64(0.11577953401949984), np.float64(0.11465364546155095), np.float64(0.11511287943915191), np.float64(0.11674387737111709), np.float64(0.11569652448786863), np.float64(0.11721183095050358), np.float64(0.11897614462236568), np.float64(0.11784312667911227), np.float64(0.11954688303483459), np.float64(0.11941439994393395), np.float64(0.12070604801103874), np.float64(0.11969476126322358), np.float64(0.12157888270369524), np.float64(0.12016239147434443), np.float64(0.1202038885946051), np.float64(0.11991050972309475), np.float64(0.12184176324438951), np.float64(0.12286967484649915), np.float64(0.12225262607089621), np.float64(0.12250951948587795)]\n"
     ]
    },
    {
     "name": "stderr",
     "output_type": "stream",
     "text": [
      "2it [00:01,  1.86it/s]"
     ]
    },
    {
     "name": "stdout",
     "output_type": "stream",
     "text": [
      "0.19921938635555334\n",
      "0.000994174687612891\n"
     ]
    },
    {
     "name": "stderr",
     "output_type": "stream",
     "text": [
      "102it [00:24,  2.26it/s]"
     ]
    },
    {
     "name": "stdout",
     "output_type": "stream",
     "text": [
      "0.19934505497122845\n",
      "0.0009941270164099\n"
     ]
    },
    {
     "name": "stderr",
     "output_type": "stream",
     "text": [
      "190it [00:43,  6.38it/s]"
     ]
    }
   ],
   "source": [
    "patience = 0\n",
    "max_objective = 0\n",
    "losses, corrs, lrs, val_corrs = [], [], [], []\n",
    "for train_loop in range(1000):\n",
    "    current_objective = val_step()\n",
    "    if train_loop > 20:\n",
    "        max_objective = np.max(np.array(val_corrs[:-1])[~np.isnan(val_corrs[:-1])])\n",
    "    if current_objective < max_objective:\n",
    "        patience += 1\n",
    "    else:\n",
    "        patience = 0\n",
    "    if patience >=25:\n",
    "        break\n",
    "    val_corrs.append(current_objective)\n",
    "    print(val_corrs)\n",
    "    for i, (k, b) in tqdm(enumerate(train_dl)):\n",
    "        videos = b[\"screen\"].to(\"cuda\", torch.float32, non_blocking=True).permute(0,2,1,3,4)\n",
    "        responses = b[\"responses\"].to(\"cuda\", torch.float32, non_blocking=True)\n",
    "        out = model(videos, k);\n",
    "        loss = criteria(out.transpose(1,2), responses)\n",
    "        loss.backward()\n",
    "        torch.nn.utils.clip_grad_norm_(model.parameters(), max_norm=1.0, norm_type=2)\n",
    "        opt.step()\n",
    "        opt.zero_grad()\n",
    "        \n",
    "        losses.append(loss.item())\n",
    "        with warmup_scheduler.dampening():\n",
    "            lr_scheduler.step()\n",
    "        \n",
    "        if i % 10 ==0:\n",
    "            r2 = responses.to(torch.float32).cpu().numpy().flatten()\n",
    "            r1 = out.transpose(1,2).detach().cpu().to(torch.float32).numpy().flatten()\n",
    "            corrs.append(np.corrcoef(r1,r2)[0,1].item())\n",
    "            lrs.append(opt.param_groups[0]['lr'])\n",
    "        if i % 100 ==0:\n",
    "            print(np.corrcoef(r1,r2)[0,1].item())\n",
    "            print(opt.param_groups[0]['lr'])\n",
    "    for k, v in train_dl.loaders.items():\n",
    "        v.dataset.shuffle_valid_screen_times()"
   ]
  },
  {
   "cell_type": "code",
   "execution_count": null,
   "id": "cfd02c5d-6610-4b51-853a-d2ca1129dca5",
   "metadata": {},
   "outputs": [],
   "source": []
  },
  {
   "cell_type": "code",
   "execution_count": null,
   "id": "364cfedf-f135-4907-90d6-6fc477891b14",
   "metadata": {},
   "outputs": [],
   "source": []
  }
 ],
 "metadata": {
  "kernelspec": {
   "display_name": "Python 3 (ipykernel)",
   "language": "python",
   "name": "python3"
  },
  "language_info": {
   "codemirror_mode": {
    "name": "ipython",
    "version": 3
   },
   "file_extension": ".py",
   "mimetype": "text/x-python",
   "name": "python",
   "nbconvert_exporter": "python",
   "pygments_lexer": "ipython3",
   "version": "3.10.12"
  }
 },
 "nbformat": 4,
 "nbformat_minor": 5
}
