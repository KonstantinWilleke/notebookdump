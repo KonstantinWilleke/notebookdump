{
 "cells": [
  {
   "cell_type": "code",
   "execution_count": 1,
   "id": "637b327b-4b4d-4ed9-9918-818e5825c2c9",
   "metadata": {},
   "outputs": [],
   "source": [
    "import os\n",
    "os.environ['CUDA_VISIBLE_DEVICES'] = '0'\n",
    "\n",
    "%matplotlib inline\n",
    "%load_ext autoreload\n",
    "%autoreload 2\n",
    "\n",
    "import numpy as np\n",
    "import matplotlib.pyplot as plt\n",
    "from os import path\n",
    "\n",
    "from tqdm import tqdm\n",
    "\n",
    "import torch\n",
    "from torch import nn\n",
    "from torch.nn import functional as F\n",
    "from torch.nn.functional import scaled_dot_product_attention\n",
    "from torch.nn.attention import SDPBackend, sdpa_kernel\n",
    "from torch.optim import AdamW, Adam\n",
    "from torch import autocast, GradScaler\n",
    "\n",
    "from omegaconf import OmegaConf, open_dict\n",
    "\n",
    "torch.backends.cuda.matmul.allow_tf32 = True\n",
    "torch.set_float32_matmul_precision('high')"
   ]
  },
  {
   "cell_type": "code",
   "execution_count": 2,
   "id": "00ecf779-64e2-4c53-930c-4bc96109fa37",
   "metadata": {},
   "outputs": [],
   "source": [
    "# additional packages\n",
    "# pip install hiera-transformer\n",
    "# pip install -U pytorch_warmup"
   ]
  },
  {
   "cell_type": "markdown",
   "id": "6d4f5a3f-8720-4222-a63c-b3605b61c5e7",
   "metadata": {},
   "source": [
    "# Hyperparameters"
   ]
  },
  {
   "cell_type": "code",
   "execution_count": 2,
   "id": "4d8aa514-908e-4e00-af7a-06830084b132",
   "metadata": {},
   "outputs": [],
   "source": [
    "video_size = [36, 64]\n",
    "batchsize=16\n",
    "\n",
    "screen_chunk_size = 30\n",
    "screen_sampling_rate = 30\n",
    "\n",
    "response_chunk_size = 8\n",
    "response_sampling_rate = 8\n",
    "\n",
    "behavior_as_channels = True\n",
    "replace_nans_with_means = True\n",
    "\n",
    "dim_head = 64\n",
    "num_heads = 2\n",
    "drop_path_rate = 0\n",
    "mlp_ratio=4"
   ]
  },
  {
   "cell_type": "markdown",
   "id": "72a43689-cdb6-4443-a57d-0a227fb65d45",
   "metadata": {},
   "source": [
    "### get dataloaders"
   ]
  },
  {
   "cell_type": "code",
   "execution_count": 4,
   "id": "40f1c64c-31a4-4391-85ef-6f35d7085c3f",
   "metadata": {},
   "outputs": [],
   "source": [
    "paths = ['dynamic29513-3-5-Video-full',\n",
    "         'dynamic29514-2-9-Video-full',\n",
    "         'dynamic29755-2-8-Video-full',\n",
    "         'dynamic29647-19-8-Video-full',\n",
    "         'dynamic29156-11-10-Video-full',\n",
    "         'dynamic29623-4-9-Video-full',\n",
    "         'dynamic29515-10-12-Video-full',\n",
    "         'dynamic29234-6-9-Video-full',\n",
    "         'dynamic29712-5-9-Video-full',\n",
    "         'dynamic29228-2-10-Video-full'\n",
    "        ]\n",
    "\n",
    "full_paths = [path.join(\"/data/mouse_polly/\", f) for f in paths]"
   ]
  },
  {
   "cell_type": "code",
   "execution_count": 5,
   "id": "f1e38a4f-a213-46c0-b2de-035ab1fba6c6",
   "metadata": {},
   "outputs": [],
   "source": [
    "from experanto.dataloaders import get_multisession_dataloader\n",
    "from experanto.configs import DEFAULT_CONFIG as cfg"
   ]
  },
  {
   "cell_type": "code",
   "execution_count": 6,
   "id": "a5e5b246-5be9-4542-9fa5-267f677c0272",
   "metadata": {},
   "outputs": [
    {
     "name": "stderr",
     "output_type": "stream",
     "text": [
      "/usr/local/lib/python3.10/dist-packages/torchvision/transforms/v2/_deprecated.py:42: UserWarning: The transform `ToTensor()` is deprecated and will be removed in a future release. Instead, please use `v2.Compose([v2.ToImage(), v2.ToDtype(torch.float32, scale=True)])`.Output is equivalent up to float precision.\n",
      "  warnings.warn(\n"
     ]
    }
   ],
   "source": [
    "with open_dict(cfg):\n",
    "    cfg.dataset.add_behavior_as_channels = behavior_as_channels\n",
    "    cfg.dataset.replace_nans_with_means = replace_nans_with_means\n",
    "cfg.dataset.global_chunk_size = None\n",
    "cfg.dataset.global_chunk_size = None\n",
    "cfg.dataset.global_sampling_rate = None\n",
    "\n",
    "cfg.dataset.modality_config.screen.chunk_size = screen_chunk_size\n",
    "cfg.dataset.modality_config.screen.sampling_rate = screen_sampling_rate\n",
    "cfg.dataset.modality_config.eye_tracker.chunk_size = screen_chunk_size\n",
    "cfg.dataset.modality_config.eye_tracker.sampling_rate = screen_sampling_rate\n",
    "cfg.dataset.modality_config.treadmill.chunk_size = screen_chunk_size\n",
    "cfg.dataset.modality_config.treadmill.sampling_rate = screen_sampling_rate\n",
    "\n",
    "cfg.dataset.modality_config.responses.chunk_size = response_chunk_size\n",
    "cfg.dataset.modality_config.responses.sampling_rate = response_sampling_rate\n",
    "\n",
    "cfg.dataset.modality_config.screen.sample_stride = 1\n",
    "cfg.dataset.modality_config.screen.include_blanks=True\n",
    "cfg.dataset.modality_config.screen.valid_condition = {\"tier\": \"train\"}\n",
    "cfg.dataset.modality_config.screen.transforms.Resize.size = video_size\n",
    "\n",
    "cfg.dataloader.num_workers = 2\n",
    "cfg.dataloader.prefetch_factor = 2\n",
    "cfg.dataloader.batch_size = batchsize\n",
    "cfg.dataloader.pin_memory = True\n",
    "cfg.dataloader.shuffle = True\n",
    "\n",
    "train_dl = get_multisession_dataloader(full_paths, cfg)"
   ]
  },
  {
   "cell_type": "code",
   "execution_count": 7,
   "id": "0a97057c-17fb-4704-a556-4d68d60214d4",
   "metadata": {},
   "outputs": [],
   "source": [
    "from tqdm import tqdm"
   ]
  },
  {
   "cell_type": "code",
   "execution_count": 8,
   "id": "24554a90-291b-47d9-af0e-00c0e3379d33",
   "metadata": {},
   "outputs": [
    {
     "name": "stderr",
     "output_type": "stream",
     "text": [
      "  1% 854/64020 [00:56<1:09:59, 15.04it/s]\n",
      "\n",
      "KeyboardInterrupt\n",
      "\n"
     ]
    }
   ],
   "source": [
    "for k, batch in tqdm(train_dl):\n",
    "    videos = batch[\"screen\"].to(\"cuda\", torch.float32, non_blocking=True).transpose(1,2)\n",
    "    responses = batch[\"responses\"].to(\"cuda\", torch.float32, non_blocking=True)"
   ]
  },
  {
   "cell_type": "code",
   "execution_count": null,
   "id": "83731f7d-bf31-4e93-a164-ba2dfbc960f8",
   "metadata": {},
   "outputs": [],
   "source": []
  },
  {
   "cell_type": "code",
   "execution_count": null,
   "id": "51a700f5-f93c-4334-888f-4e0d35e6fc51",
   "metadata": {},
   "outputs": [],
   "source": []
  },
  {
   "cell_type": "code",
   "execution_count": null,
   "id": "a11159e7-f395-45a4-a702-a2930ad46998",
   "metadata": {},
   "outputs": [],
   "source": []
  },
  {
   "cell_type": "code",
   "execution_count": 15,
   "id": "be3b40e6-2894-4be3-8531-7b7552ceb19b",
   "metadata": {},
   "outputs": [
    {
     "data": {
      "text/plain": [
       "38400"
      ]
     },
     "execution_count": 15,
     "metadata": {},
     "output_type": "execute_result"
    }
   ],
   "source": [
    "40*16*60"
   ]
  },
  {
   "cell_type": "code",
   "execution_count": 14,
   "id": "2db8433e-2ad0-442e-87d6-c086fc20018e",
   "metadata": {},
   "outputs": [
    {
     "data": {
      "text/plain": [
       "<matplotlib.image.AxesImage at 0x7f72466a8160>"
      ]
     },
     "execution_count": 14,
     "metadata": {},
     "output_type": "execute_result"
    },
    {
     "data": {
      "image/png": "[encoded data removed]",
      "text/plain": [
       "<Figure size 640x480 with 1 Axes>"
      ]
     },
     "metadata": {},
     "output_type": "display_data"
    }
   ],
   "source": [
    "plt.imshow(b[\"screen\"][0,6,0].numpy())"
   ]
  },
  {
   "cell_type": "code",
   "execution_count": null,
   "id": "b32afb53-cbc6-4129-a19f-c52e6ce64e4c",
   "metadata": {},
   "outputs": [],
   "source": []
  },
  {
   "cell_type": "code",
   "execution_count": null,
   "id": "5bf0e7f5-6de6-4f50-a0d5-c47b862e81fa",
   "metadata": {},
   "outputs": [],
   "source": []
  },
  {
   "cell_type": "markdown",
   "id": "9d14b18d-346d-48c4-b12e-e7b8e0f28820",
   "metadata": {},
   "source": [
    "### get Hiera backbone"
   ]
  },
  {
   "cell_type": "code",
   "execution_count": null,
   "id": "034a0ef9-84ad-41ad-8380-1be7e5dc4752",
   "metadata": {},
   "outputs": [],
   "source": []
  },
  {
   "cell_type": "code",
   "execution_count": 141,
   "id": "ecc0b8f9-b374-479f-b166-801bf9d22851",
   "metadata": {},
   "outputs": [
    {
     "data": {
      "text/plain": [
       "torch.Size([8, 10, 6, 10, 192])"
      ]
     },
     "execution_count": 141,
     "metadata": {},
     "output_type": "execute_result"
    }
   ],
   "source": [
    "from hiera import Hiera\n",
    "tiny_hiera = Hiera(input_size=(60, video_size[0], video_size[1]),\n",
    "                     num_heads=3,\n",
    "                     embed_dim=96,\n",
    "                     stages=(2,2), # 3 transformer layers \n",
    "                     q_pool=1, \n",
    "                     in_chans= 6 if behavior_as_channels else 1,\n",
    "                     q_stride=(1,1,1,),\n",
    "                     mask_unit_size=(1, 2, 2),\n",
    "                     patch_kernel=(6,6,6),\n",
    "                     patch_stride=(6,6,6),\n",
    "                     patch_padding=(0,0,0),\n",
    "                     sep_pos_embed=True,\n",
    "                     drop_path_rate=drop_path_rate,\n",
    "                     mlp_ratio=4,)\n",
    "\n",
    "tiny_hiera = tiny_hiera.cuda().to(torch.float32);\n",
    "example_input = torch.ones(8, 6, 60, 36,64).to(\"cuda\", torch.float32)\n",
    "out = tiny_hiera(example_input, return_intermediates=True);\n",
    "\n",
    "\n",
    "hiera_output = out[-1][-1]\n",
    "hiera_output.shape # (b, t, h, w, c): (8, 4, 9, 16, 192)"
   ]
  },
  {
   "cell_type": "code",
   "execution_count": 110,
   "id": "04b60080-d2cb-45fc-88c1-31991854dcf7",
   "metadata": {},
   "outputs": [
    {
     "data": {
      "text/plain": [
       "2700"
      ]
     },
     "execution_count": 110,
     "metadata": {},
     "output_type": "execute_result"
    }
   ],
   "source": [
    "3*3*3*10*10"
   ]
  },
  {
   "cell_type": "code",
   "execution_count": null,
   "id": "f2423f72-24ae-4f55-a4ff-a7985543d145",
   "metadata": {},
   "outputs": [],
   "source": [
    "n_heads = 1, 2, 3\n",
    "embed_dim = 64, 96, 128\n",
    "q_pool = 0 # 1, 2\n",
    "stages= [(2, 1,), (1,1), (2,2), (2,1), (2,1,1), (1, 1, 1), (1, 2, 1), (2,2,1), (2,2,2)]"
   ]
  },
  {
   "cell_type": "code",
   "execution_count": null,
   "id": "620d54a9-a84c-4d59-911c-bd5b09c2f976",
   "metadata": {},
   "outputs": [],
   "source": [
    "mask_unit_size=(1, 2, 2), # (1, 8, 8 ), (1,4, 4)"
   ]
  },
  {
   "cell_type": "code",
   "execution_count": 116,
   "id": "006e9cda-8aef-42b4-a566-7db5d2fdc279",
   "metadata": {},
   "outputs": [],
   "source": []
  },
  {
   "cell_type": "code",
   "execution_count": 118,
   "id": "4434f2d9-9d50-45ac-a7a3-f76b4e1a8dd7",
   "metadata": {},
   "outputs": [
    {
     "data": {
      "text/plain": [
       "10"
      ]
     },
     "execution_count": 118,
     "metadata": {},
     "output_type": "execute_result"
    }
   ],
   "source": [
    "len(patch_paddings)"
   ]
  },
  {
   "cell_type": "code",
   "execution_count": null,
   "id": "5dc13380-cf5c-424e-82ca-2a9599ffe2d9",
   "metadata": {},
   "outputs": [],
   "source": [
    "patch_kernel=(5, 5, 5),\n",
    " patch_stride=(4, 4, 4),\n",
    " patch_padding=(1,1,1),"
   ]
  },
  {
   "cell_type": "code",
   "execution_count": null,
   "id": "82f26797-09d0-4d4b-8a45-e3e18811da1d",
   "metadata": {},
   "outputs": [],
   "source": [
    "patch_kernel=(5, 5, 5),\n",
    " patch_stride=(2, 2, 2),\n",
    " patch_padding=(2, 2, 2),"
   ]
  },
  {
   "cell_type": "code",
   "execution_count": null,
   "id": "d9d063f3-141b-4e48-8406-1b70499c67d1",
   "metadata": {},
   "outputs": [],
   "source": [
    "patch_kernel=(5, 5, 5),\n",
    " patch_stride=(3, 2, 2),\n",
    " patch_padding=(1, 2, 2),"
   ]
  },
  {
   "cell_type": "code",
   "execution_count": null,
   "id": "b1bc26d3-ba9d-4b7c-8a19-33350f18b997",
   "metadata": {},
   "outputs": [],
   "source": [
    " patch_kernel=(3, 3, 3),\n",
    " patch_stride=(3, 3, 3),\n",
    " patch_padding=(0, 0, 0),"
   ]
  },
  {
   "cell_type": "code",
   "execution_count": 20,
   "id": "53f7ebc0-7425-498f-8de5-940e6e4bacac",
   "metadata": {},
   "outputs": [],
   "source": [
    " patch_kernel=(4, 4, 4),\n",
    " patch_stride=(4, 4, 4),\n",
    " patch_padding=(0, 0, 0),"
   ]
  },
  {
   "cell_type": "code",
   "execution_count": null,
   "id": "6d7a69af-cce0-4bc7-9a4c-e847630586d7",
   "metadata": {},
   "outputs": [],
   "source": [
    " patch_kernel=(5, 5, 5),\n",
    " patch_stride=(5, 5, 5),\n",
    " patch_padding=(0, 0, 0),"
   ]
  },
  {
   "cell_type": "code",
   "execution_count": null,
   "id": "fde8e2e1-25a6-41d7-9a49-e7f44147e2bd",
   "metadata": {},
   "outputs": [],
   "source": [
    " patch_kernel=(6, 6, 6),\n",
    " patch_stride=(6, 6, 6),\n",
    " patch_padding=(0, 0, 0),"
   ]
  },
  {
   "cell_type": "code",
   "execution_count": null,
   "id": "4c0e6201-dcfe-40b1-82b7-71cda3e2d07a",
   "metadata": {},
   "outputs": [],
   "source": [
    " patch_kernel=(6, 6, 6),\n",
    " patch_stride=(3, 3, 3),\n",
    " patch_padding=(2, 2, 2),"
   ]
  },
  {
   "cell_type": "code",
   "execution_count": null,
   "id": "bdc7ba95-f9c7-4bb0-8815-a224e65d26bb",
   "metadata": {},
   "outputs": [],
   "source": [
    " patch_kernel=(6, 6, 6),\n",
    " patch_stride=(2, 3, 3),\n",
    " patch_padding=(2, 2, 2),"
   ]
  },
  {
   "cell_type": "code",
   "execution_count": null,
   "id": "9c19d6ee-2abe-4420-ab28-ec39ca576698",
   "metadata": {},
   "outputs": [],
   "source": [
    " patch_kernel=(6, 6, 6),\n",
    " patch_stride=(4, 4, 4),\n",
    " patch_padding=(2, 2, 2),"
   ]
  },
  {
   "cell_type": "code",
   "execution_count": null,
   "id": "cf6c7fb0-af96-45b3-8eaa-14451e45c770",
   "metadata": {},
   "outputs": [],
   "source": []
  },
  {
   "cell_type": "code",
   "execution_count": 6,
   "id": "c05853e2-25bb-438c-a62c-61dd2a413c69",
   "metadata": {},
   "outputs": [
    {
     "data": {
      "text/plain": [
       "30"
      ]
     },
     "execution_count": 6,
     "metadata": {},
     "output_type": "execute_result"
    }
   ],
   "source": [
    "screen_chunk_size"
   ]
  },
  {
   "cell_type": "markdown",
   "id": "700e892e-0e01-4fda-bec9-13179f415692",
   "metadata": {},
   "source": [
    "# Model definition"
   ]
  },
  {
   "cell_type": "code",
   "execution_count": 9,
   "id": "fbce1ed2-9c69-43e0-91c9-a35fc2e4b6c2",
   "metadata": {},
   "outputs": [],
   "source": [
    "class MouseHiera(nn.Module):\n",
    "    def __init__(self,\n",
    "                 backbone,\n",
    "                 dls,\n",
    "                 chunk_size,\n",
    "                 dim=192,\n",
    "                 dim_head=32,\n",
    "                 num_heads=4,\n",
    "                 mlp_ratio=4,):\n",
    "        super().__init__()\n",
    "        self.backbone=backbone\n",
    "        self.num_heads=num_heads\n",
    "        self.dim_head=dim_head\n",
    "        self.dim=dim\n",
    "        self.dim_q = dim_head*num_heads\n",
    "        self.wq = nn.Linear(self.dim_q, self.dim_q, bias=False)\n",
    "        self.wk = nn.Linear(dim, self.dim_q, bias=False)\n",
    "        self.wv = nn.Linear(dim, self.dim_q, bias=False)\n",
    "        self.wo = nn.Linear(self.dim_q, self.dim_q, bias=False)\n",
    "        \n",
    "        self.neuron_proj = nn.Linear(self.dim_q, chunk_size, bias=False)\n",
    "        \n",
    "        \n",
    "        self.kv_norm=torch.nn.RMSNorm(dim)\n",
    "        self.q_norm=torch.nn.RMSNorm(self.dim_q)\n",
    "        self.qkv_norm=torch.nn.RMSNorm(self.dim_q)\n",
    "        self.mlp = MLP(dim=self.dim_q, hidden_dim=int(self.dim_q * mlp_ratio))\n",
    "        self.readout = nn.ModuleDict()\n",
    "        self.activation = nn.Softplus(beta=0.1) # probably a much better activation than ELU+1\n",
    "        for k, v in dls.loaders.items():\n",
    "            n_neurons = next(iter(v))[\"responses\"].shape[-1]\n",
    "            self.readout[k] = IndexedLinearReadout(n_neurons, \n",
    "                                                   in_features=dim_head*num_heads,\n",
    "                                                   dim_head=dim_head, \n",
    "                                                   num_heads=num_heads, \n",
    "                                                  )\n",
    "        self.init_weights()\n",
    "\n",
    "    def forward(self, x, key):\n",
    "        x = self.backbone(x, return_intermediates=True)[-1][-1]\n",
    "        b, t, h, w, d = x.shape\n",
    "        x = self.kv_norm(x)\n",
    "        x = x.view(b, -1, d) # (B, t*h*w, D)\n",
    "        k, v = self.wk(x), self.wv(x)\n",
    "        q = self.q_norm(self.readout[key].query) # (1, N, D)\n",
    "        q = q.repeat(b, 1, 1) # repeat query for number of batches\n",
    "        q_attn = self.wq(q)\n",
    "        q_attn = q_attn.view(b, -1, self.num_heads, self.dim_head).transpose(1, 2)\n",
    "        k = k.view(b, -1, self.num_heads, self.dim_head).transpose(1, 2) # (B, H, S, D)\n",
    "        v = v.view(b, -1, self.num_heads, self.dim_head).transpose(1, 2) # (B, H, S, D)\n",
    "        with sdpa_kernel(SDPBackend.FLASH_ATTENTION):\n",
    "            o = F.scaled_dot_product_attention(q_attn, k, v)\n",
    "        # (B, H, S, D) -> (B, N, D), with N = num_neurons\n",
    "        o = o.transpose(1,2).contiguous().view(b, -1, self.dim_q)\n",
    "        o = self.wo(o) + q\n",
    "        o = self.qkv_norm(o)  \n",
    "        o = self.mlp(o) + o\n",
    "        o = self.neuron_proj(o) # (B, N, D) -> (B, N, t)\n",
    "        o = o + self.readout[key].bias\n",
    "        o = self.activation(o)\n",
    "        return o\n",
    "     \n",
    "    def init_weights(self, std=.5, cutoff_factor: int = 3):\n",
    "        \"\"\"See `TorchTitan <https://github.com/pytorch/torchtitan/blob/40a10263c5b3468ffa53b3ac98d80c9267d68155/torchtitan/models/llama/model.py#L403>`__.\"\"\"\n",
    "        std = self.dim_q**-0.5\n",
    "        for lin in (self.wq, self.wk, self.wv, self.wo):\n",
    "            nn.init.trunc_normal_(\n",
    "                lin.weight,\n",
    "                mean=0.0,\n",
    "                std=std,\n",
    "                a=-cutoff_factor * std,\n",
    "                b=cutoff_factor * std,\n",
    "            )"
   ]
  },
  {
   "cell_type": "code",
   "execution_count": 10,
   "id": "c67d0ee7-016f-4046-bfd9-ae084ac69cac",
   "metadata": {},
   "outputs": [],
   "source": [
    "class MLP(nn.Module):\n",
    "    def __init__(self, dim, hidden_dim):\n",
    "        super().__init__()\n",
    "        self.net = nn.Sequential(\n",
    "            nn.Linear(dim, hidden_dim),\n",
    "            nn.GELU(),\n",
    "            nn.Linear(hidden_dim, dim),\n",
    "        )\n",
    "        self.init_weights()\n",
    "\n",
    "    def forward(self, x):\n",
    "        return self.net(x)\n",
    "        \n",
    "    def init_weights(self, std=.5, cutoff_factor: int = 3):\n",
    "        \"\"\"See `TorchTitan <https://github.com/pytorch/torchtitan/blob/40a10263c5b3468ffa53b3ac98d80c9267d68155/torchtitan/models/llama/model.py#L403>`__.\"\"\"\n",
    "        nn.init.trunc_normal_(\n",
    "            self.net[0].weight,\n",
    "            mean=0.0,\n",
    "            std=std,\n",
    "            a=-cutoff_factor * std,\n",
    "            b=cutoff_factor * std,\n",
    "        )\n",
    "        nn.init.trunc_normal_(\n",
    "            self.net[2].weight,\n",
    "            mean=0.0,\n",
    "            std=std,\n",
    "            a=-cutoff_factor * std,\n",
    "            b=cutoff_factor * std,\n",
    "        )\n",
    "        self.net[0].bias.data.zero_()\n",
    "        self.net[2].bias.data.zero_()\n",
    "        "
   ]
  },
  {
   "cell_type": "code",
   "execution_count": 11,
   "id": "f07a6270-174c-42d7-8f19-2591ca4ddb1b",
   "metadata": {},
   "outputs": [],
   "source": [
    "class IndexedLinearReadout(nn.Module):\n",
    "    \"\"\"\n",
    "    Readout module for MTM models with selectable weights based on \n",
    "    input IDs. Based on :class:`torch.nn.Linear`.\n",
    "    \"\"\"\n",
    "    def __init__(\n",
    "        self,\n",
    "        unique_ids: int,\n",
    "        in_features: int = 384,\n",
    "        dim_head=32,\n",
    "        num_heads=4,\n",
    "        bias: bool = True,\n",
    "        device=\"cuda\",\n",
    "        dtype=torch.float32,\n",
    "        init_std: float = 0.02,\n",
    "    ):\n",
    "        super().__init__()\n",
    "        factory_kwargs = {\"device\": device, \"dtype\": dtype}\n",
    "        self.unique_ids = unique_ids\n",
    "        self.in_features = in_features\n",
    "        self.init_std = init_std\n",
    "        self.query = nn.Parameter(\n",
    "            torch.empty(1, unique_ids, dim_head*num_heads, **factory_kwargs)\n",
    "        )\n",
    "        if bias:\n",
    "            self.bias = nn.Parameter(\n",
    "                torch.empty(1, unique_ids, 1, **factory_kwargs)\n",
    "            )\n",
    "        else:\n",
    "            self.register_parameter('bias', None)\n",
    "        self.init_weights()\n",
    "\n",
    "    def init_weights(self, cutoff_factor: int = 3):\n",
    "        \"\"\"See `TorchTitan <https://github.com/pytorch/torchtitan/blob/40a10263c5b3468ffa53b3ac98d80c9267d68155/torchtitan/models/llama/model.py#L403>`__.\"\"\"\n",
    "        readout_std = self.in_features**-0.5\n",
    "        nn.init.trunc_normal_(\n",
    "            self.query,\n",
    "            mean=0.0,\n",
    "            std=readout_std,\n",
    "            a=-cutoff_factor * readout_std,\n",
    "            b=cutoff_factor * readout_std,\n",
    "        )\n",
    "        if self.bias is not None:\n",
    "            self.bias.data.zero_()"
   ]
  },
  {
   "cell_type": "markdown",
   "id": "0dddde36-dfd5-44b3-8961-b67d970422a5",
   "metadata": {},
   "source": [
    "### Build Model"
   ]
  },
  {
   "cell_type": "code",
   "execution_count": 12,
   "id": "512db87e-b274-4208-9579-0c36d322d213",
   "metadata": {},
   "outputs": [],
   "source": [
    "backbone_dim = hiera_output[-1][-1].shape[-1]\n",
    "model = MouseHiera(backbone=tiny_hiera, \n",
    "                        dls=train_dl, \n",
    "                        chunk_size=response_chunk_size,\n",
    "                        dim=backbone_dim, \n",
    "                        dim_head=dim_head,\n",
    "                        num_heads=num_heads,\n",
    "                       mlp_ratio=mlp_ratio)\n",
    "model = model.to(torch.float32).cuda();"
   ]
  },
  {
   "cell_type": "markdown",
   "id": "53db1feb-d92b-426b-925e-5ae114465d83",
   "metadata": {},
   "source": [
    "# Trainer"
   ]
  },
  {
   "cell_type": "code",
   "execution_count": 13,
   "id": "ce03e89e-23d5-4cbe-b96e-8ecb2cee2d1d",
   "metadata": {},
   "outputs": [],
   "source": [
    "# pip install -U pytorch_warmup\n",
    "import pytorch_warmup as warmup\n",
    "lr = 1e-3\n",
    "T_max = 5e5\n",
    "eta_min = 5e-5\n",
    "weight_decay=0.05\n",
    "\n",
    "gradient_clipping = 1.0\n",
    "criteria = nn.PoissonNLLLoss(log_input=False, reduction='mean')\n",
    "opt = AdamW(model.parameters(), lr=lr, weight_decay=weight_decay)\n",
    "lr_scheduler = torch.optim.lr_scheduler.CosineAnnealingLR(opt,\n",
    "                                                          T_max=T_max, \n",
    "                                                          eta_min=eta_min)\n",
    "warmup_scheduler = warmup.UntunedLinearWarmup(opt)"
   ]
  },
  {
   "cell_type": "markdown",
   "id": "6fa9687b-b374-4555-b304-b0c8a295fd7f",
   "metadata": {},
   "source": [
    "# Logging"
   ]
  },
  {
   "cell_type": "code",
   "execution_count": 14,
   "id": "5cb6a9f2-7ba9-4a03-adfd-28e14aaf41fe",
   "metadata": {},
   "outputs": [],
   "source": [
    "import os\n",
    "import sys\n",
    "from omegaconf import DictConfig, ListConfig\n",
    "\n",
    "import hydra\n",
    "from hydra import utils\n",
    "import mlflow\n",
    "import torch\n",
    "import torch.nn as nn\n",
    "import torch.optim as optim\n",
    "from torchvision import transforms\n",
    "from torchvision.datasets import MNIST\n",
    "from torch.utils.data import DataLoader, random_split\n",
    "import mlflow\n",
    "mlflow.set_tracking_uri(\"http://at-compute015:5000/\")\n",
    "experiment_name = \"mousehiera-base-0\"\n",
    "current_experiment=dict(mlflow.get_experiment_by_name(experiment_name))\n",
    "experiment_id=current_experiment['experiment_id']"
   ]
  },
  {
   "cell_type": "markdown",
   "id": "1a91982d-a5f5-4a86-86c8-c04280570032",
   "metadata": {},
   "source": [
    "# train"
   ]
  },
  {
   "cell_type": "code",
   "execution_count": null,
   "id": "2fa59f4a-4b2c-40ec-a83b-ece17dddaee8",
   "metadata": {
    "scrolled": true
   },
   "outputs": [
    {
     "name": "stderr",
     "output_type": "stream",
     "text": [
      "0it [00:00, ?it/s]\n",
      "0it [00:00, ?it/s]\u001b[A\n",
      "3it [00:00, 16.41it/s]\u001b[A\n",
      "5it [00:00,  7.50it/s]\u001b[A\n",
      "7it [00:00,  7.19it/s]\u001b[A\n",
      "9it [00:01,  6.49it/s]\u001b[A\n",
      "11it [00:01,  5.83it/s]\u001b[A\n",
      "13it [00:02,  5.64it/s]\u001b[A\n",
      "15it [00:02,  5.59it/s]\u001b[A\n",
      "17it [00:02,  5.43it/s]\u001b[A\n",
      "19it [00:03,  5.25it/s]\u001b[A\n",
      "21it [00:03,  5.16it/s]\u001b[A\n",
      "23it [00:04,  5.04it/s]\u001b[A\n",
      "25it [00:04,  4.90it/s]\u001b[A\n",
      "27it [00:04,  5.00it/s]\u001b[A\n",
      "29it [00:05,  4.96it/s]\u001b[A\n",
      "31it [00:05,  4.98it/s]\u001b[A\n",
      "34it [00:06,  5.55it/s]\u001b[A\n",
      "\n",
      "0it [00:00, ?it/s]\u001b[A\n",
      "1it [00:00,  2.81it/s]\u001b[A\n",
      "3it [00:00,  4.24it/s]\u001b[A\n",
      "5it [00:01,  4.56it/s]\u001b[A\n",
      "7it [00:01,  4.56it/s]\u001b[A\n",
      "9it [00:01,  4.82it/s]\u001b[A\n",
      "11it [00:02,  5.04it/s]\u001b[A\n",
      "13it [00:02,  4.73it/s]\u001b[A\n",
      "15it [00:03,  4.84it/s]\u001b[A\n",
      "17it [00:03,  4.71it/s]\u001b[A\n",
      "19it [00:04,  4.86it/s]\u001b[A\n",
      "21it [00:04,  5.05it/s]\u001b[A\n",
      "23it [00:04,  4.77it/s]\u001b[A\n",
      "25it [00:05,  5.11it/s]\u001b[A\n",
      "27it [00:05,  5.08it/s]\u001b[A\n",
      "29it [00:06,  5.00it/s]\u001b[A\n",
      "31it [00:06,  5.05it/s]\u001b[A\n",
      "34it [00:06,  5.02it/s]\u001b[A\n",
      "9999it [09:38, 17.82it/s]\n",
      "0it [00:00, ?it/s]\u001b[A\n",
      "5it [00:00,  8.53it/s]\u001b[A\n",
      "7it [00:00,  6.79it/s]\u001b[A\n",
      "9it [00:01,  6.06it/s]\u001b[A\n",
      "11it [00:01,  5.34it/s]\u001b[A\n",
      "13it [00:02,  5.05it/s]\u001b[A\n",
      "15it [00:02,  5.10it/s]\u001b[A\n",
      "17it [00:03,  5.00it/s]\u001b[A\n",
      "19it [00:03,  4.82it/s]\u001b[A\n",
      "21it [00:03,  4.82it/s]\u001b[A\n",
      "23it [00:04,  4.95it/s]\u001b[A\n",
      "25it [00:04,  4.95it/s]\u001b[A\n",
      "27it [00:05,  4.68it/s]\u001b[A\n",
      "29it [00:05,  4.93it/s]\u001b[A\n",
      "31it [00:05,  4.97it/s]\u001b[A\n",
      "34it [00:06,  5.29it/s]\u001b[A\n",
      "/usr/local/lib/python3.10/dist-packages/torchmetrics/utilities/prints.py:43: UserWarning: The variance of predictions or target is close to zero. This can cause instability in Pearson correlationcoefficient, leading to wrong results. Consider re-scaling the input if possible or computing using alarger dtype (currently using torch.float32).\n",
      "  warnings.warn(*args, **kwargs)  # noqa: B028\n",
      "\n",
      "0it [00:00, ?it/s]\u001b[A\n",
      "1it [00:00,  2.65it/s]\u001b[A\n",
      "3it [00:00,  4.12it/s]\u001b[A\n",
      "5it [00:01,  4.45it/s]\u001b[A\n",
      "7it [00:01,  4.63it/s]\u001b[A\n",
      "9it [00:02,  4.72it/s]\u001b[A\n",
      "11it [00:02,  4.83it/s]\u001b[A\n",
      "13it [00:02,  4.81it/s]\u001b[A\n",
      "15it [00:03,  4.90it/s]\u001b[A\n",
      "9999it [09:49, 17.82it/s]A\n",
      "19it [00:03,  5.08it/s]\u001b[A\n",
      "21it [00:04,  5.02it/s]\u001b[A\n",
      "23it [00:04,  5.06it/s]\u001b[A\n",
      "25it [00:05,  4.91it/s]\u001b[A\n",
      "27it [00:05,  4.88it/s]\u001b[A\n",
      "29it [00:06,  4.85it/s]\u001b[A\n",
      "31it [00:06,  4.92it/s]\u001b[A\n",
      "34it [00:06,  4.94it/s]\u001b[A\n",
      "20000it [19:19, 17.81it/s]\n",
      "0it [00:00, ?it/s]\u001b[A\n",
      "5it [00:00,  8.42it/s]\u001b[A\n",
      "7it [00:01,  6.50it/s]\u001b[A\n",
      "9it [00:01,  5.78it/s]\u001b[A\n",
      "11it [00:01,  5.26it/s]\u001b[A\n",
      "13it [00:02,  4.55it/s]\u001b[A\n",
      "15it [00:02,  5.06it/s]\u001b[A\n",
      "17it [00:03,  4.80it/s]\u001b[A\n",
      "19it [00:03,  4.90it/s]\u001b[A\n",
      "21it [00:04,  4.75it/s]\u001b[A\n",
      "23it [00:04,  4.71it/s]\u001b[A\n",
      "25it [00:04,  4.48it/s]\u001b[A\n",
      "27it [00:05,  4.55it/s]\u001b[A\n",
      "29it [00:05,  4.65it/s]\u001b[A\n",
      "31it [00:06,  4.72it/s]\u001b[A\n",
      "34it [00:06,  5.10it/s]\u001b[A\n",
      "\n",
      "0it [00:00, ?it/s]\u001b[A\n",
      "1it [00:00,  2.63it/s]\u001b[A\n",
      "3it [00:00,  3.79it/s]\u001b[A\n",
      "5it [00:01,  4.23it/s]\u001b[A\n",
      "7it [00:01,  4.51it/s]\u001b[A\n",
      "9it [00:02,  4.77it/s]\u001b[A\n",
      "11it [00:02,  4.82it/s]\u001b[A\n",
      "20000it [19:29, 17.81it/s]\n",
      "15it [00:03,  4.83it/s]\u001b[A\n",
      "17it [00:03,  4.68it/s]\u001b[A\n",
      "19it [00:04,  4.71it/s]\u001b[A\n",
      "21it [00:04,  4.84it/s]\u001b[A\n",
      "23it [00:04,  4.73it/s]\u001b[A\n",
      "25it [00:05,  4.65it/s]\u001b[A\n",
      "27it [00:05,  4.82it/s]\u001b[A\n",
      "29it [00:06,  4.76it/s]\u001b[A\n",
      "31it [00:06,  4.84it/s]\u001b[A\n",
      "34it [00:07,  4.83it/s]\u001b[A\n",
      "29999it [28:58, 17.78it/s]\n",
      "0it [00:00, ?it/s]\u001b[A\n",
      "4it [00:00, 39.02it/s]\u001b[A\n",
      "8it [00:01,  6.96it/s]\u001b[A\n",
      "10it [00:01,  5.57it/s]\u001b[A\n",
      "12it [00:01,  5.36it/s]\u001b[A\n",
      "13it [00:02,  4.70it/s]\u001b[A\n",
      "15it [00:02,  4.78it/s]\u001b[A\n",
      "17it [00:03,  4.96it/s]\u001b[A\n",
      "19it [00:03,  5.10it/s]\u001b[A\n",
      "21it [00:03,  5.18it/s]\u001b[A\n",
      "23it [00:04,  4.96it/s]\u001b[A\n",
      "25it [00:04,  5.03it/s]\u001b[A\n",
      "27it [00:04,  5.21it/s]\u001b[A\n",
      "29it [00:05,  5.11it/s]\u001b[A\n",
      "31it [00:05,  5.18it/s]\u001b[A\n",
      "34it [00:06,  5.50it/s]\u001b[A\n",
      "\n",
      "0it [00:00, ?it/s]\u001b[A\n",
      "1it [00:00,  3.26it/s]\u001b[A\n",
      "3it [00:00,  4.74it/s]\u001b[A\n",
      "5it [00:01,  4.84it/s]\u001b[A\n",
      "7it [00:01,  5.15it/s]\u001b[A\n",
      "9it [00:01,  5.23it/s]\u001b[A\n",
      "11it [00:02,  5.25it/s]\u001b[A\n",
      "13it [00:02,  5.19it/s]\u001b[A\n",
      "15it [00:02,  5.06it/s]\u001b[A\n",
      "17it [00:03,  5.09it/s]\u001b[A\n",
      "29999it [29:09, 17.78it/s]\n",
      "21it [00:04,  5.23it/s]\u001b[A\n",
      "23it [00:04,  5.34it/s]\u001b[A\n",
      "25it [00:04,  5.32it/s]\u001b[A\n",
      "27it [00:05,  5.45it/s]\u001b[A\n",
      "29it [00:05,  5.30it/s]\u001b[A\n",
      "31it [00:06,  5.12it/s]\u001b[A\n",
      "34it [00:06,  5.28it/s]\u001b[A\n",
      "39999it [38:37, 17.84it/s]\n",
      "0it [00:00, ?it/s]\u001b[A\n",
      "5it [00:00, 10.77it/s]\u001b[A\n",
      "7it [00:00,  7.90it/s]\u001b[A\n",
      "9it [00:01,  6.61it/s]\u001b[A\n",
      "11it [00:01,  6.24it/s]\u001b[A\n",
      "13it [00:01,  6.08it/s]\u001b[A\n",
      "14it [00:02,  6.49it/s]\u001b[A\n",
      "15it [00:02,  5.80it/s]\u001b[A\n",
      "16it [00:02,  6.17it/s]\u001b[A\n",
      "17it [00:02,  5.78it/s]\u001b[A\n",
      "18it [00:02,  5.81it/s]\u001b[A\n",
      "19it [00:02,  5.60it/s]\u001b[A\n",
      "20it [00:03,  5.55it/s]\u001b[A\n",
      "21it [00:03,  5.68it/s]\u001b[A\n",
      "22it [00:03,  5.41it/s]\u001b[A\n",
      "23it [00:03,  5.53it/s]\u001b[A\n",
      "24it [00:03,  5.40it/s]\u001b[A\n",
      "25it [00:04,  5.49it/s]\u001b[A\n",
      "26it [00:04,  5.43it/s]\u001b[A\n",
      "27it [00:04,  5.49it/s]\u001b[A\n",
      "28it [00:04,  5.03it/s]\u001b[A\n",
      "29it [00:04,  5.52it/s]\u001b[A\n",
      "30it [00:05,  4.99it/s]\u001b[A\n",
      "31it [00:05,  5.34it/s]\u001b[A\n",
      "32it [00:05,  4.99it/s]\u001b[A\n",
      "33it [00:05,  5.54it/s]\u001b[A\n",
      "34it [00:05,  5.81it/s]\u001b[A\n",
      "\n",
      "0it [00:00, ?it/s]\u001b[A\n",
      "1it [00:00,  8.40it/s]\u001b[A\n",
      "2it [00:00,  5.10it/s]\u001b[A\n",
      "3it [00:00,  5.99it/s]\u001b[A\n",
      "4it [00:00,  5.16it/s]\u001b[A\n",
      "5it [00:00,  5.76it/s]\u001b[A\n",
      "6it [00:01,  4.93it/s]\u001b[A\n",
      "7it [00:01,  5.66it/s]\u001b[A\n",
      "8it [00:01,  5.01it/s]\u001b[A\n",
      "9it [00:01,  5.40it/s]\u001b[A\n",
      "10it [00:01,  5.12it/s]\u001b[A\n",
      "11it [00:02,  5.59it/s]\u001b[A\n",
      "12it [00:02,  5.04it/s]\u001b[A\n",
      "13it [00:02,  5.64it/s]\u001b[A\n",
      "14it [00:02,  5.27it/s]\u001b[A\n",
      "15it [00:02,  5.54it/s]\u001b[A\n",
      "16it [00:02,  5.24it/s]\u001b[A\n",
      "17it [00:03,  5.52it/s]\u001b[A\n",
      "18it [00:03,  5.13it/s]\u001b[A\n",
      "19it [00:03,  5.40it/s]\u001b[A\n",
      "20it [00:03,  5.12it/s]\u001b[A\n",
      "21it [00:03,  5.41it/s]\u001b[A\n",
      "22it [00:04,  5.02it/s]\u001b[A\n",
      "23it [00:04,  5.57it/s]\u001b[A\n",
      "24it [00:04,  4.96it/s]\u001b[A\n",
      "25it [00:04,  5.49it/s]\u001b[A\n",
      "26it [00:04,  5.04it/s]\u001b[A\n",
      "27it [00:05,  5.52it/s]\u001b[A\n",
      "28it [00:05,  5.21it/s]\u001b[A\n",
      "39999it [38:49, 17.84it/s]\n",
      "30it [00:05,  5.13it/s]\u001b[A\n",
      "31it [00:05,  5.57it/s]\u001b[A\n",
      "32it [00:06,  5.08it/s]\u001b[A\n",
      "33it [00:06,  5.46it/s]\u001b[A\n",
      "34it [00:06,  5.31it/s]\u001b[A\n",
      "49999it [48:15, 17.81it/s]\n",
      "0it [00:00, ?it/s]\u001b[A\n",
      "5it [00:00,  9.27it/s]\u001b[A\n",
      "7it [00:00,  7.36it/s]\u001b[A\n",
      "9it [00:01,  6.74it/s]\u001b[A\n",
      "11it [00:01,  5.89it/s]\u001b[A\n",
      "13it [00:02,  5.42it/s]\u001b[A\n",
      "15it [00:02,  5.42it/s]\u001b[A\n",
      "17it [00:02,  5.62it/s]\u001b[A\n",
      "19it [00:03,  5.48it/s]\u001b[A\n",
      "21it [00:03,  5.37it/s]\u001b[A\n",
      "23it [00:03,  5.43it/s]\u001b[A\n",
      "25it [00:04,  5.42it/s]\u001b[A\n",
      "27it [00:04,  5.38it/s]\u001b[A\n",
      "29it [00:05,  5.43it/s]\u001b[A\n",
      "31it [00:05,  5.43it/s]\u001b[A\n",
      "34it [00:05,  5.84it/s]\u001b[A\n",
      "\n",
      "0it [00:00, ?it/s]\u001b[A\n",
      "1it [00:00,  3.21it/s]\u001b[A\n",
      "3it [00:00,  4.53it/s]\u001b[A\n",
      "5it [00:01,  4.97it/s]\u001b[A\n",
      "7it [00:01,  5.59it/s]\u001b[A\n",
      "9it [00:01,  5.17it/s]\u001b[A\n",
      "11it [00:02,  5.27it/s]\u001b[A\n",
      "13it [00:02,  5.26it/s]\u001b[A\n",
      "15it [00:02,  5.35it/s]\u001b[A\n",
      "17it [00:03,  5.47it/s]\u001b[A\n",
      "19it [00:03,  5.41it/s]\u001b[A\n",
      "21it [00:03,  5.40it/s]\u001b[A\n",
      "23it [00:04,  5.53it/s]\u001b[A\n",
      "25it [00:04,  5.41it/s]\u001b[A\n",
      "27it [00:05,  5.46it/s]\u001b[A\n",
      "29it [00:05,  5.33it/s]\u001b[A\n",
      "31it [00:05,  5.49it/s]\u001b[A\n",
      "34it [00:06,  5.47it/s]\u001b[A\n",
      "60000it [57:53, 17.76it/s]\n",
      "0it [00:00, ?it/s]\u001b[A\n",
      "5it [00:00, 11.30it/s]\u001b[A\n",
      "7it [00:00,  8.19it/s]\u001b[A\n",
      "8it [00:00,  8.40it/s]\u001b[A\n",
      "9it [00:01,  6.70it/s]\u001b[A\n",
      "10it [00:01,  6.65it/s]\u001b[A\n",
      "11it [00:01,  6.19it/s]\u001b[A\n",
      "12it [00:01,  6.06it/s]\u001b[A\n",
      "13it [00:01,  5.83it/s]\u001b[A\n",
      "14it [00:02,  5.33it/s]\u001b[A\n",
      "15it [00:02,  5.76it/s]\u001b[A\n",
      "16it [00:02,  5.19it/s]\u001b[A\n",
      "17it [00:02,  5.87it/s]\u001b[A\n",
      "18it [00:02,  5.13it/s]\u001b[A\n",
      "19it [00:02,  5.58it/s]\u001b[A\n",
      "20it [00:03,  4.98it/s]\u001b[A\n",
      "21it [00:03,  5.68it/s]\u001b[A\n",
      "22it [00:03,  5.02it/s]\u001b[A\n",
      "23it [00:03,  5.38it/s]\u001b[A\n",
      "24it [00:03,  5.23it/s]\u001b[A\n",
      "25it [00:04,  5.44it/s]\u001b[A\n",
      "26it [00:04,  5.16it/s]\u001b[A\n",
      "27it [00:04,  5.41it/s]\u001b[A\n",
      "28it [00:04,  5.20it/s]\u001b[A\n",
      "29it [00:04,  5.58it/s]\u001b[A\n",
      "30it [00:05,  5.15it/s]\u001b[A\n",
      "31it [00:05,  5.04it/s]\u001b[A\n",
      "32it [00:05,  5.24it/s]\u001b[A\n",
      "33it [00:05,  5.00it/s]\u001b[A\n",
      "34it [00:05,  5.79it/s]\u001b[A\n",
      "\n",
      "0it [00:00, ?it/s]\u001b[A\n",
      "1it [00:00,  5.04it/s]\u001b[A\n",
      "2it [00:00,  5.70it/s]\u001b[A\n",
      "3it [00:00,  5.45it/s]\u001b[A\n",
      "4it [00:00,  5.41it/s]\u001b[A\n",
      "5it [00:00,  5.47it/s]\u001b[A\n",
      "6it [00:01,  5.40it/s]\u001b[A\n",
      "7it [00:01,  5.17it/s]\u001b[A\n",
      "8it [00:01,  5.36it/s]\u001b[A\n",
      "9it [00:01,  5.41it/s]\u001b[A\n",
      "10it [00:01,  5.11it/s]\u001b[A\n",
      "11it [00:02,  5.62it/s]\u001b[A\n",
      "12it [00:02,  5.07it/s]\u001b[A\n",
      "13it [00:02,  5.86it/s]\u001b[A\n",
      "14it [00:02,  4.99it/s]\u001b[A\n",
      "15it [00:02,  5.87it/s]\u001b[A\n",
      "16it [00:03,  4.84it/s]\u001b[A\n",
      "18it [00:03,  5.06it/s]\u001b[A\n",
      "20it [00:03,  5.20it/s]\u001b[A\n",
      "22it [00:04,  5.18it/s]\u001b[A\n",
      "24it [00:04,  5.18it/s]\u001b[A\n",
      "26it [00:04,  5.27it/s]\u001b[A\n",
      "28it [00:05,  5.33it/s]\u001b[A\n",
      "30it [00:05,  5.06it/s]\u001b[A\n",
      "32it [00:06,  5.30it/s]\u001b[A\n",
      "34it [00:06,  5.23it/s]\u001b[A\n",
      "64020it [1:01:53, 17.24it/s]\n",
      "0it [00:00, ?it/s]\n",
      "0it [00:00, ?it/s]\u001b[A\n",
      "5it [00:00,  8.64it/s]\u001b[A\n",
      "7it [00:00,  7.76it/s]\u001b[A\n",
      "9it [00:01,  6.85it/s]\u001b[A\n",
      "11it [00:01,  5.78it/s]\u001b[A\n",
      "13it [00:01,  6.09it/s]\u001b[A\n",
      "15it [00:02,  5.75it/s]\u001b[A\n",
      "17it [00:02,  5.80it/s]\u001b[A\n",
      "19it [00:03,  5.76it/s]\u001b[A\n",
      "21it [00:03,  5.69it/s]\u001b[A\n",
      "23it [00:03,  5.64it/s]\u001b[A\n",
      "25it [00:04,  5.54it/s]\u001b[A\n",
      "27it [00:04,  5.62it/s]\u001b[A\n",
      "29it [00:04,  5.31it/s]\u001b[A\n",
      "31it [00:05,  5.20it/s]\u001b[A\n",
      "34it [00:05,  5.93it/s]\u001b[A\n",
      "\n",
      "0it [00:00, ?it/s]\u001b[A\n",
      "1it [00:00,  2.76it/s]\u001b[A\n",
      "3it [00:00,  4.11it/s]\u001b[A\n",
      "5it [00:01,  4.53it/s]\u001b[A\n",
      "7it [00:01,  4.82it/s]\u001b[A\n",
      "9it [00:01,  5.16it/s]\u001b[A\n",
      "11it [00:02,  5.18it/s]\u001b[A\n",
      "13it [00:02,  5.21it/s]\u001b[A\n",
      "15it [00:03,  5.21it/s]\u001b[A\n",
      "17it [00:03,  5.41it/s]\u001b[A\n",
      "19it [00:03,  5.46it/s]\u001b[A\n",
      "21it [00:04,  5.55it/s]\u001b[A\n",
      "23it [00:04,  5.45it/s]\u001b[A\n",
      "25it [00:04,  5.47it/s]\u001b[A\n",
      "27it [00:05,  5.50it/s]\u001b[A\n",
      "29it [00:05,  5.51it/s]\u001b[A\n",
      "30it [00:05,  5.82it/s]\u001b[A\n",
      "31it [00:05,  5.23it/s]\u001b[A\n",
      "32it [00:06,  5.59it/s]\u001b[A\n",
      "33it [00:06,  5.30it/s]\u001b[A\n",
      "34it [00:06,  5.29it/s]\u001b[A\n",
      "10000it [09:38, 17.73it/s]\n",
      "0it [00:00, ?it/s]\u001b[A\n",
      "5it [00:00,  8.54it/s]\u001b[A\n",
      "7it [00:00,  7.61it/s]\u001b[A\n",
      "9it [00:01,  6.50it/s]\u001b[A\n",
      "11it [00:01,  5.90it/s]\u001b[A\n",
      "13it [00:02,  5.54it/s]\u001b[A\n",
      "15it [00:02,  5.42it/s]\u001b[A\n",
      "17it [00:02,  5.33it/s]\u001b[A\n",
      "19it [00:03,  5.07it/s]\u001b[A\n",
      "21it [00:03,  5.11it/s]\u001b[A\n",
      "23it [00:04,  5.18it/s]\u001b[A\n",
      "25it [00:04,  5.03it/s]\u001b[A\n",
      "27it [00:04,  5.12it/s]\u001b[A\n",
      "29it [00:05,  5.22it/s]\u001b[A\n",
      "31it [00:05,  5.23it/s]\u001b[A\n",
      "34it [00:06,  5.67it/s]\u001b[A\n",
      "\n",
      "0it [00:00, ?it/s]\u001b[A\n",
      "1it [00:00,  3.06it/s]\u001b[A\n",
      "3it [00:00,  4.52it/s]\u001b[A\n",
      "5it [00:01,  4.98it/s]\u001b[A\n",
      "7it [00:01,  5.26it/s]\u001b[A\n",
      "9it [00:01,  5.42it/s]\u001b[A\n",
      "11it [00:02,  5.52it/s]\u001b[A\n",
      "13it [00:02,  5.21it/s]\u001b[A\n",
      "15it [00:02,  5.33it/s]\u001b[A\n",
      "17it [00:03,  5.12it/s]\u001b[A\n",
      "19it [00:03,  5.24it/s]\u001b[A\n",
      "21it [00:03,  5.55it/s]\u001b[A\n",
      "23it [00:04,  5.54it/s]\u001b[A\n",
      "25it [00:04,  5.34it/s]\u001b[A\n",
      "27it [00:05,  5.14it/s]\u001b[A\n",
      "29it [00:05,  5.30it/s]\u001b[A\n",
      "31it [00:05,  5.41it/s]\u001b[A\n",
      "34it [00:06,  5.34it/s]\u001b[A\n",
      "19999it [19:16, 17.77it/s]\n",
      "0it [00:00, ?it/s]\u001b[A\n",
      "5it [00:00, 10.13it/s]\u001b[A\n",
      "7it [00:00,  8.10it/s]\u001b[A\n",
      "8it [00:00,  8.06it/s]\u001b[A\n",
      "9it [00:01,  6.86it/s]\u001b[A\n",
      "10it [00:01,  6.45it/s]\u001b[A\n",
      "11it [00:01,  5.80it/s]\u001b[A\n",
      "12it [00:01,  5.59it/s]\u001b[A\n",
      "13it [00:01,  5.72it/s]\u001b[A\n",
      "14it [00:02,  5.16it/s]\u001b[A\n",
      "15it [00:02,  5.75it/s]\u001b[A\n",
      "16it [00:02,  5.15it/s]\u001b[A\n",
      "17it [00:02,  5.66it/s]\u001b[A\n",
      "18it [00:02,  5.29it/s]\u001b[A\n",
      "19it [00:03,  5.79it/s]\u001b[A\n",
      "20it [00:03,  5.21it/s]\u001b[A\n",
      "21it [00:03,  5.74it/s]\u001b[A\n",
      "22it [00:03,  4.91it/s]\u001b[A\n",
      "24it [00:04,  5.14it/s]\u001b[A\n",
      "26it [00:04,  5.28it/s]\u001b[A\n",
      "28it [00:04,  5.21it/s]\u001b[A\n",
      "30it [00:05,  5.22it/s]\u001b[A\n",
      "32it [00:05,  5.23it/s]\u001b[A\n",
      "34it [00:05,  5.71it/s]\u001b[A\n",
      "\n",
      "0it [00:00, ?it/s]\u001b[A\n",
      "2it [00:00,  5.51it/s]\u001b[A\n",
      "4it [00:00,  5.20it/s]\u001b[A\n",
      "6it [00:01,  5.20it/s]\u001b[A\n",
      "8it [00:01,  5.25it/s]\u001b[A\n",
      "10it [00:01,  5.30it/s]\u001b[A\n",
      "12it [00:02,  5.07it/s]\u001b[A\n",
      "14it [00:02,  5.09it/s]\u001b[A\n",
      "16it [00:03,  5.25it/s]\u001b[A\n",
      "18it [00:03,  5.22it/s]\u001b[A\n",
      "20it [00:03,  5.23it/s]\u001b[A\n",
      "22it [00:04,  5.20it/s]\u001b[A\n",
      "24it [00:04,  5.10it/s]\u001b[A\n",
      "26it [00:05,  5.00it/s]\u001b[A\n",
      "28it [00:05,  5.12it/s]\u001b[A\n",
      "30it [00:05,  5.11it/s]\u001b[A\n",
      "32it [00:06,  5.19it/s]\u001b[A\n",
      "34it [00:06,  5.20it/s]\u001b[A\n",
      "29999it [28:54, 17.81it/s]\n",
      "0it [00:00, ?it/s]\u001b[A\n",
      "5it [00:00, 10.11it/s]\u001b[A\n",
      "7it [00:00,  7.89it/s]\u001b[A\n",
      "9it [00:01,  7.05it/s]\u001b[A\n",
      "10it [00:01,  7.31it/s]\u001b[A\n",
      "11it [00:01,  6.14it/s]\u001b[A\n",
      "13it [00:01,  6.05it/s]\u001b[A\n",
      "14it [00:02,  6.48it/s]\u001b[A\n",
      "15it [00:02,  5.56it/s]\u001b[A\n",
      "16it [00:02,  6.16it/s]\u001b[A\n",
      "17it [00:02,  5.28it/s]\u001b[A\n",
      "19it [00:03,  5.36it/s]\u001b[A\n",
      "20it [00:03,  5.94it/s]\u001b[A\n",
      "21it [00:03,  5.20it/s]\u001b[A\n",
      "22it [00:03,  5.81it/s]\u001b[A\n",
      "23it [00:03,  5.13it/s]\u001b[A\n",
      "24it [00:03,  5.76it/s]\u001b[A\n",
      "25it [00:04,  5.31it/s]\u001b[A\n",
      "26it [00:04,  5.67it/s]\u001b[A\n",
      "27it [00:04,  5.52it/s]\u001b[A\n",
      "28it [00:04,  5.47it/s]\u001b[A\n",
      "29it [00:04,  5.05it/s]\u001b[A\n",
      "30it [00:05,  5.56it/s]\u001b[A\n",
      "31it [00:05,  5.30it/s]\u001b[A\n",
      "32it [00:05,  5.45it/s]\u001b[A\n",
      "33it [00:05,  5.54it/s]\u001b[A\n",
      "34it [00:05,  5.93it/s]\u001b[A\n",
      "\n",
      "0it [00:00, ?it/s]\u001b[A\n",
      "1it [00:00,  5.63it/s]\u001b[A\n",
      "2it [00:00,  5.70it/s]\u001b[A\n",
      "3it [00:00,  5.52it/s]\u001b[A\n",
      "4it [00:00,  5.44it/s]\u001b[A\n",
      "5it [00:00,  5.71it/s]\u001b[A\n",
      "6it [00:01,  5.11it/s]\u001b[A\n",
      "7it [00:01,  5.68it/s]\u001b[A\n",
      "8it [00:01,  5.22it/s]\u001b[A\n",
      "9it [00:01,  5.81it/s]\u001b[A\n",
      "10it [00:01,  5.32it/s]\u001b[A\n",
      "11it [00:01,  5.67it/s]\u001b[A\n",
      "12it [00:02,  5.17it/s]\u001b[A\n",
      "13it [00:02,  5.44it/s]\u001b[A\n",
      "14it [00:02,  5.23it/s]\u001b[A\n",
      "15it [00:02,  5.61it/s]\u001b[A\n",
      "16it [00:02,  5.44it/s]\u001b[A\n",
      "17it [00:03,  5.60it/s]\u001b[A\n",
      "18it [00:03,  5.28it/s]\u001b[A\n",
      "19it [00:03,  5.57it/s]\u001b[A\n",
      "20it [00:03,  4.87it/s]\u001b[A\n",
      "21it [00:03,  5.49it/s]\u001b[A\n",
      "22it [00:04,  5.12it/s]\u001b[A\n",
      "23it [00:04,  5.60it/s]\u001b[A\n",
      "24it [00:04,  5.02it/s]\u001b[A\n",
      "29999it [29:05, 17.81it/s]\n",
      "26it [00:04,  4.95it/s]\u001b[A\n",
      "27it [00:04,  5.80it/s]\u001b[A\n",
      "28it [00:05,  4.97it/s]\u001b[A\n",
      "30it [00:05,  5.10it/s]\u001b[A\n",
      "32it [00:05,  5.24it/s]\u001b[A\n",
      "34it [00:06,  5.36it/s]\u001b[A\n",
      "39999it [38:33, 17.79it/s]\n",
      "0it [00:00, ?it/s]\u001b[A\n",
      "5it [00:00, 10.19it/s]\u001b[A\n",
      "7it [00:00,  8.36it/s]\u001b[A\n",
      "8it [00:00,  8.38it/s]\u001b[A\n",
      "9it [00:01,  6.71it/s]\u001b[A\n",
      "10it [00:01,  7.20it/s]\u001b[A\n",
      "11it [00:01,  5.98it/s]\u001b[A\n",
      "12it [00:01,  6.59it/s]\u001b[A\n",
      "13it [00:01,  5.58it/s]\u001b[A\n",
      "14it [00:02,  5.89it/s]\u001b[A\n",
      "15it [00:02,  5.66it/s]\u001b[A\n",
      "16it [00:02,  5.79it/s]\u001b[A\n",
      "17it [00:02,  5.54it/s]\u001b[A\n",
      "18it [00:02,  5.65it/s]\u001b[A\n",
      "19it [00:02,  5.57it/s]\u001b[A\n",
      "20it [00:03,  5.42it/s]\u001b[A\n",
      "21it [00:03,  5.72it/s]\u001b[A\n",
      "22it [00:03,  5.25it/s]\u001b[A\n",
      "23it [00:03,  5.81it/s]\u001b[A\n",
      "24it [00:03,  5.18it/s]\u001b[A\n",
      "25it [00:04,  5.87it/s]\u001b[A\n",
      "26it [00:04,  4.87it/s]\u001b[A\n",
      "28it [00:04,  5.19it/s]\u001b[A\n",
      "30it [00:05,  5.26it/s]\u001b[A\n",
      "32it [00:05,  5.29it/s]\u001b[A\n",
      "34it [00:05,  5.88it/s]\u001b[A\n",
      "\n",
      "0it [00:00, ?it/s]\u001b[A\n",
      "2it [00:00,  6.03it/s]\u001b[A\n",
      "4it [00:00,  5.66it/s]\u001b[A\n",
      "6it [00:01,  5.29it/s]\u001b[A\n",
      "8it [00:01,  5.26it/s]\u001b[A\n",
      "10it [00:01,  5.30it/s]\u001b[A\n",
      "12it [00:02,  5.36it/s]\u001b[A\n",
      "14it [00:02,  5.49it/s]\u001b[A\n",
      "16it [00:02,  5.34it/s]\u001b[A\n",
      "18it [00:03,  5.46it/s]\u001b[A\n",
      "20it [00:03,  5.43it/s]\u001b[A\n",
      "22it [00:04,  5.48it/s]\u001b[A\n",
      "24it [00:04,  5.76it/s]\u001b[A\n",
      "26it [00:04,  5.46it/s]\u001b[A\n",
      "28it [00:05,  5.52it/s]\u001b[A\n",
      "30it [00:05,  5.50it/s]\u001b[A\n",
      "32it [00:05,  5.52it/s]\u001b[A\n",
      "34it [00:06,  5.46it/s]\u001b[A\n",
      "47995it [46:17, 17.96it/s]"
     ]
    }
   ],
   "source": [
    "n_epochs = 8\n",
    "\n",
    "with mlflow.start_run(\n",
    "    run_name=\"sota_with_behavior_2_op4\",\n",
    "    experiment_id=experiment_id,\n",
    "    tags={\"version\": \"v1\", \"priority\": \"P1\"},\n",
    "    description=\"parent\",):\n",
    "    for _ in range(n_epochs):\n",
    "        for i, (key, batch) in tqdm(enumerate(train_dl)):\n",
    "            videos = batch[\"screen\"].to(\"cuda\", torch.float32, non_blocking=True).transpose(1,2)\n",
    "            responses = batch[\"responses\"].to(\"cuda\", torch.float32, non_blocking=True)\n",
    "            with autocast(device_type='cuda', dtype=torch.bfloat16):\n",
    "                out = model(videos, key);\n",
    "            loss = criteria(out.transpose(1,2), responses)\n",
    "            loss.backward()\n",
    "            torch.nn.utils.clip_grad_norm_(model.parameters(), max_norm=gradient_clipping, norm_type=2)\n",
    "            opt.step()\n",
    "            opt.zero_grad()\n",
    "            with warmup_scheduler.dampening():\n",
    "                lr_scheduler.step()\n",
    "            \n",
    "            if i % 100 == 0:\n",
    "                mlflow.log_metric(\"train/loss\", loss.item())\n",
    "            if i % 10000 == 0:\n",
    "                val_corr = val_step()\n",
    "                test_corr = test_step()\n",
    "                mlflow.log_metric(\"validation/correlation\", val_corr)\n",
    "                mlflow.log_metric(\"test/correlation\", test_corr)"
   ]
  },
  {
   "cell_type": "markdown",
   "id": "ae5853c7-80ef-41b5-8e9a-0ffd8d6569fa",
   "metadata": {},
   "source": [
    "# Validation dataloader"
   ]
  },
  {
   "cell_type": "code",
   "execution_count": 15,
   "id": "27f562f0-b5c3-40e1-9d0c-830a4fd050d8",
   "metadata": {},
   "outputs": [
    {
     "name": "stderr",
     "output_type": "stream",
     "text": [
      "/usr/local/lib/python3.10/dist-packages/torchvision/transforms/v2/_deprecated.py:42: UserWarning: The transform `ToTensor()` is deprecated and will be removed in a future release. Instead, please use `v2.Compose([v2.ToImage(), v2.ToDtype(torch.float32, scale=True)])`.Output is equivalent up to float precision.\n",
      "  warnings.warn(\n"
     ]
    }
   ],
   "source": [
    "cfg.dataset.modality_config.screen.sample_stride = screen_chunk_size\n",
    "cfg.dataset.modality_config.screen.include_blanks=False\n",
    "cfg.dataset.modality_config.screen.valid_condition = {\"tier\": \"oracle\"}\n",
    "\n",
    "# example session\n",
    "val_dl = get_multisession_dataloader(full_paths[0:1], cfg)\n",
    "\n",
    "_, b = next(iter(val_dl))\n",
    "n_neurons = b[\"responses\"].shape[-1]"
   ]
  },
  {
   "cell_type": "code",
   "execution_count": 16,
   "id": "64cbe200-fa89-47f9-84dc-d77800010e05",
   "metadata": {},
   "outputs": [],
   "source": [
    "def val_step():\n",
    "    from torchmetrics.regression import PearsonCorrCoef\n",
    "    r = PearsonCorrCoef(num_outputs=n_neurons).cuda()\n",
    "    with torch.no_grad():\n",
    "        for i, (k, b) in tqdm(enumerate(val_dl)):\n",
    "            videos = b[\"screen\"].to(\"cuda\", torch.float32, non_blocking=True).permute(0,2,1,3,4)\n",
    "            responses = b[\"responses\"].to(\"cuda\", torch.float32, non_blocking=True)\n",
    "            with autocast(device_type='cuda', dtype=torch.bfloat16):\n",
    "                out = model(videos, k);\n",
    "            r.update(out.transpose(1,2).reshape(-1, n_neurons), responses.reshape(-1, n_neurons))\n",
    "    return r.compute().cpu().numpy().mean()"
   ]
  },
  {
   "cell_type": "code",
   "execution_count": 17,
   "id": "38759439-b2c9-4185-ba17-f13f2a7b42aa",
   "metadata": {},
   "outputs": [
    {
     "name": "stderr",
     "output_type": "stream",
     "text": [
      "33it [00:06,  5.34it/s]\n"
     ]
    },
    {
     "data": {
      "text/plain": [
       "np.float32(0.0010951426)"
      ]
     },
     "execution_count": 17,
     "metadata": {},
     "output_type": "execute_result"
    }
   ],
   "source": [
    "val_step()"
   ]
  },
  {
   "cell_type": "markdown",
   "id": "395973c3-cc65-433e-b2f1-e1861f8cc13c",
   "metadata": {},
   "source": [
    "# Final Test Set Score"
   ]
  },
  {
   "cell_type": "code",
   "execution_count": 18,
   "id": "9699a4ac-c646-4919-93c8-58738449b3b6",
   "metadata": {},
   "outputs": [],
   "source": [
    "cfg.dataset.modality_config.screen.sample_stride = screen_chunk_size\n",
    "cfg.dataset.modality_config.screen.include_blanks=False\n",
    "cfg.dataset.modality_config.screen.valid_condition = {\"tier\": \"final_test_1\"}\n",
    "\n",
    "# example session\n",
    "val_dl = get_multisession_dataloader(full_paths[0:1], cfg)\n",
    "\n",
    "_, b = next(iter(val_dl))\n",
    "n_neurons = b[\"responses\"].shape[-1]"
   ]
  },
  {
   "cell_type": "code",
   "execution_count": 19,
   "id": "ff02367f-4906-4d85-871f-a2435b463bc3",
   "metadata": {},
   "outputs": [],
   "source": [
    "def test_step():\n",
    "    from torchmetrics.regression import PearsonCorrCoef\n",
    "    r = PearsonCorrCoef(num_outputs=n_neurons).cuda()\n",
    "    with torch.no_grad():\n",
    "        for i, (k, b) in tqdm(enumerate(val_dl)):\n",
    "            videos = b[\"screen\"].to(\"cuda\", torch.float32, non_blocking=True).permute(0,2,1,3,4)\n",
    "            responses = b[\"responses\"].to(\"cuda\", torch.float32, non_blocking=True)\n",
    "            with autocast(device_type='cuda', dtype=torch.bfloat16):\n",
    "                out = model(videos, k);\n",
    "            r.update(out.transpose(1,2).reshape(-1, n_neurons), responses.reshape(-1, n_neurons))\n",
    "    return r.compute().cpu().numpy().mean()"
   ]
  },
  {
   "cell_type": "code",
   "execution_count": 20,
   "id": "1e412b1a-b796-43e5-bd63-fb354162cec8",
   "metadata": {},
   "outputs": [
    {
     "name": "stderr",
     "output_type": "stream",
     "text": [
      "34it [00:06,  4.95it/s]\n"
     ]
    },
    {
     "data": {
      "text/plain": [
       "np.float32(0.0010431157)"
      ]
     },
     "execution_count": 20,
     "metadata": {},
     "output_type": "execute_result"
    }
   ],
   "source": [
    "test_step()"
   ]
  },
  {
   "cell_type": "code",
   "execution_count": null,
   "id": "a67e9ef5-2edd-4a59-ae94-770f15801631",
   "metadata": {},
   "outputs": [],
   "source": []
  }
 ],
 "metadata": {
  "kernelspec": {
   "display_name": "Python 3 (ipykernel)",
   "language": "python",
   "name": "python3"
  },
  "language_info": {
   "codemirror_mode": {
    "name": "ipython",
    "version": 3
   },
   "file_extension": ".py",
   "mimetype": "text/x-python",
   "name": "python",
   "nbconvert_exporter": "python",
   "pygments_lexer": "ipython3",
   "version": "3.10.12"
  }
 },
 "nbformat": 4,
 "nbformat_minor": 5
}
