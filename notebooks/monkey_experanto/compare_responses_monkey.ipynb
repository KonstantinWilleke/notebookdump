{
 "cells": [
  {
   "cell_type": "code",
   "execution_count": 88,
   "id": "f37abf87-48e8-4310-b5fe-3fa15252599a",
   "metadata": {},
   "outputs": [
    {
     "name": "stdout",
     "output_type": "stream",
     "text": [
      "The autoreload extension is already loaded. To reload it, use:\n",
      "  %reload_ext autoreload\n"
     ]
    }
   ],
   "source": [
    "import os\n",
    "os.environ['CUDA_VISIBLE_DEVICES'] = '0'\n",
    "\n",
    "%matplotlib inline\n",
    "%load_ext autoreload\n",
    "%autoreload 2\n",
    "\n",
    "import numpy as np\n",
    "import matplotlib.pyplot as plt\n",
    "from os import path\n",
    "\n",
    "from tqdm import tqdm\n",
    "\n",
    "import torch\n",
    "from torch import nn\n",
    "from torch.nn import functional as F\n",
    "from torch.nn.functional import scaled_dot_product_attention\n",
    "from torch.nn.attention import SDPBackend, sdpa_kernel\n",
    "from torch.optim import AdamW, Adam\n",
    "from torch import autocast, GradScaler\n",
    "\n",
    "from omegaconf import OmegaConf, open_dict\n",
    "\n",
    "torch.backends.cuda.matmul.allow_tf32 = True\n",
    "torch.set_float32_matmul_precision('high')"
   ]
  },
  {
   "cell_type": "code",
   "execution_count": 3,
   "id": "f23e0be4-959a-4b3e-9f18-77d1079922e7",
   "metadata": {},
   "outputs": [],
   "source": [
    "from experanto.dataloaders import get_multisession_dataloader\n",
    "from experanto.datasets import ChunkDataset"
   ]
  },
  {
   "cell_type": "code",
   "execution_count": 4,
   "id": "f9b7cf29-8ae6-4e7b-b078-d96185bd7f21",
   "metadata": {},
   "outputs": [],
   "source": [
    "from experanto.configs import DEFAULT_CONFIG as cfg"
   ]
  },
  {
   "cell_type": "code",
   "execution_count": 266,
   "id": "e2c78122-575e-4951-a445-3d9190e0d3b6",
   "metadata": {},
   "outputs": [],
   "source": [
    "cfg.dataset.global_chunk_size = 1\n",
    "cfg.dataset.global_sampling_rate = 40\n",
    "if \"eye_tracker\" in cfg.dataset.modality_config:\n",
    "    with open_dict(cfg):\n",
    "        del cfg.dataset.modality_config[\"eye_tracker\"]\n",
    "        del cfg.dataset.modality_config[\"treadmill\"]\n",
    "\n",
    "cfg.dataset.modality_config.screen.sample_stride = 1\n",
    "cfg.dataset.modality_config.screen.include_blanks = False\n",
    "cfg.dataset.modality_config.screen.include_blanks = False\n",
    "cfg.dataset.modality_config.screen.interpolation.rescale = False\n",
    "cfg.dataset.modality_config.responses.offset = 0.04\n",
    "cfg.dataset.modality_config.screen.interpolation.rescale_size = None"
   ]
  },
  {
   "cell_type": "code",
   "execution_count": 267,
   "id": "36133c41-d5ee-4c4a-9fe2-d2ccddadda3d",
   "metadata": {},
   "outputs": [],
   "source": [
    "root_path = \"/data/monkey/pilot/experanto_datasets/dec5_first_try/\""
   ]
  },
  {
   "cell_type": "code",
   "execution_count": 268,
   "id": "4e4015ce-8dd9-4411-b3d2-d9c8535690c7",
   "metadata": {},
   "outputs": [],
   "source": [
    "from tqdm import tqdm"
   ]
  },
  {
   "cell_type": "code",
   "execution_count": 269,
   "id": "a5fe9a62-6d83-4c46-9992-080b68043fb4",
   "metadata": {},
   "outputs": [
    {
     "name": "stderr",
     "output_type": "stream",
     "text": [
      "100% 10/10 [04:42<00:00, 28.28s/it]\n"
     ]
    }
   ],
   "source": [
    "all_test_responses = []\n",
    "for image_id in tqdm(ids_to_loop[:10]):\n",
    "    cfg.dataset.modality_config.screen.valid_condition = dict(image_id=image_id.item(), valid_trial=True)\n",
    "    \n",
    "    dataset = ChunkDataset(root_path, **cfg.dataset)\n",
    "    \n",
    "    sample_points = np.where((np.diff(dataset._valid_screen_times)>1))[0]\n",
    "    \n",
    "    sample_points = np.insert(sample_points, 0,0)\n",
    "    \n",
    "    all_responses = []\n",
    "    for i, s in enumerate(sample_points[:-1]):\n",
    "        rs = []\n",
    "        for j in range(s, sample_points[i+1]):\n",
    "            rs.append(dataset[j][\"responses\"])\n",
    "        all_responses.append(np.vstack(rs).mean(0))\n",
    "    all_responses = np.stack(all_responses).mean(0)\n",
    "    all_test_responses.append(all_responses)"
   ]
  },
  {
   "cell_type": "code",
   "execution_count": 270,
   "id": "3edb1fe0-6ef8-4d9a-815d-aac63d453dd9",
   "metadata": {},
   "outputs": [
    {
     "data": {
      "text/plain": [
       "10"
      ]
     },
     "execution_count": 270,
     "metadata": {},
     "output_type": "execute_result"
    }
   ],
   "source": [
    "len(all_test_responses)"
   ]
  },
  {
   "cell_type": "code",
   "execution_count": null,
   "id": "7a6fd844-444b-47e4-9a6e-174773c0d973",
   "metadata": {},
   "outputs": [],
   "source": []
  },
  {
   "cell_type": "code",
   "execution_count": null,
   "id": "18ea8766-e9fa-4b29-89dd-fe6809f7d41c",
   "metadata": {},
   "outputs": [],
   "source": []
  },
  {
   "cell_type": "code",
   "execution_count": null,
   "id": "db2ca287-e33e-4caf-98a3-f0406d95b1f3",
   "metadata": {},
   "outputs": [],
   "source": []
  },
  {
   "cell_type": "code",
   "execution_count": 271,
   "id": "b5974c51-7962-497c-9ec3-8dc37da80d7f",
   "metadata": {},
   "outputs": [],
   "source": [
    "filename = \"/data/monkey/pilot/datasets/CSRF19_V1_3814547587776.pickle\""
   ]
  },
  {
   "cell_type": "code",
   "execution_count": 272,
   "id": "12c9e282-7728-4399-8dd3-057f5297e152",
   "metadata": {},
   "outputs": [],
   "source": [
    "import pickle\n",
    "with open(filename, 'rb') as pkl:\n",
    "    data = pickle.load(pkl)"
   ]
  },
  {
   "cell_type": "code",
   "execution_count": 273,
   "id": "8b6e5509-fcab-4b86-949b-cad4461b7f48",
   "metadata": {},
   "outputs": [],
   "source": [
    "testing_image_ids = data[\"testing_image_ids\"]\n",
    "testing_responses = data[\"testing_responses\"]"
   ]
  },
  {
   "cell_type": "code",
   "execution_count": 274,
   "id": "bd42e0f7-6d6d-4ef4-9a16-f83319c40a24",
   "metadata": {},
   "outputs": [
    {
     "data": {
      "text/plain": [
       "(317, 2265)"
      ]
     },
     "execution_count": 274,
     "metadata": {},
     "output_type": "execute_result"
    }
   ],
   "source": [
    "testing_responses.shape"
   ]
  },
  {
   "cell_type": "code",
   "execution_count": null,
   "id": "10153d51-99f3-477c-bdea-dc82a27165de",
   "metadata": {},
   "outputs": [],
   "source": []
  },
  {
   "cell_type": "code",
   "execution_count": null,
   "id": "0f27eed6-78d4-49cb-ac55-e69019f69f94",
   "metadata": {},
   "outputs": [],
   "source": []
  },
  {
   "cell_type": "code",
   "execution_count": 275,
   "id": "685e1805-8dfc-4cce-8800-2cbb642354d0",
   "metadata": {},
   "outputs": [],
   "source": [
    "ids_to_loop = np.unique(testing_image_ids)[:25]"
   ]
  },
  {
   "cell_type": "code",
   "execution_count": 276,
   "id": "67d78408-f17f-4a50-88a7-e01954ad409a",
   "metadata": {},
   "outputs": [
    {
     "data": {
      "text/plain": [
       "array([ 177,  208,  866,  898, 1149, 1262, 1483, 1695, 1774, 2605, 3035,\n",
       "       3126, 3415, 3649, 3774, 3912, 3926, 4078, 4254, 4515, 4958, 5047,\n",
       "       5095, 5118, 5235], dtype=uint32)"
      ]
     },
     "execution_count": 276,
     "metadata": {},
     "output_type": "execute_result"
    }
   ],
   "source": [
    "ids_to_loop"
   ]
  },
  {
   "cell_type": "code",
   "execution_count": 277,
   "id": "396f35b4-05fc-4ac1-bbd6-4a218cc0f1ca",
   "metadata": {},
   "outputs": [
    {
     "data": {
      "text/plain": [
       "array([283, 206, 251, 285, 265,  40, 247, 207, 305,  55, 215, 114, 310,\n",
       "       239, 316, 279, 115, 105, 266,  62, 128, 132, 197, 230, 233, 290,\n",
       "        91, 245, 269, 189, 175,   5, 264, 253, 282, 180,  80, 109, 150,\n",
       "       208, 261, 294, 224, 263, 203, 259,  16, 156, 309, 278, 225, 143,\n",
       "         8,  22, 272,  76, 122,  14, 127,   7,  85, 307, 284, 257, 250,\n",
       "       292, 118, 238, 107,  45, 106,   4, 121, 235, 274, 291,  89, 187,\n",
       "        39,  94, 101, 102, 191, 252,   0, 296, 306,  92,  73, 100, 220,\n",
       "        72, 201, 195, 137,  81, 270, 277,  90, 125, 194, 255, 138, 134,\n",
       "       139, 183, 202, 281, 188, 144,  42, 249, 267,  31, 295, 271, 142,\n",
       "        53,  82,  68, 254, 280, 258,  34, 176, 262, 209, 293,  23, 304,\n",
       "       256, 133,  18,  19, 218, 120, 164, 314, 113,  79,   6, 308, 149,\n",
       "        54, 214,  29, 219, 162,  33, 117, 287, 116, 151, 288, 148,  13,\n",
       "       190,  38, 168, 155,  30, 157, 169, 160, 299,  58, 244,  56, 268,\n",
       "       167,  49, 275,  78, 223, 260, 286, 248,  59, 289, 200, 311, 179,\n",
       "       130, 178,  86, 147, 129, 228, 213, 192,  57, 103, 170, 146, 123,\n",
       "       312, 152,   9, 198,  99,  12,  97, 246, 315,  67, 226, 177, 110,\n",
       "       242, 273,  77, 154, 217, 153, 276, 241, 232, 210, 234, 193, 298,\n",
       "        74,  66,  60, 171,   1, 184, 104,   2,  95,  35, 172,  17, 173,\n",
       "        93, 216, 135, 221,  47, 136, 236,  46,  28,  41,  11, 243, 126,\n",
       "        21,  15, 165, 313,  61,  84,  10, 229,  75, 181,  71, 174, 163,\n",
       "        83,  24,  27, 112, 161,  96, 301, 204,  32,   3,  37, 108, 111,\n",
       "        98, 166, 145,  36, 211, 199, 222, 140, 141, 186, 158,  50,  63,\n",
       "       237, 196, 240, 205,  70,  87,  43,  25, 185,  20,  48,  69, 119,\n",
       "       124,  26, 231, 159, 212, 227,  51, 297, 303,  65,  52, 182, 131,\n",
       "       302, 300,  44,  88,  64])"
      ]
     },
     "execution_count": 277,
     "metadata": {},
     "output_type": "execute_result"
    }
   ],
   "source": [
    "testing_responses.mean(1).argsort()"
   ]
  },
  {
   "cell_type": "code",
   "execution_count": 299,
   "id": "624d4700-9394-474c-9f5f-fdebe004fa44",
   "metadata": {},
   "outputs": [],
   "source": [
    "neuron=64"
   ]
  },
  {
   "cell_type": "code",
   "execution_count": 300,
   "id": "a679b5f0-5c0a-428f-8e7f-c2bc5716ccbf",
   "metadata": {},
   "outputs": [],
   "source": [
    "neuron_means = []\n",
    "for img_id in ids_to_loop[:10]:\n",
    "    neuron_means.append(testing_responses[neuron, testing_image_ids == img_id].mean().item())"
   ]
  },
  {
   "cell_type": "code",
   "execution_count": 301,
   "id": "e8897506-0f60-4169-8f3d-1f477f83ec9d",
   "metadata": {},
   "outputs": [],
   "source": [
    "yo = [i[neuron].item() for i in all_test_responses]"
   ]
  },
  {
   "cell_type": "code",
   "execution_count": 302,
   "id": "12ab89d0-c414-4a14-9f7e-e19b3af5ea0c",
   "metadata": {},
   "outputs": [
    {
     "data": {
      "text/plain": [
       "160"
      ]
     },
     "execution_count": 302,
     "metadata": {},
     "output_type": "execute_result"
    }
   ],
   "source": [
    "20*8"
   ]
  },
  {
   "cell_type": "code",
   "execution_count": 303,
   "id": "68af4221-3692-467d-a4ce-46f1daa70124",
   "metadata": {},
   "outputs": [
    {
     "data": {
      "text/plain": [
       "<matplotlib.collections.PathCollection at 0x7fdd661a3100>"
      ]
     },
     "execution_count": 303,
     "metadata": {},
     "output_type": "execute_result"
    },
    {
     "data": {
      "image/png": "[encoded data removed]",
      "text/plain": [
       "<Figure size 640x480 with 1 Axes>"
      ]
     },
     "metadata": {},
     "output_type": "display_data"
    }
   ],
   "source": [
    "plt.scatter(np.array(yo)*1000, np.array(neuron_means) * (1000/120))"
   ]
  },
  {
   "cell_type": "code",
   "execution_count": null,
   "id": "72fd0a9b-4ab4-4f13-9f9a-7712e06c8e1a",
   "metadata": {},
   "outputs": [],
   "source": []
  },
  {
   "cell_type": "code",
   "execution_count": null,
   "id": "b8ccb0d8-1085-4369-b4e6-6ae72985a31d",
   "metadata": {},
   "outputs": [],
   "source": []
  },
  {
   "cell_type": "code",
   "execution_count": null,
   "id": "419ee0cd-c710-44db-b1b2-0b89c6483b21",
   "metadata": {},
   "outputs": [],
   "source": []
  },
  {
   "cell_type": "code",
   "execution_count": 234,
   "id": "2b539dca-0659-4f5e-95f1-c3ad9d9a538a",
   "metadata": {},
   "outputs": [
    {
     "data": {
      "text/plain": [
       "18.6"
      ]
     },
     "execution_count": 234,
     "metadata": {},
     "output_type": "execute_result"
    }
   ],
   "source": [
    "[i.mean().item() for i in testing_responses[88, testing_image_ids == 177]]"
   ]
  },
  {
   "cell_type": "code",
   "execution_count": null,
   "id": "48f0a7c4-8c69-45d0-ba78-f1b434b658a8",
   "metadata": {},
   "outputs": [],
   "source": []
  }
 ],
 "metadata": {
  "kernelspec": {
   "display_name": "Python 3 (ipykernel)",
   "language": "python",
   "name": "python3"
  },
  "language_info": {
   "codemirror_mode": {
    "name": "ipython",
    "version": 3
   },
   "file_extension": ".py",
   "mimetype": "text/x-python",
   "name": "python",
   "nbconvert_exporter": "python",
   "pygments_lexer": "ipython3",
   "version": "3.10.12"
  }
 },
 "nbformat": 4,
 "nbformat_minor": 5
}
