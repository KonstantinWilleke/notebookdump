{
 "cells": [
  {
   "cell_type": "code",
   "execution_count": 1,
   "id": "1727b489-89a8-4c6d-b029-35bc74b5f77e",
   "metadata": {},
   "outputs": [],
   "source": [
    "import os\n",
    "os.environ['CUDA_VISIBLE_DEVICES'] = '0'\n",
    "\n",
    "%matplotlib inline\n",
    "%load_ext autoreload\n",
    "%autoreload 2\n",
    "\n",
    "import numpy as np\n",
    "import matplotlib.pyplot as plt\n",
    "from os import path\n",
    "\n",
    "from tqdm import tqdm\n",
    "\n",
    "import torch\n",
    "from torch import nn\n",
    "from torch.nn import functional as F\n",
    "from torch.nn.functional import scaled_dot_product_attention\n",
    "from torch.nn.attention import SDPBackend, sdpa_kernel\n",
    "from torch.optim import AdamW, Adam\n",
    "from torch import autocast, GradScaler\n",
    "\n",
    "from omegaconf import OmegaConf, open_dict\n",
    "\n",
    "torch.backends.cuda.matmul.allow_tf32 = True\n",
    "torch.set_float32_matmul_precision('high')"
   ]
  },
  {
   "cell_type": "code",
   "execution_count": 2,
   "id": "9123a6a0-f22a-439a-a718-06f926415944",
   "metadata": {},
   "outputs": [],
   "source": [
    "import experanto"
   ]
  },
  {
   "cell_type": "code",
   "execution_count": 3,
   "id": "91d31529-41a1-43b9-b8a5-1f3e493d6b1c",
   "metadata": {},
   "outputs": [],
   "source": [
    "from experanto.dataloaders import get_multisession_dataloader\n",
    "from experanto.datasets import ChunkDataset\n"
   ]
  },
  {
   "cell_type": "code",
   "execution_count": 4,
   "id": "6904cf6b-b2e5-4dbb-b59b-43398c8e7188",
   "metadata": {
    "scrolled": true
   },
   "outputs": [],
   "source": [
    "from experanto.configs import my_config, cfg"
   ]
  },
  {
   "cell_type": "code",
   "execution_count": 6,
   "id": "dfab5d45-4c6f-4963-aa6e-badd1ce56849",
   "metadata": {},
   "outputs": [
    {
     "data": {
      "text/plain": [
       "{'dataset': {'global_sampling_rate': None, 'global_chunk_size': None, 'modality_config': {'screen': {'keep_nans': False, 'sampling_rate': None, 'chunk_size': None, 'valid_condition': {'tier': 'train'}, 'offset': 0, 'sample_stride': 4, 'include_blanks': True, 'transforms': {'normalization': 'screen_hack'}, 'interpolation': {'rescale': True, 'rescale_size': [36, 64]}}, 'responses': {'keep_nans': False, 'sampling_rate': None, 'chunk_size': None, 'offset': 0.1, 'transforms': {'normalization': 'response_hack'}, 'interpolation': {'interpolation_mode': 'nearest_neighbor'}}, 'eye_tracker': {'keep_nans': False, 'sampling_rate': None, 'chunk_size': None, 'offset': 0, 'transforms': {'normalization': 'behavior_hack'}, 'interpolation': {'interpolation_mode': 'nearest_neighbor'}}, 'treadmill': {'keep_nans': False, 'sampling_rate': None, 'chunk_size': None, 'offset': 0, 'transforms': {'normalization': 'behavior_hack'}, 'interpolation': {'interpolation_mode': 'nearest_neighbor'}}}}, 'dataloader': {'batch_size': 32, 'shuffle': True, 'num_workers': 1, 'pin_memory': True, 'drop_last': True, 'prefetch_factor': 1, 'shuffle_each_epoch': True}}"
      ]
     },
     "execution_count": 6,
     "metadata": {},
     "output_type": "execute_result"
    }
   ],
   "source": [
    "my_config"
   ]
  },
  {
   "cell_type": "code",
   "execution_count": 5,
   "id": "7de5baaf-feaf-43c3-bf6e-900529ba1fa0",
   "metadata": {},
   "outputs": [
    {
     "data": {
      "text/plain": [
       "{'dataset': {'global_sampling_rate': None, 'global_chunk_size': None, 'modality_config': {'screen': {'keep_nans': False, 'sampling_rate': None, 'chunk_size': None, 'valid_condition': {'tier': 'train'}, 'offset': 0, 'sample_stride': 4, 'include_blanks': True, 'transforms': {'normalization': 'screen_hack'}, 'interpolation': {'rescale': True, 'rescale_size': [36, 64]}}, 'responses': {'keep_nans': False, 'sampling_rate': None, 'chunk_size': None, 'offset': 0.1, 'transforms': {'normalization': 'response_hack'}, 'interpolation': {'interpolation_mode': 'nearest_neighbor'}}, 'eye_tracker': {'keep_nans': False, 'sampling_rate': None, 'chunk_size': None, 'offset': 0, 'transforms': {'normalization': 'behavior_hack'}, 'interpolation': {'interpolation_mode': 'nearest_neighbor'}}, 'treadmill': {'keep_nans': False, 'sampling_rate': None, 'chunk_size': None, 'offset': 0, 'transforms': {'normalization': 'behavior_hack'}, 'interpolation': {'interpolation_mode': 'nearest_neighbor'}}}}, 'dataloader': {'batch_size': 32, 'shuffle': True, 'num_workers': 1, 'pin_memory': True, 'drop_last': True, 'prefetch_factor': 1, 'shuffle_each_epoch': True}}"
      ]
     },
     "execution_count": 5,
     "metadata": {},
     "output_type": "execute_result"
    }
   ],
   "source": [
    "cfg"
   ]
  },
  {
   "cell_type": "code",
   "execution_count": 24,
   "id": "bac64e5a-8d20-4b72-a406-95862f595a1e",
   "metadata": {},
   "outputs": [
    {
     "data": {
      "text/plain": [
       "PosixPath('/data/experanto/configs/default.yaml')"
      ]
     },
     "execution_count": 24,
     "metadata": {},
     "output_type": "execute_result"
    }
   ],
   "source": [
    "config_path"
   ]
  },
  {
   "cell_type": "code",
   "execution_count": 22,
   "id": "1121043c-a876-41d1-8321-4986f0acfbd7",
   "metadata": {},
   "outputs": [
    {
     "data": {
      "text/plain": [
       "'/data/experanto/experanto'"
      ]
     },
     "execution_count": 22,
     "metadata": {},
     "output_type": "execute_result"
    }
   ],
   "source": [
    "script_dir"
   ]
  },
  {
   "cell_type": "code",
   "execution_count": null,
   "id": "6a81e7b6-855e-4942-90c5-7ccad23215c1",
   "metadata": {},
   "outputs": [],
   "source": []
  },
  {
   "cell_type": "code",
   "execution_count": null,
   "id": "f472d11f-d902-46ad-b871-b7b8f29fc862",
   "metadata": {},
   "outputs": [],
   "source": []
  },
  {
   "cell_type": "code",
   "execution_count": 25,
   "id": "f404faa2-b40a-4dd9-8440-0ea31fd35d06",
   "metadata": {},
   "outputs": [],
   "source": [
    "yaml_conf = OmegaConf.load(config_path)"
   ]
  },
  {
   "cell_type": "code",
   "execution_count": null,
   "id": "02523fbe-cff1-4575-88b4-a4d2569ad70c",
   "metadata": {},
   "outputs": [],
   "source": []
  },
  {
   "cell_type": "code",
   "execution_count": null,
   "id": "a55d5b8b-3268-48be-a5c5-7ddb794fdbce",
   "metadata": {},
   "outputs": [],
   "source": []
  },
  {
   "cell_type": "code",
   "execution_count": 21,
   "id": "bad0cf89-19e3-44db-a309-545b59f10afd",
   "metadata": {},
   "outputs": [
    {
     "data": {
      "text/plain": [
       "{'batch_size': 32, 'shuffle': True, 'num_workers': 1, 'pin_memory': True, 'drop_last': True, 'prefetch_factor': 1, 'shuffle_each_epoch': True}"
      ]
     },
     "execution_count": 21,
     "metadata": {},
     "output_type": "execute_result"
    }
   ],
   "source": [
    "yaml_conf.dataloader"
   ]
  },
  {
   "cell_type": "markdown",
   "id": "100e71c8-43e5-486b-99a4-712b7d08518c",
   "metadata": {},
   "source": [
    "# Monkey"
   ]
  },
  {
   "cell_type": "code",
   "execution_count": null,
   "id": "e71f6b3d-4c6e-471b-99c7-a3b537717afa",
   "metadata": {
    "scrolled": true
   },
   "outputs": [],
   "source": [
    "cfg.dataset.global_chunk_size = 40\n",
    "cfg.dataset.global_sampling_rate = 40\n",
    "\n",
    "with open_dict(cfg):\n",
    "    del cfg.dataset.modality_config[\"eye_tracker\"]\n",
    "    del cfg.dataset.modality_config[\"treadmill\"]\n",
    "\n",
    "cfg.dataset.modality_config.screen.sample_stride = 1\n",
    "cfg.dataset.modality_config.screen.include_blanks = False\n",
    "cfg.dataset.modality_config.screen.include_blanks = False\n",
    "cfg.dataset.modality_config.screen.interpolation.rescale = False\n",
    "\n",
    "cfg.dataset.modality_config.responses.offset = 0\n",
    "\n",
    "cfg.dataset.modality_config.screen.interpolation.rescale_size = None\n",
    "\n",
    "root_path = \"/data/monkey/pilot/experanto_datasets/dec5_first_try/\"\n",
    "\n",
    "dataset = ChunkDataset(root_path, **cfg.dataset)"
   ]
  },
  {
   "cell_type": "code",
   "execution_count": null,
   "id": "19d2abfb-8f71-42fb-9c02-cece9d739dfa",
   "metadata": {},
   "outputs": [],
   "source": []
  },
  {
   "cell_type": "code",
   "execution_count": 13,
   "id": "5fbdf67f-6676-4337-8310-d28ca0193164",
   "metadata": {},
   "outputs": [],
   "source": [
    "from tqdm import tqdm\n",
    "cfg.dataloader.shuffle_each_epoch=False\n",
    "cfg.dataloader.num_workers=4\n",
    "cfg.dataloader.prefetch_factor = 2\n",
    "from experanto.dataloaders import get_multisession_dataloader\n",
    "dls = get_multisession_dataloader([root_path]*5, cfg)"
   ]
  },
  {
   "cell_type": "code",
   "execution_count": 14,
   "id": "90419946-c061-4599-ade3-f0af462b2496",
   "metadata": {},
   "outputs": [],
   "source": []
  },
  {
   "cell_type": "code",
   "execution_count": 15,
   "id": "b97a765d-a7a7-4d87-9cae-a10b74a2effe",
   "metadata": {},
   "outputs": [],
   "source": []
  },
  {
   "cell_type": "code",
   "execution_count": 43,
   "id": "608ce81f-392c-4923-ba07-f0a8c8235651",
   "metadata": {},
   "outputs": [],
   "source": []
  },
  {
   "cell_type": "code",
   "execution_count": 45,
   "id": "dc66217c-a75b-45b5-8b26-23e09a60d465",
   "metadata": {},
   "outputs": [],
   "source": []
  },
  {
   "cell_type": "code",
   "execution_count": 46,
   "id": "22d301a7-c518-491d-a04c-22923e5c5652",
   "metadata": {},
   "outputs": [
    {
     "data": {
      "text/plain": [
       "{0: <experanto.utils.MultiEpochsDataLoader at 0x7fb6c18a3640>,\n",
       " 1: <experanto.utils.MultiEpochsDataLoader at 0x7fb6a8075c00>,\n",
       " 2: <experanto.utils.MultiEpochsDataLoader at 0x7fb696bc1c90>,\n",
       " 3: <experanto.utils.MultiEpochsDataLoader at 0x7fb54f01c580>,\n",
       " 4: <experanto.utils.MultiEpochsDataLoader at 0x7fb54f061b40>}"
      ]
     },
     "execution_count": 46,
     "metadata": {},
     "output_type": "execute_result"
    }
   ],
   "source": [
    "dls.loaders"
   ]
  },
  {
   "cell_type": "code",
   "execution_count": 47,
   "id": "4c090095-e53e-47ae-a9b1-716aca5cf35f",
   "metadata": {},
   "outputs": [],
   "source": [
    "k, v = next(iter(dls))"
   ]
  },
  {
   "cell_type": "code",
   "execution_count": 48,
   "id": "50f01973-ccba-40f4-aae6-411f09039775",
   "metadata": {},
   "outputs": [
    {
     "data": {
      "text/plain": [
       "0"
      ]
     },
     "execution_count": 48,
     "metadata": {},
     "output_type": "execute_result"
    }
   ],
   "source": [
    "k"
   ]
  },
  {
   "cell_type": "code",
   "execution_count": 49,
   "id": "167e30bf-1a32-4385-8bb7-265d5a219d50",
   "metadata": {},
   "outputs": [
    {
     "data": {
      "text/plain": [
       "torch.Size([32, 40, 317])"
      ]
     },
     "execution_count": 49,
     "metadata": {},
     "output_type": "execute_result"
    }
   ],
   "source": [
    "v[\"responses\"].shape"
   ]
  },
  {
   "cell_type": "code",
   "execution_count": 50,
   "id": "41344e55-d763-4dcc-96e7-4794029e23bc",
   "metadata": {},
   "outputs": [
    {
     "data": {
      "text/plain": [
       "torch.Size([32, 40, 118, 118, 3])"
      ]
     },
     "execution_count": 50,
     "metadata": {},
     "output_type": "execute_result"
    }
   ],
   "source": [
    "v[\"screen\"].shape"
   ]
  },
  {
   "cell_type": "code",
   "execution_count": 51,
   "id": "a0e68f98-9125-4308-b701-12a0cd92c799",
   "metadata": {},
   "outputs": [
    {
     "name": "stderr",
     "output_type": "stream",
     "text": [
      "200it [00:18, 10.85it/s]\n"
     ]
    }
   ],
   "source": [
    "for i, (key, batch) in tqdm(enumerate(dls)):\n",
    "    videos = batch[\"screen\"].to(\"cuda\", torch.float32, non_blocking=True).transpose(1,2)\n",
    "    responses = batch[\"responses\"].to(\"cuda\", torch.float32, non_blocking=True)\n",
    "    if i >= 200:\n",
    "        break"
   ]
  },
  {
   "cell_type": "code",
   "execution_count": null,
   "id": "2846cd47-2dfe-4f61-a070-c05347057763",
   "metadata": {},
   "outputs": [],
   "source": []
  },
  {
   "cell_type": "code",
   "execution_count": null,
   "id": "eb7e9374-1efc-479f-a5b8-d356573cad9f",
   "metadata": {},
   "outputs": [],
   "source": []
  },
  {
   "cell_type": "code",
   "execution_count": null,
   "id": "abd90667-5800-46a1-abe1-692184f4f228",
   "metadata": {},
   "outputs": [],
   "source": []
  },
  {
   "cell_type": "markdown",
   "id": "3c117a46-9266-44cd-8655-f0e78e576c0d",
   "metadata": {},
   "source": [
    "# Original responses"
   ]
  },
  {
   "cell_type": "code",
   "execution_count": 96,
   "id": "7be54315-dddb-4378-9c0f-518475eba0fb",
   "metadata": {},
   "outputs": [],
   "source": [
    "filename = \"/data/monkey/pilot/datasets/CSRF19_V1_3814547587776.pickle\""
   ]
  },
  {
   "cell_type": "code",
   "execution_count": 97,
   "id": "84325d89-b986-4fb8-a812-ed1bf38a5ba1",
   "metadata": {},
   "outputs": [],
   "source": [
    "import pickle\n",
    "with open(filename, 'rb') as pkl:\n",
    "    data = pickle.load(pkl)"
   ]
  },
  {
   "cell_type": "code",
   "execution_count": 98,
   "id": "1ab9e5d4-0813-4e2b-bd7f-c7b4b14e0ed1",
   "metadata": {},
   "outputs": [],
   "source": [
    "testing_image_ids = data[\"testing_image_ids\"]\n",
    "testing_responses = data[\"testing_responses\"]"
   ]
  },
  {
   "cell_type": "code",
   "execution_count": 99,
   "id": "fc0af76e-dba0-4e0e-b76f-e6ab6ce1a53b",
   "metadata": {},
   "outputs": [
    {
     "data": {
      "text/plain": [
       "(317, 2265)"
      ]
     },
     "execution_count": 99,
     "metadata": {},
     "output_type": "execute_result"
    }
   ],
   "source": [
    "testing_responses.shape"
   ]
  },
  {
   "cell_type": "code",
   "execution_count": 100,
   "id": "5736bac6-8463-49f9-96d2-d758a9b586fa",
   "metadata": {},
   "outputs": [],
   "source": [
    "r1 = testing_responses[64, testing_image_ids == 177]"
   ]
  },
  {
   "cell_type": "code",
   "execution_count": 102,
   "id": "71b707d6-766a-454e-a338-2d8b6a2f8c49",
   "metadata": {
    "scrolled": true
   },
   "outputs": [
    {
     "data": {
      "text/plain": [
       "(30,)"
      ]
     },
     "execution_count": 102,
     "metadata": {},
     "output_type": "execute_result"
    }
   ],
   "source": [
    "r1.shape"
   ]
  },
  {
   "cell_type": "code",
   "execution_count": null,
   "id": "3bf57013-9714-47db-b8e6-c3c9364eb2ea",
   "metadata": {},
   "outputs": [],
   "source": []
  },
  {
   "cell_type": "code",
   "execution_count": null,
   "id": "d0f61697-8705-4fc7-ac1c-6b551fa9a34b",
   "metadata": {},
   "outputs": [],
   "source": []
  },
  {
   "cell_type": "code",
   "execution_count": null,
   "id": "9e60ab08-7473-4829-a81c-04ab6fdf5208",
   "metadata": {},
   "outputs": [],
   "source": []
  },
  {
   "cell_type": "code",
   "execution_count": null,
   "id": "dc62841d-4f80-4700-880f-2944e75d6004",
   "metadata": {},
   "outputs": [],
   "source": []
  },
  {
   "cell_type": "code",
   "execution_count": null,
   "id": "2dabcfe8-e155-40e0-af7f-cb28f2eed67c",
   "metadata": {},
   "outputs": [],
   "source": []
  },
  {
   "cell_type": "code",
   "execution_count": 29,
   "id": "0c190033-8cd8-4a27-9dce-191cc40eb263",
   "metadata": {},
   "outputs": [
    {
     "data": {
      "text/plain": [
       "(425033,)"
      ]
     },
     "execution_count": 29,
     "metadata": {},
     "output_type": "execute_result"
    }
   ],
   "source": [
    "dls.loaders['dec5_first_try/'].dataset._screen_sample_times.shape"
   ]
  },
  {
   "cell_type": "code",
   "execution_count": 30,
   "id": "4673d9df-bcee-420b-895f-037d648d8ffa",
   "metadata": {},
   "outputs": [
    {
     "data": {
      "text/plain": [
       "1"
      ]
     },
     "execution_count": 30,
     "metadata": {},
     "output_type": "execute_result"
    }
   ],
   "source": [
    "dls.loaders['dec5_first_try/'].dataset.sample_stride"
   ]
  },
  {
   "cell_type": "code",
   "execution_count": 31,
   "id": "6e3a07f6-6821-42b6-9f33-15c42b138bb5",
   "metadata": {},
   "outputs": [
    {
     "data": {
      "text/plain": [
       "10625.825"
      ]
     },
     "execution_count": 31,
     "metadata": {},
     "output_type": "execute_result"
    }
   ],
   "source": [
    "425033/40"
   ]
  },
  {
   "cell_type": "code",
   "execution_count": 23,
   "id": "c6c354fa-c621-4d0c-9846-6915ae61e9d7",
   "metadata": {},
   "outputs": [],
   "source": []
  },
  {
   "cell_type": "code",
   "execution_count": 24,
   "id": "ab1674ef-942a-496f-9ccd-1fca12cc529d",
   "metadata": {},
   "outputs": [
    {
     "data": {
      "text/plain": [
       "(23493,)"
      ]
     },
     "execution_count": 24,
     "metadata": {},
     "output_type": "execute_result"
    }
   ],
   "source": [
    "dataset._valid_screen_times.shape"
   ]
  },
  {
   "cell_type": "code",
   "execution_count": 25,
   "id": "4ef432c6-a835-4aba-8bff-4fbe7e73be49",
   "metadata": {},
   "outputs": [
    {
     "data": {
      "text/plain": [
       "939520"
      ]
     },
     "execution_count": 25,
     "metadata": {},
     "output_type": "execute_result"
    }
   ],
   "source": [
    "734*40*32"
   ]
  },
  {
   "cell_type": "code",
   "execution_count": 26,
   "id": "38b19ae5-d91f-4de9-b5ee-6bc8a38d24d8",
   "metadata": {},
   "outputs": [
    {
     "name": "stderr",
     "output_type": "stream",
     "text": [
      "258it [00:49,  5.17it/s]\n",
      "\n",
      "KeyboardInterrupt\n",
      "\n"
     ]
    }
   ],
   "source": [
    "for i, (key, batch) in tqdm(enumerate(dls)):\n",
    "    videos = batch[\"screen\"].to(\"cuda\", torch.float32, non_blocking=True).transpose(1,2)\n",
    "    responses = batch[\"responses\"].to(\"cuda\", torch.float32, non_blocking=True)"
   ]
  },
  {
   "cell_type": "code",
   "execution_count": null,
   "id": "35f0d152-6c03-43a7-a69d-9f55687798cd",
   "metadata": {},
   "outputs": [],
   "source": [
    "len(dls.loaders['dec5_first_try/'])"
   ]
  },
  {
   "cell_type": "code",
   "execution_count": null,
   "id": "ab4bd540-cd03-4c1c-a00a-bc9f0415567b",
   "metadata": {},
   "outputs": [],
   "source": []
  },
  {
   "cell_type": "code",
   "execution_count": null,
   "id": "ab9433b7-a7bf-4bda-9c2e-cf02378b1381",
   "metadata": {},
   "outputs": [],
   "source": []
  },
  {
   "cell_type": "code",
   "execution_count": null,
   "id": "6ce21d75-cd6e-44bf-9e21-3d6469cfe86a",
   "metadata": {},
   "outputs": [],
   "source": []
  },
  {
   "cell_type": "code",
   "execution_count": null,
   "id": "4b61375e-62ed-40f3-9afe-81a54897589a",
   "metadata": {},
   "outputs": [],
   "source": []
  },
  {
   "cell_type": "code",
   "execution_count": 4,
   "id": "a2182b66-d16b-41a0-9e7c-3660d0866a5f",
   "metadata": {},
   "outputs": [],
   "source": [
    "video_size = [36, 64]\n",
    "batchsize=16\n",
    "\n",
    "screen_chunk_size = 60\n",
    "screen_sampling_rate = 30\n",
    "\n",
    "response_chunk_size = 8\n",
    "response_sampling_rate = 8\n",
    "\n",
    "behavior_as_channels = True\n",
    "replace_nans_with_means = True\n",
    "\n",
    "dim_head = 64\n",
    "num_heads = 2\n",
    "drop_path_rate = 0\n",
    "mlp_ratio=4"
   ]
  },
  {
   "cell_type": "markdown",
   "id": "e3f9b3f9-5fab-4cef-9a8b-b7cb2e38c38a",
   "metadata": {},
   "source": [
    "### get dataloaders"
   ]
  },
  {
   "cell_type": "code",
   "execution_count": 58,
   "id": "99d1a77f-bfc9-4af1-81b9-fa0e8bcd84eb",
   "metadata": {},
   "outputs": [],
   "source": [
    "paths = ['dynamic29513-3-5-Video-full',]\n",
    "\n",
    "full_paths = [path.join(\"/data/mouse_polly/\", f) for f in paths]"
   ]
  },
  {
   "cell_type": "code",
   "execution_count": 59,
   "id": "92d5d709-5aae-460a-a7d1-5dc9ceab9cdd",
   "metadata": {},
   "outputs": [
    {
     "data": {
      "text/plain": [
       "['/data/mouse_polly/dynamic29513-3-5-Video-full']"
      ]
     },
     "execution_count": 59,
     "metadata": {},
     "output_type": "execute_result"
    }
   ],
   "source": [
    "full_paths"
   ]
  },
  {
   "cell_type": "code",
   "execution_count": 60,
   "id": "3de5f509-d096-4007-bbc0-fc412fd92348",
   "metadata": {},
   "outputs": [],
   "source": [
    "# dataloader\n",
    "video_size = [36, 64]\n",
    "batchsize=16\n",
    "screen_chunk_size = 60\n",
    "screen_sampling_rate = 30\n",
    "response_chunk_size = 8\n",
    "response_sampling_rate = 8\n",
    "behavior_as_channels = True\n",
    "replace_nans_with_means = True\n",
    "num_workers = 2\n",
    "prefetch_factor = 2\n",
    "pin_memory = True\n",
    "shuffle = True\n",
    "\n",
    "# hiera args\n",
    "hiera_num_heads=  3\n",
    "hiera_embed_dim = 96\n",
    "hiera_stages = (2, 1,) # 3 transformer layers \n",
    "hiera_q_pool = 1\n",
    "hiera_in_chans = 6\n",
    "hiera_q_stride = (1, 1, 1,)\n",
    "hiera_mask_unit_size = (1, 8, 8)\n",
    "hiera_patch_kernel = (5, 5, 5)\n",
    "hiera_patch_stride = (3, 2, 2)\n",
    "hiera_patch_padding = (1, 2, 2)\n",
    "hiera_sep_pos_embed = True\n",
    "hiera_drop_path_rate = 0\n",
    "hiera_mlp_ratio =  4\n",
    "\n",
    "\n",
    "# readout args\n",
    "dim_head = 64\n",
    "num_heads = 2\n",
    "readout_mlp_ratio=4\n",
    "readout_softmax_beta=0.1\n",
    "readout_use_session_embedding=False\n",
    "readout_skip_connection=True\n",
    "\n",
    "\n",
    "# Training\n",
    "lr = 7e-4\n",
    "T_max = 5e5\n",
    "eta_min = 1e-5\n",
    "weight_decay=0.01\n",
    "gradient_clipping = 1.0\n"
   ]
  },
  {
   "cell_type": "code",
   "execution_count": 61,
   "id": "8a255895-ec34-4019-a7a5-7716d7b95137",
   "metadata": {},
   "outputs": [],
   "source": [
    "from experanto.dataloaders import get_multisession_dataloader\n",
    "from experanto.configs import DEFAULT_CONFIG as cfg"
   ]
  },
  {
   "cell_type": "code",
   "execution_count": 62,
   "id": "85206c66-a4d9-4578-a003-d897967b7c33",
   "metadata": {},
   "outputs": [
    {
     "data": {
      "text/plain": [
       "{'dataset': {'global_sampling_rate': None, 'global_chunk_size': None, 'modality_config': {'screen': {'keep_nans': False, 'sampling_rate': 30, 'chunk_size': 60, 'valid_condition': {'tier': 'train'}, 'offset': 0, 'sample_stride': 1, 'include_blanks': True, 'transforms': {'normalization': 'screen_hack'}, 'interpolation': {'rescale': False, 'rescale_size': None}}, 'responses': {'keep_nans': False, 'sampling_rate': 8, 'chunk_size': 8, 'offset': 0, 'transforms': {'normalization': 'response_hack'}, 'interpolation': {'interpolation_mode': 'nearest_neighbor'}}}, 'add_behavior_as_channels': True, 'replace_nans_with_means': True}, 'dataloader': {'batch_size': 16, 'shuffle': True, 'num_workers': 4, 'pin_memory': True, 'drop_last': True, 'prefetch_factor': 2, 'shuffle_each_epoch': False}}"
      ]
     },
     "execution_count": 62,
     "metadata": {},
     "output_type": "execute_result"
    }
   ],
   "source": [
    "cfg"
   ]
  },
  {
   "cell_type": "code",
   "execution_count": 68,
   "id": "6940ea0b-862d-47f5-b7ad-1062c94bb820",
   "metadata": {
    "scrolled": true
   },
   "outputs": [],
   "source": [
    "with open_dict(cfg):\n",
    "    cfg.dataset.add_behavior_as_channels = False\n",
    "    cfg.dataset.replace_nans_with_means = False\n",
    "cfg.dataset.global_chunk_size = None\n",
    "cfg.dataset.global_sampling_rate = None\n",
    "\n",
    "cfg.dataset.modality_config.screen.chunk_size = screen_chunk_size\n",
    "cfg.dataset.modality_config.screen.sampling_rate = screen_sampling_rate\n",
    "\n",
    "cfg.dataset.modality_config.responses.chunk_size = response_chunk_size\n",
    "cfg.dataset.modality_config.responses.sampling_rate = response_sampling_rate\n",
    "\n",
    "cfg.dataset.modality_config.screen.sample_stride = 1\n",
    "cfg.dataset.modality_config.screen.include_blanks=True\n",
    "cfg.dataset.modality_config.screen.valid_condition = {\"tier\": \"train\"}\n",
    "\n",
    "cfg.dataloader.num_workers = 4\n",
    "cfg.dataloader.prefetch_factor = 2\n",
    "cfg.dataloader.batch_size = batchsize\n",
    "cfg.dataloader.pin_memory = True\n",
    "cfg.dataloader.shuffle = True\n",
    "\n"
   ]
  },
  {
   "cell_type": "code",
   "execution_count": 90,
   "id": "ab55aa4e-87c9-4548-a0b5-c4e49d39d3aa",
   "metadata": {},
   "outputs": [],
   "source": [
    "cfg.dataset.modality_config.screen.interpolation.rescale_size =  [36, 64]\n",
    "cfg.dataset.modality_config.screen.interpolation.rescale =  True"
   ]
  },
  {
   "cell_type": "code",
   "execution_count": 91,
   "id": "963df11c-2f78-485f-8871-c9b14816eedd",
   "metadata": {},
   "outputs": [
    {
     "name": "stderr",
     "output_type": "stream",
     "text": [
      "/usr/local/lib/python3.10/dist-packages/torchvision/transforms/v2/_deprecated.py:42: UserWarning: The transform `ToTensor()` is deprecated and will be removed in a future release. Instead, please use `v2.Compose([v2.ToImage(), v2.ToDtype(torch.float32, scale=True)])`.Output is equivalent up to float precision.\n",
      "  warnings.warn(\n"
     ]
    }
   ],
   "source": [
    "train_dl = get_multisession_dataloader(full_paths*5, cfg)"
   ]
  },
  {
   "cell_type": "code",
   "execution_count": null,
   "id": "120b6679-7642-4eb6-bb00-9820ae09fd7d",
   "metadata": {},
   "outputs": [],
   "source": []
  },
  {
   "cell_type": "code",
   "execution_count": 92,
   "id": "fca69fb5-4cd4-420d-a70d-82bd83e2daaa",
   "metadata": {},
   "outputs": [
    {
     "data": {
      "text/plain": [
       "{0: <experanto.utils.MultiEpochsDataLoader at 0x7fb6c1300be0>,\n",
       " 1: <experanto.utils.MultiEpochsDataLoader at 0x7fb5506d9de0>,\n",
       " 2: <experanto.utils.MultiEpochsDataLoader at 0x7fb2d66f87f0>,\n",
       " 3: <experanto.utils.MultiEpochsDataLoader at 0x7fb69932dbd0>,\n",
       " 4: <experanto.utils.MultiEpochsDataLoader at 0x7fb6aadbf220>}"
      ]
     },
     "execution_count": 92,
     "metadata": {},
     "output_type": "execute_result"
    }
   ],
   "source": [
    "train_dl.loaders"
   ]
  },
  {
   "cell_type": "code",
   "execution_count": 95,
   "id": "439ab205-5fe8-403f-824b-f823b053f16d",
   "metadata": {},
   "outputs": [
    {
     "name": "stderr",
     "output_type": "stream",
     "text": [
      "200it [00:03, 57.86it/s]\n"
     ]
    }
   ],
   "source": [
    "for i, (key, batch) in tqdm(enumerate(train_dl)):\n",
    "    videos = batch[\"screen\"].to(\"cuda\", torch.float32, non_blocking=True).transpose(1,2)\n",
    "    responses = batch[\"responses\"].to(\"cuda\", torch.float32, non_blocking=True)\n",
    "    \n",
    "    if i >= 200:\n",
    "        break"
   ]
  },
  {
   "cell_type": "code",
   "execution_count": null,
   "id": "5b07cd57-103b-4429-8b1f-d8e3c2fe14ff",
   "metadata": {},
   "outputs": [],
   "source": []
  },
  {
   "cell_type": "code",
   "execution_count": null,
   "id": "ca4b4eae-8b63-4de3-99eb-4b8a6bb1c0c0",
   "metadata": {},
   "outputs": [],
   "source": []
  }
 ],
 "metadata": {
  "kernelspec": {
   "display_name": "Python 3 (ipykernel)",
   "language": "python",
   "name": "python3"
  },
  "language_info": {
   "codemirror_mode": {
    "name": "ipython",
    "version": 3
   },
   "file_extension": ".py",
   "mimetype": "text/x-python",
   "name": "python",
   "nbconvert_exporter": "python",
   "pygments_lexer": "ipython3",
   "version": "3.10.12"
  }
 },
 "nbformat": 4,
 "nbformat_minor": 5
}
