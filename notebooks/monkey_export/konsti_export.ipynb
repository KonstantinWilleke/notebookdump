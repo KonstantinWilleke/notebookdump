{
 "cells": [
  {
   "cell_type": "code",
   "execution_count": 5,
   "id": "6fda6639-b4c7-47ad-8500-53e61969d924",
   "metadata": {},
   "outputs": [],
   "source": [
    "import datajoint as dj\n",
    "import pandas as pd\n",
    "import numpy as np\n",
    "import sys\n",
    "import matplotlib.pyplot as plt\n",
    "dj.config['database.host'] = 'at-database3.stanford.edu'\n",
    "dj.config['database.user'] = 'pavi'\n",
    "dj.config['database.password'] = 'pavi#1'"
   ]
  },
  {
   "cell_type": "code",
   "execution_count": 2,
   "id": "1472f86a-8e9d-4224-bf3e-a561840ad8e3",
   "metadata": {},
   "outputs": [
    {
     "name": "stderr",
     "output_type": "stream",
     "text": [
      "[2024-11-27 03:20:49,996][INFO]: Connecting pavi@at-database3.stanford.edu:3306\n",
      "[2024-11-27 03:20:50,044][INFO]: Connected pavi@at-database3.stanford.edu:3306\n"
     ]
    }
   ],
   "source": [
    "csrf = dj.create_virtual_module(\"george_csrf\",\"george_csrf\")\n",
    "#events = (csrf.EyeTracePreprocessed.EyeEventsFullSession() & session_dict).fetch()\n",
    "acq = dj.create_virtual_module(\"acq\",\"acq\")\n",
    "ephys = dj.create_virtual_module(\"ephys\",\"ephys\")\n",
    "stim = dj.create_virtual_module(\"stimulation\", \"stimulation\")"
   ]
  },
  {
   "cell_type": "code",
   "execution_count": 3,
   "id": "ff26bfe6-7f9a-499b-8a1f-1569e53b117f",
   "metadata": {},
   "outputs": [],
   "source": [
    "key = dict(session_start_time=3638885582960)"
   ]
  },
  {
   "cell_type": "code",
   "execution_count": null,
   "id": "eacf6daa-0fb9-46b1-ab77-98bbdbb91877",
   "metadata": {},
   "outputs": [],
   "source": []
  },
  {
   "cell_type": "code",
   "execution_count": null,
   "id": "645a150d-cd7d-4693-b85f-c7c467526bc2",
   "metadata": {},
   "outputs": [],
   "source": []
  },
  {
   "cell_type": "code",
   "execution_count": 4,
   "id": "6b5ac073-9627-42d2-8188-55bf46ccad9f",
   "metadata": {
    "scrolled": true
   },
   "outputs": [
    {
     "data": {
      "text/html": [
       "\n",
       "    \n",
       "    <style type=\"text/css\">\n",
       "        .Table{\n",
       "            border-collapse:collapse;\n",
       "        }\n",
       "        .Table th{\n",
       "            background: #A0A0A0; color: #ffffff; padding:4px; border:#f0e0e0 1px solid;\n",
       "            font-weight: normal; font-family: monospace; font-size: 100%;\n",
       "        }\n",
       "        .Table td{\n",
       "            padding:4px; border:#f0e0e0 1px solid; font-size:100%;\n",
       "        }\n",
       "        .Table tr:nth-child(odd){\n",
       "            background: #ffffff;\n",
       "            color: #000000;\n",
       "        }\n",
       "        .Table tr:nth-child(even){\n",
       "            background: #f3f1ff;\n",
       "            color: #000000;\n",
       "        }\n",
       "        /* Tooltip container */\n",
       "        .djtooltip {\n",
       "        }\n",
       "        /* Tooltip text */\n",
       "        .djtooltip .djtooltiptext {\n",
       "            visibility: hidden;\n",
       "            width: 120px;\n",
       "            background-color: black;\n",
       "            color: #fff;\n",
       "            text-align: center;\n",
       "            padding: 5px 0;\n",
       "            border-radius: 6px;\n",
       "            /* Position the tooltip text - see examples below! */\n",
       "            position: absolute;\n",
       "            z-index: 1;\n",
       "        }\n",
       "        #primary {\n",
       "            font-weight: bold;\n",
       "            color: black;\n",
       "        }\n",
       "        #nonprimary {\n",
       "            font-weight: normal;\n",
       "            color: white;\n",
       "        }\n",
       "\n",
       "        /* Show the tooltip text when you mouse over the tooltip container */\n",
       "        .djtooltip:hover .djtooltiptext {\n",
       "            visibility: visible;\n",
       "        }\n",
       "    </style>\n",
       "    \n",
       "    <b>A spike train from a single or multi unit$</b>\n",
       "        <div style=\"max-height:1000px;max-width:1500px;overflow:auto;\">\n",
       "        <table border=\"1\" class=\"Table\">\n",
       "            <thead> <tr style=\"text-align: right;\"> <th> <div class=\"djtooltip\">\n",
       "                            <p id=\"primary\">subject_id</p>\n",
       "                            <span class=\"djtooltiptext\">unique identifier for subject</span>\n",
       "                        </div></th><th><div class=\"djtooltip\">\n",
       "                            <p id=\"primary\">setup</p>\n",
       "                            <span class=\"djtooltiptext\">setup number</span>\n",
       "                        </div></th><th><div class=\"djtooltip\">\n",
       "                            <p id=\"primary\">session_start_time</p>\n",
       "                            <span class=\"djtooltiptext\">start session timestamp</span>\n",
       "                        </div></th><th><div class=\"djtooltip\">\n",
       "                            <p id=\"primary\">ephys_start_time</p>\n",
       "                            <span class=\"djtooltiptext\">start session timestamp</span>\n",
       "                        </div></th><th><div class=\"djtooltip\">\n",
       "                            <p id=\"primary\">detect_method_num</p>\n",
       "                            <span class=\"djtooltiptext\">detection method index</span>\n",
       "                        </div></th><th><div class=\"djtooltip\">\n",
       "                            <p id=\"primary\">sort_method_num</p>\n",
       "                            <span class=\"djtooltiptext\">clustering method index</span>\n",
       "                        </div></th><th><div class=\"djtooltip\">\n",
       "                            <p id=\"primary\">unit_id</p>\n",
       "                            <span class=\"djtooltiptext\">The spike data</span>\n",
       "                        </div></th><th><div class=\"djtooltip\">\n",
       "                            <p id=\"nonprimary\">electrode_num</p>\n",
       "                            <span class=\"djtooltiptext\">The electrode number</span>\n",
       "                        </div></th><th><div class=\"djtooltip\">\n",
       "                            <p id=\"nonprimary\">spike_times</p>\n",
       "                            <span class=\"djtooltiptext\">The spike timing data</span>\n",
       "                        </div></th><th><div class=\"djtooltip\">\n",
       "                            <p id=\"nonprimary\">mean_waveform</p>\n",
       "                            <span class=\"djtooltiptext\">The spike waveform data</span>\n",
       "                        </div></th><th><div class=\"djtooltip\">\n",
       "                            <p id=\"nonprimary\">spike_file_path</p>\n",
       "                            <span class=\"djtooltiptext\">The file containing the spike data</span>\n",
       "                        </div></th><th><div class=\"djtooltip\">\n",
       "                            <p id=\"nonprimary\">multi_trigger_fraction</p>\n",
       "                            <span class=\"djtooltiptext\">fraction of spikes triggered multiple times</span>\n",
       "                        </div> </th> </tr> </thead>\n",
       "            <tbody> <tr> <td>30</td>\n",
       "<td>1</td>\n",
       "<td>3638885582960</td>\n",
       "<td>3638885586600</td>\n",
       "<td>5</td>\n",
       "<td>4</td>\n",
       "<td>1</td>\n",
       "<td>1</td>\n",
       "<td>=BLOB=</td>\n",
       "<td>=BLOB=</td>\n",
       "<td>/processed/Dennis/2019-04-23_12-33-02/2019-04-23_12-33-06/spikes/SiliconProbesV2/Sc1.Htt</td>\n",
       "<td>0.00205973</td></tr><tr><td>30</td>\n",
       "<td>1</td>\n",
       "<td>3638885582960</td>\n",
       "<td>3638885586600</td>\n",
       "<td>5</td>\n",
       "<td>4</td>\n",
       "<td>2</td>\n",
       "<td>2</td>\n",
       "<td>=BLOB=</td>\n",
       "<td>=BLOB=</td>\n",
       "<td>/processed/Dennis/2019-04-23_12-33-02/2019-04-23_12-33-06/spikes/SiliconProbesV2/Sc2.Htt</td>\n",
       "<td>0.00514139</td></tr><tr><td>30</td>\n",
       "<td>1</td>\n",
       "<td>3638885582960</td>\n",
       "<td>3638885586600</td>\n",
       "<td>5</td>\n",
       "<td>4</td>\n",
       "<td>3</td>\n",
       "<td>3</td>\n",
       "<td>=BLOB=</td>\n",
       "<td>=BLOB=</td>\n",
       "<td>/processed/Dennis/2019-04-23_12-33-02/2019-04-23_12-33-06/spikes/SiliconProbesV2/Sc3.Htt</td>\n",
       "<td>0.0477643</td></tr><tr><td>30</td>\n",
       "<td>1</td>\n",
       "<td>3638885582960</td>\n",
       "<td>3638885586600</td>\n",
       "<td>5</td>\n",
       "<td>4</td>\n",
       "<td>4</td>\n",
       "<td>4</td>\n",
       "<td>=BLOB=</td>\n",
       "<td>=BLOB=</td>\n",
       "<td>/processed/Dennis/2019-04-23_12-33-02/2019-04-23_12-33-06/spikes/SiliconProbesV2/Sc4.Htt</td>\n",
       "<td>0.0349511</td></tr><tr><td>30</td>\n",
       "<td>1</td>\n",
       "<td>3638885582960</td>\n",
       "<td>3638885586600</td>\n",
       "<td>5</td>\n",
       "<td>4</td>\n",
       "<td>5</td>\n",
       "<td>5</td>\n",
       "<td>=BLOB=</td>\n",
       "<td>=BLOB=</td>\n",
       "<td>/processed/Dennis/2019-04-23_12-33-02/2019-04-23_12-33-06/spikes/SiliconProbesV2/Sc5.Htt</td>\n",
       "<td>0.0180966</td></tr><tr><td>30</td>\n",
       "<td>1</td>\n",
       "<td>3638885582960</td>\n",
       "<td>3638885586600</td>\n",
       "<td>5</td>\n",
       "<td>4</td>\n",
       "<td>6</td>\n",
       "<td>6</td>\n",
       "<td>=BLOB=</td>\n",
       "<td>=BLOB=</td>\n",
       "<td>/processed/Dennis/2019-04-23_12-33-02/2019-04-23_12-33-06/spikes/SiliconProbesV2/Sc6.Htt</td>\n",
       "<td>0.0213648</td></tr><tr><td>30</td>\n",
       "<td>1</td>\n",
       "<td>3638885582960</td>\n",
       "<td>3638885586600</td>\n",
       "<td>5</td>\n",
       "<td>4</td>\n",
       "<td>7</td>\n",
       "<td>7</td>\n",
       "<td>=BLOB=</td>\n",
       "<td>=BLOB=</td>\n",
       "<td>/processed/Dennis/2019-04-23_12-33-02/2019-04-23_12-33-06/spikes/SiliconProbesV2/Sc7.Htt</td>\n",
       "<td>0.02014</td></tr><tr><td>30</td>\n",
       "<td>1</td>\n",
       "<td>3638885582960</td>\n",
       "<td>3638885586600</td>\n",
       "<td>5</td>\n",
       "<td>4</td>\n",
       "<td>8</td>\n",
       "<td>8</td>\n",
       "<td>=BLOB=</td>\n",
       "<td>=BLOB=</td>\n",
       "<td>/processed/Dennis/2019-04-23_12-33-02/2019-04-23_12-33-06/spikes/SiliconProbesV2/Sc8.Htt</td>\n",
       "<td>0.0217688</td></tr><tr><td>30</td>\n",
       "<td>1</td>\n",
       "<td>3638885582960</td>\n",
       "<td>3638885586600</td>\n",
       "<td>5</td>\n",
       "<td>4</td>\n",
       "<td>9</td>\n",
       "<td>9</td>\n",
       "<td>=BLOB=</td>\n",
       "<td>=BLOB=</td>\n",
       "<td>/processed/Dennis/2019-04-23_12-33-02/2019-04-23_12-33-06/spikes/SiliconProbesV2/Sc9.Htt</td>\n",
       "<td>0.0108388</td></tr><tr><td>30</td>\n",
       "<td>1</td>\n",
       "<td>3638885582960</td>\n",
       "<td>3638885586600</td>\n",
       "<td>5</td>\n",
       "<td>4</td>\n",
       "<td>10</td>\n",
       "<td>10</td>\n",
       "<td>=BLOB=</td>\n",
       "<td>=BLOB=</td>\n",
       "<td>/processed/Dennis/2019-04-23_12-33-02/2019-04-23_12-33-06/spikes/SiliconProbesV2/Sc10.Htt</td>\n",
       "<td>0.00906078</td></tr><tr><td>30</td>\n",
       "<td>1</td>\n",
       "<td>3638885582960</td>\n",
       "<td>3638885586600</td>\n",
       "<td>5</td>\n",
       "<td>4</td>\n",
       "<td>11</td>\n",
       "<td>11</td>\n",
       "<td>=BLOB=</td>\n",
       "<td>=BLOB=</td>\n",
       "<td>/processed/Dennis/2019-04-23_12-33-02/2019-04-23_12-33-06/spikes/SiliconProbesV2/Sc11.Htt</td>\n",
       "<td>0.00559613</td></tr><tr><td>30</td>\n",
       "<td>1</td>\n",
       "<td>3638885582960</td>\n",
       "<td>3638885586600</td>\n",
       "<td>5</td>\n",
       "<td>4</td>\n",
       "<td>12</td>\n",
       "<td>12</td>\n",
       "<td>=BLOB=</td>\n",
       "<td>=BLOB=</td>\n",
       "<td>/processed/Dennis/2019-04-23_12-33-02/2019-04-23_12-33-06/spikes/SiliconProbesV2/Sc12.Htt</td>\n",
       "<td>0.00745587</td> </tr> </tbody>\n",
       "        </table>\n",
       "        <p>...</p>\n",
       "        <p>Total: 37</p></div>\n",
       "        "
      ],
      "text/plain": [
       "*subject_id    *setup    *session_start *ephys_start_t *detect_method *sort_method_n *unit_id    electrode_num  spike_time mean_wavef spike_file_pat multi_trigger_\n",
       "+------------+ +-------+ +------------+ +------------+ +------------+ +------------+ +---------+ +------------+ +--------+ +--------+ +------------+ +------------+\n",
       "30             1         3638885582960  3638885586600  5              4              1           1              =BLOB=     =BLOB=     /processed/Den 0.00205973    \n",
       "30             1         3638885582960  3638885586600  5              4              2           2              =BLOB=     =BLOB=     /processed/Den 0.00514139    \n",
       "30             1         3638885582960  3638885586600  5              4              3           3              =BLOB=     =BLOB=     /processed/Den 0.0477643     \n",
       "30             1         3638885582960  3638885586600  5              4              4           4              =BLOB=     =BLOB=     /processed/Den 0.0349511     \n",
       "30             1         3638885582960  3638885586600  5              4              5           5              =BLOB=     =BLOB=     /processed/Den 0.0180966     \n",
       "30             1         3638885582960  3638885586600  5              4              6           6              =BLOB=     =BLOB=     /processed/Den 0.0213648     \n",
       "30             1         3638885582960  3638885586600  5              4              7           7              =BLOB=     =BLOB=     /processed/Den 0.02014       \n",
       "30             1         3638885582960  3638885586600  5              4              8           8              =BLOB=     =BLOB=     /processed/Den 0.0217688     \n",
       "30             1         3638885582960  3638885586600  5              4              9           9              =BLOB=     =BLOB=     /processed/Den 0.0108388     \n",
       "30             1         3638885582960  3638885586600  5              4              10          10             =BLOB=     =BLOB=     /processed/Den 0.00906078    \n",
       "30             1         3638885582960  3638885586600  5              4              11          11             =BLOB=     =BLOB=     /processed/Den 0.00559613    \n",
       "30             1         3638885582960  3638885586600  5              4              12          12             =BLOB=     =BLOB=     /processed/Den 0.00745587    \n",
       "   ...\n",
       " (Total: 37)"
      ]
     },
     "execution_count": 4,
     "metadata": {},
     "output_type": "execute_result"
    }
   ],
   "source": [
    "ephys.Spikes() & key"
   ]
  },
  {
   "cell_type": "code",
   "execution_count": 5,
   "id": "01cdd9d2-6abc-404e-b7aa-2b37fe45922c",
   "metadata": {},
   "outputs": [],
   "source": [
    "spike_times = ((ephys.Spikes & csrf.EyeMovements() )& dict(session_start_time=3638973674012,)).fetch(\"spike_times\")"
   ]
  },
  {
   "cell_type": "code",
   "execution_count": 6,
   "id": "221e6d1c-79fe-4703-a94e-f0347ab93361",
   "metadata": {},
   "outputs": [
    {
     "data": {
      "text/plain": [
       "np.float64(8688184.591272362)"
      ]
     },
     "execution_count": 6,
     "metadata": {},
     "output_type": "execute_result"
    }
   ],
   "source": [
    "np.vstack(spike_times).squeeze().max() - np.vstack(spike_times).squeeze().min()"
   ]
  },
  {
   "cell_type": "code",
   "execution_count": 7,
   "id": "4019aee3-7f78-4228-951e-9b024df5ec0c",
   "metadata": {},
   "outputs": [
    {
     "data": {
      "text/plain": [
       "np.float64(8690756.19410583)"
      ]
     },
     "execution_count": 7,
     "metadata": {},
     "output_type": "execute_result"
    }
   ],
   "source": [
    "np.vstack(spike_times).squeeze().max()"
   ]
  },
  {
   "cell_type": "code",
   "execution_count": 8,
   "id": "1075e509-b1c0-4878-a600-6b2a5bf15db7",
   "metadata": {},
   "outputs": [
    {
     "data": {
      "text/plain": [
       "np.float64(2571.6028334684834)"
      ]
     },
     "execution_count": 8,
     "metadata": {},
     "output_type": "execute_result"
    }
   ],
   "source": [
    "np.vstack(spike_times).squeeze().min()"
   ]
  },
  {
   "cell_type": "markdown",
   "id": "cd25adca-d14c-4ee5-90a6-b93702a1a41d",
   "metadata": {},
   "source": [
    "# Spikes"
   ]
  },
  {
   "cell_type": "code",
   "execution_count": 9,
   "id": "2134a11d-28c8-4b26-a083-4553cc8d8817",
   "metadata": {},
   "outputs": [],
   "source": [
    "import datajoint as dj\n",
    "from tqdm import tqdm\n",
    "import numpy as np"
   ]
  },
  {
   "cell_type": "code",
   "execution_count": 10,
   "id": "4248921d-961a-41c1-8122-10d1d912d36e",
   "metadata": {},
   "outputs": [],
   "source": [
    "def reflection_pad_both(data, pad_len):\n",
    "    # reflection pads both sides of a 1D array\n",
    "    reflection = data[::-1]\n",
    "    padded_data = np.concatenate((reflection[-pad_len:], data, reflection[:pad_len]))\n",
    "    return padded_data\n",
    "\n",
    "def smooth_data_fixed_length(raster_data, filt_size=101, filt_sigma=10, target_length=None):\n",
    "    x = np.linspace(-filt_size // 2, filt_size // 2, filt_size)  # Gaussian filter\n",
    "    filt = np.exp(-(x**2) / (2 * filt_sigma**2))\n",
    "    filt /= np.sum(filt)  # Normalize the filter\n",
    "\n",
    "    smoothed_data = []\n",
    "    \n",
    "    for spikes in raster_data:\n",
    "        # Reflection pad each neuron's data based on its length\n",
    "        pad_len = int((filt_size - 1) / 2)\n",
    "        padded_spikes = reflection_pad_both(spikes.reshape(-1), pad_len)\n",
    "\n",
    "        # Check if the array is 1D\n",
    "        if len(padded_spikes.shape) > 1:\n",
    "            raise ValueError(f\"Expected 1D array but got {padded_spikes.shape}\")\n",
    "\n",
    "        # Convolve with Gaussian filter and store the smoothed result\n",
    "        smoothed_spikes = np.convolve(padded_spikes, filt, mode='valid')\n",
    "\n",
    "        if target_length is not None:\n",
    "            if len(smoothed_spikes) < target_length:\n",
    "                # Pad to the right if the smoothed array is too short\n",
    "                smoothed_spikes = np.pad(smoothed_spikes, (0, target_length - len(smoothed_spikes)), mode='constant')\n",
    "            else:\n",
    "                # Downsample if the smoothed array is too long\n",
    "                smoothed_spikes = np.interp(\n",
    "                    np.linspace(0, len(smoothed_spikes) - 1, target_length),\n",
    "                    np.arange(len(smoothed_spikes)),\n",
    "                    smoothed_spikes\n",
    "                )\n",
    "        smoothed_data.append(smoothed_spikes)\n",
    "    \n",
    "    return smoothed_data"
   ]
  },
  {
   "cell_type": "markdown",
   "id": "fedee42b-f1d4-40e8-bec7-b9182b54f5c0",
   "metadata": {},
   "source": [
    "### let's try it out"
   ]
  },
  {
   "cell_type": "code",
   "execution_count": 11,
   "id": "9f836830-e82f-40db-ad80-81c0e7511f61",
   "metadata": {},
   "outputs": [
    {
     "data": {
      "text/plain": [
       "np.float64(8690756.19410583)"
      ]
     },
     "execution_count": 11,
     "metadata": {},
     "output_type": "execute_result"
    }
   ],
   "source": [
    "last_spike_time = np.max([np.max(unit) for unit in spike_times])\n",
    "last_spike_time"
   ]
  },
  {
   "cell_type": "code",
   "execution_count": 12,
   "id": "f879a53f-8e3e-45c1-9109-c98abfa55bb6",
   "metadata": {},
   "outputs": [
    {
     "data": {
      "text/plain": [
       "8690756"
      ]
     },
     "execution_count": 12,
     "metadata": {},
     "output_type": "execute_result"
    }
   ],
   "source": [
    "res_arr_size = int(last_spike_time)\n",
    "res_arr_size"
   ]
  },
  {
   "cell_type": "code",
   "execution_count": 13,
   "id": "8660b2e8-0aae-4e24-bc4b-680121260dc0",
   "metadata": {},
   "outputs": [],
   "source": [
    "raster_data = spike_times\n",
    "filt_size=101\n",
    "filt_sigma=10 \n",
    "target_length=res_arr_size"
   ]
  },
  {
   "cell_type": "code",
   "execution_count": 14,
   "id": "11121f56-a64d-4e1e-be1c-3c80919085aa",
   "metadata": {},
   "outputs": [],
   "source": [
    "x = np.linspace(-filt_size // 2, filt_size // 2, filt_size)  # Gaussian filter\n",
    "filt = np.exp(-(x**2) / (2 * filt_sigma**2))\n",
    "filt /= np.sum(filt)  # Normalize the filter\n"
   ]
  },
  {
   "cell_type": "code",
   "execution_count": 15,
   "id": "7780db67-98c3-4ef7-841e-cee411180c16",
   "metadata": {},
   "outputs": [
    {
     "data": {
      "text/plain": [
       "[<matplotlib.lines.Line2D at 0x7fe7017443d0>]"
      ]
     },
     "execution_count": 15,
     "metadata": {},
     "output_type": "execute_result"
    },
    {
     "data": {
      "image/png": "[encoded data removed]",
      "text/plain": [
       "<Figure size 640x480 with 1 Axes>"
      ]
     },
     "metadata": {},
     "output_type": "display_data"
    }
   ],
   "source": [
    "plt.plot(filt)"
   ]
  },
  {
   "cell_type": "code",
   "execution_count": 16,
   "id": "a1b6fe03-4f98-48e3-904d-3c3b3bc17504",
   "metadata": {},
   "outputs": [],
   "source": [
    "spikes = raster_data[0]"
   ]
  },
  {
   "cell_type": "code",
   "execution_count": 17,
   "id": "14d20f58-eb0e-4d76-8f5a-0f299cfe7ffa",
   "metadata": {},
   "outputs": [],
   "source": [
    "# Reflection pad each neuron's data based on its length\n",
    "pad_len = int((filt_size - 1) / 2)\n",
    "padded_spikes = reflection_pad_both(spikes.reshape(-1), pad_len)"
   ]
  },
  {
   "cell_type": "code",
   "execution_count": 18,
   "id": "2fa3b6cc-03cd-4c97-9697-ea4f86ee209e",
   "metadata": {},
   "outputs": [
    {
     "data": {
      "text/plain": [
       "[<matplotlib.lines.Line2D at 0x7fe70162d900>]"
      ]
     },
     "execution_count": 18,
     "metadata": {},
     "output_type": "execute_result"
    },
    {
     "data": {
      "image/png": "[encoded data removed]",
      "text/plain": [
       "<Figure size 640x480 with 1 Axes>"
      ]
     },
     "metadata": {},
     "output_type": "display_data"
    }
   ],
   "source": [
    "plt.plot(padded_spikes[:500])"
   ]
  },
  {
   "cell_type": "code",
   "execution_count": 19,
   "id": "d6c2ba00-4656-4e2c-94bd-295c1da56e6f",
   "metadata": {},
   "outputs": [
    {
     "data": {
      "text/plain": [
       "[<matplotlib.lines.Line2D at 0x7fe701693310>]"
      ]
     },
     "execution_count": 19,
     "metadata": {},
     "output_type": "execute_result"
    },
    {
     "data": {
      "image/png": "[encoded data removed]",
      "text/plain": [
       "<Figure size 640x480 with 1 Axes>"
      ]
     },
     "metadata": {},
     "output_type": "display_data"
    }
   ],
   "source": [
    "plt.plot(spikes[:100,0], '.k')"
   ]
  },
  {
   "cell_type": "code",
   "execution_count": 20,
   "id": "023f4d59-fc0f-43b2-a968-95b2d705a7a5",
   "metadata": {},
   "outputs": [
    {
     "data": {
      "text/plain": [
       "array([ 171354.62514152,  169334.30112656,  166697.09264209, ...,\n",
       "       8507576.1148716 , 8508119.94158291, 8508497.66838338])"
      ]
     },
     "execution_count": 20,
     "metadata": {},
     "output_type": "execute_result"
    }
   ],
   "source": [
    "padded_spikes[:5000]"
   ]
  },
  {
   "cell_type": "code",
   "execution_count": 21,
   "id": "1cf489e6-b307-4a34-94fb-81aa493d9af5",
   "metadata": {},
   "outputs": [
    {
     "data": {
      "text/plain": [
       "[<matplotlib.lines.Line2D at 0x7fe701530a00>]"
      ]
     },
     "execution_count": 21,
     "metadata": {},
     "output_type": "execute_result"
    },
    {
     "data": {
      "image/png": "[encoded data removed]",
      "text/plain": [
       "<Figure size 640x480 with 1 Axes>"
      ]
     },
     "metadata": {},
     "output_type": "display_data"
    }
   ],
   "source": [
    "plt.plot(padded_spikes)"
   ]
  },
  {
   "cell_type": "code",
   "execution_count": 22,
   "id": "fcb6355c-d385-4c79-8cb1-06cfa2398a94",
   "metadata": {},
   "outputs": [],
   "source": [
    "smoothed_spikes = np.convolve(padded_spikes, filt, mode='valid')"
   ]
  },
  {
   "cell_type": "code",
   "execution_count": 23,
   "id": "f07c4f13-1780-49fd-b456-89ce3b6e6e22",
   "metadata": {},
   "outputs": [
    {
     "data": {
      "text/plain": [
       "[<matplotlib.lines.Line2D at 0x7fe70159d540>]"
      ]
     },
     "execution_count": 23,
     "metadata": {},
     "output_type": "execute_result"
    },
    {
     "data": {
      "image/png": "[encoded data removed]",
      "text/plain": [
       "<Figure size 640x480 with 1 Axes>"
      ]
     },
     "metadata": {},
     "output_type": "display_data"
    }
   ],
   "source": [
    "plt.plot(smoothed_spikes[:100])"
   ]
  },
  {
   "cell_type": "code",
   "execution_count": 25,
   "id": "e2bcbdbe-8d50-4789-97f7-9058412cf68d",
   "metadata": {},
   "outputs": [],
   "source": [
    "smoothed_spikes = np.pad(smoothed_spikes, (0, target_length - len(smoothed_spikes)), mode='constant')"
   ]
  },
  {
   "cell_type": "code",
   "execution_count": null,
   "id": "da72cb10-4eef-42f2-8a8a-1850f776334d",
   "metadata": {},
   "outputs": [],
   "source": [
    "plt.plot(smoothed_spikes)"
   ]
  },
  {
   "cell_type": "code",
   "execution_count": null,
   "id": "d0c9f7d3-ecae-44f4-9e40-38ce321341e0",
   "metadata": {},
   "outputs": [],
   "source": []
  },
  {
   "cell_type": "code",
   "execution_count": null,
   "id": "c17cf35b-55e5-429c-a6fd-60a42c8bb08b",
   "metadata": {},
   "outputs": [],
   "source": [
    "if target_length is not None:\n",
    "    if len(smoothed_spikes) < target_length:\n",
    "        # Pad to the right if the smoothed array is too short\n",
    "        smoothed_spikes = np.pad(smoothed_spikes, (0, target_length - len(smoothed_spikes)), mode='constant')\n",
    "    else:\n",
    "        # Downsample if the smoothed array is too long\n",
    "        smoothed_spikes = np.interp(\n",
    "            np.linspace(0, len(smoothed_spikes) - 1, target_length),\n",
    "            np.arange(len(smoothed_spikes)),\n",
    "            smoothed_spikes\n",
    "        )\n",
    "smoothed_data.append(smoothed_spikes)"
   ]
  },
  {
   "cell_type": "code",
   "execution_count": null,
   "id": "42c822d8-5d83-49dc-9d5c-cb7b66e2dac8",
   "metadata": {},
   "outputs": [],
   "source": []
  },
  {
   "cell_type": "code",
   "execution_count": null,
   "id": "8a3291b3-d31a-4076-aa2d-a16f4f86946c",
   "metadata": {},
   "outputs": [],
   "source": []
  },
  {
   "cell_type": "code",
   "execution_count": null,
   "id": "fe286016-a43a-4917-80a5-f762132b64ab",
   "metadata": {},
   "outputs": [],
   "source": []
  },
  {
   "cell_type": "markdown",
   "id": "fe42ee18-79ee-4eaa-9388-1df029e19d3f",
   "metadata": {},
   "source": [
    "# eye movements"
   ]
  },
  {
   "cell_type": "code",
   "execution_count": 23,
   "id": "a4c6b5f1-6eba-4fb1-a0a6-fd8756a14480",
   "metadata": {},
   "outputs": [
    {
     "data": {
      "text/html": [
       "\n",
       "    \n",
       "    <style type=\"text/css\">\n",
       "        .Table{\n",
       "            border-collapse:collapse;\n",
       "        }\n",
       "        .Table th{\n",
       "            background: #A0A0A0; color: #ffffff; padding:4px; border:#f0e0e0 1px solid;\n",
       "            font-weight: normal; font-family: monospace; font-size: 100%;\n",
       "        }\n",
       "        .Table td{\n",
       "            padding:4px; border:#f0e0e0 1px solid; font-size:100%;\n",
       "        }\n",
       "        .Table tr:nth-child(odd){\n",
       "            background: #ffffff;\n",
       "            color: #000000;\n",
       "        }\n",
       "        .Table tr:nth-child(even){\n",
       "            background: #f3f1ff;\n",
       "            color: #000000;\n",
       "        }\n",
       "        /* Tooltip container */\n",
       "        .djtooltip {\n",
       "        }\n",
       "        /* Tooltip text */\n",
       "        .djtooltip .djtooltiptext {\n",
       "            visibility: hidden;\n",
       "            width: 120px;\n",
       "            background-color: black;\n",
       "            color: #fff;\n",
       "            text-align: center;\n",
       "            padding: 5px 0;\n",
       "            border-radius: 6px;\n",
       "            /* Position the tooltip text - see examples below! */\n",
       "            position: absolute;\n",
       "            z-index: 1;\n",
       "        }\n",
       "        #primary {\n",
       "            font-weight: bold;\n",
       "            color: black;\n",
       "        }\n",
       "        #nonprimary {\n",
       "            font-weight: normal;\n",
       "            color: white;\n",
       "        }\n",
       "\n",
       "        /* Show the tooltip text when you mouse over the tooltip container */\n",
       "        .djtooltip:hover .djtooltiptext {\n",
       "            visibility: visible;\n",
       "        }\n",
       "    </style>\n",
       "    \n",
       "    <b>list of sessions$</b>\n",
       "        <div style=\"max-height:1000px;max-width:1500px;overflow:auto;\">\n",
       "        <table border=\"1\" class=\"Table\">\n",
       "            <thead> <tr style=\"text-align: right;\"> <th> <div class=\"djtooltip\">\n",
       "                            <p id=\"primary\">subject_id</p>\n",
       "                            <span class=\"djtooltiptext\">unique identifier for subject</span>\n",
       "                        </div></th><th><div class=\"djtooltip\">\n",
       "                            <p id=\"primary\">setup</p>\n",
       "                            <span class=\"djtooltiptext\">setup number</span>\n",
       "                        </div></th><th><div class=\"djtooltip\">\n",
       "                            <p id=\"primary\">session_start_time</p>\n",
       "                            <span class=\"djtooltiptext\">start session timestamp</span>\n",
       "                        </div></th><th><div class=\"djtooltip\">\n",
       "                            <p id=\"nonprimary\">session_stop_time</p>\n",
       "                            <span class=\"djtooltiptext\">end of session timestamp</span>\n",
       "                        </div></th><th><div class=\"djtooltip\">\n",
       "                            <p id=\"nonprimary\">experimenter</p>\n",
       "                            <span class=\"djtooltiptext\">name of person running exp</span>\n",
       "                        </div></th><th><div class=\"djtooltip\">\n",
       "                            <p id=\"nonprimary\">session_path</p>\n",
       "                            <span class=\"djtooltiptext\">path to the data</span>\n",
       "                        </div></th><th><div class=\"djtooltip\">\n",
       "                            <p id=\"nonprimary\">session_datetime</p>\n",
       "                            <span class=\"djtooltiptext\">readable format of session start</span>\n",
       "                        </div></th><th><div class=\"djtooltip\">\n",
       "                            <p id=\"nonprimary\">hammer</p>\n",
       "                            <span class=\"djtooltiptext\"></span>\n",
       "                        </div></th><th><div class=\"djtooltip\">\n",
       "                            <p id=\"nonprimary\">recording_software</p>\n",
       "                            <span class=\"djtooltiptext\">software used to record the data</span>\n",
       "                        </div> </th> </tr> </thead>\n",
       "            <tbody> <tr> <td>30</td>\n",
       "<td>1</td>\n",
       "<td>3638885582960</td>\n",
       "<td>3638893002455</td>\n",
       "<td>Tori</td>\n",
       "<td>/raw/Dennis/2019-04-23_12-33-02</td>\n",
       "<td>2019-04-23 12:33:02</td>\n",
       "<td>0</td>\n",
       "<td>Acquisition2.0</td></tr><tr><td>30</td>\n",
       "<td>1</td>\n",
       "<td>3638973674012</td>\n",
       "<td>3638982377196</td>\n",
       "<td>Tori</td>\n",
       "<td>/raw/Dennis/2019-04-24_13-01-13</td>\n",
       "<td>2019-04-24 13:01:14</td>\n",
       "<td>0</td>\n",
       "<td>Acquisition2.0</td></tr><tr><td>30</td>\n",
       "<td>1</td>\n",
       "<td>3639492658943</td>\n",
       "<td>3639499010707</td>\n",
       "<td>Tori</td>\n",
       "<td>/raw/Dennis/2019-04-30_13-10-58</td>\n",
       "<td>2019-04-30 13:10:58</td>\n",
       "<td>0</td>\n",
       "<td>Acquisition2.0</td></tr><tr><td>30</td>\n",
       "<td>3</td>\n",
       "<td>3790954384887</td>\n",
       "<td>3790961792928</td>\n",
       "<td>Gabby</td>\n",
       "<td>/raw/Dennis/2024-02-16_12-53-04</td>\n",
       "<td>2024-02-16 12:53:04</td>\n",
       "<td>0</td>\n",
       "<td>Acquisition2.0</td></tr><tr><td>30</td>\n",
       "<td>3</td>\n",
       "<td>3791216067773</td>\n",
       "<td>3791223474548</td>\n",
       "<td>Gabby</td>\n",
       "<td>/raw/Dennis/2024-02-19_13-34-27</td>\n",
       "<td>2024-02-19 13:34:27</td>\n",
       "<td>0</td>\n",
       "<td>Acquisition2.0</td></tr><tr><td>30</td>\n",
       "<td>3</td>\n",
       "<td>3791303340046</td>\n",
       "<td>3791310764911</td>\n",
       "<td>Gabby</td>\n",
       "<td>/raw/Dennis/2024-02-20_13-48-59</td>\n",
       "<td>2024-02-20 13:49:00</td>\n",
       "<td>0</td>\n",
       "<td>Acquisition2.0</td></tr><tr><td>30</td>\n",
       "<td>3</td>\n",
       "<td>3791388328061</td>\n",
       "<td>3791395751007</td>\n",
       "<td>Gabby</td>\n",
       "<td>/raw/Dennis/2024-02-21_13-25-27</td>\n",
       "<td>2024-02-21 13:25:28</td>\n",
       "<td>0</td>\n",
       "<td>Acquisition2.0</td></tr><tr><td>30</td>\n",
       "<td>3</td>\n",
       "<td>3791564082786</td>\n",
       "<td>3791571539496</td>\n",
       "<td>Gabby</td>\n",
       "<td>/raw/Dennis/2024-02-23_14-14-42</td>\n",
       "<td>2024-02-23 14:14:42</td>\n",
       "<td>0</td>\n",
       "<td>Acquisition2.0</td></tr><tr><td>31</td>\n",
       "<td>1</td>\n",
       "<td>3653578665399</td>\n",
       "<td>3653586699133</td>\n",
       "<td>Tori</td>\n",
       "<td>/raw/Conan/2019-10-10_13-57-45</td>\n",
       "<td>2019-10-10 13:57:45</td>\n",
       "<td>0</td>\n",
       "<td>Acquisition2.0</td> </tr> </tbody>\n",
       "        </table>\n",
       "        \n",
       "        <p>Total: 9</p></div>\n",
       "        "
      ],
      "text/plain": [
       "*subject_id    *setup    *session_start session_stop_t experimenter   session_path   session_dateti hammer     recording_soft\n",
       "+------------+ +-------+ +------------+ +------------+ +------------+ +------------+ +------------+ +--------+ +------------+\n",
       "30             1         3638885582960  3638893002455  Tori           /raw/Dennis/20 2019-04-23 12: 0          Acquisition2.0\n",
       "30             1         3638973674012  3638982377196  Tori           /raw/Dennis/20 2019-04-24 13: 0          Acquisition2.0\n",
       "30             1         3639492658943  3639499010707  Tori           /raw/Dennis/20 2019-04-30 13: 0          Acquisition2.0\n",
       "30             3         3790954384887  3790961792928  Gabby          /raw/Dennis/20 2024-02-16 12: 0          Acquisition2.0\n",
       "30             3         3791216067773  3791223474548  Gabby          /raw/Dennis/20 2024-02-19 13: 0          Acquisition2.0\n",
       "30             3         3791303340046  3791310764911  Gabby          /raw/Dennis/20 2024-02-20 13: 0          Acquisition2.0\n",
       "30             3         3791388328061  3791395751007  Gabby          /raw/Dennis/20 2024-02-21 13: 0          Acquisition2.0\n",
       "30             3         3791564082786  3791571539496  Gabby          /raw/Dennis/20 2024-02-23 14: 0          Acquisition2.0\n",
       "31             1         3653578665399  3653586699133  Tori           /raw/Conan/201 2019-10-10 13: 0          Acquisition2.0\n",
       " (Total: 9)"
      ]
     },
     "execution_count": 23,
     "metadata": {},
     "output_type": "execute_result"
    }
   ],
   "source": [
    "acq.Sessions & csrf.EyeMovements()"
   ]
  },
  {
   "cell_type": "code",
   "execution_count": 54,
   "id": "95e2c900-05e7-4ba3-966c-0e4670d2932f",
   "metadata": {},
   "outputs": [],
   "source": [
    "eye_coords, eye_degrees, pupil_size = (csrf.EyeMovements() & dict(session_start_time=3638885582960, image_number=4)).fetch(\"eye_coords\", \"eye_degrees\", \"pupil_size\")"
   ]
  },
  {
   "cell_type": "code",
   "execution_count": 55,
   "id": "82095407-0f30-4c90-a704-e726a26d3bca",
   "metadata": {},
   "outputs": [
    {
     "data": {
      "text/plain": [
       "(528,)"
      ]
     },
     "execution_count": 55,
     "metadata": {},
     "output_type": "execute_result"
    }
   ],
   "source": [
    "eye_coords.shape"
   ]
  },
  {
   "cell_type": "code",
   "execution_count": 56,
   "id": "06c1e0f0-3ce4-48db-aa8c-cb7393ababe1",
   "metadata": {},
   "outputs": [
    {
     "data": {
      "text/plain": [
       "[<matplotlib.lines.Line2D at 0x7fba00cf9b10>]"
      ]
     },
     "execution_count": 56,
     "metadata": {},
     "output_type": "execute_result"
    },
    {
     "data": {
      "image/png": "[encoded data removed]",
      "text/plain": [
       "<Figure size 640x480 with 1 Axes>"
      ]
     },
     "metadata": {},
     "output_type": "display_data"
    }
   ],
   "source": [
    "plt.plot(*np.stack(eye_coords[1]).T, 'o')"
   ]
  },
  {
   "cell_type": "code",
   "execution_count": 51,
   "id": "12348c11-6038-4fae-b249-4ac3abc3698c",
   "metadata": {},
   "outputs": [],
   "source": [
    "eye_coords, eye_degrees, pupil_size = (csrf.EyeMovements() & dict(session_start_time=3638885582960, image_number=1)).fetch(\"eye_coords\", \"eye_degrees\", \"pupil_size\")"
   ]
  },
  {
   "cell_type": "code",
   "execution_count": 52,
   "id": "8fe37526-72c2-473d-8871-4f0dd36d2384",
   "metadata": {},
   "outputs": [
    {
     "data": {
      "text/plain": [
       "(528,)"
      ]
     },
     "execution_count": 52,
     "metadata": {},
     "output_type": "execute_result"
    }
   ],
   "source": [
    "eye_coords.shape"
   ]
  },
  {
   "cell_type": "code",
   "execution_count": 53,
   "id": "a7396405-4a22-40d0-83aa-53b7d51d0092",
   "metadata": {},
   "outputs": [
    {
     "data": {
      "text/plain": [
       "[<matplotlib.lines.Line2D at 0x7fba00a2cc70>]"
      ]
     },
     "execution_count": 53,
     "metadata": {},
     "output_type": "execute_result"
    },
    {
     "data": {
      "image/png": "[encoded data removed]",
      "text/plain": [
       "<Figure size 640x480 with 1 Axes>"
      ]
     },
     "metadata": {},
     "output_type": "display_data"
    }
   ],
   "source": [
    "plt.plot(*np.stack(eye_coords[1]).T, 'o')"
   ]
  },
  {
   "cell_type": "code",
   "execution_count": 46,
   "id": "99260c94-c10e-412b-83c4-693d9ff8cab2",
   "metadata": {},
   "outputs": [],
   "source": [
    "key = dict(session_start_time=3638885582960)"
   ]
  },
  {
   "cell_type": "code",
   "execution_count": null,
   "id": "58169aff-3a5b-4ca9-914d-3f0b925ac3d9",
   "metadata": {},
   "outputs": [],
   "source": [
    "acq."
   ]
  },
  {
   "cell_type": "code",
   "execution_count": 35,
   "id": "295c7bd3-35b8-4275-a5f0-a55ed7132bed",
   "metadata": {},
   "outputs": [
    {
     "data": {
      "text/html": [
       "\n",
       "    \n",
       "    <style type=\"text/css\">\n",
       "        .Table{\n",
       "            border-collapse:collapse;\n",
       "        }\n",
       "        .Table th{\n",
       "            background: #A0A0A0; color: #ffffff; padding:4px; border:#f0e0e0 1px solid;\n",
       "            font-weight: normal; font-family: monospace; font-size: 100%;\n",
       "        }\n",
       "        .Table td{\n",
       "            padding:4px; border:#f0e0e0 1px solid; font-size:100%;\n",
       "        }\n",
       "        .Table tr:nth-child(odd){\n",
       "            background: #ffffff;\n",
       "            color: #000000;\n",
       "        }\n",
       "        .Table tr:nth-child(even){\n",
       "            background: #f3f1ff;\n",
       "            color: #000000;\n",
       "        }\n",
       "        /* Tooltip container */\n",
       "        .djtooltip {\n",
       "        }\n",
       "        /* Tooltip text */\n",
       "        .djtooltip .djtooltiptext {\n",
       "            visibility: hidden;\n",
       "            width: 120px;\n",
       "            background-color: black;\n",
       "            color: #fff;\n",
       "            text-align: center;\n",
       "            padding: 5px 0;\n",
       "            border-radius: 6px;\n",
       "            /* Position the tooltip text - see examples below! */\n",
       "            position: absolute;\n",
       "            z-index: 1;\n",
       "        }\n",
       "        #primary {\n",
       "            font-weight: bold;\n",
       "            color: black;\n",
       "        }\n",
       "        #nonprimary {\n",
       "            font-weight: normal;\n",
       "            color: white;\n",
       "        }\n",
       "\n",
       "        /* Show the tooltip text when you mouse over the tooltip container */\n",
       "        .djtooltip:hover .djtooltiptext {\n",
       "            visibility: visible;\n",
       "        }\n",
       "    </style>\n",
       "    \n",
       "    <b>trial sync pulses$</b>\n",
       "        <div style=\"max-height:1000px;max-width:1500px;overflow:auto;\">\n",
       "        <table border=\"1\" class=\"Table\">\n",
       "            <thead> <tr style=\"text-align: right;\"> <th> <div class=\"djtooltip\">\n",
       "                            <p id=\"primary\">subject_id</p>\n",
       "                            <span class=\"djtooltiptext\">unique identifier for subject</span>\n",
       "                        </div></th><th><div class=\"djtooltip\">\n",
       "                            <p id=\"primary\">setup</p>\n",
       "                            <span class=\"djtooltiptext\">setup number</span>\n",
       "                        </div></th><th><div class=\"djtooltip\">\n",
       "                            <p id=\"primary\">session_start_time</p>\n",
       "                            <span class=\"djtooltiptext\">start session timestamp</span>\n",
       "                        </div></th><th><div class=\"djtooltip\">\n",
       "                            <p id=\"primary\">stim_start_time</p>\n",
       "                            <span class=\"djtooltiptext\">timestamp for stimulation start</span>\n",
       "                        </div></th><th><div class=\"djtooltip\">\n",
       "                            <p id=\"primary\">tber_pulse_time</p>\n",
       "                            <span class=\"djtooltiptext\">pulse time</span>\n",
       "                        </div> </th> </tr> </thead>\n",
       "            <tbody> <tr> <td>0</td>\n",
       "<td>1</td>\n",
       "<td>3398184067536</td>\n",
       "<td>3398184105204</td>\n",
       "<td>3398184116159</td></tr><tr><td>0</td>\n",
       "<td>1</td>\n",
       "<td>3398184067536</td>\n",
       "<td>3398184105204</td>\n",
       "<td>3398184121129</td></tr><tr><td>0</td>\n",
       "<td>1</td>\n",
       "<td>3398184067536</td>\n",
       "<td>3398184105204</td>\n",
       "<td>3398184125924</td></tr><tr><td>0</td>\n",
       "<td>1</td>\n",
       "<td>3398184067536</td>\n",
       "<td>3398184105204</td>\n",
       "<td>3398184130692</td></tr><tr><td>0</td>\n",
       "<td>1</td>\n",
       "<td>3398185136890</td>\n",
       "<td>3398186557363</td>\n",
       "<td>3398188132380</td></tr><tr><td>0</td>\n",
       "<td>1</td>\n",
       "<td>3398190204188</td>\n",
       "<td>3398190422533</td>\n",
       "<td>3398190434034</td></tr><tr><td>0</td>\n",
       "<td>1</td>\n",
       "<td>3398190204188</td>\n",
       "<td>3398190422533</td>\n",
       "<td>3398190438206</td></tr><tr><td>0</td>\n",
       "<td>1</td>\n",
       "<td>3398260519682</td>\n",
       "<td>3398262428150</td>\n",
       "<td>3398262440384</td></tr><tr><td>0</td>\n",
       "<td>1</td>\n",
       "<td>3398260519682</td>\n",
       "<td>3398262428150</td>\n",
       "<td>3398262507055</td></tr><tr><td>0</td>\n",
       "<td>1</td>\n",
       "<td>3398260519682</td>\n",
       "<td>3398262755896</td>\n",
       "<td>3398262762068</td></tr><tr><td>0</td>\n",
       "<td>1</td>\n",
       "<td>3398260519682</td>\n",
       "<td>3398262755896</td>\n",
       "<td>3398262767286</td></tr><tr><td>0</td>\n",
       "<td>1</td>\n",
       "<td>3398260519682</td>\n",
       "<td>3398262755896</td>\n",
       "<td>3398262772474</td> </tr> </tbody>\n",
       "        </table>\n",
       "        <p>...</p>\n",
       "        <p>Total: 19503970</p></div>\n",
       "        "
      ],
      "text/plain": [
       "*subject_id    *setup    *session_start *stim_start_ti *tber_pulse_ti\n",
       "+------------+ +-------+ +------------+ +------------+ +------------+\n",
       "0              1         3398184067536  3398184105204  3398184116159 \n",
       "0              1         3398184067536  3398184105204  3398184121129 \n",
       "0              1         3398184067536  3398184105204  3398184125924 \n",
       "0              1         3398184067536  3398184105204  3398184130692 \n",
       "0              1         3398185136890  3398186557363  3398188132380 \n",
       "0              1         3398190204188  3398190422533  3398190434034 \n",
       "0              1         3398190204188  3398190422533  3398190438206 \n",
       "0              1         3398260519682  3398262428150  3398262440384 \n",
       "0              1         3398260519682  3398262428150  3398262507055 \n",
       "0              1         3398260519682  3398262755896  3398262762068 \n",
       "0              1         3398260519682  3398262755896  3398262767286 \n",
       "0              1         3398260519682  3398262755896  3398262772474 \n",
       "   ...\n",
       " (Total: 19503970)"
      ]
     },
     "execution_count": 35,
     "metadata": {},
     "output_type": "execute_result"
    }
   ],
   "source": [
    "acq.TberPulses()"
   ]
  },
  {
   "cell_type": "code",
   "execution_count": 105,
   "id": "72c9d824-199e-446b-940c-5f06ac310da8",
   "metadata": {},
   "outputs": [
    {
     "data": {
      "text/html": [
       "\n",
       "    \n",
       "    <style type=\"text/css\">\n",
       "        .Table{\n",
       "            border-collapse:collapse;\n",
       "        }\n",
       "        .Table th{\n",
       "            background: #A0A0A0; color: #ffffff; padding:4px; border:#f0e0e0 1px solid;\n",
       "            font-weight: normal; font-family: monospace; font-size: 100%;\n",
       "        }\n",
       "        .Table td{\n",
       "            padding:4px; border:#f0e0e0 1px solid; font-size:100%;\n",
       "        }\n",
       "        .Table tr:nth-child(odd){\n",
       "            background: #ffffff;\n",
       "            color: #000000;\n",
       "        }\n",
       "        .Table tr:nth-child(even){\n",
       "            background: #f3f1ff;\n",
       "            color: #000000;\n",
       "        }\n",
       "        /* Tooltip container */\n",
       "        .djtooltip {\n",
       "        }\n",
       "        /* Tooltip text */\n",
       "        .djtooltip .djtooltiptext {\n",
       "            visibility: hidden;\n",
       "            width: 120px;\n",
       "            background-color: black;\n",
       "            color: #fff;\n",
       "            text-align: center;\n",
       "            padding: 5px 0;\n",
       "            border-radius: 6px;\n",
       "            /* Position the tooltip text - see examples below! */\n",
       "            position: absolute;\n",
       "            z-index: 1;\n",
       "        }\n",
       "        #primary {\n",
       "            font-weight: bold;\n",
       "            color: black;\n",
       "        }\n",
       "        #nonprimary {\n",
       "            font-weight: normal;\n",
       "            color: white;\n",
       "        }\n",
       "\n",
       "        /* Show the tooltip text when you mouse over the tooltip container */\n",
       "        .djtooltip:hover .djtooltiptext {\n",
       "            visibility: visible;\n",
       "        }\n",
       "    </style>\n",
       "    \n",
       "    <b>visual stimulations$</b>\n",
       "        <div style=\"max-height:1000px;max-width:1500px;overflow:auto;\">\n",
       "        <table border=\"1\" class=\"Table\">\n",
       "            <thead> <tr style=\"text-align: right;\"> <th> <div class=\"djtooltip\">\n",
       "                            <p id=\"primary\">subject_id</p>\n",
       "                            <span class=\"djtooltiptext\">unique identifier for subject</span>\n",
       "                        </div></th><th><div class=\"djtooltip\">\n",
       "                            <p id=\"primary\">setup</p>\n",
       "                            <span class=\"djtooltiptext\">setup number</span>\n",
       "                        </div></th><th><div class=\"djtooltip\">\n",
       "                            <p id=\"primary\">session_start_time</p>\n",
       "                            <span class=\"djtooltiptext\">start session timestamp</span>\n",
       "                        </div></th><th><div class=\"djtooltip\">\n",
       "                            <p id=\"primary\">stim_start_time</p>\n",
       "                            <span class=\"djtooltiptext\">timestamp for stimulation start</span>\n",
       "                        </div></th><th><div class=\"djtooltip\">\n",
       "                            <p id=\"nonprimary\">stim_stop_time</p>\n",
       "                            <span class=\"djtooltiptext\">end of stimulation timestamp</span>\n",
       "                        </div></th><th><div class=\"djtooltip\">\n",
       "                            <p id=\"nonprimary\">stim_path</p>\n",
       "                            <span class=\"djtooltiptext\">path to the stimulation data</span>\n",
       "                        </div></th><th><div class=\"djtooltip\">\n",
       "                            <p id=\"nonprimary\">exp_type</p>\n",
       "                            <span class=\"djtooltiptext\">type of experiment</span>\n",
       "                        </div></th><th><div class=\"djtooltip\">\n",
       "                            <p id=\"nonprimary\">total_trials</p>\n",
       "                            <span class=\"djtooltiptext\">total number of trials completed</span>\n",
       "                        </div></th><th><div class=\"djtooltip\">\n",
       "                            <p id=\"nonprimary\">correct_trials</p>\n",
       "                            <span class=\"djtooltiptext\">number of correct trials</span>\n",
       "                        </div></th><th><div class=\"djtooltip\">\n",
       "                            <p id=\"nonprimary\">incorrect_trials</p>\n",
       "                            <span class=\"djtooltiptext\">number of incorrect trials</span>\n",
       "                        </div> </th> </tr> </thead>\n",
       "            <tbody> <tr> <td>30</td>\n",
       "<td>1</td>\n",
       "<td>3638885582960</td>\n",
       "<td>3638885599001</td>\n",
       "<td>3638892994328</td>\n",
       "<td>/stimulation/Dennis/2019-04-23_12-33-19</td>\n",
       "<td>CenterSurroundExperiment</td>\n",
       "<td>2145</td>\n",
       "<td>528</td>\n",
       "<td>0</td> </tr> </tbody>\n",
       "        </table>\n",
       "        \n",
       "        <p>Total: 1</p></div>\n",
       "        "
      ],
      "text/plain": [
       "*subject_id    *setup    *session_start *stim_start_ti stim_stop_time stim_path      exp_type       total_trials   correct_trials incorrect_tria\n",
       "+------------+ +-------+ +------------+ +------------+ +------------+ +------------+ +------------+ +------------+ +------------+ +------------+\n",
       "30             1         3638885582960  3638885599001  3638892994328  /stimulation/D CenterSurround 2145           528            0             \n",
       " (Total: 1)"
      ]
     },
     "execution_count": 105,
     "metadata": {},
     "output_type": "execute_result"
    }
   ],
   "source": [
    "acq.Stimulation & key"
   ]
  },
  {
   "cell_type": "code",
   "execution_count": 106,
   "id": "f5b99665-e6de-48c5-985a-52591781fa25",
   "metadata": {},
   "outputs": [
    {
     "data": {
      "text/html": [
       "\n",
       "    \n",
       "    <style type=\"text/css\">\n",
       "        .Table{\n",
       "            border-collapse:collapse;\n",
       "        }\n",
       "        .Table th{\n",
       "            background: #A0A0A0; color: #ffffff; padding:4px; border:#f0e0e0 1px solid;\n",
       "            font-weight: normal; font-family: monospace; font-size: 100%;\n",
       "        }\n",
       "        .Table td{\n",
       "            padding:4px; border:#f0e0e0 1px solid; font-size:100%;\n",
       "        }\n",
       "        .Table tr:nth-child(odd){\n",
       "            background: #ffffff;\n",
       "            color: #000000;\n",
       "        }\n",
       "        .Table tr:nth-child(even){\n",
       "            background: #f3f1ff;\n",
       "            color: #000000;\n",
       "        }\n",
       "        /* Tooltip container */\n",
       "        .djtooltip {\n",
       "        }\n",
       "        /* Tooltip text */\n",
       "        .djtooltip .djtooltiptext {\n",
       "            visibility: hidden;\n",
       "            width: 120px;\n",
       "            background-color: black;\n",
       "            color: #fff;\n",
       "            text-align: center;\n",
       "            padding: 5px 0;\n",
       "            border-radius: 6px;\n",
       "            /* Position the tooltip text - see examples below! */\n",
       "            position: absolute;\n",
       "            z-index: 1;\n",
       "        }\n",
       "        #primary {\n",
       "            font-weight: bold;\n",
       "            color: black;\n",
       "        }\n",
       "        #nonprimary {\n",
       "            font-weight: normal;\n",
       "            color: white;\n",
       "        }\n",
       "\n",
       "        /* Show the tooltip text when you mouse over the tooltip container */\n",
       "        .djtooltip:hover .djtooltiptext {\n",
       "            visibility: visible;\n",
       "        }\n",
       "    </style>\n",
       "    \n",
       "    <b>behavioral data recordings$</b>\n",
       "        <div style=\"max-height:1000px;max-width:1500px;overflow:auto;\">\n",
       "        <table border=\"1\" class=\"Table\">\n",
       "            <thead> <tr style=\"text-align: right;\"> <th> <div class=\"djtooltip\">\n",
       "                            <p id=\"primary\">subject_id</p>\n",
       "                            <span class=\"djtooltiptext\">unique identifier for subject</span>\n",
       "                        </div></th><th><div class=\"djtooltip\">\n",
       "                            <p id=\"primary\">setup</p>\n",
       "                            <span class=\"djtooltiptext\">setup number</span>\n",
       "                        </div></th><th><div class=\"djtooltip\">\n",
       "                            <p id=\"primary\">session_start_time</p>\n",
       "                            <span class=\"djtooltiptext\">start session timestamp</span>\n",
       "                        </div></th><th><div class=\"djtooltip\">\n",
       "                            <p id=\"primary\">stim_start_time</p>\n",
       "                            <span class=\"djtooltiptext\">timestamp for stimulation start</span>\n",
       "                        </div></th><th><div class=\"djtooltip\">\n",
       "                            <p id=\"primary\">beh_start_time</p>\n",
       "                            <span class=\"djtooltiptext\">timestamp for recordng start</span>\n",
       "                        </div></th><th><div class=\"djtooltip\">\n",
       "                            <p id=\"nonprimary\">beh_stop_time</p>\n",
       "                            <span class=\"djtooltiptext\">end of recording timestamp</span>\n",
       "                        </div></th><th><div class=\"djtooltip\">\n",
       "                            <p id=\"nonprimary\">beh_path</p>\n",
       "                            <span class=\"djtooltiptext\">path to the behavioral data</span>\n",
       "                        </div></th><th><div class=\"djtooltip\">\n",
       "                            <p id=\"nonprimary\">beh_traces_type</p>\n",
       "                            <span class=\"djtooltiptext\">type of recording</span>\n",
       "                        </div> </th> </tr> </thead>\n",
       "            <tbody> <tr> <td>30</td>\n",
       "<td>1</td>\n",
       "<td>3638885582960</td>\n",
       "<td>3638885599001</td>\n",
       "<td>3638885599011</td>\n",
       "<td>3638892994853</td>\n",
       "<td>/raw/Dennis/2019-04-23_12-33-02/2019-04-23_12-33-18/BehaviorData%d.h5</td>\n",
       "<td>analog</td> </tr> </tbody>\n",
       "        </table>\n",
       "        \n",
       "        <p>Total: 1</p></div>\n",
       "        "
      ],
      "text/plain": [
       "*subject_id    *setup    *session_start *stim_start_ti *beh_start_tim beh_stop_time  beh_path       beh_traces_typ\n",
       "+------------+ +-------+ +------------+ +------------+ +------------+ +------------+ +------------+ +------------+\n",
       "30             1         3638885582960  3638885599001  3638885599011  3638892994853  /raw/Dennis/20 analog        \n",
       " (Total: 1)"
      ]
     },
     "execution_count": 106,
     "metadata": {},
     "output_type": "execute_result"
    }
   ],
   "source": [
    "(acq.BehaviorTraces() & key)"
   ]
  },
  {
   "cell_type": "code",
   "execution_count": 109,
   "id": "4e291c11-08c3-41ea-b5be-3f6a41e5f204",
   "metadata": {},
   "outputs": [
    {
     "data": {
      "text/plain": [
       "16051"
      ]
     },
     "execution_count": 109,
     "metadata": {},
     "output_type": "execute_result"
    }
   ],
   "source": [
    "3638885599011-3638885582960\n"
   ]
  },
  {
   "cell_type": "code",
   "execution_count": 2,
   "id": "0bb77500-9fb0-4af5-b0ab-ce6da81512fe",
   "metadata": {},
   "outputs": [],
   "source": [
    "filename = \"/mnt/mscratch1/Dennis/2019-04-23_12-33-02/2019-04-23_12-33-18/BehaviorData0.h5\""
   ]
  },
  {
   "cell_type": "code",
   "execution_count": 2,
   "id": "be941235-4084-45f3-8aff-12ae933796a9",
   "metadata": {},
   "outputs": [],
   "source": [
    "import datajoint as dj\n",
    "import os\n",
    "import h5py\n",
    "import scipy.io\n",
    "import numpy as np\n",
    "from scipy.signal import decimate\n",
    "import pandas as pd"
   ]
  },
  {
   "cell_type": "code",
   "execution_count": 3,
   "id": "688dba47-b002-4106-a99b-b578da5ffaa5",
   "metadata": {},
   "outputs": [],
   "source": [
    "filename = '/mnt/mscratch1/Dennis/2019-04-23_12-33-02/2019-04-23_12-33-18/BehaviorData%d.h5'"
   ]
  },
  {
   "cell_type": "code",
   "execution_count": 7,
   "id": "7cddbde6-5ce5-4f8d-80e5-d11c53d14ff8",
   "metadata": {},
   "outputs": [],
   "source": [
    "br = BaseReaderElectrophysiology(filename, )"
   ]
  },
  {
   "cell_type": "code",
   "execution_count": 9,
   "id": "538549ef-30f2-49a4-bc3b-e8e594821732",
   "metadata": {},
   "outputs": [
    {
     "name": "stdout",
     "output_type": "stream",
     "text": [
      "i did my job\n"
     ]
    }
   ],
   "source": [
    "eh = np.array(br.match_channels('Eye Horizontal').tolist())\n"
   ]
  },
  {
   "cell_type": "code",
   "execution_count": 10,
   "id": "c2a223ae-0077-4333-ba49-7cf387e85e6f",
   "metadata": {},
   "outputs": [],
   "source": [
    "from matplotlib import pyplot as plt"
   ]
  },
  {
   "cell_type": "code",
   "execution_count": 11,
   "id": "2b3ffa4b-9e21-4e9e-a099-cabf3bc7fa4f",
   "metadata": {},
   "outputs": [
    {
     "data": {
      "text/plain": [
       "(14790223,)"
      ]
     },
     "execution_count": 11,
     "metadata": {},
     "output_type": "execute_result"
    }
   ],
   "source": [
    "eh.shape"
   ]
  },
  {
   "cell_type": "code",
   "execution_count": 12,
   "id": "ee5fd107-b95f-4aeb-b95e-5b80ec7f368a",
   "metadata": {},
   "outputs": [
    {
     "data": {
      "text/plain": [
       "14790.223"
      ]
     },
     "execution_count": 12,
     "metadata": {},
     "output_type": "execute_result"
    }
   ],
   "source": [
    "14790223 / 1000"
   ]
  },
  {
   "cell_type": "code",
   "execution_count": 13,
   "id": "7c5c5828-7230-427e-b1d7-2ef37efa9cf9",
   "metadata": {},
   "outputs": [
    {
     "data": {
      "text/plain": [
       "4.108333333333333"
      ]
     },
     "execution_count": 13,
     "metadata": {},
     "output_type": "execute_result"
    }
   ],
   "source": [
    "14790 /3600"
   ]
  },
  {
   "cell_type": "code",
   "execution_count": 18,
   "id": "fd47083b-d564-42bf-8915-d979b1024292",
   "metadata": {},
   "outputs": [
    {
     "data": {
      "text/plain": [
       "[<matplotlib.lines.Line2D at 0x7fe14d8824a0>]"
      ]
     },
     "execution_count": 18,
     "metadata": {},
     "output_type": "execute_result"
    },
    {
     "data": {
      "image/png": "[encoded data removed]",
      "text/plain": [
       "<Figure size 640x480 with 1 Axes>"
      ]
     },
     "metadata": {},
     "output_type": "display_data"
    }
   ],
   "source": [
    "\n",
    "plt.plot(eh[:1000])"
   ]
  },
  {
   "cell_type": "code",
   "execution_count": 14,
   "id": "d94ff31a-a69c-465f-af0e-767f122c24ab",
   "metadata": {},
   "outputs": [
    {
     "data": {
      "text/plain": [
       "array([2000.])"
      ]
     },
     "execution_count": 14,
     "metadata": {},
     "output_type": "execute_result"
    }
   ],
   "source": [
    "br.Fs"
   ]
  },
  {
   "cell_type": "code",
   "execution_count": 26,
   "id": "721c75ae-d295-4827-af85-4ee2e25a7900",
   "metadata": {},
   "outputs": [
    {
     "data": {
      "text/plain": [
       "np.bytes_(b'Eye Horizontal,Eye Vertical,Photodiode,PupilSizeIn\\r\\n')"
      ]
     },
     "execution_count": 26,
     "metadata": {},
     "output_type": "execute_result"
    }
   ],
   "source": [
    "br.fp.attrs[\"channelNames\"]"
   ]
  },
  {
   "cell_type": "code",
   "execution_count": 6,
   "id": "7eddd273-d84a-4940-992a-60f25d1f28b6",
   "metadata": {},
   "outputs": [],
   "source": [
    "import h5py\n",
    "import numpy as np\n",
    "\n",
    "class BaseReaderElectrophysiology:\n",
    "    def __init__(self, file_name, channels=None):\n",
    "        self.file_name = file_name\n",
    "        self.fp = h5py.File(file_name, 'r',  driver='family',memb_size=2147483648)\n",
    "        sz = self.fp['data'].shape\n",
    "        self.nb_channels = sz[0]\n",
    "        self.nb_samples = sz[1]\n",
    "        self.ch_names = self.fp.attrs['channelNames'].decode('UTF-8').strip().split(',')\n",
    "        self.Fs = self.fp.attrs['Fs']\n",
    "        self.t0 = self.fp.attrs.get('t0', 0)\n",
    "        self.scale = self.fp.attrs['scale']\n",
    "        #self.eh = self.fp['data'][0][:]\n",
    "        #self.ev = self.fp['data'][1][:]\n",
    "        #self.ps = self.fp['data'][3][:]\n",
    "\n",
    "        \n",
    "\n",
    "    def match_channels(self, channel):\n",
    "       \n",
    "        if not (isinstance(channel, str)):\n",
    "            raise ValueError('channel name must be a string')\n",
    "        \n",
    "        if not (channel in self.ch_names):\n",
    "            raise KeyError('channel name not valid. Channel name can only be one of Eye Horizontal, Eye Vertical, Photodiode, PupilSizeIn')\n",
    "    \n",
    "\n",
    "        ch_index = self.ch_names.index(channel)\n",
    "        ch_data = self.fp['data'][ch_index][:]\n",
    "        print('i did my job')\n",
    "        \n",
    "        return ch_data\n",
    "    \n",
    "    def get_sample_index(self, t):\n",
    "        # Returns the sample indices 'idx' for the vector of timestamps 't'.\n",
    "\n",
    "        #print(\"the value of t0 is \", self.t0)\n",
    "        if not (self.t0 > 0):\n",
    "            raise ValueError('t0 has not been updated in this file!')\n",
    "        \n",
    "        idx = np.round(1e-3 * (t - self.t0) * self.Fs) + 1\n",
    "        idx[idx < 1] = np.nan\n",
    "        idx[idx > self.nb_samples] = np.nan\n",
    "        return idx"
   ]
  },
  {
   "cell_type": "code",
   "execution_count": null,
   "id": "bb80f693-69f2-4fd8-bbc9-55009d621417",
   "metadata": {},
   "outputs": [],
   "source": []
  }
 ],
 "metadata": {
  "kernelspec": {
   "display_name": "Python 3 (ipykernel)",
   "language": "python",
   "name": "python3"
  },
  "language_info": {
   "codemirror_mode": {
    "name": "ipython",
    "version": 3
   },
   "file_extension": ".py",
   "mimetype": "text/x-python",
   "name": "python",
   "nbconvert_exporter": "python",
   "pygments_lexer": "ipython3",
   "version": "3.10.12"
  }
 },
 "nbformat": 4,
 "nbformat_minor": 5
}
