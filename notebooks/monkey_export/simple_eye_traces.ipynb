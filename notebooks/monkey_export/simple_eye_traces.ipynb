{
 "cells": [
  {
   "cell_type": "code",
   "execution_count": 1,
   "id": "49fe7905-1b2d-4f88-852e-e21a7ca2eef6",
   "metadata": {},
   "outputs": [],
   "source": [
    "import h5py\n",
    "import numpy as np\n",
    "\n",
    "class BaseReaderElectrophysiology:\n",
    "    def __init__(self, file_name, channels=None):\n",
    "        self.file_name = file_name\n",
    "        self.fp = h5py.File(file_name, 'r',  driver='family',memb_size=2147483648)\n",
    "        sz = self.fp['data'].shape\n",
    "        self.nb_channels = sz[0]\n",
    "        self.nb_samples = sz[1]\n",
    "        self.ch_names = self.fp.attrs['channelNames'].decode('UTF-8').strip().split(',')\n",
    "        self.Fs = self.fp.attrs['Fs']\n",
    "        self.t0 = self.fp.attrs.get('t0', 0)\n",
    "        self.scale = self.fp.attrs['scale']\n",
    "        #self.eh = self.fp['data'][0][:]\n",
    "        #self.ev = self.fp['data'][1][:]\n",
    "        #self.ps = self.fp['data'][3][:]\n",
    "\n",
    "        \n",
    "\n",
    "    def match_channels(self, channel):\n",
    "       \n",
    "        if not (isinstance(channel, str)):\n",
    "            raise ValueError('channel name must be a string')\n",
    "        \n",
    "        if not (channel in self.ch_names):\n",
    "            raise KeyError('channel name not valid. Channel name can only be one of Eye Horizontal, Eye Vertical, Photodiode, PupilSizeIn')\n",
    "    \n",
    "\n",
    "        ch_index = self.ch_names.index(channel)\n",
    "        ch_data = self.fp['data'][ch_index][:]\n",
    "        print('i did my job')\n",
    "        \n",
    "        return ch_data\n",
    "    \n",
    "    def get_sample_index(self, t):\n",
    "        # Returns the sample indices 'idx' for the vector of timestamps 't'.\n",
    "\n",
    "        #print(\"the value of t0 is \", self.t0)\n",
    "        if not (self.t0 > 0):\n",
    "            raise ValueError('t0 has not been updated in this file!')\n",
    "        \n",
    "        idx = np.round(1e-3 * (t - self.t0) * self.Fs) + 1\n",
    "        idx[idx < 1] = np.nan\n",
    "        idx[idx > self.nb_samples] = np.nan\n",
    "        return idx"
   ]
  },
  {
   "cell_type": "code",
   "execution_count": null,
   "id": "451425bc-7d09-4a8d-aaba-d6c28b9daa02",
   "metadata": {},
   "outputs": [],
   "source": [
    "import datajoint as dj\n",
    "import os\n",
    "import h5py\n",
    "import scipy.io\n",
    "import numpy as np\n",
    "from scipy.signal import decimate\n",
    "import pandas as pd\n",
    "from matplotlib import pyplot as plt"
   ]
  },
  {
   "cell_type": "code",
   "execution_count": null,
   "id": "384da197-66a8-4805-9f48-6fa164ed0a53",
   "metadata": {},
   "outputs": [],
   "source": [
    "import datajoint as dj\n",
    "dj.config['database.host'] = 'at-database3.stanford.edu'\n",
    "dj.config['database.user'] = 'konsti'\n",
    "dj.config['database.password'] = 'black-coffee-fast-bike'\n",
    "csrf = dj.create_virtual_module(\"george_csrf\",\"george_csrf\")\n",
    "#events = (csrf.EyeTracePreprocessed.EyeEventsFullSession() & session_dict).fetch()\n",
    "acq = dj.create_virtual_module(\"acq\",\"acq\")\n",
    "ephys = dj.create_virtual_module(\"ephys\",\"ephys\")\n",
    "stim = dj.create_virtual_module(\"stimulation\", \"stimulation\")"
   ]
  },
  {
   "cell_type": "code",
   "execution_count": null,
   "id": "0ea96d09-cb52-4d7e-91c4-6c052ce297e4",
   "metadata": {},
   "outputs": [],
   "source": [
    "key = dict(session_start_time=3638885582960)"
   ]
  },
  {
   "cell_type": "code",
   "execution_count": null,
   "id": "62074c96-54c4-491e-9a1f-bf5f923c8e5e",
   "metadata": {
    "scrolled": true
   },
   "outputs": [],
   "source": [
    "acq.Stimulation() & key"
   ]
  },
  {
   "cell_type": "code",
   "execution_count": null,
   "id": "edb7757e-d5fa-49a1-b517-651e5182f058",
   "metadata": {},
   "outputs": [],
   "source": [
    "filename_behavior = '/mnt/mscratch1/Dennis/2019-04-23_12-33-02/2019-04-23_12-33-18/BehaviorData%d.h5'"
   ]
  },
  {
   "cell_type": "code",
   "execution_count": null,
   "id": "69b9fcf3-3b97-4bcb-9d44-9ed472fe5ee2",
   "metadata": {},
   "outputs": [],
   "source": [
    "br = BaseReaderElectrophysiology(filename_behavior, )"
   ]
  },
  {
   "cell_type": "code",
   "execution_count": null,
   "id": "c8260911-1a55-4e37-b360-13f0da120333",
   "metadata": {},
   "outputs": [],
   "source": [
    "stim_file = '/mnt/stor01/stimulation/Dennis/2019-04-23_12-33-19/CenterSurroundExperimentSynched.mat'"
   ]
  },
  {
   "cell_type": "code",
   "execution_count": null,
   "id": "454ebd77-b242-4302-a7f0-d1e754888f72",
   "metadata": {},
   "outputs": [],
   "source": [
    "stim = scipy.io.loadmat(stim_file,struct_as_record=False, squeeze_me=True)\n",
    "stimParams = stim['stim']"
   ]
  },
  {
   "cell_type": "code",
   "execution_count": null,
   "id": "5841655f-c2ed-456d-ad11-1d91f2937f80",
   "metadata": {},
   "outputs": [],
   "source": [
    "monitor_width = stimParams.params.constants.monitorCenter[0]*2\n",
    "monitor_distance = stimParams.params.constants.monitorDistance\n",
    "monitor_size = stimParams.params.constants.monitorSize[0]\n",
    "ep = stimParams.params.trials[0].eyeParams\n",
    "\n",
    "# Calculate pixels per degree\n",
    "pixel_per_deg = 1 / (np.degrees(np.arctan(monitor_size / (2 * monitor_distance))) * 2 / monitor_width)\n",
    "\n",
    "print(\"read experiment config parameters\")"
   ]
  },
  {
   "cell_type": "code",
   "execution_count": null,
   "id": "2c0b50e1-be38-4e7b-aabc-7f615c4522ea",
   "metadata": {
    "scrolled": true
   },
   "outputs": [],
   "source": [
    "pixel_per_deg"
   ]
  },
  {
   "cell_type": "code",
   "execution_count": null,
   "id": "744c8e7f-8516-4ad7-9b31-906296b52bec",
   "metadata": {},
   "outputs": [],
   "source": [
    "eh = np.array(br.match_channels('Eye Horizontal').tolist())\n",
    "ev = np.array(br.match_channels('Eye Vertical').tolist())"
   ]
  },
  {
   "cell_type": "code",
   "execution_count": null,
   "id": "195e41a1-24c4-43e2-81af-e106653f921e",
   "metadata": {},
   "outputs": [],
   "source": [
    "# downsampling factor is 10: eye link runs at 200hz, and is upsampled to 2khz. so it's downsamples by  factor of 10 again\n",
    "ds = 10"
   ]
  },
  {
   "cell_type": "code",
   "execution_count": null,
   "id": "fa6bb1b9-53b7-4d88-9b0c-1b3f26d301eb",
   "metadata": {},
   "outputs": [],
   "source": [
    "eye_horizontal = ((ep[0] + ep[1] * eh * br.scale[1])/pixel_per_deg)[::ds]\n",
    "eye_vertical = ((ep[0] + ep[1] * ev * br.scale[1])/pixel_per_deg)[::ds]"
   ]
  },
  {
   "cell_type": "code",
   "execution_count": null,
   "id": "f22ac333-a477-43e3-b12d-6e2a01d5f5c4",
   "metadata": {},
   "outputs": [],
   "source": [
    "plt.plot(eye_horizontal[:1000])\n",
    "plt.plot(eye_vertical[:1000])"
   ]
  },
  {
   "cell_type": "code",
   "execution_count": null,
   "id": "6157f8a8-ba02-4683-885a-c80512bc9a61",
   "metadata": {},
   "outputs": [],
   "source": [
    "stim_file = \"{}/{}Synched.mat\".format(stim_filepath,experiment)"
   ]
  },
  {
   "cell_type": "code",
   "execution_count": null,
   "id": "1ad4caa3-7ac0-4bcd-9d41-ac0df09ea4df",
   "metadata": {},
   "outputs": [],
   "source": []
  }
 ],
 "metadata": {
  "kernelspec": {
   "display_name": "Python 3 (ipykernel)",
   "language": "python",
   "name": "python3"
  },
  "language_info": {
   "codemirror_mode": {
    "name": "ipython",
    "version": 3
   },
   "file_extension": ".py",
   "mimetype": "text/x-python",
   "name": "python",
   "nbconvert_exporter": "python",
   "pygments_lexer": "ipython3",
   "version": "3.10.12"
  }
 },
 "nbformat": 4,
 "nbformat_minor": 5
}
