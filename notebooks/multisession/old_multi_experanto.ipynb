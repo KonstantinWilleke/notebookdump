{
 "cells": [
  {
   "cell_type": "code",
   "execution_count": 3,
   "id": "20c2ab7c-d0a2-4222-9067-5161e91a80dd",
   "metadata": {},
   "outputs": [
    {
     "name": "stdout",
     "output_type": "stream",
     "text": [
      "The autoreload extension is already loaded. To reload it, use:\n",
      "  %reload_ext autoreload\n"
     ]
    }
   ],
   "source": [
    "%matplotlib inline\n",
    "%load_ext autoreload\n",
    "%autoreload 2\n",
    "\n",
    "import os\n",
    "import numpy as np\n",
    "import matplotlib.pyplot as plt\n",
    "import torch\n",
    "from torch.utils.data import DataLoader\n",
    "from tqdm import tqdm\n",
    "\n",
    "from experanto.datasets import ChunkDataset, SimpleChunkedDataset\n",
    "from experanto.utils import LongCycler, MultiEpochsDataLoader\n",
    "from experanto.dataloaders import get_multisession_dataloaders"
   ]
  },
  {
   "cell_type": "code",
   "execution_count": 13,
   "id": "b2c1c34f-a431-44a4-9c3c-7d30a6b35fbc",
   "metadata": {},
   "outputs": [],
   "source": [
    "paths = [\"/data/mouse_datasets/dynamic29228-2-10-Video-sensorium23_full_256_144/\"]*100\n",
    "#paths = [\"/data/mouse_polly/dynamic29515-10-12-Video-full/\"]*1"
   ]
  },
  {
   "cell_type": "code",
   "execution_count": 14,
   "id": "7c8bf469-eba1-4d10-b3a5-a0fc7df9bae0",
   "metadata": {},
   "outputs": [],
   "source": [
    "dls = get_multisession_dataloaders(paths, \n",
    "                                   chunk_size=80, \n",
    "                                   sample_stride=4, \n",
    "                                   pin_memory=True,\n",
    "                                   sampling_rate=8,)"
   ]
  },
  {
   "cell_type": "code",
   "execution_count": 15,
   "id": "b0a3f7c7-6d02-47e6-ac78-3117d5ffa5c1",
   "metadata": {
    "editable": true,
    "slideshow": {
     "slide_type": ""
    },
    "tags": []
   },
   "outputs": [
    {
     "name": "stderr",
     "output_type": "stream",
     "text": [
      "301it [00:18, 15.88it/s] \n"
     ]
    }
   ],
   "source": [
    "for i, (k, b) in tqdm(enumerate(dls)):\n",
    "    _ = b[\"screen\"].to(\"cuda\", torch.bfloat16, non_blocking=True)\n",
    "    _ = b[\"responses\"].to(\"cuda\", torch.bfloat16, non_blocking=True)\n",
    "    _ = b[\"eye_tracker\"].to(\"cuda\", torch.bfloat16, non_blocking=True)\n",
    "    _ = b[\"treadmill\"].to(\"cuda\", torch.bfloat16, non_blocking=True)\n",
    "    if i >300:\n",
    "        break"
   ]
  },
  {
   "cell_type": "code",
   "execution_count": 16,
   "id": "ff8b9da6-9cac-4773-8408-3e354dd5077e",
   "metadata": {},
   "outputs": [
    {
     "name": "stderr",
     "output_type": "stream",
     "text": [
      "301it [00:19, 15.35it/s]\n"
     ]
    }
   ],
   "source": [
    "for i, (k, b) in tqdm(enumerate(dls)):\n",
    "    _ = b[\"screen\"].to(\"cuda\", torch.bfloat16, non_blocking=True)\n",
    "    _ = b[\"responses\"].to(\"cuda\", torch.bfloat16, non_blocking=True)\n",
    "    _ = b[\"eye_tracker\"].to(\"cuda\", torch.bfloat16, non_blocking=True)\n",
    "    _ = b[\"treadmill\"].to(\"cuda\", torch.bfloat16, non_blocking=True)\n",
    "    if i >300:\n",
    "        break"
   ]
  },
  {
   "cell_type": "code",
   "execution_count": 11,
   "id": "51e0b6b2-158a-4101-832c-c1057c102df2",
   "metadata": {},
   "outputs": [
    {
     "name": "stderr",
     "output_type": "stream",
     "text": [
      "301it [00:19, 15.64it/s]\n"
     ]
    }
   ],
   "source": [
    "for i, (k, b) in tqdm(enumerate(dls)):\n",
    "    _ = b[\"screen\"].to(\"cuda\", torch.bfloat16, non_blocking=True)\n",
    "    _ = b[\"responses\"].to(\"cuda\", torch.bfloat16, non_blocking=True)\n",
    "    _ = b[\"eye_tracker\"].to(\"cuda\", torch.bfloat16, non_blocking=True)\n",
    "    _ = b[\"treadmill\"].to(\"cuda\", torch.bfloat16, non_blocking=True)\n",
    "    if i >300:\n",
    "        break"
   ]
  },
  {
   "cell_type": "code",
   "execution_count": 17,
   "id": "0ca78486-4f6c-474a-b844-76ebff95ab3e",
   "metadata": {},
   "outputs": [
    {
     "data": {
      "text/plain": [
       "10240"
      ]
     },
     "execution_count": 17,
     "metadata": {},
     "output_type": "execute_result"
    }
   ],
   "source": [
    "16*80*8"
   ]
  },
  {
   "cell_type": "code",
   "execution_count": null,
   "id": "e72d3249-8dc2-4ebb-8c51-418fbbb55e59",
   "metadata": {},
   "outputs": [],
   "source": [
    "data"
   ]
  }
 ],
 "metadata": {
  "kernelspec": {
   "display_name": "Python 3 (ipykernel)",
   "language": "python",
   "name": "python3"
  },
  "language_info": {
   "codemirror_mode": {
    "name": "ipython",
    "version": 3
   },
   "file_extension": ".py",
   "mimetype": "text/x-python",
   "name": "python",
   "nbconvert_exporter": "python",
   "pygments_lexer": "ipython3",
   "version": "3.10.12"
  }
 },
 "nbformat": 4,
 "nbformat_minor": 5
}
