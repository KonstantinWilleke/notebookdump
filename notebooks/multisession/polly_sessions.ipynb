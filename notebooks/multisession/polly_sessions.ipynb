{
 "cells": [
  {
   "cell_type": "code",
   "execution_count": 3,
   "id": "d66dccc2-7799-418e-b99e-7f0f11dc529d",
   "metadata": {},
   "outputs": [
    {
     "name": "stdout",
     "output_type": "stream",
     "text": [
      "The autoreload extension is already loaded. To reload it, use:\n",
      "  %reload_ext autoreload\n"
     ]
    }
   ],
   "source": [
    "%matplotlib inline\n",
    "%load_ext autoreload\n",
    "%autoreload 2\n",
    "\n",
    "import os\n",
    "import numpy as np\n",
    "import matplotlib.pyplot as plt\n",
    "import torch\n",
    "from torch.utils.data import DataLoader\n",
    "from tqdm import tqdm\n",
    "\n",
    "from experanto.data import ChunkDataset, SimpleChunkedDataset\n",
    "from experanto.utils import LongCycler, MultiEpochsDataLoader"
   ]
  },
  {
   "cell_type": "code",
   "execution_count": 4,
   "id": "d4cbf22f-9596-41f3-b925-f92d53791664",
   "metadata": {},
   "outputs": [],
   "source": [
    "config = {\n",
    "    \"screen\": {\"rescale\": True, \"normalize\": False},\n",
    "    \"responses\": {\n",
    "        \"keep_nans\": True,\n",
    "        \"interpolation_mode\": \"nearest_neighbor\",\n",
    "    },\n",
    "    \"eye_tracker\": {\n",
    "        \"keep_nans\": True,\n",
    "        \"interpolation_mode\": \"nearest_neighbor\",\n",
    "    },\n",
    "    \"treadmill\": {\n",
    "        \"keep_nans\": True,\n",
    "        \"interpolation_mode\": \"nearest_neighbor\",\n",
    "    },\n",
    "}"
   ]
  },
  {
   "cell_type": "code",
   "execution_count": 5,
   "id": "baf68666-36d8-464b-b3b6-dfa0d55ffaba",
   "metadata": {},
   "outputs": [],
   "source": [
    "root_folder = \"/data/mouse_datasets/dynamic29228-2-10-Video-sensorium23_full_256_144/\"\n",
    "#root_folder = \"/data/mouse_polly/dynamic29515-10-12-Video-full/\"\n",
    "common_sampling_rate = 8  # Hz\n",
    "chunk_size = 80 \n",
    "tier=\"train\"\n",
    "sample_stride=40\n",
    "include_blanks=True\n",
    "dataset = SimpleChunkedDataset(root_folder=root_folder, \n",
    "                               chunk_size=chunk_size, \n",
    "                               sampling_rate=8,\n",
    "                               interp_config=config\n",
    "                      )"
   ]
  },
  {
   "cell_type": "code",
   "execution_count": 6,
   "id": "a79cd3cd-c419-4372-b065-037e0f423e6b",
   "metadata": {
    "scrolled": true
   },
   "outputs": [
    {
     "name": "stdout",
     "output_type": "stream",
     "text": [
      "responses (80, 7928)\n",
      "screen (80, 1, 144, 256)\n",
      "eye_tracker (80, 4)\n",
      "treadmill (80, 1)\n",
      "timestamps (80, 7928)\n"
     ]
    },
    {
     "name": "stderr",
     "output_type": "stream",
     "text": [
      "/data/experanto/experanto/interpolators.py:385: UserWarning: Image size changes aspect ratio.\n",
      "  warnings.warn(\"Image size changes aspect ratio.\")\n"
     ]
    }
   ],
   "source": [
    "datapoint = dataset[0]\n",
    "for k, v in datapoint.items():\n",
    "    print(k, v.shape)"
   ]
  },
  {
   "cell_type": "code",
   "execution_count": null,
   "id": "e161c3a7-af1b-406e-83d4-6485f602a2c9",
   "metadata": {},
   "outputs": [],
   "source": []
  },
  {
   "cell_type": "code",
   "execution_count": 7,
   "id": "97eaba48-0227-4a91-b26b-d9955ba2c61d",
   "metadata": {},
   "outputs": [
    {
     "name": "stderr",
     "output_type": "stream",
     "text": [
      "100% 92/92 [00:06<00:00, 14.32it/s]\n"
     ]
    }
   ],
   "source": [
    "# The interpolation of the data isn't terribly fast, so I'd recommend to set num workers to >= 4\n",
    "dataloader = MultiEpochsDataLoader(dataset, \n",
    "                        batch_size=8, \n",
    "                        shuffle=True, \n",
    "                        num_workers=12,\n",
    "                        prefetch_factor=1,\n",
    "                        persistent_workers=True)\n",
    "for b in tqdm(dataloader):\n",
    "    #gpu_tensor = b[\"screen\"].cuda()\n",
    "    pass"
   ]
  },
  {
   "cell_type": "code",
   "execution_count": null,
   "id": "dc771956-d9d3-4ce4-8fef-6c01192e3ad8",
   "metadata": {},
   "outputs": [],
   "source": []
  }
 ],
 "metadata": {
  "kernelspec": {
   "display_name": "Python 3 (ipykernel)",
   "language": "python",
   "name": "python3"
  },
  "language_info": {
   "codemirror_mode": {
    "name": "ipython",
    "version": 3
   },
   "file_extension": ".py",
   "mimetype": "text/x-python",
   "name": "python",
   "nbconvert_exporter": "python",
   "pygments_lexer": "ipython3",
   "version": "3.10.12"
  }
 },
 "nbformat": 4,
 "nbformat_minor": 5
}
