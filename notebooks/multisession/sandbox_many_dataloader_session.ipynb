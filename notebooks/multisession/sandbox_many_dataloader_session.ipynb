{
 "cells": [
  {
   "cell_type": "code",
   "execution_count": 2,
   "id": "b4764223-bcb7-4dae-9099-fae68c00411a",
   "metadata": {},
   "outputs": [
    {
     "name": "stdout",
     "output_type": "stream",
     "text": [
      "The autoreload extension is already loaded. To reload it, use:\n",
      "  %reload_ext autoreload\n"
     ]
    }
   ],
   "source": [
    "%matplotlib inline\n",
    "%load_ext autoreload\n",
    "%autoreload 2\n",
    "\n",
    "import os\n",
    "import numpy as np\n",
    "import matplotlib.pyplot as plt\n",
    "import torch\n",
    "from torch.utils.data import DataLoader\n",
    "from tqdm import tqdm\n",
    "\n",
    "from experanto.data import SimpleChunkedDataset, Mouse2pStaticImageDataset\n",
    "from utils import MultiEpochsDataLoader, LongCycler"
   ]
  },
  {
   "cell_type": "code",
   "execution_count": 3,
   "id": "1a8fc73e-2cf9-4d4a-bbc6-0b27a554f2f5",
   "metadata": {},
   "outputs": [],
   "source": [
    "def get_n_dataloaders(N, bs, num_workers, persistent_workers, prefetch_factor, pin_memory):\n",
    "    dataloaders = {}\n",
    "    for i in range(N):\n",
    "        if num_workers == 0:\n",
    "\n",
    "            dl = MultiEpochsDataLoader(dataset, \n",
    "                                batch_size=bs, \n",
    "                                shuffle=True, \n",
    "                                num_workers=num_workers, )\n",
    "        else:\n",
    "            dl = MultiEpochsDataLoader(dataset, \n",
    "                                batch_size=bs, \n",
    "                                shuffle=True, \n",
    "                                num_workers=num_workers, \n",
    "                                persistent_workers=persistent_workers,\n",
    "                                      prefetch_factor=prefetch_factor,\n",
    "                                      pin_memory=pin_memory,)\n",
    "        dataloaders[i]=dl\n",
    "    return dataloaders"
   ]
  },
  {
   "cell_type": "code",
   "execution_count": null,
   "id": "027d6328-d7e5-4ccb-af63-00e9d5549805",
   "metadata": {},
   "outputs": [],
   "source": []
  },
  {
   "cell_type": "code",
   "execution_count": 19,
   "id": "c17a81c3-3142-4fbb-be8a-bc8924a07898",
   "metadata": {},
   "outputs": [],
   "source": [
    "#root_folder = \"./dynamic29228-2-10-Video-sensorium23_sanitycheck_times_fixed/\"\n",
    "root_folder = \"/data/mouse_datasets/dynamic29228-2-10-Video-sensorium23_full_256_144/\"\n",
    "sampling_rate = 8  # Hz\n",
    "chunk_size = 80 # samples per block, i.e. context length in samples per neuron\n",
    "dataset = SimpleChunkedDataset(root_folder=root_folder, chunk_size=chunk_size, sampling_rate=sampling_rate)"
   ]
  },
  {
   "cell_type": "code",
   "execution_count": 20,
   "id": "1afac576-9afa-45bd-9f4d-d275378ce81f",
   "metadata": {},
   "outputs": [
    {
     "name": "stdout",
     "output_type": "stream",
     "text": [
      "responses (80, 7928)\n",
      "screen (80, 1, 144, 256)\n",
      "eye_tracker (80, 4)\n",
      "treadmill (80, 1)\n",
      "timestamps (80, 7928)\n"
     ]
    }
   ],
   "source": [
    "datapoint = dataset[0]\n",
    "for k, v in datapoint.items():\n",
    "    print(k, v.shape)"
   ]
  },
  {
   "cell_type": "code",
   "execution_count": null,
   "id": "9a54c0fa-edf5-43e9-b69e-671649977706",
   "metadata": {},
   "outputs": [],
   "source": []
  },
  {
   "cell_type": "code",
   "execution_count": null,
   "id": "54abdf2f-1e18-4c49-aba1-f89ae5f37301",
   "metadata": {},
   "outputs": [],
   "source": []
  },
  {
   "cell_type": "code",
   "execution_count": 21,
   "id": "fc219a7a-dfb8-4417-a1af-7361faa68a0d",
   "metadata": {},
   "outputs": [
    {
     "name": "stderr",
     "output_type": "stream",
     "text": [
      "100% 92/92 [00:05<00:00, 15.44it/s]\n"
     ]
    }
   ],
   "source": [
    "# The interpolation of the data isn't terribly fast, so I'd recommend to set num workers to >= 4\n",
    "dataloader = MultiEpochsDataLoader(dataset, \n",
    "                        batch_size=8,\n",
    "                        prefetch_factor=1,\n",
    "                        shuffle=True, \n",
    "                        num_workers=12, \n",
    "                        persistent_workers=True,\n",
    "                        #pin_memory=True,\n",
    ")\n",
    "for b in tqdm(dataloader):\n",
    "    #gpu_tensor = b[\"screen\"].cuda()\n",
    "    pass"
   ]
  },
  {
   "cell_type": "code",
   "execution_count": null,
   "id": "500fcb9c-c10f-4ad1-b0e3-122c2961cf5a",
   "metadata": {},
   "outputs": [],
   "source": []
  },
  {
   "cell_type": "code",
   "execution_count": 7,
   "id": "3f1e9806-dacf-4648-ae13-1f1b87dfdf3a",
   "metadata": {},
   "outputs": [
    {
     "name": "stderr",
     "output_type": "stream",
     "text": [
      "100% 228/228 [00:13<00:00, 16.85it/s]\n"
     ]
    }
   ],
   "source": [
    "for b in tqdm(dataloader):\n",
    "    gpu_tensor = b[\"screen\"].to(\"cuda\", non_blocking=True)\n",
    "    "
   ]
  },
  {
   "cell_type": "code",
   "execution_count": null,
   "id": "4ce72861-ecbb-48f4-9504-ad177abb86e0",
   "metadata": {},
   "outputs": [
    {
     "name": "stderr",
     "output_type": "stream",
     "text": [
      "Traceback (most recent call last):\n",
      "  File \"/usr/lib/python3.10/runpy.py\", line 196, in _run_module_as_main\n",
      "    return _run_code(code, main_globals, None,\n",
      "  File \"/usr/lib/python3.10/runpy.py\", line 86, in _run_code\n",
      "    exec(code, run_globals)\n",
      "  File \"/usr/local/lib/python3.10/dist-packages/ipykernel_launcher.py\", line 18, in <module>\n",
      "    app.launch_new_instance()\n",
      "  File \"/usr/local/lib/python3.10/dist-packages/traitlets/config/application.py\", line 1075, in launch_instance\n",
      "    app.start()\n",
      "  File \"/usr/local/lib/python3.10/dist-packages/ipykernel/kernelapp.py\", line 739, in start\n",
      "    self.io_loop.start()\n",
      "  File \"/usr/local/lib/python3.10/dist-packages/tornado/platform/asyncio.py\", line 205, in start\n",
      "    self.asyncio_loop.run_forever()\n",
      "  File \"/usr/lib/python3.10/asyncio/base_events.py\", line 603, in run_forever\n",
      "    self._run_once()\n",
      "  File \"/usr/lib/python3.10/asyncio/base_events.py\", line 1871, in _run_once\n",
      "    event_list = self._selector.select(timeout)\n",
      "  File \"/usr/lib/python3.10/selectors.py\", line 469, in select\n",
      "    fd_event_list = self._selector.poll(timeout, max_ev)\n",
      "  File \"/usr/local/lib/python3.10/dist-packages/torch/utils/data/_utils/signal_handling.py\", line 73, in handler\n",
      "    _error_if_any_worker_fails()\n",
      "RuntimeError: DataLoader worker (pid 236397) exited unexpectedly with exit code 1. Details are lost due to multiprocessing. Rerunning with num_workers=0 may give better error trace.\n"
     ]
    }
   ],
   "source": [
    "for b in tqdm(dataloader):\n",
    "    gpu_tensor = b[\"screen\"].to(\"cuda\", non_blocking=True)\n",
    "    "
   ]
  },
  {
   "cell_type": "code",
   "execution_count": null,
   "id": "3768911e-e18a-48e0-800b-21ab6a5c9038",
   "metadata": {},
   "outputs": [],
   "source": []
  },
  {
   "cell_type": "code",
   "execution_count": 9,
   "id": "92065aa1-bf13-4065-81c3-e1e9f425b448",
   "metadata": {},
   "outputs": [],
   "source": [
    "dls=get_n_dataloaders(100,8,1,True, 1, True)"
   ]
  },
  {
   "cell_type": "code",
   "execution_count": 10,
   "id": "19a3dac1-ad76-4f1f-9fa3-a7f3a3aeca06",
   "metadata": {
    "scrolled": true
   },
   "outputs": [
    {
     "name": "stderr",
     "output_type": "stream",
     "text": [
      "101it [00:02, 34.92it/s] \n"
     ]
    }
   ],
   "source": [
    "for i, (k, b) in tqdm(enumerate(LongCycler(dls))):\n",
    "    _ = b[\"screen\"].to(\"cuda\", torch.bfloat16, non_blocking=True)\n",
    "    _ = b[\"responses\"].to(\"cuda\", torch.bfloat16, non_blocking=True)\n",
    "    _ = b[\"eye_tracker\"].to(\"cuda\", torch.bfloat16, non_blocking=True)\n",
    "    _ = b[\"treadmill\"].to(\"cuda\", torch.bfloat16, non_blocking=True)\n",
    "    if i >100:\n",
    "        break"
   ]
  },
  {
   "cell_type": "code",
   "execution_count": null,
   "id": "1dab5247-cfc7-495c-8d03-f7e777216721",
   "metadata": {},
   "outputs": [],
   "source": []
  },
  {
   "cell_type": "code",
   "execution_count": 11,
   "id": "63e93d61-3d2a-46ff-941c-3a4eb5dc465d",
   "metadata": {},
   "outputs": [
    {
     "name": "stderr",
     "output_type": "stream",
     "text": [
      "10001it [05:46, 28.90it/s]\n"
     ]
    }
   ],
   "source": [
    "for i, (k, b) in tqdm(enumerate(LongCycler(dls))):\n",
    "    _ = b[\"screen\"].to(\"cuda\", torch.bfloat16, non_blocking=True)\n",
    "    _ = b[\"responses\"].to(\"cuda\", torch.bfloat16, non_blocking=True)\n",
    "    _ = b[\"eye_tracker\"].to(\"cuda\", torch.bfloat16, non_blocking=True)\n",
    "    _ = b[\"treadmill\"].to(\"cuda\", torch.bfloat16, non_blocking=True)\n",
    "    if i >10000:\n",
    "        break"
   ]
  },
  {
   "cell_type": "code",
   "execution_count": 1,
   "id": "de369534-b157-488a-8d32-b233cdcdaa7f",
   "metadata": {},
   "outputs": [
    {
     "data": {
      "text/plain": [
       "28.904624277456648"
      ]
     },
     "execution_count": 1,
     "metadata": {},
     "output_type": "execute_result"
    }
   ],
   "source": [
    "10001 / 346"
   ]
  },
  {
   "cell_type": "code",
   "execution_count": 12,
   "id": "e202b298-e707-40f8-b6b3-f5273b72b72c",
   "metadata": {},
   "outputs": [],
   "source": [
    "dls=get_n_dataloaders(100,8,1,True, 1, False)"
   ]
  },
  {
   "cell_type": "code",
   "execution_count": null,
   "id": "2f6fd26a-452f-4bb5-9a9b-7069ca3d4828",
   "metadata": {},
   "outputs": [
    {
     "name": "stderr",
     "output_type": "stream",
     "text": [
      "669it [00:37, 17.38it/s]"
     ]
    }
   ],
   "source": [
    "for i, (k, b) in tqdm(enumerate(LongCycler(dls))):\n",
    "    _ = b[\"screen\"].to(\"cuda\", torch.bfloat16, non_blocking=True)\n",
    "    _ = b[\"responses\"].to(\"cuda\", torch.bfloat16, non_blocking=True)\n",
    "    _ = b[\"eye_tracker\"].to(\"cuda\", torch.bfloat16, non_blocking=True)\n",
    "    _ = b[\"treadmill\"].to(\"cuda\", torch.bfloat16, non_blocking=True)\n",
    "    if i >10000:\n",
    "        break"
   ]
  }
 ],
 "metadata": {
  "kernelspec": {
   "display_name": "Python 3 (ipykernel)",
   "language": "python",
   "name": "python3"
  },
  "language_info": {
   "codemirror_mode": {
    "name": "ipython",
    "version": 3
   },
   "file_extension": ".py",
   "mimetype": "text/x-python",
   "name": "python",
   "nbconvert_exporter": "python",
   "pygments_lexer": "ipython3",
   "version": "3.10.12"
  }
 },
 "nbformat": 4,
 "nbformat_minor": 5
}
