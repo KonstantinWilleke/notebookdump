{
 "cells": [
  {
   "cell_type": "code",
   "execution_count": 1,
   "id": "9da74154-4dd0-4683-ba7b-0960586cf62e",
   "metadata": {},
   "outputs": [],
   "source": [
    "%matplotlib inline\n",
    "%load_ext autoreload\n",
    "%autoreload 2\n",
    "\n",
    "import os\n",
    "import numpy as np\n",
    "import matplotlib.pyplot as plt\n",
    "import torch\n",
    "from torch.utils.data import DataLoader\n",
    "from tqdm import tqdm\n",
    "from os import path\n",
    "from experanto.datasets import ChunkDataset, SimpleChunkedDataset\n",
    "from experanto.utils import LongCycler, MultiEpochsDataLoader"
   ]
  },
  {
   "cell_type": "code",
   "execution_count": 2,
   "id": "dc02e526-5039-4f21-bf6f-ac024595d912",
   "metadata": {},
   "outputs": [],
   "source": [
    "from experanto.configs import DEFAULT_MODALITY_CONFIG as cfg"
   ]
  },
  {
   "cell_type": "code",
   "execution_count": 3,
   "id": "976a555f-7295-44f9-b0b8-fd9508fd0db6",
   "metadata": {},
   "outputs": [
    {
     "data": {
      "text/plain": [
       "{'rescale': True, 'rescale_size': [144, 256]}"
      ]
     },
     "execution_count": 3,
     "metadata": {},
     "output_type": "execute_result"
    }
   ],
   "source": [
    "cfg.screen.interpolation"
   ]
  },
  {
   "cell_type": "code",
   "execution_count": 9,
   "id": "f57aef1f-364a-4e4d-bd24-55a3e81bb0d2",
   "metadata": {},
   "outputs": [],
   "source": []
  },
  {
   "cell_type": "code",
   "execution_count": 4,
   "id": "02dff0d1-a351-42e6-8401-27dce0ea825c",
   "metadata": {},
   "outputs": [
    {
     "data": {
      "text/plain": [
       "{'screen': {'sampling_rate': None, 'chunk_size': None, 'valid_condition': {'tier': 'train'}, 'offset': 0, 'sample_stride': 4, 'include_blanks': True, 'transforms': {'ToTensor': {'_target_': 'torchvision.transforms.ToTensor'}, 'Normalize': {'_target_': 'torchvision.transforms.Normalize', 'mean': 80.0, 'std': 60.0}, 'Resize': {'_target_': 'torchvision.transforms.Resize', 'size': [144, 256]}, 'CenterCrop': {'_target_': 'torchvision.transforms.CenterCrop', 'size': 144}}, 'interpolation': {}}, 'responses': {'sampling_rate': None, 'chunk_size': None, 'offset': 0.1, 'transforms': {'standardize': True}, 'interpolation': {'interpolation_mode': 'nearest_neighbor'}}, 'eye_tracker': {'sampling_rate': None, 'chunk_size': None, 'offset': 0, 'transforms': {'normalize': True}, 'interpolation': {'interpolation_mode': 'nearest_neighbor'}}, 'treadmill': {'sampling_rate': None, 'chunk_size': None, 'offset': 0, 'transforms': {'normalize': True}, 'interpolation': {'interpolation_mode': 'nearest_neighbor'}}}"
      ]
     },
     "execution_count": 4,
     "metadata": {},
     "output_type": "execute_result"
    }
   ],
   "source": [
    "cfg"
   ]
  },
  {
   "cell_type": "code",
   "execution_count": 7,
   "id": "d01a049a-7d6b-4b90-9a89-d238d4327656",
   "metadata": {},
   "outputs": [],
   "source": [
    "some_dict = {'transforms': {'ToTensor': {'_target_': 'torchvision.transforms.ToTensor'}, 'Normalize': {'_target_': 'torchvision.transforms.Normalize', 'mean': 80.0, 'std': 60.0}, 'Resize': {'_target_': 'torchvision.transforms.Resize', 'size': [144, 256]}, 'CenterCrop': {'_target_': 'torchvision.transforms.CenterCrop', 'size': 144}}}"
   ]
  },
  {
   "cell_type": "code",
   "execution_count": 22,
   "id": "c8d84f0b-caaf-4316-be59-5a4cdbe7f6c1",
   "metadata": {},
   "outputs": [],
   "source": [
    "cfg2 = instantiate(some_dict)"
   ]
  },
  {
   "cell_type": "code",
   "execution_count": null,
   "id": "e244b6d3-ef9f-4f26-adf2-4338d8131308",
   "metadata": {},
   "outputs": [],
   "source": [
    "cfg2=instantiate(cfg)"
   ]
  },
  {
   "cell_type": "code",
   "execution_count": 12,
   "id": "199cb9ee-b42d-49a7-829c-ba006c482220",
   "metadata": {},
   "outputs": [],
   "source": [
    "from torchvision import transforms"
   ]
  },
  {
   "cell_type": "code",
   "execution_count": null,
   "id": "093b6aba-9385-4e1f-b23c-7d14f38aa34a",
   "metadata": {},
   "outputs": [],
   "source": []
  },
  {
   "cell_type": "code",
   "execution_count": 18,
   "id": "d9ba7d77-bf76-47d4-b479-8c2232aad5ba",
   "metadata": {},
   "outputs": [
    {
     "data": {
      "text/plain": [
       "{'ToTensor': ToTensor(), 'Normalize': Normalize(mean=80.0, std=60.0), 'Resize': Resize(size=[144, 256], interpolation=bilinear, max_size=None, antialias=True), 'CenterCrop': CenterCrop(size=(144, 144))}"
      ]
     },
     "execution_count": 18,
     "metadata": {},
     "output_type": "execute_result"
    }
   ],
   "source": [
    "cfg2.transforms"
   ]
  },
  {
   "cell_type": "code",
   "execution_count": 24,
   "id": "343f4d01-739e-4fde-88f3-4692d4617eee",
   "metadata": {},
   "outputs": [],
   "source": [
    "tf = transforms.Compose([v for v in cfg2.transforms.values()])"
   ]
  },
  {
   "cell_type": "code",
   "execution_count": null,
   "id": "73e4dfda-7b90-45b7-8859-46a8f3351b7b",
   "metadata": {},
   "outputs": [],
   "source": []
  },
  {
   "cell_type": "code",
   "execution_count": null,
   "id": "ae3320dc-bdc1-46ad-a2d8-4945538b4515",
   "metadata": {},
   "outputs": [],
   "source": [
    "tf"
   ]
  },
  {
   "cell_type": "code",
   "execution_count": null,
   "id": "2ea4a171-8470-4ea3-bc11-b3bb170dbca7",
   "metadata": {},
   "outputs": [],
   "source": [
    "cfg."
   ]
  },
  {
   "cell_type": "code",
   "execution_count": 12,
   "id": "b2e8917e-a436-488c-8955-044f7a2653a5",
   "metadata": {},
   "outputs": [
    {
     "data": {
      "text/plain": [
       "(144, 256)"
      ]
     },
     "execution_count": 12,
     "metadata": {},
     "output_type": "execute_result"
    }
   ],
   "source": [
    "np.load(\"/data/mouse_polly/dynamic29514-2-9-Video-full/screen/meta/stds.npy\").shape"
   ]
  },
  {
   "cell_type": "code",
   "execution_count": 24,
   "id": "9686abe6-0b56-46e5-928f-29891481774a",
   "metadata": {},
   "outputs": [
    {
     "ename": "NameError",
     "evalue": "name 'dataset' is not defined",
     "output_type": "error",
     "traceback": [
      "\u001b[0;31m---------------------------------------------------------------------------\u001b[0m",
      "\u001b[0;31mNameError\u001b[0m                                 Traceback (most recent call last)",
      "Cell \u001b[0;32mIn[24], line 1\u001b[0m\n\u001b[0;32m----> 1\u001b[0m \u001b[43mdataset\u001b[49m\n",
      "\u001b[0;31mNameError\u001b[0m: name 'dataset' is not defined"
     ]
    }
   ],
   "source": [
    "dataset"
   ]
  },
  {
   "cell_type": "code",
   "execution_count": 18,
   "id": "919399c3-fde0-4fe9-a11a-3f9a353d373c",
   "metadata": {},
   "outputs": [
    {
     "ename": "NameError",
     "evalue": "name 'cfg' is not defined",
     "output_type": "error",
     "traceback": [
      "\u001b[0;31m---------------------------------------------------------------------------\u001b[0m",
      "\u001b[0;31mNameError\u001b[0m                                 Traceback (most recent call last)",
      "Cell \u001b[0;32mIn[18], line 1\u001b[0m\n\u001b[0;32m----> 1\u001b[0m \u001b[38;5;28mdir\u001b[39m(\u001b[43mcfg\u001b[49m)\n",
      "\u001b[0;31mNameError\u001b[0m: name 'cfg' is not defined"
     ]
    }
   ],
   "source": [
    "dir(cfg)"
   ]
  },
  {
   "cell_type": "code",
   "execution_count": 44,
   "id": "990dc34b-6bfb-4847-bc06-4739738719c2",
   "metadata": {},
   "outputs": [
    {
     "name": "stdout",
     "output_type": "stream",
     "text": [
      "screen:\n",
      "  sampling_rate: null\n",
      "  chunk_size: null\n",
      "  valid_condition:\n",
      "    tier: test\n",
      "    stim_type: stimulus.Frame\n",
      "  offset: 0\n",
      "  sample_stride: 4\n",
      "  include_blanks: false\n",
      "  transforms:\n",
      "    ToTensor:\n",
      "      _target_: torchvision.transforms.ToTensor\n",
      "    Normalize:\n",
      "      _target_: torchvision.transforms.Normalize\n",
      "      mean: 80.0\n",
      "      std: 60.0\n",
      "    Resize:\n",
      "      _target_: torchvision.transforms.Resize\n",
      "      size:\n",
      "      - 144\n",
      "      - 256\n",
      "    CenterCrop:\n",
      "      _target_: torchvision.transforms.CenterCrop\n",
      "      size: 144\n",
      "  interpolation: {}\n",
      "responses:\n",
      "  sampling_rate: null\n",
      "  chunk_size: null\n",
      "  offset: 0.1\n",
      "  transforms:\n",
      "    standardize: true\n",
      "  interpolation:\n",
      "    interpolation_mode: nearest_neighbor\n",
      "eye_tracker:\n",
      "  sampling_rate: null\n",
      "  chunk_size: null\n",
      "  offset: 0\n",
      "  transforms:\n",
      "    normalize: true\n",
      "  interpolation:\n",
      "    interpolation_mode: nearest_neighbor\n",
      "treadmill:\n",
      "  sampling_rate: null\n",
      "  chunk_size: null\n",
      "  offset: 0\n",
      "  transforms:\n",
      "    normalize: true\n",
      "  interpolation:\n",
      "    interpolation_mode: nearest_neighbor\n",
      "\n"
     ]
    }
   ],
   "source": [
    "print(OmegaConf.to_yaml(cfg))"
   ]
  },
  {
   "cell_type": "code",
   "execution_count": 6,
   "id": "678939e2-11fe-4187-a5fa-e41b1fc2d5e0",
   "metadata": {},
   "outputs": [],
   "source": [
    "def lets_see(**kwargs):\n",
    "    return kwargs"
   ]
  },
  {
   "cell_type": "code",
   "execution_count": 9,
   "id": "34a9cf75-01b3-480e-9302-28d41f430b7a",
   "metadata": {},
   "outputs": [
    {
     "data": {
      "text/plain": [
       "{'modality_config': {'responses': {'sampling_rate': 8, 'chunk_size': 16, 'offset': 0, 'sample_stride': 4, 'transforms': [{'name': 'ToTensor'}, {'name': 'Normalize', 'mean': [0.5], 'std': [0.5]}]}}}"
      ]
     },
     "execution_count": 9,
     "metadata": {},
     "output_type": "execute_result"
    }
   ],
   "source": [
    "lets_see(**cfg.dataset)"
   ]
  },
  {
   "cell_type": "code",
   "execution_count": 10,
   "id": "9fbdc440-41e9-41bd-b327-0e48658bc637",
   "metadata": {},
   "outputs": [
    {
     "data": {
      "text/plain": [
       "''"
      ]
     },
     "execution_count": 10,
     "metadata": {},
     "output_type": "execute_result"
    }
   ],
   "source": [
    "cfg.paths"
   ]
  },
  {
   "cell_type": "code",
   "execution_count": 13,
   "id": "ef02ccd0-0a24-4095-b4b8-c32adce4694f",
   "metadata": {},
   "outputs": [],
   "source": [
    "from torchvision import transforms"
   ]
  },
  {
   "cell_type": "code",
   "execution_count": 14,
   "id": "2bc141ab-9cbf-4e1a-bfe6-bdcc5b853106",
   "metadata": {},
   "outputs": [
    {
     "data": {
      "text/plain": [
       "ToTensor()"
      ]
     },
     "execution_count": 14,
     "metadata": {},
     "output_type": "execute_result"
    }
   ],
   "source": [
    "transforms.ToTensor()\n"
   ]
  },
  {
   "cell_type": "code",
   "execution_count": 50,
   "id": "4c43078c-dc82-41c5-bd66-c4ef3b5cdff9",
   "metadata": {},
   "outputs": [],
   "source": [
    "tf = transforms.Normalize(125, std=66)"
   ]
  },
  {
   "cell_type": "code",
   "execution_count": 51,
   "id": "fb8137c8-a11c-4009-8243-0cd5641729c8",
   "metadata": {},
   "outputs": [
    {
     "data": {
      "text/plain": [
       "tensor([[[-1.8939, -1.8939, -1.8939,  ..., -1.8939, -1.8939, -1.8939],\n",
       "         [-1.8939, -1.8939, -1.8939,  ..., -1.8939, -1.8939, -1.8939],\n",
       "         [-1.8939, -1.8939, -1.8939,  ..., -1.8939, -1.8939, -1.8939],\n",
       "         ...,\n",
       "         [-1.8939, -1.8939, -1.8939,  ..., -1.8939, -1.8939, -1.8939],\n",
       "         [-1.8939, -1.8939, -1.8939,  ..., -1.8939, -1.8939, -1.8939],\n",
       "         [-1.8939, -1.8939, -1.8939,  ..., -1.8939, -1.8939, -1.8939]]])"
      ]
     },
     "execution_count": 51,
     "metadata": {},
     "output_type": "execute_result"
    }
   ],
   "source": [
    "tf(torch.ones(1,100,100)*0)"
   ]
  },
  {
   "cell_type": "code",
   "execution_count": 35,
   "id": "b65d2ac0-b546-44e0-87e4-580884a6e152",
   "metadata": {},
   "outputs": [
    {
     "data": {
      "text/plain": [
       "127.5"
      ]
     },
     "execution_count": 35,
     "metadata": {},
     "output_type": "execute_result"
    }
   ],
   "source": [
    "255/2"
   ]
  },
  {
   "cell_type": "code",
   "execution_count": null,
   "id": "f11f1291-3603-412c-98c6-734d7fe76c25",
   "metadata": {},
   "outputs": [],
   "source": []
  },
  {
   "cell_type": "code",
   "execution_count": null,
   "id": "e5dc71ef-cc9d-41ca-ab73-b38b485baec2",
   "metadata": {},
   "outputs": [],
   "source": []
  },
  {
   "cell_type": "code",
   "execution_count": 3,
   "id": "792a038f-e365-407a-90c1-2480d29121d4",
   "metadata": {},
   "outputs": [
    {
     "data": {
      "text/plain": [
       "PosixPath('/data/experanto')"
      ]
     },
     "execution_count": 3,
     "metadata": {},
     "output_type": "execute_result"
    }
   ],
   "source": [
    "root"
   ]
  },
  {
   "cell_type": "code",
   "execution_count": null,
   "id": "5403fb35-af89-4d30-83fb-1b69d92fbe8c",
   "metadata": {},
   "outputs": [],
   "source": []
  },
  {
   "cell_type": "code",
   "execution_count": 5,
   "id": "46ea3d39-d533-4f0e-95f4-44debcfa3fd4",
   "metadata": {},
   "outputs": [
    {
     "data": {
      "text/plain": [
       "'/data/experanto/configs/config.yaml'"
      ]
     },
     "execution_count": 5,
     "metadata": {},
     "output_type": "execute_result"
    }
   ],
   "source": [
    "config_name=\"config.yaml\"\n",
    "path.join(root, \"configs\", config_name)"
   ]
  },
  {
   "cell_type": "code",
   "execution_count": null,
   "id": "8b19083d-ffe1-4214-a6f9-af2b4614e767",
   "metadata": {},
   "outputs": [],
   "source": []
  },
  {
   "cell_type": "code",
   "execution_count": 19,
   "id": "4991d27a-f925-4d4c-9b38-ad867b726332",
   "metadata": {},
   "outputs": [],
   "source": [
    "\n",
    "config_path=str(root / \"configs\") + \"/\" + config_name"
   ]
  },
  {
   "cell_type": "code",
   "execution_count": 20,
   "id": "7b453069-212f-42ea-91b5-96593e61f612",
   "metadata": {},
   "outputs": [
    {
     "data": {
      "text/plain": [
       "'/data/experanto/configs/config.yaml'"
      ]
     },
     "execution_count": 20,
     "metadata": {},
     "output_type": "execute_result"
    }
   ],
   "source": [
    "config_path"
   ]
  },
  {
   "cell_type": "code",
   "execution_count": 13,
   "id": "13f251f4-e8a5-42d5-b2f5-1c156370394e",
   "metadata": {},
   "outputs": [
    {
     "data": {
      "text/plain": [
       "'/data/experanto/configsconfig.yaml'"
      ]
     },
     "execution_count": 13,
     "metadata": {},
     "output_type": "execute_result"
    }
   ],
   "source": [
    "config_path"
   ]
  },
  {
   "cell_type": "code",
   "execution_count": 21,
   "id": "bf59e4b9-0ce4-45f6-ad05-1304c6cb1d99",
   "metadata": {},
   "outputs": [],
   "source": [
    "import omegaconf\n",
    "cfg = omegaconf.OmegaConf.load(config_path)"
   ]
  },
  {
   "cell_type": "code",
   "execution_count": 4,
   "id": "7810df33-eb9a-4498-846d-a37cf064f7b9",
   "metadata": {},
   "outputs": [
    {
     "data": {
      "text/plain": [
       "{'dataset': {'modality_config': {'responses': {'sampling_rate': 8, 'chunk_size': 16, 'offset': 0, 'sample_stride': 4, 'transforms': [{'name': 'ToTensor'}, {'name': 'Normalize', 'mean': [0.5], 'std': [0.5]}]}}}, 'dataloaders': {'batch_size': 32, 'shuffle': True, 'num_workers': 4, 'pin_memory': True, 'drop_last': True, 'prefetch_factor': 1}, 'paths': '', 'interp_config': {}, 'chunk_size': 16, 'sampling_rate': 8, 'tier': 'train', 'sample_stride': 4, 'include_blanks': True}"
      ]
     },
     "execution_count": 4,
     "metadata": {},
     "output_type": "execute_result"
    }
   ],
   "source": [
    "cfg"
   ]
  },
  {
   "cell_type": "code",
   "execution_count": null,
   "id": "b1a4dfd5-7543-49d3-bc96-31898d9bdf77",
   "metadata": {},
   "outputs": [],
   "source": []
  },
  {
   "cell_type": "code",
   "execution_count": null,
   "id": "99f3e177-52fd-4895-95e2-a28bb59455d5",
   "metadata": {},
   "outputs": [],
   "source": [
    "\"version_base\": \"1.3\","
   ]
  },
  {
   "cell_type": "code",
   "execution_count": 15,
   "id": "93d71a54-a5fb-4450-9a51-b64c8a6af964",
   "metadata": {},
   "outputs": [
    {
     "ename": "NameError",
     "evalue": "name 'root' is not defined",
     "output_type": "error",
     "traceback": [
      "\u001b[0;31m---------------------------------------------------------------------------\u001b[0m",
      "\u001b[0;31mNameError\u001b[0m                                 Traceback (most recent call last)",
      "Cell \u001b[0;32mIn[15], line 8\u001b[0m\n\u001b[1;32m      5\u001b[0m \u001b[38;5;28;01mfrom\u001b[39;00m \u001b[38;5;21;01mhydra\u001b[39;00m \u001b[38;5;28;01mimport\u001b[39;00m initialize, compose, initialize_config_dir\n\u001b[1;32m      6\u001b[0m \u001b[38;5;28;01mfrom\u001b[39;00m \u001b[38;5;21;01momegaconf\u001b[39;00m \u001b[38;5;28;01mimport\u001b[39;00m OmegaConf\n\u001b[0;32m----> 8\u001b[0m \u001b[38;5;28;01mwith\u001b[39;00m initialize_config_dir(version_base\u001b[38;5;241m=\u001b[39m\u001b[38;5;124m\"\u001b[39m\u001b[38;5;124m1.3\u001b[39m\u001b[38;5;124m\"\u001b[39m, config_dir\u001b[38;5;241m=\u001b[39m\u001b[38;5;28mstr\u001b[39m(\u001b[43mroot\u001b[49m \u001b[38;5;241m/\u001b[39m \u001b[38;5;124m\"\u001b[39m\u001b[38;5;124mconfigs\u001b[39m\u001b[38;5;124m\"\u001b[39m), ):\n\u001b[1;32m      9\u001b[0m     cfg \u001b[38;5;241m=\u001b[39m compose(config_name\u001b[38;5;241m=\u001b[39m\u001b[38;5;124m'\u001b[39m\u001b[38;5;124mconfig.yaml\u001b[39m\u001b[38;5;124m'\u001b[39m)\n\u001b[1;32m     10\u001b[0m     \u001b[38;5;28mprint\u001b[39m(OmegaConf\u001b[38;5;241m.\u001b[39mto_yaml(cfg))\n",
      "\u001b[0;31mNameError\u001b[0m: name 'root' is not defined"
     ]
    }
   ],
   "source": [
    "import hydra\n",
    "from omegaconf import DictConfig\n",
    "import os\n",
    "\n",
    "from hydra import initialize, compose, initialize_config_dir\n",
    "from omegaconf import OmegaConf\n",
    "\n",
    "with initialize_config_dir(version_base=\"1.3\", config_dir=str(root / \"configs\"), ):\n",
    "    cfg = compose(config_name='config.yaml')\n",
    "    print(OmegaConf.to_yaml(cfg))"
   ]
  },
  {
   "cell_type": "code",
   "execution_count": null,
   "id": "81f7ce90-12db-48aa-bf04-b00478e33867",
   "metadata": {},
   "outputs": [],
   "source": []
  },
  {
   "cell_type": "markdown",
   "id": "b1c5e9a0-5cdd-46c2-b75b-f11867df2f2f",
   "metadata": {},
   "source": [
    "# Simple Dataset"
   ]
  },
  {
   "cell_type": "code",
   "execution_count": 13,
   "id": "1c822371-0322-4957-96dd-44fb820fa3c8",
   "metadata": {
    "editable": true,
    "slideshow": {
     "slide_type": ""
    },
    "tags": []
   },
   "outputs": [],
   "source": [
    "root_folder = \"/data/mouse_datasets/dynamic29228-2-10-Video-sensorium23_full_256_144/\"\n",
    "#root_folder=\"./dynamic29228-2-10-Video-sensorium23_sanitycheck_times_fixed/\"\n",
    "chunk_size = 80 \n",
    "sample_stride=40\n",
    "dataset = SimpleChunkedDataset(root_folder=root_folder, \n",
    "                       chunk_size=chunk_size, \n",
    "                       sampling_rate=8,\n",
    "                      )"
   ]
  },
  {
   "cell_type": "code",
   "execution_count": 14,
   "id": "32fb3d9d-df55-4c27-878e-f241105ebf3f",
   "metadata": {
    "scrolled": true
   },
   "outputs": [
    {
     "name": "stdout",
     "output_type": "stream",
     "text": [
      "responses (80, 7928)\n",
      "screen (80, 1, 144, 256)\n",
      "eye_tracker (80, 4)\n",
      "treadmill (80, 1)\n",
      "timestamps (80, 7928)\n"
     ]
    }
   ],
   "source": [
    "datapoint = dataset[0]\n",
    "for k, v in datapoint.items():\n",
    "    print(k, v.shape)"
   ]
  },
  {
   "cell_type": "code",
   "execution_count": 4,
   "id": "7a699249-4fc9-451d-9c8b-03945b919f0e",
   "metadata": {},
   "outputs": [
    {
     "name": "stderr",
     "output_type": "stream",
     "text": [
      "100% 92/92 [00:05<00:00, 16.06it/s]\n"
     ]
    }
   ],
   "source": [
    "# The interpolation of the data isn't terribly fast, so I'd recommend to set num workers to >= 4\n",
    "dataloader = MultiEpochsDataLoader(dataset, \n",
    "                        batch_size=8, \n",
    "                        shuffle=True, \n",
    "                        num_workers=12,\n",
    "                        prefetch_factor=1,\n",
    "                        persistent_workers=True)\n",
    "for b in tqdm(dataloader):\n",
    "    #gpu_tensor = b[\"screen\"].cuda()\n",
    "    pass"
   ]
  },
  {
   "cell_type": "markdown",
   "id": "e9af6607-0db8-4b1b-8cd4-e7a7d196681a",
   "metadata": {},
   "source": [
    "# New Chunkset"
   ]
  },
  {
   "cell_type": "code",
   "execution_count": 4,
   "id": "f26e60d7-7b07-4049-9c7c-d83634232fd1",
   "metadata": {},
   "outputs": [],
   "source": [
    "from experanto.datasets import DEFAULT_MODALITY_CONFIG as modality_config"
   ]
  },
  {
   "cell_type": "code",
   "execution_count": 13,
   "id": "1c3cf06f-5370-4f04-bc34-b2e0f15b6eeb",
   "metadata": {},
   "outputs": [],
   "source": [
    "modality_config.screen.valid_condition = {'tier': 'train'}\n",
    "modality_config.screen.include_blanks = False\n",
    "modality_config.screen.sample_stride = 4"
   ]
  },
  {
   "cell_type": "code",
   "execution_count": 14,
   "id": "5b33013f-c71b-4802-8874-4f844223b190",
   "metadata": {
    "scrolled": true
   },
   "outputs": [],
   "source": [
    "root_folder = \"/data/mouse_polly/dynamic29623-4-9-Video-full/\"\n",
    "dataset = ChunkDataset(root_folder=root_folder, \n",
    "                       modality_config=modality_config,\n",
    "                       global_chunk_size=16,\n",
    "                       global_sampling_rate=8)"
   ]
  },
  {
   "cell_type": "code",
   "execution_count": 15,
   "id": "c3bdf2cf-ef21-4e47-8709-defce47254d4",
   "metadata": {},
   "outputs": [
    {
     "name": "stdout",
     "output_type": "stream",
     "text": [
      "responses torch.Size([1, 16, 7908])\n",
      "screen torch.Size([16, 1, 144, 144])\n",
      "eye_tracker torch.Size([1, 16, 4])\n",
      "treadmill torch.Size([1, 16, 1])\n",
      "timestamps (16, 7908)\n"
     ]
    },
    {
     "data": {
      "image/png": "[encoded data removed]",
      "text/plain": [
       "<Figure size 640x480 with 1 Axes>"
      ]
     },
     "metadata": {},
     "output_type": "display_data"
    }
   ],
   "source": [
    "datapoint = dataset[377]\n",
    "for k, v in datapoint.items():\n",
    "    print(k, v.shape)\n",
    "plt.imshow(datapoint[\"screen\"][1,0])\n",
    "dataset.shuffle_valid_screen_times()"
   ]
  },
  {
   "cell_type": "code",
   "execution_count": 16,
   "id": "820091ce-6e01-4fd5-8f37-a6efa3fe423d",
   "metadata": {},
   "outputs": [
    {
     "name": "stderr",
     "output_type": "stream",
     "text": [
      "100% 740/740 [00:08<00:00, 84.70it/s]\n"
     ]
    }
   ],
   "source": [
    "# The interpolation of the data isn't terribly fast, so I'd recommend to set num workers to >= 4\n",
    "imgs = []\n",
    "dataloader = MultiEpochsDataLoader(dataset, \n",
    "                        batch_size=8, \n",
    "                        shuffle=True, \n",
    "                        num_workers=12, \n",
    "                        persistent_workers=True, )\n",
    "for b in tqdm(dataloader):\n",
    "    pass"
   ]
  },
  {
   "cell_type": "code",
   "execution_count": null,
   "id": "3ad5ba4e-8c0c-4ba4-bf84-9afd4567c5f5",
   "metadata": {
    "editable": true,
    "slideshow": {
     "slide_type": ""
    },
    "tags": []
   },
   "outputs": [],
   "source": []
  },
  {
   "cell_type": "code",
   "execution_count": 9,
   "id": "99896781-584b-489c-a505-94f1d7daced6",
   "metadata": {},
   "outputs": [
    {
     "data": {
      "text/plain": [
       "12800"
      ]
     },
     "execution_count": 9,
     "metadata": {},
     "output_type": "execute_result"
    }
   ],
   "source": [
    "100*16*8"
   ]
  },
  {
   "cell_type": "code",
   "execution_count": null,
   "id": "8fc9c22f-5ed7-45b2-8b41-479534ce9db7",
   "metadata": {},
   "outputs": [],
   "source": []
  },
  {
   "cell_type": "code",
   "execution_count": null,
   "id": "20d71b55-1eec-4e17-87af-6c7e05940516",
   "metadata": {},
   "outputs": [],
   "source": []
  },
  {
   "cell_type": "code",
   "execution_count": null,
   "id": "3ad1b01f-f16f-48c8-8b81-206ea8fc6dd7",
   "metadata": {},
   "outputs": [],
   "source": []
  },
  {
   "cell_type": "code",
   "execution_count": null,
   "id": "9948c460-3988-4e0b-ad73-2053d5a38ea3",
   "metadata": {},
   "outputs": [],
   "source": []
  },
  {
   "cell_type": "code",
   "execution_count": 111,
   "id": "79508b66-6411-45c9-ac50-c589586a6826",
   "metadata": {},
   "outputs": [],
   "source": [
    "all_means = all_imgs.mean((1,2,3,4)).numpy()"
   ]
  },
  {
   "cell_type": "code",
   "execution_count": 112,
   "id": "15948090-1965-49bb-82db-3d6c113e3c94",
   "metadata": {},
   "outputs": [],
   "source": [
    "darkest_imgs = np.argsort(all_means)"
   ]
  },
  {
   "cell_type": "code",
   "execution_count": 113,
   "id": "8e4cb98a-f8d4-4167-8252-c29b83961ffa",
   "metadata": {},
   "outputs": [
    {
     "data": {
      "text/plain": [
       "tensor(3., dtype=torch.float64)"
      ]
     },
     "execution_count": 113,
     "metadata": {},
     "output_type": "execute_result"
    }
   ],
   "source": [
    "all_imgs[darkest_imgs[2]].max()"
   ]
  },
  {
   "cell_type": "code",
   "execution_count": 114,
   "id": "629cdfe2-b808-459b-b0a7-6b1cb470f2da",
   "metadata": {},
   "outputs": [
    {
     "data": {
      "text/plain": [
       "<matplotlib.image.AxesImage at 0x7ff274198a90>"
      ]
     },
     "execution_count": 114,
     "metadata": {},
     "output_type": "execute_result"
    },
    {
     "data": {
      "image/png": "[encoded data removed]",
      "text/plain": [
       "<Figure size 640x480 with 1 Axes>"
      ]
     },
     "metadata": {},
     "output_type": "display_data"
    }
   ],
   "source": [
    "plt.imshow(all_imgs[darkest_imgs[2]].numpy()[8,0])"
   ]
  },
  {
   "cell_type": "code",
   "execution_count": 145,
   "id": "6ac06aaf-6fc7-4ec1-9354-2b437352a4df",
   "metadata": {},
   "outputs": [],
   "source": [
    "stim_types = np.array([i._meta_data.get(\"stim_type\",0) for i in dataset._trials  ])"
   ]
  },
  {
   "cell_type": "code",
   "execution_count": 159,
   "id": "567711ea-5fa4-4747-a0c6-d08101d1ef29",
   "metadata": {},
   "outputs": [
    {
     "data": {
      "text/plain": [
       "array(['0', 'stimulus.Clip', 'stimulus.Frame',\n",
       "       'stimulus.GaborGridSequence', 'stimulus.Monet2'], dtype='<U26')"
      ]
     },
     "execution_count": 159,
     "metadata": {},
     "output_type": "execute_result"
    }
   ],
   "source": [
    "np.unique(stim_types)"
   ]
  },
  {
   "cell_type": "code",
   "execution_count": 170,
   "id": "267a3a93-db8d-4a00-9820-a1146cd1264f",
   "metadata": {},
   "outputs": [
    {
     "data": {
      "text/plain": [
       "{'condition_hash': 'QizYPq1QBeNhsZDVW7Pt',\n",
       " 'first_frame_idx': 300,\n",
       " 'image_size': [144, 256],\n",
       " 'modality': 'video',\n",
       " 'num_frames': 300,\n",
       " 'stim_type': 'stimulus.Clip',\n",
       " 'tier': 'train',\n",
       " 'trial_idx': 1}"
      ]
     },
     "execution_count": 170,
     "metadata": {},
     "output_type": "execute_result"
    }
   ],
   "source": [
    " dataset._trials[1]._meta_data"
   ]
  },
  {
   "cell_type": "code",
   "execution_count": 195,
   "id": "9ee0d4eb-9319-4d84-b392-d1d228e49f24",
   "metadata": {},
   "outputs": [],
   "source": [
    "data_files = [i.data_file_name for i in dataset._trials]\n",
    "meta_files = [i.file_name for i in dataset._trials]"
   ]
  },
  {
   "cell_type": "code",
   "execution_count": 196,
   "id": "af82124d-5657-46ab-b17e-08e5573360e8",
   "metadata": {},
   "outputs": [
    {
     "data": {
      "text/plain": [
       "PosixPath('/data/mouse_datasets/dynamic29228-2-10-Video-sensorium23_full_256_144/screen/meta/00000.yml')"
      ]
     },
     "execution_count": 196,
     "metadata": {},
     "output_type": "execute_result"
    }
   ],
   "source": [
    "meta_files[0]"
   ]
  },
  {
   "cell_type": "code",
   "execution_count": 201,
   "id": "128d598a-3364-4651-9e04-66b6a37b2dc3",
   "metadata": {},
   "outputs": [
    {
     "data": {
      "text/plain": [
       "['stimulus.Clip']"
      ]
     },
     "execution_count": 201,
     "metadata": {},
     "output_type": "execute_result"
    }
   ],
   "source": [
    "conds"
   ]
  },
  {
   "cell_type": "code",
   "execution_count": 324,
   "id": "584ee15e-a182-4952-b67e-b9e757b49046",
   "metadata": {},
   "outputs": [],
   "source": [
    "tiers, imgs, conds, img_means, metas = [], [], [], [], []\n",
    "\n",
    "for t in dataset._trials:\n",
    "    cond = t._meta_data.get(\"stim_type\",0)\n",
    "    if cond:\n",
    "        conds.append(cond)\n",
    "        img = np.load(t.data_file_name)\n",
    "        imgs.append(img)\n",
    "        img_means.append(img.mean())\n",
    "        tiers.append(t._meta_data.get(\"tier\",0))\n",
    "        metas.append(t._meta_data)"
   ]
  },
  {
   "cell_type": "code",
   "execution_count": null,
   "id": "986958bf-5d88-4de8-8181-623c5eedb6f4",
   "metadata": {},
   "outputs": [],
   "source": []
  },
  {
   "cell_type": "code",
   "execution_count": 253,
   "id": "a3e770f7-b126-4a0b-ba1b-acb414298d4e",
   "metadata": {},
   "outputs": [
    {
     "data": {
      "text/plain": [
       "(300, 144, 256)"
      ]
     },
     "execution_count": 253,
     "metadata": {},
     "output_type": "execute_result"
    }
   ],
   "source": [
    "imgs[0].shape"
   ]
  },
  {
   "cell_type": "code",
   "execution_count": 319,
   "id": "23b347bb-8ca6-4eec-be4c-b28dea75a513",
   "metadata": {},
   "outputs": [
    {
     "data": {
      "text/plain": [
       "array([ 903,  390,  159,  196,  707,  500,  359,  357,  323,   26,  245,\n",
       "        576,  830,  161,  418,  132,   54, 1003,  383, 1137,  266,  327,\n",
       "        665,  606,  702,  852,  918,  387,  701,  544, 1254,  722, 1107,\n",
       "        974,  808,  270, 1136,  215,  598,  711,  157,  716,  718,  242,\n",
       "        900,  931,  815,  439,  198,   91])"
      ]
     },
     "execution_count": 319,
     "metadata": {},
     "output_type": "execute_result"
    }
   ],
   "source": [
    "np.argsort(img_means)[:50]"
   ]
  },
  {
   "cell_type": "code",
   "execution_count": 328,
   "id": "88f3b5df-ed57-4d87-8562-0c6300eb4648",
   "metadata": {},
   "outputs": [
    {
     "data": {
      "text/plain": [
       "{'condition_hash': 'v53/fS8Fa8K7xvui78RZ',\n",
       " 'first_frame_idx': 44856,\n",
       " 'image_size': [144, 256],\n",
       " 'modality': 'video',\n",
       " 'num_frames': 300,\n",
       " 'stim_type': 'stimulus.Clip',\n",
       " 'tier': 'train',\n",
       " 'trial_idx': 327}"
      ]
     },
     "execution_count": 328,
     "metadata": {},
     "output_type": "execute_result"
    }
   ],
   "source": [
    "metas[327]"
   ]
  },
  {
   "cell_type": "code",
   "execution_count": 326,
   "id": "66e9a70f-d518-4260-8a1d-8e4e6baa6293",
   "metadata": {},
   "outputs": [
    {
     "data": {
      "text/plain": [
       "{'condition_hash': 'RpASnZGZ/wXhslU/OxGr',\n",
       " 'first_frame_idx': 51996,\n",
       " 'image_size': [144, 256],\n",
       " 'modality': 'video',\n",
       " 'num_frames': 300,\n",
       " 'stim_type': 'stimulus.Clip',\n",
       " 'tier': 'test',\n",
       " 'trial_idx': 390}"
      ]
     },
     "execution_count": 326,
     "metadata": {},
     "output_type": "execute_result"
    }
   ],
   "source": [
    "metas[390]"
   ]
  },
  {
   "cell_type": "code",
   "execution_count": 325,
   "id": "e54e9b2d-3b23-43a0-bb1d-cc0d3f07c3de",
   "metadata": {},
   "outputs": [
    {
     "data": {
      "text/plain": [
       "{'condition_hash': 'RpASnZGZ/wXhslU/OxGr',\n",
       " 'first_frame_idx': 147144,\n",
       " 'image_size': [144, 256],\n",
       " 'modality': 'video',\n",
       " 'num_frames': 300,\n",
       " 'stim_type': 'stimulus.Clip',\n",
       " 'tier': 'test',\n",
       " 'trial_idx': 903}"
      ]
     },
     "execution_count": 325,
     "metadata": {},
     "output_type": "execute_result"
    }
   ],
   "source": [
    "metas[903]"
   ]
  },
  {
   "cell_type": "code",
   "execution_count": 321,
   "id": "98a3ed1b-1477-4f6c-85e6-afaac8422faf",
   "metadata": {},
   "outputs": [
    {
     "data": {
      "text/plain": [
       "np.float32(2.398329)"
      ]
     },
     "execution_count": 321,
     "metadata": {},
     "output_type": "execute_result"
    }
   ],
   "source": [
    "imgs[159][203].mean()"
   ]
  },
  {
   "cell_type": "code",
   "execution_count": 323,
   "id": "2d2eed33-db8d-4946-a162-fd03fc73c3a4",
   "metadata": {},
   "outputs": [
    {
     "data": {
      "text/plain": [
       "'test'"
      ]
     },
     "execution_count": 323,
     "metadata": {},
     "output_type": "execute_result"
    }
   ],
   "source": [
    "tiers[159]"
   ]
  },
  {
   "cell_type": "code",
   "execution_count": 337,
   "id": "0150771f-77d1-41ae-bc0e-b0def49044ef",
   "metadata": {},
   "outputs": [
    {
     "data": {
      "text/plain": [
       "np.float32(31.645578)"
      ]
     },
     "execution_count": 337,
     "metadata": {},
     "output_type": "execute_result"
    }
   ],
   "source": [
    "imgs[91].mean()"
   ]
  },
  {
   "cell_type": "code",
   "execution_count": 336,
   "id": "346afea7-9361-47c6-aa3c-0289d4d06c9f",
   "metadata": {},
   "outputs": [
    {
     "data": {
      "text/plain": [
       "(np.float64(-0.5), np.float64(255.5), np.float64(143.5), np.float64(-0.5))"
      ]
     },
     "execution_count": 336,
     "metadata": {},
     "output_type": "execute_result"
    },
    {
     "data": {
      "image/png": "[encoded data removed]",
      "text/plain": [
       "<Figure size 640x480 with 1 Axes>"
      ]
     },
     "metadata": {},
     "output_type": "display_data"
    }
   ],
   "source": [
    "plt.imshow(imgs[91][200], cmap=\"gray\")\n",
    "plt.axis(\"off\")"
   ]
  },
  {
   "cell_type": "code",
   "execution_count": 309,
   "id": "7d7edea7-4643-49d9-a028-813e0facb251",
   "metadata": {},
   "outputs": [
    {
     "data": {
      "text/plain": [
       "<matplotlib.image.AxesImage at 0x7ff285a160e0>"
      ]
     },
     "execution_count": 309,
     "metadata": {},
     "output_type": "execute_result"
    },
    {
     "data": {
      "image/png": "[encoded data removed]",
      "text/plain": [
       "<Figure size 640x480 with 1 Axes>"
      ]
     },
     "metadata": {},
     "output_type": "display_data"
    }
   ],
   "source": [
    "plt.imshow(imgs[903][215])"
   ]
  },
  {
   "cell_type": "code",
   "execution_count": null,
   "id": "4df05d63-512a-43d8-802d-8e843e587fdc",
   "metadata": {},
   "outputs": [],
   "source": []
  },
  {
   "cell_type": "code",
   "execution_count": null,
   "id": "2c88d2ad-ac22-4e07-8882-b47d5e89da8c",
   "metadata": {},
   "outputs": [],
   "source": []
  },
  {
   "cell_type": "code",
   "execution_count": null,
   "id": "c73c6081-e83c-487b-9cd2-74a735c36638",
   "metadata": {},
   "outputs": [],
   "source": []
  },
  {
   "cell_type": "code",
   "execution_count": null,
   "id": "a05c0506-6cb9-468a-be6e-bc544a7038d0",
   "metadata": {},
   "outputs": [],
   "source": []
  },
  {
   "cell_type": "code",
   "execution_count": 202,
   "id": "698ec38e-7f20-468b-9195-264a7079256a",
   "metadata": {},
   "outputs": [
    {
     "data": {
      "text/plain": [
       "PosixPath('/data/mouse_datasets/dynamic29228-2-10-Video-sensorium23_full_256_144/screen/data/00000.npy')"
      ]
     },
     "execution_count": 202,
     "metadata": {},
     "output_type": "execute_result"
    }
   ],
   "source": [
    "t.data_file_name"
   ]
  },
  {
   "cell_type": "code",
   "execution_count": 188,
   "id": "86cef26e-2000-48f5-8c9c-132e859c3648",
   "metadata": {},
   "outputs": [],
   "source": [
    "p = data_files[0]"
   ]
  },
  {
   "cell_type": "code",
   "execution_count": 192,
   "id": "aa14583c-c629-4e38-a5f5-06d1263badef",
   "metadata": {},
   "outputs": [
    {
     "data": {
      "text/plain": [
       "PosixPath('/data/mouse_datasets/dynamic29228-2-10-Video-sensorium23_full_256_144/screen/data/00000.yml')"
      ]
     },
     "execution_count": 192,
     "metadata": {},
     "output_type": "execute_result"
    }
   ],
   "source": [
    "p.with_suffix('.yml')"
   ]
  },
  {
   "cell_type": "code",
   "execution_count": null,
   "id": "2de2cab7-ddcd-4fcb-81f2-bcbdc5a43f7d",
   "metadata": {},
   "outputs": [],
   "source": []
  },
  {
   "cell_type": "code",
   "execution_count": null,
   "id": "0afe6b02-d134-4814-a6eb-ad290bb8d73a",
   "metadata": {},
   "outputs": [],
   "source": []
  },
  {
   "cell_type": "code",
   "execution_count": 161,
   "id": "273447b7-ab6f-4c3e-aab2-f801fe92bc18",
   "metadata": {},
   "outputs": [],
   "source": [
    "f = \"/data/mouse_datasets/dynamic29228-2-10-Video-sensorium23_full_256_144/screen/data/00147.npy\""
   ]
  },
  {
   "cell_type": "code",
   "execution_count": null,
   "id": "c8d1f8e8-1d3a-4b2a-98be-92aa00bd70ae",
   "metadata": {},
   "outputs": [],
   "source": [
    "5\n"
   ]
  },
  {
   "cell_type": "code",
   "execution_count": null,
   "id": "e4d1f438-94cc-42b3-909b-0c9f4d4f93bb",
   "metadata": {},
   "outputs": [],
   "source": []
  },
  {
   "cell_type": "code",
   "execution_count": null,
   "id": "8387bda5-e755-4cf7-9b9f-1efcca7af949",
   "metadata": {},
   "outputs": [],
   "source": []
  },
  {
   "cell_type": "code",
   "execution_count": null,
   "id": "535c0b06-ad58-47d8-8eb8-75d07e940016",
   "metadata": {},
   "outputs": [],
   "source": [
    "00000.npy"
   ]
  },
  {
   "cell_type": "code",
   "execution_count": 147,
   "id": "923fa524-fa36-4901-85aa-5f99b47b04e5",
   "metadata": {},
   "outputs": [
    {
     "data": {
      "text/plain": [
       "array(['0', 'stimulus.Clip', 'stimulus.Frame',\n",
       "       'stimulus.GaborGridSequence', 'stimulus.Monet2'], dtype='<U26')"
      ]
     },
     "execution_count": 147,
     "metadata": {},
     "output_type": "execute_result"
    }
   ],
   "source": [
    "np.unique(stim_types)"
   ]
  },
  {
   "cell_type": "code",
   "execution_count": null,
   "id": "43cdd5a0-d28c-416e-be81-f60da6740597",
   "metadata": {},
   "outputs": [],
   "source": [
    "all_means"
   ]
  },
  {
   "cell_type": "code",
   "execution_count": null,
   "id": "179a3b30-76d3-405a-a772-a29a9d519d45",
   "metadata": {},
   "outputs": [],
   "source": []
  },
  {
   "cell_type": "code",
   "execution_count": null,
   "id": "904ad275-3f3c-47ad-936c-c066ffe64895",
   "metadata": {},
   "outputs": [],
   "source": []
  },
  {
   "cell_type": "code",
   "execution_count": 117,
   "id": "e8f7b0cd-f4f3-4e1e-9237-afd8fadf2adc",
   "metadata": {},
   "outputs": [
    {
     "data": {
      "text/plain": [
       "np.float64(95.39872248749543)"
      ]
     },
     "execution_count": 117,
     "metadata": {},
     "output_type": "execute_result"
    }
   ],
   "source": [
    "all_means.mean()"
   ]
  },
  {
   "cell_type": "code",
   "execution_count": null,
   "id": "b5da2fbc-1f08-466a-822f-c1c5c46e798f",
   "metadata": {},
   "outputs": [],
   "source": []
  },
  {
   "cell_type": "code",
   "execution_count": null,
   "id": "5ee28530-7e84-43f3-8fbf-ff4c4e88e4fe",
   "metadata": {},
   "outputs": [],
   "source": []
  },
  {
   "cell_type": "code",
   "execution_count": 31,
   "id": "d21d8e81-1ba5-449d-8660-03267a0bb208",
   "metadata": {},
   "outputs": [
    {
     "data": {
      "text/plain": [
       "tensor(62.2854, dtype=torch.float64)"
      ]
     },
     "execution_count": 31,
     "metadata": {},
     "output_type": "execute_result"
    }
   ],
   "source": [
    "all_imgs.std()"
   ]
  },
  {
   "cell_type": "code",
   "execution_count": null,
   "id": "d320762a-eae7-4d83-a451-8d7f7827192e",
   "metadata": {},
   "outputs": [],
   "source": []
  },
  {
   "cell_type": "code",
   "execution_count": 73,
   "id": "421912f1-ff5d-41d3-bdc0-e8c8f3fce203",
   "metadata": {},
   "outputs": [
    {
     "data": {
      "text/plain": [
       "128.0"
      ]
     },
     "execution_count": 73,
     "metadata": {},
     "output_type": "execute_result"
    }
   ],
   "source": [
    "dataset._experiment.devices[\"screen\"].trials[4].interleave_value"
   ]
  },
  {
   "cell_type": "code",
   "execution_count": 13,
   "id": "bd991ea4-ae36-4f82-b817-1a4dbcbd9c4a",
   "metadata": {},
   "outputs": [
    {
     "name": "stdout",
     "output_type": "stream",
     "text": [
      "Collecting pyrootutils\n",
      "  Downloading pyrootutils-1.0.4-py3-none-any.whl.metadata (4.0 kB)\n",
      "Collecting python-dotenv>=0.20.0 (from pyrootutils)\n",
      "  Downloading python_dotenv-1.0.1-py3-none-any.whl.metadata (23 kB)\n",
      "Downloading pyrootutils-1.0.4-py3-none-any.whl (5.8 kB)\n",
      "Downloading python_dotenv-1.0.1-py3-none-any.whl (19 kB)\n",
      "Installing collected packages: python-dotenv, pyrootutils\n",
      "Successfully installed pyrootutils-1.0.4 python-dotenv-1.0.1\n",
      "\u001b[33mWARNING: Running pip as the 'root' user can result in broken permissions and conflicting behaviour with the system package manager, possibly rendering your system unusable.It is recommended to use a virtual environment instead: https://pip.pypa.io/warnings/venv. Use the --root-user-action option if you know what you are doing and want to suppress this warning.\u001b[0m\u001b[33m\n",
      "\u001b[0m"
     ]
    }
   ],
   "source": [
    "!pip install pyrootutils"
   ]
  },
  {
   "cell_type": "code",
   "execution_count": 14,
   "id": "b687ab82-f291-4e66-9f8d-03549fa49992",
   "metadata": {},
   "outputs": [],
   "source": [
    "import pyrootutils"
   ]
  },
  {
   "cell_type": "code",
   "execution_count": null,
   "id": "e85d5e89-799d-46e2-aea9-1f656d39c515",
   "metadata": {},
   "outputs": [],
   "source": []
  },
  {
   "cell_type": "code",
   "execution_count": 11,
   "id": "1377de56-dce0-42bd-bd19-ce5479658c5b",
   "metadata": {},
   "outputs": [
    {
     "data": {
      "text/plain": [
       "{'condition_hash': 'cQPM8dYeqoaHnKd4sNvl',\n",
       " 'first_frame_idx': 0,\n",
       " 'image_size': [144, 256],\n",
       " 'modality': 'video',\n",
       " 'num_frames': 300,\n",
       " 'stim_type': 'stimulus.Clip',\n",
       " 'tier': 'train',\n",
       " 'trial_idx': 0}"
      ]
     },
     "execution_count": 11,
     "metadata": {},
     "output_type": "execute_result"
    }
   ],
   "source": [
    "dataset._trials[0]._meta_data"
   ]
  },
  {
   "cell_type": "code",
   "execution_count": null,
   "id": "3f64c79d-358c-48a1-b7b5-b94574705440",
   "metadata": {},
   "outputs": [],
   "source": []
  },
  {
   "cell_type": "code",
   "execution_count": 82,
   "id": "941e9f3c-ea6e-4913-bc56-537367959b8a",
   "metadata": {},
   "outputs": [
    {
     "data": {
      "text/plain": [
       "2461"
      ]
     },
     "execution_count": 82,
     "metadata": {},
     "output_type": "execute_result"
    }
   ],
   "source": [
    "len(dataset._experiment.devices[\"screen\"].trials)"
   ]
  },
  {
   "cell_type": "code",
   "execution_count": 93,
   "id": "7d264b08-3a3b-4ea4-8a38-1d6a9196112b",
   "metadata": {},
   "outputs": [
    {
     "data": {
      "text/plain": [
       "'VideoTrial'"
      ]
     },
     "execution_count": 93,
     "metadata": {},
     "output_type": "execute_result"
    }
   ],
   "source": [
    "type(dataset._experiment.devices[\"screen\"].trials[:10][0]).__name__"
   ]
  },
  {
   "cell_type": "code",
   "execution_count": null,
   "id": "c159e917-2644-4e63-8b53-2900ce327f64",
   "metadata": {},
   "outputs": [],
   "source": []
  },
  {
   "cell_type": "code",
   "execution_count": null,
   "id": "dcba3544-6712-4ce6-8498-7a490022a337",
   "metadata": {},
   "outputs": [],
   "source": [
    "dataset"
   ]
  },
  {
   "cell_type": "code",
   "execution_count": null,
   "id": "4c2ffa55-aca4-4378-97d2-d8c894f39219",
   "metadata": {},
   "outputs": [],
   "source": [
    "dataset._experiment.devices[\"screen\"].trials[:10]"
   ]
  },
  {
   "cell_type": "code",
   "execution_count": null,
   "id": "60871e5e-5734-44fc-9cf4-8d4cb713db2f",
   "metadata": {},
   "outputs": [],
   "source": [
    "dataset._experiment.devices[\"screen\"].trials[:10]"
   ]
  },
  {
   "cell_type": "code",
   "execution_count": 80,
   "id": "7de682fc-c290-4ccd-bfc1-ccee2d83a00a",
   "metadata": {},
   "outputs": [
    {
     "data": {
      "text/plain": [
       "(2461,)"
      ]
     },
     "execution_count": 80,
     "metadata": {},
     "output_type": "execute_result"
    }
   ],
   "source": [
    "dataset._start_times.shape"
   ]
  },
  {
   "cell_type": "code",
   "execution_count": null,
   "id": "eb4b146a-9aeb-41dd-b050-74d8d796ec12",
   "metadata": {},
   "outputs": [],
   "source": [
    "data"
   ]
  },
  {
   "cell_type": "code",
   "execution_count": 77,
   "id": "f1b139f3-0f41-48e2-8e47-b08081a52191",
   "metadata": {},
   "outputs": [
    {
     "data": {
      "text/plain": [
       "array([-38.91856551, -38.66856551, -36.79356551, -36.66856551,\n",
       "       -36.54356551, -36.29356551, -35.79356551, -35.16856551,\n",
       "       -33.54356551, -32.54356551, 254.20643449, 255.58143449,\n",
       "       255.95643449, 258.33143449, 355.08143449, 355.45643449,\n",
       "       356.45643449, 357.95643449, 358.20643449, 358.33143449])"
      ]
     },
     "execution_count": 77,
     "metadata": {},
     "output_type": "execute_result"
    }
   ],
   "source": [
    "dataset._valid_screen_times[:20] - dataset._start_times[4]"
   ]
  },
  {
   "cell_type": "code",
   "execution_count": 79,
   "id": "6d44009a-9dc6-47ac-9232-c93a109723bb",
   "metadata": {},
   "outputs": [
    {
     "data": {
      "text/plain": [
       "[<matplotlib.lines.Line2D at 0x7f77a6c9d6c0>]"
      ]
     },
     "execution_count": 79,
     "metadata": {},
     "output_type": "execute_result"
    },
    {
     "data": {
      "image/png": "[encoded data removed]",
      "text/plain": [
       "<Figure size 640x480 with 1 Axes>"
      ]
     },
     "metadata": {},
     "output_type": "display_data"
    }
   ],
   "source": [
    "plt.plot(dataset._valid_screen_times[:100])"
   ]
  },
  {
   "cell_type": "code",
   "execution_count": 5,
   "id": "3e49f0cf-85c1-48af-a9d3-4bff12efe181",
   "metadata": {},
   "outputs": [
    {
     "data": {
      "text/plain": [
       "'VideoTrial'"
      ]
     },
     "execution_count": 5,
     "metadata": {},
     "output_type": "execute_result"
    }
   ],
   "source": [
    "dataset._experiment.devices[\"screen\"].trials[0].__class__.__name__"
   ]
  },
  {
   "cell_type": "code",
   "execution_count": 18,
   "id": "1d0f30a7-ace8-40a2-ab24-912e56ad7575",
   "metadata": {},
   "outputs": [
    {
     "data": {
      "text/plain": [
       "['VideoTrial',\n",
       " 'VideoTrial',\n",
       " 'VideoTrial',\n",
       " 'VideoTrial',\n",
       " 'BlankTrial',\n",
       " 'ImageTrial',\n",
       " 'BlankTrial',\n",
       " 'BlankTrial',\n",
       " 'ImageTrial',\n",
       " 'BlankTrial']"
      ]
     },
     "execution_count": 18,
     "metadata": {},
     "output_type": "execute_result"
    }
   ],
   "source": [
    "[i.__class__.__name__ for i in dataset._trials][:10]"
   ]
  },
  {
   "cell_type": "code",
   "execution_count": 19,
   "id": "1bf34cd3-c14e-4d57-9946-9d5d32a83109",
   "metadata": {},
   "outputs": [
    {
     "name": "stdout",
     "output_type": "stream",
     "text": [
      "blank after train 3\n",
      "blank after train 35\n",
      "blank before train 96\n",
      "blank after train 150\n"
     ]
    }
   ],
   "source": [
    "for k in range(200):\n",
    "    if (dataset._tiers[k]==\"blank\") & (dataset._tiers[k+1]==\"train\"):\n",
    "        print(\"blank before train\", k)\n",
    "    if (dataset._tiers[k+1]==\"blank\") & (dataset._tiers[k]==\"train\"):\n",
    "        print(\"blank after train\", k)"
   ]
  },
  {
   "cell_type": "code",
   "execution_count": null,
   "id": "93b0142a-c600-4360-a03b-5adfc1f45b54",
   "metadata": {},
   "outputs": [],
   "source": []
  },
  {
   "cell_type": "code",
   "execution_count": 116,
   "id": "38ffa900-e7c9-4428-8a05-a38c1293094e",
   "metadata": {},
   "outputs": [],
   "source": [
    "import torch\n",
    "from torch import nn"
   ]
  },
  {
   "cell_type": "code",
   "execution_count": 119,
   "id": "275a4549-1cff-455c-955a-0a05b1507322",
   "metadata": {},
   "outputs": [],
   "source": [
    "yo =nn.Embedding(100,1).to(torch.bfloat16)"
   ]
  },
  {
   "cell_type": "code",
   "execution_count": 124,
   "id": "f766723e-24a8-4c8a-b57f-e3819e465528",
   "metadata": {},
   "outputs": [
    {
     "data": {
      "text/plain": [
       "tensor([[0.4434]], dtype=torch.bfloat16, grad_fn=<EmbeddingBackward0>)"
      ]
     },
     "execution_count": 124,
     "metadata": {},
     "output_type": "execute_result"
    }
   ],
   "source": [
    "yo(torch.tensor([10],))"
   ]
  },
  {
   "cell_type": "code",
   "execution_count": 135,
   "id": "7600b428-ccf9-4e7e-843d-113c8c712d68",
   "metadata": {},
   "outputs": [
    {
     "data": {
      "text/plain": [
       "array([False, False, False, ..., False, False, False])"
      ]
     },
     "execution_count": 135,
     "metadata": {},
     "output_type": "execute_result"
    }
   ],
   "source": [
    "(np.array(dataset._tiers)==\"validation\")"
   ]
  },
  {
   "cell_type": "code",
   "execution_count": 165,
   "id": "725487a8-73b6-4f4c-876d-b1997f8987e5",
   "metadata": {},
   "outputs": [
    {
     "ename": "SyntaxError",
     "evalue": "invalid syntax (3532584661.py, line 1)",
     "output_type": "error",
     "traceback": [
      "\u001b[0;36m  Cell \u001b[0;32mIn[165], line 1\u001b[0;36m\u001b[0m\n\u001b[0;31m    dataset._trials[]\u001b[0m\n\u001b[0m                    ^\u001b[0m\n\u001b[0;31mSyntaxError\u001b[0m\u001b[0;31m:\u001b[0m invalid syntax\n"
     ]
    }
   ],
   "source": [
    "dataset._trials[]"
   ]
  },
  {
   "cell_type": "code",
   "execution_count": 137,
   "id": "26199e3b-7d50-4e0f-8128-14ef9df0b7bb",
   "metadata": {},
   "outputs": [
    {
     "data": {
      "text/plain": [
       "(36,)"
      ]
     },
     "execution_count": 137,
     "metadata": {},
     "output_type": "execute_result"
    }
   ],
   "source": [
    "np.array(dataset._trials)[(np.array(dataset._tiers)==\"validation\")].shape"
   ]
  },
  {
   "cell_type": "code",
   "execution_count": null,
   "id": "2993a9a0-e03e-453c-9e7b-3dae8d87946a",
   "metadata": {},
   "outputs": [],
   "source": [
    "360"
   ]
  },
  {
   "cell_type": "code",
   "execution_count": 3,
   "id": "f26910d5-ed43-4811-8304-1728a862288c",
   "metadata": {},
   "outputs": [],
   "source": [
    "root_folder = \"/data/mouse_datasets/dynamic29228-2-10-Video-sensorium23_full_256_144/\"\n",
    "sampling_rate = 8  # Hz\n",
    "chunk_size = 16 \n",
    "tier=\"test\"\n",
    "sample_stride=8\n",
    "include_blanks=True\n",
    "dataset = ChunkDataset(root_folder=root_folder, \n",
    "                       chunk_size=chunk_size, \n",
    "                       sampling_rate=sampling_rate,\n",
    "                      tier=tier,\n",
    "                      sample_stride=sample_stride,\n",
    "                      include_blanks=include_blanks,)"
   ]
  },
  {
   "cell_type": "code",
   "execution_count": 15,
   "id": "687b2264-f4a7-4ff7-8537-825547270a9d",
   "metadata": {},
   "outputs": [
    {
     "name": "stderr",
     "output_type": "stream",
     "text": [
      "  0% 0/228 [00:00<?, ?it/s]\n"
     ]
    },
    {
     "ename": "NameError",
     "evalue": "name 'askdgasd' is not defined",
     "output_type": "error",
     "traceback": [
      "\u001b[0;31m---------------------------------------------------------------------------\u001b[0m",
      "\u001b[0;31mNameError\u001b[0m                                 Traceback (most recent call last)",
      "Cell \u001b[0;32mIn[15], line 7\u001b[0m\n\u001b[1;32m      1\u001b[0m \u001b[38;5;66;03m# The interpolation of the data isn't terribly fast, so I'd recommend to set num workers to >= 4\u001b[39;00m\n\u001b[1;32m      2\u001b[0m dataloader \u001b[38;5;241m=\u001b[39m MultiEpochsDataLoader(dataset, \n\u001b[1;32m      3\u001b[0m                         batch_size\u001b[38;5;241m=\u001b[39m\u001b[38;5;241m16\u001b[39m, \n\u001b[1;32m      4\u001b[0m                         shuffle\u001b[38;5;241m=\u001b[39m\u001b[38;5;28;01mTrue\u001b[39;00m, \n\u001b[1;32m      5\u001b[0m                         num_workers\u001b[38;5;241m=\u001b[39m\u001b[38;5;241m0\u001b[39m, \n\u001b[1;32m      6\u001b[0m                         persistent_workers\u001b[38;5;241m=\u001b[39m\u001b[38;5;241m0\u001b[39m)\n\u001b[0;32m----> 7\u001b[0m \u001b[38;5;28;01mfor\u001b[39;00m b \u001b[38;5;129;01min\u001b[39;00m tqdm(dataloader):\n\u001b[1;32m      8\u001b[0m     \u001b[38;5;66;03m#print((b[\"screen\"][:,:,0,0,:4] == np.array([128,128,128,128])).sum())\u001b[39;00m\n\u001b[1;32m      9\u001b[0m     \u001b[38;5;28;01mpass\u001b[39;00m\n",
      "File \u001b[0;32m/usr/local/lib/python3.10/dist-packages/tqdm/std.py:1181\u001b[0m, in \u001b[0;36mtqdm.__iter__\u001b[0;34m(self)\u001b[0m\n\u001b[1;32m   1178\u001b[0m time \u001b[38;5;241m=\u001b[39m \u001b[38;5;28mself\u001b[39m\u001b[38;5;241m.\u001b[39m_time\n\u001b[1;32m   1180\u001b[0m \u001b[38;5;28;01mtry\u001b[39;00m:\n\u001b[0;32m-> 1181\u001b[0m     \u001b[38;5;28;01mfor\u001b[39;00m obj \u001b[38;5;129;01min\u001b[39;00m iterable:\n\u001b[1;32m   1182\u001b[0m         \u001b[38;5;28;01myield\u001b[39;00m obj\n\u001b[1;32m   1183\u001b[0m         \u001b[38;5;66;03m# Update and possibly print the progressbar.\u001b[39;00m\n\u001b[1;32m   1184\u001b[0m         \u001b[38;5;66;03m# Note: does not call self.update(1) for speed optimisation.\u001b[39;00m\n",
      "File \u001b[0;32m/data/experanto/experanto/utils.py:72\u001b[0m, in \u001b[0;36mMultiEpochsDataLoader.__iter__\u001b[0;34m(self)\u001b[0m\n\u001b[1;32m     70\u001b[0m \u001b[38;5;28;01mdef\u001b[39;00m \u001b[38;5;21m__iter__\u001b[39m(\u001b[38;5;28mself\u001b[39m):\n\u001b[1;32m     71\u001b[0m     \u001b[38;5;28;01mfor\u001b[39;00m i \u001b[38;5;129;01min\u001b[39;00m \u001b[38;5;28mrange\u001b[39m(\u001b[38;5;28mlen\u001b[39m(\u001b[38;5;28mself\u001b[39m)):\n\u001b[0;32m---> 72\u001b[0m         \u001b[38;5;28;01myield\u001b[39;00m \u001b[38;5;28;43mnext\u001b[39;49m\u001b[43m(\u001b[49m\u001b[38;5;28;43mself\u001b[39;49m\u001b[38;5;241;43m.\u001b[39;49m\u001b[43miterator\u001b[49m\u001b[43m)\u001b[49m\n",
      "File \u001b[0;32m/usr/local/lib/python3.10/dist-packages/torch/utils/data/dataloader.py:701\u001b[0m, in \u001b[0;36m_BaseDataLoaderIter.__next__\u001b[0;34m(self)\u001b[0m\n\u001b[1;32m    698\u001b[0m \u001b[38;5;28;01mif\u001b[39;00m \u001b[38;5;28mself\u001b[39m\u001b[38;5;241m.\u001b[39m_sampler_iter \u001b[38;5;129;01mis\u001b[39;00m \u001b[38;5;28;01mNone\u001b[39;00m:\n\u001b[1;32m    699\u001b[0m     \u001b[38;5;66;03m# TODO(https://github.com/pytorch/pytorch/issues/76750)\u001b[39;00m\n\u001b[1;32m    700\u001b[0m     \u001b[38;5;28mself\u001b[39m\u001b[38;5;241m.\u001b[39m_reset()  \u001b[38;5;66;03m# type: ignore[call-arg]\u001b[39;00m\n\u001b[0;32m--> 701\u001b[0m data \u001b[38;5;241m=\u001b[39m \u001b[38;5;28;43mself\u001b[39;49m\u001b[38;5;241;43m.\u001b[39;49m\u001b[43m_next_data\u001b[49m\u001b[43m(\u001b[49m\u001b[43m)\u001b[49m\n\u001b[1;32m    702\u001b[0m \u001b[38;5;28mself\u001b[39m\u001b[38;5;241m.\u001b[39m_num_yielded \u001b[38;5;241m+\u001b[39m\u001b[38;5;241m=\u001b[39m \u001b[38;5;241m1\u001b[39m\n\u001b[1;32m    703\u001b[0m \u001b[38;5;28;01mif\u001b[39;00m (\n\u001b[1;32m    704\u001b[0m     \u001b[38;5;28mself\u001b[39m\u001b[38;5;241m.\u001b[39m_dataset_kind \u001b[38;5;241m==\u001b[39m _DatasetKind\u001b[38;5;241m.\u001b[39mIterable\n\u001b[1;32m    705\u001b[0m     \u001b[38;5;129;01mand\u001b[39;00m \u001b[38;5;28mself\u001b[39m\u001b[38;5;241m.\u001b[39m_IterableDataset_len_called \u001b[38;5;129;01mis\u001b[39;00m \u001b[38;5;129;01mnot\u001b[39;00m \u001b[38;5;28;01mNone\u001b[39;00m\n\u001b[1;32m    706\u001b[0m     \u001b[38;5;129;01mand\u001b[39;00m \u001b[38;5;28mself\u001b[39m\u001b[38;5;241m.\u001b[39m_num_yielded \u001b[38;5;241m>\u001b[39m \u001b[38;5;28mself\u001b[39m\u001b[38;5;241m.\u001b[39m_IterableDataset_len_called\n\u001b[1;32m    707\u001b[0m ):\n",
      "File \u001b[0;32m/usr/local/lib/python3.10/dist-packages/torch/utils/data/dataloader.py:757\u001b[0m, in \u001b[0;36m_SingleProcessDataLoaderIter._next_data\u001b[0;34m(self)\u001b[0m\n\u001b[1;32m    755\u001b[0m \u001b[38;5;28;01mdef\u001b[39;00m \u001b[38;5;21m_next_data\u001b[39m(\u001b[38;5;28mself\u001b[39m):\n\u001b[1;32m    756\u001b[0m     index \u001b[38;5;241m=\u001b[39m \u001b[38;5;28mself\u001b[39m\u001b[38;5;241m.\u001b[39m_next_index()  \u001b[38;5;66;03m# may raise StopIteration\u001b[39;00m\n\u001b[0;32m--> 757\u001b[0m     data \u001b[38;5;241m=\u001b[39m \u001b[38;5;28;43mself\u001b[39;49m\u001b[38;5;241;43m.\u001b[39;49m\u001b[43m_dataset_fetcher\u001b[49m\u001b[38;5;241;43m.\u001b[39;49m\u001b[43mfetch\u001b[49m\u001b[43m(\u001b[49m\u001b[43mindex\u001b[49m\u001b[43m)\u001b[49m  \u001b[38;5;66;03m# may raise StopIteration\u001b[39;00m\n\u001b[1;32m    758\u001b[0m     \u001b[38;5;28;01mif\u001b[39;00m \u001b[38;5;28mself\u001b[39m\u001b[38;5;241m.\u001b[39m_pin_memory:\n\u001b[1;32m    759\u001b[0m         data \u001b[38;5;241m=\u001b[39m _utils\u001b[38;5;241m.\u001b[39mpin_memory\u001b[38;5;241m.\u001b[39mpin_memory(data, \u001b[38;5;28mself\u001b[39m\u001b[38;5;241m.\u001b[39m_pin_memory_device)\n",
      "File \u001b[0;32m/usr/local/lib/python3.10/dist-packages/torch/utils/data/_utils/fetch.py:52\u001b[0m, in \u001b[0;36m_MapDatasetFetcher.fetch\u001b[0;34m(self, possibly_batched_index)\u001b[0m\n\u001b[1;32m     50\u001b[0m         data \u001b[38;5;241m=\u001b[39m \u001b[38;5;28mself\u001b[39m\u001b[38;5;241m.\u001b[39mdataset\u001b[38;5;241m.\u001b[39m__getitems__(possibly_batched_index)\n\u001b[1;32m     51\u001b[0m     \u001b[38;5;28;01melse\u001b[39;00m:\n\u001b[0;32m---> 52\u001b[0m         data \u001b[38;5;241m=\u001b[39m [\u001b[38;5;28mself\u001b[39m\u001b[38;5;241m.\u001b[39mdataset[idx] \u001b[38;5;28;01mfor\u001b[39;00m idx \u001b[38;5;129;01min\u001b[39;00m possibly_batched_index]\n\u001b[1;32m     53\u001b[0m \u001b[38;5;28;01melse\u001b[39;00m:\n\u001b[1;32m     54\u001b[0m     data \u001b[38;5;241m=\u001b[39m \u001b[38;5;28mself\u001b[39m\u001b[38;5;241m.\u001b[39mdataset[possibly_batched_index]\n",
      "File \u001b[0;32m/usr/local/lib/python3.10/dist-packages/torch/utils/data/_utils/fetch.py:52\u001b[0m, in \u001b[0;36m<listcomp>\u001b[0;34m(.0)\u001b[0m\n\u001b[1;32m     50\u001b[0m         data \u001b[38;5;241m=\u001b[39m \u001b[38;5;28mself\u001b[39m\u001b[38;5;241m.\u001b[39mdataset\u001b[38;5;241m.\u001b[39m__getitems__(possibly_batched_index)\n\u001b[1;32m     51\u001b[0m     \u001b[38;5;28;01melse\u001b[39;00m:\n\u001b[0;32m---> 52\u001b[0m         data \u001b[38;5;241m=\u001b[39m [\u001b[38;5;28;43mself\u001b[39;49m\u001b[38;5;241;43m.\u001b[39;49m\u001b[43mdataset\u001b[49m\u001b[43m[\u001b[49m\u001b[43midx\u001b[49m\u001b[43m]\u001b[49m \u001b[38;5;28;01mfor\u001b[39;00m idx \u001b[38;5;129;01min\u001b[39;00m possibly_batched_index]\n\u001b[1;32m     53\u001b[0m \u001b[38;5;28;01melse\u001b[39;00m:\n\u001b[1;32m     54\u001b[0m     data \u001b[38;5;241m=\u001b[39m \u001b[38;5;28mself\u001b[39m\u001b[38;5;241m.\u001b[39mdataset[possibly_batched_index]\n",
      "File \u001b[0;32m/data/experanto/experanto/datasets.py:42\u001b[0m, in \u001b[0;36mSimpleChunkedDataset.__getitem__\u001b[0;34m(self, idx)\u001b[0m\n\u001b[1;32m     40\u001b[0m s \u001b[38;5;241m=\u001b[39m idx \u001b[38;5;241m*\u001b[39m \u001b[38;5;28mself\u001b[39m\u001b[38;5;241m.\u001b[39mchunk_size\n\u001b[1;32m     41\u001b[0m times \u001b[38;5;241m=\u001b[39m \u001b[38;5;28mself\u001b[39m\u001b[38;5;241m.\u001b[39m_sample_times[s : s \u001b[38;5;241m+\u001b[39m \u001b[38;5;28mself\u001b[39m\u001b[38;5;241m.\u001b[39mchunk_size]\n\u001b[0;32m---> 42\u001b[0m data, _ \u001b[38;5;241m=\u001b[39m \u001b[38;5;28;43mself\u001b[39;49m\u001b[38;5;241;43m.\u001b[39;49m\u001b[43m_experiment\u001b[49m\u001b[38;5;241;43m.\u001b[39;49m\u001b[43minterpolate\u001b[49m\u001b[43m(\u001b[49m\u001b[43mtimes\u001b[49m\u001b[43m)\u001b[49m\n\u001b[1;32m     43\u001b[0m phase_shifts \u001b[38;5;241m=\u001b[39m \u001b[38;5;28mself\u001b[39m\u001b[38;5;241m.\u001b[39m_experiment\u001b[38;5;241m.\u001b[39mdevices[\u001b[38;5;124m\"\u001b[39m\u001b[38;5;124mresponses\u001b[39m\u001b[38;5;124m\"\u001b[39m]\u001b[38;5;241m.\u001b[39m_phase_shifts\n\u001b[1;32m     44\u001b[0m timestamps_neurons \u001b[38;5;241m=\u001b[39m (times \u001b[38;5;241m-\u001b[39m times\u001b[38;5;241m.\u001b[39mmin())[:, \u001b[38;5;28;01mNone\u001b[39;00m] \u001b[38;5;241m+\u001b[39m phase_shifts[\u001b[38;5;28;01mNone\u001b[39;00m, :]\n",
      "File \u001b[0;32m/data/experanto/experanto/experiment.py:56\u001b[0m, in \u001b[0;36mExperiment.interpolate\u001b[0;34m(self, times, device)\u001b[0m\n\u001b[1;32m     54\u001b[0m     valid \u001b[38;5;241m=\u001b[39m {}\n\u001b[1;32m     55\u001b[0m     \u001b[38;5;28;01mfor\u001b[39;00m d, interp \u001b[38;5;129;01min\u001b[39;00m \u001b[38;5;28mself\u001b[39m\u001b[38;5;241m.\u001b[39mdevices\u001b[38;5;241m.\u001b[39mitems():\n\u001b[0;32m---> 56\u001b[0m         values[d], valid[d] \u001b[38;5;241m=\u001b[39m \u001b[43minterp\u001b[49m\u001b[38;5;241;43m.\u001b[39;49m\u001b[43minterpolate\u001b[49m\u001b[43m(\u001b[49m\u001b[43mtimes\u001b[49m\u001b[43m)\u001b[49m\n\u001b[1;32m     57\u001b[0m \u001b[38;5;28;01melif\u001b[39;00m \u001b[38;5;28misinstance\u001b[39m(device, \u001b[38;5;28mstr\u001b[39m):\n\u001b[1;32m     58\u001b[0m     \u001b[38;5;28;01massert\u001b[39;00m device \u001b[38;5;129;01min\u001b[39;00m \u001b[38;5;28mself\u001b[39m\u001b[38;5;241m.\u001b[39mdevices, \u001b[38;5;124m\"\u001b[39m\u001b[38;5;124mUnknown device \u001b[39m\u001b[38;5;124m'\u001b[39m\u001b[38;5;132;01m{}\u001b[39;00m\u001b[38;5;124m'\u001b[39m\u001b[38;5;124m\"\u001b[39m\u001b[38;5;241m.\u001b[39mformat(device)\n",
      "File \u001b[0;32m/data/experanto/experanto/interpolators.py:362\u001b[0m, in \u001b[0;36mScreenInterpolator.interpolate\u001b[0;34m(self, times)\u001b[0m\n\u001b[1;32m    359\u001b[0m \u001b[38;5;28;01mif\u001b[39;00m \u001b[38;5;28mself\u001b[39m\u001b[38;5;241m.\u001b[39mrescale:\n\u001b[1;32m    360\u001b[0m     orig_size \u001b[38;5;241m=\u001b[39m data[idx[idx_for_this_file] \u001b[38;5;241m-\u001b[39m \u001b[38;5;28mself\u001b[39m\u001b[38;5;241m.\u001b[39m_first_frame_idx[u_idx]]\n\u001b[1;32m    361\u001b[0m     out[idx_for_this_file] \u001b[38;5;241m=\u001b[39m np\u001b[38;5;241m.\u001b[39mstack(\n\u001b[0;32m--> 362\u001b[0m         [\n\u001b[1;32m    363\u001b[0m             \u001b[38;5;28mself\u001b[39m\u001b[38;5;241m.\u001b[39mrescale_frame(np\u001b[38;5;241m.\u001b[39masarray(frame, dtype\u001b[38;5;241m=\u001b[39mnp\u001b[38;5;241m.\u001b[39mfloat32)\u001b[38;5;241m.\u001b[39mT)\u001b[38;5;241m.\u001b[39mT\n\u001b[1;32m    364\u001b[0m             \u001b[38;5;28;01mfor\u001b[39;00m frame \u001b[38;5;129;01min\u001b[39;00m orig_size\n\u001b[1;32m    365\u001b[0m         ]\n\u001b[1;32m    366\u001b[0m     )\n\u001b[1;32m    367\u001b[0m \u001b[38;5;28;01melse\u001b[39;00m:\n\u001b[1;32m    368\u001b[0m     out[idx_for_this_file] \u001b[38;5;241m=\u001b[39m data[\n\u001b[1;32m    369\u001b[0m         idx[idx_for_this_file] \u001b[38;5;241m-\u001b[39m \u001b[38;5;28mself\u001b[39m\u001b[38;5;241m.\u001b[39m_first_frame_idx[u_idx]\n\u001b[1;32m    370\u001b[0m     ]\n",
      "File \u001b[0;32m/data/experanto/experanto/interpolators.py:363\u001b[0m, in \u001b[0;36m<listcomp>\u001b[0;34m(.0)\u001b[0m\n\u001b[1;32m    359\u001b[0m \u001b[38;5;28;01mif\u001b[39;00m \u001b[38;5;28mself\u001b[39m\u001b[38;5;241m.\u001b[39mrescale:\n\u001b[1;32m    360\u001b[0m     orig_size \u001b[38;5;241m=\u001b[39m data[idx[idx_for_this_file] \u001b[38;5;241m-\u001b[39m \u001b[38;5;28mself\u001b[39m\u001b[38;5;241m.\u001b[39m_first_frame_idx[u_idx]]\n\u001b[1;32m    361\u001b[0m     out[idx_for_this_file] \u001b[38;5;241m=\u001b[39m np\u001b[38;5;241m.\u001b[39mstack(\n\u001b[1;32m    362\u001b[0m         [\n\u001b[0;32m--> 363\u001b[0m             \u001b[38;5;28;43mself\u001b[39;49m\u001b[38;5;241;43m.\u001b[39;49m\u001b[43mrescale_frame\u001b[49m\u001b[43m(\u001b[49m\u001b[43mnp\u001b[49m\u001b[38;5;241;43m.\u001b[39;49m\u001b[43masarray\u001b[49m\u001b[43m(\u001b[49m\u001b[43mframe\u001b[49m\u001b[43m,\u001b[49m\u001b[43m \u001b[49m\u001b[43mdtype\u001b[49m\u001b[38;5;241;43m=\u001b[39;49m\u001b[43mnp\u001b[49m\u001b[38;5;241;43m.\u001b[39;49m\u001b[43mfloat32\u001b[49m\u001b[43m)\u001b[49m\u001b[38;5;241;43m.\u001b[39;49m\u001b[43mT\u001b[49m\u001b[43m)\u001b[49m\u001b[38;5;241m.\u001b[39mT\n\u001b[1;32m    364\u001b[0m             \u001b[38;5;28;01mfor\u001b[39;00m frame \u001b[38;5;129;01min\u001b[39;00m orig_size\n\u001b[1;32m    365\u001b[0m         ]\n\u001b[1;32m    366\u001b[0m     )\n\u001b[1;32m    367\u001b[0m \u001b[38;5;28;01melse\u001b[39;00m:\n\u001b[1;32m    368\u001b[0m     out[idx_for_this_file] \u001b[38;5;241m=\u001b[39m data[\n\u001b[1;32m    369\u001b[0m         idx[idx_for_this_file] \u001b[38;5;241m-\u001b[39m \u001b[38;5;28mself\u001b[39m\u001b[38;5;241m.\u001b[39m_first_frame_idx[u_idx]\n\u001b[1;32m    370\u001b[0m     ]\n",
      "File \u001b[0;32m/data/experanto/experanto/interpolators.py:385\u001b[0m, in \u001b[0;36mScreenInterpolator.rescale_frame\u001b[0;34m(self, frame)\u001b[0m\n\u001b[1;32m    376\u001b[0m \u001b[38;5;250m\u001b[39m\u001b[38;5;124;03m\"\"\"\u001b[39;00m\n\u001b[1;32m    377\u001b[0m \u001b[38;5;124;03mChanges the resolution of the image to this size.\u001b[39;00m\n\u001b[1;32m    378\u001b[0m \u001b[38;5;124;03mReturns: Rescaled image\u001b[39;00m\n\u001b[1;32m    379\u001b[0m \u001b[38;5;124;03m\"\"\"\u001b[39;00m\n\u001b[1;32m    381\u001b[0m \u001b[38;5;28;01mif\u001b[39;00m (\n\u001b[1;32m    382\u001b[0m     \u001b[38;5;129;01mnot\u001b[39;00m frame\u001b[38;5;241m.\u001b[39mshape[\u001b[38;5;241m0\u001b[39m] \u001b[38;5;241m/\u001b[39m \u001b[38;5;28mself\u001b[39m\u001b[38;5;241m.\u001b[39m_image_size[\u001b[38;5;241m0\u001b[39m]\n\u001b[1;32m    383\u001b[0m     \u001b[38;5;241m==\u001b[39m frame\u001b[38;5;241m.\u001b[39mshape[\u001b[38;5;241m1\u001b[39m] \u001b[38;5;241m/\u001b[39m \u001b[38;5;28mself\u001b[39m\u001b[38;5;241m.\u001b[39m_image_size[\u001b[38;5;241m1\u001b[39m]\n\u001b[1;32m    384\u001b[0m ):\n\u001b[0;32m--> 385\u001b[0m     \u001b[43maskdgasd\u001b[49m\n\u001b[1;32m    386\u001b[0m     warnings\u001b[38;5;241m.\u001b[39mwarn(\u001b[38;5;124m\"\u001b[39m\u001b[38;5;124mImage size changes aspect ratio.\u001b[39m\u001b[38;5;124m\"\u001b[39m)\n\u001b[1;32m    387\u001b[0m \u001b[38;5;28;01mreturn\u001b[39;00m cv2\u001b[38;5;241m.\u001b[39mresize(frame, \u001b[38;5;28mself\u001b[39m\u001b[38;5;241m.\u001b[39m_image_size, interpolation\u001b[38;5;241m=\u001b[39mcv2\u001b[38;5;241m.\u001b[39mINTER_AREA)\u001b[38;5;241m.\u001b[39mastype(\n\u001b[1;32m    388\u001b[0m     np\u001b[38;5;241m.\u001b[39mfloat32\n\u001b[1;32m    389\u001b[0m )\n",
      "\u001b[0;31mNameError\u001b[0m: name 'askdgasd' is not defined"
     ]
    }
   ],
   "source": [
    "# The interpolation of the data isn't terribly fast, so I'd recommend to set num workers to >= 4\n",
    "dataloader = MultiEpochsDataLoader(dataset, \n",
    "                        batch_size=16, \n",
    "                        shuffle=True, \n",
    "                        num_workers=0, \n",
    "                        persistent_workers=0)\n",
    "for b in tqdm(dataloader):\n",
    "    #print((b[\"screen\"][:,:,0,0,:4] == np.array([128,128,128,128])).sum())\n",
    "    pass"
   ]
  },
  {
   "cell_type": "code",
   "execution_count": 18,
   "id": "ad2d2e6a-c87f-4240-be4d-061cbe6812c1",
   "metadata": {},
   "outputs": [
    {
     "ename": "AttributeError",
     "evalue": "'SimpleChunkedDataset' object has no attribute 'trials'",
     "output_type": "error",
     "traceback": [
      "\u001b[0;31m---------------------------------------------------------------------------\u001b[0m",
      "\u001b[0;31mAttributeError\u001b[0m                            Traceback (most recent call last)",
      "Cell \u001b[0;32mIn[18], line 1\u001b[0m\n\u001b[0;32m----> 1\u001b[0m \u001b[43mdataset\u001b[49m\u001b[38;5;241;43m.\u001b[39;49m\u001b[43mtrials\u001b[49m\n",
      "\u001b[0;31mAttributeError\u001b[0m: 'SimpleChunkedDataset' object has no attribute 'trials'"
     ]
    }
   ],
   "source": [
    "dataset."
   ]
  },
  {
   "cell_type": "code",
   "execution_count": 10,
   "id": "3ea2a53b-d947-4dde-9450-271325bc33f5",
   "metadata": {},
   "outputs": [],
   "source": [
    "dataset.shuffle_valid_screen_times()"
   ]
  },
  {
   "cell_type": "code",
   "execution_count": null,
   "id": "a4fd5cfc-ca76-4e16-8edc-f4f4912f5923",
   "metadata": {},
   "outputs": [],
   "source": []
  },
  {
   "cell_type": "code",
   "execution_count": 6,
   "id": "3fd432b5-6379-4dc5-9191-5c62831ee34d",
   "metadata": {},
   "outputs": [
    {
     "name": "stdout",
     "output_type": "stream",
     "text": [
      "> \u001b[0;32m/data/experanto/experanto/datasets.py\u001b[0m(326)\u001b[0;36m__getitem__\u001b[0;34m()\u001b[0m\n",
      "\u001b[0;32m    324 \u001b[0;31m        \u001b[0mtimes\u001b[0m \u001b[0;34m=\u001b[0m \u001b[0mnp\u001b[0m\u001b[0;34m.\u001b[0m\u001b[0mlinspace\u001b[0m\u001b[0;34m(\u001b[0m\u001b[0ms\u001b[0m\u001b[0;34m,\u001b[0m \u001b[0ms\u001b[0m \u001b[0;34m+\u001b[0m \u001b[0mself\u001b[0m\u001b[0;34m.\u001b[0m\u001b[0mchunk_s\u001b[0m\u001b[0;34m,\u001b[0m \u001b[0mself\u001b[0m\u001b[0;34m.\u001b[0m\u001b[0mchunk_size\u001b[0m\u001b[0;34m,\u001b[0m \u001b[0mendpoint\u001b[0m\u001b[0;34m=\u001b[0m\u001b[0;32mFalse\u001b[0m\u001b[0;34m)\u001b[0m\u001b[0;34m\u001b[0m\u001b[0;34m\u001b[0m\u001b[0m\n",
      "\u001b[0m\u001b[0;32m    325 \u001b[0;31m        \u001b[0mdata\u001b[0m\u001b[0;34m,\u001b[0m \u001b[0m_\u001b[0m \u001b[0;34m=\u001b[0m \u001b[0mself\u001b[0m\u001b[0;34m.\u001b[0m\u001b[0m_experiment\u001b[0m\u001b[0;34m.\u001b[0m\u001b[0minterpolate\u001b[0m\u001b[0;34m(\u001b[0m\u001b[0mtimes\u001b[0m\u001b[0;34m)\u001b[0m\u001b[0;34m\u001b[0m\u001b[0;34m\u001b[0m\u001b[0m\n",
      "\u001b[0m\u001b[0;32m--> 326 \u001b[0;31m        \u001b[0masdsad\u001b[0m\u001b[0;34m\u001b[0m\u001b[0;34m\u001b[0m\u001b[0m\n",
      "\u001b[0m\u001b[0;32m    327 \u001b[0;31m        \u001b[0mphase_shifts\u001b[0m \u001b[0;34m=\u001b[0m \u001b[0mself\u001b[0m\u001b[0;34m.\u001b[0m\u001b[0m_experiment\u001b[0m\u001b[0;34m.\u001b[0m\u001b[0mdevices\u001b[0m\u001b[0;34m[\u001b[0m\u001b[0;34m\"responses\"\u001b[0m\u001b[0;34m]\u001b[0m\u001b[0;34m.\u001b[0m\u001b[0m_phase_shifts\u001b[0m\u001b[0;34m\u001b[0m\u001b[0;34m\u001b[0m\u001b[0m\n",
      "\u001b[0m\u001b[0;32m    328 \u001b[0;31m        \u001b[0mtimestamps_neurons\u001b[0m \u001b[0;34m=\u001b[0m \u001b[0;34m(\u001b[0m\u001b[0mtimes\u001b[0m \u001b[0;34m-\u001b[0m \u001b[0mtimes\u001b[0m\u001b[0;34m.\u001b[0m\u001b[0mmin\u001b[0m\u001b[0;34m(\u001b[0m\u001b[0;34m)\u001b[0m\u001b[0;34m)\u001b[0m\u001b[0;34m[\u001b[0m\u001b[0;34m:\u001b[0m\u001b[0;34m,\u001b[0m \u001b[0;32mNone\u001b[0m\u001b[0;34m]\u001b[0m \u001b[0;34m+\u001b[0m \u001b[0mphase_shifts\u001b[0m\u001b[0;34m[\u001b[0m\u001b[0;32mNone\u001b[0m\u001b[0;34m,\u001b[0m \u001b[0;34m:\u001b[0m\u001b[0;34m]\u001b[0m\u001b[0;34m\u001b[0m\u001b[0;34m\u001b[0m\u001b[0m\n",
      "\u001b[0m\n"
     ]
    },
    {
     "name": "stdin",
     "output_type": "stream",
     "text": [
      "ipdb>  times.shape\n"
     ]
    },
    {
     "name": "stdout",
     "output_type": "stream",
     "text": [
      "(16,)\n"
     ]
    },
    {
     "name": "stdin",
     "output_type": "stream",
     "text": [
      "ipdb>  np.diff(times)\n"
     ]
    },
    {
     "name": "stdout",
     "output_type": "stream",
     "text": [
      "array([0.125, 0.125, 0.125, 0.125, 0.125, 0.125, 0.125, 0.125, 0.125,\n",
      "       0.125, 0.125, 0.125, 0.125, 0.125, 0.125])\n"
     ]
    },
    {
     "name": "stdin",
     "output_type": "stream",
     "text": [
      "ipdb>  q\n"
     ]
    }
   ],
   "source": [
    "%debug"
   ]
  },
  {
   "cell_type": "code",
   "execution_count": null,
   "id": "5862953b-03a9-4d4d-8e10-5b6374631a51",
   "metadata": {},
   "outputs": [],
   "source": [
    "np.linspace"
   ]
  },
  {
   "cell_type": "code",
   "execution_count": 12,
   "id": "cd758e0e-61d4-4f8f-8fdc-e78600910132",
   "metadata": {},
   "outputs": [
    {
     "name": "stdout",
     "output_type": "stream",
     "text": [
      "> \u001b[0;32m/data/experanto/experanto/datasets.py\u001b[0m(324)\u001b[0;36m__getitem__\u001b[0;34m()\u001b[0m\n",
      "\u001b[0;32m    322 \u001b[0;31m        \u001b[0ms\u001b[0m \u001b[0;34m=\u001b[0m \u001b[0mself\u001b[0m\u001b[0;34m.\u001b[0m\u001b[0m_valid_screen_times\u001b[0m\u001b[0;34m[\u001b[0m\u001b[0midx\u001b[0m\u001b[0;34m]\u001b[0m\u001b[0;34m\u001b[0m\u001b[0;34m\u001b[0m\u001b[0m\n",
      "\u001b[0m\u001b[0;32m    323 \u001b[0;31m        \u001b[0mtimes\u001b[0m \u001b[0;34m=\u001b[0m \u001b[0mnp\u001b[0m\u001b[0;34m.\u001b[0m\u001b[0mlinspace\u001b[0m\u001b[0;34m(\u001b[0m\u001b[0ms\u001b[0m\u001b[0;34m,\u001b[0m \u001b[0ms\u001b[0m \u001b[0;34m+\u001b[0m \u001b[0mself\u001b[0m\u001b[0;34m.\u001b[0m\u001b[0mchunk_s\u001b[0m\u001b[0;34m,\u001b[0m \u001b[0mself\u001b[0m\u001b[0;34m.\u001b[0m\u001b[0mchunk_size\u001b[0m \u001b[0;34m+\u001b[0m \u001b[0;36m1\u001b[0m\u001b[0;34m)\u001b[0m\u001b[0;34m[\u001b[0m\u001b[0;34m:\u001b[0m\u001b[0mself\u001b[0m\u001b[0;34m.\u001b[0m\u001b[0mchunk_size\u001b[0m\u001b[0;34m]\u001b[0m\u001b[0;34m\u001b[0m\u001b[0;34m\u001b[0m\u001b[0m\n",
      "\u001b[0m\u001b[0;32m--> 324 \u001b[0;31m        \u001b[0masdasd\u001b[0m\u001b[0;34m\u001b[0m\u001b[0;34m\u001b[0m\u001b[0m\n",
      "\u001b[0m\u001b[0;32m    325 \u001b[0;31m        \u001b[0mdata\u001b[0m\u001b[0;34m,\u001b[0m \u001b[0m_\u001b[0m \u001b[0;34m=\u001b[0m \u001b[0mself\u001b[0m\u001b[0;34m.\u001b[0m\u001b[0m_experiment\u001b[0m\u001b[0;34m.\u001b[0m\u001b[0minterpolate\u001b[0m\u001b[0;34m(\u001b[0m\u001b[0mtimes\u001b[0m\u001b[0;34m)\u001b[0m\u001b[0;34m\u001b[0m\u001b[0;34m\u001b[0m\u001b[0m\n",
      "\u001b[0m\u001b[0;32m    326 \u001b[0;31m        \u001b[0mphase_shifts\u001b[0m \u001b[0;34m=\u001b[0m \u001b[0mself\u001b[0m\u001b[0;34m.\u001b[0m\u001b[0m_experiment\u001b[0m\u001b[0;34m.\u001b[0m\u001b[0mdevices\u001b[0m\u001b[0;34m[\u001b[0m\u001b[0;34m\"responses\"\u001b[0m\u001b[0;34m]\u001b[0m\u001b[0;34m.\u001b[0m\u001b[0m_phase_shifts\u001b[0m\u001b[0;34m\u001b[0m\u001b[0;34m\u001b[0m\u001b[0m\n",
      "\u001b[0m\n"
     ]
    },
    {
     "name": "stdin",
     "output_type": "stream",
     "text": [
      "ipdb>  times.shape\n"
     ]
    },
    {
     "name": "stdout",
     "output_type": "stream",
     "text": [
      "(16,)\n"
     ]
    },
    {
     "name": "stdin",
     "output_type": "stream",
     "text": [
      "ipdb>  np.diff(times)\n"
     ]
    },
    {
     "name": "stdout",
     "output_type": "stream",
     "text": [
      "array([0.125, 0.125, 0.125, 0.125, 0.125, 0.125, 0.125, 0.125, 0.125,\n",
      "       0.125, 0.125, 0.125, 0.125, 0.125, 0.125])\n"
     ]
    },
    {
     "name": "stdin",
     "output_type": "stream",
     "text": [
      "ipdb>  times = np.linspace(s, s + self.chunk_s, self.chunk_size, endpoint=False)\n",
      "ipdb>  np.diff(times)\n"
     ]
    },
    {
     "name": "stdout",
     "output_type": "stream",
     "text": [
      "array([0.125, 0.125, 0.125, 0.125, 0.125, 0.125, 0.125, 0.125, 0.125,\n",
      "       0.125, 0.125, 0.125, 0.125, 0.125, 0.125])\n"
     ]
    },
    {
     "name": "stdin",
     "output_type": "stream",
     "text": [
      "ipdb>  q\n"
     ]
    }
   ],
   "source": [
    "%debug"
   ]
  },
  {
   "cell_type": "code",
   "execution_count": 51,
   "id": "f404bdfe-d298-4a59-a0a9-7a596ef49cef",
   "metadata": {},
   "outputs": [],
   "source": [
    "config = {\n",
    "    \"screen\": {\"rescale\": True, \"normalize\": False},\n",
    "    \"responses\": {\n",
    "        \"keep_nans\": True,\n",
    "        \"interpolation_mode\": \"nearest_neighbor\",\n",
    "    },\n",
    "    \"eye_tracker\": {\n",
    "        \"keep_nans\": True,\n",
    "        \"interpolation_mode\": \"nearest_neighbor\",\n",
    "    },\n",
    "    \"treadmill\": {\n",
    "        \"keep_nans\": True,\n",
    "        \"interpolation_mode\": \"nearest_neighbor\",\n",
    "    },\n",
    "}"
   ]
  },
  {
   "cell_type": "code",
   "execution_count": 52,
   "id": "b152fa09-a432-480f-b687-5fb0037c98e2",
   "metadata": {},
   "outputs": [],
   "source": [
    "#root_folder = \"/data/mouse_datasets/dynamic29228-2-10-Video-sensorium23_full_256_144/\"\n",
    "root_folder = \"/data/mouse_polly/dynamic29515-10-12-Video-full/\"\n",
    "sampling_rate = 8  # Hz\n",
    "chunk_size = 16 \n",
    "tier=\"train\"\n",
    "sample_stride=16\n",
    "include_blanks=True\n",
    "dataset = ChunkDataset(root_folder=root_folder, \n",
    "                               chunk_size=chunk_size, \n",
    "                               sampling_rate=sampling_rate,\n",
    "                               sample_stride=sample_stride,\n",
    "                               tier=tier,\n",
    "                               interp_config=config,\n",
    "                               include_blanks=include_blanks,\n",
    "                      )"
   ]
  },
  {
   "cell_type": "code",
   "execution_count": 68,
   "id": "bdbd3694-7e90-4384-b325-d6109a233344",
   "metadata": {},
   "outputs": [
    {
     "name": "stderr",
     "output_type": "stream",
     "text": [
      "/data/experanto/experanto/interpolators.py:385: UserWarning: Image size changes aspect ratio.\n",
      "  askdgasd\n",
      "/data/experanto/experanto/interpolators.py:385: UserWarning: Image size changes aspect ratio.\n",
      "  askdgasd\n",
      "/data/experanto/experanto/interpolators.py:385: UserWarning: Image size changes aspect ratio.\n",
      "  askdgasd\n",
      "/data/experanto/experanto/interpolators.py:385: UserWarning: Image size changes aspect ratio.\n",
      "  askdgasd\n",
      "/data/experanto/experanto/interpolators.py:385: UserWarning: Image size changes aspect ratio.\n",
      "  askdgasd\n",
      "/data/experanto/experanto/interpolators.py:385: UserWarning: Image size changes aspect ratio.\n",
      "  askdgasd\n",
      "/data/experanto/experanto/interpolators.py:385: UserWarning: Image size changes aspect ratio.\n",
      "  askdgasd\n",
      "/data/experanto/experanto/interpolators.py:385: UserWarning: Image size changes aspect ratio.\n",
      "  askdgasd\n",
      "/data/experanto/experanto/interpolators.py:385: UserWarning: Image size changes aspect ratio.\n",
      "  askdgasd\n",
      "/data/experanto/experanto/interpolators.py:385: UserWarning: Image size changes aspect ratio.\n",
      "  askdgasd\n",
      "/data/experanto/experanto/interpolators.py:385: UserWarning: Image size changes aspect ratio.\n",
      "  askdgasd\n",
      "/data/experanto/experanto/interpolators.py:385: UserWarning: Image size changes aspect ratio.\n",
      "  askdgasd\n",
      "100% 99/99 [00:02<00:00, 34.97it/s]\n"
     ]
    }
   ],
   "source": [
    "# The interpolation of the data isn't terribly fast, so I'd recommend to set num workers to >= 4\n",
    "dataloader = MultiEpochsDataLoader(dataset, \n",
    "                        batch_size=16, \n",
    "                        shuffle=True, \n",
    "                        num_workers=12, \n",
    "                        persistent_workers=True)\n",
    "for b in tqdm(dataloader):\n",
    "    #print((b[\"screen\"][:,:,0,0,:4] == np.array([128,128,128,128])).sum())\n",
    "    pass"
   ]
  },
  {
   "cell_type": "markdown",
   "id": "cd2fe4f0-00ce-4c2a-afb5-af377c5db537",
   "metadata": {},
   "source": [
    "# todos today"
   ]
  },
  {
   "cell_type": "code",
   "execution_count": null,
   "id": "b7d40af9-4ceb-451f-a2f4-53591d2aff91",
   "metadata": {},
   "outputs": [],
   "source": []
  },
  {
   "cell_type": "code",
   "execution_count": null,
   "id": "16ea16ae-86ed-43de-8de3-1ad3c367f568",
   "metadata": {},
   "outputs": [],
   "source": [
    "- check if blanks are actually there\n",
    "- redo train/val logic\n",
    "- add transforms\n",
    "- add config logic"
   ]
  },
  {
   "cell_type": "code",
   "execution_count": 101,
   "id": "e83d8c6c-c019-4d4a-ae3f-626eae82aec8",
   "metadata": {},
   "outputs": [
    {
     "data": {
      "text/plain": [
       "300.0"
      ]
     },
     "execution_count": 101,
     "metadata": {},
     "output_type": "execute_result"
    }
   ],
   "source": [
    "300000/1e3"
   ]
  },
  {
   "cell_type": "code",
   "execution_count": 102,
   "id": "8298465a-52e9-4ca3-8266-177039bf952e",
   "metadata": {},
   "outputs": [
    {
     "data": {
      "text/plain": [
       "192"
      ]
     },
     "execution_count": 102,
     "metadata": {},
     "output_type": "execute_result"
    }
   ],
   "source": [
    "8*24"
   ]
  },
  {
   "cell_type": "code",
   "execution_count": 103,
   "id": "7ef07642-de5f-4840-bc53-2050354c48ec",
   "metadata": {},
   "outputs": [
    {
     "data": {
      "text/plain": [
       "1500"
      ]
     },
     "execution_count": 103,
     "metadata": {},
     "output_type": "execute_result"
    }
   ],
   "source": [
    "5*300"
   ]
  },
  {
   "cell_type": "code",
   "execution_count": null,
   "id": "7c59a3f4-a340-41b2-b880-abe419cc7e25",
   "metadata": {},
   "outputs": [],
   "source": []
  }
 ],
 "metadata": {
  "kernelspec": {
   "display_name": "Python 3 (ipykernel)",
   "language": "python",
   "name": "python3"
  },
  "language_info": {
   "codemirror_mode": {
    "name": "ipython",
    "version": 3
   },
   "file_extension": ".py",
   "mimetype": "text/x-python",
   "name": "python",
   "nbconvert_exporter": "python",
   "pygments_lexer": "ipython3",
   "version": "3.10.12"
  }
 },
 "nbformat": 4,
 "nbformat_minor": 5
}
