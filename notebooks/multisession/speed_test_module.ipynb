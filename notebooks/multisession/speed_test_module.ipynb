{
 "cells": [
  {
   "cell_type": "code",
   "execution_count": 4,
   "id": "4d0b1ced-3de0-4b34-9eae-6aed9d5330dc",
   "metadata": {},
   "outputs": [],
   "source": [
    "import torch\n",
    "from torch import nn"
   ]
  },
  {
   "cell_type": "code",
   "execution_count": 121,
   "id": "e5bd6d5e-e445-4fd4-a75b-344b0fa064bc",
   "metadata": {},
   "outputs": [],
   "source": [
    "class MyModule(nn.ModuleDict):\n",
    "    def __init__(self, keys, n_neurons, dim):\n",
    "        super().__init__()\n",
    "        for k, n in zip(keys, n_neurons):\n",
    "            self.add_module(k, nn.Embedding(n,dim, dtype=torch.bfloat16))\n",
    "    def forward(self, x,):\n",
    "        return x"
   ]
  },
  {
   "cell_type": "code",
   "execution_count": 122,
   "id": "f6784e48-f02d-4704-a939-a1206133e1fe",
   "metadata": {},
   "outputs": [],
   "source": []
  },
  {
   "cell_type": "code",
   "execution_count": 123,
   "id": "396b3fe6-fced-452c-b3a6-fdfd6c3a2c01",
   "metadata": {},
   "outputs": [],
   "source": [
    "import numpy as np\n"
   ]
  },
  {
   "cell_type": "code",
   "execution_count": 124,
   "id": "9e38cac4-6bd6-4f7b-892d-1499bb1e14fc",
   "metadata": {},
   "outputs": [
    {
     "data": {
      "text/plain": [
       "array(['0', '1', '2', '3', '4', '5', '6', '7', '8', '9'], dtype='<U21')"
      ]
     },
     "execution_count": 124,
     "metadata": {},
     "output_type": "execute_result"
    }
   ],
   "source": [
    "(np.arange(10)).astype(str)"
   ]
  },
  {
   "cell_type": "code",
   "execution_count": 150,
   "id": "a73813d2-466f-46cb-bbb8-471ef93b1cc2",
   "metadata": {},
   "outputs": [],
   "source": [
    "d=128\n",
    "n=400\n",
    "n_embed=10000\n",
    "yo={k: v for k,v in zip(np.arange(n).astype(str),[n_embed]*n)}\n",
    "\n",
    "readout = MyModule(yo.keys(), yo.values(), dim=d)\n",
    "full_embedding=nn.Embedding(n*n_embed,d, dtype=torch.bfloat16)"
   ]
  },
  {
   "cell_type": "code",
   "execution_count": 157,
   "id": "19c117a6-0a65-4e3b-b1a1-8e1cbe3894ab",
   "metadata": {},
   "outputs": [
    {
     "data": {
      "text/plain": [
       "512000000"
      ]
     },
     "execution_count": 157,
     "metadata": {},
     "output_type": "execute_result"
    }
   ],
   "source": [
    "n_params = 0\n",
    "for n, p in readout.named_parameters():\n",
    "    n_params+=torch.numel(p)\n",
    "n_params"
   ]
  },
  {
   "cell_type": "code",
   "execution_count": 158,
   "id": "2ad14011-0eac-4e11-b5e7-bc136bff79e6",
   "metadata": {},
   "outputs": [
    {
     "data": {
      "text/plain": [
       "512000000"
      ]
     },
     "execution_count": 158,
     "metadata": {},
     "output_type": "execute_result"
    }
   ],
   "source": [
    "n_params = 0\n",
    "for n, p in full_embedding.named_parameters():\n",
    "    n_params+=torch.numel(p)\n",
    "n_params"
   ]
  },
  {
   "cell_type": "code",
   "execution_count": 169,
   "id": "15adb344-86d1-4ff9-926a-f21c034243b8",
   "metadata": {},
   "outputs": [
    {
     "data": {
      "text/plain": [
       "tensor([[ 0.6758, -1.0547, -0.0596,  ...,  1.7188,  1.2578, -0.2910],\n",
       "        [-1.6953,  0.3887,  0.1514,  ..., -0.1670, -0.1406,  1.0391],\n",
       "        [ 0.0050,  0.6016,  1.0312,  ...,  0.3496, -0.7344,  0.2793],\n",
       "        ...,\n",
       "        [ 0.8555, -0.7852,  0.5391,  ..., -0.1494,  0.2949,  0.9727],\n",
       "        [-0.6445, -1.1562, -1.0547,  ..., -0.8047,  0.6758,  0.1387],\n",
       "        [ 1.6641, -0.5742,  0.4668,  ..., -0.0295,  0.7695, -0.0659]],\n",
       "       dtype=torch.bfloat16, grad_fn=<EmbeddingBackward0>)"
      ]
     },
     "execution_count": 169,
     "metadata": {},
     "output_type": "execute_result"
    }
   ],
   "source": []
  },
  {
   "cell_type": "code",
   "execution_count": null,
   "id": "07807d92-c38b-41ab-bdde-931d885f091a",
   "metadata": {},
   "outputs": [],
   "source": []
  },
  {
   "cell_type": "code",
   "execution_count": 241,
   "id": "9a348b98-fd30-4a78-b7b5-49e376c87096",
   "metadata": {},
   "outputs": [],
   "source": [
    "\n",
    "for i, k in enumerate(np.random.choice(np.arange(400), 50)):\n",
    "    x = readout[str(k)].weight\n"
   ]
  },
  {
   "cell_type": "code",
   "execution_count": 242,
   "id": "c12fcf61-9c06-4724-9adf-1b73362fb3cc",
   "metadata": {},
   "outputs": [
    {
     "data": {
      "text/plain": [
       "49"
      ]
     },
     "execution_count": 242,
     "metadata": {},
     "output_type": "execute_result"
    }
   ],
   "source": [
    "i"
   ]
  },
  {
   "cell_type": "code",
   "execution_count": 207,
   "id": "4b5ed69c-b30a-48c7-91a3-69d081c6b5d2",
   "metadata": {},
   "outputs": [],
   "source": [
    "randints = []\n",
    "for i in range(50):\n",
    "    randints.append(torch.randint(0,10000*100, (10000,1)))"
   ]
  },
  {
   "cell_type": "code",
   "execution_count": 243,
   "id": "ea76a9cc-f20e-438d-b20f-81551c7d0f9a",
   "metadata": {},
   "outputs": [
    {
     "name": "stdout",
     "output_type": "stream",
     "text": [
      "The slowest run took 174.47 times longer than the fastest. This could mean that an intermediate result is being cached.\n",
      "159 ms ± 246 ms per loop (mean ± std. dev. of 7 runs, 1 loop each)\n"
     ]
    }
   ],
   "source": [
    "%%timeit\n",
    "yoyo = torch.LongTensor(np.arange(10000))\n",
    "for k in range(50):\n",
    "    x = full_embedding(yoyo)\n"
   ]
  },
  {
   "cell_type": "code",
   "execution_count": 231,
   "id": "0da59744-0d14-4131-b1d7-da001ca3a720",
   "metadata": {},
   "outputs": [],
   "source": [
    "x = full_embedding(torch.LongTensor(np.arange(100)))"
   ]
  },
  {
   "cell_type": "code",
   "execution_count": 235,
   "id": "181b2034-35c6-49f9-9d8e-f3aa35546c7d",
   "metadata": {},
   "outputs": [],
   "source": [
    "x = readout[str(k)].weight"
   ]
  },
  {
   "cell_type": "code",
   "execution_count": 248,
   "id": "5a055029-cf0b-4d78-92c4-e8728bcfb142",
   "metadata": {},
   "outputs": [],
   "source": [
    "x = full_embedding(torch.LongTensor([1,2]))"
   ]
  },
  {
   "cell_type": "code",
   "execution_count": 249,
   "id": "85aec77f-097f-482b-beb7-1e6d546f34a7",
   "metadata": {},
   "outputs": [
    {
     "data": {
      "text/plain": [
       "torch.Size([2, 128])"
      ]
     },
     "execution_count": 249,
     "metadata": {},
     "output_type": "execute_result"
    }
   ],
   "source": [
    "x.shape"
   ]
  },
  {
   "cell_type": "code",
   "execution_count": null,
   "id": "c87baad6-6cac-4453-b2a9-8396f30e7136",
   "metadata": {},
   "outputs": [],
   "source": []
  },
  {
   "cell_type": "code",
   "execution_count": null,
   "id": "c867354c-a23a-44bc-a02a-24cdaa9e3ca1",
   "metadata": {},
   "outputs": [],
   "source": []
  },
  {
   "cell_type": "code",
   "execution_count": null,
   "id": "97f5d3c9-b0e3-462f-9c2f-66c59fb14713",
   "metadata": {},
   "outputs": [],
   "source": []
  }
 ],
 "metadata": {
  "kernelspec": {
   "display_name": "Python 3 (ipykernel)",
   "language": "python",
   "name": "python3"
  },
  "language_info": {
   "codemirror_mode": {
    "name": "ipython",
    "version": 3
   },
   "file_extension": ".py",
   "mimetype": "text/x-python",
   "name": "python",
   "nbconvert_exporter": "python",
   "pygments_lexer": "ipython3",
   "version": "3.10.12"
  }
 },
 "nbformat": 4,
 "nbformat_minor": 5
}
