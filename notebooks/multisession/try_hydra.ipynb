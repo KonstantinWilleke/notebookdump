{
 "cells": [
  {
   "cell_type": "code",
   "execution_count": 9,
   "id": "78998648-e827-453a-ad6c-8e06797f12dc",
   "metadata": {},
   "outputs": [],
   "source": [
    "import hydra\n",
    "from omegaconf import DictConfig\n",
    "import os\n",
    "\n",
    "from hydra import initialize, compose\n",
    "from omegaconf import OmegaConf\n",
    "\n",
    "with initialize(version_base=None, config_path=\".\", ):\n",
    "    cfg = compose(config_name='config.yaml')\n",
    "    print(OmegaConf.to_yaml(cfg))"
   ]
  },
  {
   "cell_type": "code",
   "execution_count": 21,
   "id": "47892606-d3bf-4b93-8eb1-094905c0cbe1",
   "metadata": {},
   "outputs": [],
   "source": [
    "import experanto"
   ]
  },
  {
   "cell_type": "code",
   "execution_count": null,
   "id": "81c44b42-f6a1-40e8-ac6b-b81778e13b17",
   "metadata": {},
   "outputs": [],
   "source": []
  },
  {
   "cell_type": "code",
   "execution_count": null,
   "id": "17b2003a-45eb-496b-9bfe-f91680176347",
   "metadata": {},
   "outputs": [],
   "source": []
  },
  {
   "cell_type": "code",
   "execution_count": 27,
   "id": "7a145bf6-e760-49dd-b058-0329c7716ca9",
   "metadata": {},
   "outputs": [
    {
     "name": "stdout",
     "output_type": "stream",
     "text": [
      "model:\n",
      "  activation: SiLU\n",
      "  loss: CrossEntropy\n",
      "optimizer:\n",
      "  name: AdamW\n",
      "  lr: 0.01\n",
      "  momentum: true\n",
      "data:\n",
      "  augmentation:\n",
      "    enable: true\n",
      "    types:\n",
      "    - affine\n",
      "    - hue\n",
      "\n"
     ]
    }
   ],
   "source": [
    "from hydra import initialize, compose\n",
    "from omegaconf import OmegaConf\n",
    "\n",
    "with initialize(version_base=None, config_path=\".\", ):\n",
    "    cfg = compose(config_name='config.yaml')\n",
    "    print(OmegaConf.to_yaml(cfg))"
   ]
  },
  {
   "cell_type": "code",
   "execution_count": 31,
   "id": "664d6791-f2c8-4709-833b-7390e4ca06f6",
   "metadata": {},
   "outputs": [
    {
     "data": {
      "text/plain": [
       "omegaconf.dictconfig.DictConfig"
      ]
     },
     "execution_count": 31,
     "metadata": {},
     "output_type": "execute_result"
    }
   ],
   "source": [
    "type(cfg)"
   ]
  },
  {
   "cell_type": "code",
   "execution_count": 33,
   "id": "03d92dc7-6b89-45d5-85eb-e9fa71fee32e",
   "metadata": {},
   "outputs": [
    {
     "name": "stdout",
     "output_type": "stream",
     "text": [
      "activation\n",
      "loss\n"
     ]
    }
   ],
   "source": [
    "for k, v in cfg[\"model\"].items():\n",
    "    print(k)"
   ]
  },
  {
   "cell_type": "code",
   "execution_count": 35,
   "id": "16a5f4bf-c878-4f60-acc7-f7c7bf18462f",
   "metadata": {},
   "outputs": [
    {
     "data": {
      "text/plain": [
       "'SiLU'"
      ]
     },
     "execution_count": 35,
     "metadata": {},
     "output_type": "execute_result"
    }
   ],
   "source": [
    "cfg.model.activation"
   ]
  },
  {
   "cell_type": "code",
   "execution_count": null,
   "id": "f712402f-3285-4053-9666-9a7c1842c31f",
   "metadata": {},
   "outputs": [],
   "source": []
  }
 ],
 "metadata": {
  "kernelspec": {
   "display_name": "Python 3 (ipykernel)",
   "language": "python",
   "name": "python3"
  },
  "language_info": {
   "codemirror_mode": {
    "name": "ipython",
    "version": 3
   },
   "file_extension": ".py",
   "mimetype": "text/x-python",
   "name": "python",
   "nbconvert_exporter": "python",
   "pygments_lexer": "ipython3",
   "version": "3.10.12"
  }
 },
 "nbformat": 4,
 "nbformat_minor": 5
}
